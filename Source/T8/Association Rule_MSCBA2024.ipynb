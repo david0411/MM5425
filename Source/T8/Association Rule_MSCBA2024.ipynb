{
 "cells": [
  {
   "cell_type": "markdown",
   "id": "2a60c037",
   "metadata": {},
   "source": [
    "# Association Rule"
   ]
  },
  {
   "cell_type": "markdown",
   "id": "729ba93b",
   "metadata": {},
   "source": [
    "## Example1: Faceplates Promotion\n",
    "A store that sells accessories for cellular phones runs a promotion on faceplates. The store managers would like\n",
    "to know what colors of faceplates customers are likely to purchase together."
   ]
  },
  {
   "cell_type": "code",
   "execution_count": 1,
   "id": "c4dece20",
   "metadata": {
    "ExecuteTime": {
     "end_time": "2024-03-15T06:41:22.883377Z",
     "start_time": "2024-03-15T06:41:21.171377Z"
    }
   },
   "outputs": [],
   "source": [
    "# import libraries for data management\n",
    "import numpy as np\n",
    "import pandas as pd"
   ]
  },
  {
   "cell_type": "code",
   "execution_count": 2,
   "id": "e0a0062e",
   "metadata": {
    "ExecuteTime": {
     "end_time": "2024-03-15T06:41:32.691990Z",
     "start_time": "2024-03-15T06:41:32.555441Z"
    }
   },
   "outputs": [
    {
     "data": {
      "text/plain": "             Red  White  Blue  Orange  Green  Yellow\nTransaction                                         \n1              1      1     0       0      1       0\n2              0      1     0       1      0       0\n3              0      1     1       0      0       0\n4              1      1     0       1      0       0\n5              1      0     1       0      0       0\n6              0      1     1       0      0       0\n7              1      0     1       0      0       0\n8              1      1     1       0      1       0\n9              1      1     1       0      0       0\n10             0      0     0       0      0       1",
      "text/html": "<div>\n<style scoped>\n    .dataframe tbody tr th:only-of-type {\n        vertical-align: middle;\n    }\n\n    .dataframe tbody tr th {\n        vertical-align: top;\n    }\n\n    .dataframe thead th {\n        text-align: right;\n    }\n</style>\n<table border=\"1\" class=\"dataframe\">\n  <thead>\n    <tr style=\"text-align: right;\">\n      <th></th>\n      <th>Red</th>\n      <th>White</th>\n      <th>Blue</th>\n      <th>Orange</th>\n      <th>Green</th>\n      <th>Yellow</th>\n    </tr>\n    <tr>\n      <th>Transaction</th>\n      <th></th>\n      <th></th>\n      <th></th>\n      <th></th>\n      <th></th>\n      <th></th>\n    </tr>\n  </thead>\n  <tbody>\n    <tr>\n      <th>1</th>\n      <td>1</td>\n      <td>1</td>\n      <td>0</td>\n      <td>0</td>\n      <td>1</td>\n      <td>0</td>\n    </tr>\n    <tr>\n      <th>2</th>\n      <td>0</td>\n      <td>1</td>\n      <td>0</td>\n      <td>1</td>\n      <td>0</td>\n      <td>0</td>\n    </tr>\n    <tr>\n      <th>3</th>\n      <td>0</td>\n      <td>1</td>\n      <td>1</td>\n      <td>0</td>\n      <td>0</td>\n      <td>0</td>\n    </tr>\n    <tr>\n      <th>4</th>\n      <td>1</td>\n      <td>1</td>\n      <td>0</td>\n      <td>1</td>\n      <td>0</td>\n      <td>0</td>\n    </tr>\n    <tr>\n      <th>5</th>\n      <td>1</td>\n      <td>0</td>\n      <td>1</td>\n      <td>0</td>\n      <td>0</td>\n      <td>0</td>\n    </tr>\n    <tr>\n      <th>6</th>\n      <td>0</td>\n      <td>1</td>\n      <td>1</td>\n      <td>0</td>\n      <td>0</td>\n      <td>0</td>\n    </tr>\n    <tr>\n      <th>7</th>\n      <td>1</td>\n      <td>0</td>\n      <td>1</td>\n      <td>0</td>\n      <td>0</td>\n      <td>0</td>\n    </tr>\n    <tr>\n      <th>8</th>\n      <td>1</td>\n      <td>1</td>\n      <td>1</td>\n      <td>0</td>\n      <td>1</td>\n      <td>0</td>\n    </tr>\n    <tr>\n      <th>9</th>\n      <td>1</td>\n      <td>1</td>\n      <td>1</td>\n      <td>0</td>\n      <td>0</td>\n      <td>0</td>\n    </tr>\n    <tr>\n      <th>10</th>\n      <td>0</td>\n      <td>0</td>\n      <td>0</td>\n      <td>0</td>\n      <td>0</td>\n      <td>1</td>\n    </tr>\n  </tbody>\n</table>\n</div>"
     },
     "execution_count": 2,
     "metadata": {},
     "output_type": "execute_result"
    }
   ],
   "source": [
    "# load dataset\n",
    "data = pd.read_csv('Faceplate.csv', index_col='Transaction')\n",
    "data"
   ]
  },
  {
   "cell_type": "code",
   "execution_count": 3,
   "id": "7bf73d6c",
   "metadata": {
    "ExecuteTime": {
     "end_time": "2024-03-15T06:42:06.907552Z",
     "start_time": "2024-03-15T06:42:06.870807Z"
    }
   },
   "outputs": [],
   "source": [
    "# if using local computer: import libraries for association rule generation by using: \n",
    "    # conda config --add channels conda-forge\n",
    "    # conda install mlxtend\n",
    "        # http://rasbt.github.io/mlxtend/\n",
    "from mlxtend.frequent_patterns import apriori\n",
    "from mlxtend.frequent_patterns import association_rules"
   ]
  },
  {
   "cell_type": "code",
   "execution_count": 4,
   "id": "b5a33eba",
   "metadata": {
    "ExecuteTime": {
     "end_time": "2024-03-15T06:42:08.255323Z",
     "start_time": "2024-03-15T06:42:08.236325Z"
    }
   },
   "outputs": [],
   "source": [
    "# data = data.astype('bool')\n",
    "# data"
   ]
  },
  {
   "cell_type": "code",
   "execution_count": 5,
   "id": "674b35d4",
   "metadata": {
    "ExecuteTime": {
     "end_time": "2024-03-15T06:42:12.040775Z",
     "start_time": "2024-03-15T06:42:12.013776Z"
    }
   },
   "outputs": [
    {
     "name": "stderr",
     "output_type": "stream",
     "text": [
      "C:\\Users\\David\\IdeaProjects\\MM5425\\venv\\lib\\site-packages\\mlxtend\\frequent_patterns\\fpcommon.py:109: DeprecationWarning: DataFrames with non-bool types result in worse computationalperformance and their support might be discontinued in the future.Please use a DataFrame with bool type\n",
      "  warnings.warn(\n"
     ]
    }
   ],
   "source": [
    "# Create frequent itemsets\n",
    "itemsets = apriori (data, min_support=0.2, use_colnames=True)"
   ]
  },
  {
   "cell_type": "code",
   "execution_count": 6,
   "id": "3fbc096a",
   "metadata": {
    "ExecuteTime": {
     "end_time": "2024-03-15T06:42:29.422882Z",
     "start_time": "2024-03-15T06:42:29.382872Z"
    }
   },
   "outputs": [
    {
     "data": {
      "text/plain": "    support             itemsets\n0       0.6                (Red)\n1       0.7              (White)\n2       0.6               (Blue)\n3       0.2             (Orange)\n4       0.2              (Green)\n5       0.4         (Red, White)\n6       0.4          (Red, Blue)\n7       0.2         (Red, Green)\n8       0.4        (Blue, White)\n9       0.2      (Orange, White)\n10      0.2       (Green, White)\n11      0.2   (Red, Blue, White)\n12      0.2  (Red, Green, White)",
      "text/html": "<div>\n<style scoped>\n    .dataframe tbody tr th:only-of-type {\n        vertical-align: middle;\n    }\n\n    .dataframe tbody tr th {\n        vertical-align: top;\n    }\n\n    .dataframe thead th {\n        text-align: right;\n    }\n</style>\n<table border=\"1\" class=\"dataframe\">\n  <thead>\n    <tr style=\"text-align: right;\">\n      <th></th>\n      <th>support</th>\n      <th>itemsets</th>\n    </tr>\n  </thead>\n  <tbody>\n    <tr>\n      <th>0</th>\n      <td>0.6</td>\n      <td>(Red)</td>\n    </tr>\n    <tr>\n      <th>1</th>\n      <td>0.7</td>\n      <td>(White)</td>\n    </tr>\n    <tr>\n      <th>2</th>\n      <td>0.6</td>\n      <td>(Blue)</td>\n    </tr>\n    <tr>\n      <th>3</th>\n      <td>0.2</td>\n      <td>(Orange)</td>\n    </tr>\n    <tr>\n      <th>4</th>\n      <td>0.2</td>\n      <td>(Green)</td>\n    </tr>\n    <tr>\n      <th>5</th>\n      <td>0.4</td>\n      <td>(Red, White)</td>\n    </tr>\n    <tr>\n      <th>6</th>\n      <td>0.4</td>\n      <td>(Red, Blue)</td>\n    </tr>\n    <tr>\n      <th>7</th>\n      <td>0.2</td>\n      <td>(Red, Green)</td>\n    </tr>\n    <tr>\n      <th>8</th>\n      <td>0.4</td>\n      <td>(Blue, White)</td>\n    </tr>\n    <tr>\n      <th>9</th>\n      <td>0.2</td>\n      <td>(Orange, White)</td>\n    </tr>\n    <tr>\n      <th>10</th>\n      <td>0.2</td>\n      <td>(Green, White)</td>\n    </tr>\n    <tr>\n      <th>11</th>\n      <td>0.2</td>\n      <td>(Red, Blue, White)</td>\n    </tr>\n    <tr>\n      <th>12</th>\n      <td>0.2</td>\n      <td>(Red, Green, White)</td>\n    </tr>\n  </tbody>\n</table>\n</div>"
     },
     "execution_count": 6,
     "metadata": {},
     "output_type": "execute_result"
    }
   ],
   "source": [
    "itemsets"
   ]
  },
  {
   "cell_type": "code",
   "execution_count": 7,
   "id": "a6d8c166",
   "metadata": {
    "ExecuteTime": {
     "end_time": "2024-03-15T06:42:32.789984Z",
     "start_time": "2024-03-15T06:42:32.710395Z"
    }
   },
   "outputs": [
    {
     "data": {
      "text/plain": "       antecedents   consequents  antecedent support  consequent support  \\\n0            (Red)       (White)                 0.6                 0.7   \n1          (White)         (Red)                 0.7                 0.6   \n2            (Red)        (Blue)                 0.6                 0.6   \n3           (Blue)         (Red)                 0.6                 0.6   \n4          (Green)         (Red)                 0.2                 0.6   \n5           (Blue)       (White)                 0.6                 0.7   \n6          (White)        (Blue)                 0.7                 0.6   \n7         (Orange)       (White)                 0.2                 0.7   \n8          (Green)       (White)                 0.2                 0.7   \n9      (Red, Blue)       (White)                 0.4                 0.7   \n10    (Red, White)        (Blue)                 0.4                 0.6   \n11   (Blue, White)         (Red)                 0.4                 0.6   \n12    (Red, Green)       (White)                 0.2                 0.7   \n13    (Red, White)       (Green)                 0.4                 0.2   \n14  (Green, White)         (Red)                 0.2                 0.6   \n15         (Green)  (Red, White)                 0.2                 0.4   \n\n    support  confidence      lift  leverage  conviction  zhangs_metric  \n0       0.4    0.666667  0.952381     -0.02    0.900000      -0.111111  \n1       0.4    0.571429  0.952381     -0.02    0.933333      -0.142857  \n2       0.4    0.666667  1.111111      0.04    1.200000       0.250000  \n3       0.4    0.666667  1.111111      0.04    1.200000       0.250000  \n4       0.2    1.000000  1.666667      0.08         inf       0.500000  \n5       0.4    0.666667  0.952381     -0.02    0.900000      -0.111111  \n6       0.4    0.571429  0.952381     -0.02    0.933333      -0.142857  \n7       0.2    1.000000  1.428571      0.06         inf       0.375000  \n8       0.2    1.000000  1.428571      0.06         inf       0.375000  \n9       0.2    0.500000  0.714286     -0.08    0.600000      -0.400000  \n10      0.2    0.500000  0.833333     -0.04    0.800000      -0.250000  \n11      0.2    0.500000  0.833333     -0.04    0.800000      -0.250000  \n12      0.2    1.000000  1.428571      0.06         inf       0.375000  \n13      0.2    0.500000  2.500000      0.12    1.600000       1.000000  \n14      0.2    1.000000  1.666667      0.08         inf       0.500000  \n15      0.2    1.000000  2.500000      0.12         inf       0.750000  ",
      "text/html": "<div>\n<style scoped>\n    .dataframe tbody tr th:only-of-type {\n        vertical-align: middle;\n    }\n\n    .dataframe tbody tr th {\n        vertical-align: top;\n    }\n\n    .dataframe thead th {\n        text-align: right;\n    }\n</style>\n<table border=\"1\" class=\"dataframe\">\n  <thead>\n    <tr style=\"text-align: right;\">\n      <th></th>\n      <th>antecedents</th>\n      <th>consequents</th>\n      <th>antecedent support</th>\n      <th>consequent support</th>\n      <th>support</th>\n      <th>confidence</th>\n      <th>lift</th>\n      <th>leverage</th>\n      <th>conviction</th>\n      <th>zhangs_metric</th>\n    </tr>\n  </thead>\n  <tbody>\n    <tr>\n      <th>0</th>\n      <td>(Red)</td>\n      <td>(White)</td>\n      <td>0.6</td>\n      <td>0.7</td>\n      <td>0.4</td>\n      <td>0.666667</td>\n      <td>0.952381</td>\n      <td>-0.02</td>\n      <td>0.900000</td>\n      <td>-0.111111</td>\n    </tr>\n    <tr>\n      <th>1</th>\n      <td>(White)</td>\n      <td>(Red)</td>\n      <td>0.7</td>\n      <td>0.6</td>\n      <td>0.4</td>\n      <td>0.571429</td>\n      <td>0.952381</td>\n      <td>-0.02</td>\n      <td>0.933333</td>\n      <td>-0.142857</td>\n    </tr>\n    <tr>\n      <th>2</th>\n      <td>(Red)</td>\n      <td>(Blue)</td>\n      <td>0.6</td>\n      <td>0.6</td>\n      <td>0.4</td>\n      <td>0.666667</td>\n      <td>1.111111</td>\n      <td>0.04</td>\n      <td>1.200000</td>\n      <td>0.250000</td>\n    </tr>\n    <tr>\n      <th>3</th>\n      <td>(Blue)</td>\n      <td>(Red)</td>\n      <td>0.6</td>\n      <td>0.6</td>\n      <td>0.4</td>\n      <td>0.666667</td>\n      <td>1.111111</td>\n      <td>0.04</td>\n      <td>1.200000</td>\n      <td>0.250000</td>\n    </tr>\n    <tr>\n      <th>4</th>\n      <td>(Green)</td>\n      <td>(Red)</td>\n      <td>0.2</td>\n      <td>0.6</td>\n      <td>0.2</td>\n      <td>1.000000</td>\n      <td>1.666667</td>\n      <td>0.08</td>\n      <td>inf</td>\n      <td>0.500000</td>\n    </tr>\n    <tr>\n      <th>5</th>\n      <td>(Blue)</td>\n      <td>(White)</td>\n      <td>0.6</td>\n      <td>0.7</td>\n      <td>0.4</td>\n      <td>0.666667</td>\n      <td>0.952381</td>\n      <td>-0.02</td>\n      <td>0.900000</td>\n      <td>-0.111111</td>\n    </tr>\n    <tr>\n      <th>6</th>\n      <td>(White)</td>\n      <td>(Blue)</td>\n      <td>0.7</td>\n      <td>0.6</td>\n      <td>0.4</td>\n      <td>0.571429</td>\n      <td>0.952381</td>\n      <td>-0.02</td>\n      <td>0.933333</td>\n      <td>-0.142857</td>\n    </tr>\n    <tr>\n      <th>7</th>\n      <td>(Orange)</td>\n      <td>(White)</td>\n      <td>0.2</td>\n      <td>0.7</td>\n      <td>0.2</td>\n      <td>1.000000</td>\n      <td>1.428571</td>\n      <td>0.06</td>\n      <td>inf</td>\n      <td>0.375000</td>\n    </tr>\n    <tr>\n      <th>8</th>\n      <td>(Green)</td>\n      <td>(White)</td>\n      <td>0.2</td>\n      <td>0.7</td>\n      <td>0.2</td>\n      <td>1.000000</td>\n      <td>1.428571</td>\n      <td>0.06</td>\n      <td>inf</td>\n      <td>0.375000</td>\n    </tr>\n    <tr>\n      <th>9</th>\n      <td>(Red, Blue)</td>\n      <td>(White)</td>\n      <td>0.4</td>\n      <td>0.7</td>\n      <td>0.2</td>\n      <td>0.500000</td>\n      <td>0.714286</td>\n      <td>-0.08</td>\n      <td>0.600000</td>\n      <td>-0.400000</td>\n    </tr>\n    <tr>\n      <th>10</th>\n      <td>(Red, White)</td>\n      <td>(Blue)</td>\n      <td>0.4</td>\n      <td>0.6</td>\n      <td>0.2</td>\n      <td>0.500000</td>\n      <td>0.833333</td>\n      <td>-0.04</td>\n      <td>0.800000</td>\n      <td>-0.250000</td>\n    </tr>\n    <tr>\n      <th>11</th>\n      <td>(Blue, White)</td>\n      <td>(Red)</td>\n      <td>0.4</td>\n      <td>0.6</td>\n      <td>0.2</td>\n      <td>0.500000</td>\n      <td>0.833333</td>\n      <td>-0.04</td>\n      <td>0.800000</td>\n      <td>-0.250000</td>\n    </tr>\n    <tr>\n      <th>12</th>\n      <td>(Red, Green)</td>\n      <td>(White)</td>\n      <td>0.2</td>\n      <td>0.7</td>\n      <td>0.2</td>\n      <td>1.000000</td>\n      <td>1.428571</td>\n      <td>0.06</td>\n      <td>inf</td>\n      <td>0.375000</td>\n    </tr>\n    <tr>\n      <th>13</th>\n      <td>(Red, White)</td>\n      <td>(Green)</td>\n      <td>0.4</td>\n      <td>0.2</td>\n      <td>0.2</td>\n      <td>0.500000</td>\n      <td>2.500000</td>\n      <td>0.12</td>\n      <td>1.600000</td>\n      <td>1.000000</td>\n    </tr>\n    <tr>\n      <th>14</th>\n      <td>(Green, White)</td>\n      <td>(Red)</td>\n      <td>0.2</td>\n      <td>0.6</td>\n      <td>0.2</td>\n      <td>1.000000</td>\n      <td>1.666667</td>\n      <td>0.08</td>\n      <td>inf</td>\n      <td>0.500000</td>\n    </tr>\n    <tr>\n      <th>15</th>\n      <td>(Green)</td>\n      <td>(Red, White)</td>\n      <td>0.2</td>\n      <td>0.4</td>\n      <td>0.2</td>\n      <td>1.000000</td>\n      <td>2.500000</td>\n      <td>0.12</td>\n      <td>inf</td>\n      <td>0.750000</td>\n    </tr>\n  </tbody>\n</table>\n</div>"
     },
     "execution_count": 7,
     "metadata": {},
     "output_type": "execute_result"
    }
   ],
   "source": [
    "# convert into rules\n",
    "# first select strong rules by confidence\n",
    "\n",
    "rules = association_rules(itemsets, metric='confidence', min_threshold=0.5)\n",
    "rules"
   ]
  },
  {
   "cell_type": "code",
   "execution_count": 8,
   "id": "1e7e9817",
   "metadata": {
    "ExecuteTime": {
     "end_time": "2024-03-15T06:44:58.459267Z",
     "start_time": "2024-03-15T06:44:58.395414Z"
    }
   },
   "outputs": [
    {
     "data": {
      "text/plain": "       antecedents   consequents  antecedent support  consequent support  \\\n13    (Red, White)       (Green)                 0.4                 0.2   \n15         (Green)  (Red, White)                 0.2                 0.4   \n4          (Green)         (Red)                 0.2                 0.6   \n14  (Green, White)         (Red)                 0.2                 0.6   \n7         (Orange)       (White)                 0.2                 0.7   \n8          (Green)       (White)                 0.2                 0.7   \n12    (Red, Green)       (White)                 0.2                 0.7   \n2            (Red)        (Blue)                 0.6                 0.6   \n3           (Blue)         (Red)                 0.6                 0.6   \n0            (Red)       (White)                 0.6                 0.7   \n1          (White)         (Red)                 0.7                 0.6   \n5           (Blue)       (White)                 0.6                 0.7   \n6          (White)        (Blue)                 0.7                 0.6   \n10    (Red, White)        (Blue)                 0.4                 0.6   \n11   (Blue, White)         (Red)                 0.4                 0.6   \n9      (Red, Blue)       (White)                 0.4                 0.7   \n\n    support  confidence      lift  leverage  zhangs_metric  \n13      0.2    0.500000  2.500000      0.12       1.000000  \n15      0.2    1.000000  2.500000      0.12       0.750000  \n4       0.2    1.000000  1.666667      0.08       0.500000  \n14      0.2    1.000000  1.666667      0.08       0.500000  \n7       0.2    1.000000  1.428571      0.06       0.375000  \n8       0.2    1.000000  1.428571      0.06       0.375000  \n12      0.2    1.000000  1.428571      0.06       0.375000  \n2       0.4    0.666667  1.111111      0.04       0.250000  \n3       0.4    0.666667  1.111111      0.04       0.250000  \n0       0.4    0.666667  0.952381     -0.02      -0.111111  \n1       0.4    0.571429  0.952381     -0.02      -0.142857  \n5       0.4    0.666667  0.952381     -0.02      -0.111111  \n6       0.4    0.571429  0.952381     -0.02      -0.142857  \n10      0.2    0.500000  0.833333     -0.04      -0.250000  \n11      0.2    0.500000  0.833333     -0.04      -0.250000  \n9       0.2    0.500000  0.714286     -0.08      -0.400000  ",
      "text/html": "<div>\n<style scoped>\n    .dataframe tbody tr th:only-of-type {\n        vertical-align: middle;\n    }\n\n    .dataframe tbody tr th {\n        vertical-align: top;\n    }\n\n    .dataframe thead th {\n        text-align: right;\n    }\n</style>\n<table border=\"1\" class=\"dataframe\">\n  <thead>\n    <tr style=\"text-align: right;\">\n      <th></th>\n      <th>antecedents</th>\n      <th>consequents</th>\n      <th>antecedent support</th>\n      <th>consequent support</th>\n      <th>support</th>\n      <th>confidence</th>\n      <th>lift</th>\n      <th>leverage</th>\n      <th>zhangs_metric</th>\n    </tr>\n  </thead>\n  <tbody>\n    <tr>\n      <th>13</th>\n      <td>(Red, White)</td>\n      <td>(Green)</td>\n      <td>0.4</td>\n      <td>0.2</td>\n      <td>0.2</td>\n      <td>0.500000</td>\n      <td>2.500000</td>\n      <td>0.12</td>\n      <td>1.000000</td>\n    </tr>\n    <tr>\n      <th>15</th>\n      <td>(Green)</td>\n      <td>(Red, White)</td>\n      <td>0.2</td>\n      <td>0.4</td>\n      <td>0.2</td>\n      <td>1.000000</td>\n      <td>2.500000</td>\n      <td>0.12</td>\n      <td>0.750000</td>\n    </tr>\n    <tr>\n      <th>4</th>\n      <td>(Green)</td>\n      <td>(Red)</td>\n      <td>0.2</td>\n      <td>0.6</td>\n      <td>0.2</td>\n      <td>1.000000</td>\n      <td>1.666667</td>\n      <td>0.08</td>\n      <td>0.500000</td>\n    </tr>\n    <tr>\n      <th>14</th>\n      <td>(Green, White)</td>\n      <td>(Red)</td>\n      <td>0.2</td>\n      <td>0.6</td>\n      <td>0.2</td>\n      <td>1.000000</td>\n      <td>1.666667</td>\n      <td>0.08</td>\n      <td>0.500000</td>\n    </tr>\n    <tr>\n      <th>7</th>\n      <td>(Orange)</td>\n      <td>(White)</td>\n      <td>0.2</td>\n      <td>0.7</td>\n      <td>0.2</td>\n      <td>1.000000</td>\n      <td>1.428571</td>\n      <td>0.06</td>\n      <td>0.375000</td>\n    </tr>\n    <tr>\n      <th>8</th>\n      <td>(Green)</td>\n      <td>(White)</td>\n      <td>0.2</td>\n      <td>0.7</td>\n      <td>0.2</td>\n      <td>1.000000</td>\n      <td>1.428571</td>\n      <td>0.06</td>\n      <td>0.375000</td>\n    </tr>\n    <tr>\n      <th>12</th>\n      <td>(Red, Green)</td>\n      <td>(White)</td>\n      <td>0.2</td>\n      <td>0.7</td>\n      <td>0.2</td>\n      <td>1.000000</td>\n      <td>1.428571</td>\n      <td>0.06</td>\n      <td>0.375000</td>\n    </tr>\n    <tr>\n      <th>2</th>\n      <td>(Red)</td>\n      <td>(Blue)</td>\n      <td>0.6</td>\n      <td>0.6</td>\n      <td>0.4</td>\n      <td>0.666667</td>\n      <td>1.111111</td>\n      <td>0.04</td>\n      <td>0.250000</td>\n    </tr>\n    <tr>\n      <th>3</th>\n      <td>(Blue)</td>\n      <td>(Red)</td>\n      <td>0.6</td>\n      <td>0.6</td>\n      <td>0.4</td>\n      <td>0.666667</td>\n      <td>1.111111</td>\n      <td>0.04</td>\n      <td>0.250000</td>\n    </tr>\n    <tr>\n      <th>0</th>\n      <td>(Red)</td>\n      <td>(White)</td>\n      <td>0.6</td>\n      <td>0.7</td>\n      <td>0.4</td>\n      <td>0.666667</td>\n      <td>0.952381</td>\n      <td>-0.02</td>\n      <td>-0.111111</td>\n    </tr>\n    <tr>\n      <th>1</th>\n      <td>(White)</td>\n      <td>(Red)</td>\n      <td>0.7</td>\n      <td>0.6</td>\n      <td>0.4</td>\n      <td>0.571429</td>\n      <td>0.952381</td>\n      <td>-0.02</td>\n      <td>-0.142857</td>\n    </tr>\n    <tr>\n      <th>5</th>\n      <td>(Blue)</td>\n      <td>(White)</td>\n      <td>0.6</td>\n      <td>0.7</td>\n      <td>0.4</td>\n      <td>0.666667</td>\n      <td>0.952381</td>\n      <td>-0.02</td>\n      <td>-0.111111</td>\n    </tr>\n    <tr>\n      <th>6</th>\n      <td>(White)</td>\n      <td>(Blue)</td>\n      <td>0.7</td>\n      <td>0.6</td>\n      <td>0.4</td>\n      <td>0.571429</td>\n      <td>0.952381</td>\n      <td>-0.02</td>\n      <td>-0.142857</td>\n    </tr>\n    <tr>\n      <th>10</th>\n      <td>(Red, White)</td>\n      <td>(Blue)</td>\n      <td>0.4</td>\n      <td>0.6</td>\n      <td>0.2</td>\n      <td>0.500000</td>\n      <td>0.833333</td>\n      <td>-0.04</td>\n      <td>-0.250000</td>\n    </tr>\n    <tr>\n      <th>11</th>\n      <td>(Blue, White)</td>\n      <td>(Red)</td>\n      <td>0.4</td>\n      <td>0.6</td>\n      <td>0.2</td>\n      <td>0.500000</td>\n      <td>0.833333</td>\n      <td>-0.04</td>\n      <td>-0.250000</td>\n    </tr>\n    <tr>\n      <th>9</th>\n      <td>(Red, Blue)</td>\n      <td>(White)</td>\n      <td>0.4</td>\n      <td>0.7</td>\n      <td>0.2</td>\n      <td>0.500000</td>\n      <td>0.714286</td>\n      <td>-0.08</td>\n      <td>-0.400000</td>\n    </tr>\n  </tbody>\n</table>\n</div>"
     },
     "execution_count": 8,
     "metadata": {},
     "output_type": "execute_result"
    }
   ],
   "source": [
    "# show the rules\n",
    "rules.sort_values(by=['lift'], ascending=False).drop(columns=['conviction'])"
   ]
  },
  {
   "cell_type": "code",
   "execution_count": 9,
   "id": "8daa9cef",
   "metadata": {
    "ExecuteTime": {
     "end_time": "2024-03-15T06:45:17.851206Z",
     "start_time": "2024-03-15T06:45:17.808542Z"
    }
   },
   "outputs": [
    {
     "data": {
      "text/plain": "       antecedents   consequents  antecedent support  consequent support  \\\n13    (Red, White)       (Green)                 0.4                 0.2   \n15         (Green)  (Red, White)                 0.2                 0.4   \n4          (Green)         (Red)                 0.2                 0.6   \n14  (Green, White)         (Red)                 0.2                 0.6   \n7         (Orange)       (White)                 0.2                 0.7   \n8          (Green)       (White)                 0.2                 0.7   \n12    (Red, Green)       (White)                 0.2                 0.7   \n2            (Red)        (Blue)                 0.6                 0.6   \n3           (Blue)         (Red)                 0.6                 0.6   \n\n    support  confidence      lift  leverage  zhangs_metric  \n13      0.2    0.500000  2.500000      0.12          1.000  \n15      0.2    1.000000  2.500000      0.12          0.750  \n4       0.2    1.000000  1.666667      0.08          0.500  \n14      0.2    1.000000  1.666667      0.08          0.500  \n7       0.2    1.000000  1.428571      0.06          0.375  \n8       0.2    1.000000  1.428571      0.06          0.375  \n12      0.2    1.000000  1.428571      0.06          0.375  \n2       0.4    0.666667  1.111111      0.04          0.250  \n3       0.4    0.666667  1.111111      0.04          0.250  ",
      "text/html": "<div>\n<style scoped>\n    .dataframe tbody tr th:only-of-type {\n        vertical-align: middle;\n    }\n\n    .dataframe tbody tr th {\n        vertical-align: top;\n    }\n\n    .dataframe thead th {\n        text-align: right;\n    }\n</style>\n<table border=\"1\" class=\"dataframe\">\n  <thead>\n    <tr style=\"text-align: right;\">\n      <th></th>\n      <th>antecedents</th>\n      <th>consequents</th>\n      <th>antecedent support</th>\n      <th>consequent support</th>\n      <th>support</th>\n      <th>confidence</th>\n      <th>lift</th>\n      <th>leverage</th>\n      <th>zhangs_metric</th>\n    </tr>\n  </thead>\n  <tbody>\n    <tr>\n      <th>13</th>\n      <td>(Red, White)</td>\n      <td>(Green)</td>\n      <td>0.4</td>\n      <td>0.2</td>\n      <td>0.2</td>\n      <td>0.500000</td>\n      <td>2.500000</td>\n      <td>0.12</td>\n      <td>1.000</td>\n    </tr>\n    <tr>\n      <th>15</th>\n      <td>(Green)</td>\n      <td>(Red, White)</td>\n      <td>0.2</td>\n      <td>0.4</td>\n      <td>0.2</td>\n      <td>1.000000</td>\n      <td>2.500000</td>\n      <td>0.12</td>\n      <td>0.750</td>\n    </tr>\n    <tr>\n      <th>4</th>\n      <td>(Green)</td>\n      <td>(Red)</td>\n      <td>0.2</td>\n      <td>0.6</td>\n      <td>0.2</td>\n      <td>1.000000</td>\n      <td>1.666667</td>\n      <td>0.08</td>\n      <td>0.500</td>\n    </tr>\n    <tr>\n      <th>14</th>\n      <td>(Green, White)</td>\n      <td>(Red)</td>\n      <td>0.2</td>\n      <td>0.6</td>\n      <td>0.2</td>\n      <td>1.000000</td>\n      <td>1.666667</td>\n      <td>0.08</td>\n      <td>0.500</td>\n    </tr>\n    <tr>\n      <th>7</th>\n      <td>(Orange)</td>\n      <td>(White)</td>\n      <td>0.2</td>\n      <td>0.7</td>\n      <td>0.2</td>\n      <td>1.000000</td>\n      <td>1.428571</td>\n      <td>0.06</td>\n      <td>0.375</td>\n    </tr>\n    <tr>\n      <th>8</th>\n      <td>(Green)</td>\n      <td>(White)</td>\n      <td>0.2</td>\n      <td>0.7</td>\n      <td>0.2</td>\n      <td>1.000000</td>\n      <td>1.428571</td>\n      <td>0.06</td>\n      <td>0.375</td>\n    </tr>\n    <tr>\n      <th>12</th>\n      <td>(Red, Green)</td>\n      <td>(White)</td>\n      <td>0.2</td>\n      <td>0.7</td>\n      <td>0.2</td>\n      <td>1.000000</td>\n      <td>1.428571</td>\n      <td>0.06</td>\n      <td>0.375</td>\n    </tr>\n    <tr>\n      <th>2</th>\n      <td>(Red)</td>\n      <td>(Blue)</td>\n      <td>0.6</td>\n      <td>0.6</td>\n      <td>0.4</td>\n      <td>0.666667</td>\n      <td>1.111111</td>\n      <td>0.04</td>\n      <td>0.250</td>\n    </tr>\n    <tr>\n      <th>3</th>\n      <td>(Blue)</td>\n      <td>(Red)</td>\n      <td>0.6</td>\n      <td>0.6</td>\n      <td>0.4</td>\n      <td>0.666667</td>\n      <td>1.111111</td>\n      <td>0.04</td>\n      <td>0.250</td>\n    </tr>\n  </tbody>\n</table>\n</div>"
     },
     "execution_count": 9,
     "metadata": {},
     "output_type": "execute_result"
    }
   ],
   "source": [
    "# then further select strong rules by lift>1 and sort lift in descending order\n",
    "\n",
    "interested_rules = rules[rules['lift']>1].sort_values(by=['lift'], \n",
    "                            ascending=False).drop(columns=['conviction'])\n",
    "interested_rules"
   ]
  },
  {
   "cell_type": "markdown",
   "id": "bc172023",
   "metadata": {},
   "source": [
    "## Example 2: Grocery Store Promotion\n",
    "- A grocery store runs a promotion on its food. The store managers would like to know what combination of food customers are likely to purchase together.\n",
    "- An introduction on dealing with transaction data in another format"
   ]
  },
  {
   "cell_type": "code",
   "execution_count": 10,
   "id": "40bb0ee6",
   "metadata": {
    "ExecuteTime": {
     "end_time": "2024-03-15T06:49:50.249676Z",
     "start_time": "2024-03-15T06:49:50.220502Z"
    }
   },
   "outputs": [
    {
     "data": {
      "text/plain": "                         items\nitemId                        \n1            bread,butter,milk\n2                 bread,butter\n3            bread,butter,beer\n4                    milk,wine\n5       bread,butter,milk,wine",
      "text/html": "<div>\n<style scoped>\n    .dataframe tbody tr th:only-of-type {\n        vertical-align: middle;\n    }\n\n    .dataframe tbody tr th {\n        vertical-align: top;\n    }\n\n    .dataframe thead th {\n        text-align: right;\n    }\n</style>\n<table border=\"1\" class=\"dataframe\">\n  <thead>\n    <tr style=\"text-align: right;\">\n      <th></th>\n      <th>items</th>\n    </tr>\n    <tr>\n      <th>itemId</th>\n      <th></th>\n    </tr>\n  </thead>\n  <tbody>\n    <tr>\n      <th>1</th>\n      <td>bread,butter,milk</td>\n    </tr>\n    <tr>\n      <th>2</th>\n      <td>bread,butter</td>\n    </tr>\n    <tr>\n      <th>3</th>\n      <td>bread,butter,beer</td>\n    </tr>\n    <tr>\n      <th>4</th>\n      <td>milk,wine</td>\n    </tr>\n    <tr>\n      <th>5</th>\n      <td>bread,butter,milk,wine</td>\n    </tr>\n  </tbody>\n</table>\n</div>"
     },
     "execution_count": 10,
     "metadata": {},
     "output_type": "execute_result"
    }
   ],
   "source": [
    "items = pd.read_csv(\"items.csv\", index_col='itemId')\n",
    "items"
   ]
  },
  {
   "cell_type": "code",
   "execution_count": 11,
   "id": "b1e1424c",
   "metadata": {
    "ExecuteTime": {
     "end_time": "2024-03-15T06:50:19.193739Z",
     "start_time": "2024-03-15T06:50:19.170199Z"
    }
   },
   "outputs": [
    {
     "data": {
      "text/plain": "items    bread,butter,milk\nName: 1, dtype: object"
     },
     "execution_count": 11,
     "metadata": {},
     "output_type": "execute_result"
    }
   ],
   "source": [
    "items.iloc[0]"
   ]
  },
  {
   "cell_type": "code",
   "execution_count": 12,
   "id": "deed79e9",
   "metadata": {
    "ExecuteTime": {
     "end_time": "2024-03-15T06:50:35.597726Z",
     "start_time": "2024-03-15T06:50:35.585310Z"
    }
   },
   "outputs": [
    {
     "data": {
      "text/plain": "'bread,butter,milk'"
     },
     "execution_count": 12,
     "metadata": {},
     "output_type": "execute_result"
    }
   ],
   "source": [
    "items.iloc[0,0]"
   ]
  },
  {
   "cell_type": "code",
   "execution_count": 13,
   "id": "c9366a4e",
   "metadata": {
    "ExecuteTime": {
     "end_time": "2024-03-15T06:51:33.473733Z",
     "start_time": "2024-03-15T06:51:33.457729Z"
    }
   },
   "outputs": [
    {
     "data": {
      "text/plain": "['bread', 'butter', 'milk']"
     },
     "execution_count": 13,
     "metadata": {},
     "output_type": "execute_result"
    }
   ],
   "source": [
    "items.iloc[0,0].split(\",\")"
   ]
  },
  {
   "cell_type": "code",
   "execution_count": 14,
   "id": "47939121",
   "metadata": {
    "ExecuteTime": {
     "end_time": "2024-03-15T06:51:35.311902Z",
     "start_time": "2024-03-15T06:51:35.289866Z"
    }
   },
   "outputs": [
    {
     "data": {
      "text/plain": "5"
     },
     "execution_count": 14,
     "metadata": {},
     "output_type": "execute_result"
    }
   ],
   "source": [
    "len(items)"
   ]
  },
  {
   "cell_type": "code",
   "execution_count": 15,
   "id": "fca40bcc",
   "metadata": {
    "ExecuteTime": {
     "end_time": "2024-03-15T06:51:37.346012Z",
     "start_time": "2024-03-15T06:51:37.319023Z"
    }
   },
   "outputs": [
    {
     "data": {
      "text/plain": "range(0, 5)"
     },
     "execution_count": 15,
     "metadata": {},
     "output_type": "execute_result"
    }
   ],
   "source": [
    "range(len(items))"
   ]
  },
  {
   "cell_type": "code",
   "execution_count": 16,
   "id": "baf5771f",
   "metadata": {
    "ExecuteTime": {
     "end_time": "2024-03-15T06:51:38.563161Z",
     "start_time": "2024-03-15T06:51:38.544110Z"
    }
   },
   "outputs": [
    {
     "data": {
      "text/plain": "[0, 1, 2, 3, 4]"
     },
     "execution_count": 16,
     "metadata": {},
     "output_type": "execute_result"
    }
   ],
   "source": [
    "list(range(0, 5))"
   ]
  },
  {
   "cell_type": "code",
   "execution_count": 17,
   "id": "7ca67fef",
   "metadata": {
    "ExecuteTime": {
     "end_time": "2024-03-15T06:51:44.298144Z",
     "start_time": "2024-03-15T06:51:44.277132Z"
    }
   },
   "outputs": [],
   "source": [
    "# split the data by \",\" and transform the data in the form of lists\n",
    "# the whole dataset is a big list \n",
    "# each transaction is an inner list within the outer big list\n",
    "records = []\n",
    "for i in range(len(items)):\n",
    "    records.append(items.iloc[i,0].split(\",\"))"
   ]
  },
  {
   "cell_type": "code",
   "execution_count": 18,
   "id": "415d43e8",
   "metadata": {
    "ExecuteTime": {
     "end_time": "2024-03-15T06:51:47.494536Z",
     "start_time": "2024-03-15T06:51:47.472539Z"
    }
   },
   "outputs": [
    {
     "data": {
      "text/plain": "[['bread', 'butter', 'milk'],\n ['bread', 'butter'],\n ['bread', 'butter', 'beer'],\n ['milk', 'wine'],\n ['bread', 'butter', 'milk', 'wine']]"
     },
     "execution_count": 18,
     "metadata": {},
     "output_type": "execute_result"
    }
   ],
   "source": [
    "records"
   ]
  },
  {
   "cell_type": "code",
   "execution_count": 19,
   "id": "0beb7fe5",
   "metadata": {
    "ExecuteTime": {
     "end_time": "2024-03-15T06:53:30.682066Z",
     "start_time": "2024-03-15T06:53:28.112075Z"
    }
   },
   "outputs": [],
   "source": [
    "# convert the raw data into the data structure required by apriori function\n",
    "from mlxtend.preprocessing import TransactionEncoder"
   ]
  },
  {
   "cell_type": "code",
   "execution_count": 20,
   "id": "59411d37",
   "metadata": {
    "ExecuteTime": {
     "end_time": "2024-03-15T06:53:39.727892Z",
     "start_time": "2024-03-15T06:53:39.711857Z"
    }
   },
   "outputs": [],
   "source": [
    "te = TransactionEncoder()\n",
    "te_ary = te.fit(records).transform(records)"
   ]
  },
  {
   "cell_type": "code",
   "execution_count": 21,
   "id": "6a5fc356",
   "metadata": {
    "ExecuteTime": {
     "end_time": "2024-03-15T06:53:51.337845Z",
     "start_time": "2024-03-15T06:53:51.326845Z"
    }
   },
   "outputs": [
    {
     "data": {
      "text/plain": "array([[False,  True,  True,  True, False],\n       [False,  True,  True, False, False],\n       [ True,  True,  True, False, False],\n       [False, False, False,  True,  True],\n       [False,  True,  True,  True,  True]])"
     },
     "execution_count": 21,
     "metadata": {},
     "output_type": "execute_result"
    }
   ],
   "source": [
    "# the data takes an array format\n",
    "te_ary"
   ]
  },
  {
   "cell_type": "code",
   "execution_count": 22,
   "id": "733f71ef",
   "metadata": {
    "ExecuteTime": {
     "end_time": "2024-03-15T06:54:15.241645Z",
     "start_time": "2024-03-15T06:54:15.205905Z"
    }
   },
   "outputs": [
    {
     "data": {
      "text/plain": "    beer  bread  butter   milk   wine\n0  False   True    True   True  False\n1  False   True    True  False  False\n2   True   True    True  False  False\n3  False  False   False   True   True\n4  False   True    True   True   True",
      "text/html": "<div>\n<style scoped>\n    .dataframe tbody tr th:only-of-type {\n        vertical-align: middle;\n    }\n\n    .dataframe tbody tr th {\n        vertical-align: top;\n    }\n\n    .dataframe thead th {\n        text-align: right;\n    }\n</style>\n<table border=\"1\" class=\"dataframe\">\n  <thead>\n    <tr style=\"text-align: right;\">\n      <th></th>\n      <th>beer</th>\n      <th>bread</th>\n      <th>butter</th>\n      <th>milk</th>\n      <th>wine</th>\n    </tr>\n  </thead>\n  <tbody>\n    <tr>\n      <th>0</th>\n      <td>False</td>\n      <td>True</td>\n      <td>True</td>\n      <td>True</td>\n      <td>False</td>\n    </tr>\n    <tr>\n      <th>1</th>\n      <td>False</td>\n      <td>True</td>\n      <td>True</td>\n      <td>False</td>\n      <td>False</td>\n    </tr>\n    <tr>\n      <th>2</th>\n      <td>True</td>\n      <td>True</td>\n      <td>True</td>\n      <td>False</td>\n      <td>False</td>\n    </tr>\n    <tr>\n      <th>3</th>\n      <td>False</td>\n      <td>False</td>\n      <td>False</td>\n      <td>True</td>\n      <td>True</td>\n    </tr>\n    <tr>\n      <th>4</th>\n      <td>False</td>\n      <td>True</td>\n      <td>True</td>\n      <td>True</td>\n      <td>True</td>\n    </tr>\n  </tbody>\n</table>\n</div>"
     },
     "execution_count": 22,
     "metadata": {},
     "output_type": "execute_result"
    }
   ],
   "source": [
    "# convert the array to dataframe with column name\n",
    "df = pd.DataFrame(te_ary, columns=te.columns_)\n",
    "df"
   ]
  },
  {
   "cell_type": "markdown",
   "id": "7af58798",
   "metadata": {},
   "source": [
    "## Task: please find the interesting/meaningful association rules for the data \"items.csv\"."
   ]
  },
  {
   "cell_type": "code",
   "execution_count": 23,
   "id": "c23d78eb",
   "metadata": {
    "ExecuteTime": {
     "end_time": "2024-03-15T06:54:43.624128Z",
     "start_time": "2024-03-15T06:54:43.606333Z"
    }
   },
   "outputs": [],
   "source": [
    "# Create frequent itemsets\n",
    "itemsets2 = apriori (df, min_support=0.4, use_colnames=True)"
   ]
  },
  {
   "cell_type": "code",
   "execution_count": 24,
   "id": "853753d3",
   "metadata": {
    "ExecuteTime": {
     "end_time": "2024-03-15T06:54:45.306475Z",
     "start_time": "2024-03-15T06:54:45.278473Z"
    }
   },
   "outputs": [
    {
     "data": {
      "text/plain": "   support               itemsets\n0      0.8                (bread)\n1      0.8               (butter)\n2      0.6                 (milk)\n3      0.4                 (wine)\n4      0.8        (bread, butter)\n5      0.4          (bread, milk)\n6      0.4         (milk, butter)\n7      0.4           (wine, milk)\n8      0.4  (bread, butter, milk)",
      "text/html": "<div>\n<style scoped>\n    .dataframe tbody tr th:only-of-type {\n        vertical-align: middle;\n    }\n\n    .dataframe tbody tr th {\n        vertical-align: top;\n    }\n\n    .dataframe thead th {\n        text-align: right;\n    }\n</style>\n<table border=\"1\" class=\"dataframe\">\n  <thead>\n    <tr style=\"text-align: right;\">\n      <th></th>\n      <th>support</th>\n      <th>itemsets</th>\n    </tr>\n  </thead>\n  <tbody>\n    <tr>\n      <th>0</th>\n      <td>0.8</td>\n      <td>(bread)</td>\n    </tr>\n    <tr>\n      <th>1</th>\n      <td>0.8</td>\n      <td>(butter)</td>\n    </tr>\n    <tr>\n      <th>2</th>\n      <td>0.6</td>\n      <td>(milk)</td>\n    </tr>\n    <tr>\n      <th>3</th>\n      <td>0.4</td>\n      <td>(wine)</td>\n    </tr>\n    <tr>\n      <th>4</th>\n      <td>0.8</td>\n      <td>(bread, butter)</td>\n    </tr>\n    <tr>\n      <th>5</th>\n      <td>0.4</td>\n      <td>(bread, milk)</td>\n    </tr>\n    <tr>\n      <th>6</th>\n      <td>0.4</td>\n      <td>(milk, butter)</td>\n    </tr>\n    <tr>\n      <th>7</th>\n      <td>0.4</td>\n      <td>(wine, milk)</td>\n    </tr>\n    <tr>\n      <th>8</th>\n      <td>0.4</td>\n      <td>(bread, butter, milk)</td>\n    </tr>\n  </tbody>\n</table>\n</div>"
     },
     "execution_count": 24,
     "metadata": {},
     "output_type": "execute_result"
    }
   ],
   "source": [
    "itemsets2"
   ]
  },
  {
   "cell_type": "code",
   "execution_count": 25,
   "id": "f2688d78",
   "metadata": {
    "ExecuteTime": {
     "end_time": "2024-03-15T06:54:51.888930Z",
     "start_time": "2024-03-15T06:54:51.865896Z"
    }
   },
   "outputs": [],
   "source": [
    "# convert into rules\n",
    "rules2 = association_rules(itemsets2, metric='confidence', min_threshold=0.5)"
   ]
  },
  {
   "cell_type": "code",
   "execution_count": 26,
   "id": "7011ec2e",
   "metadata": {
    "ExecuteTime": {
     "end_time": "2024-03-15T06:54:56.987255Z",
     "start_time": "2024-03-15T06:54:56.942251Z"
    }
   },
   "outputs": [
    {
     "data": {
      "text/plain": "        antecedents      consequents  antecedent support  consequent support  \\\n6            (wine)           (milk)                 0.4                 0.6   \n7            (milk)           (wine)                 0.6                 0.4   \n0           (bread)         (butter)                 0.8                 0.8   \n1          (butter)          (bread)                 0.8                 0.8   \n9     (bread, milk)         (butter)                 0.4                 0.8   \n10   (milk, butter)          (bread)                 0.4                 0.8   \n11          (bread)   (milk, butter)                 0.8                 0.4   \n12         (butter)    (bread, milk)                 0.8                 0.4   \n2           (bread)           (milk)                 0.8                 0.6   \n3            (milk)          (bread)                 0.6                 0.8   \n4            (milk)         (butter)                 0.6                 0.8   \n5          (butter)           (milk)                 0.8                 0.6   \n8   (bread, butter)           (milk)                 0.8                 0.6   \n13           (milk)  (bread, butter)                 0.6                 0.8   \n\n    support  confidence      lift  leverage  zhangs_metric  \n6       0.4    1.000000  1.666667      0.16       0.666667  \n7       0.4    0.666667  1.666667      0.16       1.000000  \n0       0.8    1.000000  1.250000      0.16       1.000000  \n1       0.8    1.000000  1.250000      0.16       1.000000  \n9       0.4    1.000000  1.250000      0.08       0.333333  \n10      0.4    1.000000  1.250000      0.08       0.333333  \n11      0.4    0.500000  1.250000      0.08       1.000000  \n12      0.4    0.500000  1.250000      0.08       1.000000  \n2       0.4    0.500000  0.833333     -0.08      -0.500000  \n3       0.4    0.666667  0.833333     -0.08      -0.333333  \n4       0.4    0.666667  0.833333     -0.08      -0.333333  \n5       0.4    0.500000  0.833333     -0.08      -0.500000  \n8       0.4    0.500000  0.833333     -0.08      -0.500000  \n13      0.4    0.666667  0.833333     -0.08      -0.333333  ",
      "text/html": "<div>\n<style scoped>\n    .dataframe tbody tr th:only-of-type {\n        vertical-align: middle;\n    }\n\n    .dataframe tbody tr th {\n        vertical-align: top;\n    }\n\n    .dataframe thead th {\n        text-align: right;\n    }\n</style>\n<table border=\"1\" class=\"dataframe\">\n  <thead>\n    <tr style=\"text-align: right;\">\n      <th></th>\n      <th>antecedents</th>\n      <th>consequents</th>\n      <th>antecedent support</th>\n      <th>consequent support</th>\n      <th>support</th>\n      <th>confidence</th>\n      <th>lift</th>\n      <th>leverage</th>\n      <th>zhangs_metric</th>\n    </tr>\n  </thead>\n  <tbody>\n    <tr>\n      <th>6</th>\n      <td>(wine)</td>\n      <td>(milk)</td>\n      <td>0.4</td>\n      <td>0.6</td>\n      <td>0.4</td>\n      <td>1.000000</td>\n      <td>1.666667</td>\n      <td>0.16</td>\n      <td>0.666667</td>\n    </tr>\n    <tr>\n      <th>7</th>\n      <td>(milk)</td>\n      <td>(wine)</td>\n      <td>0.6</td>\n      <td>0.4</td>\n      <td>0.4</td>\n      <td>0.666667</td>\n      <td>1.666667</td>\n      <td>0.16</td>\n      <td>1.000000</td>\n    </tr>\n    <tr>\n      <th>0</th>\n      <td>(bread)</td>\n      <td>(butter)</td>\n      <td>0.8</td>\n      <td>0.8</td>\n      <td>0.8</td>\n      <td>1.000000</td>\n      <td>1.250000</td>\n      <td>0.16</td>\n      <td>1.000000</td>\n    </tr>\n    <tr>\n      <th>1</th>\n      <td>(butter)</td>\n      <td>(bread)</td>\n      <td>0.8</td>\n      <td>0.8</td>\n      <td>0.8</td>\n      <td>1.000000</td>\n      <td>1.250000</td>\n      <td>0.16</td>\n      <td>1.000000</td>\n    </tr>\n    <tr>\n      <th>9</th>\n      <td>(bread, milk)</td>\n      <td>(butter)</td>\n      <td>0.4</td>\n      <td>0.8</td>\n      <td>0.4</td>\n      <td>1.000000</td>\n      <td>1.250000</td>\n      <td>0.08</td>\n      <td>0.333333</td>\n    </tr>\n    <tr>\n      <th>10</th>\n      <td>(milk, butter)</td>\n      <td>(bread)</td>\n      <td>0.4</td>\n      <td>0.8</td>\n      <td>0.4</td>\n      <td>1.000000</td>\n      <td>1.250000</td>\n      <td>0.08</td>\n      <td>0.333333</td>\n    </tr>\n    <tr>\n      <th>11</th>\n      <td>(bread)</td>\n      <td>(milk, butter)</td>\n      <td>0.8</td>\n      <td>0.4</td>\n      <td>0.4</td>\n      <td>0.500000</td>\n      <td>1.250000</td>\n      <td>0.08</td>\n      <td>1.000000</td>\n    </tr>\n    <tr>\n      <th>12</th>\n      <td>(butter)</td>\n      <td>(bread, milk)</td>\n      <td>0.8</td>\n      <td>0.4</td>\n      <td>0.4</td>\n      <td>0.500000</td>\n      <td>1.250000</td>\n      <td>0.08</td>\n      <td>1.000000</td>\n    </tr>\n    <tr>\n      <th>2</th>\n      <td>(bread)</td>\n      <td>(milk)</td>\n      <td>0.8</td>\n      <td>0.6</td>\n      <td>0.4</td>\n      <td>0.500000</td>\n      <td>0.833333</td>\n      <td>-0.08</td>\n      <td>-0.500000</td>\n    </tr>\n    <tr>\n      <th>3</th>\n      <td>(milk)</td>\n      <td>(bread)</td>\n      <td>0.6</td>\n      <td>0.8</td>\n      <td>0.4</td>\n      <td>0.666667</td>\n      <td>0.833333</td>\n      <td>-0.08</td>\n      <td>-0.333333</td>\n    </tr>\n    <tr>\n      <th>4</th>\n      <td>(milk)</td>\n      <td>(butter)</td>\n      <td>0.6</td>\n      <td>0.8</td>\n      <td>0.4</td>\n      <td>0.666667</td>\n      <td>0.833333</td>\n      <td>-0.08</td>\n      <td>-0.333333</td>\n    </tr>\n    <tr>\n      <th>5</th>\n      <td>(butter)</td>\n      <td>(milk)</td>\n      <td>0.8</td>\n      <td>0.6</td>\n      <td>0.4</td>\n      <td>0.500000</td>\n      <td>0.833333</td>\n      <td>-0.08</td>\n      <td>-0.500000</td>\n    </tr>\n    <tr>\n      <th>8</th>\n      <td>(bread, butter)</td>\n      <td>(milk)</td>\n      <td>0.8</td>\n      <td>0.6</td>\n      <td>0.4</td>\n      <td>0.500000</td>\n      <td>0.833333</td>\n      <td>-0.08</td>\n      <td>-0.500000</td>\n    </tr>\n    <tr>\n      <th>13</th>\n      <td>(milk)</td>\n      <td>(bread, butter)</td>\n      <td>0.6</td>\n      <td>0.8</td>\n      <td>0.4</td>\n      <td>0.666667</td>\n      <td>0.833333</td>\n      <td>-0.08</td>\n      <td>-0.333333</td>\n    </tr>\n  </tbody>\n</table>\n</div>"
     },
     "execution_count": 26,
     "metadata": {},
     "output_type": "execute_result"
    }
   ],
   "source": [
    "rules2.sort_values(by=['lift'], ascending=False).drop(columns=['conviction'])"
   ]
  },
  {
   "cell_type": "code",
   "execution_count": 27,
   "id": "e3aaefdd",
   "metadata": {
    "ExecuteTime": {
     "end_time": "2024-03-15T06:54:59.262631Z",
     "start_time": "2024-03-15T06:54:59.211478Z"
    }
   },
   "outputs": [
    {
     "data": {
      "text/plain": "       antecedents     consequents  antecedent support  consequent support  \\\n6           (wine)          (milk)                 0.4                 0.6   \n7           (milk)          (wine)                 0.6                 0.4   \n0          (bread)        (butter)                 0.8                 0.8   \n1         (butter)         (bread)                 0.8                 0.8   \n9    (bread, milk)        (butter)                 0.4                 0.8   \n10  (milk, butter)         (bread)                 0.4                 0.8   \n11         (bread)  (milk, butter)                 0.8                 0.4   \n12        (butter)   (bread, milk)                 0.8                 0.4   \n\n    support  confidence      lift  leverage  zhangs_metric  \n6       0.4    1.000000  1.666667      0.16       0.666667  \n7       0.4    0.666667  1.666667      0.16       1.000000  \n0       0.8    1.000000  1.250000      0.16       1.000000  \n1       0.8    1.000000  1.250000      0.16       1.000000  \n9       0.4    1.000000  1.250000      0.08       0.333333  \n10      0.4    1.000000  1.250000      0.08       0.333333  \n11      0.4    0.500000  1.250000      0.08       1.000000  \n12      0.4    0.500000  1.250000      0.08       1.000000  ",
      "text/html": "<div>\n<style scoped>\n    .dataframe tbody tr th:only-of-type {\n        vertical-align: middle;\n    }\n\n    .dataframe tbody tr th {\n        vertical-align: top;\n    }\n\n    .dataframe thead th {\n        text-align: right;\n    }\n</style>\n<table border=\"1\" class=\"dataframe\">\n  <thead>\n    <tr style=\"text-align: right;\">\n      <th></th>\n      <th>antecedents</th>\n      <th>consequents</th>\n      <th>antecedent support</th>\n      <th>consequent support</th>\n      <th>support</th>\n      <th>confidence</th>\n      <th>lift</th>\n      <th>leverage</th>\n      <th>zhangs_metric</th>\n    </tr>\n  </thead>\n  <tbody>\n    <tr>\n      <th>6</th>\n      <td>(wine)</td>\n      <td>(milk)</td>\n      <td>0.4</td>\n      <td>0.6</td>\n      <td>0.4</td>\n      <td>1.000000</td>\n      <td>1.666667</td>\n      <td>0.16</td>\n      <td>0.666667</td>\n    </tr>\n    <tr>\n      <th>7</th>\n      <td>(milk)</td>\n      <td>(wine)</td>\n      <td>0.6</td>\n      <td>0.4</td>\n      <td>0.4</td>\n      <td>0.666667</td>\n      <td>1.666667</td>\n      <td>0.16</td>\n      <td>1.000000</td>\n    </tr>\n    <tr>\n      <th>0</th>\n      <td>(bread)</td>\n      <td>(butter)</td>\n      <td>0.8</td>\n      <td>0.8</td>\n      <td>0.8</td>\n      <td>1.000000</td>\n      <td>1.250000</td>\n      <td>0.16</td>\n      <td>1.000000</td>\n    </tr>\n    <tr>\n      <th>1</th>\n      <td>(butter)</td>\n      <td>(bread)</td>\n      <td>0.8</td>\n      <td>0.8</td>\n      <td>0.8</td>\n      <td>1.000000</td>\n      <td>1.250000</td>\n      <td>0.16</td>\n      <td>1.000000</td>\n    </tr>\n    <tr>\n      <th>9</th>\n      <td>(bread, milk)</td>\n      <td>(butter)</td>\n      <td>0.4</td>\n      <td>0.8</td>\n      <td>0.4</td>\n      <td>1.000000</td>\n      <td>1.250000</td>\n      <td>0.08</td>\n      <td>0.333333</td>\n    </tr>\n    <tr>\n      <th>10</th>\n      <td>(milk, butter)</td>\n      <td>(bread)</td>\n      <td>0.4</td>\n      <td>0.8</td>\n      <td>0.4</td>\n      <td>1.000000</td>\n      <td>1.250000</td>\n      <td>0.08</td>\n      <td>0.333333</td>\n    </tr>\n    <tr>\n      <th>11</th>\n      <td>(bread)</td>\n      <td>(milk, butter)</td>\n      <td>0.8</td>\n      <td>0.4</td>\n      <td>0.4</td>\n      <td>0.500000</td>\n      <td>1.250000</td>\n      <td>0.08</td>\n      <td>1.000000</td>\n    </tr>\n    <tr>\n      <th>12</th>\n      <td>(butter)</td>\n      <td>(bread, milk)</td>\n      <td>0.8</td>\n      <td>0.4</td>\n      <td>0.4</td>\n      <td>0.500000</td>\n      <td>1.250000</td>\n      <td>0.08</td>\n      <td>1.000000</td>\n    </tr>\n  </tbody>\n</table>\n</div>"
     },
     "execution_count": 27,
     "metadata": {},
     "output_type": "execute_result"
    }
   ],
   "source": [
    "# filter meaningful association rules\n",
    "interested_rules2 = rules2[rules2['lift']>1].sort_values(by=['lift'], \n",
    "                    ascending=False).drop(columns=['conviction'])\n",
    "interested_rules2"
   ]
  },
  {
   "cell_type": "code",
   "execution_count": 27,
   "id": "2d6d7593-73f5-4621-b4ec-b8f987d9cf2c",
   "metadata": {
    "ExecuteTime": {
     "end_time": "2024-03-15T06:55:01.433749Z",
     "start_time": "2024-03-15T06:55:01.417711Z"
    }
   },
   "outputs": [],
   "source": [
    "# Promotion discount for buying wine and milk together\n",
    "# Promotion discount for buying bread, butter and milk together"
   ]
  }
 ],
 "metadata": {
  "kernelspec": {
   "display_name": "Python 3 (ipykernel)",
   "language": "python",
   "name": "python3"
  },
  "language_info": {
   "codemirror_mode": {
    "name": "ipython",
    "version": 3
   },
   "file_extension": ".py",
   "mimetype": "text/x-python",
   "name": "python",
   "nbconvert_exporter": "python",
   "pygments_lexer": "ipython3",
   "version": "3.9.10"
  }
 },
 "nbformat": 4,
 "nbformat_minor": 5
}
