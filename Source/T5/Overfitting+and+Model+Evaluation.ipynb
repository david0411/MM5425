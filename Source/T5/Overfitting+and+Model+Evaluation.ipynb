{
 "cells": [
  {
   "cell_type": "markdown",
   "id": "dc2edc95",
   "metadata": {},
   "source": [
    "# Model Evaluation and Overfitting "
   ]
  },
  {
   "cell_type": "code",
   "execution_count": 1,
   "id": "2b1ea26f",
   "metadata": {
    "ExecuteTime": {
     "end_time": "2024-03-01T05:57:46.055692600Z",
     "start_time": "2024-03-01T05:57:43.942061600Z"
    }
   },
   "outputs": [],
   "source": [
    "# import libraries\n",
    "import numpy as np\n",
    "import pandas as pd"
   ]
  },
  {
   "cell_type": "markdown",
   "id": "8f11d54d",
   "metadata": {},
   "source": [
    "## Review: Decision Tree Classification"
   ]
  },
  {
   "cell_type": "code",
   "execution_count": 2,
   "id": "3411fef4",
   "metadata": {
    "ExecuteTime": {
     "end_time": "2024-03-01T05:57:51.490687700Z",
     "start_time": "2024-03-01T05:57:51.139362200Z"
    }
   },
   "outputs": [],
   "source": [
    "# load training dataset (the supermarket dataset after data processing)\n",
    "df = pd.read_csv('supermarket_new.csv')"
   ]
  },
  {
   "cell_type": "code",
   "execution_count": 3,
   "id": "215eaa03",
   "metadata": {
    "ExecuteTime": {
     "end_time": "2024-03-01T05:57:53.788369500Z",
     "start_time": "2024-03-01T05:57:53.473593400Z"
    }
   },
   "outputs": [
    {
     "data": {
      "text/plain": "(1000, 22)"
     },
     "execution_count": 3,
     "metadata": {},
     "output_type": "execute_result"
    }
   ],
   "source": [
    "df.shape"
   ]
  },
  {
   "cell_type": "code",
   "execution_count": 4,
   "id": "e5b13930",
   "metadata": {
    "ExecuteTime": {
     "end_time": "2024-03-01T05:57:55.528139100Z",
     "start_time": "2024-03-01T05:57:55.303698400Z"
    }
   },
   "outputs": [
    {
     "data": {
      "text/plain": "    Invoice ID Branch       City Customer type  Gender  \\\n0  750-67-8428      A     Yangon        Member  Female   \n1  226-31-3081      C  Naypyitaw        Normal  Female   \n2  631-41-3108      A     Yangon        Normal    Male   \n3  123-19-1176      A     Yangon        Member    Male   \n4  373-73-7910      A     Yangon        Normal    Male   \n\n             Product line  Unit price  Quantity   Tax 5%     Total  ...  \\\n0       Health and beauty       74.69         7  26.1415  548.9715  ...   \n1  Electronic accessories       15.28         5   3.8200   80.2200  ...   \n2      Home and lifestyle       46.33         7  16.2155  340.5255  ...   \n3       Health and beauty       58.22         8  23.2880  489.0480  ...   \n4       Sports and travel       86.31         7  30.2085  634.3785  ...   \n\n       Payment    cogs gross margin percentage  gross income  Rating  Female  \\\n0      Ewallet  522.83                4.761905       26.1415     9.1       1   \n1         Cash   76.40                4.761905        3.8200     9.6       1   \n2  Credit card  324.31                4.761905       16.2155     7.4       0   \n3      Ewallet  465.76                4.761905       23.2880     8.4       0   \n4      Ewallet  604.17                4.761905       30.2085     5.3       0   \n\n   Male  Cash  Credit card  Ewallet  \n0     0     0            0        1  \n1     0     1            0        0  \n2     1     0            1        0  \n3     1     0            0        1  \n4     1     0            0        1  \n\n[5 rows x 22 columns]",
      "text/html": "<div>\n<style scoped>\n    .dataframe tbody tr th:only-of-type {\n        vertical-align: middle;\n    }\n\n    .dataframe tbody tr th {\n        vertical-align: top;\n    }\n\n    .dataframe thead th {\n        text-align: right;\n    }\n</style>\n<table border=\"1\" class=\"dataframe\">\n  <thead>\n    <tr style=\"text-align: right;\">\n      <th></th>\n      <th>Invoice ID</th>\n      <th>Branch</th>\n      <th>City</th>\n      <th>Customer type</th>\n      <th>Gender</th>\n      <th>Product line</th>\n      <th>Unit price</th>\n      <th>Quantity</th>\n      <th>Tax 5%</th>\n      <th>Total</th>\n      <th>...</th>\n      <th>Payment</th>\n      <th>cogs</th>\n      <th>gross margin percentage</th>\n      <th>gross income</th>\n      <th>Rating</th>\n      <th>Female</th>\n      <th>Male</th>\n      <th>Cash</th>\n      <th>Credit card</th>\n      <th>Ewallet</th>\n    </tr>\n  </thead>\n  <tbody>\n    <tr>\n      <th>0</th>\n      <td>750-67-8428</td>\n      <td>A</td>\n      <td>Yangon</td>\n      <td>Member</td>\n      <td>Female</td>\n      <td>Health and beauty</td>\n      <td>74.69</td>\n      <td>7</td>\n      <td>26.1415</td>\n      <td>548.9715</td>\n      <td>...</td>\n      <td>Ewallet</td>\n      <td>522.83</td>\n      <td>4.761905</td>\n      <td>26.1415</td>\n      <td>9.1</td>\n      <td>1</td>\n      <td>0</td>\n      <td>0</td>\n      <td>0</td>\n      <td>1</td>\n    </tr>\n    <tr>\n      <th>1</th>\n      <td>226-31-3081</td>\n      <td>C</td>\n      <td>Naypyitaw</td>\n      <td>Normal</td>\n      <td>Female</td>\n      <td>Electronic accessories</td>\n      <td>15.28</td>\n      <td>5</td>\n      <td>3.8200</td>\n      <td>80.2200</td>\n      <td>...</td>\n      <td>Cash</td>\n      <td>76.40</td>\n      <td>4.761905</td>\n      <td>3.8200</td>\n      <td>9.6</td>\n      <td>1</td>\n      <td>0</td>\n      <td>1</td>\n      <td>0</td>\n      <td>0</td>\n    </tr>\n    <tr>\n      <th>2</th>\n      <td>631-41-3108</td>\n      <td>A</td>\n      <td>Yangon</td>\n      <td>Normal</td>\n      <td>Male</td>\n      <td>Home and lifestyle</td>\n      <td>46.33</td>\n      <td>7</td>\n      <td>16.2155</td>\n      <td>340.5255</td>\n      <td>...</td>\n      <td>Credit card</td>\n      <td>324.31</td>\n      <td>4.761905</td>\n      <td>16.2155</td>\n      <td>7.4</td>\n      <td>0</td>\n      <td>1</td>\n      <td>0</td>\n      <td>1</td>\n      <td>0</td>\n    </tr>\n    <tr>\n      <th>3</th>\n      <td>123-19-1176</td>\n      <td>A</td>\n      <td>Yangon</td>\n      <td>Member</td>\n      <td>Male</td>\n      <td>Health and beauty</td>\n      <td>58.22</td>\n      <td>8</td>\n      <td>23.2880</td>\n      <td>489.0480</td>\n      <td>...</td>\n      <td>Ewallet</td>\n      <td>465.76</td>\n      <td>4.761905</td>\n      <td>23.2880</td>\n      <td>8.4</td>\n      <td>0</td>\n      <td>1</td>\n      <td>0</td>\n      <td>0</td>\n      <td>1</td>\n    </tr>\n    <tr>\n      <th>4</th>\n      <td>373-73-7910</td>\n      <td>A</td>\n      <td>Yangon</td>\n      <td>Normal</td>\n      <td>Male</td>\n      <td>Sports and travel</td>\n      <td>86.31</td>\n      <td>7</td>\n      <td>30.2085</td>\n      <td>634.3785</td>\n      <td>...</td>\n      <td>Ewallet</td>\n      <td>604.17</td>\n      <td>4.761905</td>\n      <td>30.2085</td>\n      <td>5.3</td>\n      <td>0</td>\n      <td>1</td>\n      <td>0</td>\n      <td>0</td>\n      <td>1</td>\n    </tr>\n  </tbody>\n</table>\n<p>5 rows × 22 columns</p>\n</div>"
     },
     "execution_count": 4,
     "metadata": {},
     "output_type": "execute_result"
    }
   ],
   "source": [
    "df.head()"
   ]
  },
  {
   "cell_type": "code",
   "execution_count": 5,
   "id": "d7ee436c",
   "metadata": {
    "ExecuteTime": {
     "end_time": "2024-03-01T05:58:52.394090100Z",
     "start_time": "2024-03-01T05:58:52.156645500Z"
    }
   },
   "outputs": [],
   "source": [
    "# define independent variables / attributes / features\n",
    "features = ['Quantity','Female', 'Cash','Credit card'] "
   ]
  },
  {
   "cell_type": "code",
   "execution_count": 6,
   "id": "14fdfcce",
   "metadata": {
    "ExecuteTime": {
     "end_time": "2024-03-01T05:58:53.661767100Z",
     "start_time": "2024-03-01T05:58:53.492128800Z"
    }
   },
   "outputs": [],
   "source": [
    "# define target variable\n",
    "target = ['Customer type']"
   ]
  },
  {
   "cell_type": "code",
   "execution_count": 7,
   "id": "a5ba6d4e",
   "metadata": {
    "ExecuteTime": {
     "end_time": "2024-03-01T05:58:55.280189900Z",
     "start_time": "2024-03-01T05:58:55.166666500Z"
    }
   },
   "outputs": [],
   "source": [
    "# get defined dataset\n",
    "X = df [features]\n",
    "y = df [target]"
   ]
  },
  {
   "cell_type": "code",
   "execution_count": 8,
   "id": "11f62d78",
   "metadata": {
    "ExecuteTime": {
     "end_time": "2024-03-01T05:59:06.055301200Z",
     "start_time": "2024-03-01T05:59:02.353454500Z"
    }
   },
   "outputs": [],
   "source": [
    "# randomly split data into 70% and 30%, put 30% in testing\n",
    "from sklearn.model_selection import train_test_split\n",
    "X_train, X_test, y_train, y_test = train_test_split(X, y, test_size=0.3, random_state = 10)"
   ]
  },
  {
   "cell_type": "code",
   "execution_count": 9,
   "id": "503ab54b",
   "metadata": {
    "ExecuteTime": {
     "end_time": "2024-03-01T06:00:09.362894900Z",
     "start_time": "2024-03-01T06:00:08.516541300Z"
    }
   },
   "outputs": [],
   "source": [
    "# import DecisionTreeClassifier and define full-grown tree model\n",
    "from sklearn.tree import DecisionTreeClassifier\n",
    "fullmodel = DecisionTreeClassifier(criterion='entropy')"
   ]
  },
  {
   "cell_type": "code",
   "execution_count": 10,
   "id": "b41c8933",
   "metadata": {
    "ExecuteTime": {
     "end_time": "2024-03-01T06:00:12.266698600Z",
     "start_time": "2024-03-01T06:00:12.110765300Z"
    }
   },
   "outputs": [
    {
     "data": {
      "text/plain": "DecisionTreeClassifier(criterion='entropy')",
      "text/html": "<style>#sk-container-id-1 {\n  /* Definition of color scheme common for light and dark mode */\n  --sklearn-color-text: black;\n  --sklearn-color-line: gray;\n  /* Definition of color scheme for unfitted estimators */\n  --sklearn-color-unfitted-level-0: #fff5e6;\n  --sklearn-color-unfitted-level-1: #f6e4d2;\n  --sklearn-color-unfitted-level-2: #ffe0b3;\n  --sklearn-color-unfitted-level-3: chocolate;\n  /* Definition of color scheme for fitted estimators */\n  --sklearn-color-fitted-level-0: #f0f8ff;\n  --sklearn-color-fitted-level-1: #d4ebff;\n  --sklearn-color-fitted-level-2: #b3dbfd;\n  --sklearn-color-fitted-level-3: cornflowerblue;\n\n  /* Specific color for light theme */\n  --sklearn-color-text-on-default-background: var(--sg-text-color, var(--theme-code-foreground, var(--jp-content-font-color1, black)));\n  --sklearn-color-background: var(--sg-background-color, var(--theme-background, var(--jp-layout-color0, white)));\n  --sklearn-color-border-box: var(--sg-text-color, var(--theme-code-foreground, var(--jp-content-font-color1, black)));\n  --sklearn-color-icon: #696969;\n\n  @media (prefers-color-scheme: dark) {\n    /* Redefinition of color scheme for dark theme */\n    --sklearn-color-text-on-default-background: var(--sg-text-color, var(--theme-code-foreground, var(--jp-content-font-color1, white)));\n    --sklearn-color-background: var(--sg-background-color, var(--theme-background, var(--jp-layout-color0, #111)));\n    --sklearn-color-border-box: var(--sg-text-color, var(--theme-code-foreground, var(--jp-content-font-color1, white)));\n    --sklearn-color-icon: #878787;\n  }\n}\n\n#sk-container-id-1 {\n  color: var(--sklearn-color-text);\n}\n\n#sk-container-id-1 pre {\n  padding: 0;\n}\n\n#sk-container-id-1 input.sk-hidden--visually {\n  border: 0;\n  clip: rect(1px 1px 1px 1px);\n  clip: rect(1px, 1px, 1px, 1px);\n  height: 1px;\n  margin: -1px;\n  overflow: hidden;\n  padding: 0;\n  position: absolute;\n  width: 1px;\n}\n\n#sk-container-id-1 div.sk-dashed-wrapped {\n  border: 1px dashed var(--sklearn-color-line);\n  margin: 0 0.4em 0.5em 0.4em;\n  box-sizing: border-box;\n  padding-bottom: 0.4em;\n  background-color: var(--sklearn-color-background);\n}\n\n#sk-container-id-1 div.sk-container {\n  /* jupyter's `normalize.less` sets `[hidden] { display: none; }`\n     but bootstrap.min.css set `[hidden] { display: none !important; }`\n     so we also need the `!important` here to be able to override the\n     default hidden behavior on the sphinx rendered scikit-learn.org.\n     See: https://github.com/scikit-learn/scikit-learn/issues/21755 */\n  display: inline-block !important;\n  position: relative;\n}\n\n#sk-container-id-1 div.sk-text-repr-fallback {\n  display: none;\n}\n\ndiv.sk-parallel-item,\ndiv.sk-serial,\ndiv.sk-item {\n  /* draw centered vertical line to link estimators */\n  background-image: linear-gradient(var(--sklearn-color-text-on-default-background), var(--sklearn-color-text-on-default-background));\n  background-size: 2px 100%;\n  background-repeat: no-repeat;\n  background-position: center center;\n}\n\n/* Parallel-specific style estimator block */\n\n#sk-container-id-1 div.sk-parallel-item::after {\n  content: \"\";\n  width: 100%;\n  border-bottom: 2px solid var(--sklearn-color-text-on-default-background);\n  flex-grow: 1;\n}\n\n#sk-container-id-1 div.sk-parallel {\n  display: flex;\n  align-items: stretch;\n  justify-content: center;\n  background-color: var(--sklearn-color-background);\n  position: relative;\n}\n\n#sk-container-id-1 div.sk-parallel-item {\n  display: flex;\n  flex-direction: column;\n}\n\n#sk-container-id-1 div.sk-parallel-item:first-child::after {\n  align-self: flex-end;\n  width: 50%;\n}\n\n#sk-container-id-1 div.sk-parallel-item:last-child::after {\n  align-self: flex-start;\n  width: 50%;\n}\n\n#sk-container-id-1 div.sk-parallel-item:only-child::after {\n  width: 0;\n}\n\n/* Serial-specific style estimator block */\n\n#sk-container-id-1 div.sk-serial {\n  display: flex;\n  flex-direction: column;\n  align-items: center;\n  background-color: var(--sklearn-color-background);\n  padding-right: 1em;\n  padding-left: 1em;\n}\n\n\n/* Toggleable style: style used for estimator/Pipeline/ColumnTransformer box that is\nclickable and can be expanded/collapsed.\n- Pipeline and ColumnTransformer use this feature and define the default style\n- Estimators will overwrite some part of the style using the `sk-estimator` class\n*/\n\n/* Pipeline and ColumnTransformer style (default) */\n\n#sk-container-id-1 div.sk-toggleable {\n  /* Default theme specific background. It is overwritten whether we have a\n  specific estimator or a Pipeline/ColumnTransformer */\n  background-color: var(--sklearn-color-background);\n}\n\n/* Toggleable label */\n#sk-container-id-1 label.sk-toggleable__label {\n  cursor: pointer;\n  display: block;\n  width: 100%;\n  margin-bottom: 0;\n  padding: 0.5em;\n  box-sizing: border-box;\n  text-align: center;\n}\n\n#sk-container-id-1 label.sk-toggleable__label-arrow:before {\n  /* Arrow on the left of the label */\n  content: \"▸\";\n  float: left;\n  margin-right: 0.25em;\n  color: var(--sklearn-color-icon);\n}\n\n#sk-container-id-1 label.sk-toggleable__label-arrow:hover:before {\n  color: var(--sklearn-color-text);\n}\n\n/* Toggleable content - dropdown */\n\n#sk-container-id-1 div.sk-toggleable__content {\n  max-height: 0;\n  max-width: 0;\n  overflow: hidden;\n  text-align: left;\n  /* unfitted */\n  background-color: var(--sklearn-color-unfitted-level-0);\n}\n\n#sk-container-id-1 div.sk-toggleable__content.fitted {\n  /* fitted */\n  background-color: var(--sklearn-color-fitted-level-0);\n}\n\n#sk-container-id-1 div.sk-toggleable__content pre {\n  margin: 0.2em;\n  border-radius: 0.25em;\n  color: var(--sklearn-color-text);\n  /* unfitted */\n  background-color: var(--sklearn-color-unfitted-level-0);\n}\n\n#sk-container-id-1 div.sk-toggleable__content.fitted pre {\n  /* unfitted */\n  background-color: var(--sklearn-color-fitted-level-0);\n}\n\n#sk-container-id-1 input.sk-toggleable__control:checked~div.sk-toggleable__content {\n  /* Expand drop-down */\n  max-height: 200px;\n  max-width: 100%;\n  overflow: auto;\n}\n\n#sk-container-id-1 input.sk-toggleable__control:checked~label.sk-toggleable__label-arrow:before {\n  content: \"▾\";\n}\n\n/* Pipeline/ColumnTransformer-specific style */\n\n#sk-container-id-1 div.sk-label input.sk-toggleable__control:checked~label.sk-toggleable__label {\n  color: var(--sklearn-color-text);\n  background-color: var(--sklearn-color-unfitted-level-2);\n}\n\n#sk-container-id-1 div.sk-label.fitted input.sk-toggleable__control:checked~label.sk-toggleable__label {\n  background-color: var(--sklearn-color-fitted-level-2);\n}\n\n/* Estimator-specific style */\n\n/* Colorize estimator box */\n#sk-container-id-1 div.sk-estimator input.sk-toggleable__control:checked~label.sk-toggleable__label {\n  /* unfitted */\n  background-color: var(--sklearn-color-unfitted-level-2);\n}\n\n#sk-container-id-1 div.sk-estimator.fitted input.sk-toggleable__control:checked~label.sk-toggleable__label {\n  /* fitted */\n  background-color: var(--sklearn-color-fitted-level-2);\n}\n\n#sk-container-id-1 div.sk-label label.sk-toggleable__label,\n#sk-container-id-1 div.sk-label label {\n  /* The background is the default theme color */\n  color: var(--sklearn-color-text-on-default-background);\n}\n\n/* On hover, darken the color of the background */\n#sk-container-id-1 div.sk-label:hover label.sk-toggleable__label {\n  color: var(--sklearn-color-text);\n  background-color: var(--sklearn-color-unfitted-level-2);\n}\n\n/* Label box, darken color on hover, fitted */\n#sk-container-id-1 div.sk-label.fitted:hover label.sk-toggleable__label.fitted {\n  color: var(--sklearn-color-text);\n  background-color: var(--sklearn-color-fitted-level-2);\n}\n\n/* Estimator label */\n\n#sk-container-id-1 div.sk-label label {\n  font-family: monospace;\n  font-weight: bold;\n  display: inline-block;\n  line-height: 1.2em;\n}\n\n#sk-container-id-1 div.sk-label-container {\n  text-align: center;\n}\n\n/* Estimator-specific */\n#sk-container-id-1 div.sk-estimator {\n  font-family: monospace;\n  border: 1px dotted var(--sklearn-color-border-box);\n  border-radius: 0.25em;\n  box-sizing: border-box;\n  margin-bottom: 0.5em;\n  /* unfitted */\n  background-color: var(--sklearn-color-unfitted-level-0);\n}\n\n#sk-container-id-1 div.sk-estimator.fitted {\n  /* fitted */\n  background-color: var(--sklearn-color-fitted-level-0);\n}\n\n/* on hover */\n#sk-container-id-1 div.sk-estimator:hover {\n  /* unfitted */\n  background-color: var(--sklearn-color-unfitted-level-2);\n}\n\n#sk-container-id-1 div.sk-estimator.fitted:hover {\n  /* fitted */\n  background-color: var(--sklearn-color-fitted-level-2);\n}\n\n/* Specification for estimator info (e.g. \"i\" and \"?\") */\n\n/* Common style for \"i\" and \"?\" */\n\n.sk-estimator-doc-link,\na:link.sk-estimator-doc-link,\na:visited.sk-estimator-doc-link {\n  float: right;\n  font-size: smaller;\n  line-height: 1em;\n  font-family: monospace;\n  background-color: var(--sklearn-color-background);\n  border-radius: 1em;\n  height: 1em;\n  width: 1em;\n  text-decoration: none !important;\n  margin-left: 1ex;\n  /* unfitted */\n  border: var(--sklearn-color-unfitted-level-1) 1pt solid;\n  color: var(--sklearn-color-unfitted-level-1);\n}\n\n.sk-estimator-doc-link.fitted,\na:link.sk-estimator-doc-link.fitted,\na:visited.sk-estimator-doc-link.fitted {\n  /* fitted */\n  border: var(--sklearn-color-fitted-level-1) 1pt solid;\n  color: var(--sklearn-color-fitted-level-1);\n}\n\n/* On hover */\ndiv.sk-estimator:hover .sk-estimator-doc-link:hover,\n.sk-estimator-doc-link:hover,\ndiv.sk-label-container:hover .sk-estimator-doc-link:hover,\n.sk-estimator-doc-link:hover {\n  /* unfitted */\n  background-color: var(--sklearn-color-unfitted-level-3);\n  color: var(--sklearn-color-background);\n  text-decoration: none;\n}\n\ndiv.sk-estimator.fitted:hover .sk-estimator-doc-link.fitted:hover,\n.sk-estimator-doc-link.fitted:hover,\ndiv.sk-label-container:hover .sk-estimator-doc-link.fitted:hover,\n.sk-estimator-doc-link.fitted:hover {\n  /* fitted */\n  background-color: var(--sklearn-color-fitted-level-3);\n  color: var(--sklearn-color-background);\n  text-decoration: none;\n}\n\n/* Span, style for the box shown on hovering the info icon */\n.sk-estimator-doc-link span {\n  display: none;\n  z-index: 9999;\n  position: relative;\n  font-weight: normal;\n  right: .2ex;\n  padding: .5ex;\n  margin: .5ex;\n  width: min-content;\n  min-width: 20ex;\n  max-width: 50ex;\n  color: var(--sklearn-color-text);\n  box-shadow: 2pt 2pt 4pt #999;\n  /* unfitted */\n  background: var(--sklearn-color-unfitted-level-0);\n  border: .5pt solid var(--sklearn-color-unfitted-level-3);\n}\n\n.sk-estimator-doc-link.fitted span {\n  /* fitted */\n  background: var(--sklearn-color-fitted-level-0);\n  border: var(--sklearn-color-fitted-level-3);\n}\n\n.sk-estimator-doc-link:hover span {\n  display: block;\n}\n\n/* \"?\"-specific style due to the `<a>` HTML tag */\n\n#sk-container-id-1 a.estimator_doc_link {\n  float: right;\n  font-size: 1rem;\n  line-height: 1em;\n  font-family: monospace;\n  background-color: var(--sklearn-color-background);\n  border-radius: 1rem;\n  height: 1rem;\n  width: 1rem;\n  text-decoration: none;\n  /* unfitted */\n  color: var(--sklearn-color-unfitted-level-1);\n  border: var(--sklearn-color-unfitted-level-1) 1pt solid;\n}\n\n#sk-container-id-1 a.estimator_doc_link.fitted {\n  /* fitted */\n  border: var(--sklearn-color-fitted-level-1) 1pt solid;\n  color: var(--sklearn-color-fitted-level-1);\n}\n\n/* On hover */\n#sk-container-id-1 a.estimator_doc_link:hover {\n  /* unfitted */\n  background-color: var(--sklearn-color-unfitted-level-3);\n  color: var(--sklearn-color-background);\n  text-decoration: none;\n}\n\n#sk-container-id-1 a.estimator_doc_link.fitted:hover {\n  /* fitted */\n  background-color: var(--sklearn-color-fitted-level-3);\n}\n</style><div id=\"sk-container-id-1\" class=\"sk-top-container\"><div class=\"sk-text-repr-fallback\"><pre>DecisionTreeClassifier(criterion=&#x27;entropy&#x27;)</pre><b>In a Jupyter environment, please rerun this cell to show the HTML representation or trust the notebook. <br />On GitHub, the HTML representation is unable to render, please try loading this page with nbviewer.org.</b></div><div class=\"sk-container\" hidden><div class=\"sk-item\"><div class=\"sk-estimator fitted sk-toggleable\"><input class=\"sk-toggleable__control sk-hidden--visually\" id=\"sk-estimator-id-1\" type=\"checkbox\" checked><label for=\"sk-estimator-id-1\" class=\"sk-toggleable__label fitted sk-toggleable__label-arrow fitted\">&nbsp;&nbsp;DecisionTreeClassifier<a class=\"sk-estimator-doc-link fitted\" rel=\"noreferrer\" target=\"_blank\" href=\"https://scikit-learn.org/1.4/modules/generated/sklearn.tree.DecisionTreeClassifier.html\">?<span>Documentation for DecisionTreeClassifier</span></a><span class=\"sk-estimator-doc-link fitted\">i<span>Fitted</span></span></label><div class=\"sk-toggleable__content fitted\"><pre>DecisionTreeClassifier(criterion=&#x27;entropy&#x27;)</pre></div> </div></div></div></div>"
     },
     "execution_count": 10,
     "metadata": {},
     "output_type": "execute_result"
    }
   ],
   "source": [
    "# fit the model by 70% training data\n",
    "fullmodel.fit(X_train, y_train)"
   ]
  },
  {
   "cell_type": "code",
   "execution_count": 11,
   "id": "ced6343f",
   "metadata": {
    "ExecuteTime": {
     "end_time": "2024-03-01T06:00:21.254705500Z",
     "start_time": "2024-03-01T06:00:21.125516900Z"
    }
   },
   "outputs": [
    {
     "data": {
      "text/plain": "array(['Normal', 'Normal', 'Normal', 'Normal', 'Member', 'Member',\n       'Member', 'Normal', 'Member', 'Member', 'Member', 'Member',\n       'Member', 'Normal', 'Normal', 'Member', 'Normal', 'Normal',\n       'Member', 'Member', 'Normal', 'Member', 'Member', 'Member',\n       'Normal', 'Member', 'Member', 'Member', 'Member', 'Member',\n       'Normal', 'Normal', 'Member', 'Normal', 'Member', 'Member',\n       'Member', 'Normal', 'Normal', 'Member', 'Member', 'Member',\n       'Member', 'Normal', 'Normal', 'Normal', 'Member', 'Member',\n       'Member', 'Member', 'Member', 'Member', 'Normal', 'Member',\n       'Normal', 'Normal', 'Normal', 'Normal', 'Member', 'Normal',\n       'Member', 'Normal', 'Normal', 'Normal', 'Member', 'Member',\n       'Normal', 'Member', 'Member', 'Normal', 'Member', 'Normal',\n       'Member', 'Member', 'Member', 'Member', 'Normal', 'Member',\n       'Normal', 'Member', 'Normal', 'Normal', 'Member', 'Member',\n       'Member', 'Member', 'Member', 'Normal', 'Member', 'Member',\n       'Normal', 'Normal', 'Member', 'Normal', 'Normal', 'Normal',\n       'Normal', 'Normal', 'Normal', 'Member', 'Member', 'Member',\n       'Normal', 'Normal', 'Normal', 'Normal', 'Member', 'Normal',\n       'Normal', 'Normal', 'Member', 'Normal', 'Member', 'Normal',\n       'Normal', 'Normal', 'Normal', 'Normal', 'Member', 'Normal',\n       'Member', 'Normal', 'Normal', 'Member', 'Normal', 'Normal',\n       'Member', 'Normal', 'Member', 'Normal', 'Member', 'Member',\n       'Member', 'Member', 'Member', 'Member', 'Member', 'Member',\n       'Normal', 'Member', 'Normal', 'Member', 'Member', 'Member',\n       'Member', 'Member', 'Normal', 'Normal', 'Member', 'Member',\n       'Normal', 'Member', 'Member', 'Normal', 'Normal', 'Member',\n       'Member', 'Member', 'Normal', 'Member', 'Member', 'Normal',\n       'Normal', 'Member', 'Member', 'Member', 'Normal', 'Member',\n       'Member', 'Member', 'Member', 'Member', 'Member', 'Member',\n       'Member', 'Normal', 'Normal', 'Member', 'Member', 'Normal',\n       'Member', 'Member', 'Normal', 'Member', 'Normal', 'Normal',\n       'Normal', 'Normal', 'Normal', 'Member', 'Normal', 'Member',\n       'Member', 'Member', 'Member', 'Member', 'Normal', 'Member',\n       'Normal', 'Member', 'Normal', 'Member', 'Member', 'Normal',\n       'Normal', 'Member', 'Member', 'Normal', 'Normal', 'Normal',\n       'Member', 'Normal', 'Member', 'Member', 'Member', 'Normal',\n       'Member', 'Member', 'Member', 'Member', 'Member', 'Member',\n       'Member', 'Member', 'Member', 'Normal', 'Member', 'Member',\n       'Member', 'Normal', 'Member', 'Member', 'Member', 'Member',\n       'Member', 'Member', 'Normal', 'Member', 'Member', 'Normal',\n       'Member', 'Member', 'Member', 'Normal', 'Member', 'Member',\n       'Member', 'Member', 'Member', 'Member', 'Normal', 'Normal',\n       'Normal', 'Normal', 'Normal', 'Member', 'Member', 'Member',\n       'Member', 'Member', 'Member', 'Member', 'Normal', 'Normal',\n       'Member', 'Normal', 'Normal', 'Member', 'Member', 'Normal',\n       'Member', 'Normal', 'Member', 'Normal', 'Normal', 'Member',\n       'Normal', 'Member', 'Normal', 'Normal', 'Normal', 'Member',\n       'Member', 'Normal', 'Member', 'Normal', 'Member', 'Normal',\n       'Member', 'Normal', 'Member', 'Normal', 'Member', 'Normal',\n       'Member', 'Member', 'Normal', 'Normal', 'Member', 'Normal'],\n      dtype=object)"
     },
     "execution_count": 11,
     "metadata": {},
     "output_type": "execute_result"
    }
   ],
   "source": [
    "# test model using testing data\n",
    "y_pred = fullmodel.predict(X_test)\n",
    "y_pred"
   ]
  },
  {
   "cell_type": "markdown",
   "id": "ebeaf575",
   "metadata": {},
   "source": [
    "## Model Evaluation"
   ]
  },
  {
   "cell_type": "code",
   "execution_count": 12,
   "id": "de205802",
   "metadata": {
    "ExecuteTime": {
     "end_time": "2024-03-01T06:00:29.160586800Z",
     "start_time": "2024-03-01T06:00:28.983326300Z"
    }
   },
   "outputs": [],
   "source": [
    "# import evaluation functions from sklearn\n",
    "from sklearn.metrics import accuracy_score\n",
    "from sklearn.metrics import confusion_matrix\n",
    "from sklearn.metrics import classification_report"
   ]
  },
  {
   "cell_type": "markdown",
   "id": "1603025d",
   "metadata": {},
   "source": [
    "### Accuracy"
   ]
  },
  {
   "cell_type": "code",
   "execution_count": 13,
   "id": "dca71a19",
   "metadata": {
    "ExecuteTime": {
     "end_time": "2024-03-01T06:07:56.032330900Z",
     "start_time": "2024-03-01T06:07:55.888147800Z"
    }
   },
   "outputs": [
    {
     "name": "stdout",
     "output_type": "stream",
     "text": [
      "Accuracy of testing data: 0.49666666666666665\n"
     ]
    }
   ],
   "source": [
    "# accuracy of testing data\n",
    "# normalize=True (by default) returns the fraction of correctly classified samples\n",
    "# Otherwise, return the numbers\n",
    "\n",
    "print(\"Accuracy of testing data:\",accuracy_score(y_test, y_pred, normalize=True))"
   ]
  },
  {
   "cell_type": "code",
   "execution_count": 14,
   "id": "28afa86e",
   "metadata": {
    "ExecuteTime": {
     "end_time": "2024-03-01T06:08:50.720516200Z",
     "start_time": "2024-03-01T06:08:50.609024700Z"
    }
   },
   "outputs": [
    {
     "name": "stdout",
     "output_type": "stream",
     "text": [
      "Accuracy of testing data: 149.0\n"
     ]
    }
   ],
   "source": [
    "print(\"Accuracy of testing data:\",accuracy_score(y_test, y_pred, normalize=False))"
   ]
  },
  {
   "cell_type": "code",
   "execution_count": 15,
   "id": "9cc13820-da32-401c-a0db-309fd263de44",
   "metadata": {
    "ExecuteTime": {
     "end_time": "2024-03-01T06:09:28.528763900Z",
     "start_time": "2024-03-01T06:09:28.366631500Z"
    }
   },
   "outputs": [
    {
     "data": {
      "text/plain": "0.49666666666666665"
     },
     "execution_count": 15,
     "metadata": {},
     "output_type": "execute_result"
    }
   ],
   "source": [
    "149/300"
   ]
  },
  {
   "cell_type": "code",
   "execution_count": 16,
   "id": "6628bbd4",
   "metadata": {
    "ExecuteTime": {
     "end_time": "2024-03-01T06:09:29.844205900Z",
     "start_time": "2024-03-01T06:09:29.722820300Z"
    }
   },
   "outputs": [],
   "source": [
    "# help(accuracy_score)"
   ]
  },
  {
   "cell_type": "markdown",
   "id": "d1ad97af",
   "metadata": {},
   "source": [
    "### Confusion Matrix"
   ]
  },
  {
   "cell_type": "code",
   "execution_count": 17,
   "id": "f674c880",
   "metadata": {
    "ExecuteTime": {
     "end_time": "2024-03-01T06:10:07.571761500Z",
     "start_time": "2024-03-01T06:10:07.431988400Z"
    }
   },
   "outputs": [
    {
     "name": "stdout",
     "output_type": "stream",
     "text": [
      "[[86 63]\n",
      " [88 63]]\n"
     ]
    }
   ],
   "source": [
    "print(confusion_matrix(y_test, y_pred))"
   ]
  },
  {
   "cell_type": "code",
   "execution_count": 18,
   "id": "fd4c4605",
   "metadata": {
    "ExecuteTime": {
     "end_time": "2024-03-01T06:10:32.922154300Z",
     "start_time": "2024-03-01T06:10:32.784494500Z"
    }
   },
   "outputs": [
    {
     "data": {
      "text/plain": "300"
     },
     "execution_count": 18,
     "metadata": {},
     "output_type": "execute_result"
    }
   ],
   "source": [
    "len(y_test)"
   ]
  },
  {
   "cell_type": "code",
   "execution_count": 19,
   "id": "77aa756c",
   "metadata": {
    "ExecuteTime": {
     "end_time": "2024-03-01T06:10:34.135052700Z",
     "start_time": "2024-03-01T06:10:33.976982900Z"
    }
   },
   "outputs": [
    {
     "data": {
      "text/plain": "300"
     },
     "execution_count": 19,
     "metadata": {},
     "output_type": "execute_result"
    }
   ],
   "source": [
    "86+63+88+63"
   ]
  },
  {
   "cell_type": "code",
   "execution_count": 20,
   "id": "9c6dc4ea",
   "metadata": {
    "ExecuteTime": {
     "end_time": "2024-03-01T06:10:43.653865700Z",
     "start_time": "2024-03-01T06:10:43.546604600Z"
    }
   },
   "outputs": [
    {
     "name": "stdout",
     "output_type": "stream",
     "text": [
      "Help on function confusion_matrix in module sklearn.metrics._classification:\n",
      "\n",
      "confusion_matrix(y_true, y_pred, *, labels=None, sample_weight=None, normalize=None)\n",
      "    Compute confusion matrix to evaluate the accuracy of a classification.\n",
      "    \n",
      "    By definition a confusion matrix :math:`C` is such that :math:`C_{i, j}`\n",
      "    is equal to the number of observations known to be in group :math:`i` and\n",
      "    predicted to be in group :math:`j`.\n",
      "    \n",
      "    Thus in binary classification, the count of true negatives is\n",
      "    :math:`C_{0,0}`, false negatives is :math:`C_{1,0}`, true positives is\n",
      "    :math:`C_{1,1}` and false positives is :math:`C_{0,1}`.\n",
      "    \n",
      "    Read more in the :ref:`User Guide <confusion_matrix>`.\n",
      "    \n",
      "    Parameters\n",
      "    ----------\n",
      "    y_true : array-like of shape (n_samples,)\n",
      "        Ground truth (correct) target values.\n",
      "    \n",
      "    y_pred : array-like of shape (n_samples,)\n",
      "        Estimated targets as returned by a classifier.\n",
      "    \n",
      "    labels : array-like of shape (n_classes), default=None\n",
      "        List of labels to index the matrix. This may be used to reorder\n",
      "        or select a subset of labels.\n",
      "        If ``None`` is given, those that appear at least once\n",
      "        in ``y_true`` or ``y_pred`` are used in sorted order.\n",
      "    \n",
      "    sample_weight : array-like of shape (n_samples,), default=None\n",
      "        Sample weights.\n",
      "    \n",
      "        .. versionadded:: 0.18\n",
      "    \n",
      "    normalize : {'true', 'pred', 'all'}, default=None\n",
      "        Normalizes confusion matrix over the true (rows), predicted (columns)\n",
      "        conditions or all the population. If None, confusion matrix will not be\n",
      "        normalized.\n",
      "    \n",
      "    Returns\n",
      "    -------\n",
      "    C : ndarray of shape (n_classes, n_classes)\n",
      "        Confusion matrix whose i-th row and j-th\n",
      "        column entry indicates the number of\n",
      "        samples with true label being i-th class\n",
      "        and predicted label being j-th class.\n",
      "    \n",
      "    See Also\n",
      "    --------\n",
      "    ConfusionMatrixDisplay.from_estimator : Plot the confusion matrix\n",
      "        given an estimator, the data, and the label.\n",
      "    ConfusionMatrixDisplay.from_predictions : Plot the confusion matrix\n",
      "        given the true and predicted labels.\n",
      "    ConfusionMatrixDisplay : Confusion Matrix visualization.\n",
      "    \n",
      "    References\n",
      "    ----------\n",
      "    .. [1] `Wikipedia entry for the Confusion matrix\n",
      "           <https://en.wikipedia.org/wiki/Confusion_matrix>`_\n",
      "           (Wikipedia and other references may use a different\n",
      "           convention for axes).\n",
      "    \n",
      "    Examples\n",
      "    --------\n",
      "    >>> from sklearn.metrics import confusion_matrix\n",
      "    >>> y_true = [2, 0, 2, 2, 0, 1]\n",
      "    >>> y_pred = [0, 0, 2, 2, 0, 2]\n",
      "    >>> confusion_matrix(y_true, y_pred)\n",
      "    array([[2, 0, 0],\n",
      "           [0, 0, 1],\n",
      "           [1, 0, 2]])\n",
      "    \n",
      "    >>> y_true = [\"cat\", \"ant\", \"cat\", \"cat\", \"ant\", \"bird\"]\n",
      "    >>> y_pred = [\"ant\", \"ant\", \"cat\", \"cat\", \"ant\", \"cat\"]\n",
      "    >>> confusion_matrix(y_true, y_pred, labels=[\"ant\", \"bird\", \"cat\"])\n",
      "    array([[2, 0, 0],\n",
      "           [0, 0, 1],\n",
      "           [1, 0, 2]])\n",
      "    \n",
      "    In the binary case, we can extract true positives, etc. as follows:\n",
      "    \n",
      "    >>> tn, fp, fn, tp = confusion_matrix([0, 1, 0, 1], [1, 1, 1, 0]).ravel()\n",
      "    >>> (tn, fp, fn, tp)\n",
      "    (0, 2, 1, 1)\n"
     ]
    }
   ],
   "source": [
    "help(confusion_matrix)"
   ]
  },
  {
   "cell_type": "code",
   "execution_count": 21,
   "id": "20d254c7",
   "metadata": {
    "ExecuteTime": {
     "end_time": "2024-03-01T06:15:34.449322900Z",
     "start_time": "2024-03-01T06:15:34.045215300Z"
    }
   },
   "outputs": [
    {
     "data": {
      "text/plain": "(63, 63, 86, 88)"
     },
     "execution_count": 21,
     "metadata": {},
     "output_type": "execute_result"
    }
   ],
   "source": [
    "# display confusion matrix in a more readable way\n",
    "\n",
    "conf=confusion_matrix(y_test, y_pred)\n",
    "\n",
    "TP = conf[1,1]\n",
    "FP = conf[0,1]\n",
    "TN = conf[0,0]\n",
    "FN = conf[1,0]\n",
    "\n",
    "(TP,FP,TN,FN)"
   ]
  },
  {
   "cell_type": "markdown",
   "id": "12b79cc4",
   "metadata": {},
   "source": [
    "#### Examples to better understand confusion matrix"
   ]
  },
  {
   "cell_type": "code",
   "execution_count": 22,
   "id": "ec86157f",
   "metadata": {
    "ExecuteTime": {
     "end_time": "2024-03-01T06:17:04.854143100Z",
     "start_time": "2024-03-01T06:17:04.753768100Z"
    }
   },
   "outputs": [
    {
     "data": {
      "text/plain": "   Actual  Predicted\n0       0          1\n1       1          1\n2       0          1\n3       1          0",
      "text/html": "<div>\n<style scoped>\n    .dataframe tbody tr th:only-of-type {\n        vertical-align: middle;\n    }\n\n    .dataframe tbody tr th {\n        vertical-align: top;\n    }\n\n    .dataframe thead th {\n        text-align: right;\n    }\n</style>\n<table border=\"1\" class=\"dataframe\">\n  <thead>\n    <tr style=\"text-align: right;\">\n      <th></th>\n      <th>Actual</th>\n      <th>Predicted</th>\n    </tr>\n  </thead>\n  <tbody>\n    <tr>\n      <th>0</th>\n      <td>0</td>\n      <td>1</td>\n    </tr>\n    <tr>\n      <th>1</th>\n      <td>1</td>\n      <td>1</td>\n    </tr>\n    <tr>\n      <th>2</th>\n      <td>0</td>\n      <td>1</td>\n    </tr>\n    <tr>\n      <th>3</th>\n      <td>1</td>\n      <td>0</td>\n    </tr>\n  </tbody>\n</table>\n</div>"
     },
     "execution_count": 22,
     "metadata": {},
     "output_type": "execute_result"
    }
   ],
   "source": [
    "d= {'Actual': [0, 1, 0, 1], 'Predicted': [1, 1, 1, 0]}\n",
    "pd.DataFrame(d, columns=['Actual','Predicted'])"
   ]
  },
  {
   "cell_type": "code",
   "execution_count": 23,
   "id": "3dd0d26c",
   "metadata": {
    "ExecuteTime": {
     "end_time": "2024-03-01T06:17:26.228415300Z",
     "start_time": "2024-03-01T06:17:26.046314700Z"
    }
   },
   "outputs": [
    {
     "data": {
      "text/plain": "array([[0, 2],\n       [1, 1]], dtype=int64)"
     },
     "execution_count": 23,
     "metadata": {},
     "output_type": "execute_result"
    }
   ],
   "source": [
    "confusion_matrix([0, 1, 0, 1], [1, 1, 1, 0])"
   ]
  },
  {
   "cell_type": "markdown",
   "id": "b98d5151",
   "metadata": {},
   "source": [
    "### Classification Report"
   ]
  },
  {
   "cell_type": "code",
   "execution_count": 24,
   "id": "2c292822",
   "metadata": {
    "ExecuteTime": {
     "end_time": "2024-03-01T06:27:49.576597500Z",
     "start_time": "2024-03-01T06:27:49.397581Z"
    }
   },
   "outputs": [
    {
     "name": "stdout",
     "output_type": "stream",
     "text": [
      "              precision    recall  f1-score   support\n",
      "\n",
      "      Member       0.49      0.58      0.53       149\n",
      "      Normal       0.50      0.42      0.45       151\n",
      "\n",
      "    accuracy                           0.50       300\n",
      "   macro avg       0.50      0.50      0.49       300\n",
      "weighted avg       0.50      0.50      0.49       300\n"
     ]
    }
   ],
   "source": [
    "# precision, recall, f1-score\n",
    "print(classification_report(y_test, y_pred))"
   ]
  },
  {
   "cell_type": "code",
   "execution_count": 25,
   "id": "17454078",
   "metadata": {
    "ExecuteTime": {
     "end_time": "2024-03-01T06:32:23.875187700Z",
     "start_time": "2024-03-01T06:32:23.690158Z"
    }
   },
   "outputs": [
    {
     "data": {
      "text/plain": "0.5"
     },
     "execution_count": 25,
     "metadata": {},
     "output_type": "execute_result"
    }
   ],
   "source": [
    "# precision of Normal TP/(TP+FP)\n",
    "63/(63+63)"
   ]
  },
  {
   "cell_type": "code",
   "execution_count": 26,
   "id": "9a88c8e9",
   "metadata": {
    "ExecuteTime": {
     "end_time": "2024-03-01T06:32:26.651234400Z",
     "start_time": "2024-03-01T06:32:26.414144900Z"
    }
   },
   "outputs": [
    {
     "data": {
      "text/plain": "0.4942528735632184"
     },
     "execution_count": 26,
     "metadata": {},
     "output_type": "execute_result"
    }
   ],
   "source": [
    "# precision of Member TN/(TN+FN) \n",
    "86/(86+88)"
   ]
  },
  {
   "cell_type": "code",
   "execution_count": 27,
   "id": "dd908ed7",
   "metadata": {
    "ExecuteTime": {
     "end_time": "2024-03-01T06:32:30.397489Z",
     "start_time": "2024-03-01T06:32:30.269260400Z"
    }
   },
   "outputs": [],
   "source": [
    "# help(classification_report)"
   ]
  },
  {
   "cell_type": "code",
   "execution_count": 28,
   "id": "7d30d47e",
   "metadata": {
    "ExecuteTime": {
     "end_time": "2024-03-01T06:32:31.377887700Z",
     "start_time": "2024-03-01T06:32:31.237854200Z"
    }
   },
   "outputs": [
    {
     "data": {
      "text/plain": "    Customer type\n742        Member\n676        Member\n571        Member\n99         Normal\n78         Member",
      "text/html": "<div>\n<style scoped>\n    .dataframe tbody tr th:only-of-type {\n        vertical-align: middle;\n    }\n\n    .dataframe tbody tr th {\n        vertical-align: top;\n    }\n\n    .dataframe thead th {\n        text-align: right;\n    }\n</style>\n<table border=\"1\" class=\"dataframe\">\n  <thead>\n    <tr style=\"text-align: right;\">\n      <th></th>\n      <th>Customer type</th>\n    </tr>\n  </thead>\n  <tbody>\n    <tr>\n      <th>742</th>\n      <td>Member</td>\n    </tr>\n    <tr>\n      <th>676</th>\n      <td>Member</td>\n    </tr>\n    <tr>\n      <th>571</th>\n      <td>Member</td>\n    </tr>\n    <tr>\n      <th>99</th>\n      <td>Normal</td>\n    </tr>\n    <tr>\n      <th>78</th>\n      <td>Member</td>\n    </tr>\n  </tbody>\n</table>\n</div>"
     },
     "execution_count": 28,
     "metadata": {},
     "output_type": "execute_result"
    }
   ],
   "source": [
    "y_train.head()"
   ]
  },
  {
   "cell_type": "code",
   "execution_count": 29,
   "id": "22917e2e",
   "metadata": {
    "ExecuteTime": {
     "end_time": "2024-03-01T06:32:33.801638300Z",
     "start_time": "2024-03-01T06:32:33.639897500Z"
    }
   },
   "outputs": [
    {
     "data": {
      "text/plain": "['Member', 'Normal']"
     },
     "execution_count": 29,
     "metadata": {},
     "output_type": "execute_result"
    }
   ],
   "source": [
    "target_names = y_train['Customer type'].unique().tolist()\n",
    "target_names"
   ]
  },
  {
   "cell_type": "code",
   "execution_count": 30,
   "id": "df2523d3",
   "metadata": {
    "ExecuteTime": {
     "end_time": "2024-03-01T06:32:36.099418400Z",
     "start_time": "2024-03-01T06:32:35.939360500Z"
    }
   },
   "outputs": [
    {
     "data": {
      "text/plain": "Customer type\nNormal    151\nMember    149\nName: count, dtype: int64"
     },
     "execution_count": 30,
     "metadata": {},
     "output_type": "execute_result"
    }
   ],
   "source": [
    "# y_test.value_counts()\n",
    "y_test['Customer type'].value_counts()"
   ]
  },
  {
   "cell_type": "markdown",
   "id": "3a342d3c",
   "metadata": {},
   "source": [
    "## Overfitting"
   ]
  },
  {
   "cell_type": "code",
   "execution_count": 31,
   "id": "40d075d8",
   "metadata": {
    "ExecuteTime": {
     "end_time": "2024-03-01T06:57:15.169481600Z",
     "start_time": "2024-03-01T06:57:14.999320300Z"
    }
   },
   "outputs": [
    {
     "name": "stdout",
     "output_type": "stream",
     "text": [
      "Accuracy of testing data: 0.49666666666666665\n"
     ]
    }
   ],
   "source": [
    "print(\"Accuracy of testing data:\",accuracy_score(y_test, y_pred, normalize=True))"
   ]
  },
  {
   "cell_type": "code",
   "execution_count": 32,
   "id": "7edc1fc3",
   "metadata": {
    "ExecuteTime": {
     "end_time": "2024-03-01T06:57:19.239410100Z",
     "start_time": "2024-03-01T06:57:19.129737400Z"
    }
   },
   "outputs": [],
   "source": [
    "y_pred_train = fullmodel.predict(X_train)"
   ]
  },
  {
   "cell_type": "code",
   "execution_count": 33,
   "id": "fe82c3f6",
   "metadata": {
    "ExecuteTime": {
     "end_time": "2024-03-01T06:57:20.701532600Z",
     "start_time": "2024-03-01T06:57:20.502159300Z"
    }
   },
   "outputs": [
    {
     "name": "stdout",
     "output_type": "stream",
     "text": [
      "Accuracy of training data: 0.62\n"
     ]
    }
   ],
   "source": [
    "print(\"Accuracy of training data:\",accuracy_score(y_train, y_pred_train, normalize=True))"
   ]
  },
  {
   "cell_type": "markdown",
   "id": "03d8beca",
   "metadata": {},
   "source": [
    "## Tune Parameters: Depth"
   ]
  },
  {
   "cell_type": "code",
   "execution_count": 34,
   "id": "85976815",
   "metadata": {
    "ExecuteTime": {
     "end_time": "2024-03-01T06:57:43.049810800Z",
     "start_time": "2024-03-01T06:57:42.900609900Z"
    }
   },
   "outputs": [
    {
     "data": {
      "text/plain": "DecisionTreeClassifier(criterion='entropy', max_depth=4)",
      "text/html": "<style>#sk-container-id-2 {\n  /* Definition of color scheme common for light and dark mode */\n  --sklearn-color-text: black;\n  --sklearn-color-line: gray;\n  /* Definition of color scheme for unfitted estimators */\n  --sklearn-color-unfitted-level-0: #fff5e6;\n  --sklearn-color-unfitted-level-1: #f6e4d2;\n  --sklearn-color-unfitted-level-2: #ffe0b3;\n  --sklearn-color-unfitted-level-3: chocolate;\n  /* Definition of color scheme for fitted estimators */\n  --sklearn-color-fitted-level-0: #f0f8ff;\n  --sklearn-color-fitted-level-1: #d4ebff;\n  --sklearn-color-fitted-level-2: #b3dbfd;\n  --sklearn-color-fitted-level-3: cornflowerblue;\n\n  /* Specific color for light theme */\n  --sklearn-color-text-on-default-background: var(--sg-text-color, var(--theme-code-foreground, var(--jp-content-font-color1, black)));\n  --sklearn-color-background: var(--sg-background-color, var(--theme-background, var(--jp-layout-color0, white)));\n  --sklearn-color-border-box: var(--sg-text-color, var(--theme-code-foreground, var(--jp-content-font-color1, black)));\n  --sklearn-color-icon: #696969;\n\n  @media (prefers-color-scheme: dark) {\n    /* Redefinition of color scheme for dark theme */\n    --sklearn-color-text-on-default-background: var(--sg-text-color, var(--theme-code-foreground, var(--jp-content-font-color1, white)));\n    --sklearn-color-background: var(--sg-background-color, var(--theme-background, var(--jp-layout-color0, #111)));\n    --sklearn-color-border-box: var(--sg-text-color, var(--theme-code-foreground, var(--jp-content-font-color1, white)));\n    --sklearn-color-icon: #878787;\n  }\n}\n\n#sk-container-id-2 {\n  color: var(--sklearn-color-text);\n}\n\n#sk-container-id-2 pre {\n  padding: 0;\n}\n\n#sk-container-id-2 input.sk-hidden--visually {\n  border: 0;\n  clip: rect(1px 1px 1px 1px);\n  clip: rect(1px, 1px, 1px, 1px);\n  height: 1px;\n  margin: -1px;\n  overflow: hidden;\n  padding: 0;\n  position: absolute;\n  width: 1px;\n}\n\n#sk-container-id-2 div.sk-dashed-wrapped {\n  border: 1px dashed var(--sklearn-color-line);\n  margin: 0 0.4em 0.5em 0.4em;\n  box-sizing: border-box;\n  padding-bottom: 0.4em;\n  background-color: var(--sklearn-color-background);\n}\n\n#sk-container-id-2 div.sk-container {\n  /* jupyter's `normalize.less` sets `[hidden] { display: none; }`\n     but bootstrap.min.css set `[hidden] { display: none !important; }`\n     so we also need the `!important` here to be able to override the\n     default hidden behavior on the sphinx rendered scikit-learn.org.\n     See: https://github.com/scikit-learn/scikit-learn/issues/21755 */\n  display: inline-block !important;\n  position: relative;\n}\n\n#sk-container-id-2 div.sk-text-repr-fallback {\n  display: none;\n}\n\ndiv.sk-parallel-item,\ndiv.sk-serial,\ndiv.sk-item {\n  /* draw centered vertical line to link estimators */\n  background-image: linear-gradient(var(--sklearn-color-text-on-default-background), var(--sklearn-color-text-on-default-background));\n  background-size: 2px 100%;\n  background-repeat: no-repeat;\n  background-position: center center;\n}\n\n/* Parallel-specific style estimator block */\n\n#sk-container-id-2 div.sk-parallel-item::after {\n  content: \"\";\n  width: 100%;\n  border-bottom: 2px solid var(--sklearn-color-text-on-default-background);\n  flex-grow: 1;\n}\n\n#sk-container-id-2 div.sk-parallel {\n  display: flex;\n  align-items: stretch;\n  justify-content: center;\n  background-color: var(--sklearn-color-background);\n  position: relative;\n}\n\n#sk-container-id-2 div.sk-parallel-item {\n  display: flex;\n  flex-direction: column;\n}\n\n#sk-container-id-2 div.sk-parallel-item:first-child::after {\n  align-self: flex-end;\n  width: 50%;\n}\n\n#sk-container-id-2 div.sk-parallel-item:last-child::after {\n  align-self: flex-start;\n  width: 50%;\n}\n\n#sk-container-id-2 div.sk-parallel-item:only-child::after {\n  width: 0;\n}\n\n/* Serial-specific style estimator block */\n\n#sk-container-id-2 div.sk-serial {\n  display: flex;\n  flex-direction: column;\n  align-items: center;\n  background-color: var(--sklearn-color-background);\n  padding-right: 1em;\n  padding-left: 1em;\n}\n\n\n/* Toggleable style: style used for estimator/Pipeline/ColumnTransformer box that is\nclickable and can be expanded/collapsed.\n- Pipeline and ColumnTransformer use this feature and define the default style\n- Estimators will overwrite some part of the style using the `sk-estimator` class\n*/\n\n/* Pipeline and ColumnTransformer style (default) */\n\n#sk-container-id-2 div.sk-toggleable {\n  /* Default theme specific background. It is overwritten whether we have a\n  specific estimator or a Pipeline/ColumnTransformer */\n  background-color: var(--sklearn-color-background);\n}\n\n/* Toggleable label */\n#sk-container-id-2 label.sk-toggleable__label {\n  cursor: pointer;\n  display: block;\n  width: 100%;\n  margin-bottom: 0;\n  padding: 0.5em;\n  box-sizing: border-box;\n  text-align: center;\n}\n\n#sk-container-id-2 label.sk-toggleable__label-arrow:before {\n  /* Arrow on the left of the label */\n  content: \"▸\";\n  float: left;\n  margin-right: 0.25em;\n  color: var(--sklearn-color-icon);\n}\n\n#sk-container-id-2 label.sk-toggleable__label-arrow:hover:before {\n  color: var(--sklearn-color-text);\n}\n\n/* Toggleable content - dropdown */\n\n#sk-container-id-2 div.sk-toggleable__content {\n  max-height: 0;\n  max-width: 0;\n  overflow: hidden;\n  text-align: left;\n  /* unfitted */\n  background-color: var(--sklearn-color-unfitted-level-0);\n}\n\n#sk-container-id-2 div.sk-toggleable__content.fitted {\n  /* fitted */\n  background-color: var(--sklearn-color-fitted-level-0);\n}\n\n#sk-container-id-2 div.sk-toggleable__content pre {\n  margin: 0.2em;\n  border-radius: 0.25em;\n  color: var(--sklearn-color-text);\n  /* unfitted */\n  background-color: var(--sklearn-color-unfitted-level-0);\n}\n\n#sk-container-id-2 div.sk-toggleable__content.fitted pre {\n  /* unfitted */\n  background-color: var(--sklearn-color-fitted-level-0);\n}\n\n#sk-container-id-2 input.sk-toggleable__control:checked~div.sk-toggleable__content {\n  /* Expand drop-down */\n  max-height: 200px;\n  max-width: 100%;\n  overflow: auto;\n}\n\n#sk-container-id-2 input.sk-toggleable__control:checked~label.sk-toggleable__label-arrow:before {\n  content: \"▾\";\n}\n\n/* Pipeline/ColumnTransformer-specific style */\n\n#sk-container-id-2 div.sk-label input.sk-toggleable__control:checked~label.sk-toggleable__label {\n  color: var(--sklearn-color-text);\n  background-color: var(--sklearn-color-unfitted-level-2);\n}\n\n#sk-container-id-2 div.sk-label.fitted input.sk-toggleable__control:checked~label.sk-toggleable__label {\n  background-color: var(--sklearn-color-fitted-level-2);\n}\n\n/* Estimator-specific style */\n\n/* Colorize estimator box */\n#sk-container-id-2 div.sk-estimator input.sk-toggleable__control:checked~label.sk-toggleable__label {\n  /* unfitted */\n  background-color: var(--sklearn-color-unfitted-level-2);\n}\n\n#sk-container-id-2 div.sk-estimator.fitted input.sk-toggleable__control:checked~label.sk-toggleable__label {\n  /* fitted */\n  background-color: var(--sklearn-color-fitted-level-2);\n}\n\n#sk-container-id-2 div.sk-label label.sk-toggleable__label,\n#sk-container-id-2 div.sk-label label {\n  /* The background is the default theme color */\n  color: var(--sklearn-color-text-on-default-background);\n}\n\n/* On hover, darken the color of the background */\n#sk-container-id-2 div.sk-label:hover label.sk-toggleable__label {\n  color: var(--sklearn-color-text);\n  background-color: var(--sklearn-color-unfitted-level-2);\n}\n\n/* Label box, darken color on hover, fitted */\n#sk-container-id-2 div.sk-label.fitted:hover label.sk-toggleable__label.fitted {\n  color: var(--sklearn-color-text);\n  background-color: var(--sklearn-color-fitted-level-2);\n}\n\n/* Estimator label */\n\n#sk-container-id-2 div.sk-label label {\n  font-family: monospace;\n  font-weight: bold;\n  display: inline-block;\n  line-height: 1.2em;\n}\n\n#sk-container-id-2 div.sk-label-container {\n  text-align: center;\n}\n\n/* Estimator-specific */\n#sk-container-id-2 div.sk-estimator {\n  font-family: monospace;\n  border: 1px dotted var(--sklearn-color-border-box);\n  border-radius: 0.25em;\n  box-sizing: border-box;\n  margin-bottom: 0.5em;\n  /* unfitted */\n  background-color: var(--sklearn-color-unfitted-level-0);\n}\n\n#sk-container-id-2 div.sk-estimator.fitted {\n  /* fitted */\n  background-color: var(--sklearn-color-fitted-level-0);\n}\n\n/* on hover */\n#sk-container-id-2 div.sk-estimator:hover {\n  /* unfitted */\n  background-color: var(--sklearn-color-unfitted-level-2);\n}\n\n#sk-container-id-2 div.sk-estimator.fitted:hover {\n  /* fitted */\n  background-color: var(--sklearn-color-fitted-level-2);\n}\n\n/* Specification for estimator info (e.g. \"i\" and \"?\") */\n\n/* Common style for \"i\" and \"?\" */\n\n.sk-estimator-doc-link,\na:link.sk-estimator-doc-link,\na:visited.sk-estimator-doc-link {\n  float: right;\n  font-size: smaller;\n  line-height: 1em;\n  font-family: monospace;\n  background-color: var(--sklearn-color-background);\n  border-radius: 1em;\n  height: 1em;\n  width: 1em;\n  text-decoration: none !important;\n  margin-left: 1ex;\n  /* unfitted */\n  border: var(--sklearn-color-unfitted-level-1) 1pt solid;\n  color: var(--sklearn-color-unfitted-level-1);\n}\n\n.sk-estimator-doc-link.fitted,\na:link.sk-estimator-doc-link.fitted,\na:visited.sk-estimator-doc-link.fitted {\n  /* fitted */\n  border: var(--sklearn-color-fitted-level-1) 1pt solid;\n  color: var(--sklearn-color-fitted-level-1);\n}\n\n/* On hover */\ndiv.sk-estimator:hover .sk-estimator-doc-link:hover,\n.sk-estimator-doc-link:hover,\ndiv.sk-label-container:hover .sk-estimator-doc-link:hover,\n.sk-estimator-doc-link:hover {\n  /* unfitted */\n  background-color: var(--sklearn-color-unfitted-level-3);\n  color: var(--sklearn-color-background);\n  text-decoration: none;\n}\n\ndiv.sk-estimator.fitted:hover .sk-estimator-doc-link.fitted:hover,\n.sk-estimator-doc-link.fitted:hover,\ndiv.sk-label-container:hover .sk-estimator-doc-link.fitted:hover,\n.sk-estimator-doc-link.fitted:hover {\n  /* fitted */\n  background-color: var(--sklearn-color-fitted-level-3);\n  color: var(--sklearn-color-background);\n  text-decoration: none;\n}\n\n/* Span, style for the box shown on hovering the info icon */\n.sk-estimator-doc-link span {\n  display: none;\n  z-index: 9999;\n  position: relative;\n  font-weight: normal;\n  right: .2ex;\n  padding: .5ex;\n  margin: .5ex;\n  width: min-content;\n  min-width: 20ex;\n  max-width: 50ex;\n  color: var(--sklearn-color-text);\n  box-shadow: 2pt 2pt 4pt #999;\n  /* unfitted */\n  background: var(--sklearn-color-unfitted-level-0);\n  border: .5pt solid var(--sklearn-color-unfitted-level-3);\n}\n\n.sk-estimator-doc-link.fitted span {\n  /* fitted */\n  background: var(--sklearn-color-fitted-level-0);\n  border: var(--sklearn-color-fitted-level-3);\n}\n\n.sk-estimator-doc-link:hover span {\n  display: block;\n}\n\n/* \"?\"-specific style due to the `<a>` HTML tag */\n\n#sk-container-id-2 a.estimator_doc_link {\n  float: right;\n  font-size: 1rem;\n  line-height: 1em;\n  font-family: monospace;\n  background-color: var(--sklearn-color-background);\n  border-radius: 1rem;\n  height: 1rem;\n  width: 1rem;\n  text-decoration: none;\n  /* unfitted */\n  color: var(--sklearn-color-unfitted-level-1);\n  border: var(--sklearn-color-unfitted-level-1) 1pt solid;\n}\n\n#sk-container-id-2 a.estimator_doc_link.fitted {\n  /* fitted */\n  border: var(--sklearn-color-fitted-level-1) 1pt solid;\n  color: var(--sklearn-color-fitted-level-1);\n}\n\n/* On hover */\n#sk-container-id-2 a.estimator_doc_link:hover {\n  /* unfitted */\n  background-color: var(--sklearn-color-unfitted-level-3);\n  color: var(--sklearn-color-background);\n  text-decoration: none;\n}\n\n#sk-container-id-2 a.estimator_doc_link.fitted:hover {\n  /* fitted */\n  background-color: var(--sklearn-color-fitted-level-3);\n}\n</style><div id=\"sk-container-id-2\" class=\"sk-top-container\"><div class=\"sk-text-repr-fallback\"><pre>DecisionTreeClassifier(criterion=&#x27;entropy&#x27;, max_depth=4)</pre><b>In a Jupyter environment, please rerun this cell to show the HTML representation or trust the notebook. <br />On GitHub, the HTML representation is unable to render, please try loading this page with nbviewer.org.</b></div><div class=\"sk-container\" hidden><div class=\"sk-item\"><div class=\"sk-estimator fitted sk-toggleable\"><input class=\"sk-toggleable__control sk-hidden--visually\" id=\"sk-estimator-id-2\" type=\"checkbox\" checked><label for=\"sk-estimator-id-2\" class=\"sk-toggleable__label fitted sk-toggleable__label-arrow fitted\">&nbsp;&nbsp;DecisionTreeClassifier<a class=\"sk-estimator-doc-link fitted\" rel=\"noreferrer\" target=\"_blank\" href=\"https://scikit-learn.org/1.4/modules/generated/sklearn.tree.DecisionTreeClassifier.html\">?<span>Documentation for DecisionTreeClassifier</span></a><span class=\"sk-estimator-doc-link fitted\">i<span>Fitted</span></span></label><div class=\"sk-toggleable__content fitted\"><pre>DecisionTreeClassifier(criterion=&#x27;entropy&#x27;, max_depth=4)</pre></div> </div></div></div></div>"
     },
     "execution_count": 34,
     "metadata": {},
     "output_type": "execute_result"
    }
   ],
   "source": [
    "model_1 = DecisionTreeClassifier(criterion='entropy', max_depth = 4)\n",
    "model_1.fit(X_train, y_train)"
   ]
  },
  {
   "cell_type": "code",
   "execution_count": 35,
   "id": "6097d431",
   "metadata": {
    "ExecuteTime": {
     "end_time": "2024-03-01T06:58:01.712320400Z",
     "start_time": "2024-03-01T06:58:01.636388200Z"
    }
   },
   "outputs": [],
   "source": [
    "treeObj = fullmodel.tree_\n",
    "treedepth = model_1.tree_"
   ]
  },
  {
   "cell_type": "code",
   "execution_count": 36,
   "id": "a6adcd77",
   "metadata": {
    "ExecuteTime": {
     "end_time": "2024-03-01T06:58:02.978845500Z",
     "start_time": "2024-03-01T06:58:02.753519Z"
    }
   },
   "outputs": [
    {
     "data": {
      "text/plain": "119"
     },
     "execution_count": 36,
     "metadata": {},
     "output_type": "execute_result"
    }
   ],
   "source": [
    "# full model nodes\n",
    "treeObj.node_count"
   ]
  },
  {
   "cell_type": "code",
   "execution_count": 37,
   "id": "6ee3c9bf",
   "metadata": {
    "ExecuteTime": {
     "end_time": "2024-03-01T06:58:04.132365700Z",
     "start_time": "2024-03-01T06:58:03.922909300Z"
    }
   },
   "outputs": [
    {
     "data": {
      "text/plain": "27"
     },
     "execution_count": 37,
     "metadata": {},
     "output_type": "execute_result"
    }
   ],
   "source": [
    "# tuned model nodes\n",
    "treedepth.node_count"
   ]
  },
  {
   "cell_type": "code",
   "execution_count": 38,
   "id": "8812e762",
   "metadata": {
    "ExecuteTime": {
     "end_time": "2024-03-01T06:58:05.004916500Z",
     "start_time": "2024-03-01T06:58:04.898478Z"
    }
   },
   "outputs": [
    {
     "data": {
      "text/plain": "9"
     },
     "execution_count": 38,
     "metadata": {},
     "output_type": "execute_result"
    }
   ],
   "source": [
    "# full model depth\n",
    "treeObj.max_depth"
   ]
  },
  {
   "cell_type": "code",
   "execution_count": 39,
   "id": "3440fe97",
   "metadata": {
    "ExecuteTime": {
     "end_time": "2024-03-01T06:58:05.563171300Z",
     "start_time": "2024-03-01T06:58:05.427071500Z"
    }
   },
   "outputs": [
    {
     "data": {
      "text/plain": "4"
     },
     "execution_count": 39,
     "metadata": {},
     "output_type": "execute_result"
    }
   ],
   "source": [
    "# tuned model depth\n",
    "treedepth.max_depth"
   ]
  },
  {
   "cell_type": "markdown",
   "id": "a6fdab77",
   "metadata": {},
   "source": [
    "### Accuracy of Tuned Model"
   ]
  },
  {
   "cell_type": "code",
   "execution_count": 40,
   "id": "3262cf29",
   "metadata": {
    "ExecuteTime": {
     "end_time": "2024-03-01T06:58:08.051208100Z",
     "start_time": "2024-03-01T06:58:07.823095900Z"
    }
   },
   "outputs": [
    {
     "data": {
      "text/plain": "0.5133333333333333"
     },
     "execution_count": 40,
     "metadata": {},
     "output_type": "execute_result"
    }
   ],
   "source": [
    "y_pred_1 = model_1.predict(X_test)\n",
    "accuracy_score(y_test, y_pred_1, normalize=True)"
   ]
  },
  {
   "cell_type": "code",
   "execution_count": 41,
   "id": "5e41a240",
   "metadata": {
    "ExecuteTime": {
     "end_time": "2024-03-01T06:58:10.883831500Z",
     "start_time": "2024-03-01T06:58:10.778963100Z"
    }
   },
   "outputs": [
    {
     "data": {
      "text/plain": "0.5785714285714286"
     },
     "execution_count": 41,
     "metadata": {},
     "output_type": "execute_result"
    }
   ],
   "source": [
    "y_pred_train_1 = model_1.predict(X_train)\n",
    "accuracy_score(y_train, y_pred_train_1, normalize=True)"
   ]
  },
  {
   "cell_type": "code",
   "execution_count": 42,
   "id": "0680bb4e",
   "metadata": {
    "ExecuteTime": {
     "end_time": "2024-03-01T06:58:43.477777700Z",
     "start_time": "2024-03-01T06:58:43.124292600Z"
    }
   },
   "outputs": [],
   "source": [
    "# import libraries for visualization\n",
    "from sklearn.tree import export_graphviz\n",
    "from sklearn import tree\n",
    "import graphviz\n",
    "from IPython.display import Image\n",
    "import pydotplus"
   ]
  },
  {
   "cell_type": "code",
   "execution_count": 43,
   "id": "89ed7db9",
   "metadata": {
    "ExecuteTime": {
     "end_time": "2024-03-01T06:58:43.969772900Z",
     "start_time": "2024-03-01T06:58:43.829925400Z"
    }
   },
   "outputs": [
    {
     "data": {
      "text/plain": "['Member', 'Normal']"
     },
     "execution_count": 43,
     "metadata": {},
     "output_type": "execute_result"
    }
   ],
   "source": [
    "target_names = df['Customer type'].unique().tolist()\n",
    "target_names"
   ]
  },
  {
   "cell_type": "code",
   "execution_count": 44,
   "id": "75dfa172",
   "metadata": {
    "ExecuteTime": {
     "end_time": "2024-03-01T06:58:45.725058300Z",
     "start_time": "2024-03-01T06:58:45.580046500Z"
    }
   },
   "outputs": [],
   "source": [
    "# create dot file\n",
    "dot_data_1 = tree.export_graphviz(model_1, feature_names=features, class_names\n",
    "=target_names, filled = True, rounded=True, special_characters=True)"
   ]
  },
  {
   "cell_type": "code",
   "execution_count": 45,
   "id": "e7c762cd",
   "metadata": {
    "ExecuteTime": {
     "end_time": "2024-03-01T06:58:48.984068Z",
     "start_time": "2024-03-01T06:58:47.531012700Z"
    }
   },
   "outputs": [
    {
     "data": {
      "image/svg+xml": "<?xml version=\"1.0\" encoding=\"UTF-8\" standalone=\"no\"?>\n<!DOCTYPE svg PUBLIC \"-//W3C//DTD SVG 1.1//EN\"\n \"http://www.w3.org/Graphics/SVG/1.1/DTD/svg11.dtd\">\n<!-- Generated by graphviz version 10.0.1 (20240210.2158)\n -->\n<!-- Title: Tree Pages: 1 -->\n<svg width=\"1648pt\" height=\"588pt\"\n viewBox=\"0.00 0.00 1648.00 588.00\" xmlns=\"http://www.w3.org/2000/svg\" xmlns:xlink=\"http://www.w3.org/1999/xlink\">\n<g id=\"graph0\" class=\"graph\" transform=\"scale(1 1) rotate(0) translate(4 584)\">\n<title>Tree</title>\n<polygon fill=\"white\" stroke=\"none\" points=\"-4,4 -4,-584 1644,-584 1644,4 -4,4\"/>\n<!-- 0 -->\n<g id=\"node1\" class=\"node\">\n<title>0</title>\n<path fill=\"#fffefd\" stroke=\"black\" d=\"M1017,-580C1017,-580 911.75,-580 911.75,-580 905.75,-580 899.75,-574 899.75,-568 899.75,-568 899.75,-501.5 899.75,-501.5 899.75,-495.5 905.75,-489.5 911.75,-489.5 911.75,-489.5 1017,-489.5 1017,-489.5 1023,-489.5 1029,-495.5 1029,-501.5 1029,-501.5 1029,-568 1029,-568 1029,-574 1023,-580 1017,-580\"/>\n<text text-anchor=\"start\" x=\"911.88\" y=\"-562.7\" font-family=\"Helvetica,sans-Serif\" font-size=\"14.00\">Credit card ≤ 0.5</text>\n<text text-anchor=\"start\" x=\"922.75\" y=\"-546.2\" font-family=\"Helvetica,sans-Serif\" font-size=\"14.00\">entropy = 1.0</text>\n<text text-anchor=\"start\" x=\"917.12\" y=\"-529.7\" font-family=\"Helvetica,sans-Serif\" font-size=\"14.00\">samples = 700</text>\n<text text-anchor=\"start\" x=\"907.75\" y=\"-513.2\" font-family=\"Helvetica,sans-Serif\" font-size=\"14.00\">value = [352, 348]</text>\n<text text-anchor=\"start\" x=\"913.75\" y=\"-496.7\" font-family=\"Helvetica,sans-Serif\" font-size=\"14.00\">class = Member</text>\n</g>\n<!-- 1 -->\n<g id=\"node2\" class=\"node\">\n<title>1</title>\n<path fill=\"#ebf5fc\" stroke=\"black\" d=\"M879,-453.5C879,-453.5 749.75,-453.5 749.75,-453.5 743.75,-453.5 737.75,-447.5 737.75,-441.5 737.75,-441.5 737.75,-375 737.75,-375 737.75,-369 743.75,-363 749.75,-363 749.75,-363 879,-363 879,-363 885,-363 891,-369 891,-375 891,-375 891,-441.5 891,-441.5 891,-447.5 885,-453.5 879,-453.5\"/>\n<text text-anchor=\"start\" x=\"772.75\" y=\"-436.2\" font-family=\"Helvetica,sans-Serif\" font-size=\"14.00\">Female ≤ 0.5</text>\n<text text-anchor=\"start\" x=\"764.5\" y=\"-419.7\" font-family=\"Helvetica,sans-Serif\" font-size=\"14.00\">entropy = 0.998</text>\n<text text-anchor=\"start\" x=\"767.12\" y=\"-403.2\" font-family=\"Helvetica,sans-Serif\" font-size=\"14.00\">samples = 473</text>\n<text text-anchor=\"start\" x=\"745.75\" y=\"-386.7\" font-family=\"Helvetica,sans-Serif\" font-size=\"14.00\">value = [224.0, 249.0]</text>\n<text text-anchor=\"start\" x=\"767.5\" y=\"-370.2\" font-family=\"Helvetica,sans-Serif\" font-size=\"14.00\">class = Normal</text>\n</g>\n<!-- 0&#45;&gt;1 -->\n<g id=\"edge1\" class=\"edge\">\n<title>0&#45;&gt;1</title>\n<path fill=\"none\" stroke=\"black\" d=\"M910.65,-489.15C899.77,-480.13 888.24,-470.56 877.08,-461.3\"/>\n<polygon fill=\"black\" stroke=\"black\" points=\"879.33,-458.61 869.4,-454.92 874.86,-464 879.33,-458.61\"/>\n<text text-anchor=\"middle\" x=\"870.55\" y=\"-473.8\" font-family=\"Helvetica,sans-Serif\" font-size=\"14.00\">True</text>\n</g>\n<!-- 16 -->\n<g id=\"node17\" class=\"node\">\n<title>16</title>\n<path fill=\"#f9e2d2\" stroke=\"black\" d=\"M1141.88,-453.5C1141.88,-453.5 1044.88,-453.5 1044.88,-453.5 1038.88,-453.5 1032.88,-447.5 1032.88,-441.5 1032.88,-441.5 1032.88,-375 1032.88,-375 1032.88,-369 1038.88,-363 1044.88,-363 1044.88,-363 1141.88,-363 1141.88,-363 1147.88,-363 1153.88,-369 1153.88,-375 1153.88,-375 1153.88,-441.5 1153.88,-441.5 1153.88,-447.5 1147.88,-453.5 1141.88,-453.5\"/>\n<text text-anchor=\"start\" x=\"1050.25\" y=\"-436.2\" font-family=\"Helvetica,sans-Serif\" font-size=\"14.00\">Quantity ≤ 1.5</text>\n<text text-anchor=\"start\" x=\"1043.5\" y=\"-419.7\" font-family=\"Helvetica,sans-Serif\" font-size=\"14.00\">entropy = 0.988</text>\n<text text-anchor=\"start\" x=\"1046.12\" y=\"-403.2\" font-family=\"Helvetica,sans-Serif\" font-size=\"14.00\">samples = 227</text>\n<text text-anchor=\"start\" x=\"1040.88\" y=\"-386.7\" font-family=\"Helvetica,sans-Serif\" font-size=\"14.00\">value = [128, 99]</text>\n<text text-anchor=\"start\" x=\"1042.75\" y=\"-370.2\" font-family=\"Helvetica,sans-Serif\" font-size=\"14.00\">class = Member</text>\n</g>\n<!-- 0&#45;&gt;16 -->\n<g id=\"edge16\" class=\"edge\">\n<title>0&#45;&gt;16</title>\n<path fill=\"none\" stroke=\"black\" d=\"M1010.58,-489.15C1019.75,-480.3 1029.46,-470.93 1038.88,-461.85\"/>\n<polygon fill=\"black\" stroke=\"black\" points=\"1041.2,-464.47 1045.97,-455 1036.34,-459.43 1041.2,-464.47\"/>\n<text text-anchor=\"middle\" x=\"1046.61\" y=\"-473.9\" font-family=\"Helvetica,sans-Serif\" font-size=\"14.00\">False</text>\n</g>\n<!-- 2 -->\n<g id=\"node3\" class=\"node\">\n<title>2</title>\n<path fill=\"#d3e9f9\" stroke=\"black\" d=\"M474,-327C474,-327 368.75,-327 368.75,-327 362.75,-327 356.75,-321 356.75,-315 356.75,-315 356.75,-248.5 356.75,-248.5 356.75,-242.5 362.75,-236.5 368.75,-236.5 368.75,-236.5 474,-236.5 474,-236.5 480,-236.5 486,-242.5 486,-248.5 486,-248.5 486,-315 486,-315 486,-321 480,-327 474,-327\"/>\n<text text-anchor=\"start\" x=\"378.25\" y=\"-309.7\" font-family=\"Helvetica,sans-Serif\" font-size=\"14.00\">Quantity ≤ 8.5</text>\n<text text-anchor=\"start\" x=\"371.5\" y=\"-293.2\" font-family=\"Helvetica,sans-Serif\" font-size=\"14.00\">entropy = 0.989</text>\n<text text-anchor=\"start\" x=\"374.12\" y=\"-276.7\" font-family=\"Helvetica,sans-Serif\" font-size=\"14.00\">samples = 242</text>\n<text text-anchor=\"start\" x=\"364.75\" y=\"-260.2\" font-family=\"Helvetica,sans-Serif\" font-size=\"14.00\">value = [106, 136]</text>\n<text text-anchor=\"start\" x=\"374.5\" y=\"-243.7\" font-family=\"Helvetica,sans-Serif\" font-size=\"14.00\">class = Normal</text>\n</g>\n<!-- 1&#45;&gt;2 -->\n<g id=\"edge2\" class=\"edge\">\n<title>1&#45;&gt;2</title>\n<path fill=\"none\" stroke=\"black\" d=\"M737.67,-382.95C668.23,-360.95 566.51,-328.73 497.31,-306.81\"/>\n<polygon fill=\"black\" stroke=\"black\" points=\"498.52,-303.52 487.93,-303.84 496.41,-310.19 498.52,-303.52\"/>\n</g>\n<!-- 9 -->\n<g id=\"node10\" class=\"node\">\n<title>9</title>\n<path fill=\"#fefaf7\" stroke=\"black\" d=\"M867,-327C867,-327 761.75,-327 761.75,-327 755.75,-327 749.75,-321 749.75,-315 749.75,-315 749.75,-248.5 749.75,-248.5 749.75,-242.5 755.75,-236.5 761.75,-236.5 761.75,-236.5 867,-236.5 867,-236.5 873,-236.5 879,-242.5 879,-248.5 879,-248.5 879,-315 879,-315 879,-321 873,-327 867,-327\"/>\n<text text-anchor=\"start\" x=\"771.25\" y=\"-309.7\" font-family=\"Helvetica,sans-Serif\" font-size=\"14.00\">Quantity ≤ 1.5</text>\n<text text-anchor=\"start\" x=\"772.75\" y=\"-293.2\" font-family=\"Helvetica,sans-Serif\" font-size=\"14.00\">entropy = 1.0</text>\n<text text-anchor=\"start\" x=\"767.12\" y=\"-276.7\" font-family=\"Helvetica,sans-Serif\" font-size=\"14.00\">samples = 231</text>\n<text text-anchor=\"start\" x=\"757.75\" y=\"-260.2\" font-family=\"Helvetica,sans-Serif\" font-size=\"14.00\">value = [118, 113]</text>\n<text text-anchor=\"start\" x=\"763.75\" y=\"-243.7\" font-family=\"Helvetica,sans-Serif\" font-size=\"14.00\">class = Member</text>\n</g>\n<!-- 1&#45;&gt;9 -->\n<g id=\"edge9\" class=\"edge\">\n<title>1&#45;&gt;9</title>\n<path fill=\"none\" stroke=\"black\" d=\"M814.38,-362.65C814.38,-354.97 814.38,-346.89 814.38,-338.94\"/>\n<polygon fill=\"black\" stroke=\"black\" points=\"817.88,-338.97 814.38,-328.97 810.88,-338.97 817.88,-338.97\"/>\n</g>\n<!-- 3 -->\n<g id=\"node4\" class=\"node\">\n<title>3</title>\n<path fill=\"#c4e2f7\" stroke=\"black\" d=\"M272.88,-200.5C272.88,-200.5 151.88,-200.5 151.88,-200.5 145.88,-200.5 139.88,-194.5 139.88,-188.5 139.88,-188.5 139.88,-122 139.88,-122 139.88,-116 145.88,-110 151.88,-110 151.88,-110 272.88,-110 272.88,-110 278.88,-110 284.88,-116 284.88,-122 284.88,-122 284.88,-188.5 284.88,-188.5 284.88,-194.5 278.88,-200.5 272.88,-200.5\"/>\n<text text-anchor=\"start\" x=\"169.25\" y=\"-183.2\" font-family=\"Helvetica,sans-Serif\" font-size=\"14.00\">Quantity ≤ 6.5</text>\n<text text-anchor=\"start\" x=\"162.5\" y=\"-166.7\" font-family=\"Helvetica,sans-Serif\" font-size=\"14.00\">entropy = 0.978</text>\n<text text-anchor=\"start\" x=\"165.12\" y=\"-150.2\" font-family=\"Helvetica,sans-Serif\" font-size=\"14.00\">samples = 196</text>\n<text text-anchor=\"start\" x=\"147.88\" y=\"-133.7\" font-family=\"Helvetica,sans-Serif\" font-size=\"14.00\">value = [81.0, 115.0]</text>\n<text text-anchor=\"start\" x=\"165.5\" y=\"-117.2\" font-family=\"Helvetica,sans-Serif\" font-size=\"14.00\">class = Normal</text>\n</g>\n<!-- 2&#45;&gt;3 -->\n<g id=\"edge3\" class=\"edge\">\n<title>2&#45;&gt;3</title>\n<path fill=\"none\" stroke=\"black\" d=\"M356.39,-242.04C337.03,-230.51 315.55,-217.71 295.21,-205.6\"/>\n<polygon fill=\"black\" stroke=\"black\" points=\"297.02,-202.6 286.64,-200.49 293.44,-208.61 297.02,-202.6\"/>\n</g>\n<!-- 6 -->\n<g id=\"node7\" class=\"node\">\n<title>6</title>\n<path fill=\"#fbebdf\" stroke=\"black\" d=\"M468,-200.5C468,-200.5 374.75,-200.5 374.75,-200.5 368.75,-200.5 362.75,-194.5 362.75,-188.5 362.75,-188.5 362.75,-122 362.75,-122 362.75,-116 368.75,-110 374.75,-110 374.75,-110 468,-110 468,-110 474,-110 480,-116 480,-122 480,-122 480,-188.5 480,-188.5 480,-194.5 474,-200.5 468,-200.5\"/>\n<text text-anchor=\"start\" x=\"378.25\" y=\"-183.2\" font-family=\"Helvetica,sans-Serif\" font-size=\"14.00\">Quantity ≤ 9.5</text>\n<text text-anchor=\"start\" x=\"371.5\" y=\"-166.7\" font-family=\"Helvetica,sans-Serif\" font-size=\"14.00\">entropy = 0.995</text>\n<text text-anchor=\"start\" x=\"378.25\" y=\"-150.2\" font-family=\"Helvetica,sans-Serif\" font-size=\"14.00\">samples = 46</text>\n<text text-anchor=\"start\" x=\"373\" y=\"-133.7\" font-family=\"Helvetica,sans-Serif\" font-size=\"14.00\">value = [25, 21]</text>\n<text text-anchor=\"start\" x=\"370.75\" y=\"-117.2\" font-family=\"Helvetica,sans-Serif\" font-size=\"14.00\">class = Member</text>\n</g>\n<!-- 2&#45;&gt;6 -->\n<g id=\"edge6\" class=\"edge\">\n<title>2&#45;&gt;6</title>\n<path fill=\"none\" stroke=\"black\" d=\"M421.38,-236.15C421.38,-228.47 421.38,-220.39 421.38,-212.44\"/>\n<polygon fill=\"black\" stroke=\"black\" points=\"424.88,-212.47 421.38,-202.47 417.88,-212.47 424.88,-212.47\"/>\n</g>\n<!-- 4 -->\n<g id=\"node5\" class=\"node\">\n<title>4</title>\n<path fill=\"#d9ecfa\" stroke=\"black\" d=\"M124.75,-74C124.75,-74 12,-74 12,-74 6,-74 0,-68 0,-62 0,-62 0,-12 0,-12 0,-6 6,0 12,0 12,0 124.75,0 124.75,0 130.75,0 136.75,-6 136.75,-12 136.75,-12 136.75,-62 136.75,-62 136.75,-68 130.75,-74 124.75,-74\"/>\n<text text-anchor=\"start\" x=\"18.5\" y=\"-56.7\" font-family=\"Helvetica,sans-Serif\" font-size=\"14.00\">entropy = 0.992</text>\n<text text-anchor=\"start\" x=\"21.12\" y=\"-40.2\" font-family=\"Helvetica,sans-Serif\" font-size=\"14.00\">samples = 152</text>\n<text text-anchor=\"start\" x=\"8\" y=\"-23.7\" font-family=\"Helvetica,sans-Serif\" font-size=\"14.00\">value = [68.0, 84.0]</text>\n<text text-anchor=\"start\" x=\"21.5\" y=\"-7.2\" font-family=\"Helvetica,sans-Serif\" font-size=\"14.00\">class = Normal</text>\n</g>\n<!-- 3&#45;&gt;4 -->\n<g id=\"edge4\" class=\"edge\">\n<title>3&#45;&gt;4</title>\n<path fill=\"none\" stroke=\"black\" d=\"M157.11,-109.64C145.72,-100.44 133.74,-90.77 122.4,-81.61\"/>\n<polygon fill=\"black\" stroke=\"black\" points=\"124.61,-78.9 114.63,-75.34 120.22,-84.35 124.61,-78.9\"/>\n</g>\n<!-- 5 -->\n<g id=\"node6\" class=\"node\">\n<title>5</title>\n<path fill=\"#8cc6f0\" stroke=\"black\" d=\"M258.25,-74C258.25,-74 166.5,-74 166.5,-74 160.5,-74 154.5,-68 154.5,-62 154.5,-62 154.5,-12 154.5,-12 154.5,-6 160.5,0 166.5,0 166.5,0 258.25,0 258.25,0 264.25,0 270.25,-6 270.25,-12 270.25,-12 270.25,-62 270.25,-62 270.25,-68 264.25,-74 258.25,-74\"/>\n<text text-anchor=\"start\" x=\"162.5\" y=\"-56.7\" font-family=\"Helvetica,sans-Serif\" font-size=\"14.00\">entropy = 0.876</text>\n<text text-anchor=\"start\" x=\"169.25\" y=\"-40.2\" font-family=\"Helvetica,sans-Serif\" font-size=\"14.00\">samples = 44</text>\n<text text-anchor=\"start\" x=\"164\" y=\"-23.7\" font-family=\"Helvetica,sans-Serif\" font-size=\"14.00\">value = [13, 31]</text>\n<text text-anchor=\"start\" x=\"165.5\" y=\"-7.2\" font-family=\"Helvetica,sans-Serif\" font-size=\"14.00\">class = Normal</text>\n</g>\n<!-- 3&#45;&gt;5 -->\n<g id=\"edge5\" class=\"edge\">\n<title>3&#45;&gt;5</title>\n<path fill=\"none\" stroke=\"black\" d=\"M212.38,-109.64C212.38,-101.81 212.38,-93.63 212.38,-85.72\"/>\n<polygon fill=\"black\" stroke=\"black\" points=\"215.88,-85.91 212.38,-75.91 208.88,-85.91 215.88,-85.91\"/>\n</g>\n<!-- 7 -->\n<g id=\"node8\" class=\"node\">\n<title>7</title>\n<path fill=\"#fcf2eb\" stroke=\"black\" d=\"M394,-74C394,-74 300.75,-74 300.75,-74 294.75,-74 288.75,-68 288.75,-62 288.75,-62 288.75,-12 288.75,-12 288.75,-6 294.75,0 300.75,0 300.75,0 394,0 394,0 400,0 406,-6 406,-12 406,-12 406,-62 406,-62 406,-68 400,-74 394,-74\"/>\n<text text-anchor=\"start\" x=\"297.5\" y=\"-56.7\" font-family=\"Helvetica,sans-Serif\" font-size=\"14.00\">entropy = 0.998</text>\n<text text-anchor=\"start\" x=\"304.25\" y=\"-40.2\" font-family=\"Helvetica,sans-Serif\" font-size=\"14.00\">samples = 19</text>\n<text text-anchor=\"start\" x=\"303.12\" y=\"-23.7\" font-family=\"Helvetica,sans-Serif\" font-size=\"14.00\">value = [10, 9]</text>\n<text text-anchor=\"start\" x=\"296.75\" y=\"-7.2\" font-family=\"Helvetica,sans-Serif\" font-size=\"14.00\">class = Member</text>\n</g>\n<!-- 6&#45;&gt;7 -->\n<g id=\"edge7\" class=\"edge\">\n<title>6&#45;&gt;7</title>\n<path fill=\"none\" stroke=\"black\" d=\"M392.98,-109.64C387.64,-101.26 382.06,-92.49 376.7,-84.07\"/>\n<polygon fill=\"black\" stroke=\"black\" points=\"379.68,-82.23 371.35,-75.67 373.77,-85.99 379.68,-82.23\"/>\n</g>\n<!-- 8 -->\n<g id=\"node9\" class=\"node\">\n<title>8</title>\n<path fill=\"#fae6d7\" stroke=\"black\" d=\"M529,-74C529,-74 435.75,-74 435.75,-74 429.75,-74 423.75,-68 423.75,-62 423.75,-62 423.75,-12 423.75,-12 423.75,-6 429.75,0 435.75,0 435.75,0 529,0 529,0 535,0 541,-6 541,-12 541,-12 541,-62 541,-62 541,-68 535,-74 529,-74\"/>\n<text text-anchor=\"start\" x=\"432.5\" y=\"-56.7\" font-family=\"Helvetica,sans-Serif\" font-size=\"14.00\">entropy = 0.991</text>\n<text text-anchor=\"start\" x=\"439.25\" y=\"-40.2\" font-family=\"Helvetica,sans-Serif\" font-size=\"14.00\">samples = 27</text>\n<text text-anchor=\"start\" x=\"434\" y=\"-23.7\" font-family=\"Helvetica,sans-Serif\" font-size=\"14.00\">value = [15, 12]</text>\n<text text-anchor=\"start\" x=\"431.75\" y=\"-7.2\" font-family=\"Helvetica,sans-Serif\" font-size=\"14.00\">class = Member</text>\n</g>\n<!-- 6&#45;&gt;8 -->\n<g id=\"edge8\" class=\"edge\">\n<title>6&#45;&gt;8</title>\n<path fill=\"none\" stroke=\"black\" d=\"M444.78,-109.64C449.13,-101.35 453.68,-92.68 458.06,-84.34\"/>\n<polygon fill=\"black\" stroke=\"black\" points=\"461.03,-86.22 462.57,-75.73 454.83,-82.96 461.03,-86.22\"/>\n</g>\n<!-- 10 -->\n<g id=\"node11\" class=\"node\">\n<title>10</title>\n<path fill=\"#efb185\" stroke=\"black\" d=\"M795,-200.5C795,-200.5 701.75,-200.5 701.75,-200.5 695.75,-200.5 689.75,-194.5 689.75,-188.5 689.75,-188.5 689.75,-122 689.75,-122 689.75,-116 695.75,-110 701.75,-110 701.75,-110 795,-110 795,-110 801,-110 807,-116 807,-122 807,-122 807,-188.5 807,-188.5 807,-194.5 801,-200.5 795,-200.5\"/>\n<text text-anchor=\"start\" x=\"714.25\" y=\"-183.2\" font-family=\"Helvetica,sans-Serif\" font-size=\"14.00\">Cash ≤ 0.5</text>\n<text text-anchor=\"start\" x=\"698.5\" y=\"-166.7\" font-family=\"Helvetica,sans-Serif\" font-size=\"14.00\">entropy = 0.852</text>\n<text text-anchor=\"start\" x=\"705.25\" y=\"-150.2\" font-family=\"Helvetica,sans-Serif\" font-size=\"14.00\">samples = 18</text>\n<text text-anchor=\"start\" x=\"704.12\" y=\"-133.7\" font-family=\"Helvetica,sans-Serif\" font-size=\"14.00\">value = [13, 5]</text>\n<text text-anchor=\"start\" x=\"697.75\" y=\"-117.2\" font-family=\"Helvetica,sans-Serif\" font-size=\"14.00\">class = Member</text>\n</g>\n<!-- 9&#45;&gt;10 -->\n<g id=\"edge10\" class=\"edge\">\n<title>9&#45;&gt;10</title>\n<path fill=\"none\" stroke=\"black\" d=\"M790.73,-236.15C786.42,-228.02 781.88,-219.45 777.43,-211.05\"/>\n<polygon fill=\"black\" stroke=\"black\" points=\"780.56,-209.49 772.78,-202.29 774.37,-212.76 780.56,-209.49\"/>\n</g>\n<!-- 13 -->\n<g id=\"node14\" class=\"node\">\n<title>13</title>\n<path fill=\"#fafcfe\" stroke=\"black\" d=\"M942,-200.5C942,-200.5 836.75,-200.5 836.75,-200.5 830.75,-200.5 824.75,-194.5 824.75,-188.5 824.75,-188.5 824.75,-122 824.75,-122 824.75,-116 830.75,-110 836.75,-110 836.75,-110 942,-110 942,-110 948,-110 954,-116 954,-122 954,-122 954,-188.5 954,-188.5 954,-194.5 948,-200.5 942,-200.5\"/>\n<text text-anchor=\"start\" x=\"846.25\" y=\"-183.2\" font-family=\"Helvetica,sans-Serif\" font-size=\"14.00\">Quantity ≤ 6.5</text>\n<text text-anchor=\"start\" x=\"847.75\" y=\"-166.7\" font-family=\"Helvetica,sans-Serif\" font-size=\"14.00\">entropy = 1.0</text>\n<text text-anchor=\"start\" x=\"842.12\" y=\"-150.2\" font-family=\"Helvetica,sans-Serif\" font-size=\"14.00\">samples = 213</text>\n<text text-anchor=\"start\" x=\"832.75\" y=\"-133.7\" font-family=\"Helvetica,sans-Serif\" font-size=\"14.00\">value = [105, 108]</text>\n<text text-anchor=\"start\" x=\"842.5\" y=\"-117.2\" font-family=\"Helvetica,sans-Serif\" font-size=\"14.00\">class = Normal</text>\n</g>\n<!-- 9&#45;&gt;13 -->\n<g id=\"edge13\" class=\"edge\">\n<title>9&#45;&gt;13</title>\n<path fill=\"none\" stroke=\"black\" d=\"M841.24,-236.15C846.19,-227.93 851.42,-219.26 856.53,-210.78\"/>\n<polygon fill=\"black\" stroke=\"black\" points=\"859.5,-212.62 861.66,-202.25 853.51,-209.01 859.5,-212.62\"/>\n</g>\n<!-- 11 -->\n<g id=\"node12\" class=\"node\">\n<title>11</title>\n<path fill=\"#eca06a\" stroke=\"black\" d=\"M664,-74C664,-74 570.75,-74 570.75,-74 564.75,-74 558.75,-68 558.75,-62 558.75,-62 558.75,-12 558.75,-12 558.75,-6 564.75,0 570.75,0 570.75,0 664,0 664,0 670,0 676,-6 676,-12 676,-12 676,-62 676,-62 676,-68 670,-74 664,-74\"/>\n<text text-anchor=\"start\" x=\"567.5\" y=\"-56.7\" font-family=\"Helvetica,sans-Serif\" font-size=\"14.00\">entropy = 0.722</text>\n<text text-anchor=\"start\" x=\"578.38\" y=\"-40.2\" font-family=\"Helvetica,sans-Serif\" font-size=\"14.00\">samples = 5</text>\n<text text-anchor=\"start\" x=\"577.25\" y=\"-23.7\" font-family=\"Helvetica,sans-Serif\" font-size=\"14.00\">value = [4, 1]</text>\n<text text-anchor=\"start\" x=\"566.75\" y=\"-7.2\" font-family=\"Helvetica,sans-Serif\" font-size=\"14.00\">class = Member</text>\n</g>\n<!-- 10&#45;&gt;11 -->\n<g id=\"edge11\" class=\"edge\">\n<title>10&#45;&gt;11</title>\n<path fill=\"none\" stroke=\"black\" d=\"M698.1,-109.64C687.84,-100.53 677.06,-90.96 666.82,-81.88\"/>\n<polygon fill=\"black\" stroke=\"black\" points=\"669.32,-79.42 659.52,-75.4 664.67,-84.65 669.32,-79.42\"/>\n</g>\n<!-- 12 -->\n<g id=\"node13\" class=\"node\">\n<title>12</title>\n<path fill=\"#f1b991\" stroke=\"black\" d=\"M799,-74C799,-74 705.75,-74 705.75,-74 699.75,-74 693.75,-68 693.75,-62 693.75,-62 693.75,-12 693.75,-12 693.75,-6 699.75,0 705.75,0 705.75,0 799,0 799,0 805,0 811,-6 811,-12 811,-12 811,-62 811,-62 811,-68 805,-74 799,-74\"/>\n<text text-anchor=\"start\" x=\"706.62\" y=\"-56.7\" font-family=\"Helvetica,sans-Serif\" font-size=\"14.00\">entropy = 0.89</text>\n<text text-anchor=\"start\" x=\"709.25\" y=\"-40.2\" font-family=\"Helvetica,sans-Serif\" font-size=\"14.00\">samples = 13</text>\n<text text-anchor=\"start\" x=\"712.25\" y=\"-23.7\" font-family=\"Helvetica,sans-Serif\" font-size=\"14.00\">value = [9, 4]</text>\n<text text-anchor=\"start\" x=\"701.75\" y=\"-7.2\" font-family=\"Helvetica,sans-Serif\" font-size=\"14.00\">class = Member</text>\n</g>\n<!-- 10&#45;&gt;12 -->\n<g id=\"edge12\" class=\"edge\">\n<title>10&#45;&gt;12</title>\n<path fill=\"none\" stroke=\"black\" d=\"M749.91,-109.64C750.18,-101.81 750.46,-93.63 750.73,-85.72\"/>\n<polygon fill=\"black\" stroke=\"black\" points=\"754.22,-86.02 751.07,-75.91 747.23,-85.78 754.22,-86.02\"/>\n</g>\n<!-- 14 -->\n<g id=\"node15\" class=\"node\">\n<title>14</title>\n<path fill=\"#ddeefb\" stroke=\"black\" d=\"M933.25,-74C933.25,-74 841.5,-74 841.5,-74 835.5,-74 829.5,-68 829.5,-62 829.5,-62 829.5,-12 829.5,-12 829.5,-6 835.5,0 841.5,0 841.5,0 933.25,0 933.25,0 939.25,0 945.25,-6 945.25,-12 945.25,-12 945.25,-62 945.25,-62 945.25,-68 939.25,-74 933.25,-74\"/>\n<text text-anchor=\"start\" x=\"837.5\" y=\"-56.7\" font-family=\"Helvetica,sans-Serif\" font-size=\"14.00\">entropy = 0.994</text>\n<text text-anchor=\"start\" x=\"840.12\" y=\"-40.2\" font-family=\"Helvetica,sans-Serif\" font-size=\"14.00\">samples = 119</text>\n<text text-anchor=\"start\" x=\"839\" y=\"-23.7\" font-family=\"Helvetica,sans-Serif\" font-size=\"14.00\">value = [54, 65]</text>\n<text text-anchor=\"start\" x=\"840.5\" y=\"-7.2\" font-family=\"Helvetica,sans-Serif\" font-size=\"14.00\">class = Normal</text>\n</g>\n<!-- 13&#45;&gt;14 -->\n<g id=\"edge14\" class=\"edge\">\n<title>13&#45;&gt;14</title>\n<path fill=\"none\" stroke=\"black\" d=\"M888.61,-109.64C888.47,-101.81 888.33,-93.63 888.2,-85.72\"/>\n<polygon fill=\"black\" stroke=\"black\" points=\"891.7,-85.85 888.03,-75.91 884.7,-85.97 891.7,-85.85\"/>\n</g>\n<!-- 15 -->\n<g id=\"node16\" class=\"node\">\n<title>15</title>\n<path fill=\"#fbebe0\" stroke=\"black\" d=\"M1087.75,-74C1087.75,-74 975,-74 975,-74 969,-74 963,-68 963,-62 963,-62 963,-12 963,-12 963,-6 969,0 975,0 975,0 1087.75,0 1087.75,0 1093.75,0 1099.75,-6 1099.75,-12 1099.75,-12 1099.75,-62 1099.75,-62 1099.75,-68 1093.75,-74 1087.75,-74\"/>\n<text text-anchor=\"start\" x=\"981.5\" y=\"-56.7\" font-family=\"Helvetica,sans-Serif\" font-size=\"14.00\">entropy = 0.995</text>\n<text text-anchor=\"start\" x=\"988.25\" y=\"-40.2\" font-family=\"Helvetica,sans-Serif\" font-size=\"14.00\">samples = 94</text>\n<text text-anchor=\"start\" x=\"971\" y=\"-23.7\" font-family=\"Helvetica,sans-Serif\" font-size=\"14.00\">value = [51.0, 43.0]</text>\n<text text-anchor=\"start\" x=\"980.75\" y=\"-7.2\" font-family=\"Helvetica,sans-Serif\" font-size=\"14.00\">class = Member</text>\n</g>\n<!-- 13&#45;&gt;15 -->\n<g id=\"edge15\" class=\"edge\">\n<title>13&#45;&gt;15</title>\n<path fill=\"none\" stroke=\"black\" d=\"M943.87,-109.64C955.1,-100.44 966.92,-90.77 978.11,-81.61\"/>\n<polygon fill=\"black\" stroke=\"black\" points=\"980.23,-84.4 985.75,-75.35 975.79,-78.98 980.23,-84.4\"/>\n</g>\n<!-- 17 -->\n<g id=\"node18\" class=\"node\">\n<title>17</title>\n<path fill=\"#8ec7f0\" stroke=\"black\" d=\"M1139.25,-327C1139.25,-327 1047.5,-327 1047.5,-327 1041.5,-327 1035.5,-321 1035.5,-315 1035.5,-315 1035.5,-248.5 1035.5,-248.5 1035.5,-242.5 1041.5,-236.5 1047.5,-236.5 1047.5,-236.5 1139.25,-236.5 1139.25,-236.5 1145.25,-236.5 1151.25,-242.5 1151.25,-248.5 1151.25,-248.5 1151.25,-315 1151.25,-315 1151.25,-321 1145.25,-327 1139.25,-327\"/>\n<text text-anchor=\"start\" x=\"1051.75\" y=\"-309.7\" font-family=\"Helvetica,sans-Serif\" font-size=\"14.00\">Female ≤ 0.5</text>\n<text text-anchor=\"start\" x=\"1043.5\" y=\"-293.2\" font-family=\"Helvetica,sans-Serif\" font-size=\"14.00\">entropy = 0.881</text>\n<text text-anchor=\"start\" x=\"1050.25\" y=\"-276.7\" font-family=\"Helvetica,sans-Serif\" font-size=\"14.00\">samples = 20</text>\n<text text-anchor=\"start\" x=\"1049.12\" y=\"-260.2\" font-family=\"Helvetica,sans-Serif\" font-size=\"14.00\">value = [6, 14]</text>\n<text text-anchor=\"start\" x=\"1046.5\" y=\"-243.7\" font-family=\"Helvetica,sans-Serif\" font-size=\"14.00\">class = Normal</text>\n</g>\n<!-- 16&#45;&gt;17 -->\n<g id=\"edge17\" class=\"edge\">\n<title>16&#45;&gt;17</title>\n<path fill=\"none\" stroke=\"black\" d=\"M1093.38,-362.65C1093.38,-354.97 1093.38,-346.89 1093.38,-338.94\"/>\n<polygon fill=\"black\" stroke=\"black\" points=\"1096.88,-338.97 1093.38,-328.97 1089.88,-338.97 1096.88,-338.97\"/>\n</g>\n<!-- 20 -->\n<g id=\"node21\" class=\"node\">\n<title>20</title>\n<path fill=\"#f7d9c3\" stroke=\"black\" d=\"M1362.88,-327C1362.88,-327 1241.88,-327 1241.88,-327 1235.88,-327 1229.88,-321 1229.88,-315 1229.88,-315 1229.88,-248.5 1229.88,-248.5 1229.88,-242.5 1235.88,-236.5 1241.88,-236.5 1241.88,-236.5 1362.88,-236.5 1362.88,-236.5 1368.88,-236.5 1374.88,-242.5 1374.88,-248.5 1374.88,-248.5 1374.88,-315 1374.88,-315 1374.88,-321 1368.88,-327 1362.88,-327\"/>\n<text text-anchor=\"start\" x=\"1259.25\" y=\"-309.7\" font-family=\"Helvetica,sans-Serif\" font-size=\"14.00\">Quantity ≤ 7.5</text>\n<text text-anchor=\"start\" x=\"1252.5\" y=\"-293.2\" font-family=\"Helvetica,sans-Serif\" font-size=\"14.00\">entropy = 0.977</text>\n<text text-anchor=\"start\" x=\"1255.12\" y=\"-276.7\" font-family=\"Helvetica,sans-Serif\" font-size=\"14.00\">samples = 207</text>\n<text text-anchor=\"start\" x=\"1237.88\" y=\"-260.2\" font-family=\"Helvetica,sans-Serif\" font-size=\"14.00\">value = [122.0, 85.0]</text>\n<text text-anchor=\"start\" x=\"1251.75\" y=\"-243.7\" font-family=\"Helvetica,sans-Serif\" font-size=\"14.00\">class = Member</text>\n</g>\n<!-- 16&#45;&gt;20 -->\n<g id=\"edge20\" class=\"edge\">\n<title>16&#45;&gt;20</title>\n<path fill=\"none\" stroke=\"black\" d=\"M1154.11,-371.07C1174.68,-358.81 1198.03,-344.91 1220,-331.82\"/>\n<polygon fill=\"black\" stroke=\"black\" points=\"1221.55,-334.97 1228.35,-326.85 1217.97,-328.96 1221.55,-334.97\"/>\n</g>\n<!-- 18 -->\n<g id=\"node19\" class=\"node\">\n<title>18</title>\n<path fill=\"#ffffff\" stroke=\"black\" d=\"M1080,-192.25C1080,-192.25 986.75,-192.25 986.75,-192.25 980.75,-192.25 974.75,-186.25 974.75,-180.25 974.75,-180.25 974.75,-130.25 974.75,-130.25 974.75,-124.25 980.75,-118.25 986.75,-118.25 986.75,-118.25 1080,-118.25 1080,-118.25 1086,-118.25 1092,-124.25 1092,-130.25 1092,-130.25 1092,-180.25 1092,-180.25 1092,-186.25 1086,-192.25 1080,-192.25\"/>\n<text text-anchor=\"start\" x=\"991.75\" y=\"-174.95\" font-family=\"Helvetica,sans-Serif\" font-size=\"14.00\">entropy = 1.0</text>\n<text text-anchor=\"start\" x=\"990.25\" y=\"-158.45\" font-family=\"Helvetica,sans-Serif\" font-size=\"14.00\">samples = 12</text>\n<text text-anchor=\"start\" x=\"993.25\" y=\"-141.95\" font-family=\"Helvetica,sans-Serif\" font-size=\"14.00\">value = [6, 6]</text>\n<text text-anchor=\"start\" x=\"982.75\" y=\"-125.45\" font-family=\"Helvetica,sans-Serif\" font-size=\"14.00\">class = Member</text>\n</g>\n<!-- 17&#45;&gt;18 -->\n<g id=\"edge18\" class=\"edge\">\n<title>17&#45;&gt;18</title>\n<path fill=\"none\" stroke=\"black\" d=\"M1071.88,-236.15C1066.63,-225.26 1061.01,-213.58 1055.72,-202.61\"/>\n<polygon fill=\"black\" stroke=\"black\" points=\"1058.93,-201.21 1051.43,-193.72 1052.62,-204.25 1058.93,-201.21\"/>\n</g>\n<!-- 19 -->\n<g id=\"node20\" class=\"node\">\n<title>19</title>\n<path fill=\"#399de5\" stroke=\"black\" d=\"M1208.25,-192.25C1208.25,-192.25 1122.5,-192.25 1122.5,-192.25 1116.5,-192.25 1110.5,-186.25 1110.5,-180.25 1110.5,-180.25 1110.5,-130.25 1110.5,-130.25 1110.5,-124.25 1116.5,-118.25 1122.5,-118.25 1122.5,-118.25 1208.25,-118.25 1208.25,-118.25 1214.25,-118.25 1220.25,-124.25 1220.25,-130.25 1220.25,-130.25 1220.25,-180.25 1220.25,-180.25 1220.25,-186.25 1214.25,-192.25 1208.25,-192.25\"/>\n<text text-anchor=\"start\" x=\"1123.75\" y=\"-174.95\" font-family=\"Helvetica,sans-Serif\" font-size=\"14.00\">entropy = 0.0</text>\n<text text-anchor=\"start\" x=\"1126.38\" y=\"-158.45\" font-family=\"Helvetica,sans-Serif\" font-size=\"14.00\">samples = 8</text>\n<text text-anchor=\"start\" x=\"1125.25\" y=\"-141.95\" font-family=\"Helvetica,sans-Serif\" font-size=\"14.00\">value = [0, 8]</text>\n<text text-anchor=\"start\" x=\"1118.5\" y=\"-125.45\" font-family=\"Helvetica,sans-Serif\" font-size=\"14.00\">class = Normal</text>\n</g>\n<!-- 17&#45;&gt;19 -->\n<g id=\"edge19\" class=\"edge\">\n<title>17&#45;&gt;19</title>\n<path fill=\"none\" stroke=\"black\" d=\"M1119.17,-236.15C1125.53,-225.15 1132.36,-213.34 1138.76,-202.27\"/>\n<polygon fill=\"black\" stroke=\"black\" points=\"1141.76,-204.07 1143.74,-193.67 1135.7,-200.57 1141.76,-204.07\"/>\n</g>\n<!-- 21 -->\n<g id=\"node22\" class=\"node\">\n<title>21</title>\n<path fill=\"#fbebdf\" stroke=\"black\" d=\"M1349,-200.5C1349,-200.5 1255.75,-200.5 1255.75,-200.5 1249.75,-200.5 1243.75,-194.5 1243.75,-188.5 1243.75,-188.5 1243.75,-122 1243.75,-122 1243.75,-116 1249.75,-110 1255.75,-110 1255.75,-110 1349,-110 1349,-110 1355,-110 1361,-116 1361,-122 1361,-122 1361,-188.5 1361,-188.5 1361,-194.5 1355,-200.5 1349,-200.5\"/>\n<text text-anchor=\"start\" x=\"1260.75\" y=\"-183.2\" font-family=\"Helvetica,sans-Serif\" font-size=\"14.00\">Female ≤ 0.5</text>\n<text text-anchor=\"start\" x=\"1252.5\" y=\"-166.7\" font-family=\"Helvetica,sans-Serif\" font-size=\"14.00\">entropy = 0.994</text>\n<text text-anchor=\"start\" x=\"1255.12\" y=\"-150.2\" font-family=\"Helvetica,sans-Serif\" font-size=\"14.00\">samples = 136</text>\n<text text-anchor=\"start\" x=\"1254\" y=\"-133.7\" font-family=\"Helvetica,sans-Serif\" font-size=\"14.00\">value = [74, 62]</text>\n<text text-anchor=\"start\" x=\"1251.75\" y=\"-117.2\" font-family=\"Helvetica,sans-Serif\" font-size=\"14.00\">class = Member</text>\n</g>\n<!-- 20&#45;&gt;21 -->\n<g id=\"edge21\" class=\"edge\">\n<title>20&#45;&gt;21</title>\n<path fill=\"none\" stroke=\"black\" d=\"M1302.38,-236.15C1302.38,-228.47 1302.38,-220.39 1302.38,-212.44\"/>\n<polygon fill=\"black\" stroke=\"black\" points=\"1305.88,-212.47 1302.38,-202.47 1298.88,-212.47 1305.88,-212.47\"/>\n</g>\n<!-- 24 -->\n<g id=\"node25\" class=\"node\">\n<title>24</title>\n<path fill=\"#f1bd98\" stroke=\"black\" d=\"M1493,-200.5C1493,-200.5 1399.75,-200.5 1399.75,-200.5 1393.75,-200.5 1387.75,-194.5 1387.75,-188.5 1387.75,-188.5 1387.75,-122 1387.75,-122 1387.75,-116 1393.75,-110 1399.75,-110 1399.75,-110 1493,-110 1493,-110 1499,-110 1505,-116 1505,-122 1505,-122 1505,-188.5 1505,-188.5 1505,-194.5 1499,-200.5 1493,-200.5\"/>\n<text text-anchor=\"start\" x=\"1403.25\" y=\"-183.2\" font-family=\"Helvetica,sans-Serif\" font-size=\"14.00\">Quantity ≤ 9.5</text>\n<text text-anchor=\"start\" x=\"1396.5\" y=\"-166.7\" font-family=\"Helvetica,sans-Serif\" font-size=\"14.00\">entropy = 0.909</text>\n<text text-anchor=\"start\" x=\"1403.25\" y=\"-150.2\" font-family=\"Helvetica,sans-Serif\" font-size=\"14.00\">samples = 71</text>\n<text text-anchor=\"start\" x=\"1398\" y=\"-133.7\" font-family=\"Helvetica,sans-Serif\" font-size=\"14.00\">value = [48, 23]</text>\n<text text-anchor=\"start\" x=\"1395.75\" y=\"-117.2\" font-family=\"Helvetica,sans-Serif\" font-size=\"14.00\">class = Member</text>\n</g>\n<!-- 20&#45;&gt;24 -->\n<g id=\"edge24\" class=\"edge\">\n<title>20&#45;&gt;24</title>\n<path fill=\"none\" stroke=\"black\" d=\"M1353.96,-236.15C1364.4,-227.13 1375.47,-217.56 1386.18,-208.3\"/>\n<polygon fill=\"black\" stroke=\"black\" points=\"1388.25,-211.13 1393.53,-201.94 1383.67,-205.84 1388.25,-211.13\"/>\n</g>\n<!-- 22 -->\n<g id=\"node23\" class=\"node\">\n<title>22</title>\n<path fill=\"#fefbf9\" stroke=\"black\" d=\"M1223,-74C1223,-74 1129.75,-74 1129.75,-74 1123.75,-74 1117.75,-68 1117.75,-62 1117.75,-62 1117.75,-12 1117.75,-12 1117.75,-6 1123.75,0 1129.75,0 1129.75,0 1223,0 1223,0 1229,0 1235,-6 1235,-12 1235,-12 1235,-62 1235,-62 1235,-68 1229,-74 1223,-74\"/>\n<text text-anchor=\"start\" x=\"1134.75\" y=\"-56.7\" font-family=\"Helvetica,sans-Serif\" font-size=\"14.00\">entropy = 1.0</text>\n<text text-anchor=\"start\" x=\"1133.25\" y=\"-40.2\" font-family=\"Helvetica,sans-Serif\" font-size=\"14.00\">samples = 65</text>\n<text text-anchor=\"start\" x=\"1128\" y=\"-23.7\" font-family=\"Helvetica,sans-Serif\" font-size=\"14.00\">value = [33, 32]</text>\n<text text-anchor=\"start\" x=\"1125.75\" y=\"-7.2\" font-family=\"Helvetica,sans-Serif\" font-size=\"14.00\">class = Member</text>\n</g>\n<!-- 21&#45;&gt;22 -->\n<g id=\"edge22\" class=\"edge\">\n<title>21&#45;&gt;22</title>\n<path fill=\"none\" stroke=\"black\" d=\"M1254.02,-109.64C1244.25,-100.62 1233.98,-91.15 1224.23,-82.15\"/>\n<polygon fill=\"black\" stroke=\"black\" points=\"1226.66,-79.63 1216.93,-75.42 1221.91,-84.77 1226.66,-79.63\"/>\n</g>\n<!-- 23 -->\n<g id=\"node24\" class=\"node\">\n<title>23</title>\n<path fill=\"#f8ddca\" stroke=\"black\" d=\"M1358,-74C1358,-74 1264.75,-74 1264.75,-74 1258.75,-74 1252.75,-68 1252.75,-62 1252.75,-62 1252.75,-12 1252.75,-12 1252.75,-6 1258.75,0 1264.75,0 1264.75,0 1358,0 1358,0 1364,0 1370,-6 1370,-12 1370,-12 1370,-62 1370,-62 1370,-68 1364,-74 1358,-74\"/>\n<text text-anchor=\"start\" x=\"1261.5\" y=\"-56.7\" font-family=\"Helvetica,sans-Serif\" font-size=\"14.00\">entropy = 0.983</text>\n<text text-anchor=\"start\" x=\"1268.25\" y=\"-40.2\" font-family=\"Helvetica,sans-Serif\" font-size=\"14.00\">samples = 71</text>\n<text text-anchor=\"start\" x=\"1263\" y=\"-23.7\" font-family=\"Helvetica,sans-Serif\" font-size=\"14.00\">value = [41, 30]</text>\n<text text-anchor=\"start\" x=\"1260.75\" y=\"-7.2\" font-family=\"Helvetica,sans-Serif\" font-size=\"14.00\">class = Member</text>\n</g>\n<!-- 21&#45;&gt;23 -->\n<g id=\"edge23\" class=\"edge\">\n<title>21&#45;&gt;23</title>\n<path fill=\"none\" stroke=\"black\" d=\"M1305.83,-109.64C1306.44,-101.81 1307.07,-93.63 1307.68,-85.72\"/>\n<polygon fill=\"black\" stroke=\"black\" points=\"1311.16,-86.14 1308.44,-75.9 1304.18,-85.6 1311.16,-86.14\"/>\n</g>\n<!-- 25 -->\n<g id=\"node26\" class=\"node\">\n<title>25</title>\n<path fill=\"#efb082\" stroke=\"black\" d=\"M1493,-74C1493,-74 1399.75,-74 1399.75,-74 1393.75,-74 1387.75,-68 1387.75,-62 1387.75,-62 1387.75,-12 1387.75,-12 1387.75,-6 1393.75,0 1399.75,0 1399.75,0 1493,0 1493,0 1499,0 1505,-6 1505,-12 1505,-12 1505,-62 1505,-62 1505,-68 1499,-74 1493,-74\"/>\n<text text-anchor=\"start\" x=\"1396.5\" y=\"-56.7\" font-family=\"Helvetica,sans-Serif\" font-size=\"14.00\">entropy = 0.842</text>\n<text text-anchor=\"start\" x=\"1403.25\" y=\"-40.2\" font-family=\"Helvetica,sans-Serif\" font-size=\"14.00\">samples = 37</text>\n<text text-anchor=\"start\" x=\"1398\" y=\"-23.7\" font-family=\"Helvetica,sans-Serif\" font-size=\"14.00\">value = [27, 10]</text>\n<text text-anchor=\"start\" x=\"1395.75\" y=\"-7.2\" font-family=\"Helvetica,sans-Serif\" font-size=\"14.00\">class = Member</text>\n</g>\n<!-- 24&#45;&gt;25 -->\n<g id=\"edge25\" class=\"edge\">\n<title>24&#45;&gt;25</title>\n<path fill=\"none\" stroke=\"black\" d=\"M1446.38,-109.64C1446.38,-101.81 1446.38,-93.63 1446.38,-85.72\"/>\n<polygon fill=\"black\" stroke=\"black\" points=\"1449.88,-85.91 1446.38,-75.91 1442.88,-85.91 1449.88,-85.91\"/>\n</g>\n<!-- 26 -->\n<g id=\"node27\" class=\"node\">\n<title>26</title>\n<path fill=\"#f5cfb4\" stroke=\"black\" d=\"M1628,-74C1628,-74 1534.75,-74 1534.75,-74 1528.75,-74 1522.75,-68 1522.75,-62 1522.75,-62 1522.75,-12 1522.75,-12 1522.75,-6 1528.75,0 1534.75,0 1534.75,0 1628,0 1628,0 1634,0 1640,-6 1640,-12 1640,-12 1640,-62 1640,-62 1640,-68 1634,-74 1628,-74\"/>\n<text text-anchor=\"start\" x=\"1535.62\" y=\"-56.7\" font-family=\"Helvetica,sans-Serif\" font-size=\"14.00\">entropy = 0.96</text>\n<text text-anchor=\"start\" x=\"1538.25\" y=\"-40.2\" font-family=\"Helvetica,sans-Serif\" font-size=\"14.00\">samples = 34</text>\n<text text-anchor=\"start\" x=\"1533\" y=\"-23.7\" font-family=\"Helvetica,sans-Serif\" font-size=\"14.00\">value = [21, 13]</text>\n<text text-anchor=\"start\" x=\"1530.75\" y=\"-7.2\" font-family=\"Helvetica,sans-Serif\" font-size=\"14.00\">class = Member</text>\n</g>\n<!-- 24&#45;&gt;26 -->\n<g id=\"edge26\" class=\"edge\">\n<title>24&#45;&gt;26</title>\n<path fill=\"none\" stroke=\"black\" d=\"M1498.18,-109.64C1508.76,-100.53 1519.87,-90.96 1530.42,-81.88\"/>\n<polygon fill=\"black\" stroke=\"black\" points=\"1532.67,-84.56 1537.96,-75.38 1528.1,-79.25 1532.67,-84.56\"/>\n</g>\n</g>\n</svg>\n",
      "text/plain": "<graphviz.sources.Source at 0x1d6c7e155b0>"
     },
     "execution_count": 45,
     "metadata": {},
     "output_type": "execute_result"
    }
   ],
   "source": [
    "# transform dot file to graph\n",
    "graph_1 = graphviz.Source(dot_data_1)\n",
    "graph_1"
   ]
  },
  {
   "cell_type": "code",
   "execution_count": 46,
   "id": "dbb02c74",
   "metadata": {
    "ExecuteTime": {
     "end_time": "2024-03-01T06:58:50.980478300Z",
     "start_time": "2024-03-01T06:58:50.678654500Z"
    }
   },
   "outputs": [
    {
     "data": {
      "text/plain": "'Tuned_DT.pdf'"
     },
     "execution_count": 46,
     "metadata": {},
     "output_type": "execute_result"
    }
   ],
   "source": [
    "# store graph in pdf\n",
    "graph_1.render(\"Tuned_DT\")"
   ]
  },
  {
   "cell_type": "markdown",
   "id": "9942dd53",
   "metadata": {},
   "source": [
    "### Alternative Way of Testing Accuracy: Cross Validation"
   ]
  },
  {
   "cell_type": "code",
   "execution_count": 47,
   "id": "5b83e0fb",
   "metadata": {
    "ExecuteTime": {
     "end_time": "2024-03-01T06:58:53.070214400Z",
     "start_time": "2024-03-01T06:58:52.920884200Z"
    }
   },
   "outputs": [],
   "source": [
    "# import cross-validation function\n",
    "from sklearn.model_selection import cross_val_score"
   ]
  },
  {
   "cell_type": "code",
   "execution_count": 48,
   "id": "3d6bcb5e",
   "metadata": {
    "ExecuteTime": {
     "end_time": "2024-03-01T06:58:54.271214500Z",
     "start_time": "2024-03-01T06:58:54.067370700Z"
    }
   },
   "outputs": [],
   "source": [
    "# do 10-fold cross-validation (by default cv=5)\n",
    "score_cv = cross_val_score(fullmodel, X, y, cv=5)"
   ]
  },
  {
   "cell_type": "code",
   "execution_count": 49,
   "id": "21adc5c3",
   "metadata": {
    "ExecuteTime": {
     "end_time": "2024-03-01T06:58:55.253451400Z",
     "start_time": "2024-03-01T06:58:55.171671700Z"
    }
   },
   "outputs": [
    {
     "name": "stdout",
     "output_type": "stream",
     "text": [
      "[0.54  0.49  0.515 0.55  0.49 ]\n"
     ]
    }
   ],
   "source": [
    "# check the accuracy result from each run of cross-validation\n",
    "print(score_cv)"
   ]
  },
  {
   "cell_type": "code",
   "execution_count": 50,
   "id": "44b9cf78",
   "metadata": {
    "ExecuteTime": {
     "end_time": "2024-03-01T06:58:57.951663400Z",
     "start_time": "2024-03-01T06:58:57.818141Z"
    }
   },
   "outputs": [
    {
     "data": {
      "text/plain": "0.517"
     },
     "execution_count": 50,
     "metadata": {},
     "output_type": "execute_result"
    }
   ],
   "source": [
    "# average of the accuracy result\n",
    "score_cv.mean()"
   ]
  },
  {
   "cell_type": "code",
   "execution_count": 51,
   "id": "8678c58c",
   "metadata": {
    "ExecuteTime": {
     "end_time": "2024-03-01T06:59:00.042707200Z",
     "start_time": "2024-03-01T06:58:59.780031300Z"
    }
   },
   "outputs": [
    {
     "data": {
      "text/plain": "0.535"
     },
     "execution_count": 51,
     "metadata": {},
     "output_type": "execute_result"
    }
   ],
   "source": [
    "score_cv_tuned = cross_val_score(model_1, X, y, cv=5)\n",
    "score_cv_tuned.mean()"
   ]
  },
  {
   "cell_type": "code",
   "execution_count": 52,
   "id": "313835fd",
   "metadata": {
    "ExecuteTime": {
     "end_time": "2024-03-01T06:59:04.628369100Z",
     "start_time": "2024-03-01T06:59:04.515187600Z"
    }
   },
   "outputs": [
    {
     "data": {
      "text/plain": "array([0.555, 0.505, 0.585, 0.515, 0.515])"
     },
     "execution_count": 52,
     "metadata": {},
     "output_type": "execute_result"
    }
   ],
   "source": [
    "score_cv_tuned"
   ]
  },
  {
   "cell_type": "markdown",
   "id": "21c95c0f",
   "metadata": {},
   "source": [
    "### Finding Optimal Parameters: Grid  Search"
   ]
  },
  {
   "cell_type": "code",
   "execution_count": 53,
   "id": "4728d60c",
   "metadata": {
    "ExecuteTime": {
     "end_time": "2024-03-01T06:59:44.293569300Z",
     "start_time": "2024-03-01T06:59:44.199685900Z"
    }
   },
   "outputs": [],
   "source": [
    "# package for exhaustive grid search\n",
    "\n",
    "from sklearn.model_selection import GridSearchCV"
   ]
  },
  {
   "cell_type": "code",
   "execution_count": 54,
   "id": "1502bc3c",
   "metadata": {
    "ExecuteTime": {
     "end_time": "2024-03-01T06:59:45.725823200Z",
     "start_time": "2024-03-01T06:59:45.652414300Z"
    }
   },
   "outputs": [],
   "source": [
    "# start with an initial guess for parameters\n",
    "    # first grid search assessed 4 × 4 × 5 = 80 combinations\n",
    "    \n",
    "param_grid = {\n",
    "'max_depth': [10, 20, 30, 40], # 4 values\n",
    "'min_samples_split': [10, 20, 30, 40], # 4 values\n",
    "'min_samples_leaf': [5, 10, 15, 20, 25], # 5 values\n",
    "} \n",
    "\n",
    "\n",
    "# grid search with 5-fold cross-validation \n",
    "# n_jobs: number of jobs to run in parallel. -1 means using all processors\n",
    "\n",
    "gridSearch = GridSearchCV(DecisionTreeClassifier(random_state=123),\n",
    " param_grid, cv=5, n_jobs=-1) "
   ]
  },
  {
   "cell_type": "code",
   "execution_count": 55,
   "id": "22ab7f63",
   "metadata": {
    "ExecuteTime": {
     "end_time": "2024-03-01T06:59:55.247832100Z",
     "start_time": "2024-03-01T06:59:47.650304200Z"
    }
   },
   "outputs": [
    {
     "name": "stdout",
     "output_type": "stream",
     "text": [
      "Initial score:  0.54\n",
      "Initial parameters:  {'max_depth': 10, 'min_samples_leaf': 25, 'min_samples_split': 10}\n"
     ]
    }
   ],
   "source": [
    "gridSearch.fit(X_train, y_train)\n",
    "print('Initial score: ', gridSearch.best_score_)\n",
    "print('Initial parameters: ', gridSearch.best_params_)"
   ]
  },
  {
   "cell_type": "code",
   "execution_count": 56,
   "id": "5913ea38",
   "metadata": {
    "ExecuteTime": {
     "end_time": "2024-03-01T06:59:58.571438900Z",
     "start_time": "2024-03-01T06:59:58.479777100Z"
    }
   },
   "outputs": [],
   "source": [
    "# Adapt grid based on result from initial grid search\n",
    "    # exhaustively search value around initial best parameters\n",
    "    # first grid search assessed 13 × 10 × 10 = 1300 combinations\n",
    "\n",
    "param_grid_best = {\n",
    "'max_depth': list(range(2, 15)), # 13 values\n",
    "'min_samples_split': list(range(5, 15)), # 10 values\n",
    "'min_samples_leaf': list(range(20, 30)), # 10 values\n",
    "}"
   ]
  },
  {
   "cell_type": "code",
   "execution_count": 57,
   "id": "bd7fbed3",
   "metadata": {
    "ExecuteTime": {
     "end_time": "2024-03-01T07:00:22.627308500Z",
     "start_time": "2024-03-01T07:00:00.122056500Z"
    }
   },
   "outputs": [
    {
     "name": "stdout",
     "output_type": "stream",
     "text": [
      "Improved score:  0.5414285714285715\n",
      "Improved parameters:  {'max_depth': 5, 'min_samples_leaf': 25, 'min_samples_split': 5}\n"
     ]
    }
   ],
   "source": [
    "gridSearch = GridSearchCV(DecisionTreeClassifier(random_state=123), param_grid_best, cv=5, n_jobs=-1)\n",
    "gridSearch.fit(X_train, y_train)\n",
    "print('Improved score: ', gridSearch.best_score_)\n",
    "print('Improved parameters: ', gridSearch.best_params_)"
   ]
  },
  {
   "cell_type": "code",
   "execution_count": 58,
   "id": "a84cd08b",
   "metadata": {
    "ExecuteTime": {
     "end_time": "2024-03-01T07:00:53.844071900Z",
     "start_time": "2024-03-01T07:00:53.612723200Z"
    }
   },
   "outputs": [],
   "source": [
    "# record tree with best parameters\n",
    "bestClassTree = gridSearch.best_estimator_\n",
    "\n",
    "# create dot file\n",
    "dot_best = tree.export_graphviz(bestClassTree, feature_names=features, class_names\n",
    "=target_names, filled = True, rounded=True, special_characters=True)"
   ]
  },
  {
   "cell_type": "code",
   "execution_count": 59,
   "id": "06a1fdcd",
   "metadata": {
    "ExecuteTime": {
     "end_time": "2024-03-01T07:00:55.088209200Z",
     "start_time": "2024-03-01T07:00:54.876091400Z"
    }
   },
   "outputs": [
    {
     "data": {
      "image/svg+xml": "<?xml version=\"1.0\" encoding=\"UTF-8\" standalone=\"no\"?>\n<!DOCTYPE svg PUBLIC \"-//W3C//DTD SVG 1.1//EN\"\n \"http://www.w3.org/Graphics/SVG/1.1/DTD/svg11.dtd\">\n<!-- Generated by graphviz version 10.0.1 (20240210.2158)\n -->\n<!-- Title: Tree Pages: 1 -->\n<svg width=\"1477pt\" height=\"715pt\"\n viewBox=\"0.00 0.00 1477.00 714.50\" xmlns=\"http://www.w3.org/2000/svg\" xmlns:xlink=\"http://www.w3.org/1999/xlink\">\n<g id=\"graph0\" class=\"graph\" transform=\"scale(1 1) rotate(0) translate(4 710.5)\">\n<title>Tree</title>\n<polygon fill=\"white\" stroke=\"none\" points=\"-4,4 -4,-710.5 1473,-710.5 1473,4 -4,4\"/>\n<!-- 0 -->\n<g id=\"node1\" class=\"node\">\n<title>0</title>\n<path fill=\"#fffefd\" stroke=\"black\" d=\"M827,-706.5C827,-706.5 721.75,-706.5 721.75,-706.5 715.75,-706.5 709.75,-700.5 709.75,-694.5 709.75,-694.5 709.75,-628 709.75,-628 709.75,-622 715.75,-616 721.75,-616 721.75,-616 827,-616 827,-616 833,-616 839,-622 839,-628 839,-628 839,-694.5 839,-694.5 839,-700.5 833,-706.5 827,-706.5\"/>\n<text text-anchor=\"start\" x=\"721.88\" y=\"-689.2\" font-family=\"Helvetica,sans-Serif\" font-size=\"14.00\">Credit card ≤ 0.5</text>\n<text text-anchor=\"start\" x=\"745.5\" y=\"-672.7\" font-family=\"Helvetica,sans-Serif\" font-size=\"14.00\">gini = 0.5</text>\n<text text-anchor=\"start\" x=\"727.12\" y=\"-656.2\" font-family=\"Helvetica,sans-Serif\" font-size=\"14.00\">samples = 700</text>\n<text text-anchor=\"start\" x=\"717.75\" y=\"-639.7\" font-family=\"Helvetica,sans-Serif\" font-size=\"14.00\">value = [352, 348]</text>\n<text text-anchor=\"start\" x=\"723.75\" y=\"-623.2\" font-family=\"Helvetica,sans-Serif\" font-size=\"14.00\">class = Member</text>\n</g>\n<!-- 1 -->\n<g id=\"node2\" class=\"node\">\n<title>1</title>\n<path fill=\"#ebf5fc\" stroke=\"black\" d=\"M687,-580C687,-580 557.75,-580 557.75,-580 551.75,-580 545.75,-574 545.75,-568 545.75,-568 545.75,-501.5 545.75,-501.5 545.75,-495.5 551.75,-489.5 557.75,-489.5 557.75,-489.5 687,-489.5 687,-489.5 693,-489.5 699,-495.5 699,-501.5 699,-501.5 699,-568 699,-568 699,-574 693,-580 687,-580\"/>\n<text text-anchor=\"start\" x=\"580.75\" y=\"-562.7\" font-family=\"Helvetica,sans-Serif\" font-size=\"14.00\">Female ≤ 0.5</text>\n<text text-anchor=\"start\" x=\"585.25\" y=\"-546.2\" font-family=\"Helvetica,sans-Serif\" font-size=\"14.00\">gini = 0.499</text>\n<text text-anchor=\"start\" x=\"575.12\" y=\"-529.7\" font-family=\"Helvetica,sans-Serif\" font-size=\"14.00\">samples = 473</text>\n<text text-anchor=\"start\" x=\"553.75\" y=\"-513.2\" font-family=\"Helvetica,sans-Serif\" font-size=\"14.00\">value = [224.0, 249.0]</text>\n<text text-anchor=\"start\" x=\"575.5\" y=\"-496.7\" font-family=\"Helvetica,sans-Serif\" font-size=\"14.00\">class = Normal</text>\n</g>\n<!-- 0&#45;&gt;1 -->\n<g id=\"edge1\" class=\"edge\">\n<title>0&#45;&gt;1</title>\n<path fill=\"none\" stroke=\"black\" d=\"M719.93,-615.65C708.8,-606.54 696.99,-596.87 685.58,-587.52\"/>\n<polygon fill=\"black\" stroke=\"black\" points=\"688.08,-585.04 678.12,-581.41 683.64,-590.46 688.08,-585.04\"/>\n<text text-anchor=\"middle\" x=\"679.43\" y=\"-600.28\" font-family=\"Helvetica,sans-Serif\" font-size=\"14.00\">True</text>\n</g>\n<!-- 20 -->\n<g id=\"node21\" class=\"node\">\n<title>20</title>\n<path fill=\"#f9e2d2\" stroke=\"black\" d=\"M939.88,-580C939.88,-580 842.88,-580 842.88,-580 836.88,-580 830.88,-574 830.88,-568 830.88,-568 830.88,-501.5 830.88,-501.5 830.88,-495.5 836.88,-489.5 842.88,-489.5 842.88,-489.5 939.88,-489.5 939.88,-489.5 945.88,-489.5 951.88,-495.5 951.88,-501.5 951.88,-501.5 951.88,-568 951.88,-568 951.88,-574 945.88,-580 939.88,-580\"/>\n<text text-anchor=\"start\" x=\"848.25\" y=\"-562.7\" font-family=\"Helvetica,sans-Serif\" font-size=\"14.00\">Quantity ≤ 3.5</text>\n<text text-anchor=\"start\" x=\"854.25\" y=\"-546.2\" font-family=\"Helvetica,sans-Serif\" font-size=\"14.00\">gini = 0.492</text>\n<text text-anchor=\"start\" x=\"844.12\" y=\"-529.7\" font-family=\"Helvetica,sans-Serif\" font-size=\"14.00\">samples = 227</text>\n<text text-anchor=\"start\" x=\"838.88\" y=\"-513.2\" font-family=\"Helvetica,sans-Serif\" font-size=\"14.00\">value = [128, 99]</text>\n<text text-anchor=\"start\" x=\"840.75\" y=\"-496.7\" font-family=\"Helvetica,sans-Serif\" font-size=\"14.00\">class = Member</text>\n</g>\n<!-- 0&#45;&gt;20 -->\n<g id=\"edge20\" class=\"edge\">\n<title>0&#45;&gt;20</title>\n<path fill=\"none\" stroke=\"black\" d=\"M816.28,-615.65C824.52,-606.89 833.23,-597.62 841.69,-588.62\"/>\n<polygon fill=\"black\" stroke=\"black\" points=\"844.03,-591.24 848.33,-581.56 838.93,-586.45 844.03,-591.24\"/>\n<text text-anchor=\"middle\" x=\"850.14\" y=\"-600.39\" font-family=\"Helvetica,sans-Serif\" font-size=\"14.00\">False</text>\n</g>\n<!-- 2 -->\n<g id=\"node3\" class=\"node\">\n<title>2</title>\n<path fill=\"#d3e9f9\" stroke=\"black\" d=\"M462,-453.5C462,-453.5 356.75,-453.5 356.75,-453.5 350.75,-453.5 344.75,-447.5 344.75,-441.5 344.75,-441.5 344.75,-375 344.75,-375 344.75,-369 350.75,-363 356.75,-363 356.75,-363 462,-363 462,-363 468,-363 474,-369 474,-375 474,-375 474,-441.5 474,-441.5 474,-447.5 468,-453.5 462,-453.5\"/>\n<text text-anchor=\"start\" x=\"366.25\" y=\"-436.2\" font-family=\"Helvetica,sans-Serif\" font-size=\"14.00\">Quantity ≤ 8.5</text>\n<text text-anchor=\"start\" x=\"372.25\" y=\"-419.7\" font-family=\"Helvetica,sans-Serif\" font-size=\"14.00\">gini = 0.492</text>\n<text text-anchor=\"start\" x=\"362.12\" y=\"-403.2\" font-family=\"Helvetica,sans-Serif\" font-size=\"14.00\">samples = 242</text>\n<text text-anchor=\"start\" x=\"352.75\" y=\"-386.7\" font-family=\"Helvetica,sans-Serif\" font-size=\"14.00\">value = [106, 136]</text>\n<text text-anchor=\"start\" x=\"362.5\" y=\"-370.2\" font-family=\"Helvetica,sans-Serif\" font-size=\"14.00\">class = Normal</text>\n</g>\n<!-- 1&#45;&gt;2 -->\n<g id=\"edge2\" class=\"edge\">\n<title>1&#45;&gt;2</title>\n<path fill=\"none\" stroke=\"black\" d=\"M546.08,-489.15C525.87,-477.34 504.08,-464.6 483.96,-452.85\"/>\n<polygon fill=\"black\" stroke=\"black\" points=\"485.94,-449.95 475.54,-447.92 482.41,-455.99 485.94,-449.95\"/>\n</g>\n<!-- 9 -->\n<g id=\"node10\" class=\"node\">\n<title>9</title>\n<path fill=\"#fefaf7\" stroke=\"black\" d=\"M675,-453.5C675,-453.5 569.75,-453.5 569.75,-453.5 563.75,-453.5 557.75,-447.5 557.75,-441.5 557.75,-441.5 557.75,-375 557.75,-375 557.75,-369 563.75,-363 569.75,-363 569.75,-363 675,-363 675,-363 681,-363 687,-369 687,-375 687,-375 687,-441.5 687,-441.5 687,-447.5 681,-453.5 675,-453.5\"/>\n<text text-anchor=\"start\" x=\"579.25\" y=\"-436.2\" font-family=\"Helvetica,sans-Serif\" font-size=\"14.00\">Quantity ≤ 3.5</text>\n<text text-anchor=\"start\" x=\"593.5\" y=\"-419.7\" font-family=\"Helvetica,sans-Serif\" font-size=\"14.00\">gini = 0.5</text>\n<text text-anchor=\"start\" x=\"575.12\" y=\"-403.2\" font-family=\"Helvetica,sans-Serif\" font-size=\"14.00\">samples = 231</text>\n<text text-anchor=\"start\" x=\"565.75\" y=\"-386.7\" font-family=\"Helvetica,sans-Serif\" font-size=\"14.00\">value = [118, 113]</text>\n<text text-anchor=\"start\" x=\"571.75\" y=\"-370.2\" font-family=\"Helvetica,sans-Serif\" font-size=\"14.00\">class = Member</text>\n</g>\n<!-- 1&#45;&gt;9 -->\n<g id=\"edge9\" class=\"edge\">\n<title>1&#45;&gt;9</title>\n<path fill=\"none\" stroke=\"black\" d=\"M622.38,-489.15C622.38,-481.47 622.38,-473.39 622.38,-465.44\"/>\n<polygon fill=\"black\" stroke=\"black\" points=\"625.88,-465.47 622.38,-455.47 618.88,-465.47 625.88,-465.47\"/>\n</g>\n<!-- 3 -->\n<g id=\"node4\" class=\"node\">\n<title>3</title>\n<path fill=\"#c4e2f7\" stroke=\"black\" d=\"M320.88,-327C320.88,-327 199.88,-327 199.88,-327 193.88,-327 187.88,-321 187.88,-315 187.88,-315 187.88,-248.5 187.88,-248.5 187.88,-242.5 193.88,-236.5 199.88,-236.5 199.88,-236.5 320.88,-236.5 320.88,-236.5 326.88,-236.5 332.88,-242.5 332.88,-248.5 332.88,-248.5 332.88,-315 332.88,-315 332.88,-321 326.88,-327 320.88,-327\"/>\n<text text-anchor=\"start\" x=\"217.25\" y=\"-309.7\" font-family=\"Helvetica,sans-Serif\" font-size=\"14.00\">Quantity ≤ 6.5</text>\n<text text-anchor=\"start\" x=\"223.25\" y=\"-293.2\" font-family=\"Helvetica,sans-Serif\" font-size=\"14.00\">gini = 0.485</text>\n<text text-anchor=\"start\" x=\"213.12\" y=\"-276.7\" font-family=\"Helvetica,sans-Serif\" font-size=\"14.00\">samples = 196</text>\n<text text-anchor=\"start\" x=\"195.88\" y=\"-260.2\" font-family=\"Helvetica,sans-Serif\" font-size=\"14.00\">value = [81.0, 115.0]</text>\n<text text-anchor=\"start\" x=\"213.5\" y=\"-243.7\" font-family=\"Helvetica,sans-Serif\" font-size=\"14.00\">class = Normal</text>\n</g>\n<!-- 2&#45;&gt;3 -->\n<g id=\"edge3\" class=\"edge\">\n<title>2&#45;&gt;3</title>\n<path fill=\"none\" stroke=\"black\" d=\"M356,-362.65C345.2,-353.63 333.75,-344.06 322.66,-334.8\"/>\n<polygon fill=\"black\" stroke=\"black\" points=\"324.95,-332.15 315.04,-328.42 320.47,-337.52 324.95,-332.15\"/>\n</g>\n<!-- 8 -->\n<g id=\"node9\" class=\"node\">\n<title>8</title>\n<path fill=\"#fbebdf\" stroke=\"black\" d=\"M456,-318.75C456,-318.75 362.75,-318.75 362.75,-318.75 356.75,-318.75 350.75,-312.75 350.75,-306.75 350.75,-306.75 350.75,-256.75 350.75,-256.75 350.75,-250.75 356.75,-244.75 362.75,-244.75 362.75,-244.75 456,-244.75 456,-244.75 462,-244.75 468,-250.75 468,-256.75 468,-256.75 468,-306.75 468,-306.75 468,-312.75 462,-318.75 456,-318.75\"/>\n<text text-anchor=\"start\" x=\"372.25\" y=\"-301.45\" font-family=\"Helvetica,sans-Serif\" font-size=\"14.00\">gini = 0.496</text>\n<text text-anchor=\"start\" x=\"366.25\" y=\"-284.95\" font-family=\"Helvetica,sans-Serif\" font-size=\"14.00\">samples = 46</text>\n<text text-anchor=\"start\" x=\"361\" y=\"-268.45\" font-family=\"Helvetica,sans-Serif\" font-size=\"14.00\">value = [25, 21]</text>\n<text text-anchor=\"start\" x=\"358.75\" y=\"-251.95\" font-family=\"Helvetica,sans-Serif\" font-size=\"14.00\">class = Member</text>\n</g>\n<!-- 2&#45;&gt;8 -->\n<g id=\"edge8\" class=\"edge\">\n<title>2&#45;&gt;8</title>\n<path fill=\"none\" stroke=\"black\" d=\"M409.38,-362.65C409.38,-352.1 409.38,-340.81 409.38,-330.13\"/>\n<polygon fill=\"black\" stroke=\"black\" points=\"412.88,-330.37 409.38,-320.37 405.88,-330.37 412.88,-330.37\"/>\n</g>\n<!-- 4 -->\n<g id=\"node5\" class=\"node\">\n<title>4</title>\n<path fill=\"#d9ecfa\" stroke=\"black\" d=\"M177.75,-200.5C177.75,-200.5 65,-200.5 65,-200.5 59,-200.5 53,-194.5 53,-188.5 53,-188.5 53,-122 53,-122 53,-116 59,-110 65,-110 65,-110 177.75,-110 177.75,-110 183.75,-110 189.75,-116 189.75,-122 189.75,-122 189.75,-188.5 189.75,-188.5 189.75,-194.5 183.75,-200.5 177.75,-200.5\"/>\n<text text-anchor=\"start\" x=\"78.25\" y=\"-183.2\" font-family=\"Helvetica,sans-Serif\" font-size=\"14.00\">Quantity ≤ 5.5</text>\n<text text-anchor=\"start\" x=\"84.25\" y=\"-166.7\" font-family=\"Helvetica,sans-Serif\" font-size=\"14.00\">gini = 0.494</text>\n<text text-anchor=\"start\" x=\"74.12\" y=\"-150.2\" font-family=\"Helvetica,sans-Serif\" font-size=\"14.00\">samples = 152</text>\n<text text-anchor=\"start\" x=\"61\" y=\"-133.7\" font-family=\"Helvetica,sans-Serif\" font-size=\"14.00\">value = [68.0, 84.0]</text>\n<text text-anchor=\"start\" x=\"74.5\" y=\"-117.2\" font-family=\"Helvetica,sans-Serif\" font-size=\"14.00\">class = Normal</text>\n</g>\n<!-- 3&#45;&gt;4 -->\n<g id=\"edge4\" class=\"edge\">\n<title>3&#45;&gt;4</title>\n<path fill=\"none\" stroke=\"black\" d=\"M210.59,-236.15C200.6,-227.21 190.03,-217.75 179.79,-208.57\"/>\n<polygon fill=\"black\" stroke=\"black\" points=\"182.2,-206.03 172.41,-201.96 177.53,-211.24 182.2,-206.03\"/>\n</g>\n<!-- 7 -->\n<g id=\"node8\" class=\"node\">\n<title>7</title>\n<path fill=\"#8cc6f0\" stroke=\"black\" d=\"M308.75,-192.25C308.75,-192.25 220,-192.25 220,-192.25 214,-192.25 208,-186.25 208,-180.25 208,-180.25 208,-130.25 208,-130.25 208,-124.25 214,-118.25 220,-118.25 220,-118.25 308.75,-118.25 308.75,-118.25 314.75,-118.25 320.75,-124.25 320.75,-130.25 320.75,-130.25 320.75,-180.25 320.75,-180.25 320.75,-186.25 314.75,-192.25 308.75,-192.25\"/>\n<text text-anchor=\"start\" x=\"227.25\" y=\"-174.95\" font-family=\"Helvetica,sans-Serif\" font-size=\"14.00\">gini = 0.416</text>\n<text text-anchor=\"start\" x=\"221.25\" y=\"-158.45\" font-family=\"Helvetica,sans-Serif\" font-size=\"14.00\">samples = 44</text>\n<text text-anchor=\"start\" x=\"216\" y=\"-141.95\" font-family=\"Helvetica,sans-Serif\" font-size=\"14.00\">value = [13, 31]</text>\n<text text-anchor=\"start\" x=\"217.5\" y=\"-125.45\" font-family=\"Helvetica,sans-Serif\" font-size=\"14.00\">class = Normal</text>\n</g>\n<!-- 3&#45;&gt;7 -->\n<g id=\"edge7\" class=\"edge\">\n<title>3&#45;&gt;7</title>\n<path fill=\"none\" stroke=\"black\" d=\"M261.81,-236.15C262.15,-225.6 262.51,-214.31 262.85,-203.63\"/>\n<polygon fill=\"black\" stroke=\"black\" points=\"266.34,-203.98 263.17,-193.87 259.35,-203.75 266.34,-203.98\"/>\n</g>\n<!-- 5 -->\n<g id=\"node6\" class=\"node\">\n<title>5</title>\n<path fill=\"#e1f0fb\" stroke=\"black\" d=\"M100.75,-74C100.75,-74 12,-74 12,-74 6,-74 0,-68 0,-62 0,-62 0,-12 0,-12 0,-6 6,0 12,0 12,0 100.75,0 100.75,0 106.75,0 112.75,-6 112.75,-12 112.75,-12 112.75,-62 112.75,-62 112.75,-68 106.75,-74 100.75,-74\"/>\n<text text-anchor=\"start\" x=\"19.25\" y=\"-56.7\" font-family=\"Helvetica,sans-Serif\" font-size=\"14.00\">gini = 0.497</text>\n<text text-anchor=\"start\" x=\"9.12\" y=\"-40.2\" font-family=\"Helvetica,sans-Serif\" font-size=\"14.00\">samples = 124</text>\n<text text-anchor=\"start\" x=\"8\" y=\"-23.7\" font-family=\"Helvetica,sans-Serif\" font-size=\"14.00\">value = [57, 67]</text>\n<text text-anchor=\"start\" x=\"9.5\" y=\"-7.2\" font-family=\"Helvetica,sans-Serif\" font-size=\"14.00\">class = Normal</text>\n</g>\n<!-- 4&#45;&gt;5 -->\n<g id=\"edge5\" class=\"edge\">\n<title>4&#45;&gt;5</title>\n<path fill=\"none\" stroke=\"black\" d=\"M96.43,-109.64C91.8,-101.35 86.95,-92.68 82.29,-84.34\"/>\n<polygon fill=\"black\" stroke=\"black\" points=\"85.4,-82.73 77.46,-75.71 79.29,-86.15 85.4,-82.73\"/>\n</g>\n<!-- 6 -->\n<g id=\"node7\" class=\"node\">\n<title>6</title>\n<path fill=\"#b9dcf6\" stroke=\"black\" d=\"M231.75,-74C231.75,-74 143,-74 143,-74 137,-74 131,-68 131,-62 131,-62 131,-12 131,-12 131,-6 137,0 143,0 143,0 231.75,0 231.75,0 237.75,0 243.75,-6 243.75,-12 243.75,-12 243.75,-62 243.75,-62 243.75,-68 237.75,-74 231.75,-74\"/>\n<text text-anchor=\"start\" x=\"150.25\" y=\"-56.7\" font-family=\"Helvetica,sans-Serif\" font-size=\"14.00\">gini = 0.477</text>\n<text text-anchor=\"start\" x=\"144.25\" y=\"-40.2\" font-family=\"Helvetica,sans-Serif\" font-size=\"14.00\">samples = 28</text>\n<text text-anchor=\"start\" x=\"139\" y=\"-23.7\" font-family=\"Helvetica,sans-Serif\" font-size=\"14.00\">value = [11, 17]</text>\n<text text-anchor=\"start\" x=\"140.5\" y=\"-7.2\" font-family=\"Helvetica,sans-Serif\" font-size=\"14.00\">class = Normal</text>\n</g>\n<!-- 4&#45;&gt;6 -->\n<g id=\"edge6\" class=\"edge\">\n<title>4&#45;&gt;6</title>\n<path fill=\"none\" stroke=\"black\" d=\"M146.7,-109.64C151.41,-101.35 156.33,-92.68 161.06,-84.34\"/>\n<polygon fill=\"black\" stroke=\"black\" points=\"164.07,-86.13 165.97,-75.71 157.98,-82.68 164.07,-86.13\"/>\n</g>\n<!-- 10 -->\n<g id=\"node11\" class=\"node\">\n<title>10</title>\n<path fill=\"#f6d2b8\" stroke=\"black\" d=\"M591,-327C591,-327 497.75,-327 497.75,-327 491.75,-327 485.75,-321 485.75,-315 485.75,-315 485.75,-248.5 485.75,-248.5 485.75,-242.5 491.75,-236.5 497.75,-236.5 497.75,-236.5 591,-236.5 591,-236.5 597,-236.5 603,-242.5 603,-248.5 603,-248.5 603,-315 603,-315 603,-321 597,-327 591,-327\"/>\n<text text-anchor=\"start\" x=\"510.25\" y=\"-309.7\" font-family=\"Helvetica,sans-Serif\" font-size=\"14.00\">Cash ≤ 0.5</text>\n<text text-anchor=\"start\" x=\"507.25\" y=\"-293.2\" font-family=\"Helvetica,sans-Serif\" font-size=\"14.00\">gini = 0.476</text>\n<text text-anchor=\"start\" x=\"501.25\" y=\"-276.7\" font-family=\"Helvetica,sans-Serif\" font-size=\"14.00\">samples = 59</text>\n<text text-anchor=\"start\" x=\"496\" y=\"-260.2\" font-family=\"Helvetica,sans-Serif\" font-size=\"14.00\">value = [36, 23]</text>\n<text text-anchor=\"start\" x=\"493.75\" y=\"-243.7\" font-family=\"Helvetica,sans-Serif\" font-size=\"14.00\">class = Member</text>\n</g>\n<!-- 9&#45;&gt;10 -->\n<g id=\"edge10\" class=\"edge\">\n<title>9&#45;&gt;10</title>\n<path fill=\"none\" stroke=\"black\" d=\"M594.44,-362.65C589.23,-354.34 583.73,-345.57 578.36,-337\"/>\n<polygon fill=\"black\" stroke=\"black\" points=\"581.46,-335.35 573.19,-328.74 575.53,-339.07 581.46,-335.35\"/>\n</g>\n<!-- 13 -->\n<g id=\"node14\" class=\"node\">\n<title>13</title>\n<path fill=\"#edf6fd\" stroke=\"black\" d=\"M729.75,-327C729.75,-327 641,-327 641,-327 635,-327 629,-321 629,-315 629,-315 629,-248.5 629,-248.5 629,-242.5 635,-236.5 641,-236.5 641,-236.5 729.75,-236.5 729.75,-236.5 735.75,-236.5 741.75,-242.5 741.75,-248.5 741.75,-248.5 741.75,-315 741.75,-315 741.75,-321 735.75,-327 729.75,-327\"/>\n<text text-anchor=\"start\" x=\"642.25\" y=\"-309.7\" font-family=\"Helvetica,sans-Serif\" font-size=\"14.00\">Quantity ≤ 6.5</text>\n<text text-anchor=\"start\" x=\"648.25\" y=\"-293.2\" font-family=\"Helvetica,sans-Serif\" font-size=\"14.00\">gini = 0.499</text>\n<text text-anchor=\"start\" x=\"638.12\" y=\"-276.7\" font-family=\"Helvetica,sans-Serif\" font-size=\"14.00\">samples = 172</text>\n<text text-anchor=\"start\" x=\"637\" y=\"-260.2\" font-family=\"Helvetica,sans-Serif\" font-size=\"14.00\">value = [82, 90]</text>\n<text text-anchor=\"start\" x=\"638.5\" y=\"-243.7\" font-family=\"Helvetica,sans-Serif\" font-size=\"14.00\">class = Normal</text>\n</g>\n<!-- 9&#45;&gt;13 -->\n<g id=\"edge13\" class=\"edge\">\n<title>9&#45;&gt;13</title>\n<path fill=\"none\" stroke=\"black\" d=\"M644.94,-362.65C649.06,-354.52 653.4,-345.95 657.64,-337.55\"/>\n<polygon fill=\"black\" stroke=\"black\" points=\"660.68,-339.31 662.07,-328.8 654.43,-336.15 660.68,-339.31\"/>\n</g>\n<!-- 11 -->\n<g id=\"node12\" class=\"node\">\n<title>11</title>\n<path fill=\"#f3c4a2\" stroke=\"black\" d=\"M452,-192.25C452,-192.25 358.75,-192.25 358.75,-192.25 352.75,-192.25 346.75,-186.25 346.75,-180.25 346.75,-180.25 346.75,-130.25 346.75,-130.25 346.75,-124.25 352.75,-118.25 358.75,-118.25 358.75,-118.25 452,-118.25 452,-118.25 458,-118.25 464,-124.25 464,-130.25 464,-130.25 464,-180.25 464,-180.25 464,-186.25 458,-192.25 452,-192.25\"/>\n<text text-anchor=\"start\" x=\"368.25\" y=\"-174.95\" font-family=\"Helvetica,sans-Serif\" font-size=\"14.00\">gini = 0.453</text>\n<text text-anchor=\"start\" x=\"362.25\" y=\"-158.45\" font-family=\"Helvetica,sans-Serif\" font-size=\"14.00\">samples = 26</text>\n<text text-anchor=\"start\" x=\"361.12\" y=\"-141.95\" font-family=\"Helvetica,sans-Serif\" font-size=\"14.00\">value = [17, 9]</text>\n<text text-anchor=\"start\" x=\"354.75\" y=\"-125.45\" font-family=\"Helvetica,sans-Serif\" font-size=\"14.00\">class = Member</text>\n</g>\n<!-- 10&#45;&gt;11 -->\n<g id=\"edge11\" class=\"edge\">\n<title>10&#45;&gt;11</title>\n<path fill=\"none\" stroke=\"black\" d=\"M494.59,-236.15C481.42,-224.36 467.23,-211.65 454.12,-199.91\"/>\n<polygon fill=\"black\" stroke=\"black\" points=\"456.6,-197.43 446.81,-193.37 451.93,-202.64 456.6,-197.43\"/>\n</g>\n<!-- 12 -->\n<g id=\"node13\" class=\"node\">\n<title>12</title>\n<path fill=\"#f8decb\" stroke=\"black\" d=\"M587,-192.25C587,-192.25 493.75,-192.25 493.75,-192.25 487.75,-192.25 481.75,-186.25 481.75,-180.25 481.75,-180.25 481.75,-130.25 481.75,-130.25 481.75,-124.25 487.75,-118.25 493.75,-118.25 493.75,-118.25 587,-118.25 587,-118.25 593,-118.25 599,-124.25 599,-130.25 599,-130.25 599,-180.25 599,-180.25 599,-186.25 593,-192.25 587,-192.25\"/>\n<text text-anchor=\"start\" x=\"503.25\" y=\"-174.95\" font-family=\"Helvetica,sans-Serif\" font-size=\"14.00\">gini = 0.489</text>\n<text text-anchor=\"start\" x=\"497.25\" y=\"-158.45\" font-family=\"Helvetica,sans-Serif\" font-size=\"14.00\">samples = 33</text>\n<text text-anchor=\"start\" x=\"492\" y=\"-141.95\" font-family=\"Helvetica,sans-Serif\" font-size=\"14.00\">value = [19, 14]</text>\n<text text-anchor=\"start\" x=\"489.75\" y=\"-125.45\" font-family=\"Helvetica,sans-Serif\" font-size=\"14.00\">class = Member</text>\n</g>\n<!-- 10&#45;&gt;12 -->\n<g id=\"edge12\" class=\"edge\">\n<title>10&#45;&gt;12</title>\n<path fill=\"none\" stroke=\"black\" d=\"M542.94,-236.15C542.6,-225.6 542.24,-214.31 541.9,-203.63\"/>\n<polygon fill=\"black\" stroke=\"black\" points=\"545.4,-203.75 541.58,-193.87 538.41,-203.98 545.4,-203.75\"/>\n</g>\n<!-- 14 -->\n<g id=\"node15\" class=\"node\">\n<title>14</title>\n<path fill=\"#bcdef6\" stroke=\"black\" d=\"M741.75,-200.5C741.75,-200.5 629,-200.5 629,-200.5 623,-200.5 617,-194.5 617,-188.5 617,-188.5 617,-122 617,-122 617,-116 623,-110 629,-110 629,-110 741.75,-110 741.75,-110 747.75,-110 753.75,-116 753.75,-122 753.75,-122 753.75,-188.5 753.75,-188.5 753.75,-194.5 747.75,-200.5 741.75,-200.5\"/>\n<text text-anchor=\"start\" x=\"642.25\" y=\"-183.2\" font-family=\"Helvetica,sans-Serif\" font-size=\"14.00\">Quantity ≤ 4.5</text>\n<text text-anchor=\"start\" x=\"648.25\" y=\"-166.7\" font-family=\"Helvetica,sans-Serif\" font-size=\"14.00\">gini = 0.479</text>\n<text text-anchor=\"start\" x=\"642.25\" y=\"-150.2\" font-family=\"Helvetica,sans-Serif\" font-size=\"14.00\">samples = 78</text>\n<text text-anchor=\"start\" x=\"625\" y=\"-133.7\" font-family=\"Helvetica,sans-Serif\" font-size=\"14.00\">value = [31.0, 47.0]</text>\n<text text-anchor=\"start\" x=\"638.5\" y=\"-117.2\" font-family=\"Helvetica,sans-Serif\" font-size=\"14.00\">class = Normal</text>\n</g>\n<!-- 13&#45;&gt;14 -->\n<g id=\"edge14\" class=\"edge\">\n<title>13&#45;&gt;14</title>\n<path fill=\"none\" stroke=\"black\" d=\"M685.38,-236.15C685.38,-228.47 685.38,-220.39 685.38,-212.44\"/>\n<polygon fill=\"black\" stroke=\"black\" points=\"688.88,-212.47 685.38,-202.47 681.88,-212.47 688.88,-212.47\"/>\n</g>\n<!-- 17 -->\n<g id=\"node18\" class=\"node\">\n<title>17</title>\n<path fill=\"#fbebe0\" stroke=\"black\" d=\"M896.75,-200.5C896.75,-200.5 784,-200.5 784,-200.5 778,-200.5 772,-194.5 772,-188.5 772,-188.5 772,-122 772,-122 772,-116 778,-110 784,-110 784,-110 896.75,-110 896.75,-110 902.75,-110 908.75,-116 908.75,-122 908.75,-122 908.75,-188.5 908.75,-188.5 908.75,-194.5 902.75,-200.5 896.75,-200.5\"/>\n<text text-anchor=\"start\" x=\"797.25\" y=\"-183.2\" font-family=\"Helvetica,sans-Serif\" font-size=\"14.00\">Quantity ≤ 8.5</text>\n<text text-anchor=\"start\" x=\"803.25\" y=\"-166.7\" font-family=\"Helvetica,sans-Serif\" font-size=\"14.00\">gini = 0.496</text>\n<text text-anchor=\"start\" x=\"797.25\" y=\"-150.2\" font-family=\"Helvetica,sans-Serif\" font-size=\"14.00\">samples = 94</text>\n<text text-anchor=\"start\" x=\"780\" y=\"-133.7\" font-family=\"Helvetica,sans-Serif\" font-size=\"14.00\">value = [51.0, 43.0]</text>\n<text text-anchor=\"start\" x=\"789.75\" y=\"-117.2\" font-family=\"Helvetica,sans-Serif\" font-size=\"14.00\">class = Member</text>\n</g>\n<!-- 13&#45;&gt;17 -->\n<g id=\"edge17\" class=\"edge\">\n<title>13&#45;&gt;17</title>\n<path fill=\"none\" stroke=\"black\" d=\"M740.9,-236.15C752.25,-227.04 764.29,-217.37 775.92,-208.02\"/>\n<polygon fill=\"black\" stroke=\"black\" points=\"777.94,-210.89 783.54,-201.9 773.55,-205.43 777.94,-210.89\"/>\n</g>\n<!-- 15 -->\n<g id=\"node16\" class=\"node\">\n<title>15</title>\n<path fill=\"#fdf6f1\" stroke=\"black\" d=\"M604,-74C604,-74 510.75,-74 510.75,-74 504.75,-74 498.75,-68 498.75,-62 498.75,-62 498.75,-12 498.75,-12 498.75,-6 504.75,0 510.75,0 510.75,0 604,0 604,0 610,0 616,-6 616,-12 616,-12 616,-62 616,-62 616,-68 610,-74 604,-74\"/>\n<text text-anchor=\"start\" x=\"520.25\" y=\"-56.7\" font-family=\"Helvetica,sans-Serif\" font-size=\"14.00\">gini = 0.499</text>\n<text text-anchor=\"start\" x=\"514.25\" y=\"-40.2\" font-family=\"Helvetica,sans-Serif\" font-size=\"14.00\">samples = 27</text>\n<text text-anchor=\"start\" x=\"509\" y=\"-23.7\" font-family=\"Helvetica,sans-Serif\" font-size=\"14.00\">value = [14, 13]</text>\n<text text-anchor=\"start\" x=\"506.75\" y=\"-7.2\" font-family=\"Helvetica,sans-Serif\" font-size=\"14.00\">class = Member</text>\n</g>\n<!-- 14&#45;&gt;15 -->\n<g id=\"edge15\" class=\"edge\">\n<title>14&#45;&gt;15</title>\n<path fill=\"none\" stroke=\"black\" d=\"M636.25,-109.64C626.23,-100.53 615.69,-90.96 605.69,-81.88\"/>\n<polygon fill=\"black\" stroke=\"black\" points=\"608.32,-79.54 598.57,-75.41 603.62,-84.73 608.32,-79.54\"/>\n</g>\n<!-- 16 -->\n<g id=\"node17\" class=\"node\">\n<title>16</title>\n<path fill=\"#9ccef2\" stroke=\"black\" d=\"M734.75,-74C734.75,-74 646,-74 646,-74 640,-74 634,-68 634,-62 634,-62 634,-12 634,-12 634,-6 640,0 646,0 646,0 734.75,0 734.75,0 740.75,0 746.75,-6 746.75,-12 746.75,-12 746.75,-62 746.75,-62 746.75,-68 740.75,-74 734.75,-74\"/>\n<text text-anchor=\"start\" x=\"653.25\" y=\"-56.7\" font-family=\"Helvetica,sans-Serif\" font-size=\"14.00\">gini = 0.444</text>\n<text text-anchor=\"start\" x=\"647.25\" y=\"-40.2\" font-family=\"Helvetica,sans-Serif\" font-size=\"14.00\">samples = 51</text>\n<text text-anchor=\"start\" x=\"642\" y=\"-23.7\" font-family=\"Helvetica,sans-Serif\" font-size=\"14.00\">value = [17, 34]</text>\n<text text-anchor=\"start\" x=\"643.5\" y=\"-7.2\" font-family=\"Helvetica,sans-Serif\" font-size=\"14.00\">class = Normal</text>\n</g>\n<!-- 14&#45;&gt;16 -->\n<g id=\"edge16\" class=\"edge\">\n<title>14&#45;&gt;16</title>\n<path fill=\"none\" stroke=\"black\" d=\"M687.29,-109.64C687.63,-101.81 687.98,-93.63 688.32,-85.72\"/>\n<polygon fill=\"black\" stroke=\"black\" points=\"691.81,-86.05 688.74,-75.91 684.82,-85.75 691.81,-86.05\"/>\n</g>\n<!-- 18 -->\n<g id=\"node19\" class=\"node\">\n<title>18</title>\n<path fill=\"#f5d0b5\" stroke=\"black\" d=\"M881,-74C881,-74 787.75,-74 787.75,-74 781.75,-74 775.75,-68 775.75,-62 775.75,-62 775.75,-12 775.75,-12 775.75,-6 781.75,0 787.75,0 787.75,0 881,0 881,0 887,0 893,-6 893,-12 893,-12 893,-62 893,-62 893,-68 887,-74 881,-74\"/>\n<text text-anchor=\"start\" x=\"797.25\" y=\"-56.7\" font-family=\"Helvetica,sans-Serif\" font-size=\"14.00\">gini = 0.473</text>\n<text text-anchor=\"start\" x=\"791.25\" y=\"-40.2\" font-family=\"Helvetica,sans-Serif\" font-size=\"14.00\">samples = 39</text>\n<text text-anchor=\"start\" x=\"786\" y=\"-23.7\" font-family=\"Helvetica,sans-Serif\" font-size=\"14.00\">value = [24, 15]</text>\n<text text-anchor=\"start\" x=\"783.75\" y=\"-7.2\" font-family=\"Helvetica,sans-Serif\" font-size=\"14.00\">class = Member</text>\n</g>\n<!-- 17&#45;&gt;18 -->\n<g id=\"edge18\" class=\"edge\">\n<title>17&#45;&gt;18</title>\n<path fill=\"none\" stroke=\"black\" d=\"M838.07,-109.64C837.67,-101.81 837.25,-93.63 836.84,-85.72\"/>\n<polygon fill=\"black\" stroke=\"black\" points=\"840.34,-85.71 836.33,-75.91 833.35,-86.07 840.34,-85.71\"/>\n</g>\n<!-- 19 -->\n<g id=\"node20\" class=\"node\">\n<title>19</title>\n<path fill=\"#f8fcfe\" stroke=\"black\" d=\"M1035.75,-74C1035.75,-74 923,-74 923,-74 917,-74 911,-68 911,-62 911,-62 911,-12 911,-12 911,-6 917,0 923,0 923,0 1035.75,0 1035.75,0 1041.75,0 1047.75,-6 1047.75,-12 1047.75,-12 1047.75,-62 1047.75,-62 1047.75,-68 1041.75,-74 1035.75,-74\"/>\n<text text-anchor=\"start\" x=\"950.5\" y=\"-56.7\" font-family=\"Helvetica,sans-Serif\" font-size=\"14.00\">gini = 0.5</text>\n<text text-anchor=\"start\" x=\"936.25\" y=\"-40.2\" font-family=\"Helvetica,sans-Serif\" font-size=\"14.00\">samples = 55</text>\n<text text-anchor=\"start\" x=\"919\" y=\"-23.7\" font-family=\"Helvetica,sans-Serif\" font-size=\"14.00\">value = [27.0, 28.0]</text>\n<text text-anchor=\"start\" x=\"932.5\" y=\"-7.2\" font-family=\"Helvetica,sans-Serif\" font-size=\"14.00\">class = Normal</text>\n</g>\n<!-- 17&#45;&gt;19 -->\n<g id=\"edge19\" class=\"edge\">\n<title>17&#45;&gt;19</title>\n<path fill=\"none\" stroke=\"black\" d=\"M893.72,-109.64C904.71,-100.44 916.28,-90.77 927.23,-81.61\"/>\n<polygon fill=\"black\" stroke=\"black\" points=\"929.27,-84.46 934.7,-75.36 924.78,-79.1 929.27,-84.46\"/>\n</g>\n<!-- 21 -->\n<g id=\"node22\" class=\"node\">\n<title>21</title>\n<path fill=\"#d3e9f9\" stroke=\"black\" d=\"M935.75,-453.5C935.75,-453.5 847,-453.5 847,-453.5 841,-453.5 835,-447.5 835,-441.5 835,-441.5 835,-375 835,-375 835,-369 841,-363 847,-363 847,-363 935.75,-363 935.75,-363 941.75,-363 947.75,-369 947.75,-375 947.75,-375 947.75,-441.5 947.75,-441.5 947.75,-447.5 941.75,-453.5 935.75,-453.5\"/>\n<text text-anchor=\"start\" x=\"849.75\" y=\"-436.2\" font-family=\"Helvetica,sans-Serif\" font-size=\"14.00\">Female ≤ 0.5</text>\n<text text-anchor=\"start\" x=\"854.25\" y=\"-419.7\" font-family=\"Helvetica,sans-Serif\" font-size=\"14.00\">gini = 0.492</text>\n<text text-anchor=\"start\" x=\"848.25\" y=\"-403.2\" font-family=\"Helvetica,sans-Serif\" font-size=\"14.00\">samples = 64</text>\n<text text-anchor=\"start\" x=\"843\" y=\"-386.7\" font-family=\"Helvetica,sans-Serif\" font-size=\"14.00\">value = [28, 36]</text>\n<text text-anchor=\"start\" x=\"844.5\" y=\"-370.2\" font-family=\"Helvetica,sans-Serif\" font-size=\"14.00\">class = Normal</text>\n</g>\n<!-- 20&#45;&gt;21 -->\n<g id=\"edge21\" class=\"edge\">\n<title>20&#45;&gt;21</title>\n<path fill=\"none\" stroke=\"black\" d=\"M891.38,-489.15C891.38,-481.47 891.38,-473.39 891.38,-465.44\"/>\n<polygon fill=\"black\" stroke=\"black\" points=\"894.88,-465.47 891.38,-455.47 887.88,-465.47 894.88,-465.47\"/>\n</g>\n<!-- 24 -->\n<g id=\"node25\" class=\"node\">\n<title>24</title>\n<path fill=\"#f5d0b6\" stroke=\"black\" d=\"M1168.88,-453.5C1168.88,-453.5 1071.88,-453.5 1071.88,-453.5 1065.88,-453.5 1059.88,-447.5 1059.88,-441.5 1059.88,-441.5 1059.88,-375 1059.88,-375 1059.88,-369 1065.88,-363 1071.88,-363 1071.88,-363 1168.88,-363 1168.88,-363 1174.88,-363 1180.88,-369 1180.88,-375 1180.88,-375 1180.88,-441.5 1180.88,-441.5 1180.88,-447.5 1174.88,-453.5 1168.88,-453.5\"/>\n<text text-anchor=\"start\" x=\"1077.25\" y=\"-436.2\" font-family=\"Helvetica,sans-Serif\" font-size=\"14.00\">Quantity ≤ 7.5</text>\n<text text-anchor=\"start\" x=\"1083.25\" y=\"-419.7\" font-family=\"Helvetica,sans-Serif\" font-size=\"14.00\">gini = 0.474</text>\n<text text-anchor=\"start\" x=\"1073.12\" y=\"-403.2\" font-family=\"Helvetica,sans-Serif\" font-size=\"14.00\">samples = 163</text>\n<text text-anchor=\"start\" x=\"1067.88\" y=\"-386.7\" font-family=\"Helvetica,sans-Serif\" font-size=\"14.00\">value = [100, 63]</text>\n<text text-anchor=\"start\" x=\"1069.75\" y=\"-370.2\" font-family=\"Helvetica,sans-Serif\" font-size=\"14.00\">class = Member</text>\n</g>\n<!-- 20&#45;&gt;24 -->\n<g id=\"edge24\" class=\"edge\">\n<title>20&#45;&gt;24</title>\n<path fill=\"none\" stroke=\"black\" d=\"M952.14,-500.71C982.15,-484.4 1018.53,-464.62 1049.77,-447.63\"/>\n<polygon fill=\"black\" stroke=\"black\" points=\"1051.28,-450.8 1058.39,-442.95 1047.94,-444.65 1051.28,-450.8\"/>\n</g>\n<!-- 22 -->\n<g id=\"node23\" class=\"node\">\n<title>22</title>\n<path fill=\"#e9f4fc\" stroke=\"black\" d=\"M870.75,-318.75C870.75,-318.75 782,-318.75 782,-318.75 776,-318.75 770,-312.75 770,-306.75 770,-306.75 770,-256.75 770,-256.75 770,-250.75 776,-244.75 782,-244.75 782,-244.75 870.75,-244.75 870.75,-244.75 876.75,-244.75 882.75,-250.75 882.75,-256.75 882.75,-256.75 882.75,-306.75 882.75,-306.75 882.75,-312.75 876.75,-318.75 870.75,-318.75\"/>\n<text text-anchor=\"start\" x=\"789.25\" y=\"-301.45\" font-family=\"Helvetica,sans-Serif\" font-size=\"14.00\">gini = 0.498</text>\n<text text-anchor=\"start\" x=\"783.25\" y=\"-284.95\" font-family=\"Helvetica,sans-Serif\" font-size=\"14.00\">samples = 34</text>\n<text text-anchor=\"start\" x=\"778\" y=\"-268.45\" font-family=\"Helvetica,sans-Serif\" font-size=\"14.00\">value = [16, 18]</text>\n<text text-anchor=\"start\" x=\"779.5\" y=\"-251.95\" font-family=\"Helvetica,sans-Serif\" font-size=\"14.00\">class = Normal</text>\n</g>\n<!-- 21&#45;&gt;22 -->\n<g id=\"edge22\" class=\"edge\">\n<title>21&#45;&gt;22</title>\n<path fill=\"none\" stroke=\"black\" d=\"M868.09,-362.65C862.35,-351.65 856.18,-339.84 850.4,-328.77\"/>\n<polygon fill=\"black\" stroke=\"black\" points=\"853.66,-327.44 845.93,-320.2 847.45,-330.68 853.66,-327.44\"/>\n</g>\n<!-- 23 -->\n<g id=\"node24\" class=\"node\">\n<title>23</title>\n<path fill=\"#bddef6\" stroke=\"black\" d=\"M1001.75,-318.75C1001.75,-318.75 913,-318.75 913,-318.75 907,-318.75 901,-312.75 901,-306.75 901,-306.75 901,-256.75 901,-256.75 901,-250.75 907,-244.75 913,-244.75 913,-244.75 1001.75,-244.75 1001.75,-244.75 1007.75,-244.75 1013.75,-250.75 1013.75,-256.75 1013.75,-256.75 1013.75,-306.75 1013.75,-306.75 1013.75,-312.75 1007.75,-318.75 1001.75,-318.75\"/>\n<text text-anchor=\"start\" x=\"924.38\" y=\"-301.45\" font-family=\"Helvetica,sans-Serif\" font-size=\"14.00\">gini = 0.48</text>\n<text text-anchor=\"start\" x=\"914.25\" y=\"-284.95\" font-family=\"Helvetica,sans-Serif\" font-size=\"14.00\">samples = 30</text>\n<text text-anchor=\"start\" x=\"909\" y=\"-268.45\" font-family=\"Helvetica,sans-Serif\" font-size=\"14.00\">value = [12, 18]</text>\n<text text-anchor=\"start\" x=\"910.5\" y=\"-251.95\" font-family=\"Helvetica,sans-Serif\" font-size=\"14.00\">class = Normal</text>\n</g>\n<!-- 21&#45;&gt;23 -->\n<g id=\"edge23\" class=\"edge\">\n<title>21&#45;&gt;23</title>\n<path fill=\"none\" stroke=\"black\" d=\"M915.02,-362.65C920.85,-351.65 927.11,-339.84 932.98,-328.77\"/>\n<polygon fill=\"black\" stroke=\"black\" points=\"935.93,-330.67 937.53,-320.19 929.75,-327.39 935.93,-330.67\"/>\n</g>\n<!-- 25 -->\n<g id=\"node26\" class=\"node\">\n<title>25</title>\n<path fill=\"#f9e2d1\" stroke=\"black\" d=\"M1176.75,-327C1176.75,-327 1064,-327 1064,-327 1058,-327 1052,-321 1052,-315 1052,-315 1052,-248.5 1052,-248.5 1052,-242.5 1058,-236.5 1064,-236.5 1064,-236.5 1176.75,-236.5 1176.75,-236.5 1182.75,-236.5 1188.75,-242.5 1188.75,-248.5 1188.75,-248.5 1188.75,-315 1188.75,-315 1188.75,-321 1182.75,-327 1176.75,-327\"/>\n<text text-anchor=\"start\" x=\"1078.75\" y=\"-309.7\" font-family=\"Helvetica,sans-Serif\" font-size=\"14.00\">Female ≤ 0.5</text>\n<text text-anchor=\"start\" x=\"1083.25\" y=\"-293.2\" font-family=\"Helvetica,sans-Serif\" font-size=\"14.00\">gini = 0.491</text>\n<text text-anchor=\"start\" x=\"1077.25\" y=\"-276.7\" font-family=\"Helvetica,sans-Serif\" font-size=\"14.00\">samples = 92</text>\n<text text-anchor=\"start\" x=\"1060\" y=\"-260.2\" font-family=\"Helvetica,sans-Serif\" font-size=\"14.00\">value = [52.0, 40.0]</text>\n<text text-anchor=\"start\" x=\"1069.75\" y=\"-243.7\" font-family=\"Helvetica,sans-Serif\" font-size=\"14.00\">class = Member</text>\n</g>\n<!-- 24&#45;&gt;25 -->\n<g id=\"edge25\" class=\"edge\">\n<title>24&#45;&gt;25</title>\n<path fill=\"none\" stroke=\"black\" d=\"M1120.38,-362.65C1120.38,-354.97 1120.38,-346.89 1120.38,-338.94\"/>\n<polygon fill=\"black\" stroke=\"black\" points=\"1123.88,-338.97 1120.38,-328.97 1116.88,-338.97 1123.88,-338.97\"/>\n</g>\n<!-- 28 -->\n<g id=\"node29\" class=\"node\">\n<title>28</title>\n<path fill=\"#f1bd98\" stroke=\"black\" d=\"M1322,-327C1322,-327 1228.75,-327 1228.75,-327 1222.75,-327 1216.75,-321 1216.75,-315 1216.75,-315 1216.75,-248.5 1216.75,-248.5 1216.75,-242.5 1222.75,-236.5 1228.75,-236.5 1228.75,-236.5 1322,-236.5 1322,-236.5 1328,-236.5 1334,-242.5 1334,-248.5 1334,-248.5 1334,-315 1334,-315 1334,-321 1328,-327 1322,-327\"/>\n<text text-anchor=\"start\" x=\"1232.25\" y=\"-309.7\" font-family=\"Helvetica,sans-Serif\" font-size=\"14.00\">Quantity ≤ 9.5</text>\n<text text-anchor=\"start\" x=\"1238.25\" y=\"-293.2\" font-family=\"Helvetica,sans-Serif\" font-size=\"14.00\">gini = 0.438</text>\n<text text-anchor=\"start\" x=\"1232.25\" y=\"-276.7\" font-family=\"Helvetica,sans-Serif\" font-size=\"14.00\">samples = 71</text>\n<text text-anchor=\"start\" x=\"1227\" y=\"-260.2\" font-family=\"Helvetica,sans-Serif\" font-size=\"14.00\">value = [48, 23]</text>\n<text text-anchor=\"start\" x=\"1224.75\" y=\"-243.7\" font-family=\"Helvetica,sans-Serif\" font-size=\"14.00\">class = Member</text>\n</g>\n<!-- 24&#45;&gt;28 -->\n<g id=\"edge28\" class=\"edge\">\n<title>24&#45;&gt;28</title>\n<path fill=\"none\" stroke=\"black\" d=\"M1175.9,-362.65C1187.25,-353.54 1199.29,-343.87 1210.92,-334.52\"/>\n<polygon fill=\"black\" stroke=\"black\" points=\"1212.94,-337.39 1218.54,-328.4 1208.55,-331.93 1212.94,-337.39\"/>\n</g>\n<!-- 26 -->\n<g id=\"node27\" class=\"node\">\n<title>26</title>\n<path fill=\"#fcefe5\" stroke=\"black\" d=\"M1051.75,-192.25C1051.75,-192.25 939,-192.25 939,-192.25 933,-192.25 927,-186.25 927,-180.25 927,-180.25 927,-130.25 927,-130.25 927,-124.25 933,-118.25 939,-118.25 939,-118.25 1051.75,-118.25 1051.75,-118.25 1057.75,-118.25 1063.75,-124.25 1063.75,-130.25 1063.75,-130.25 1063.75,-180.25 1063.75,-180.25 1063.75,-186.25 1057.75,-192.25 1051.75,-192.25\"/>\n<text text-anchor=\"start\" x=\"958.25\" y=\"-174.95\" font-family=\"Helvetica,sans-Serif\" font-size=\"14.00\">gini = 0.498</text>\n<text text-anchor=\"start\" x=\"952.25\" y=\"-158.45\" font-family=\"Helvetica,sans-Serif\" font-size=\"14.00\">samples = 43</text>\n<text text-anchor=\"start\" x=\"935\" y=\"-141.95\" font-family=\"Helvetica,sans-Serif\" font-size=\"14.00\">value = [23.0, 20.0]</text>\n<text text-anchor=\"start\" x=\"944.75\" y=\"-125.45\" font-family=\"Helvetica,sans-Serif\" font-size=\"14.00\">class = Member</text>\n</g>\n<!-- 25&#45;&gt;26 -->\n<g id=\"edge26\" class=\"edge\">\n<title>25&#45;&gt;26</title>\n<path fill=\"none\" stroke=\"black\" d=\"M1075.6,-236.15C1063.87,-224.48 1051.24,-211.89 1039.55,-200.25\"/>\n<polygon fill=\"black\" stroke=\"black\" points=\"1042.25,-198 1032.7,-193.42 1037.31,-202.96 1042.25,-198\"/>\n</g>\n<!-- 27 -->\n<g id=\"node28\" class=\"node\">\n<title>27</title>\n<path fill=\"#f7d8c2\" stroke=\"black\" d=\"M1187,-192.25C1187,-192.25 1093.75,-192.25 1093.75,-192.25 1087.75,-192.25 1081.75,-186.25 1081.75,-180.25 1081.75,-180.25 1081.75,-130.25 1081.75,-130.25 1081.75,-124.25 1087.75,-118.25 1093.75,-118.25 1093.75,-118.25 1187,-118.25 1187,-118.25 1193,-118.25 1199,-124.25 1199,-130.25 1199,-130.25 1199,-180.25 1199,-180.25 1199,-186.25 1193,-192.25 1187,-192.25\"/>\n<text text-anchor=\"start\" x=\"1103.25\" y=\"-174.95\" font-family=\"Helvetica,sans-Serif\" font-size=\"14.00\">gini = 0.483</text>\n<text text-anchor=\"start\" x=\"1097.25\" y=\"-158.45\" font-family=\"Helvetica,sans-Serif\" font-size=\"14.00\">samples = 49</text>\n<text text-anchor=\"start\" x=\"1092\" y=\"-141.95\" font-family=\"Helvetica,sans-Serif\" font-size=\"14.00\">value = [29, 20]</text>\n<text text-anchor=\"start\" x=\"1089.75\" y=\"-125.45\" font-family=\"Helvetica,sans-Serif\" font-size=\"14.00\">class = Member</text>\n</g>\n<!-- 25&#45;&gt;27 -->\n<g id=\"edge27\" class=\"edge\">\n<title>25&#45;&gt;27</title>\n<path fill=\"none\" stroke=\"black\" d=\"M1127.54,-236.15C1129.23,-225.6 1131.05,-214.31 1132.76,-203.63\"/>\n<polygon fill=\"black\" stroke=\"black\" points=\"1136.2,-204.28 1134.33,-193.85 1129.29,-203.17 1136.2,-204.28\"/>\n</g>\n<!-- 29 -->\n<g id=\"node30\" class=\"node\">\n<title>29</title>\n<path fill=\"#efb082\" stroke=\"black\" d=\"M1322,-192.25C1322,-192.25 1228.75,-192.25 1228.75,-192.25 1222.75,-192.25 1216.75,-186.25 1216.75,-180.25 1216.75,-180.25 1216.75,-130.25 1216.75,-130.25 1216.75,-124.25 1222.75,-118.25 1228.75,-118.25 1228.75,-118.25 1322,-118.25 1322,-118.25 1328,-118.25 1334,-124.25 1334,-130.25 1334,-130.25 1334,-180.25 1334,-180.25 1334,-186.25 1328,-192.25 1322,-192.25\"/>\n<text text-anchor=\"start\" x=\"1238.25\" y=\"-174.95\" font-family=\"Helvetica,sans-Serif\" font-size=\"14.00\">gini = 0.394</text>\n<text text-anchor=\"start\" x=\"1232.25\" y=\"-158.45\" font-family=\"Helvetica,sans-Serif\" font-size=\"14.00\">samples = 37</text>\n<text text-anchor=\"start\" x=\"1227\" y=\"-141.95\" font-family=\"Helvetica,sans-Serif\" font-size=\"14.00\">value = [27, 10]</text>\n<text text-anchor=\"start\" x=\"1224.75\" y=\"-125.45\" font-family=\"Helvetica,sans-Serif\" font-size=\"14.00\">class = Member</text>\n</g>\n<!-- 28&#45;&gt;29 -->\n<g id=\"edge29\" class=\"edge\">\n<title>28&#45;&gt;29</title>\n<path fill=\"none\" stroke=\"black\" d=\"M1275.38,-236.15C1275.38,-225.6 1275.38,-214.31 1275.38,-203.63\"/>\n<polygon fill=\"black\" stroke=\"black\" points=\"1278.88,-203.87 1275.38,-193.87 1271.88,-203.87 1278.88,-203.87\"/>\n</g>\n<!-- 30 -->\n<g id=\"node31\" class=\"node\">\n<title>30</title>\n<path fill=\"#f5cfb4\" stroke=\"black\" d=\"M1457,-192.25C1457,-192.25 1363.75,-192.25 1363.75,-192.25 1357.75,-192.25 1351.75,-186.25 1351.75,-180.25 1351.75,-180.25 1351.75,-130.25 1351.75,-130.25 1351.75,-124.25 1357.75,-118.25 1363.75,-118.25 1363.75,-118.25 1457,-118.25 1457,-118.25 1463,-118.25 1469,-124.25 1469,-130.25 1469,-130.25 1469,-180.25 1469,-180.25 1469,-186.25 1463,-192.25 1457,-192.25\"/>\n<text text-anchor=\"start\" x=\"1373.25\" y=\"-174.95\" font-family=\"Helvetica,sans-Serif\" font-size=\"14.00\">gini = 0.472</text>\n<text text-anchor=\"start\" x=\"1367.25\" y=\"-158.45\" font-family=\"Helvetica,sans-Serif\" font-size=\"14.00\">samples = 34</text>\n<text text-anchor=\"start\" x=\"1362\" y=\"-141.95\" font-family=\"Helvetica,sans-Serif\" font-size=\"14.00\">value = [21, 13]</text>\n<text text-anchor=\"start\" x=\"1359.75\" y=\"-125.45\" font-family=\"Helvetica,sans-Serif\" font-size=\"14.00\">class = Member</text>\n</g>\n<!-- 28&#45;&gt;30 -->\n<g id=\"edge30\" class=\"edge\">\n<title>28&#45;&gt;30</title>\n<path fill=\"none\" stroke=\"black\" d=\"M1323.73,-236.15C1336.52,-224.36 1350.3,-211.65 1363.03,-199.91\"/>\n<polygon fill=\"black\" stroke=\"black\" points=\"1365.13,-202.73 1370.11,-193.38 1360.39,-197.59 1365.13,-202.73\"/>\n</g>\n</g>\n</svg>\n",
      "text/plain": "<graphviz.sources.Source at 0x1d6c7ac0fd0>"
     },
     "execution_count": 59,
     "metadata": {},
     "output_type": "execute_result"
    }
   ],
   "source": [
    "# transform dot file to graph\n",
    "graph_best = graphviz.Source(dot_best)\n",
    "graph_best"
   ]
  },
  {
   "cell_type": "code",
   "execution_count": 60,
   "id": "3b22eb4b",
   "metadata": {
    "ExecuteTime": {
     "end_time": "2024-03-01T07:00:57.318208700Z",
     "start_time": "2024-03-01T07:00:56.203472700Z"
    }
   },
   "outputs": [
    {
     "data": {
      "text/plain": "'Best_DT.pdf'"
     },
     "execution_count": 60,
     "metadata": {},
     "output_type": "execute_result"
    }
   ],
   "source": [
    "graph_best.render(\"Best_DT\")"
   ]
  },
  {
   "cell_type": "code",
   "execution_count": 66,
   "id": "c4f59b8c-d97c-4dd3-bdb1-f2387adbe15e",
   "metadata": {},
   "outputs": [],
   "source": [
    "# y_pred_best = bestClassTree.predict(X_test)"
   ]
  },
  {
   "cell_type": "code",
   "execution_count": 67,
   "id": "7a972c00-02a9-41ea-95aa-954f68a6cb4b",
   "metadata": {},
   "outputs": [],
   "source": [
    "# accuracy_score(y_test, y_pred_best, normalize=True)"
   ]
  },
  {
   "cell_type": "code",
   "execution_count": null,
   "id": "2b97ccef-6aef-4cb2-896e-cda47b163473",
   "metadata": {},
   "outputs": [],
   "source": []
  }
 ],
 "metadata": {
  "kernelspec": {
   "display_name": "Python 3 (ipykernel)",
   "language": "python",
   "name": "python3"
  },
  "language_info": {
   "codemirror_mode": {
    "name": "ipython",
    "version": 3
   },
   "file_extension": ".py",
   "mimetype": "text/x-python",
   "name": "python",
   "nbconvert_exporter": "python",
   "pygments_lexer": "ipython3",
   "version": "3.9.10"
  }
 },
 "nbformat": 4,
 "nbformat_minor": 5
}
