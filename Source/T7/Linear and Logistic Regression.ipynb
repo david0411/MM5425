{
 "cells": [
  {
   "cell_type": "markdown",
   "id": "d77c37c2",
   "metadata": {},
   "source": [
    "# Predict Ratings of Movies\n",
    "\n",
    "- Original data: https://www.kaggle.com/danielgrijalvas/movies"
   ]
  },
  {
   "cell_type": "markdown",
   "id": "dc6b7d14",
   "metadata": {},
   "source": [
    "There are 15 attributes for each movie in the dataset.:\n",
    "- budget: the budget of a movie. Some movies don't have this, so it appears as 0\n",
    "\n",
    "- company: the production company\n",
    "\n",
    "- country: country of origin\n",
    "\n",
    "- director: the director\n",
    "\n",
    "- genre: main genre of the movie.\n",
    "\n",
    "- gross: revenue of the movie\n",
    "\n",
    "- name: name of the movie\n",
    "\n",
    "- rating: rating of the movie (R, PG, etc.)\n",
    "\n",
    "- released: release date (YYYY-MM-DD)\n",
    "\n",
    "- runtime: duration of the movie\n",
    "\n",
    "- score: IMDb user rating\n",
    "\n",
    "- votes: number of user votes\n",
    "\n",
    "- star: main actor/actress\n",
    "\n",
    "- writer: writer of the movie\n",
    "\n",
    "- year: year of release"
   ]
  },
  {
   "cell_type": "code",
   "execution_count": 2,
   "id": "eb4d6f2d",
   "metadata": {
    "ExecuteTime": {
     "end_time": "2024-03-08T06:37:36.940080Z",
     "start_time": "2024-03-08T06:37:36.915909Z"
    }
   },
   "outputs": [],
   "source": [
    "# import libraries used\n",
    "import numpy as np\n",
    "import pandas as pd"
   ]
  },
  {
   "cell_type": "code",
   "execution_count": 3,
   "id": "738919cd",
   "metadata": {
    "scrolled": true,
    "ExecuteTime": {
     "end_time": "2024-03-08T06:37:53.372980Z",
     "start_time": "2024-03-08T06:37:53.219106Z"
    }
   },
   "outputs": [
    {
     "data": {
      "text/plain": "                                             name rating      genre  year  \\\n0                                     The Shining      R      Drama  1980   \n1                                 The Blue Lagoon      R  Adventure  1980   \n2  Star Wars: Episode V - The Empire Strikes Back     PG     Action  1980   \n3                                       Airplane!     PG     Comedy  1980   \n4                                      Caddyshack      R     Comedy  1980   \n\n                        released  score      votes         director  \\\n0  June 13, 1980 (United States)    8.4   927000.0  Stanley Kubrick   \n1   July 2, 1980 (United States)    5.8    65000.0   Randal Kleiser   \n2  June 20, 1980 (United States)    8.7  1200000.0   Irvin Kershner   \n3   July 2, 1980 (United States)    7.7   221000.0     Jim Abrahams   \n4  July 25, 1980 (United States)    7.3   108000.0     Harold Ramis   \n\n                    writer            star         country      budget  \\\n0             Stephen King  Jack Nicholson  United Kingdom  19000000.0   \n1  Henry De Vere Stacpoole  Brooke Shields   United States   4500000.0   \n2           Leigh Brackett     Mark Hamill   United States  18000000.0   \n3             Jim Abrahams     Robert Hays   United States   3500000.0   \n4       Brian Doyle-Murray     Chevy Chase   United States   6000000.0   \n\n         gross             company  runtime  \n0   46998772.0        Warner Bros.    146.0  \n1   58853106.0   Columbia Pictures    104.0  \n2  538375067.0           Lucasfilm    124.0  \n3   83453539.0  Paramount Pictures     88.0  \n4   39846344.0      Orion Pictures     98.0  ",
      "text/html": "<div>\n<style scoped>\n    .dataframe tbody tr th:only-of-type {\n        vertical-align: middle;\n    }\n\n    .dataframe tbody tr th {\n        vertical-align: top;\n    }\n\n    .dataframe thead th {\n        text-align: right;\n    }\n</style>\n<table border=\"1\" class=\"dataframe\">\n  <thead>\n    <tr style=\"text-align: right;\">\n      <th></th>\n      <th>name</th>\n      <th>rating</th>\n      <th>genre</th>\n      <th>year</th>\n      <th>released</th>\n      <th>score</th>\n      <th>votes</th>\n      <th>director</th>\n      <th>writer</th>\n      <th>star</th>\n      <th>country</th>\n      <th>budget</th>\n      <th>gross</th>\n      <th>company</th>\n      <th>runtime</th>\n    </tr>\n  </thead>\n  <tbody>\n    <tr>\n      <th>0</th>\n      <td>The Shining</td>\n      <td>R</td>\n      <td>Drama</td>\n      <td>1980</td>\n      <td>June 13, 1980 (United States)</td>\n      <td>8.4</td>\n      <td>927000.0</td>\n      <td>Stanley Kubrick</td>\n      <td>Stephen King</td>\n      <td>Jack Nicholson</td>\n      <td>United Kingdom</td>\n      <td>19000000.0</td>\n      <td>46998772.0</td>\n      <td>Warner Bros.</td>\n      <td>146.0</td>\n    </tr>\n    <tr>\n      <th>1</th>\n      <td>The Blue Lagoon</td>\n      <td>R</td>\n      <td>Adventure</td>\n      <td>1980</td>\n      <td>July 2, 1980 (United States)</td>\n      <td>5.8</td>\n      <td>65000.0</td>\n      <td>Randal Kleiser</td>\n      <td>Henry De Vere Stacpoole</td>\n      <td>Brooke Shields</td>\n      <td>United States</td>\n      <td>4500000.0</td>\n      <td>58853106.0</td>\n      <td>Columbia Pictures</td>\n      <td>104.0</td>\n    </tr>\n    <tr>\n      <th>2</th>\n      <td>Star Wars: Episode V - The Empire Strikes Back</td>\n      <td>PG</td>\n      <td>Action</td>\n      <td>1980</td>\n      <td>June 20, 1980 (United States)</td>\n      <td>8.7</td>\n      <td>1200000.0</td>\n      <td>Irvin Kershner</td>\n      <td>Leigh Brackett</td>\n      <td>Mark Hamill</td>\n      <td>United States</td>\n      <td>18000000.0</td>\n      <td>538375067.0</td>\n      <td>Lucasfilm</td>\n      <td>124.0</td>\n    </tr>\n    <tr>\n      <th>3</th>\n      <td>Airplane!</td>\n      <td>PG</td>\n      <td>Comedy</td>\n      <td>1980</td>\n      <td>July 2, 1980 (United States)</td>\n      <td>7.7</td>\n      <td>221000.0</td>\n      <td>Jim Abrahams</td>\n      <td>Jim Abrahams</td>\n      <td>Robert Hays</td>\n      <td>United States</td>\n      <td>3500000.0</td>\n      <td>83453539.0</td>\n      <td>Paramount Pictures</td>\n      <td>88.0</td>\n    </tr>\n    <tr>\n      <th>4</th>\n      <td>Caddyshack</td>\n      <td>R</td>\n      <td>Comedy</td>\n      <td>1980</td>\n      <td>July 25, 1980 (United States)</td>\n      <td>7.3</td>\n      <td>108000.0</td>\n      <td>Harold Ramis</td>\n      <td>Brian Doyle-Murray</td>\n      <td>Chevy Chase</td>\n      <td>United States</td>\n      <td>6000000.0</td>\n      <td>39846344.0</td>\n      <td>Orion Pictures</td>\n      <td>98.0</td>\n    </tr>\n  </tbody>\n</table>\n</div>"
     },
     "execution_count": 3,
     "metadata": {},
     "output_type": "execute_result"
    }
   ],
   "source": [
    "# load movie dataset\n",
    "movie = pd.read_csv('movies.csv')\n",
    "movie.head()"
   ]
  },
  {
   "cell_type": "code",
   "execution_count": 4,
   "id": "ef965782",
   "metadata": {
    "ExecuteTime": {
     "end_time": "2024-03-08T06:37:55.786385Z",
     "start_time": "2024-03-08T06:37:55.771375Z"
    }
   },
   "outputs": [
    {
     "data": {
      "text/plain": "(7668, 15)"
     },
     "execution_count": 4,
     "metadata": {},
     "output_type": "execute_result"
    }
   ],
   "source": [
    "movie.shape"
   ]
  },
  {
   "cell_type": "code",
   "execution_count": 5,
   "id": "e758c813",
   "metadata": {
    "ExecuteTime": {
     "end_time": "2024-03-08T06:37:57.894396Z",
     "start_time": "2024-03-08T06:37:57.848234Z"
    }
   },
   "outputs": [
    {
     "name": "stdout",
     "output_type": "stream",
     "text": [
      "<class 'pandas.core.frame.DataFrame'>\n",
      "RangeIndex: 7668 entries, 0 to 7667\n",
      "Data columns (total 15 columns):\n",
      " #   Column    Non-Null Count  Dtype  \n",
      "---  ------    --------------  -----  \n",
      " 0   name      7668 non-null   object \n",
      " 1   rating    7591 non-null   object \n",
      " 2   genre     7668 non-null   object \n",
      " 3   year      7668 non-null   int64  \n",
      " 4   released  7666 non-null   object \n",
      " 5   score     7665 non-null   float64\n",
      " 6   votes     7665 non-null   float64\n",
      " 7   director  7668 non-null   object \n",
      " 8   writer    7665 non-null   object \n",
      " 9   star      7667 non-null   object \n",
      " 10  country   7665 non-null   object \n",
      " 11  budget    5497 non-null   float64\n",
      " 12  gross     7479 non-null   float64\n",
      " 13  company   7651 non-null   object \n",
      " 14  runtime   7664 non-null   float64\n",
      "dtypes: float64(5), int64(1), object(9)\n",
      "memory usage: 898.7+ KB\n"
     ]
    }
   ],
   "source": [
    "movie.info()"
   ]
  },
  {
   "cell_type": "markdown",
   "id": "0a56d329",
   "metadata": {},
   "source": [
    "## Data Pre-processing"
   ]
  },
  {
   "cell_type": "code",
   "execution_count": 6,
   "id": "f0a90d73",
   "metadata": {
    "ExecuteTime": {
     "end_time": "2024-03-08T06:38:03.765011Z",
     "start_time": "2024-03-08T06:38:03.745917Z"
    }
   },
   "outputs": [],
   "source": [
    "# fill all the missing numeric values with fillna()\n",
    "movie.fillna(movie.mean(numeric_only=True), inplace=True)"
   ]
  },
  {
   "cell_type": "code",
   "execution_count": 7,
   "id": "20577ee2",
   "metadata": {
    "ExecuteTime": {
     "end_time": "2024-03-08T06:38:06.123431Z",
     "start_time": "2024-03-08T06:38:06.086391Z"
    }
   },
   "outputs": [
    {
     "name": "stdout",
     "output_type": "stream",
     "text": [
      "<class 'pandas.core.frame.DataFrame'>\n",
      "RangeIndex: 7668 entries, 0 to 7667\n",
      "Data columns (total 15 columns):\n",
      " #   Column    Non-Null Count  Dtype  \n",
      "---  ------    --------------  -----  \n",
      " 0   name      7668 non-null   object \n",
      " 1   rating    7591 non-null   object \n",
      " 2   genre     7668 non-null   object \n",
      " 3   year      7668 non-null   int64  \n",
      " 4   released  7666 non-null   object \n",
      " 5   score     7668 non-null   float64\n",
      " 6   votes     7668 non-null   float64\n",
      " 7   director  7668 non-null   object \n",
      " 8   writer    7665 non-null   object \n",
      " 9   star      7667 non-null   object \n",
      " 10  country   7665 non-null   object \n",
      " 11  budget    7668 non-null   float64\n",
      " 12  gross     7668 non-null   float64\n",
      " 13  company   7651 non-null   object \n",
      " 14  runtime   7668 non-null   float64\n",
      "dtypes: float64(5), int64(1), object(9)\n",
      "memory usage: 898.7+ KB\n"
     ]
    }
   ],
   "source": [
    "movie.info()"
   ]
  },
  {
   "cell_type": "code",
   "execution_count": 8,
   "id": "dcc611e6",
   "metadata": {
    "ExecuteTime": {
     "end_time": "2024-03-08T06:38:09.166170Z",
     "start_time": "2024-03-08T06:38:09.145806Z"
    }
   },
   "outputs": [
    {
     "data": {
      "text/plain": "genre\nComedy       2245\nAction       1705\nDrama        1518\nCrime         551\nBiography     443\nAdventure     427\nAnimation     338\nHorror        322\nFantasy        44\nMystery        20\nThriller       16\nFamily         11\nSci-Fi         10\nRomance        10\nWestern         3\nMusical         2\nMusic           1\nHistory         1\nSport           1\nName: count, dtype: int64"
     },
     "execution_count": 8,
     "metadata": {},
     "output_type": "execute_result"
    }
   ],
   "source": [
    "movie.genre.value_counts()"
   ]
  },
  {
   "cell_type": "code",
   "execution_count": 9,
   "id": "163c572b",
   "metadata": {
    "ExecuteTime": {
     "end_time": "2024-03-08T06:38:13.965964Z",
     "start_time": "2024-03-08T06:38:13.923956Z"
    }
   },
   "outputs": [
    {
     "data": {
      "text/plain": "array(['Drama', 'Adventure', 'Action', 'Comedy', 'Horror', 'Biography',\n       'Crime', 'Fantasy', 'Family', 'Sci-Fi', 'Animation', 'Romance',\n       'Music', 'Western', 'Thriller', 'History', 'Mystery', 'Sport',\n       'Musical'], dtype=object)"
     },
     "execution_count": 9,
     "metadata": {},
     "output_type": "execute_result"
    }
   ],
   "source": [
    "movie.genre.unique()"
   ]
  },
  {
   "cell_type": "code",
   "execution_count": 10,
   "id": "50dc2555",
   "metadata": {
    "ExecuteTime": {
     "end_time": "2024-03-08T06:38:16.614180Z",
     "start_time": "2024-03-08T06:38:16.541735Z"
    }
   },
   "outputs": [],
   "source": [
    "genre_new = pd.get_dummies(movie['genre'])\n",
    "movienew = pd.concat([movie, genre_new], axis=1)"
   ]
  },
  {
   "cell_type": "code",
   "execution_count": 11,
   "id": "b843c2cb",
   "metadata": {
    "ExecuteTime": {
     "end_time": "2024-03-08T06:38:18.285358Z",
     "start_time": "2024-03-08T06:38:18.241056Z"
    }
   },
   "outputs": [
    {
     "data": {
      "text/plain": "                                             name rating      genre  year  \\\n0                                     The Shining      R      Drama  1980   \n1                                 The Blue Lagoon      R  Adventure  1980   \n2  Star Wars: Episode V - The Empire Strikes Back     PG     Action  1980   \n3                                       Airplane!     PG     Comedy  1980   \n4                                      Caddyshack      R     Comedy  1980   \n\n                        released  score      votes         director  \\\n0  June 13, 1980 (United States)    8.4   927000.0  Stanley Kubrick   \n1   July 2, 1980 (United States)    5.8    65000.0   Randal Kleiser   \n2  June 20, 1980 (United States)    8.7  1200000.0   Irvin Kershner   \n3   July 2, 1980 (United States)    7.7   221000.0     Jim Abrahams   \n4  July 25, 1980 (United States)    7.3   108000.0     Harold Ramis   \n\n                    writer            star  ... History  Horror  Music  \\\n0             Stephen King  Jack Nicholson  ...   False   False  False   \n1  Henry De Vere Stacpoole  Brooke Shields  ...   False   False  False   \n2           Leigh Brackett     Mark Hamill  ...   False   False  False   \n3             Jim Abrahams     Robert Hays  ...   False   False  False   \n4       Brian Doyle-Murray     Chevy Chase  ...   False   False  False   \n\n  Musical  Mystery  Romance  Sci-Fi  Sport  Thriller  Western  \n0   False    False    False   False  False     False    False  \n1   False    False    False   False  False     False    False  \n2   False    False    False   False  False     False    False  \n3   False    False    False   False  False     False    False  \n4   False    False    False   False  False     False    False  \n\n[5 rows x 34 columns]",
      "text/html": "<div>\n<style scoped>\n    .dataframe tbody tr th:only-of-type {\n        vertical-align: middle;\n    }\n\n    .dataframe tbody tr th {\n        vertical-align: top;\n    }\n\n    .dataframe thead th {\n        text-align: right;\n    }\n</style>\n<table border=\"1\" class=\"dataframe\">\n  <thead>\n    <tr style=\"text-align: right;\">\n      <th></th>\n      <th>name</th>\n      <th>rating</th>\n      <th>genre</th>\n      <th>year</th>\n      <th>released</th>\n      <th>score</th>\n      <th>votes</th>\n      <th>director</th>\n      <th>writer</th>\n      <th>star</th>\n      <th>...</th>\n      <th>History</th>\n      <th>Horror</th>\n      <th>Music</th>\n      <th>Musical</th>\n      <th>Mystery</th>\n      <th>Romance</th>\n      <th>Sci-Fi</th>\n      <th>Sport</th>\n      <th>Thriller</th>\n      <th>Western</th>\n    </tr>\n  </thead>\n  <tbody>\n    <tr>\n      <th>0</th>\n      <td>The Shining</td>\n      <td>R</td>\n      <td>Drama</td>\n      <td>1980</td>\n      <td>June 13, 1980 (United States)</td>\n      <td>8.4</td>\n      <td>927000.0</td>\n      <td>Stanley Kubrick</td>\n      <td>Stephen King</td>\n      <td>Jack Nicholson</td>\n      <td>...</td>\n      <td>False</td>\n      <td>False</td>\n      <td>False</td>\n      <td>False</td>\n      <td>False</td>\n      <td>False</td>\n      <td>False</td>\n      <td>False</td>\n      <td>False</td>\n      <td>False</td>\n    </tr>\n    <tr>\n      <th>1</th>\n      <td>The Blue Lagoon</td>\n      <td>R</td>\n      <td>Adventure</td>\n      <td>1980</td>\n      <td>July 2, 1980 (United States)</td>\n      <td>5.8</td>\n      <td>65000.0</td>\n      <td>Randal Kleiser</td>\n      <td>Henry De Vere Stacpoole</td>\n      <td>Brooke Shields</td>\n      <td>...</td>\n      <td>False</td>\n      <td>False</td>\n      <td>False</td>\n      <td>False</td>\n      <td>False</td>\n      <td>False</td>\n      <td>False</td>\n      <td>False</td>\n      <td>False</td>\n      <td>False</td>\n    </tr>\n    <tr>\n      <th>2</th>\n      <td>Star Wars: Episode V - The Empire Strikes Back</td>\n      <td>PG</td>\n      <td>Action</td>\n      <td>1980</td>\n      <td>June 20, 1980 (United States)</td>\n      <td>8.7</td>\n      <td>1200000.0</td>\n      <td>Irvin Kershner</td>\n      <td>Leigh Brackett</td>\n      <td>Mark Hamill</td>\n      <td>...</td>\n      <td>False</td>\n      <td>False</td>\n      <td>False</td>\n      <td>False</td>\n      <td>False</td>\n      <td>False</td>\n      <td>False</td>\n      <td>False</td>\n      <td>False</td>\n      <td>False</td>\n    </tr>\n    <tr>\n      <th>3</th>\n      <td>Airplane!</td>\n      <td>PG</td>\n      <td>Comedy</td>\n      <td>1980</td>\n      <td>July 2, 1980 (United States)</td>\n      <td>7.7</td>\n      <td>221000.0</td>\n      <td>Jim Abrahams</td>\n      <td>Jim Abrahams</td>\n      <td>Robert Hays</td>\n      <td>...</td>\n      <td>False</td>\n      <td>False</td>\n      <td>False</td>\n      <td>False</td>\n      <td>False</td>\n      <td>False</td>\n      <td>False</td>\n      <td>False</td>\n      <td>False</td>\n      <td>False</td>\n    </tr>\n    <tr>\n      <th>4</th>\n      <td>Caddyshack</td>\n      <td>R</td>\n      <td>Comedy</td>\n      <td>1980</td>\n      <td>July 25, 1980 (United States)</td>\n      <td>7.3</td>\n      <td>108000.0</td>\n      <td>Harold Ramis</td>\n      <td>Brian Doyle-Murray</td>\n      <td>Chevy Chase</td>\n      <td>...</td>\n      <td>False</td>\n      <td>False</td>\n      <td>False</td>\n      <td>False</td>\n      <td>False</td>\n      <td>False</td>\n      <td>False</td>\n      <td>False</td>\n      <td>False</td>\n      <td>False</td>\n    </tr>\n  </tbody>\n</table>\n<p>5 rows × 34 columns</p>\n</div>"
     },
     "execution_count": 11,
     "metadata": {},
     "output_type": "execute_result"
    }
   ],
   "source": [
    "movienew.head()"
   ]
  },
  {
   "cell_type": "markdown",
   "id": "6bef5441",
   "metadata": {},
   "source": [
    "# Linear Regression"
   ]
  },
  {
   "cell_type": "code",
   "execution_count": 12,
   "id": "1f2992f2",
   "metadata": {
    "ExecuteTime": {
     "end_time": "2024-03-08T06:38:27.861223Z",
     "start_time": "2024-03-08T06:38:27.833634Z"
    }
   },
   "outputs": [],
   "source": [
    "# specify the independent variables X and target variable y\n",
    "numeric_X = movienew[['votes','budget','runtime']]\n",
    "category_X = movienew[['Comedy', 'Action', 'Drama', 'Crime', 'Biography', 'Adventure',\n",
    "       'Animation', 'Horror', 'Fantasy', 'Mystery', 'Thriller', 'Family',\n",
    "       'Sci-Fi', 'Romance', 'Western','Musical','Music','History']]\n",
    "y = movienew['score']"
   ]
  },
  {
   "cell_type": "code",
   "execution_count": 13,
   "id": "4b62a48d",
   "metadata": {
    "ExecuteTime": {
     "end_time": "2024-03-08T06:38:29.214090Z",
     "start_time": "2024-03-08T06:38:29.182899Z"
    }
   },
   "outputs": [
    {
     "data": {
      "text/plain": "count    7668.000000\nmean        6.390411\nstd         0.968652\nmin         1.900000\n25%         5.800000\n50%         6.500000\n75%         7.100000\nmax         9.300000\nName: score, dtype: float64"
     },
     "execution_count": 13,
     "metadata": {},
     "output_type": "execute_result"
    }
   ],
   "source": [
    "y.describe()"
   ]
  },
  {
   "cell_type": "code",
   "execution_count": 14,
   "id": "59cc4637",
   "metadata": {
    "ExecuteTime": {
     "end_time": "2024-03-08T06:38:37.448373Z",
     "start_time": "2024-03-08T06:38:37.391444Z"
    }
   },
   "outputs": [
    {
     "data": {
      "text/plain": "              votes        budget      runtime\ncount  7.668000e+03  7.668000e+03  7668.000000\nmean   8.810850e+04  3.558988e+07   107.261613\nstd    1.632918e+05  3.510036e+07    18.576400\nmin    7.000000e+00  3.000000e+03    55.000000\n25%    9.100000e+03  1.400000e+07    95.000000\n50%    3.300000e+04  3.558988e+07   104.000000\n75%    9.300000e+04  3.558988e+07   116.000000\nmax    2.400000e+06  3.560000e+08   366.000000",
      "text/html": "<div>\n<style scoped>\n    .dataframe tbody tr th:only-of-type {\n        vertical-align: middle;\n    }\n\n    .dataframe tbody tr th {\n        vertical-align: top;\n    }\n\n    .dataframe thead th {\n        text-align: right;\n    }\n</style>\n<table border=\"1\" class=\"dataframe\">\n  <thead>\n    <tr style=\"text-align: right;\">\n      <th></th>\n      <th>votes</th>\n      <th>budget</th>\n      <th>runtime</th>\n    </tr>\n  </thead>\n  <tbody>\n    <tr>\n      <th>count</th>\n      <td>7.668000e+03</td>\n      <td>7.668000e+03</td>\n      <td>7668.000000</td>\n    </tr>\n    <tr>\n      <th>mean</th>\n      <td>8.810850e+04</td>\n      <td>3.558988e+07</td>\n      <td>107.261613</td>\n    </tr>\n    <tr>\n      <th>std</th>\n      <td>1.632918e+05</td>\n      <td>3.510036e+07</td>\n      <td>18.576400</td>\n    </tr>\n    <tr>\n      <th>min</th>\n      <td>7.000000e+00</td>\n      <td>3.000000e+03</td>\n      <td>55.000000</td>\n    </tr>\n    <tr>\n      <th>25%</th>\n      <td>9.100000e+03</td>\n      <td>1.400000e+07</td>\n      <td>95.000000</td>\n    </tr>\n    <tr>\n      <th>50%</th>\n      <td>3.300000e+04</td>\n      <td>3.558988e+07</td>\n      <td>104.000000</td>\n    </tr>\n    <tr>\n      <th>75%</th>\n      <td>9.300000e+04</td>\n      <td>3.558988e+07</td>\n      <td>116.000000</td>\n    </tr>\n    <tr>\n      <th>max</th>\n      <td>2.400000e+06</td>\n      <td>3.560000e+08</td>\n      <td>366.000000</td>\n    </tr>\n  </tbody>\n</table>\n</div>"
     },
     "execution_count": 14,
     "metadata": {},
     "output_type": "execute_result"
    }
   ],
   "source": [
    "numeric_X.describe()"
   ]
  },
  {
   "cell_type": "code",
   "execution_count": 15,
   "id": "82f9646f",
   "metadata": {
    "ExecuteTime": {
     "end_time": "2024-03-08T06:38:41.492845Z",
     "start_time": "2024-03-08T06:38:39.086108Z"
    }
   },
   "outputs": [],
   "source": [
    "# apply normalization on all numeric attributes: (X-mean)/Std\n",
    "from sklearn import preprocessing\n",
    "scaler = preprocessing.StandardScaler()\n",
    "numeric_X = pd.DataFrame(scaler.fit_transform(numeric_X), columns = numeric_X.columns)"
   ]
  },
  {
   "cell_type": "code",
   "execution_count": 16,
   "id": "50355a7d",
   "metadata": {
    "ExecuteTime": {
     "end_time": "2024-03-08T06:38:41.742033Z",
     "start_time": "2024-03-08T06:38:41.693566Z"
    }
   },
   "outputs": [
    {
     "data": {
      "text/plain": "              votes        budget       runtime\ncount  7.668000e+03  7.668000e+03  7.668000e+03\nmean   5.930456e-17  7.413070e-17  7.413070e-18\nstd    1.000065e+00  1.000065e+00  1.000065e+00\nmin   -5.395693e-01 -1.013927e+00 -2.813517e+00\n25%   -4.838801e-01 -6.151299e-01 -6.601070e-01\n50%   -3.375068e-01  0.000000e+00 -1.755898e-01\n75%    2.995750e-02  0.000000e+00  4.704333e-01\nmax    1.415896e+01  9.128994e+00  1.392925e+01",
      "text/html": "<div>\n<style scoped>\n    .dataframe tbody tr th:only-of-type {\n        vertical-align: middle;\n    }\n\n    .dataframe tbody tr th {\n        vertical-align: top;\n    }\n\n    .dataframe thead th {\n        text-align: right;\n    }\n</style>\n<table border=\"1\" class=\"dataframe\">\n  <thead>\n    <tr style=\"text-align: right;\">\n      <th></th>\n      <th>votes</th>\n      <th>budget</th>\n      <th>runtime</th>\n    </tr>\n  </thead>\n  <tbody>\n    <tr>\n      <th>count</th>\n      <td>7.668000e+03</td>\n      <td>7.668000e+03</td>\n      <td>7.668000e+03</td>\n    </tr>\n    <tr>\n      <th>mean</th>\n      <td>5.930456e-17</td>\n      <td>7.413070e-17</td>\n      <td>7.413070e-18</td>\n    </tr>\n    <tr>\n      <th>std</th>\n      <td>1.000065e+00</td>\n      <td>1.000065e+00</td>\n      <td>1.000065e+00</td>\n    </tr>\n    <tr>\n      <th>min</th>\n      <td>-5.395693e-01</td>\n      <td>-1.013927e+00</td>\n      <td>-2.813517e+00</td>\n    </tr>\n    <tr>\n      <th>25%</th>\n      <td>-4.838801e-01</td>\n      <td>-6.151299e-01</td>\n      <td>-6.601070e-01</td>\n    </tr>\n    <tr>\n      <th>50%</th>\n      <td>-3.375068e-01</td>\n      <td>0.000000e+00</td>\n      <td>-1.755898e-01</td>\n    </tr>\n    <tr>\n      <th>75%</th>\n      <td>2.995750e-02</td>\n      <td>0.000000e+00</td>\n      <td>4.704333e-01</td>\n    </tr>\n    <tr>\n      <th>max</th>\n      <td>1.415896e+01</td>\n      <td>9.128994e+00</td>\n      <td>1.392925e+01</td>\n    </tr>\n  </tbody>\n</table>\n</div>"
     },
     "execution_count": 16,
     "metadata": {},
     "output_type": "execute_result"
    }
   ],
   "source": [
    "numeric_X.describe()"
   ]
  },
  {
   "cell_type": "code",
   "execution_count": 17,
   "id": "8202533c",
   "metadata": {
    "ExecuteTime": {
     "end_time": "2024-03-08T06:38:46.111271Z",
     "start_time": "2024-03-08T06:38:46.094805Z"
    }
   },
   "outputs": [],
   "source": [
    "Xnew = pd.concat([numeric_X, category_X], axis=1)"
   ]
  },
  {
   "cell_type": "code",
   "execution_count": 18,
   "id": "d91a7154",
   "metadata": {
    "ExecuteTime": {
     "end_time": "2024-03-08T06:38:53.071828Z",
     "start_time": "2024-03-08T06:38:53.025409Z"
    }
   },
   "outputs": [
    {
     "data": {
      "text/plain": "      votes    budget   runtime  Comedy  Action  Drama  Crime  Biography  \\\n0  5.137712 -0.472672  2.085491   False   False   True  False      False   \n1 -0.141526 -0.885800 -0.175590   False   False  False  False      False   \n2  6.809674 -0.501164  0.901115   False    True  False  False      False   \n3  0.813881 -0.914292 -1.036954    True   False  False  False      False   \n4  0.121824 -0.843063 -0.498601    True   False  False  False      False   \n\n   Adventure  Animation  ...  Fantasy  Mystery  Thriller  Family  Sci-Fi  \\\n0      False      False  ...    False    False     False   False   False   \n1       True      False  ...    False    False     False   False   False   \n2      False      False  ...    False    False     False   False   False   \n3      False      False  ...    False    False     False   False   False   \n4      False      False  ...    False    False     False   False   False   \n\n   Romance  Western  Musical  Music  History  \n0    False    False    False  False    False  \n1    False    False    False  False    False  \n2    False    False    False  False    False  \n3    False    False    False  False    False  \n4    False    False    False  False    False  \n\n[5 rows x 21 columns]",
      "text/html": "<div>\n<style scoped>\n    .dataframe tbody tr th:only-of-type {\n        vertical-align: middle;\n    }\n\n    .dataframe tbody tr th {\n        vertical-align: top;\n    }\n\n    .dataframe thead th {\n        text-align: right;\n    }\n</style>\n<table border=\"1\" class=\"dataframe\">\n  <thead>\n    <tr style=\"text-align: right;\">\n      <th></th>\n      <th>votes</th>\n      <th>budget</th>\n      <th>runtime</th>\n      <th>Comedy</th>\n      <th>Action</th>\n      <th>Drama</th>\n      <th>Crime</th>\n      <th>Biography</th>\n      <th>Adventure</th>\n      <th>Animation</th>\n      <th>...</th>\n      <th>Fantasy</th>\n      <th>Mystery</th>\n      <th>Thriller</th>\n      <th>Family</th>\n      <th>Sci-Fi</th>\n      <th>Romance</th>\n      <th>Western</th>\n      <th>Musical</th>\n      <th>Music</th>\n      <th>History</th>\n    </tr>\n  </thead>\n  <tbody>\n    <tr>\n      <th>0</th>\n      <td>5.137712</td>\n      <td>-0.472672</td>\n      <td>2.085491</td>\n      <td>False</td>\n      <td>False</td>\n      <td>True</td>\n      <td>False</td>\n      <td>False</td>\n      <td>False</td>\n      <td>False</td>\n      <td>...</td>\n      <td>False</td>\n      <td>False</td>\n      <td>False</td>\n      <td>False</td>\n      <td>False</td>\n      <td>False</td>\n      <td>False</td>\n      <td>False</td>\n      <td>False</td>\n      <td>False</td>\n    </tr>\n    <tr>\n      <th>1</th>\n      <td>-0.141526</td>\n      <td>-0.885800</td>\n      <td>-0.175590</td>\n      <td>False</td>\n      <td>False</td>\n      <td>False</td>\n      <td>False</td>\n      <td>False</td>\n      <td>True</td>\n      <td>False</td>\n      <td>...</td>\n      <td>False</td>\n      <td>False</td>\n      <td>False</td>\n      <td>False</td>\n      <td>False</td>\n      <td>False</td>\n      <td>False</td>\n      <td>False</td>\n      <td>False</td>\n      <td>False</td>\n    </tr>\n    <tr>\n      <th>2</th>\n      <td>6.809674</td>\n      <td>-0.501164</td>\n      <td>0.901115</td>\n      <td>False</td>\n      <td>True</td>\n      <td>False</td>\n      <td>False</td>\n      <td>False</td>\n      <td>False</td>\n      <td>False</td>\n      <td>...</td>\n      <td>False</td>\n      <td>False</td>\n      <td>False</td>\n      <td>False</td>\n      <td>False</td>\n      <td>False</td>\n      <td>False</td>\n      <td>False</td>\n      <td>False</td>\n      <td>False</td>\n    </tr>\n    <tr>\n      <th>3</th>\n      <td>0.813881</td>\n      <td>-0.914292</td>\n      <td>-1.036954</td>\n      <td>True</td>\n      <td>False</td>\n      <td>False</td>\n      <td>False</td>\n      <td>False</td>\n      <td>False</td>\n      <td>False</td>\n      <td>...</td>\n      <td>False</td>\n      <td>False</td>\n      <td>False</td>\n      <td>False</td>\n      <td>False</td>\n      <td>False</td>\n      <td>False</td>\n      <td>False</td>\n      <td>False</td>\n      <td>False</td>\n    </tr>\n    <tr>\n      <th>4</th>\n      <td>0.121824</td>\n      <td>-0.843063</td>\n      <td>-0.498601</td>\n      <td>True</td>\n      <td>False</td>\n      <td>False</td>\n      <td>False</td>\n      <td>False</td>\n      <td>False</td>\n      <td>False</td>\n      <td>...</td>\n      <td>False</td>\n      <td>False</td>\n      <td>False</td>\n      <td>False</td>\n      <td>False</td>\n      <td>False</td>\n      <td>False</td>\n      <td>False</td>\n      <td>False</td>\n      <td>False</td>\n    </tr>\n  </tbody>\n</table>\n<p>5 rows × 21 columns</p>\n</div>"
     },
     "execution_count": 18,
     "metadata": {},
     "output_type": "execute_result"
    }
   ],
   "source": [
    "Xnew.head()"
   ]
  },
  {
   "cell_type": "code",
   "execution_count": 19,
   "id": "d3a3377b",
   "metadata": {
    "ExecuteTime": {
     "end_time": "2024-03-08T06:53:44.383781Z",
     "start_time": "2024-03-08T06:53:44.195778Z"
    }
   },
   "outputs": [],
   "source": [
    "# import train_test split\n",
    "from sklearn.model_selection import train_test_split\n",
    "# split data into train and test, 80% in training and 20% in testing\n",
    "X_train, X_test, y_train, y_test = train_test_split(Xnew, y, test_size=0.2, \n",
    "                                                    random_state = 20)"
   ]
  },
  {
   "cell_type": "code",
   "execution_count": 20,
   "id": "c8bdeb0c",
   "metadata": {
    "ExecuteTime": {
     "end_time": "2024-03-08T06:55:18.390022Z",
     "start_time": "2024-03-08T06:55:18.201155Z"
    }
   },
   "outputs": [],
   "source": [
    "# import linear regression model from sklearn\n",
    "from sklearn.linear_model import LinearRegression"
   ]
  },
  {
   "cell_type": "code",
   "execution_count": 21,
   "id": "867239f0",
   "metadata": {
    "ExecuteTime": {
     "end_time": "2024-03-08T06:55:22.647088Z",
     "start_time": "2024-03-08T06:55:22.642083Z"
    }
   },
   "outputs": [],
   "source": [
    "# define model to be linear regression\n",
    "# https://scikit-learn.org/stable/modules/generated/\n",
    "    # sklearn.linear_model.LinearRegression.html\n",
    "linear_reg = LinearRegression()"
   ]
  },
  {
   "cell_type": "code",
   "execution_count": 22,
   "id": "6ae7e488",
   "metadata": {
    "ExecuteTime": {
     "end_time": "2024-03-08T06:55:23.747920Z",
     "start_time": "2024-03-08T06:55:23.634842Z"
    }
   },
   "outputs": [
    {
     "data": {
      "text/plain": "LinearRegression()",
      "text/html": "<style>#sk-container-id-1 {\n  /* Definition of color scheme common for light and dark mode */\n  --sklearn-color-text: black;\n  --sklearn-color-line: gray;\n  /* Definition of color scheme for unfitted estimators */\n  --sklearn-color-unfitted-level-0: #fff5e6;\n  --sklearn-color-unfitted-level-1: #f6e4d2;\n  --sklearn-color-unfitted-level-2: #ffe0b3;\n  --sklearn-color-unfitted-level-3: chocolate;\n  /* Definition of color scheme for fitted estimators */\n  --sklearn-color-fitted-level-0: #f0f8ff;\n  --sklearn-color-fitted-level-1: #d4ebff;\n  --sklearn-color-fitted-level-2: #b3dbfd;\n  --sklearn-color-fitted-level-3: cornflowerblue;\n\n  /* Specific color for light theme */\n  --sklearn-color-text-on-default-background: var(--sg-text-color, var(--theme-code-foreground, var(--jp-content-font-color1, black)));\n  --sklearn-color-background: var(--sg-background-color, var(--theme-background, var(--jp-layout-color0, white)));\n  --sklearn-color-border-box: var(--sg-text-color, var(--theme-code-foreground, var(--jp-content-font-color1, black)));\n  --sklearn-color-icon: #696969;\n\n  @media (prefers-color-scheme: dark) {\n    /* Redefinition of color scheme for dark theme */\n    --sklearn-color-text-on-default-background: var(--sg-text-color, var(--theme-code-foreground, var(--jp-content-font-color1, white)));\n    --sklearn-color-background: var(--sg-background-color, var(--theme-background, var(--jp-layout-color0, #111)));\n    --sklearn-color-border-box: var(--sg-text-color, var(--theme-code-foreground, var(--jp-content-font-color1, white)));\n    --sklearn-color-icon: #878787;\n  }\n}\n\n#sk-container-id-1 {\n  color: var(--sklearn-color-text);\n}\n\n#sk-container-id-1 pre {\n  padding: 0;\n}\n\n#sk-container-id-1 input.sk-hidden--visually {\n  border: 0;\n  clip: rect(1px 1px 1px 1px);\n  clip: rect(1px, 1px, 1px, 1px);\n  height: 1px;\n  margin: -1px;\n  overflow: hidden;\n  padding: 0;\n  position: absolute;\n  width: 1px;\n}\n\n#sk-container-id-1 div.sk-dashed-wrapped {\n  border: 1px dashed var(--sklearn-color-line);\n  margin: 0 0.4em 0.5em 0.4em;\n  box-sizing: border-box;\n  padding-bottom: 0.4em;\n  background-color: var(--sklearn-color-background);\n}\n\n#sk-container-id-1 div.sk-container {\n  /* jupyter's `normalize.less` sets `[hidden] { display: none; }`\n     but bootstrap.min.css set `[hidden] { display: none !important; }`\n     so we also need the `!important` here to be able to override the\n     default hidden behavior on the sphinx rendered scikit-learn.org.\n     See: https://github.com/scikit-learn/scikit-learn/issues/21755 */\n  display: inline-block !important;\n  position: relative;\n}\n\n#sk-container-id-1 div.sk-text-repr-fallback {\n  display: none;\n}\n\ndiv.sk-parallel-item,\ndiv.sk-serial,\ndiv.sk-item {\n  /* draw centered vertical line to link estimators */\n  background-image: linear-gradient(var(--sklearn-color-text-on-default-background), var(--sklearn-color-text-on-default-background));\n  background-size: 2px 100%;\n  background-repeat: no-repeat;\n  background-position: center center;\n}\n\n/* Parallel-specific style estimator block */\n\n#sk-container-id-1 div.sk-parallel-item::after {\n  content: \"\";\n  width: 100%;\n  border-bottom: 2px solid var(--sklearn-color-text-on-default-background);\n  flex-grow: 1;\n}\n\n#sk-container-id-1 div.sk-parallel {\n  display: flex;\n  align-items: stretch;\n  justify-content: center;\n  background-color: var(--sklearn-color-background);\n  position: relative;\n}\n\n#sk-container-id-1 div.sk-parallel-item {\n  display: flex;\n  flex-direction: column;\n}\n\n#sk-container-id-1 div.sk-parallel-item:first-child::after {\n  align-self: flex-end;\n  width: 50%;\n}\n\n#sk-container-id-1 div.sk-parallel-item:last-child::after {\n  align-self: flex-start;\n  width: 50%;\n}\n\n#sk-container-id-1 div.sk-parallel-item:only-child::after {\n  width: 0;\n}\n\n/* Serial-specific style estimator block */\n\n#sk-container-id-1 div.sk-serial {\n  display: flex;\n  flex-direction: column;\n  align-items: center;\n  background-color: var(--sklearn-color-background);\n  padding-right: 1em;\n  padding-left: 1em;\n}\n\n\n/* Toggleable style: style used for estimator/Pipeline/ColumnTransformer box that is\nclickable and can be expanded/collapsed.\n- Pipeline and ColumnTransformer use this feature and define the default style\n- Estimators will overwrite some part of the style using the `sk-estimator` class\n*/\n\n/* Pipeline and ColumnTransformer style (default) */\n\n#sk-container-id-1 div.sk-toggleable {\n  /* Default theme specific background. It is overwritten whether we have a\n  specific estimator or a Pipeline/ColumnTransformer */\n  background-color: var(--sklearn-color-background);\n}\n\n/* Toggleable label */\n#sk-container-id-1 label.sk-toggleable__label {\n  cursor: pointer;\n  display: block;\n  width: 100%;\n  margin-bottom: 0;\n  padding: 0.5em;\n  box-sizing: border-box;\n  text-align: center;\n}\n\n#sk-container-id-1 label.sk-toggleable__label-arrow:before {\n  /* Arrow on the left of the label */\n  content: \"▸\";\n  float: left;\n  margin-right: 0.25em;\n  color: var(--sklearn-color-icon);\n}\n\n#sk-container-id-1 label.sk-toggleable__label-arrow:hover:before {\n  color: var(--sklearn-color-text);\n}\n\n/* Toggleable content - dropdown */\n\n#sk-container-id-1 div.sk-toggleable__content {\n  max-height: 0;\n  max-width: 0;\n  overflow: hidden;\n  text-align: left;\n  /* unfitted */\n  background-color: var(--sklearn-color-unfitted-level-0);\n}\n\n#sk-container-id-1 div.sk-toggleable__content.fitted {\n  /* fitted */\n  background-color: var(--sklearn-color-fitted-level-0);\n}\n\n#sk-container-id-1 div.sk-toggleable__content pre {\n  margin: 0.2em;\n  border-radius: 0.25em;\n  color: var(--sklearn-color-text);\n  /* unfitted */\n  background-color: var(--sklearn-color-unfitted-level-0);\n}\n\n#sk-container-id-1 div.sk-toggleable__content.fitted pre {\n  /* unfitted */\n  background-color: var(--sklearn-color-fitted-level-0);\n}\n\n#sk-container-id-1 input.sk-toggleable__control:checked~div.sk-toggleable__content {\n  /* Expand drop-down */\n  max-height: 200px;\n  max-width: 100%;\n  overflow: auto;\n}\n\n#sk-container-id-1 input.sk-toggleable__control:checked~label.sk-toggleable__label-arrow:before {\n  content: \"▾\";\n}\n\n/* Pipeline/ColumnTransformer-specific style */\n\n#sk-container-id-1 div.sk-label input.sk-toggleable__control:checked~label.sk-toggleable__label {\n  color: var(--sklearn-color-text);\n  background-color: var(--sklearn-color-unfitted-level-2);\n}\n\n#sk-container-id-1 div.sk-label.fitted input.sk-toggleable__control:checked~label.sk-toggleable__label {\n  background-color: var(--sklearn-color-fitted-level-2);\n}\n\n/* Estimator-specific style */\n\n/* Colorize estimator box */\n#sk-container-id-1 div.sk-estimator input.sk-toggleable__control:checked~label.sk-toggleable__label {\n  /* unfitted */\n  background-color: var(--sklearn-color-unfitted-level-2);\n}\n\n#sk-container-id-1 div.sk-estimator.fitted input.sk-toggleable__control:checked~label.sk-toggleable__label {\n  /* fitted */\n  background-color: var(--sklearn-color-fitted-level-2);\n}\n\n#sk-container-id-1 div.sk-label label.sk-toggleable__label,\n#sk-container-id-1 div.sk-label label {\n  /* The background is the default theme color */\n  color: var(--sklearn-color-text-on-default-background);\n}\n\n/* On hover, darken the color of the background */\n#sk-container-id-1 div.sk-label:hover label.sk-toggleable__label {\n  color: var(--sklearn-color-text);\n  background-color: var(--sklearn-color-unfitted-level-2);\n}\n\n/* Label box, darken color on hover, fitted */\n#sk-container-id-1 div.sk-label.fitted:hover label.sk-toggleable__label.fitted {\n  color: var(--sklearn-color-text);\n  background-color: var(--sklearn-color-fitted-level-2);\n}\n\n/* Estimator label */\n\n#sk-container-id-1 div.sk-label label {\n  font-family: monospace;\n  font-weight: bold;\n  display: inline-block;\n  line-height: 1.2em;\n}\n\n#sk-container-id-1 div.sk-label-container {\n  text-align: center;\n}\n\n/* Estimator-specific */\n#sk-container-id-1 div.sk-estimator {\n  font-family: monospace;\n  border: 1px dotted var(--sklearn-color-border-box);\n  border-radius: 0.25em;\n  box-sizing: border-box;\n  margin-bottom: 0.5em;\n  /* unfitted */\n  background-color: var(--sklearn-color-unfitted-level-0);\n}\n\n#sk-container-id-1 div.sk-estimator.fitted {\n  /* fitted */\n  background-color: var(--sklearn-color-fitted-level-0);\n}\n\n/* on hover */\n#sk-container-id-1 div.sk-estimator:hover {\n  /* unfitted */\n  background-color: var(--sklearn-color-unfitted-level-2);\n}\n\n#sk-container-id-1 div.sk-estimator.fitted:hover {\n  /* fitted */\n  background-color: var(--sklearn-color-fitted-level-2);\n}\n\n/* Specification for estimator info (e.g. \"i\" and \"?\") */\n\n/* Common style for \"i\" and \"?\" */\n\n.sk-estimator-doc-link,\na:link.sk-estimator-doc-link,\na:visited.sk-estimator-doc-link {\n  float: right;\n  font-size: smaller;\n  line-height: 1em;\n  font-family: monospace;\n  background-color: var(--sklearn-color-background);\n  border-radius: 1em;\n  height: 1em;\n  width: 1em;\n  text-decoration: none !important;\n  margin-left: 1ex;\n  /* unfitted */\n  border: var(--sklearn-color-unfitted-level-1) 1pt solid;\n  color: var(--sklearn-color-unfitted-level-1);\n}\n\n.sk-estimator-doc-link.fitted,\na:link.sk-estimator-doc-link.fitted,\na:visited.sk-estimator-doc-link.fitted {\n  /* fitted */\n  border: var(--sklearn-color-fitted-level-1) 1pt solid;\n  color: var(--sklearn-color-fitted-level-1);\n}\n\n/* On hover */\ndiv.sk-estimator:hover .sk-estimator-doc-link:hover,\n.sk-estimator-doc-link:hover,\ndiv.sk-label-container:hover .sk-estimator-doc-link:hover,\n.sk-estimator-doc-link:hover {\n  /* unfitted */\n  background-color: var(--sklearn-color-unfitted-level-3);\n  color: var(--sklearn-color-background);\n  text-decoration: none;\n}\n\ndiv.sk-estimator.fitted:hover .sk-estimator-doc-link.fitted:hover,\n.sk-estimator-doc-link.fitted:hover,\ndiv.sk-label-container:hover .sk-estimator-doc-link.fitted:hover,\n.sk-estimator-doc-link.fitted:hover {\n  /* fitted */\n  background-color: var(--sklearn-color-fitted-level-3);\n  color: var(--sklearn-color-background);\n  text-decoration: none;\n}\n\n/* Span, style for the box shown on hovering the info icon */\n.sk-estimator-doc-link span {\n  display: none;\n  z-index: 9999;\n  position: relative;\n  font-weight: normal;\n  right: .2ex;\n  padding: .5ex;\n  margin: .5ex;\n  width: min-content;\n  min-width: 20ex;\n  max-width: 50ex;\n  color: var(--sklearn-color-text);\n  box-shadow: 2pt 2pt 4pt #999;\n  /* unfitted */\n  background: var(--sklearn-color-unfitted-level-0);\n  border: .5pt solid var(--sklearn-color-unfitted-level-3);\n}\n\n.sk-estimator-doc-link.fitted span {\n  /* fitted */\n  background: var(--sklearn-color-fitted-level-0);\n  border: var(--sklearn-color-fitted-level-3);\n}\n\n.sk-estimator-doc-link:hover span {\n  display: block;\n}\n\n/* \"?\"-specific style due to the `<a>` HTML tag */\n\n#sk-container-id-1 a.estimator_doc_link {\n  float: right;\n  font-size: 1rem;\n  line-height: 1em;\n  font-family: monospace;\n  background-color: var(--sklearn-color-background);\n  border-radius: 1rem;\n  height: 1rem;\n  width: 1rem;\n  text-decoration: none;\n  /* unfitted */\n  color: var(--sklearn-color-unfitted-level-1);\n  border: var(--sklearn-color-unfitted-level-1) 1pt solid;\n}\n\n#sk-container-id-1 a.estimator_doc_link.fitted {\n  /* fitted */\n  border: var(--sklearn-color-fitted-level-1) 1pt solid;\n  color: var(--sklearn-color-fitted-level-1);\n}\n\n/* On hover */\n#sk-container-id-1 a.estimator_doc_link:hover {\n  /* unfitted */\n  background-color: var(--sklearn-color-unfitted-level-3);\n  color: var(--sklearn-color-background);\n  text-decoration: none;\n}\n\n#sk-container-id-1 a.estimator_doc_link.fitted:hover {\n  /* fitted */\n  background-color: var(--sklearn-color-fitted-level-3);\n}\n</style><div id=\"sk-container-id-1\" class=\"sk-top-container\"><div class=\"sk-text-repr-fallback\"><pre>LinearRegression()</pre><b>In a Jupyter environment, please rerun this cell to show the HTML representation or trust the notebook. <br />On GitHub, the HTML representation is unable to render, please try loading this page with nbviewer.org.</b></div><div class=\"sk-container\" hidden><div class=\"sk-item\"><div class=\"sk-estimator fitted sk-toggleable\"><input class=\"sk-toggleable__control sk-hidden--visually\" id=\"sk-estimator-id-1\" type=\"checkbox\" checked><label for=\"sk-estimator-id-1\" class=\"sk-toggleable__label fitted sk-toggleable__label-arrow fitted\">&nbsp;&nbsp;LinearRegression<a class=\"sk-estimator-doc-link fitted\" rel=\"noreferrer\" target=\"_blank\" href=\"https://scikit-learn.org/1.4/modules/generated/sklearn.linear_model.LinearRegression.html\">?<span>Documentation for LinearRegression</span></a><span class=\"sk-estimator-doc-link fitted\">i<span>Fitted</span></span></label><div class=\"sk-toggleable__content fitted\"><pre>LinearRegression()</pre></div> </div></div></div></div>"
     },
     "execution_count": 22,
     "metadata": {},
     "output_type": "execute_result"
    }
   ],
   "source": [
    "# train model using training dataset\n",
    "linear_reg.fit(X_train, y_train)"
   ]
  },
  {
   "cell_type": "code",
   "execution_count": 23,
   "id": "f558e01f",
   "metadata": {
    "ExecuteTime": {
     "end_time": "2024-03-08T06:55:26.393956Z",
     "start_time": "2024-03-08T06:55:26.378930Z"
    }
   },
   "outputs": [
    {
     "data": {
      "text/plain": "6.318235493551817"
     },
     "execution_count": 23,
     "metadata": {},
     "output_type": "execute_result"
    }
   ],
   "source": [
    "# show the intercept of the trained model (Theta_0)\n",
    "linear_reg.intercept_"
   ]
  },
  {
   "cell_type": "code",
   "execution_count": 24,
   "id": "c03b3069",
   "metadata": {
    "ExecuteTime": {
     "end_time": "2024-03-08T06:55:29.798604Z",
     "start_time": "2024-03-08T06:55:29.774571Z"
    }
   },
   "outputs": [
    {
     "data": {
      "text/plain": "array([ 3.93682346e-01, -1.76854029e-01,  2.90591757e-01, -1.82765474e-03,\n       -1.86536701e-01,  2.96897914e-01,  2.23227967e-01,  4.74718219e-01,\n       -1.08853518e-02,  7.93924849e-01, -4.12780098e-01, -2.04874861e-01,\n       -1.38981046e-01, -5.67774596e-02,  2.16020236e-01, -3.12845628e-02,\n       -5.81215386e-02, -1.83316222e-01,  1.35265817e+00,  9.12919335e-01,\n        2.83389298e+00])"
     },
     "execution_count": 24,
     "metadata": {},
     "output_type": "execute_result"
    }
   ],
   "source": [
    "linear_reg.coef_"
   ]
  },
  {
   "cell_type": "code",
   "execution_count": 25,
   "id": "6357c3cf",
   "metadata": {
    "ExecuteTime": {
     "end_time": "2024-03-08T06:56:47.720765Z",
     "start_time": "2024-03-08T06:56:47.693025Z"
    }
   },
   "outputs": [
    {
     "data": {
      "text/plain": "           Coefficient\nvotes         0.393682\nbudget       -0.176854\nruntime       0.290592\nComedy       -0.001828\nAction       -0.186537\nDrama         0.296898\nCrime         0.223228\nBiography     0.474718\nAdventure    -0.010885\nAnimation     0.793925\nHorror       -0.412780\nFantasy      -0.204875\nMystery      -0.138981\nThriller     -0.056777\nFamily        0.216020\nSci-Fi       -0.031285\nRomance      -0.058122\nWestern      -0.183316\nMusical       1.352658\nMusic         0.912919\nHistory       2.833893",
      "text/html": "<div>\n<style scoped>\n    .dataframe tbody tr th:only-of-type {\n        vertical-align: middle;\n    }\n\n    .dataframe tbody tr th {\n        vertical-align: top;\n    }\n\n    .dataframe thead th {\n        text-align: right;\n    }\n</style>\n<table border=\"1\" class=\"dataframe\">\n  <thead>\n    <tr style=\"text-align: right;\">\n      <th></th>\n      <th>Coefficient</th>\n    </tr>\n  </thead>\n  <tbody>\n    <tr>\n      <th>votes</th>\n      <td>0.393682</td>\n    </tr>\n    <tr>\n      <th>budget</th>\n      <td>-0.176854</td>\n    </tr>\n    <tr>\n      <th>runtime</th>\n      <td>0.290592</td>\n    </tr>\n    <tr>\n      <th>Comedy</th>\n      <td>-0.001828</td>\n    </tr>\n    <tr>\n      <th>Action</th>\n      <td>-0.186537</td>\n    </tr>\n    <tr>\n      <th>Drama</th>\n      <td>0.296898</td>\n    </tr>\n    <tr>\n      <th>Crime</th>\n      <td>0.223228</td>\n    </tr>\n    <tr>\n      <th>Biography</th>\n      <td>0.474718</td>\n    </tr>\n    <tr>\n      <th>Adventure</th>\n      <td>-0.010885</td>\n    </tr>\n    <tr>\n      <th>Animation</th>\n      <td>0.793925</td>\n    </tr>\n    <tr>\n      <th>Horror</th>\n      <td>-0.412780</td>\n    </tr>\n    <tr>\n      <th>Fantasy</th>\n      <td>-0.204875</td>\n    </tr>\n    <tr>\n      <th>Mystery</th>\n      <td>-0.138981</td>\n    </tr>\n    <tr>\n      <th>Thriller</th>\n      <td>-0.056777</td>\n    </tr>\n    <tr>\n      <th>Family</th>\n      <td>0.216020</td>\n    </tr>\n    <tr>\n      <th>Sci-Fi</th>\n      <td>-0.031285</td>\n    </tr>\n    <tr>\n      <th>Romance</th>\n      <td>-0.058122</td>\n    </tr>\n    <tr>\n      <th>Western</th>\n      <td>-0.183316</td>\n    </tr>\n    <tr>\n      <th>Musical</th>\n      <td>1.352658</td>\n    </tr>\n    <tr>\n      <th>Music</th>\n      <td>0.912919</td>\n    </tr>\n    <tr>\n      <th>History</th>\n      <td>2.833893</td>\n    </tr>\n  </tbody>\n</table>\n</div>"
     },
     "execution_count": 25,
     "metadata": {},
     "output_type": "execute_result"
    }
   ],
   "source": [
    "# show the coefficients of independent variables\n",
    "coeff_df = pd.DataFrame(linear_reg.coef_, Xnew.columns, columns=['Coefficient'])\n",
    "coeff_df"
   ]
  },
  {
   "cell_type": "code",
   "execution_count": 26,
   "id": "fd9b7d9e",
   "metadata": {
    "ExecuteTime": {
     "end_time": "2024-03-08T06:59:14.632491Z",
     "start_time": "2024-03-08T06:59:14.594319Z"
    }
   },
   "outputs": [
    {
     "data": {
      "text/plain": "0.3597285329174841"
     },
     "execution_count": 26,
     "metadata": {},
     "output_type": "execute_result"
    }
   ],
   "source": [
    "linear_reg.score(X_test, y_test, sample_weight=None)"
   ]
  },
  {
   "cell_type": "markdown",
   "id": "4c0b2929",
   "metadata": {},
   "source": [
    "# Logistic Regression"
   ]
  },
  {
   "cell_type": "code",
   "execution_count": 27,
   "id": "0df4033e",
   "metadata": {
    "ExecuteTime": {
     "end_time": "2024-03-08T07:06:09.494435Z",
     "start_time": "2024-03-08T07:06:09.475168Z"
    }
   },
   "outputs": [
    {
     "data": {
      "text/plain": "count    7668.000000\nmean        6.390411\nstd         0.968652\nmin         1.900000\n25%         5.800000\n50%         6.500000\n75%         7.100000\nmax         9.300000\nName: score, dtype: float64"
     },
     "execution_count": 27,
     "metadata": {},
     "output_type": "execute_result"
    }
   ],
   "source": [
    "movienew['score'].describe()"
   ]
  },
  {
   "cell_type": "code",
   "execution_count": 28,
   "id": "96d25497",
   "metadata": {
    "ExecuteTime": {
     "end_time": "2024-03-08T07:06:11.945050Z",
     "start_time": "2024-03-08T07:06:11.913305Z"
    }
   },
   "outputs": [],
   "source": [
    "# create new column 'Prefer'\n",
    "    # define Prefer as movies that rate 50% higher by consumers, among all movies\n",
    "movienew.loc[movienew['score'] >= 6.5, 'Prefer'] = 1\n",
    "movienew.loc[movienew['score'] < 6.5, 'Prefer'] = 0"
   ]
  },
  {
   "cell_type": "code",
   "execution_count": 29,
   "id": "c7a69ccd",
   "metadata": {
    "ExecuteTime": {
     "end_time": "2024-03-08T07:06:16.219982Z",
     "start_time": "2024-03-08T07:06:16.184982Z"
    }
   },
   "outputs": [
    {
     "data": {
      "text/plain": "                                             name rating      genre  year  \\\n0                                     The Shining      R      Drama  1980   \n1                                 The Blue Lagoon      R  Adventure  1980   \n2  Star Wars: Episode V - The Empire Strikes Back     PG     Action  1980   \n3                                       Airplane!     PG     Comedy  1980   \n4                                      Caddyshack      R     Comedy  1980   \n\n                        released  score      votes         director  \\\n0  June 13, 1980 (United States)    8.4   927000.0  Stanley Kubrick   \n1   July 2, 1980 (United States)    5.8    65000.0   Randal Kleiser   \n2  June 20, 1980 (United States)    8.7  1200000.0   Irvin Kershner   \n3   July 2, 1980 (United States)    7.7   221000.0     Jim Abrahams   \n4  July 25, 1980 (United States)    7.3   108000.0     Harold Ramis   \n\n                    writer            star  ... Horror  Music  Musical  \\\n0             Stephen King  Jack Nicholson  ...  False  False    False   \n1  Henry De Vere Stacpoole  Brooke Shields  ...  False  False    False   \n2           Leigh Brackett     Mark Hamill  ...  False  False    False   \n3             Jim Abrahams     Robert Hays  ...  False  False    False   \n4       Brian Doyle-Murray     Chevy Chase  ...  False  False    False   \n\n  Mystery  Romance  Sci-Fi  Sport  Thriller  Western  Prefer  \n0   False    False   False  False     False    False     1.0  \n1   False    False   False  False     False    False     0.0  \n2   False    False   False  False     False    False     1.0  \n3   False    False   False  False     False    False     1.0  \n4   False    False   False  False     False    False     1.0  \n\n[5 rows x 35 columns]",
      "text/html": "<div>\n<style scoped>\n    .dataframe tbody tr th:only-of-type {\n        vertical-align: middle;\n    }\n\n    .dataframe tbody tr th {\n        vertical-align: top;\n    }\n\n    .dataframe thead th {\n        text-align: right;\n    }\n</style>\n<table border=\"1\" class=\"dataframe\">\n  <thead>\n    <tr style=\"text-align: right;\">\n      <th></th>\n      <th>name</th>\n      <th>rating</th>\n      <th>genre</th>\n      <th>year</th>\n      <th>released</th>\n      <th>score</th>\n      <th>votes</th>\n      <th>director</th>\n      <th>writer</th>\n      <th>star</th>\n      <th>...</th>\n      <th>Horror</th>\n      <th>Music</th>\n      <th>Musical</th>\n      <th>Mystery</th>\n      <th>Romance</th>\n      <th>Sci-Fi</th>\n      <th>Sport</th>\n      <th>Thriller</th>\n      <th>Western</th>\n      <th>Prefer</th>\n    </tr>\n  </thead>\n  <tbody>\n    <tr>\n      <th>0</th>\n      <td>The Shining</td>\n      <td>R</td>\n      <td>Drama</td>\n      <td>1980</td>\n      <td>June 13, 1980 (United States)</td>\n      <td>8.4</td>\n      <td>927000.0</td>\n      <td>Stanley Kubrick</td>\n      <td>Stephen King</td>\n      <td>Jack Nicholson</td>\n      <td>...</td>\n      <td>False</td>\n      <td>False</td>\n      <td>False</td>\n      <td>False</td>\n      <td>False</td>\n      <td>False</td>\n      <td>False</td>\n      <td>False</td>\n      <td>False</td>\n      <td>1.0</td>\n    </tr>\n    <tr>\n      <th>1</th>\n      <td>The Blue Lagoon</td>\n      <td>R</td>\n      <td>Adventure</td>\n      <td>1980</td>\n      <td>July 2, 1980 (United States)</td>\n      <td>5.8</td>\n      <td>65000.0</td>\n      <td>Randal Kleiser</td>\n      <td>Henry De Vere Stacpoole</td>\n      <td>Brooke Shields</td>\n      <td>...</td>\n      <td>False</td>\n      <td>False</td>\n      <td>False</td>\n      <td>False</td>\n      <td>False</td>\n      <td>False</td>\n      <td>False</td>\n      <td>False</td>\n      <td>False</td>\n      <td>0.0</td>\n    </tr>\n    <tr>\n      <th>2</th>\n      <td>Star Wars: Episode V - The Empire Strikes Back</td>\n      <td>PG</td>\n      <td>Action</td>\n      <td>1980</td>\n      <td>June 20, 1980 (United States)</td>\n      <td>8.7</td>\n      <td>1200000.0</td>\n      <td>Irvin Kershner</td>\n      <td>Leigh Brackett</td>\n      <td>Mark Hamill</td>\n      <td>...</td>\n      <td>False</td>\n      <td>False</td>\n      <td>False</td>\n      <td>False</td>\n      <td>False</td>\n      <td>False</td>\n      <td>False</td>\n      <td>False</td>\n      <td>False</td>\n      <td>1.0</td>\n    </tr>\n    <tr>\n      <th>3</th>\n      <td>Airplane!</td>\n      <td>PG</td>\n      <td>Comedy</td>\n      <td>1980</td>\n      <td>July 2, 1980 (United States)</td>\n      <td>7.7</td>\n      <td>221000.0</td>\n      <td>Jim Abrahams</td>\n      <td>Jim Abrahams</td>\n      <td>Robert Hays</td>\n      <td>...</td>\n      <td>False</td>\n      <td>False</td>\n      <td>False</td>\n      <td>False</td>\n      <td>False</td>\n      <td>False</td>\n      <td>False</td>\n      <td>False</td>\n      <td>False</td>\n      <td>1.0</td>\n    </tr>\n    <tr>\n      <th>4</th>\n      <td>Caddyshack</td>\n      <td>R</td>\n      <td>Comedy</td>\n      <td>1980</td>\n      <td>July 25, 1980 (United States)</td>\n      <td>7.3</td>\n      <td>108000.0</td>\n      <td>Harold Ramis</td>\n      <td>Brian Doyle-Murray</td>\n      <td>Chevy Chase</td>\n      <td>...</td>\n      <td>False</td>\n      <td>False</td>\n      <td>False</td>\n      <td>False</td>\n      <td>False</td>\n      <td>False</td>\n      <td>False</td>\n      <td>False</td>\n      <td>False</td>\n      <td>1.0</td>\n    </tr>\n  </tbody>\n</table>\n<p>5 rows × 35 columns</p>\n</div>"
     },
     "execution_count": 29,
     "metadata": {},
     "output_type": "execute_result"
    }
   ],
   "source": [
    "movienew.head()"
   ]
  },
  {
   "cell_type": "code",
   "execution_count": 30,
   "id": "e1c6af2f",
   "metadata": {
    "ExecuteTime": {
     "end_time": "2024-03-08T07:08:19.377586Z",
     "start_time": "2024-03-08T07:08:19.363589Z"
    }
   },
   "outputs": [],
   "source": [
    "# assign features and target variable\n",
    "X2 = Xnew # normalized features\n",
    "y2 = movienew['Prefer'] # binary target"
   ]
  },
  {
   "cell_type": "code",
   "execution_count": 31,
   "id": "ad18997b",
   "metadata": {
    "ExecuteTime": {
     "end_time": "2024-03-08T07:08:24.832718Z",
     "start_time": "2024-03-08T07:08:24.812727Z"
    }
   },
   "outputs": [
    {
     "data": {
      "text/plain": "Prefer\n1.0    3861\n0.0    3807\nName: count, dtype: int64"
     },
     "execution_count": 31,
     "metadata": {},
     "output_type": "execute_result"
    }
   ],
   "source": [
    "y2.value_counts()"
   ]
  },
  {
   "cell_type": "code",
   "execution_count": 32,
   "id": "e9d31e99",
   "metadata": {
    "ExecuteTime": {
     "end_time": "2024-03-08T07:08:57.061267Z",
     "start_time": "2024-03-08T07:08:57.044651Z"
    }
   },
   "outputs": [
    {
     "name": "stderr",
     "output_type": "stream",
     "text": [
      "C:\\Users\\David\\AppData\\Local\\Temp\\ipykernel_14468\\2615278575.py:3: FutureWarning: Series.ravel is deprecated. The underlying array is already 1D, so ravel is not necessary.  Use `to_numpy()` for conversion to a numpy array instead.\n",
      "  y2 = y2.ravel()\n"
     ]
    }
   ],
   "source": [
    "# change target column to array, change the shape of y to a contiguous flattened array \n",
    "# (from n X 1 to 1 X n)\n",
    "y2 = y2.ravel()"
   ]
  },
  {
   "cell_type": "code",
   "execution_count": 34,
   "id": "0dcb205f",
   "metadata": {
    "ExecuteTime": {
     "end_time": "2024-03-08T07:10:29.151816Z",
     "start_time": "2024-03-08T07:10:29.139831Z"
    }
   },
   "outputs": [],
   "source": [
    "# import train_test split\n",
    "from sklearn.model_selection import train_test_split\n",
    "# split data into train and test, 80% in training and 20% in testing\n",
    "X_train2, X_test2, y_train2, y_test2 = train_test_split(X2, y2, test_size=0.2, \n",
    "                                                        random_state = 20)"
   ]
  },
  {
   "cell_type": "code",
   "execution_count": 35,
   "id": "57061241",
   "metadata": {
    "ExecuteTime": {
     "end_time": "2024-03-08T07:10:34.052905Z",
     "start_time": "2024-03-08T07:10:34.032875Z"
    }
   },
   "outputs": [],
   "source": [
    "# import Logistic Regression from sklearn\n",
    "from sklearn.linear_model import LogisticRegression"
   ]
  },
  {
   "cell_type": "code",
   "execution_count": 36,
   "id": "6da1fcc5",
   "metadata": {
    "ExecuteTime": {
     "end_time": "2024-03-08T07:10:36.147686Z",
     "start_time": "2024-03-08T07:10:36.126651Z"
    }
   },
   "outputs": [],
   "source": [
    "# define model to be logistic regression\n",
    "# https://scikit-learn.org/stable/modules/generated/\n",
    "    # sklearn.linear_model.LogisticRegression.html\n",
    "\n",
    "lr = LogisticRegression()"
   ]
  },
  {
   "cell_type": "code",
   "execution_count": 37,
   "id": "e54a5d36",
   "metadata": {
    "ExecuteTime": {
     "end_time": "2024-03-08T07:10:37.532297Z",
     "start_time": "2024-03-08T07:10:37.416767Z"
    }
   },
   "outputs": [
    {
     "data": {
      "text/plain": "LogisticRegression()",
      "text/html": "<style>#sk-container-id-2 {\n  /* Definition of color scheme common for light and dark mode */\n  --sklearn-color-text: black;\n  --sklearn-color-line: gray;\n  /* Definition of color scheme for unfitted estimators */\n  --sklearn-color-unfitted-level-0: #fff5e6;\n  --sklearn-color-unfitted-level-1: #f6e4d2;\n  --sklearn-color-unfitted-level-2: #ffe0b3;\n  --sklearn-color-unfitted-level-3: chocolate;\n  /* Definition of color scheme for fitted estimators */\n  --sklearn-color-fitted-level-0: #f0f8ff;\n  --sklearn-color-fitted-level-1: #d4ebff;\n  --sklearn-color-fitted-level-2: #b3dbfd;\n  --sklearn-color-fitted-level-3: cornflowerblue;\n\n  /* Specific color for light theme */\n  --sklearn-color-text-on-default-background: var(--sg-text-color, var(--theme-code-foreground, var(--jp-content-font-color1, black)));\n  --sklearn-color-background: var(--sg-background-color, var(--theme-background, var(--jp-layout-color0, white)));\n  --sklearn-color-border-box: var(--sg-text-color, var(--theme-code-foreground, var(--jp-content-font-color1, black)));\n  --sklearn-color-icon: #696969;\n\n  @media (prefers-color-scheme: dark) {\n    /* Redefinition of color scheme for dark theme */\n    --sklearn-color-text-on-default-background: var(--sg-text-color, var(--theme-code-foreground, var(--jp-content-font-color1, white)));\n    --sklearn-color-background: var(--sg-background-color, var(--theme-background, var(--jp-layout-color0, #111)));\n    --sklearn-color-border-box: var(--sg-text-color, var(--theme-code-foreground, var(--jp-content-font-color1, white)));\n    --sklearn-color-icon: #878787;\n  }\n}\n\n#sk-container-id-2 {\n  color: var(--sklearn-color-text);\n}\n\n#sk-container-id-2 pre {\n  padding: 0;\n}\n\n#sk-container-id-2 input.sk-hidden--visually {\n  border: 0;\n  clip: rect(1px 1px 1px 1px);\n  clip: rect(1px, 1px, 1px, 1px);\n  height: 1px;\n  margin: -1px;\n  overflow: hidden;\n  padding: 0;\n  position: absolute;\n  width: 1px;\n}\n\n#sk-container-id-2 div.sk-dashed-wrapped {\n  border: 1px dashed var(--sklearn-color-line);\n  margin: 0 0.4em 0.5em 0.4em;\n  box-sizing: border-box;\n  padding-bottom: 0.4em;\n  background-color: var(--sklearn-color-background);\n}\n\n#sk-container-id-2 div.sk-container {\n  /* jupyter's `normalize.less` sets `[hidden] { display: none; }`\n     but bootstrap.min.css set `[hidden] { display: none !important; }`\n     so we also need the `!important` here to be able to override the\n     default hidden behavior on the sphinx rendered scikit-learn.org.\n     See: https://github.com/scikit-learn/scikit-learn/issues/21755 */\n  display: inline-block !important;\n  position: relative;\n}\n\n#sk-container-id-2 div.sk-text-repr-fallback {\n  display: none;\n}\n\ndiv.sk-parallel-item,\ndiv.sk-serial,\ndiv.sk-item {\n  /* draw centered vertical line to link estimators */\n  background-image: linear-gradient(var(--sklearn-color-text-on-default-background), var(--sklearn-color-text-on-default-background));\n  background-size: 2px 100%;\n  background-repeat: no-repeat;\n  background-position: center center;\n}\n\n/* Parallel-specific style estimator block */\n\n#sk-container-id-2 div.sk-parallel-item::after {\n  content: \"\";\n  width: 100%;\n  border-bottom: 2px solid var(--sklearn-color-text-on-default-background);\n  flex-grow: 1;\n}\n\n#sk-container-id-2 div.sk-parallel {\n  display: flex;\n  align-items: stretch;\n  justify-content: center;\n  background-color: var(--sklearn-color-background);\n  position: relative;\n}\n\n#sk-container-id-2 div.sk-parallel-item {\n  display: flex;\n  flex-direction: column;\n}\n\n#sk-container-id-2 div.sk-parallel-item:first-child::after {\n  align-self: flex-end;\n  width: 50%;\n}\n\n#sk-container-id-2 div.sk-parallel-item:last-child::after {\n  align-self: flex-start;\n  width: 50%;\n}\n\n#sk-container-id-2 div.sk-parallel-item:only-child::after {\n  width: 0;\n}\n\n/* Serial-specific style estimator block */\n\n#sk-container-id-2 div.sk-serial {\n  display: flex;\n  flex-direction: column;\n  align-items: center;\n  background-color: var(--sklearn-color-background);\n  padding-right: 1em;\n  padding-left: 1em;\n}\n\n\n/* Toggleable style: style used for estimator/Pipeline/ColumnTransformer box that is\nclickable and can be expanded/collapsed.\n- Pipeline and ColumnTransformer use this feature and define the default style\n- Estimators will overwrite some part of the style using the `sk-estimator` class\n*/\n\n/* Pipeline and ColumnTransformer style (default) */\n\n#sk-container-id-2 div.sk-toggleable {\n  /* Default theme specific background. It is overwritten whether we have a\n  specific estimator or a Pipeline/ColumnTransformer */\n  background-color: var(--sklearn-color-background);\n}\n\n/* Toggleable label */\n#sk-container-id-2 label.sk-toggleable__label {\n  cursor: pointer;\n  display: block;\n  width: 100%;\n  margin-bottom: 0;\n  padding: 0.5em;\n  box-sizing: border-box;\n  text-align: center;\n}\n\n#sk-container-id-2 label.sk-toggleable__label-arrow:before {\n  /* Arrow on the left of the label */\n  content: \"▸\";\n  float: left;\n  margin-right: 0.25em;\n  color: var(--sklearn-color-icon);\n}\n\n#sk-container-id-2 label.sk-toggleable__label-arrow:hover:before {\n  color: var(--sklearn-color-text);\n}\n\n/* Toggleable content - dropdown */\n\n#sk-container-id-2 div.sk-toggleable__content {\n  max-height: 0;\n  max-width: 0;\n  overflow: hidden;\n  text-align: left;\n  /* unfitted */\n  background-color: var(--sklearn-color-unfitted-level-0);\n}\n\n#sk-container-id-2 div.sk-toggleable__content.fitted {\n  /* fitted */\n  background-color: var(--sklearn-color-fitted-level-0);\n}\n\n#sk-container-id-2 div.sk-toggleable__content pre {\n  margin: 0.2em;\n  border-radius: 0.25em;\n  color: var(--sklearn-color-text);\n  /* unfitted */\n  background-color: var(--sklearn-color-unfitted-level-0);\n}\n\n#sk-container-id-2 div.sk-toggleable__content.fitted pre {\n  /* unfitted */\n  background-color: var(--sklearn-color-fitted-level-0);\n}\n\n#sk-container-id-2 input.sk-toggleable__control:checked~div.sk-toggleable__content {\n  /* Expand drop-down */\n  max-height: 200px;\n  max-width: 100%;\n  overflow: auto;\n}\n\n#sk-container-id-2 input.sk-toggleable__control:checked~label.sk-toggleable__label-arrow:before {\n  content: \"▾\";\n}\n\n/* Pipeline/ColumnTransformer-specific style */\n\n#sk-container-id-2 div.sk-label input.sk-toggleable__control:checked~label.sk-toggleable__label {\n  color: var(--sklearn-color-text);\n  background-color: var(--sklearn-color-unfitted-level-2);\n}\n\n#sk-container-id-2 div.sk-label.fitted input.sk-toggleable__control:checked~label.sk-toggleable__label {\n  background-color: var(--sklearn-color-fitted-level-2);\n}\n\n/* Estimator-specific style */\n\n/* Colorize estimator box */\n#sk-container-id-2 div.sk-estimator input.sk-toggleable__control:checked~label.sk-toggleable__label {\n  /* unfitted */\n  background-color: var(--sklearn-color-unfitted-level-2);\n}\n\n#sk-container-id-2 div.sk-estimator.fitted input.sk-toggleable__control:checked~label.sk-toggleable__label {\n  /* fitted */\n  background-color: var(--sklearn-color-fitted-level-2);\n}\n\n#sk-container-id-2 div.sk-label label.sk-toggleable__label,\n#sk-container-id-2 div.sk-label label {\n  /* The background is the default theme color */\n  color: var(--sklearn-color-text-on-default-background);\n}\n\n/* On hover, darken the color of the background */\n#sk-container-id-2 div.sk-label:hover label.sk-toggleable__label {\n  color: var(--sklearn-color-text);\n  background-color: var(--sklearn-color-unfitted-level-2);\n}\n\n/* Label box, darken color on hover, fitted */\n#sk-container-id-2 div.sk-label.fitted:hover label.sk-toggleable__label.fitted {\n  color: var(--sklearn-color-text);\n  background-color: var(--sklearn-color-fitted-level-2);\n}\n\n/* Estimator label */\n\n#sk-container-id-2 div.sk-label label {\n  font-family: monospace;\n  font-weight: bold;\n  display: inline-block;\n  line-height: 1.2em;\n}\n\n#sk-container-id-2 div.sk-label-container {\n  text-align: center;\n}\n\n/* Estimator-specific */\n#sk-container-id-2 div.sk-estimator {\n  font-family: monospace;\n  border: 1px dotted var(--sklearn-color-border-box);\n  border-radius: 0.25em;\n  box-sizing: border-box;\n  margin-bottom: 0.5em;\n  /* unfitted */\n  background-color: var(--sklearn-color-unfitted-level-0);\n}\n\n#sk-container-id-2 div.sk-estimator.fitted {\n  /* fitted */\n  background-color: var(--sklearn-color-fitted-level-0);\n}\n\n/* on hover */\n#sk-container-id-2 div.sk-estimator:hover {\n  /* unfitted */\n  background-color: var(--sklearn-color-unfitted-level-2);\n}\n\n#sk-container-id-2 div.sk-estimator.fitted:hover {\n  /* fitted */\n  background-color: var(--sklearn-color-fitted-level-2);\n}\n\n/* Specification for estimator info (e.g. \"i\" and \"?\") */\n\n/* Common style for \"i\" and \"?\" */\n\n.sk-estimator-doc-link,\na:link.sk-estimator-doc-link,\na:visited.sk-estimator-doc-link {\n  float: right;\n  font-size: smaller;\n  line-height: 1em;\n  font-family: monospace;\n  background-color: var(--sklearn-color-background);\n  border-radius: 1em;\n  height: 1em;\n  width: 1em;\n  text-decoration: none !important;\n  margin-left: 1ex;\n  /* unfitted */\n  border: var(--sklearn-color-unfitted-level-1) 1pt solid;\n  color: var(--sklearn-color-unfitted-level-1);\n}\n\n.sk-estimator-doc-link.fitted,\na:link.sk-estimator-doc-link.fitted,\na:visited.sk-estimator-doc-link.fitted {\n  /* fitted */\n  border: var(--sklearn-color-fitted-level-1) 1pt solid;\n  color: var(--sklearn-color-fitted-level-1);\n}\n\n/* On hover */\ndiv.sk-estimator:hover .sk-estimator-doc-link:hover,\n.sk-estimator-doc-link:hover,\ndiv.sk-label-container:hover .sk-estimator-doc-link:hover,\n.sk-estimator-doc-link:hover {\n  /* unfitted */\n  background-color: var(--sklearn-color-unfitted-level-3);\n  color: var(--sklearn-color-background);\n  text-decoration: none;\n}\n\ndiv.sk-estimator.fitted:hover .sk-estimator-doc-link.fitted:hover,\n.sk-estimator-doc-link.fitted:hover,\ndiv.sk-label-container:hover .sk-estimator-doc-link.fitted:hover,\n.sk-estimator-doc-link.fitted:hover {\n  /* fitted */\n  background-color: var(--sklearn-color-fitted-level-3);\n  color: var(--sklearn-color-background);\n  text-decoration: none;\n}\n\n/* Span, style for the box shown on hovering the info icon */\n.sk-estimator-doc-link span {\n  display: none;\n  z-index: 9999;\n  position: relative;\n  font-weight: normal;\n  right: .2ex;\n  padding: .5ex;\n  margin: .5ex;\n  width: min-content;\n  min-width: 20ex;\n  max-width: 50ex;\n  color: var(--sklearn-color-text);\n  box-shadow: 2pt 2pt 4pt #999;\n  /* unfitted */\n  background: var(--sklearn-color-unfitted-level-0);\n  border: .5pt solid var(--sklearn-color-unfitted-level-3);\n}\n\n.sk-estimator-doc-link.fitted span {\n  /* fitted */\n  background: var(--sklearn-color-fitted-level-0);\n  border: var(--sklearn-color-fitted-level-3);\n}\n\n.sk-estimator-doc-link:hover span {\n  display: block;\n}\n\n/* \"?\"-specific style due to the `<a>` HTML tag */\n\n#sk-container-id-2 a.estimator_doc_link {\n  float: right;\n  font-size: 1rem;\n  line-height: 1em;\n  font-family: monospace;\n  background-color: var(--sklearn-color-background);\n  border-radius: 1rem;\n  height: 1rem;\n  width: 1rem;\n  text-decoration: none;\n  /* unfitted */\n  color: var(--sklearn-color-unfitted-level-1);\n  border: var(--sklearn-color-unfitted-level-1) 1pt solid;\n}\n\n#sk-container-id-2 a.estimator_doc_link.fitted {\n  /* fitted */\n  border: var(--sklearn-color-fitted-level-1) 1pt solid;\n  color: var(--sklearn-color-fitted-level-1);\n}\n\n/* On hover */\n#sk-container-id-2 a.estimator_doc_link:hover {\n  /* unfitted */\n  background-color: var(--sklearn-color-unfitted-level-3);\n  color: var(--sklearn-color-background);\n  text-decoration: none;\n}\n\n#sk-container-id-2 a.estimator_doc_link.fitted:hover {\n  /* fitted */\n  background-color: var(--sklearn-color-fitted-level-3);\n}\n</style><div id=\"sk-container-id-2\" class=\"sk-top-container\"><div class=\"sk-text-repr-fallback\"><pre>LogisticRegression()</pre><b>In a Jupyter environment, please rerun this cell to show the HTML representation or trust the notebook. <br />On GitHub, the HTML representation is unable to render, please try loading this page with nbviewer.org.</b></div><div class=\"sk-container\" hidden><div class=\"sk-item\"><div class=\"sk-estimator fitted sk-toggleable\"><input class=\"sk-toggleable__control sk-hidden--visually\" id=\"sk-estimator-id-2\" type=\"checkbox\" checked><label for=\"sk-estimator-id-2\" class=\"sk-toggleable__label fitted sk-toggleable__label-arrow fitted\">&nbsp;&nbsp;LogisticRegression<a class=\"sk-estimator-doc-link fitted\" rel=\"noreferrer\" target=\"_blank\" href=\"https://scikit-learn.org/1.4/modules/generated/sklearn.linear_model.LogisticRegression.html\">?<span>Documentation for LogisticRegression</span></a><span class=\"sk-estimator-doc-link fitted\">i<span>Fitted</span></span></label><div class=\"sk-toggleable__content fitted\"><pre>LogisticRegression()</pre></div> </div></div></div></div>"
     },
     "execution_count": 37,
     "metadata": {},
     "output_type": "execute_result"
    }
   ],
   "source": [
    "# train model using training dataset\n",
    "lr.fit(X_train2, y_train2)"
   ]
  },
  {
   "cell_type": "code",
   "execution_count": 38,
   "id": "db8816f4",
   "metadata": {
    "ExecuteTime": {
     "end_time": "2024-03-08T07:10:39.783556Z",
     "start_time": "2024-03-08T07:10:39.772548Z"
    }
   },
   "outputs": [
    {
     "data": {
      "text/plain": "array([0.32543795])"
     },
     "execution_count": 38,
     "metadata": {},
     "output_type": "execute_result"
    }
   ],
   "source": [
    "# show the intercept of the trained model (Theta_0)\n",
    "lr.intercept_"
   ]
  },
  {
   "cell_type": "code",
   "execution_count": 40,
   "id": "8f699415",
   "metadata": {
    "ExecuteTime": {
     "end_time": "2024-03-08T07:11:02.322424Z",
     "start_time": "2024-03-08T07:11:02.308570Z"
    }
   },
   "outputs": [
    {
     "data": {
      "text/plain": "array([[ 2.03029355, -0.72899595,  0.74539314, -0.1912888 , -0.79816818,\n         0.58937157,  0.28322879,  1.43312313, -0.12889373,  1.74160209,\n        -1.42554823, -0.7010131 , -0.69665934,  0.18624132, -0.11311206,\n        -0.89213766, -0.1100484 , -0.5302992 ,  0.46528869,  0.42182144,\n         0.71271164]])"
     },
     "execution_count": 40,
     "metadata": {},
     "output_type": "execute_result"
    }
   ],
   "source": [
    "# show the coefficients of independent variables\n",
    "lr.coef_"
   ]
  },
  {
   "cell_type": "code",
   "execution_count": 41,
   "id": "34b8ddce",
   "metadata": {
    "ExecuteTime": {
     "end_time": "2024-03-08T07:11:05.841489Z",
     "start_time": "2024-03-08T07:11:05.822080Z"
    }
   },
   "outputs": [
    {
     "data": {
      "text/plain": "           Coefficient\nvotes         2.030294\nbudget       -0.728996\nruntime       0.745393\nComedy       -0.191289\nAction       -0.798168\nDrama         0.589372\nCrime         0.283229\nBiography     1.433123\nAdventure    -0.128894\nAnimation     1.741602\nHorror       -1.425548\nFantasy      -0.701013\nMystery      -0.696659\nThriller      0.186241\nFamily       -0.113112\nSci-Fi       -0.892138\nRomance      -0.110048\nWestern      -0.530299\nMusical       0.465289\nMusic         0.421821\nHistory       0.712712",
      "text/html": "<div>\n<style scoped>\n    .dataframe tbody tr th:only-of-type {\n        vertical-align: middle;\n    }\n\n    .dataframe tbody tr th {\n        vertical-align: top;\n    }\n\n    .dataframe thead th {\n        text-align: right;\n    }\n</style>\n<table border=\"1\" class=\"dataframe\">\n  <thead>\n    <tr style=\"text-align: right;\">\n      <th></th>\n      <th>Coefficient</th>\n    </tr>\n  </thead>\n  <tbody>\n    <tr>\n      <th>votes</th>\n      <td>2.030294</td>\n    </tr>\n    <tr>\n      <th>budget</th>\n      <td>-0.728996</td>\n    </tr>\n    <tr>\n      <th>runtime</th>\n      <td>0.745393</td>\n    </tr>\n    <tr>\n      <th>Comedy</th>\n      <td>-0.191289</td>\n    </tr>\n    <tr>\n      <th>Action</th>\n      <td>-0.798168</td>\n    </tr>\n    <tr>\n      <th>Drama</th>\n      <td>0.589372</td>\n    </tr>\n    <tr>\n      <th>Crime</th>\n      <td>0.283229</td>\n    </tr>\n    <tr>\n      <th>Biography</th>\n      <td>1.433123</td>\n    </tr>\n    <tr>\n      <th>Adventure</th>\n      <td>-0.128894</td>\n    </tr>\n    <tr>\n      <th>Animation</th>\n      <td>1.741602</td>\n    </tr>\n    <tr>\n      <th>Horror</th>\n      <td>-1.425548</td>\n    </tr>\n    <tr>\n      <th>Fantasy</th>\n      <td>-0.701013</td>\n    </tr>\n    <tr>\n      <th>Mystery</th>\n      <td>-0.696659</td>\n    </tr>\n    <tr>\n      <th>Thriller</th>\n      <td>0.186241</td>\n    </tr>\n    <tr>\n      <th>Family</th>\n      <td>-0.113112</td>\n    </tr>\n    <tr>\n      <th>Sci-Fi</th>\n      <td>-0.892138</td>\n    </tr>\n    <tr>\n      <th>Romance</th>\n      <td>-0.110048</td>\n    </tr>\n    <tr>\n      <th>Western</th>\n      <td>-0.530299</td>\n    </tr>\n    <tr>\n      <th>Musical</th>\n      <td>0.465289</td>\n    </tr>\n    <tr>\n      <th>Music</th>\n      <td>0.421821</td>\n    </tr>\n    <tr>\n      <th>History</th>\n      <td>0.712712</td>\n    </tr>\n  </tbody>\n</table>\n</div>"
     },
     "execution_count": 41,
     "metadata": {},
     "output_type": "execute_result"
    }
   ],
   "source": [
    "# show the coefficients of independent variables\n",
    "# apply flatten() to convert the 1Xn array back to nX1 array\n",
    "\n",
    "coeff_df = pd.DataFrame(lr.coef_.flatten(), X2.columns, columns=['Coefficient'])\n",
    "coeff_df"
   ]
  },
  {
   "cell_type": "code",
   "execution_count": 42,
   "id": "d54c37ab",
   "metadata": {
    "ExecuteTime": {
     "end_time": "2024-03-08T07:13:05.672867Z",
     "start_time": "2024-03-08T07:13:05.648831Z"
    }
   },
   "outputs": [
    {
     "name": "stdout",
     "output_type": "stream",
     "text": [
      "Accuracy: 0.7222946544980443\n"
     ]
    }
   ],
   "source": [
    "# import evaluation function from sklearn\n",
    "from sklearn.metrics import accuracy_score\n",
    "\n",
    "y_pred2 = lr.predict(X_test2)\n",
    "print(\"Accuracy:\", accuracy_score(y_test2, y_pred2))"
   ]
  },
  {
   "cell_type": "markdown",
   "id": "9353553d",
   "metadata": {},
   "source": [
    "## ROC Curve"
   ]
  },
  {
   "cell_type": "code",
   "execution_count": 43,
   "id": "705def60",
   "metadata": {
    "ExecuteTime": {
     "end_time": "2024-03-08T07:14:36.025654Z",
     "start_time": "2024-03-08T07:14:36.002648Z"
    }
   },
   "outputs": [
    {
     "data": {
      "text/plain": "array([[7.33539534e-01, 2.66460466e-01],\n       [5.36766066e-01, 4.63233934e-01],\n       [1.76698944e-09, 9.99999998e-01],\n       ...,\n       [8.41515223e-01, 1.58484777e-01],\n       [3.52972974e-01, 6.47027026e-01],\n       [7.85464879e-01, 2.14535121e-01]])"
     },
     "execution_count": 43,
     "metadata": {},
     "output_type": "execute_result"
    }
   ],
   "source": [
    "# get probabilities of each prediction\n",
    "\n",
    "proba_y = lr.predict_proba(X_test2)\n",
    "proba_y"
   ]
  },
  {
   "cell_type": "code",
   "execution_count": 44,
   "id": "311d8241",
   "metadata": {
    "ExecuteTime": {
     "end_time": "2024-03-08T07:14:45.947650Z",
     "start_time": "2024-03-08T07:14:45.923127Z"
    }
   },
   "outputs": [
    {
     "data": {
      "text/plain": "array([0.26646047, 0.46323393, 1.        , ..., 0.15848478, 0.64702703,\n       0.21453512])"
     },
     "execution_count": 44,
     "metadata": {},
     "output_type": "execute_result"
    }
   ],
   "source": [
    "# get the column of probabilities being 1 (high-level rating by customers)\n",
    "\n",
    "proba_y_1 = proba_y[:,1]\n",
    "proba_y_1"
   ]
  },
  {
   "cell_type": "code",
   "execution_count": 45,
   "id": "9b4e355e",
   "metadata": {
    "ExecuteTime": {
     "end_time": "2024-03-08T07:14:49.406202Z",
     "start_time": "2024-03-08T07:14:49.388153Z"
    }
   },
   "outputs": [],
   "source": [
    "from sklearn.metrics import roc_curve, auc\n",
    "from sklearn import metrics"
   ]
  },
  {
   "cell_type": "code",
   "execution_count": 46,
   "id": "09c01c1a",
   "metadata": {
    "ExecuteTime": {
     "end_time": "2024-03-08T07:14:53.667211Z",
     "start_time": "2024-03-08T07:14:53.645648Z"
    }
   },
   "outputs": [],
   "source": [
    "# get fpr, tpr, and thresholds\n",
    "\n",
    "fpr, tpr, thresholds = metrics.roc_curve(y_test2, proba_y_1, pos_label=1)"
   ]
  },
  {
   "cell_type": "code",
   "execution_count": 47,
   "id": "6a9c0ef6",
   "metadata": {
    "ExecuteTime": {
     "end_time": "2024-03-08T07:14:54.611254Z",
     "start_time": "2024-03-08T07:14:54.595253Z"
    }
   },
   "outputs": [],
   "source": [
    "# help(roc_curve)"
   ]
  },
  {
   "cell_type": "code",
   "execution_count": 48,
   "id": "be03f83d",
   "metadata": {
    "ExecuteTime": {
     "end_time": "2024-03-08T07:14:55.805440Z",
     "start_time": "2024-03-08T07:14:55.782797Z"
    }
   },
   "outputs": [
    {
     "data": {
      "text/plain": "array([0.        , 0.        , 0.        , 0.00132626, 0.00132626,\n       0.00397878, 0.00397878, 0.00530504, 0.00530504, 0.0066313 ,\n       0.0066313 , 0.00795756, 0.00795756, 0.00928382, 0.00928382,\n       0.01061008, 0.01061008, 0.0132626 , 0.0132626 , 0.01458886,\n       0.01458886, 0.01724138, 0.01724138, 0.01856764, 0.01856764,\n       0.0198939 , 0.0198939 , 0.02122016, 0.02122016, 0.02254642,\n       0.02254642, 0.02387268, 0.02387268, 0.02519894, 0.02519894,\n       0.02785146, 0.02785146, 0.02917772, 0.02917772, 0.03050398,\n       0.03050398, 0.03448276, 0.03448276, 0.03580902, 0.03580902,\n       0.03846154, 0.03846154, 0.0397878 , 0.0397878 , 0.04111406,\n       0.04111406, 0.04244032, 0.04244032, 0.04376658, 0.04376658,\n       0.04509284, 0.04509284, 0.04774536, 0.04774536, 0.04907162,\n       0.04907162, 0.05039788, 0.05039788, 0.0530504 , 0.0530504 ,\n       0.05437666, 0.05437666, 0.05570292, 0.05570292, 0.05702918,\n       0.05702918, 0.0596817 , 0.0596817 , 0.06100796, 0.06100796,\n       0.06233422, 0.06233422, 0.06366048, 0.06366048, 0.06498674,\n       0.06498674, 0.066313  , 0.066313  , 0.06763926, 0.06763926,\n       0.07029178, 0.07029178, 0.07692308, 0.07692308, 0.07824934,\n       0.07824934, 0.0795756 , 0.0795756 , 0.08090186, 0.08090186,\n       0.08355438, 0.08355438, 0.0862069 , 0.0862069 , 0.09018568,\n       0.09018568, 0.09151194, 0.09151194, 0.09416446, 0.09416446,\n       0.09549072, 0.09549072, 0.09681698, 0.09681698, 0.0994695 ,\n       0.0994695 , 0.10079576, 0.10079576, 0.10212202, 0.10212202,\n       0.10477454, 0.10477454, 0.1061008 , 0.1061008 , 0.10875332,\n       0.10875332, 0.11803714, 0.11803714, 0.1193634 , 0.1193634 ,\n       0.12068966, 0.12068966, 0.12201592, 0.12201592, 0.12466844,\n       0.12466844, 0.12599469, 0.12599469, 0.12732095, 0.12732095,\n       0.12864721, 0.12864721, 0.13262599, 0.13262599, 0.13395225,\n       0.13395225, 0.13527851, 0.13527851, 0.13925729, 0.13925729,\n       0.14190981, 0.14190981, 0.14323607, 0.14323607, 0.14588859,\n       0.14588859, 0.14721485, 0.14721485, 0.14854111, 0.14854111,\n       0.15384615, 0.15384615, 0.15517241, 0.15517241, 0.15782493,\n       0.15782493, 0.16180371, 0.16180371, 0.16312997, 0.16312997,\n       0.17108753, 0.17108753, 0.17241379, 0.17241379, 0.17771883,\n       0.17771883, 0.18037135, 0.18037135, 0.18169761, 0.18169761,\n       0.18302387, 0.18302387, 0.18700265, 0.18700265, 0.18832891,\n       0.18832891, 0.18965517, 0.18965517, 0.19230769, 0.19230769,\n       0.19363395, 0.19363395, 0.19628647, 0.19628647, 0.19893899,\n       0.19893899, 0.20159151, 0.20159151, 0.20291777, 0.20291777,\n       0.20424403, 0.20424403, 0.20689655, 0.20689655, 0.20822281,\n       0.20954907, 0.20954907, 0.21352785, 0.21352785, 0.21618037,\n       0.21618037, 0.21883289, 0.21883289, 0.22015915, 0.22015915,\n       0.22281167, 0.22281167, 0.22546419, 0.22546419, 0.22679045,\n       0.22679045, 0.22811671, 0.22811671, 0.23076923, 0.23076923,\n       0.23209549, 0.23209549, 0.23342175, 0.23342175, 0.23474801,\n       0.23474801, 0.23607427, 0.23607427, 0.24005305, 0.24005305,\n       0.24270557, 0.24270557, 0.24801061, 0.24801061, 0.25066313,\n       0.25066313, 0.25331565, 0.25331565, 0.25729443, 0.25729443,\n       0.25994695, 0.25994695, 0.26127321, 0.26127321, 0.26392573,\n       0.26392573, 0.26525199, 0.26525199, 0.26657825, 0.26657825,\n       0.26790451, 0.26790451, 0.27453581, 0.27453581, 0.27586207,\n       0.27586207, 0.27718833, 0.27718833, 0.27851459, 0.27851459,\n       0.28249337, 0.28249337, 0.28381963, 0.28381963, 0.28514589,\n       0.28514589, 0.28647215, 0.28647215, 0.28779841, 0.28779841,\n       0.29177719, 0.29177719, 0.29840849, 0.29840849, 0.29973475,\n       0.29973475, 0.30106101, 0.30106101, 0.30371353, 0.30371353,\n       0.30503979, 0.30503979, 0.30636605, 0.30769231, 0.30901857,\n       0.30901857, 0.31034483, 0.31034483, 0.31167109, 0.31167109,\n       0.31299735, 0.31299735, 0.31564987, 0.31564987, 0.31830239,\n       0.31830239, 0.31962865, 0.31962865, 0.32095491, 0.32095491,\n       0.32228117, 0.32228117, 0.32493369, 0.32493369, 0.32891247,\n       0.32891247, 0.33023873, 0.33023873, 0.33156499, 0.33156499,\n       0.33554377, 0.33554377, 0.33819629, 0.33819629, 0.33952255,\n       0.33952255, 0.34350133, 0.34350133, 0.35013263, 0.35013263,\n       0.35411141, 0.35411141, 0.35543767, 0.35543767, 0.35809019,\n       0.35809019, 0.36074271, 0.36074271, 0.36206897, 0.36206897,\n       0.36604775, 0.36604775, 0.37135279, 0.37135279, 0.37267905,\n       0.37267905, 0.37400531, 0.37400531, 0.37798408, 0.37798408,\n       0.37931034, 0.37931034, 0.38461538, 0.38461538, 0.38594164,\n       0.38594164, 0.3872679 , 0.3872679 , 0.38859416, 0.38859416,\n       0.39124668, 0.39124668, 0.39920424, 0.39920424, 0.40450928,\n       0.40450928, 0.40583554, 0.40583554, 0.40848806, 0.40848806,\n       0.41246684, 0.41246684, 0.41777188, 0.41777188, 0.4204244 ,\n       0.4204244 , 0.42175066, 0.42175066, 0.42838196, 0.42838196,\n       0.42970822, 0.42970822, 0.43103448, 0.43103448, 0.43236074,\n       0.43236074, 0.43501326, 0.43501326, 0.43633952, 0.43633952,\n       0.43766578, 0.43766578, 0.43899204, 0.43899204, 0.4403183 ,\n       0.4403183 , 0.44164456, 0.44164456, 0.4469496 , 0.4469496 ,\n       0.44960212, 0.44960212, 0.45092838, 0.45092838, 0.45490716,\n       0.45490716, 0.45623342, 0.45623342, 0.46153846, 0.46153846,\n       0.46551724, 0.46551724, 0.4668435 , 0.4668435 , 0.4734748 ,\n       0.4734748 , 0.48938992, 0.48938992, 0.49071618, 0.49071618,\n       0.49204244, 0.49204244, 0.4933687 , 0.4933687 , 0.49602122,\n       0.49602122, 0.49734748, 0.49734748, 0.50132626, 0.50132626,\n       0.50265252, 0.50265252, 0.50530504, 0.50530504, 0.5066313 ,\n       0.5066313 , 0.52387268, 0.52387268, 0.53183024, 0.53183024,\n       0.5331565 , 0.5331565 , 0.53846154, 0.53846154, 0.54111406,\n       0.54111406, 0.5464191 , 0.5464191 , 0.54907162, 0.54907162,\n       0.55570292, 0.55570292, 0.55835544, 0.55835544, 0.566313  ,\n       0.566313  , 0.56896552, 0.56896552, 0.57029178, 0.57029178,\n       0.57427056, 0.57427056, 0.57559682, 0.57559682, 0.57692308,\n       0.57692308, 0.58355438, 0.58355438, 0.59151194, 0.59151194,\n       0.59681698, 0.59681698, 0.59814324, 0.59814324, 0.61140584,\n       0.61140584, 0.61538462, 0.61538462, 0.61671088, 0.61671088,\n       0.62201592, 0.62201592, 0.62334218, 0.62334218, 0.62466844,\n       0.62599469, 0.62732095, 0.62732095, 0.63395225, 0.63395225,\n       0.64058355, 0.64058355, 0.64323607, 0.64323607, 0.64986737,\n       0.64986737, 0.65384615, 0.65384615, 0.66843501, 0.66843501,\n       0.67241379, 0.67241379, 0.67506631, 0.67506631, 0.68435013,\n       0.68435013, 0.68567639, 0.68567639, 0.70159151, 0.70159151,\n       0.70424403, 0.70424403, 0.71883289, 0.71883289, 0.73342175,\n       0.73342175, 0.73740053, 0.73740053, 0.74668435, 0.74668435,\n       0.75198939, 0.75198939, 0.75862069, 0.75862069, 0.77984085,\n       0.77984085, 0.78381963, 0.78381963, 0.78514589, 0.78514589,\n       0.80371353, 0.80371353, 0.80901857, 0.80901857, 0.83289125,\n       0.83289125, 0.83952255, 0.83952255, 0.84880637, 0.84880637,\n       0.85145889, 0.85145889, 0.86604775, 0.86604775, 0.87533156,\n       0.87533156, 0.88196286, 0.88196286, 0.88328912, 0.88328912,\n       0.89920424, 0.89920424, 0.9005305 , 0.9005305 , 0.90583554,\n       0.90583554, 0.9137931 , 0.9137931 , 0.91777188, 0.91777188,\n       0.93103448, 0.93103448, 0.933687  , 0.933687  , 0.9535809 ,\n       0.9535809 , 0.98143236, 0.98143236, 0.99602122, 0.99602122,\n       1.        ])"
     },
     "execution_count": 48,
     "metadata": {},
     "output_type": "execute_result"
    }
   ],
   "source": [
    "fpr"
   ]
  },
  {
   "cell_type": "code",
   "execution_count": 49,
   "id": "ba38ae2d",
   "metadata": {
    "ExecuteTime": {
     "end_time": "2024-03-08T07:15:04.801501Z",
     "start_time": "2024-03-08T07:15:04.788994Z"
    }
   },
   "outputs": [
    {
     "data": {
      "text/plain": "array([0.        , 0.00128205, 0.22051282, 0.22051282, 0.22435897,\n       0.22435897, 0.22948718, 0.22948718, 0.26153846, 0.26153846,\n       0.26410256, 0.26410256, 0.28589744, 0.28589744, 0.31282051,\n       0.31282051, 0.31666667, 0.31666667, 0.34487179, 0.34487179,\n       0.3474359 , 0.3474359 , 0.35769231, 0.35769231, 0.37307692,\n       0.37307692, 0.37564103, 0.37564103, 0.37820513, 0.37820513,\n       0.38717949, 0.38717949, 0.39102564, 0.39102564, 0.39230769,\n       0.39230769, 0.39615385, 0.39615385, 0.3974359 , 0.3974359 ,\n       0.39871795, 0.39871795, 0.4       , 0.4       , 0.41282051,\n       0.41282051, 0.41794872, 0.41794872, 0.42307692, 0.42307692,\n       0.42435897, 0.42435897, 0.42564103, 0.42564103, 0.42820513,\n       0.42820513, 0.42948718, 0.42948718, 0.43076923, 0.43076923,\n       0.43461538, 0.43461538, 0.43717949, 0.43717949, 0.43974359,\n       0.43974359, 0.44102564, 0.44102564, 0.44358974, 0.44358974,\n       0.44615385, 0.44615385, 0.4474359 , 0.4474359 , 0.45      ,\n       0.45      , 0.45384615, 0.45384615, 0.45769231, 0.45769231,\n       0.46025641, 0.46025641, 0.46282051, 0.46282051, 0.46410256,\n       0.46410256, 0.46538462, 0.46538462, 0.46666667, 0.46666667,\n       0.47692308, 0.47692308, 0.47820513, 0.47820513, 0.48717949,\n       0.48717949, 0.48974359, 0.48974359, 0.49358974, 0.49358974,\n       0.49615385, 0.49615385, 0.50641026, 0.50641026, 0.50769231,\n       0.50769231, 0.50897436, 0.50897436, 0.51410256, 0.51410256,\n       0.51666667, 0.51666667, 0.52179487, 0.52179487, 0.52435897,\n       0.52435897, 0.52820513, 0.52820513, 0.52948718, 0.52948718,\n       0.53076923, 0.53076923, 0.53717949, 0.53717949, 0.54102564,\n       0.54102564, 0.5525641 , 0.5525641 , 0.55897436, 0.55897436,\n       0.56153846, 0.56153846, 0.56538462, 0.56538462, 0.56794872,\n       0.56794872, 0.57051282, 0.57051282, 0.57435897, 0.57435897,\n       0.57564103, 0.57564103, 0.57692308, 0.57692308, 0.58461538,\n       0.58461538, 0.58589744, 0.58589744, 0.59230769, 0.59230769,\n       0.59358974, 0.59358974, 0.59487179, 0.59487179, 0.5974359 ,\n       0.5974359 , 0.59871795, 0.59871795, 0.6       , 0.6       ,\n       0.6025641 , 0.6025641 , 0.60384615, 0.60384615, 0.60512821,\n       0.60512821, 0.60641026, 0.60641026, 0.60769231, 0.60769231,\n       0.60897436, 0.60897436, 0.61025641, 0.61025641, 0.61282051,\n       0.61282051, 0.61410256, 0.61410256, 0.61538462, 0.61538462,\n       0.61923077, 0.61923077, 0.62179487, 0.62179487, 0.62307692,\n       0.62307692, 0.62820513, 0.62820513, 0.63205128, 0.63205128,\n       0.63717949, 0.63717949, 0.63974359, 0.63974359, 0.64230769,\n       0.64230769, 0.64358974, 0.64358974, 0.65      , 0.65      ,\n       0.65128205, 0.65512821, 0.65512821, 0.66025641, 0.66025641,\n       0.66538462, 0.66538462, 0.66794872, 0.66794872, 0.66923077,\n       0.66923077, 0.67051282, 0.67051282, 0.67307692, 0.67307692,\n       0.67435897, 0.67435897, 0.67820513, 0.67820513, 0.68205128,\n       0.68205128, 0.68461538, 0.68461538, 0.68717949, 0.68717949,\n       0.69102564, 0.69102564, 0.69358974, 0.69358974, 0.69487179,\n       0.69487179, 0.70128205, 0.70128205, 0.7025641 , 0.7025641 ,\n       0.70384615, 0.70384615, 0.71025641, 0.71025641, 0.71153846,\n       0.71153846, 0.71282051, 0.71282051, 0.71410256, 0.71410256,\n       0.71538462, 0.71538462, 0.71794872, 0.71794872, 0.72051282,\n       0.72051282, 0.72179487, 0.72179487, 0.72307692, 0.72307692,\n       0.72435897, 0.72435897, 0.72820513, 0.72820513, 0.72948718,\n       0.72948718, 0.73076923, 0.73076923, 0.73205128, 0.73205128,\n       0.73589744, 0.73589744, 0.73846154, 0.73846154, 0.73974359,\n       0.73974359, 0.74102564, 0.74102564, 0.74230769, 0.74230769,\n       0.74358974, 0.74358974, 0.7474359 , 0.7474359 , 0.74871795,\n       0.74871795, 0.75      , 0.75      , 0.75128205, 0.75128205,\n       0.7525641 , 0.7525641 , 0.75384615, 0.75384615, 0.75641026,\n       0.75641026, 0.75897436, 0.75897436, 0.76025641, 0.76025641,\n       0.76538462, 0.76538462, 0.76666667, 0.76666667, 0.76923077,\n       0.76923077, 0.77307692, 0.77307692, 0.77435897, 0.77435897,\n       0.77564103, 0.77564103, 0.77692308, 0.77692308, 0.77820513,\n       0.77820513, 0.77948718, 0.77948718, 0.78076923, 0.78076923,\n       0.78205128, 0.78205128, 0.78333333, 0.78333333, 0.78589744,\n       0.78589744, 0.78717949, 0.78717949, 0.78974359, 0.78974359,\n       0.79102564, 0.79102564, 0.79230769, 0.79230769, 0.79487179,\n       0.79487179, 0.79615385, 0.79615385, 0.79871795, 0.79871795,\n       0.8       , 0.8       , 0.8025641 , 0.8025641 , 0.80512821,\n       0.80512821, 0.80769231, 0.80769231, 0.80897436, 0.80897436,\n       0.81025641, 0.81025641, 0.81153846, 0.81153846, 0.81282051,\n       0.81282051, 0.81410256, 0.81410256, 0.81538462, 0.81538462,\n       0.81666667, 0.81666667, 0.81794872, 0.81794872, 0.82051282,\n       0.82051282, 0.82179487, 0.82179487, 0.82435897, 0.82435897,\n       0.82820513, 0.82820513, 0.83205128, 0.83205128, 0.83333333,\n       0.83333333, 0.83461538, 0.83461538, 0.83589744, 0.83589744,\n       0.83717949, 0.83717949, 0.83846154, 0.83846154, 0.84102564,\n       0.84102564, 0.84230769, 0.84230769, 0.84358974, 0.84358974,\n       0.84615385, 0.84615385, 0.85      , 0.85      , 0.85128205,\n       0.85128205, 0.8525641 , 0.8525641 , 0.85384615, 0.85384615,\n       0.85512821, 0.85512821, 0.85641026, 0.85641026, 0.85897436,\n       0.85897436, 0.86282051, 0.86282051, 0.86410256, 0.86410256,\n       0.86538462, 0.86538462, 0.86666667, 0.86666667, 0.87051282,\n       0.87051282, 0.87179487, 0.87179487, 0.87307692, 0.87307692,\n       0.87435897, 0.87435897, 0.87692308, 0.87692308, 0.87820513,\n       0.87820513, 0.87948718, 0.87948718, 0.88205128, 0.88205128,\n       0.88333333, 0.88333333, 0.88717949, 0.88717949, 0.88846154,\n       0.88846154, 0.89102564, 0.89102564, 0.89358974, 0.89358974,\n       0.89487179, 0.89487179, 0.89615385, 0.89615385, 0.8974359 ,\n       0.8974359 , 0.89871795, 0.89871795, 0.9       , 0.9       ,\n       0.90128205, 0.90128205, 0.9025641 , 0.9025641 , 0.90641026,\n       0.90641026, 0.90769231, 0.90769231, 0.90897436, 0.90897436,\n       0.91153846, 0.91153846, 0.91282051, 0.91282051, 0.91538462,\n       0.91538462, 0.91666667, 0.91666667, 0.91794872, 0.91794872,\n       0.91923077, 0.91923077, 0.92051282, 0.92051282, 0.92179487,\n       0.92179487, 0.92307692, 0.92307692, 0.92435897, 0.92435897,\n       0.92564103, 0.92564103, 0.92820513, 0.92820513, 0.93076923,\n       0.93076923, 0.93461538, 0.93461538, 0.93589744, 0.93589744,\n       0.93717949, 0.93717949, 0.93846154, 0.93846154, 0.93974359,\n       0.93974359, 0.94102564, 0.94102564, 0.94358974, 0.94358974,\n       0.94487179, 0.94487179, 0.94615385, 0.94615385, 0.94871795,\n       0.94871795, 0.95      , 0.95      , 0.95128205, 0.95128205,\n       0.95384615, 0.95384615, 0.95641026, 0.95641026, 0.95897436,\n       0.95897436, 0.96025641, 0.96025641, 0.96153846, 0.96153846,\n       0.96666667, 0.96666667, 0.96923077, 0.96923077, 0.97051282,\n       0.97051282, 0.97307692, 0.97307692, 0.97435897, 0.97435897,\n       0.97564103, 0.97564103, 0.97820513, 0.97820513, 0.97948718,\n       0.97948718, 0.98076923, 0.98076923, 0.98205128, 0.98205128,\n       0.98333333, 0.98333333, 0.98461538, 0.98461538, 0.98589744,\n       0.98589744, 0.98717949, 0.98717949, 0.98846154, 0.98846154,\n       0.98974359, 0.98974359, 0.99230769, 0.99230769, 0.99358974,\n       0.99358974, 0.99487179, 0.99487179, 0.99615385, 0.99615385,\n       0.9974359 , 0.9974359 , 0.99871795, 0.99871795, 1.        ,\n       1.        ])"
     },
     "execution_count": 49,
     "metadata": {},
     "output_type": "execute_result"
    }
   ],
   "source": [
    "tpr"
   ]
  },
  {
   "cell_type": "code",
   "execution_count": 50,
   "id": "c5328829",
   "metadata": {
    "ExecuteTime": {
     "end_time": "2024-03-08T07:15:17.072471Z",
     "start_time": "2024-03-08T07:15:17.058069Z"
    }
   },
   "outputs": [
    {
     "data": {
      "text/plain": "array([       inf, 1.        , 0.89991145, 0.89885349, 0.897439  ,\n       0.89568804, 0.89335326, 0.89227329, 0.86600141, 0.86378087,\n       0.86286509, 0.86229687, 0.8485043 , 0.84611997, 0.82960097,\n       0.82714208, 0.82363323, 0.82254054, 0.80758537, 0.80694337,\n       0.80414649, 0.801529  , 0.79228231, 0.79120867, 0.78262614,\n       0.78011773, 0.77851853, 0.77847227, 0.7774786 , 0.77658682,\n       0.77201679, 0.77151999, 0.76925979, 0.76921114, 0.76825251,\n       0.76555664, 0.76382583, 0.76344843, 0.76172848, 0.76145541,\n       0.76137946, 0.75704042, 0.75685294, 0.75656136, 0.74855529,\n       0.74822325, 0.74434223, 0.7430996 , 0.73995536, 0.73965761,\n       0.73884146, 0.7382042 , 0.73777727, 0.73693336, 0.73490429,\n       0.7348984 , 0.73475922, 0.73254162, 0.73145151, 0.72976176,\n       0.7251239 , 0.72099567, 0.71800717, 0.71757578, 0.71709924,\n       0.71683863, 0.71629136, 0.71604998, 0.71501082, 0.71401698,\n       0.7128829 , 0.70977876, 0.70946234, 0.709214  , 0.70717669,\n       0.70708689, 0.7051083 , 0.70297388, 0.7006389 , 0.70043663,\n       0.70005798, 0.69727451, 0.69684136, 0.69575267, 0.69564628,\n       0.69534935, 0.69376548, 0.68872605, 0.6866268 , 0.6857033 ,\n       0.68236156, 0.68228371, 0.67986928, 0.6795216 , 0.67572391,\n       0.67465796, 0.67269344, 0.66985646, 0.66794114, 0.66484066,\n       0.66363142, 0.66346039, 0.6554563 , 0.65419772, 0.65419659,\n       0.65324916, 0.65294829, 0.65292264, 0.65062947, 0.64953394,\n       0.64702703, 0.64582161, 0.64240135, 0.64201896, 0.63864496,\n       0.63736965, 0.63631682, 0.6356976 , 0.6339019 , 0.63157237,\n       0.63151498, 0.62701839, 0.61812511, 0.61752395, 0.61709456,\n       0.61707858, 0.61307426, 0.61252019, 0.60499266, 0.6038791 ,\n       0.6002721 , 0.59878267, 0.59521165, 0.59500871, 0.59404673,\n       0.59254807, 0.59160266, 0.5878856 , 0.58310095, 0.58260403,\n       0.58255651, 0.58223426, 0.58188956, 0.57915636, 0.57587824,\n       0.57469259, 0.57405873, 0.57375045, 0.57178537, 0.57037321,\n       0.56741448, 0.56571689, 0.56456842, 0.56408193, 0.56277566,\n       0.56106092, 0.56102146, 0.56074241, 0.55834626, 0.55687773,\n       0.55498423, 0.55380731, 0.55329247, 0.55251369, 0.55234054,\n       0.54950458, 0.54910022, 0.5487886 , 0.54856539, 0.54604177,\n       0.54476398, 0.54475615, 0.5427373 , 0.54197357, 0.54105333,\n       0.539107  , 0.5374849 , 0.53715059, 0.53646757, 0.53472242,\n       0.53164599, 0.53116545, 0.53080423, 0.53055008, 0.53006035,\n       0.52999649, 0.52761005, 0.52478445, 0.52429573, 0.52254193,\n       0.5205318 , 0.52039082, 0.5203427 , 0.51908273, 0.51886721,\n       0.51869515, 0.51733278, 0.51677637, 0.51397229, 0.5126509 ,\n       0.51166924, 0.51010938, 0.50847732, 0.50602025, 0.50467194,\n       0.50069364, 0.50039581, 0.49912387, 0.4981075 , 0.49790299,\n       0.49697641, 0.49498704, 0.49401284, 0.49301933, 0.49298014,\n       0.49146036, 0.49144627, 0.49000769, 0.4877855 , 0.48651423,\n       0.48632596, 0.48591357, 0.48564076, 0.48550345, 0.48425869,\n       0.48342424, 0.48242652, 0.48185343, 0.48034174, 0.47954833,\n       0.47750777, 0.47455718, 0.47163629, 0.47105837, 0.47007017,\n       0.46997439, 0.46706181, 0.46582913, 0.4635241 , 0.46336598,\n       0.46323393, 0.46322643, 0.46314713, 0.46287912, 0.46150621,\n       0.46093225, 0.46006671, 0.45952192, 0.45872261, 0.45739482,\n       0.45732336, 0.4570953 , 0.4548512 , 0.45452776, 0.45434251,\n       0.45424948, 0.45239166, 0.45067321, 0.45016337, 0.44954453,\n       0.44818623, 0.44807785, 0.44806688, 0.44758435, 0.44689731,\n       0.44631719, 0.44604765, 0.44561909, 0.44508415, 0.44404927,\n       0.44271149, 0.44267755, 0.44009678, 0.43803647, 0.43798163,\n       0.43773936, 0.43589504, 0.4320111 , 0.43169409, 0.43162526,\n       0.43122776, 0.43038144, 0.42926889, 0.42907071, 0.42906479,\n       0.42854058, 0.42658858, 0.42658144, 0.42588581, 0.4254658 ,\n       0.42505982, 0.42425551, 0.42337571, 0.42323321, 0.42310265,\n       0.42171783, 0.4211577 , 0.42103178, 0.42056967, 0.42055479,\n       0.42026051, 0.41802268, 0.41744519, 0.41717447, 0.41597216,\n       0.41589046, 0.41546776, 0.41522112, 0.41470338, 0.41469789,\n       0.41236228, 0.41180238, 0.41114994, 0.41080833, 0.4095989 ,\n       0.40958118, 0.40885933, 0.40863632, 0.40791776, 0.40711988,\n       0.40505443, 0.40467498, 0.40458834, 0.4042188 , 0.40154952,\n       0.4009752 , 0.39981002, 0.39945855, 0.39896359, 0.39837729,\n       0.39711208, 0.39659855, 0.39510173, 0.39399284, 0.39366846,\n       0.39338863, 0.39330459, 0.39255343, 0.39098914, 0.39030112,\n       0.38939312, 0.3887284 , 0.38694082, 0.38598681, 0.38520226,\n       0.38513104, 0.38443381, 0.38327718, 0.38300523, 0.38202576,\n       0.38177679, 0.38121324, 0.37932931, 0.37910861, 0.37628958,\n       0.37623706, 0.37604225, 0.3753684 , 0.3732919 , 0.37220244,\n       0.37135198, 0.37066275, 0.36925035, 0.36868766, 0.36810844,\n       0.36692429, 0.36650274, 0.365539  , 0.36291192, 0.36264202,\n       0.36206054, 0.36145563, 0.36137184, 0.36135149, 0.36103977,\n       0.36057058, 0.35868281, 0.35812877, 0.35800704, 0.35756575,\n       0.35698632, 0.35659236, 0.35513767, 0.35498519, 0.35494141,\n       0.35479603, 0.35449609, 0.3519929 , 0.35100954, 0.35041365,\n       0.34925719, 0.34808001, 0.34641746, 0.34598092, 0.34306435,\n       0.34258787, 0.34179618, 0.34167962, 0.34089484, 0.34080363,\n       0.34027718, 0.3384655 , 0.33834255, 0.33708283, 0.33476213,\n       0.33459071, 0.32683288, 0.32633746, 0.32567857, 0.3248709 ,\n       0.32422104, 0.32395224, 0.32264399, 0.32227006, 0.3187787 ,\n       0.31784733, 0.31698819, 0.31622708, 0.31533627, 0.31532362,\n       0.31466633, 0.31452605, 0.31338969, 0.31310452, 0.31299253,\n       0.31237815, 0.30461378, 0.30366891, 0.30067531, 0.30053772,\n       0.29842869, 0.29662064, 0.294237  , 0.29275225, 0.29214536,\n       0.29160029, 0.29002585, 0.28947764, 0.2879796 , 0.28761949,\n       0.28390069, 0.28258874, 0.28198895, 0.28187207, 0.27844603,\n       0.27822923, 0.27791015, 0.27777453, 0.2774872 , 0.27560678,\n       0.27505712, 0.27492599, 0.27485752, 0.27475106, 0.27378701,\n       0.27257891, 0.27090223, 0.27057683, 0.26481774, 0.26369112,\n       0.26011059, 0.25987543, 0.25986103, 0.25924208, 0.25651646,\n       0.25621793, 0.25400341, 0.25342445, 0.25261513, 0.25139752,\n       0.24739786, 0.24727182, 0.247013  , 0.24664106, 0.24625114,\n       0.24517428, 0.24430541, 0.24340037, 0.24153258, 0.24080822,\n       0.23954891, 0.23805428, 0.23794208, 0.23531646, 0.23164775,\n       0.230828  , 0.22838787, 0.2280095 , 0.22381921, 0.22356992,\n       0.22231042, 0.22185073, 0.22030128, 0.21970536, 0.2147095 ,\n       0.21453512, 0.21414548, 0.21411603, 0.20967371, 0.20914073,\n       0.20874798, 0.20852287, 0.20429925, 0.20356226, 0.20064837,\n       0.20014138, 0.19986452, 0.19925597, 0.19692855, 0.19658243,\n       0.1952353 , 0.19521463, 0.19243105, 0.19185944, 0.18425202,\n       0.18352067, 0.18266543, 0.18230322, 0.18129837, 0.18129788,\n       0.17185295, 0.17157247, 0.16968861, 0.16923948, 0.1614715 ,\n       0.16085405, 0.16057372, 0.15928275, 0.15681516, 0.15635302,\n       0.1547736 , 0.15436243, 0.15053615, 0.15034535, 0.14832346,\n       0.14780299, 0.14277432, 0.14233708, 0.14208369, 0.14153124,\n       0.13475207, 0.13461741, 0.1343027 , 0.13346278, 0.13049755,\n       0.1303307 , 0.12808889, 0.12544192, 0.12425391, 0.12398582,\n       0.11916961, 0.118741  , 0.11850079, 0.11745813, 0.10415323,\n       0.10362781, 0.08407973, 0.08121034, 0.05740545, 0.05290152,\n       0.03624445])"
     },
     "execution_count": 50,
     "metadata": {},
     "output_type": "execute_result"
    }
   ],
   "source": [
    "thresholds"
   ]
  },
  {
   "cell_type": "code",
   "execution_count": 51,
   "id": "a1824c81",
   "metadata": {
    "ExecuteTime": {
     "end_time": "2024-03-08T07:15:19.792660Z",
     "start_time": "2024-03-08T07:15:19.242352Z"
    }
   },
   "outputs": [],
   "source": [
    "# plot roc curve\n",
    "\n",
    "import matplotlib as mpl\n",
    "import matplotlib.pyplot as plt"
   ]
  },
  {
   "cell_type": "code",
   "execution_count": 52,
   "id": "00c49a09",
   "metadata": {
    "ExecuteTime": {
     "end_time": "2024-03-08T07:15:21.514424Z",
     "start_time": "2024-03-08T07:15:20.872123Z"
    }
   },
   "outputs": [
    {
     "data": {
      "text/plain": "<Figure size 640x480 with 1 Axes>",
      "image/png": "[encoded data removed]"
     },
     "metadata": {},
     "output_type": "display_data"
    }
   ],
   "source": [
    "plt.plot(fpr,tpr)\n",
    "plt.show()"
   ]
  },
  {
   "cell_type": "code",
   "execution_count": 53,
   "id": "d30facd2",
   "metadata": {
    "ExecuteTime": {
     "end_time": "2024-03-08T07:15:27.811802Z",
     "start_time": "2024-03-08T07:15:27.799744Z"
    }
   },
   "outputs": [
    {
     "data": {
      "text/plain": "0.8097454601101814"
     },
     "execution_count": 53,
     "metadata": {},
     "output_type": "execute_result"
    }
   ],
   "source": [
    "# auc (area under ROC curve)\n",
    "metrics.auc(fpr, tpr)"
   ]
  },
  {
   "cell_type": "code",
   "execution_count": null,
   "id": "b5277b35-17b1-48a8-8cb3-257a129fd7c6",
   "metadata": {},
   "outputs": [],
   "source": [
    "\n"
   ]
  }
 ],
 "metadata": {
  "kernelspec": {
   "display_name": "Python 3 (ipykernel)",
   "language": "python",
   "name": "python3"
  },
  "language_info": {
   "codemirror_mode": {
    "name": "ipython",
    "version": 3
   },
   "file_extension": ".py",
   "mimetype": "text/x-python",
   "name": "python",
   "nbconvert_exporter": "python",
   "pygments_lexer": "ipython3",
   "version": "3.9.13"
  }
 },
 "nbformat": 4,
 "nbformat_minor": 5
}
