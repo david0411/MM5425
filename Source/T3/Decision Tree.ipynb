{
 "cells": [
  {
   "cell_type": "markdown",
   "metadata": {},
   "source": [
    "# Decision Tree"
   ]
  },
  {
   "cell_type": "markdown",
   "metadata": {},
   "source": [
    "## Load Data and Data Preprocessing"
   ]
  },
  {
   "cell_type": "code",
   "execution_count": 2,
   "metadata": {
    "ExecuteTime": {
     "end_time": "2024-02-23T05:25:18.927814900Z",
     "start_time": "2024-02-23T05:25:16.167342800Z"
    }
   },
   "outputs": [],
   "source": [
    "import numpy as np\n",
    "import pandas as pd"
   ]
  },
  {
   "cell_type": "code",
   "execution_count": 3,
   "metadata": {
    "ExecuteTime": {
     "end_time": "2024-02-23T05:25:19.959242900Z",
     "start_time": "2024-02-23T05:25:19.824151Z"
    }
   },
   "outputs": [],
   "source": [
    "# load training dataset (same supermarket dataset in last tutorial)\n",
    "\n",
    "df = pd.read_csv('supermarket_sales.csv')"
   ]
  },
  {
   "cell_type": "code",
   "execution_count": 4,
   "metadata": {
    "ExecuteTime": {
     "end_time": "2024-02-23T05:25:22.283355Z",
     "start_time": "2024-02-23T05:25:22.068456900Z"
    }
   },
   "outputs": [
    {
     "data": {
      "text/plain": "    Invoice ID Branch       City Customer type  Gender  \\\n0  750-67-8428      A     Yangon        Member  Female   \n1  226-31-3081      C  Naypyitaw        Normal  Female   \n2  631-41-3108      A     Yangon        Normal    Male   \n3  123-19-1176      A     Yangon        Member    Male   \n4  373-73-7910      A     Yangon        Normal    Male   \n\n             Product line  Unit price  Quantity   Tax 5%     Total       Date  \\\n0       Health and beauty       74.69         7  26.1415  548.9715   1/5/2019   \n1  Electronic accessories       15.28         5   3.8200   80.2200   3/8/2019   \n2      Home and lifestyle       46.33         7  16.2155  340.5255   3/3/2019   \n3       Health and beauty       58.22         8  23.2880  489.0480  1/27/2019   \n4       Sports and travel       86.31         7  30.2085  634.3785   2/8/2019   \n\n    Time      Payment    cogs  gross margin percentage  gross income  Rating  \n0  13:08      Ewallet  522.83                 4.761905       26.1415     9.1  \n1  10:29         Cash   76.40                 4.761905        3.8200     9.6  \n2  13:23  Credit card  324.31                 4.761905       16.2155     7.4  \n3  20:33      Ewallet  465.76                 4.761905       23.2880     8.4  \n4  10:37      Ewallet  604.17                 4.761905       30.2085     5.3  ",
      "text/html": "<div>\n<style scoped>\n    .dataframe tbody tr th:only-of-type {\n        vertical-align: middle;\n    }\n\n    .dataframe tbody tr th {\n        vertical-align: top;\n    }\n\n    .dataframe thead th {\n        text-align: right;\n    }\n</style>\n<table border=\"1\" class=\"dataframe\">\n  <thead>\n    <tr style=\"text-align: right;\">\n      <th></th>\n      <th>Invoice ID</th>\n      <th>Branch</th>\n      <th>City</th>\n      <th>Customer type</th>\n      <th>Gender</th>\n      <th>Product line</th>\n      <th>Unit price</th>\n      <th>Quantity</th>\n      <th>Tax 5%</th>\n      <th>Total</th>\n      <th>Date</th>\n      <th>Time</th>\n      <th>Payment</th>\n      <th>cogs</th>\n      <th>gross margin percentage</th>\n      <th>gross income</th>\n      <th>Rating</th>\n    </tr>\n  </thead>\n  <tbody>\n    <tr>\n      <th>0</th>\n      <td>750-67-8428</td>\n      <td>A</td>\n      <td>Yangon</td>\n      <td>Member</td>\n      <td>Female</td>\n      <td>Health and beauty</td>\n      <td>74.69</td>\n      <td>7</td>\n      <td>26.1415</td>\n      <td>548.9715</td>\n      <td>1/5/2019</td>\n      <td>13:08</td>\n      <td>Ewallet</td>\n      <td>522.83</td>\n      <td>4.761905</td>\n      <td>26.1415</td>\n      <td>9.1</td>\n    </tr>\n    <tr>\n      <th>1</th>\n      <td>226-31-3081</td>\n      <td>C</td>\n      <td>Naypyitaw</td>\n      <td>Normal</td>\n      <td>Female</td>\n      <td>Electronic accessories</td>\n      <td>15.28</td>\n      <td>5</td>\n      <td>3.8200</td>\n      <td>80.2200</td>\n      <td>3/8/2019</td>\n      <td>10:29</td>\n      <td>Cash</td>\n      <td>76.40</td>\n      <td>4.761905</td>\n      <td>3.8200</td>\n      <td>9.6</td>\n    </tr>\n    <tr>\n      <th>2</th>\n      <td>631-41-3108</td>\n      <td>A</td>\n      <td>Yangon</td>\n      <td>Normal</td>\n      <td>Male</td>\n      <td>Home and lifestyle</td>\n      <td>46.33</td>\n      <td>7</td>\n      <td>16.2155</td>\n      <td>340.5255</td>\n      <td>3/3/2019</td>\n      <td>13:23</td>\n      <td>Credit card</td>\n      <td>324.31</td>\n      <td>4.761905</td>\n      <td>16.2155</td>\n      <td>7.4</td>\n    </tr>\n    <tr>\n      <th>3</th>\n      <td>123-19-1176</td>\n      <td>A</td>\n      <td>Yangon</td>\n      <td>Member</td>\n      <td>Male</td>\n      <td>Health and beauty</td>\n      <td>58.22</td>\n      <td>8</td>\n      <td>23.2880</td>\n      <td>489.0480</td>\n      <td>1/27/2019</td>\n      <td>20:33</td>\n      <td>Ewallet</td>\n      <td>465.76</td>\n      <td>4.761905</td>\n      <td>23.2880</td>\n      <td>8.4</td>\n    </tr>\n    <tr>\n      <th>4</th>\n      <td>373-73-7910</td>\n      <td>A</td>\n      <td>Yangon</td>\n      <td>Normal</td>\n      <td>Male</td>\n      <td>Sports and travel</td>\n      <td>86.31</td>\n      <td>7</td>\n      <td>30.2085</td>\n      <td>634.3785</td>\n      <td>2/8/2019</td>\n      <td>10:37</td>\n      <td>Ewallet</td>\n      <td>604.17</td>\n      <td>4.761905</td>\n      <td>30.2085</td>\n      <td>5.3</td>\n    </tr>\n  </tbody>\n</table>\n</div>"
     },
     "execution_count": 4,
     "metadata": {},
     "output_type": "execute_result"
    }
   ],
   "source": [
    "df.head()"
   ]
  },
  {
   "cell_type": "markdown",
   "metadata": {},
   "source": [
    "### Fill Missing Values"
   ]
  },
  {
   "cell_type": "markdown",
   "metadata": {},
   "source": [
    "- feature preprocessing"
   ]
  },
  {
   "cell_type": "code",
   "execution_count": 5,
   "metadata": {
    "ExecuteTime": {
     "end_time": "2024-02-23T05:25:25.575777900Z",
     "start_time": "2024-02-23T05:25:25.465344700Z"
    }
   },
   "outputs": [
    {
     "name": "stdout",
     "output_type": "stream",
     "text": [
      "<class 'pandas.core.frame.DataFrame'>\n",
      "RangeIndex: 1000 entries, 0 to 999\n",
      "Data columns (total 17 columns):\n",
      " #   Column                   Non-Null Count  Dtype  \n",
      "---  ------                   --------------  -----  \n",
      " 0   Invoice ID               1000 non-null   object \n",
      " 1   Branch                   1000 non-null   object \n",
      " 2   City                     1000 non-null   object \n",
      " 3   Customer type            1000 non-null   object \n",
      " 4   Gender                   1000 non-null   object \n",
      " 5   Product line             1000 non-null   object \n",
      " 6   Unit price               1000 non-null   float64\n",
      " 7   Quantity                 1000 non-null   int64  \n",
      " 8   Tax 5%                   1000 non-null   float64\n",
      " 9   Total                    1000 non-null   float64\n",
      " 10  Date                     1000 non-null   object \n",
      " 11  Time                     1000 non-null   object \n",
      " 12  Payment                  998 non-null    object \n",
      " 13  cogs                     1000 non-null   float64\n",
      " 14  gross margin percentage  1000 non-null   float64\n",
      " 15  gross income             1000 non-null   float64\n",
      " 16  Rating                   985 non-null    float64\n",
      "dtypes: float64(7), int64(1), object(9)\n",
      "memory usage: 132.9+ KB\n"
     ]
    }
   ],
   "source": [
    "df.info()"
   ]
  },
  {
   "cell_type": "code",
   "execution_count": 6,
   "metadata": {
    "ExecuteTime": {
     "end_time": "2024-02-23T05:25:28.064637700Z",
     "start_time": "2024-02-23T05:25:27.992280Z"
    }
   },
   "outputs": [
    {
     "data": {
      "text/plain": "6.9722842639593905"
     },
     "execution_count": 6,
     "metadata": {},
     "output_type": "execute_result"
    }
   ],
   "source": [
    "df['Rating'].mean()"
   ]
  },
  {
   "cell_type": "code",
   "execution_count": 7,
   "metadata": {
    "ExecuteTime": {
     "end_time": "2024-02-23T05:25:28.987313900Z",
     "start_time": "2024-02-23T05:25:28.837593700Z"
    }
   },
   "outputs": [],
   "source": [
    "df['Rating'] = df['Rating'].fillna(df['Rating'].mean())"
   ]
  },
  {
   "cell_type": "code",
   "execution_count": 8,
   "metadata": {
    "ExecuteTime": {
     "end_time": "2024-02-23T05:25:29.560073100Z",
     "start_time": "2024-02-23T05:25:29.435628Z"
    }
   },
   "outputs": [
    {
     "data": {
      "text/plain": "0    Ewallet\nName: Payment, dtype: object"
     },
     "execution_count": 8,
     "metadata": {},
     "output_type": "execute_result"
    }
   ],
   "source": [
    "df['Payment'].mode()"
   ]
  },
  {
   "cell_type": "code",
   "execution_count": 9,
   "metadata": {
    "ExecuteTime": {
     "end_time": "2024-02-23T05:25:31.263568400Z",
     "start_time": "2024-02-23T05:25:31.121691700Z"
    }
   },
   "outputs": [
    {
     "data": {
      "text/plain": "Payment\nEwallet        345\nCash           343\nCredit card    310\nName: count, dtype: int64"
     },
     "execution_count": 9,
     "metadata": {},
     "output_type": "execute_result"
    }
   ],
   "source": [
    "df['Payment'].value_counts()"
   ]
  },
  {
   "cell_type": "code",
   "execution_count": 10,
   "metadata": {
    "ExecuteTime": {
     "end_time": "2024-02-23T05:25:32.593897600Z",
     "start_time": "2024-02-23T05:25:32.453456300Z"
    }
   },
   "outputs": [
    {
     "data": {
      "text/plain": "'Ewallet'"
     },
     "execution_count": 10,
     "metadata": {},
     "output_type": "execute_result"
    }
   ],
   "source": [
    "df['Payment'].mode().iloc[0]"
   ]
  },
  {
   "cell_type": "code",
   "execution_count": 11,
   "metadata": {
    "ExecuteTime": {
     "end_time": "2024-02-23T05:25:33.805750900Z",
     "start_time": "2024-02-23T05:25:33.749852300Z"
    }
   },
   "outputs": [],
   "source": [
    "df['Payment'] = df['Payment'].fillna(df['Payment'].mode().iloc[0])"
   ]
  },
  {
   "cell_type": "code",
   "execution_count": 12,
   "metadata": {
    "ExecuteTime": {
     "end_time": "2024-02-23T05:25:34.775518700Z",
     "start_time": "2024-02-23T05:25:34.672389800Z"
    }
   },
   "outputs": [
    {
     "name": "stdout",
     "output_type": "stream",
     "text": [
      "<class 'pandas.core.frame.DataFrame'>\n",
      "RangeIndex: 1000 entries, 0 to 999\n",
      "Data columns (total 17 columns):\n",
      " #   Column                   Non-Null Count  Dtype  \n",
      "---  ------                   --------------  -----  \n",
      " 0   Invoice ID               1000 non-null   object \n",
      " 1   Branch                   1000 non-null   object \n",
      " 2   City                     1000 non-null   object \n",
      " 3   Customer type            1000 non-null   object \n",
      " 4   Gender                   1000 non-null   object \n",
      " 5   Product line             1000 non-null   object \n",
      " 6   Unit price               1000 non-null   float64\n",
      " 7   Quantity                 1000 non-null   int64  \n",
      " 8   Tax 5%                   1000 non-null   float64\n",
      " 9   Total                    1000 non-null   float64\n",
      " 10  Date                     1000 non-null   object \n",
      " 11  Time                     1000 non-null   object \n",
      " 12  Payment                  1000 non-null   object \n",
      " 13  cogs                     1000 non-null   float64\n",
      " 14  gross margin percentage  1000 non-null   float64\n",
      " 15  gross income             1000 non-null   float64\n",
      " 16  Rating                   1000 non-null   float64\n",
      "dtypes: float64(7), int64(1), object(9)\n",
      "memory usage: 132.9+ KB\n"
     ]
    }
   ],
   "source": [
    "df.info()"
   ]
  },
  {
   "cell_type": "markdown",
   "metadata": {},
   "source": [
    "### Transform Categorical Features"
   ]
  },
  {
   "cell_type": "code",
   "execution_count": 13,
   "metadata": {
    "ExecuteTime": {
     "end_time": "2024-02-23T05:25:36.493608600Z",
     "start_time": "2024-02-23T05:25:36.403424300Z"
    }
   },
   "outputs": [],
   "source": [
    "# create dummy variables for categorical features/one-hot encoding\n",
    "\n",
    "gender_new = pd.get_dummies(df['Gender'])"
   ]
  },
  {
   "cell_type": "code",
   "execution_count": 14,
   "metadata": {
    "ExecuteTime": {
     "end_time": "2024-02-23T05:25:37.341449300Z",
     "start_time": "2024-02-23T05:25:37.242177400Z"
    }
   },
   "outputs": [
    {
     "data": {
      "text/plain": "   Female   Male\n0    True  False\n1    True  False\n2   False   True\n3   False   True\n4   False   True",
      "text/html": "<div>\n<style scoped>\n    .dataframe tbody tr th:only-of-type {\n        vertical-align: middle;\n    }\n\n    .dataframe tbody tr th {\n        vertical-align: top;\n    }\n\n    .dataframe thead th {\n        text-align: right;\n    }\n</style>\n<table border=\"1\" class=\"dataframe\">\n  <thead>\n    <tr style=\"text-align: right;\">\n      <th></th>\n      <th>Female</th>\n      <th>Male</th>\n    </tr>\n  </thead>\n  <tbody>\n    <tr>\n      <th>0</th>\n      <td>True</td>\n      <td>False</td>\n    </tr>\n    <tr>\n      <th>1</th>\n      <td>True</td>\n      <td>False</td>\n    </tr>\n    <tr>\n      <th>2</th>\n      <td>False</td>\n      <td>True</td>\n    </tr>\n    <tr>\n      <th>3</th>\n      <td>False</td>\n      <td>True</td>\n    </tr>\n    <tr>\n      <th>4</th>\n      <td>False</td>\n      <td>True</td>\n    </tr>\n  </tbody>\n</table>\n</div>"
     },
     "execution_count": 14,
     "metadata": {},
     "output_type": "execute_result"
    }
   ],
   "source": [
    "gender_new.head()"
   ]
  },
  {
   "cell_type": "code",
   "execution_count": 15,
   "metadata": {
    "ExecuteTime": {
     "end_time": "2024-02-23T05:25:38.433115500Z",
     "start_time": "2024-02-23T05:25:38.207449500Z"
    }
   },
   "outputs": [
    {
     "name": "stdout",
     "output_type": "stream",
     "text": [
      "<class 'pandas.core.frame.DataFrame'>\n",
      "RangeIndex: 1000 entries, 0 to 999\n",
      "Data columns (total 19 columns):\n",
      " #   Column                   Non-Null Count  Dtype  \n",
      "---  ------                   --------------  -----  \n",
      " 0   Invoice ID               1000 non-null   object \n",
      " 1   Branch                   1000 non-null   object \n",
      " 2   City                     1000 non-null   object \n",
      " 3   Customer type            1000 non-null   object \n",
      " 4   Gender                   1000 non-null   object \n",
      " 5   Product line             1000 non-null   object \n",
      " 6   Unit price               1000 non-null   float64\n",
      " 7   Quantity                 1000 non-null   int64  \n",
      " 8   Tax 5%                   1000 non-null   float64\n",
      " 9   Total                    1000 non-null   float64\n",
      " 10  Date                     1000 non-null   object \n",
      " 11  Time                     1000 non-null   object \n",
      " 12  Payment                  1000 non-null   object \n",
      " 13  cogs                     1000 non-null   float64\n",
      " 14  gross margin percentage  1000 non-null   float64\n",
      " 15  gross income             1000 non-null   float64\n",
      " 16  Rating                   1000 non-null   float64\n",
      " 17  Female                   1000 non-null   bool   \n",
      " 18  Male                     1000 non-null   bool   \n",
      "dtypes: bool(2), float64(7), int64(1), object(9)\n",
      "memory usage: 134.9+ KB\n"
     ]
    }
   ],
   "source": [
    "dfnew = pd.concat([df, gender_new], axis=1)\n",
    "dfnew.info()"
   ]
  },
  {
   "cell_type": "code",
   "execution_count": 16,
   "metadata": {
    "ExecuteTime": {
     "end_time": "2024-02-23T05:25:39.292957Z",
     "start_time": "2024-02-23T05:25:39.180772100Z"
    }
   },
   "outputs": [
    {
     "data": {
      "text/plain": "    Invoice ID Branch       City Customer type  Gender  \\\n0  750-67-8428      A     Yangon        Member  Female   \n1  226-31-3081      C  Naypyitaw        Normal  Female   \n2  631-41-3108      A     Yangon        Normal    Male   \n3  123-19-1176      A     Yangon        Member    Male   \n4  373-73-7910      A     Yangon        Normal    Male   \n\n             Product line  Unit price  Quantity   Tax 5%     Total       Date  \\\n0       Health and beauty       74.69         7  26.1415  548.9715   1/5/2019   \n1  Electronic accessories       15.28         5   3.8200   80.2200   3/8/2019   \n2      Home and lifestyle       46.33         7  16.2155  340.5255   3/3/2019   \n3       Health and beauty       58.22         8  23.2880  489.0480  1/27/2019   \n4       Sports and travel       86.31         7  30.2085  634.3785   2/8/2019   \n\n    Time      Payment    cogs  gross margin percentage  gross income  Rating  \\\n0  13:08      Ewallet  522.83                 4.761905       26.1415     9.1   \n1  10:29         Cash   76.40                 4.761905        3.8200     9.6   \n2  13:23  Credit card  324.31                 4.761905       16.2155     7.4   \n3  20:33      Ewallet  465.76                 4.761905       23.2880     8.4   \n4  10:37      Ewallet  604.17                 4.761905       30.2085     5.3   \n\n   Female   Male  \n0    True  False  \n1    True  False  \n2   False   True  \n3   False   True  \n4   False   True  ",
      "text/html": "<div>\n<style scoped>\n    .dataframe tbody tr th:only-of-type {\n        vertical-align: middle;\n    }\n\n    .dataframe tbody tr th {\n        vertical-align: top;\n    }\n\n    .dataframe thead th {\n        text-align: right;\n    }\n</style>\n<table border=\"1\" class=\"dataframe\">\n  <thead>\n    <tr style=\"text-align: right;\">\n      <th></th>\n      <th>Invoice ID</th>\n      <th>Branch</th>\n      <th>City</th>\n      <th>Customer type</th>\n      <th>Gender</th>\n      <th>Product line</th>\n      <th>Unit price</th>\n      <th>Quantity</th>\n      <th>Tax 5%</th>\n      <th>Total</th>\n      <th>Date</th>\n      <th>Time</th>\n      <th>Payment</th>\n      <th>cogs</th>\n      <th>gross margin percentage</th>\n      <th>gross income</th>\n      <th>Rating</th>\n      <th>Female</th>\n      <th>Male</th>\n    </tr>\n  </thead>\n  <tbody>\n    <tr>\n      <th>0</th>\n      <td>750-67-8428</td>\n      <td>A</td>\n      <td>Yangon</td>\n      <td>Member</td>\n      <td>Female</td>\n      <td>Health and beauty</td>\n      <td>74.69</td>\n      <td>7</td>\n      <td>26.1415</td>\n      <td>548.9715</td>\n      <td>1/5/2019</td>\n      <td>13:08</td>\n      <td>Ewallet</td>\n      <td>522.83</td>\n      <td>4.761905</td>\n      <td>26.1415</td>\n      <td>9.1</td>\n      <td>True</td>\n      <td>False</td>\n    </tr>\n    <tr>\n      <th>1</th>\n      <td>226-31-3081</td>\n      <td>C</td>\n      <td>Naypyitaw</td>\n      <td>Normal</td>\n      <td>Female</td>\n      <td>Electronic accessories</td>\n      <td>15.28</td>\n      <td>5</td>\n      <td>3.8200</td>\n      <td>80.2200</td>\n      <td>3/8/2019</td>\n      <td>10:29</td>\n      <td>Cash</td>\n      <td>76.40</td>\n      <td>4.761905</td>\n      <td>3.8200</td>\n      <td>9.6</td>\n      <td>True</td>\n      <td>False</td>\n    </tr>\n    <tr>\n      <th>2</th>\n      <td>631-41-3108</td>\n      <td>A</td>\n      <td>Yangon</td>\n      <td>Normal</td>\n      <td>Male</td>\n      <td>Home and lifestyle</td>\n      <td>46.33</td>\n      <td>7</td>\n      <td>16.2155</td>\n      <td>340.5255</td>\n      <td>3/3/2019</td>\n      <td>13:23</td>\n      <td>Credit card</td>\n      <td>324.31</td>\n      <td>4.761905</td>\n      <td>16.2155</td>\n      <td>7.4</td>\n      <td>False</td>\n      <td>True</td>\n    </tr>\n    <tr>\n      <th>3</th>\n      <td>123-19-1176</td>\n      <td>A</td>\n      <td>Yangon</td>\n      <td>Member</td>\n      <td>Male</td>\n      <td>Health and beauty</td>\n      <td>58.22</td>\n      <td>8</td>\n      <td>23.2880</td>\n      <td>489.0480</td>\n      <td>1/27/2019</td>\n      <td>20:33</td>\n      <td>Ewallet</td>\n      <td>465.76</td>\n      <td>4.761905</td>\n      <td>23.2880</td>\n      <td>8.4</td>\n      <td>False</td>\n      <td>True</td>\n    </tr>\n    <tr>\n      <th>4</th>\n      <td>373-73-7910</td>\n      <td>A</td>\n      <td>Yangon</td>\n      <td>Normal</td>\n      <td>Male</td>\n      <td>Sports and travel</td>\n      <td>86.31</td>\n      <td>7</td>\n      <td>30.2085</td>\n      <td>634.3785</td>\n      <td>2/8/2019</td>\n      <td>10:37</td>\n      <td>Ewallet</td>\n      <td>604.17</td>\n      <td>4.761905</td>\n      <td>30.2085</td>\n      <td>5.3</td>\n      <td>False</td>\n      <td>True</td>\n    </tr>\n  </tbody>\n</table>\n</div>"
     },
     "execution_count": 16,
     "metadata": {},
     "output_type": "execute_result"
    }
   ],
   "source": [
    "dfnew.head()"
   ]
  },
  {
   "cell_type": "code",
   "execution_count": 17,
   "metadata": {
    "ExecuteTime": {
     "end_time": "2024-02-23T05:25:40.800118400Z",
     "start_time": "2024-02-23T05:25:40.667306600Z"
    }
   },
   "outputs": [
    {
     "data": {
      "text/plain": "    Cash  Credit card  Ewallet\n0  False        False     True\n1   True        False    False\n2  False         True    False\n3  False        False     True\n4  False        False     True",
      "text/html": "<div>\n<style scoped>\n    .dataframe tbody tr th:only-of-type {\n        vertical-align: middle;\n    }\n\n    .dataframe tbody tr th {\n        vertical-align: top;\n    }\n\n    .dataframe thead th {\n        text-align: right;\n    }\n</style>\n<table border=\"1\" class=\"dataframe\">\n  <thead>\n    <tr style=\"text-align: right;\">\n      <th></th>\n      <th>Cash</th>\n      <th>Credit card</th>\n      <th>Ewallet</th>\n    </tr>\n  </thead>\n  <tbody>\n    <tr>\n      <th>0</th>\n      <td>False</td>\n      <td>False</td>\n      <td>True</td>\n    </tr>\n    <tr>\n      <th>1</th>\n      <td>True</td>\n      <td>False</td>\n      <td>False</td>\n    </tr>\n    <tr>\n      <th>2</th>\n      <td>False</td>\n      <td>True</td>\n      <td>False</td>\n    </tr>\n    <tr>\n      <th>3</th>\n      <td>False</td>\n      <td>False</td>\n      <td>True</td>\n    </tr>\n    <tr>\n      <th>4</th>\n      <td>False</td>\n      <td>False</td>\n      <td>True</td>\n    </tr>\n  </tbody>\n</table>\n</div>"
     },
     "execution_count": 17,
     "metadata": {},
     "output_type": "execute_result"
    }
   ],
   "source": [
    "Pay_new = pd.get_dummies(dfnew['Payment'])\n",
    "Pay_new.head()"
   ]
  },
  {
   "cell_type": "code",
   "execution_count": 18,
   "metadata": {
    "ExecuteTime": {
     "end_time": "2024-02-23T05:25:42.011132400Z",
     "start_time": "2024-02-23T05:25:41.789677400Z"
    }
   },
   "outputs": [
    {
     "name": "stdout",
     "output_type": "stream",
     "text": [
      "<class 'pandas.core.frame.DataFrame'>\n",
      "RangeIndex: 1000 entries, 0 to 999\n",
      "Data columns (total 22 columns):\n",
      " #   Column                   Non-Null Count  Dtype  \n",
      "---  ------                   --------------  -----  \n",
      " 0   Invoice ID               1000 non-null   object \n",
      " 1   Branch                   1000 non-null   object \n",
      " 2   City                     1000 non-null   object \n",
      " 3   Customer type            1000 non-null   object \n",
      " 4   Gender                   1000 non-null   object \n",
      " 5   Product line             1000 non-null   object \n",
      " 6   Unit price               1000 non-null   float64\n",
      " 7   Quantity                 1000 non-null   int64  \n",
      " 8   Tax 5%                   1000 non-null   float64\n",
      " 9   Total                    1000 non-null   float64\n",
      " 10  Date                     1000 non-null   object \n",
      " 11  Time                     1000 non-null   object \n",
      " 12  Payment                  1000 non-null   object \n",
      " 13  cogs                     1000 non-null   float64\n",
      " 14  gross margin percentage  1000 non-null   float64\n",
      " 15  gross income             1000 non-null   float64\n",
      " 16  Rating                   1000 non-null   float64\n",
      " 17  Female                   1000 non-null   bool   \n",
      " 18  Male                     1000 non-null   bool   \n",
      " 19  Cash                     1000 non-null   bool   \n",
      " 20  Credit card              1000 non-null   bool   \n",
      " 21  Ewallet                  1000 non-null   bool   \n",
      "dtypes: bool(5), float64(7), int64(1), object(9)\n",
      "memory usage: 137.8+ KB\n"
     ]
    }
   ],
   "source": [
    "dfnew2 = pd.concat([dfnew,Pay_new], axis=1)\n",
    "dfnew2.info()"
   ]
  },
  {
   "cell_type": "code",
   "execution_count": 19,
   "metadata": {
    "ExecuteTime": {
     "end_time": "2024-02-23T05:25:43.354865200Z",
     "start_time": "2024-02-23T05:25:43.263742400Z"
    }
   },
   "outputs": [
    {
     "data": {
      "text/plain": "    Invoice ID Branch       City Customer type  Gender  \\\n0  750-67-8428      A     Yangon        Member  Female   \n1  226-31-3081      C  Naypyitaw        Normal  Female   \n2  631-41-3108      A     Yangon        Normal    Male   \n3  123-19-1176      A     Yangon        Member    Male   \n4  373-73-7910      A     Yangon        Normal    Male   \n\n             Product line  Unit price  Quantity   Tax 5%     Total  ...  \\\n0       Health and beauty       74.69         7  26.1415  548.9715  ...   \n1  Electronic accessories       15.28         5   3.8200   80.2200  ...   \n2      Home and lifestyle       46.33         7  16.2155  340.5255  ...   \n3       Health and beauty       58.22         8  23.2880  489.0480  ...   \n4       Sports and travel       86.31         7  30.2085  634.3785  ...   \n\n       Payment    cogs gross margin percentage  gross income  Rating  Female  \\\n0      Ewallet  522.83                4.761905       26.1415     9.1    True   \n1         Cash   76.40                4.761905        3.8200     9.6    True   \n2  Credit card  324.31                4.761905       16.2155     7.4   False   \n3      Ewallet  465.76                4.761905       23.2880     8.4   False   \n4      Ewallet  604.17                4.761905       30.2085     5.3   False   \n\n    Male   Cash  Credit card  Ewallet  \n0  False  False        False     True  \n1  False   True        False    False  \n2   True  False         True    False  \n3   True  False        False     True  \n4   True  False        False     True  \n\n[5 rows x 22 columns]",
      "text/html": "<div>\n<style scoped>\n    .dataframe tbody tr th:only-of-type {\n        vertical-align: middle;\n    }\n\n    .dataframe tbody tr th {\n        vertical-align: top;\n    }\n\n    .dataframe thead th {\n        text-align: right;\n    }\n</style>\n<table border=\"1\" class=\"dataframe\">\n  <thead>\n    <tr style=\"text-align: right;\">\n      <th></th>\n      <th>Invoice ID</th>\n      <th>Branch</th>\n      <th>City</th>\n      <th>Customer type</th>\n      <th>Gender</th>\n      <th>Product line</th>\n      <th>Unit price</th>\n      <th>Quantity</th>\n      <th>Tax 5%</th>\n      <th>Total</th>\n      <th>...</th>\n      <th>Payment</th>\n      <th>cogs</th>\n      <th>gross margin percentage</th>\n      <th>gross income</th>\n      <th>Rating</th>\n      <th>Female</th>\n      <th>Male</th>\n      <th>Cash</th>\n      <th>Credit card</th>\n      <th>Ewallet</th>\n    </tr>\n  </thead>\n  <tbody>\n    <tr>\n      <th>0</th>\n      <td>750-67-8428</td>\n      <td>A</td>\n      <td>Yangon</td>\n      <td>Member</td>\n      <td>Female</td>\n      <td>Health and beauty</td>\n      <td>74.69</td>\n      <td>7</td>\n      <td>26.1415</td>\n      <td>548.9715</td>\n      <td>...</td>\n      <td>Ewallet</td>\n      <td>522.83</td>\n      <td>4.761905</td>\n      <td>26.1415</td>\n      <td>9.1</td>\n      <td>True</td>\n      <td>False</td>\n      <td>False</td>\n      <td>False</td>\n      <td>True</td>\n    </tr>\n    <tr>\n      <th>1</th>\n      <td>226-31-3081</td>\n      <td>C</td>\n      <td>Naypyitaw</td>\n      <td>Normal</td>\n      <td>Female</td>\n      <td>Electronic accessories</td>\n      <td>15.28</td>\n      <td>5</td>\n      <td>3.8200</td>\n      <td>80.2200</td>\n      <td>...</td>\n      <td>Cash</td>\n      <td>76.40</td>\n      <td>4.761905</td>\n      <td>3.8200</td>\n      <td>9.6</td>\n      <td>True</td>\n      <td>False</td>\n      <td>True</td>\n      <td>False</td>\n      <td>False</td>\n    </tr>\n    <tr>\n      <th>2</th>\n      <td>631-41-3108</td>\n      <td>A</td>\n      <td>Yangon</td>\n      <td>Normal</td>\n      <td>Male</td>\n      <td>Home and lifestyle</td>\n      <td>46.33</td>\n      <td>7</td>\n      <td>16.2155</td>\n      <td>340.5255</td>\n      <td>...</td>\n      <td>Credit card</td>\n      <td>324.31</td>\n      <td>4.761905</td>\n      <td>16.2155</td>\n      <td>7.4</td>\n      <td>False</td>\n      <td>True</td>\n      <td>False</td>\n      <td>True</td>\n      <td>False</td>\n    </tr>\n    <tr>\n      <th>3</th>\n      <td>123-19-1176</td>\n      <td>A</td>\n      <td>Yangon</td>\n      <td>Member</td>\n      <td>Male</td>\n      <td>Health and beauty</td>\n      <td>58.22</td>\n      <td>8</td>\n      <td>23.2880</td>\n      <td>489.0480</td>\n      <td>...</td>\n      <td>Ewallet</td>\n      <td>465.76</td>\n      <td>4.761905</td>\n      <td>23.2880</td>\n      <td>8.4</td>\n      <td>False</td>\n      <td>True</td>\n      <td>False</td>\n      <td>False</td>\n      <td>True</td>\n    </tr>\n    <tr>\n      <th>4</th>\n      <td>373-73-7910</td>\n      <td>A</td>\n      <td>Yangon</td>\n      <td>Normal</td>\n      <td>Male</td>\n      <td>Sports and travel</td>\n      <td>86.31</td>\n      <td>7</td>\n      <td>30.2085</td>\n      <td>634.3785</td>\n      <td>...</td>\n      <td>Ewallet</td>\n      <td>604.17</td>\n      <td>4.761905</td>\n      <td>30.2085</td>\n      <td>5.3</td>\n      <td>False</td>\n      <td>True</td>\n      <td>False</td>\n      <td>False</td>\n      <td>True</td>\n    </tr>\n  </tbody>\n</table>\n<p>5 rows × 22 columns</p>\n</div>"
     },
     "execution_count": 19,
     "metadata": {},
     "output_type": "execute_result"
    }
   ],
   "source": [
    "dfnew2.head()"
   ]
  },
  {
   "cell_type": "markdown",
   "metadata": {},
   "source": [
    "## Decision Tree Classification"
   ]
  },
  {
   "cell_type": "markdown",
   "metadata": {},
   "source": [
    "### Define Target and Features"
   ]
  },
  {
   "cell_type": "code",
   "execution_count": 20,
   "metadata": {
    "ExecuteTime": {
     "end_time": "2024-02-23T05:25:46.610481800Z",
     "start_time": "2024-02-23T05:25:46.529797400Z"
    }
   },
   "outputs": [],
   "source": [
    "# Define independent variables / attirbutes / features\n",
    "\n",
    "features = ['Quantity','Female', 'Cash','Credit card'] "
   ]
  },
  {
   "cell_type": "code",
   "execution_count": 21,
   "metadata": {
    "ExecuteTime": {
     "end_time": "2024-02-23T05:25:47.509509300Z",
     "start_time": "2024-02-23T05:25:47.424272300Z"
    }
   },
   "outputs": [
    {
     "data": {
      "text/plain": "          Quantity\ncount  1000.000000\nmean      5.510000\nstd       2.923431\nmin       1.000000\n25%       3.000000\n50%       5.000000\n75%       8.000000\nmax      10.000000",
      "text/html": "<div>\n<style scoped>\n    .dataframe tbody tr th:only-of-type {\n        vertical-align: middle;\n    }\n\n    .dataframe tbody tr th {\n        vertical-align: top;\n    }\n\n    .dataframe thead th {\n        text-align: right;\n    }\n</style>\n<table border=\"1\" class=\"dataframe\">\n  <thead>\n    <tr style=\"text-align: right;\">\n      <th></th>\n      <th>Quantity</th>\n    </tr>\n  </thead>\n  <tbody>\n    <tr>\n      <th>count</th>\n      <td>1000.000000</td>\n    </tr>\n    <tr>\n      <th>mean</th>\n      <td>5.510000</td>\n    </tr>\n    <tr>\n      <th>std</th>\n      <td>2.923431</td>\n    </tr>\n    <tr>\n      <th>min</th>\n      <td>1.000000</td>\n    </tr>\n    <tr>\n      <th>25%</th>\n      <td>3.000000</td>\n    </tr>\n    <tr>\n      <th>50%</th>\n      <td>5.000000</td>\n    </tr>\n    <tr>\n      <th>75%</th>\n      <td>8.000000</td>\n    </tr>\n    <tr>\n      <th>max</th>\n      <td>10.000000</td>\n    </tr>\n  </tbody>\n</table>\n</div>"
     },
     "execution_count": 21,
     "metadata": {},
     "output_type": "execute_result"
    }
   ],
   "source": [
    "dfnew2[['Quantity','Female', 'Cash','Credit card'] ].describe()"
   ]
  },
  {
   "cell_type": "code",
   "execution_count": 22,
   "metadata": {
    "ExecuteTime": {
     "end_time": "2024-02-23T05:25:49.173309200Z",
     "start_time": "2024-02-23T05:25:49.058229300Z"
    }
   },
   "outputs": [],
   "source": [
    "# Define one single target variable\n",
    "\n",
    "target = ['Customer type']"
   ]
  },
  {
   "cell_type": "code",
   "execution_count": 23,
   "metadata": {
    "ExecuteTime": {
     "end_time": "2024-02-23T05:25:49.909265200Z",
     "start_time": "2024-02-23T05:25:49.837462500Z"
    }
   },
   "outputs": [
    {
     "data": {
      "text/plain": "Customer type\nMember    501\nNormal    499\nName: count, dtype: int64"
     },
     "execution_count": 23,
     "metadata": {},
     "output_type": "execute_result"
    }
   ],
   "source": [
    "dfnew2['Customer type'].value_counts()"
   ]
  },
  {
   "cell_type": "code",
   "execution_count": 24,
   "metadata": {
    "ExecuteTime": {
     "end_time": "2024-02-23T05:25:51.159795Z",
     "start_time": "2024-02-23T05:25:51.043166900Z"
    }
   },
   "outputs": [],
   "source": [
    "# Get defined dataset\n",
    "\n",
    "X = dfnew2 [features]\n",
    "y = dfnew2 [target]"
   ]
  },
  {
   "cell_type": "markdown",
   "metadata": {},
   "source": [
    "### Split Data into Training and Testing Sets"
   ]
  },
  {
   "cell_type": "code",
   "execution_count": 25,
   "metadata": {
    "ExecuteTime": {
     "end_time": "2024-02-23T05:25:55.323300500Z",
     "start_time": "2024-02-23T05:25:52.449990200Z"
    }
   },
   "outputs": [],
   "source": [
    "from sklearn.model_selection import train_test_split"
   ]
  },
  {
   "cell_type": "code",
   "execution_count": 26,
   "metadata": {
    "ExecuteTime": {
     "end_time": "2024-02-23T05:25:56.575576300Z",
     "start_time": "2024-02-23T05:25:56.513999700Z"
    }
   },
   "outputs": [],
   "source": [
    "# randomly split data into 70% and 30%, put 30% in testing\n",
    "\n",
    "X_train, X_test, y_train, y_test = train_test_split(X, y, test_size=0.3, random_state = 10)"
   ]
  },
  {
   "cell_type": "code",
   "execution_count": 27,
   "metadata": {
    "ExecuteTime": {
     "end_time": "2024-02-23T05:25:57.428831900Z",
     "start_time": "2024-02-23T05:25:57.334038700Z"
    }
   },
   "outputs": [
    {
     "data": {
      "text/plain": "300"
     },
     "execution_count": 27,
     "metadata": {},
     "output_type": "execute_result"
    }
   ],
   "source": [
    "len(X_test)"
   ]
  },
  {
   "cell_type": "code",
   "execution_count": 28,
   "metadata": {
    "ExecuteTime": {
     "end_time": "2024-02-23T05:25:58.345036100Z",
     "start_time": "2024-02-23T05:25:58.245971700Z"
    }
   },
   "outputs": [
    {
     "data": {
      "text/plain": "700"
     },
     "execution_count": 28,
     "metadata": {},
     "output_type": "execute_result"
    }
   ],
   "source": [
    "len(X_train)"
   ]
  },
  {
   "cell_type": "markdown",
   "metadata": {},
   "source": [
    "### Define Tree Model"
   ]
  },
  {
   "cell_type": "code",
   "execution_count": 29,
   "metadata": {
    "ExecuteTime": {
     "end_time": "2024-02-23T05:26:00.373052600Z",
     "start_time": "2024-02-23T05:25:59.838056Z"
    }
   },
   "outputs": [],
   "source": [
    "# import DecisionTreeClassifier and define full-grown tree model\n",
    "\n",
    "from sklearn.tree import DecisionTreeClassifier\n",
    "fullmodel = DecisionTreeClassifier(criterion='entropy')"
   ]
  },
  {
   "cell_type": "code",
   "execution_count": 30,
   "metadata": {
    "ExecuteTime": {
     "end_time": "2024-02-23T05:26:01.251623600Z",
     "start_time": "2024-02-23T05:26:01.164522700Z"
    }
   },
   "outputs": [
    {
     "name": "stdout",
     "output_type": "stream",
     "text": [
      "Help on class DecisionTreeClassifier in module sklearn.tree._classes:\n",
      "\n",
      "class DecisionTreeClassifier(sklearn.base.ClassifierMixin, BaseDecisionTree)\n",
      " |  DecisionTreeClassifier(*, criterion='gini', splitter='best', max_depth=None, min_samples_split=2, min_samples_leaf=1, min_weight_fraction_leaf=0.0, max_features=None, random_state=None, max_leaf_nodes=None, min_impurity_decrease=0.0, class_weight=None, ccp_alpha=0.0, monotonic_cst=None)\n",
      " |  \n",
      " |  A decision tree classifier.\n",
      " |  \n",
      " |  Read more in the :ref:`User Guide <tree>`.\n",
      " |  \n",
      " |  Parameters\n",
      " |  ----------\n",
      " |  criterion : {\"gini\", \"entropy\", \"log_loss\"}, default=\"gini\"\n",
      " |      The function to measure the quality of a split. Supported criteria are\n",
      " |      \"gini\" for the Gini impurity and \"log_loss\" and \"entropy\" both for the\n",
      " |      Shannon information gain, see :ref:`tree_mathematical_formulation`.\n",
      " |  \n",
      " |  splitter : {\"best\", \"random\"}, default=\"best\"\n",
      " |      The strategy used to choose the split at each node. Supported\n",
      " |      strategies are \"best\" to choose the best split and \"random\" to choose\n",
      " |      the best random split.\n",
      " |  \n",
      " |  max_depth : int, default=None\n",
      " |      The maximum depth of the tree. If None, then nodes are expanded until\n",
      " |      all leaves are pure or until all leaves contain less than\n",
      " |      min_samples_split samples.\n",
      " |  \n",
      " |  min_samples_split : int or float, default=2\n",
      " |      The minimum number of samples required to split an internal node:\n",
      " |  \n",
      " |      - If int, then consider `min_samples_split` as the minimum number.\n",
      " |      - If float, then `min_samples_split` is a fraction and\n",
      " |        `ceil(min_samples_split * n_samples)` are the minimum\n",
      " |        number of samples for each split.\n",
      " |  \n",
      " |      .. versionchanged:: 0.18\n",
      " |         Added float values for fractions.\n",
      " |  \n",
      " |  min_samples_leaf : int or float, default=1\n",
      " |      The minimum number of samples required to be at a leaf node.\n",
      " |      A split point at any depth will only be considered if it leaves at\n",
      " |      least ``min_samples_leaf`` training samples in each of the left and\n",
      " |      right branches.  This may have the effect of smoothing the model,\n",
      " |      especially in regression.\n",
      " |  \n",
      " |      - If int, then consider `min_samples_leaf` as the minimum number.\n",
      " |      - If float, then `min_samples_leaf` is a fraction and\n",
      " |        `ceil(min_samples_leaf * n_samples)` are the minimum\n",
      " |        number of samples for each node.\n",
      " |  \n",
      " |      .. versionchanged:: 0.18\n",
      " |         Added float values for fractions.\n",
      " |  \n",
      " |  min_weight_fraction_leaf : float, default=0.0\n",
      " |      The minimum weighted fraction of the sum total of weights (of all\n",
      " |      the input samples) required to be at a leaf node. Samples have\n",
      " |      equal weight when sample_weight is not provided.\n",
      " |  \n",
      " |  max_features : int, float or {\"sqrt\", \"log2\"}, default=None\n",
      " |      The number of features to consider when looking for the best split:\n",
      " |  \n",
      " |          - If int, then consider `max_features` features at each split.\n",
      " |          - If float, then `max_features` is a fraction and\n",
      " |            `max(1, int(max_features * n_features_in_))` features are considered at\n",
      " |            each split.\n",
      " |          - If \"sqrt\", then `max_features=sqrt(n_features)`.\n",
      " |          - If \"log2\", then `max_features=log2(n_features)`.\n",
      " |          - If None, then `max_features=n_features`.\n",
      " |  \n",
      " |      Note: the search for a split does not stop until at least one\n",
      " |      valid partition of the node samples is found, even if it requires to\n",
      " |      effectively inspect more than ``max_features`` features.\n",
      " |  \n",
      " |  random_state : int, RandomState instance or None, default=None\n",
      " |      Controls the randomness of the estimator. The features are always\n",
      " |      randomly permuted at each split, even if ``splitter`` is set to\n",
      " |      ``\"best\"``. When ``max_features < n_features``, the algorithm will\n",
      " |      select ``max_features`` at random at each split before finding the best\n",
      " |      split among them. But the best found split may vary across different\n",
      " |      runs, even if ``max_features=n_features``. That is the case, if the\n",
      " |      improvement of the criterion is identical for several splits and one\n",
      " |      split has to be selected at random. To obtain a deterministic behaviour\n",
      " |      during fitting, ``random_state`` has to be fixed to an integer.\n",
      " |      See :term:`Glossary <random_state>` for details.\n",
      " |  \n",
      " |  max_leaf_nodes : int, default=None\n",
      " |      Grow a tree with ``max_leaf_nodes`` in best-first fashion.\n",
      " |      Best nodes are defined as relative reduction in impurity.\n",
      " |      If None then unlimited number of leaf nodes.\n",
      " |  \n",
      " |  min_impurity_decrease : float, default=0.0\n",
      " |      A node will be split if this split induces a decrease of the impurity\n",
      " |      greater than or equal to this value.\n",
      " |  \n",
      " |      The weighted impurity decrease equation is the following::\n",
      " |  \n",
      " |          N_t / N * (impurity - N_t_R / N_t * right_impurity\n",
      " |                              - N_t_L / N_t * left_impurity)\n",
      " |  \n",
      " |      where ``N`` is the total number of samples, ``N_t`` is the number of\n",
      " |      samples at the current node, ``N_t_L`` is the number of samples in the\n",
      " |      left child, and ``N_t_R`` is the number of samples in the right child.\n",
      " |  \n",
      " |      ``N``, ``N_t``, ``N_t_R`` and ``N_t_L`` all refer to the weighted sum,\n",
      " |      if ``sample_weight`` is passed.\n",
      " |  \n",
      " |      .. versionadded:: 0.19\n",
      " |  \n",
      " |  class_weight : dict, list of dict or \"balanced\", default=None\n",
      " |      Weights associated with classes in the form ``{class_label: weight}``.\n",
      " |      If None, all classes are supposed to have weight one. For\n",
      " |      multi-output problems, a list of dicts can be provided in the same\n",
      " |      order as the columns of y.\n",
      " |  \n",
      " |      Note that for multioutput (including multilabel) weights should be\n",
      " |      defined for each class of every column in its own dict. For example,\n",
      " |      for four-class multilabel classification weights should be\n",
      " |      [{0: 1, 1: 1}, {0: 1, 1: 5}, {0: 1, 1: 1}, {0: 1, 1: 1}] instead of\n",
      " |      [{1:1}, {2:5}, {3:1}, {4:1}].\n",
      " |  \n",
      " |      The \"balanced\" mode uses the values of y to automatically adjust\n",
      " |      weights inversely proportional to class frequencies in the input data\n",
      " |      as ``n_samples / (n_classes * np.bincount(y))``\n",
      " |  \n",
      " |      For multi-output, the weights of each column of y will be multiplied.\n",
      " |  \n",
      " |      Note that these weights will be multiplied with sample_weight (passed\n",
      " |      through the fit method) if sample_weight is specified.\n",
      " |  \n",
      " |  ccp_alpha : non-negative float, default=0.0\n",
      " |      Complexity parameter used for Minimal Cost-Complexity Pruning. The\n",
      " |      subtree with the largest cost complexity that is smaller than\n",
      " |      ``ccp_alpha`` will be chosen. By default, no pruning is performed. See\n",
      " |      :ref:`minimal_cost_complexity_pruning` for details.\n",
      " |  \n",
      " |      .. versionadded:: 0.22\n",
      " |  \n",
      " |  monotonic_cst : array-like of int of shape (n_features), default=None\n",
      " |      Indicates the monotonicity constraint to enforce on each feature.\n",
      " |        - 1: monotonic increase\n",
      " |        - 0: no constraint\n",
      " |        - -1: monotonic decrease\n",
      " |  \n",
      " |      If monotonic_cst is None, no constraints are applied.\n",
      " |  \n",
      " |      Monotonicity constraints are not supported for:\n",
      " |        - multiclass classifications (i.e. when `n_classes > 2`),\n",
      " |        - multioutput classifications (i.e. when `n_outputs_ > 1`),\n",
      " |        - classifications trained on data with missing values.\n",
      " |  \n",
      " |      The constraints hold over the probability of the positive class.\n",
      " |  \n",
      " |      Read more in the :ref:`User Guide <monotonic_cst_gbdt>`.\n",
      " |  \n",
      " |      .. versionadded:: 1.4\n",
      " |  \n",
      " |  Attributes\n",
      " |  ----------\n",
      " |  classes_ : ndarray of shape (n_classes,) or list of ndarray\n",
      " |      The classes labels (single output problem),\n",
      " |      or a list of arrays of class labels (multi-output problem).\n",
      " |  \n",
      " |  feature_importances_ : ndarray of shape (n_features,)\n",
      " |      The impurity-based feature importances.\n",
      " |      The higher, the more important the feature.\n",
      " |      The importance of a feature is computed as the (normalized)\n",
      " |      total reduction of the criterion brought by that feature.  It is also\n",
      " |      known as the Gini importance [4]_.\n",
      " |  \n",
      " |      Warning: impurity-based feature importances can be misleading for\n",
      " |      high cardinality features (many unique values). See\n",
      " |      :func:`sklearn.inspection.permutation_importance` as an alternative.\n",
      " |  \n",
      " |  max_features_ : int\n",
      " |      The inferred value of max_features.\n",
      " |  \n",
      " |  n_classes_ : int or list of int\n",
      " |      The number of classes (for single output problems),\n",
      " |      or a list containing the number of classes for each\n",
      " |      output (for multi-output problems).\n",
      " |  \n",
      " |  n_features_in_ : int\n",
      " |      Number of features seen during :term:`fit`.\n",
      " |  \n",
      " |      .. versionadded:: 0.24\n",
      " |  \n",
      " |  feature_names_in_ : ndarray of shape (`n_features_in_`,)\n",
      " |      Names of features seen during :term:`fit`. Defined only when `X`\n",
      " |      has feature names that are all strings.\n",
      " |  \n",
      " |      .. versionadded:: 1.0\n",
      " |  \n",
      " |  n_outputs_ : int\n",
      " |      The number of outputs when ``fit`` is performed.\n",
      " |  \n",
      " |  tree_ : Tree instance\n",
      " |      The underlying Tree object. Please refer to\n",
      " |      ``help(sklearn.tree._tree.Tree)`` for attributes of Tree object and\n",
      " |      :ref:`sphx_glr_auto_examples_tree_plot_unveil_tree_structure.py`\n",
      " |      for basic usage of these attributes.\n",
      " |  \n",
      " |  See Also\n",
      " |  --------\n",
      " |  DecisionTreeRegressor : A decision tree regressor.\n",
      " |  \n",
      " |  Notes\n",
      " |  -----\n",
      " |  The default values for the parameters controlling the size of the trees\n",
      " |  (e.g. ``max_depth``, ``min_samples_leaf``, etc.) lead to fully grown and\n",
      " |  unpruned trees which can potentially be very large on some data sets. To\n",
      " |  reduce memory consumption, the complexity and size of the trees should be\n",
      " |  controlled by setting those parameter values.\n",
      " |  \n",
      " |  The :meth:`predict` method operates using the :func:`numpy.argmax`\n",
      " |  function on the outputs of :meth:`predict_proba`. This means that in\n",
      " |  case the highest predicted probabilities are tied, the classifier will\n",
      " |  predict the tied class with the lowest index in :term:`classes_`.\n",
      " |  \n",
      " |  References\n",
      " |  ----------\n",
      " |  \n",
      " |  .. [1] https://en.wikipedia.org/wiki/Decision_tree_learning\n",
      " |  \n",
      " |  .. [2] L. Breiman, J. Friedman, R. Olshen, and C. Stone, \"Classification\n",
      " |         and Regression Trees\", Wadsworth, Belmont, CA, 1984.\n",
      " |  \n",
      " |  .. [3] T. Hastie, R. Tibshirani and J. Friedman. \"Elements of Statistical\n",
      " |         Learning\", Springer, 2009.\n",
      " |  \n",
      " |  .. [4] L. Breiman, and A. Cutler, \"Random Forests\",\n",
      " |         https://www.stat.berkeley.edu/~breiman/RandomForests/cc_home.htm\n",
      " |  \n",
      " |  Examples\n",
      " |  --------\n",
      " |  >>> from sklearn.datasets import load_iris\n",
      " |  >>> from sklearn.model_selection import cross_val_score\n",
      " |  >>> from sklearn.tree import DecisionTreeClassifier\n",
      " |  >>> clf = DecisionTreeClassifier(random_state=0)\n",
      " |  >>> iris = load_iris()\n",
      " |  >>> cross_val_score(clf, iris.data, iris.target, cv=10)\n",
      " |  ...                             # doctest: +SKIP\n",
      " |  ...\n",
      " |  array([ 1.     ,  0.93...,  0.86...,  0.93...,  0.93...,\n",
      " |          0.93...,  0.93...,  1.     ,  0.93...,  1.      ])\n",
      " |  \n",
      " |  Method resolution order:\n",
      " |      DecisionTreeClassifier\n",
      " |      sklearn.base.ClassifierMixin\n",
      " |      BaseDecisionTree\n",
      " |      sklearn.base.MultiOutputMixin\n",
      " |      sklearn.base.BaseEstimator\n",
      " |      sklearn.utils._estimator_html_repr._HTMLDocumentationLinkMixin\n",
      " |      sklearn.utils._metadata_requests._MetadataRequester\n",
      " |      builtins.object\n",
      " |  \n",
      " |  Methods defined here:\n",
      " |  \n",
      " |  __init__(self, *, criterion='gini', splitter='best', max_depth=None, min_samples_split=2, min_samples_leaf=1, min_weight_fraction_leaf=0.0, max_features=None, random_state=None, max_leaf_nodes=None, min_impurity_decrease=0.0, class_weight=None, ccp_alpha=0.0, monotonic_cst=None)\n",
      " |      Initialize self.  See help(type(self)) for accurate signature.\n",
      " |  \n",
      " |  fit(self, X, y, sample_weight=None, check_input=True)\n",
      " |      Build a decision tree classifier from the training set (X, y).\n",
      " |      \n",
      " |      Parameters\n",
      " |      ----------\n",
      " |      X : {array-like, sparse matrix} of shape (n_samples, n_features)\n",
      " |          The training input samples. Internally, it will be converted to\n",
      " |          ``dtype=np.float32`` and if a sparse matrix is provided\n",
      " |          to a sparse ``csc_matrix``.\n",
      " |      \n",
      " |      y : array-like of shape (n_samples,) or (n_samples, n_outputs)\n",
      " |          The target values (class labels) as integers or strings.\n",
      " |      \n",
      " |      sample_weight : array-like of shape (n_samples,), default=None\n",
      " |          Sample weights. If None, then samples are equally weighted. Splits\n",
      " |          that would create child nodes with net zero or negative weight are\n",
      " |          ignored while searching for a split in each node. Splits are also\n",
      " |          ignored if they would result in any single class carrying a\n",
      " |          negative weight in either child node.\n",
      " |      \n",
      " |      check_input : bool, default=True\n",
      " |          Allow to bypass several input checking.\n",
      " |          Don't use this parameter unless you know what you're doing.\n",
      " |      \n",
      " |      Returns\n",
      " |      -------\n",
      " |      self : DecisionTreeClassifier\n",
      " |          Fitted estimator.\n",
      " |  \n",
      " |  predict_log_proba(self, X)\n",
      " |      Predict class log-probabilities of the input samples X.\n",
      " |      \n",
      " |      Parameters\n",
      " |      ----------\n",
      " |      X : {array-like, sparse matrix} of shape (n_samples, n_features)\n",
      " |          The input samples. Internally, it will be converted to\n",
      " |          ``dtype=np.float32`` and if a sparse matrix is provided\n",
      " |          to a sparse ``csr_matrix``.\n",
      " |      \n",
      " |      Returns\n",
      " |      -------\n",
      " |      proba : ndarray of shape (n_samples, n_classes) or list of n_outputs             such arrays if n_outputs > 1\n",
      " |          The class log-probabilities of the input samples. The order of the\n",
      " |          classes corresponds to that in the attribute :term:`classes_`.\n",
      " |  \n",
      " |  predict_proba(self, X, check_input=True)\n",
      " |      Predict class probabilities of the input samples X.\n",
      " |      \n",
      " |      The predicted class probability is the fraction of samples of the same\n",
      " |      class in a leaf.\n",
      " |      \n",
      " |      Parameters\n",
      " |      ----------\n",
      " |      X : {array-like, sparse matrix} of shape (n_samples, n_features)\n",
      " |          The input samples. Internally, it will be converted to\n",
      " |          ``dtype=np.float32`` and if a sparse matrix is provided\n",
      " |          to a sparse ``csr_matrix``.\n",
      " |      \n",
      " |      check_input : bool, default=True\n",
      " |          Allow to bypass several input checking.\n",
      " |          Don't use this parameter unless you know what you're doing.\n",
      " |      \n",
      " |      Returns\n",
      " |      -------\n",
      " |      proba : ndarray of shape (n_samples, n_classes) or list of n_outputs             such arrays if n_outputs > 1\n",
      " |          The class probabilities of the input samples. The order of the\n",
      " |          classes corresponds to that in the attribute :term:`classes_`.\n",
      " |  \n",
      " |  set_fit_request(self: sklearn.tree._classes.DecisionTreeClassifier, *, check_input: Union[bool, NoneType, str] = '$UNCHANGED$', sample_weight: Union[bool, NoneType, str] = '$UNCHANGED$') -> sklearn.tree._classes.DecisionTreeClassifier\n",
      " |      Request metadata passed to the ``fit`` method.\n",
      " |      \n",
      " |      Note that this method is only relevant if\n",
      " |      ``enable_metadata_routing=True`` (see :func:`sklearn.set_config`).\n",
      " |      Please see :ref:`User Guide <metadata_routing>` on how the routing\n",
      " |      mechanism works.\n",
      " |      \n",
      " |      The options for each parameter are:\n",
      " |      \n",
      " |      - ``True``: metadata is requested, and passed to ``fit`` if provided. The request is ignored if metadata is not provided.\n",
      " |      \n",
      " |      - ``False``: metadata is not requested and the meta-estimator will not pass it to ``fit``.\n",
      " |      \n",
      " |      - ``None``: metadata is not requested, and the meta-estimator will raise an error if the user provides it.\n",
      " |      \n",
      " |      - ``str``: metadata should be passed to the meta-estimator with this given alias instead of the original name.\n",
      " |      \n",
      " |      The default (``sklearn.utils.metadata_routing.UNCHANGED``) retains the\n",
      " |      existing request. This allows you to change the request for some\n",
      " |      parameters and not others.\n",
      " |      \n",
      " |      .. versionadded:: 1.3\n",
      " |      \n",
      " |      .. note::\n",
      " |          This method is only relevant if this estimator is used as a\n",
      " |          sub-estimator of a meta-estimator, e.g. used inside a\n",
      " |          :class:`~sklearn.pipeline.Pipeline`. Otherwise it has no effect.\n",
      " |      \n",
      " |      Parameters\n",
      " |      ----------\n",
      " |      check_input : str, True, False, or None,                     default=sklearn.utils.metadata_routing.UNCHANGED\n",
      " |          Metadata routing for ``check_input`` parameter in ``fit``.\n",
      " |      \n",
      " |      sample_weight : str, True, False, or None,                     default=sklearn.utils.metadata_routing.UNCHANGED\n",
      " |          Metadata routing for ``sample_weight`` parameter in ``fit``.\n",
      " |      \n",
      " |      Returns\n",
      " |      -------\n",
      " |      self : object\n",
      " |          The updated object.\n",
      " |  \n",
      " |  set_predict_proba_request(self: sklearn.tree._classes.DecisionTreeClassifier, *, check_input: Union[bool, NoneType, str] = '$UNCHANGED$') -> sklearn.tree._classes.DecisionTreeClassifier\n",
      " |      Request metadata passed to the ``predict_proba`` method.\n",
      " |      \n",
      " |      Note that this method is only relevant if\n",
      " |      ``enable_metadata_routing=True`` (see :func:`sklearn.set_config`).\n",
      " |      Please see :ref:`User Guide <metadata_routing>` on how the routing\n",
      " |      mechanism works.\n",
      " |      \n",
      " |      The options for each parameter are:\n",
      " |      \n",
      " |      - ``True``: metadata is requested, and passed to ``predict_proba`` if provided. The request is ignored if metadata is not provided.\n",
      " |      \n",
      " |      - ``False``: metadata is not requested and the meta-estimator will not pass it to ``predict_proba``.\n",
      " |      \n",
      " |      - ``None``: metadata is not requested, and the meta-estimator will raise an error if the user provides it.\n",
      " |      \n",
      " |      - ``str``: metadata should be passed to the meta-estimator with this given alias instead of the original name.\n",
      " |      \n",
      " |      The default (``sklearn.utils.metadata_routing.UNCHANGED``) retains the\n",
      " |      existing request. This allows you to change the request for some\n",
      " |      parameters and not others.\n",
      " |      \n",
      " |      .. versionadded:: 1.3\n",
      " |      \n",
      " |      .. note::\n",
      " |          This method is only relevant if this estimator is used as a\n",
      " |          sub-estimator of a meta-estimator, e.g. used inside a\n",
      " |          :class:`~sklearn.pipeline.Pipeline`. Otherwise it has no effect.\n",
      " |      \n",
      " |      Parameters\n",
      " |      ----------\n",
      " |      check_input : str, True, False, or None,                     default=sklearn.utils.metadata_routing.UNCHANGED\n",
      " |          Metadata routing for ``check_input`` parameter in ``predict_proba``.\n",
      " |      \n",
      " |      Returns\n",
      " |      -------\n",
      " |      self : object\n",
      " |          The updated object.\n",
      " |  \n",
      " |  set_predict_request(self: sklearn.tree._classes.DecisionTreeClassifier, *, check_input: Union[bool, NoneType, str] = '$UNCHANGED$') -> sklearn.tree._classes.DecisionTreeClassifier\n",
      " |      Request metadata passed to the ``predict`` method.\n",
      " |      \n",
      " |      Note that this method is only relevant if\n",
      " |      ``enable_metadata_routing=True`` (see :func:`sklearn.set_config`).\n",
      " |      Please see :ref:`User Guide <metadata_routing>` on how the routing\n",
      " |      mechanism works.\n",
      " |      \n",
      " |      The options for each parameter are:\n",
      " |      \n",
      " |      - ``True``: metadata is requested, and passed to ``predict`` if provided. The request is ignored if metadata is not provided.\n",
      " |      \n",
      " |      - ``False``: metadata is not requested and the meta-estimator will not pass it to ``predict``.\n",
      " |      \n",
      " |      - ``None``: metadata is not requested, and the meta-estimator will raise an error if the user provides it.\n",
      " |      \n",
      " |      - ``str``: metadata should be passed to the meta-estimator with this given alias instead of the original name.\n",
      " |      \n",
      " |      The default (``sklearn.utils.metadata_routing.UNCHANGED``) retains the\n",
      " |      existing request. This allows you to change the request for some\n",
      " |      parameters and not others.\n",
      " |      \n",
      " |      .. versionadded:: 1.3\n",
      " |      \n",
      " |      .. note::\n",
      " |          This method is only relevant if this estimator is used as a\n",
      " |          sub-estimator of a meta-estimator, e.g. used inside a\n",
      " |          :class:`~sklearn.pipeline.Pipeline`. Otherwise it has no effect.\n",
      " |      \n",
      " |      Parameters\n",
      " |      ----------\n",
      " |      check_input : str, True, False, or None,                     default=sklearn.utils.metadata_routing.UNCHANGED\n",
      " |          Metadata routing for ``check_input`` parameter in ``predict``.\n",
      " |      \n",
      " |      Returns\n",
      " |      -------\n",
      " |      self : object\n",
      " |          The updated object.\n",
      " |  \n",
      " |  set_score_request(self: sklearn.tree._classes.DecisionTreeClassifier, *, sample_weight: Union[bool, NoneType, str] = '$UNCHANGED$') -> sklearn.tree._classes.DecisionTreeClassifier\n",
      " |      Request metadata passed to the ``score`` method.\n",
      " |      \n",
      " |      Note that this method is only relevant if\n",
      " |      ``enable_metadata_routing=True`` (see :func:`sklearn.set_config`).\n",
      " |      Please see :ref:`User Guide <metadata_routing>` on how the routing\n",
      " |      mechanism works.\n",
      " |      \n",
      " |      The options for each parameter are:\n",
      " |      \n",
      " |      - ``True``: metadata is requested, and passed to ``score`` if provided. The request is ignored if metadata is not provided.\n",
      " |      \n",
      " |      - ``False``: metadata is not requested and the meta-estimator will not pass it to ``score``.\n",
      " |      \n",
      " |      - ``None``: metadata is not requested, and the meta-estimator will raise an error if the user provides it.\n",
      " |      \n",
      " |      - ``str``: metadata should be passed to the meta-estimator with this given alias instead of the original name.\n",
      " |      \n",
      " |      The default (``sklearn.utils.metadata_routing.UNCHANGED``) retains the\n",
      " |      existing request. This allows you to change the request for some\n",
      " |      parameters and not others.\n",
      " |      \n",
      " |      .. versionadded:: 1.3\n",
      " |      \n",
      " |      .. note::\n",
      " |          This method is only relevant if this estimator is used as a\n",
      " |          sub-estimator of a meta-estimator, e.g. used inside a\n",
      " |          :class:`~sklearn.pipeline.Pipeline`. Otherwise it has no effect.\n",
      " |      \n",
      " |      Parameters\n",
      " |      ----------\n",
      " |      sample_weight : str, True, False, or None,                     default=sklearn.utils.metadata_routing.UNCHANGED\n",
      " |          Metadata routing for ``sample_weight`` parameter in ``score``.\n",
      " |      \n",
      " |      Returns\n",
      " |      -------\n",
      " |      self : object\n",
      " |          The updated object.\n",
      " |  \n",
      " |  ----------------------------------------------------------------------\n",
      " |  Data and other attributes defined here:\n",
      " |  \n",
      " |  __abstractmethods__ = frozenset()\n",
      " |  \n",
      " |  __annotations__ = {'_parameter_constraints': <class 'dict'>}\n",
      " |  \n",
      " |  ----------------------------------------------------------------------\n",
      " |  Methods inherited from sklearn.base.ClassifierMixin:\n",
      " |  \n",
      " |  score(self, X, y, sample_weight=None)\n",
      " |      Return the mean accuracy on the given test data and labels.\n",
      " |      \n",
      " |      In multi-label classification, this is the subset accuracy\n",
      " |      which is a harsh metric since you require for each sample that\n",
      " |      each label set be correctly predicted.\n",
      " |      \n",
      " |      Parameters\n",
      " |      ----------\n",
      " |      X : array-like of shape (n_samples, n_features)\n",
      " |          Test samples.\n",
      " |      \n",
      " |      y : array-like of shape (n_samples,) or (n_samples, n_outputs)\n",
      " |          True labels for `X`.\n",
      " |      \n",
      " |      sample_weight : array-like of shape (n_samples,), default=None\n",
      " |          Sample weights.\n",
      " |      \n",
      " |      Returns\n",
      " |      -------\n",
      " |      score : float\n",
      " |          Mean accuracy of ``self.predict(X)`` w.r.t. `y`.\n",
      " |  \n",
      " |  ----------------------------------------------------------------------\n",
      " |  Data descriptors inherited from sklearn.base.ClassifierMixin:\n",
      " |  \n",
      " |  __dict__\n",
      " |      dictionary for instance variables (if defined)\n",
      " |  \n",
      " |  __weakref__\n",
      " |      list of weak references to the object (if defined)\n",
      " |  \n",
      " |  ----------------------------------------------------------------------\n",
      " |  Methods inherited from BaseDecisionTree:\n",
      " |  \n",
      " |  apply(self, X, check_input=True)\n",
      " |      Return the index of the leaf that each sample is predicted as.\n",
      " |      \n",
      " |      .. versionadded:: 0.17\n",
      " |      \n",
      " |      Parameters\n",
      " |      ----------\n",
      " |      X : {array-like, sparse matrix} of shape (n_samples, n_features)\n",
      " |          The input samples. Internally, it will be converted to\n",
      " |          ``dtype=np.float32`` and if a sparse matrix is provided\n",
      " |          to a sparse ``csr_matrix``.\n",
      " |      \n",
      " |      check_input : bool, default=True\n",
      " |          Allow to bypass several input checking.\n",
      " |          Don't use this parameter unless you know what you're doing.\n",
      " |      \n",
      " |      Returns\n",
      " |      -------\n",
      " |      X_leaves : array-like of shape (n_samples,)\n",
      " |          For each datapoint x in X, return the index of the leaf x\n",
      " |          ends up in. Leaves are numbered within\n",
      " |          ``[0; self.tree_.node_count)``, possibly with gaps in the\n",
      " |          numbering.\n",
      " |  \n",
      " |  cost_complexity_pruning_path(self, X, y, sample_weight=None)\n",
      " |      Compute the pruning path during Minimal Cost-Complexity Pruning.\n",
      " |      \n",
      " |      See :ref:`minimal_cost_complexity_pruning` for details on the pruning\n",
      " |      process.\n",
      " |      \n",
      " |      Parameters\n",
      " |      ----------\n",
      " |      X : {array-like, sparse matrix} of shape (n_samples, n_features)\n",
      " |          The training input samples. Internally, it will be converted to\n",
      " |          ``dtype=np.float32`` and if a sparse matrix is provided\n",
      " |          to a sparse ``csc_matrix``.\n",
      " |      \n",
      " |      y : array-like of shape (n_samples,) or (n_samples, n_outputs)\n",
      " |          The target values (class labels) as integers or strings.\n",
      " |      \n",
      " |      sample_weight : array-like of shape (n_samples,), default=None\n",
      " |          Sample weights. If None, then samples are equally weighted. Splits\n",
      " |          that would create child nodes with net zero or negative weight are\n",
      " |          ignored while searching for a split in each node. Splits are also\n",
      " |          ignored if they would result in any single class carrying a\n",
      " |          negative weight in either child node.\n",
      " |      \n",
      " |      Returns\n",
      " |      -------\n",
      " |      ccp_path : :class:`~sklearn.utils.Bunch`\n",
      " |          Dictionary-like object, with the following attributes.\n",
      " |      \n",
      " |          ccp_alphas : ndarray\n",
      " |              Effective alphas of subtree during pruning.\n",
      " |      \n",
      " |          impurities : ndarray\n",
      " |              Sum of the impurities of the subtree leaves for the\n",
      " |              corresponding alpha value in ``ccp_alphas``.\n",
      " |  \n",
      " |  decision_path(self, X, check_input=True)\n",
      " |      Return the decision path in the tree.\n",
      " |      \n",
      " |      .. versionadded:: 0.18\n",
      " |      \n",
      " |      Parameters\n",
      " |      ----------\n",
      " |      X : {array-like, sparse matrix} of shape (n_samples, n_features)\n",
      " |          The input samples. Internally, it will be converted to\n",
      " |          ``dtype=np.float32`` and if a sparse matrix is provided\n",
      " |          to a sparse ``csr_matrix``.\n",
      " |      \n",
      " |      check_input : bool, default=True\n",
      " |          Allow to bypass several input checking.\n",
      " |          Don't use this parameter unless you know what you're doing.\n",
      " |      \n",
      " |      Returns\n",
      " |      -------\n",
      " |      indicator : sparse matrix of shape (n_samples, n_nodes)\n",
      " |          Return a node indicator CSR matrix where non zero elements\n",
      " |          indicates that the samples goes through the nodes.\n",
      " |  \n",
      " |  get_depth(self)\n",
      " |      Return the depth of the decision tree.\n",
      " |      \n",
      " |      The depth of a tree is the maximum distance between the root\n",
      " |      and any leaf.\n",
      " |      \n",
      " |      Returns\n",
      " |      -------\n",
      " |      self.tree_.max_depth : int\n",
      " |          The maximum depth of the tree.\n",
      " |  \n",
      " |  get_n_leaves(self)\n",
      " |      Return the number of leaves of the decision tree.\n",
      " |      \n",
      " |      Returns\n",
      " |      -------\n",
      " |      self.tree_.n_leaves : int\n",
      " |          Number of leaves.\n",
      " |  \n",
      " |  predict(self, X, check_input=True)\n",
      " |      Predict class or regression value for X.\n",
      " |      \n",
      " |      For a classification model, the predicted class for each sample in X is\n",
      " |      returned. For a regression model, the predicted value based on X is\n",
      " |      returned.\n",
      " |      \n",
      " |      Parameters\n",
      " |      ----------\n",
      " |      X : {array-like, sparse matrix} of shape (n_samples, n_features)\n",
      " |          The input samples. Internally, it will be converted to\n",
      " |          ``dtype=np.float32`` and if a sparse matrix is provided\n",
      " |          to a sparse ``csr_matrix``.\n",
      " |      \n",
      " |      check_input : bool, default=True\n",
      " |          Allow to bypass several input checking.\n",
      " |          Don't use this parameter unless you know what you're doing.\n",
      " |      \n",
      " |      Returns\n",
      " |      -------\n",
      " |      y : array-like of shape (n_samples,) or (n_samples, n_outputs)\n",
      " |          The predicted classes, or the predict values.\n",
      " |  \n",
      " |  ----------------------------------------------------------------------\n",
      " |  Readonly properties inherited from BaseDecisionTree:\n",
      " |  \n",
      " |  feature_importances_\n",
      " |      Return the feature importances.\n",
      " |      \n",
      " |      The importance of a feature is computed as the (normalized) total\n",
      " |      reduction of the criterion brought by that feature.\n",
      " |      It is also known as the Gini importance.\n",
      " |      \n",
      " |      Warning: impurity-based feature importances can be misleading for\n",
      " |      high cardinality features (many unique values). See\n",
      " |      :func:`sklearn.inspection.permutation_importance` as an alternative.\n",
      " |      \n",
      " |      Returns\n",
      " |      -------\n",
      " |      feature_importances_ : ndarray of shape (n_features,)\n",
      " |          Normalized total reduction of criteria by feature\n",
      " |          (Gini importance).\n",
      " |  \n",
      " |  ----------------------------------------------------------------------\n",
      " |  Methods inherited from sklearn.base.BaseEstimator:\n",
      " |  \n",
      " |  __getstate__(self)\n",
      " |  \n",
      " |  __repr__(self, N_CHAR_MAX=700)\n",
      " |      Return repr(self).\n",
      " |  \n",
      " |  __setstate__(self, state)\n",
      " |  \n",
      " |  __sklearn_clone__(self)\n",
      " |  \n",
      " |  get_params(self, deep=True)\n",
      " |      Get parameters for this estimator.\n",
      " |      \n",
      " |      Parameters\n",
      " |      ----------\n",
      " |      deep : bool, default=True\n",
      " |          If True, will return the parameters for this estimator and\n",
      " |          contained subobjects that are estimators.\n",
      " |      \n",
      " |      Returns\n",
      " |      -------\n",
      " |      params : dict\n",
      " |          Parameter names mapped to their values.\n",
      " |  \n",
      " |  set_params(self, **params)\n",
      " |      Set the parameters of this estimator.\n",
      " |      \n",
      " |      The method works on simple estimators as well as on nested objects\n",
      " |      (such as :class:`~sklearn.pipeline.Pipeline`). The latter have\n",
      " |      parameters of the form ``<component>__<parameter>`` so that it's\n",
      " |      possible to update each component of a nested object.\n",
      " |      \n",
      " |      Parameters\n",
      " |      ----------\n",
      " |      **params : dict\n",
      " |          Estimator parameters.\n",
      " |      \n",
      " |      Returns\n",
      " |      -------\n",
      " |      self : estimator instance\n",
      " |          Estimator instance.\n",
      " |  \n",
      " |  ----------------------------------------------------------------------\n",
      " |  Methods inherited from sklearn.utils._metadata_requests._MetadataRequester:\n",
      " |  \n",
      " |  get_metadata_routing(self)\n",
      " |      Get metadata routing of this object.\n",
      " |      \n",
      " |      Please check :ref:`User Guide <metadata_routing>` on how the routing\n",
      " |      mechanism works.\n",
      " |      \n",
      " |      Returns\n",
      " |      -------\n",
      " |      routing : MetadataRequest\n",
      " |          A :class:`~sklearn.utils.metadata_routing.MetadataRequest` encapsulating\n",
      " |          routing information.\n",
      " |  \n",
      " |  ----------------------------------------------------------------------\n",
      " |  Class methods inherited from sklearn.utils._metadata_requests._MetadataRequester:\n",
      " |  \n",
      " |  __init_subclass__(**kwargs) from abc.ABCMeta\n",
      " |      Set the ``set_{method}_request`` methods.\n",
      " |      \n",
      " |      This uses PEP-487 [1]_ to set the ``set_{method}_request`` methods. It\n",
      " |      looks for the information available in the set default values which are\n",
      " |      set using ``__metadata_request__*`` class attributes, or inferred\n",
      " |      from method signatures.\n",
      " |      \n",
      " |      The ``__metadata_request__*`` class attributes are used when a method\n",
      " |      does not explicitly accept a metadata through its arguments or if the\n",
      " |      developer would like to specify a request value for those metadata\n",
      " |      which are different from the default ``None``.\n",
      " |      \n",
      " |      References\n",
      " |      ----------\n",
      " |      .. [1] https://www.python.org/dev/peps/pep-0487\n"
     ]
    }
   ],
   "source": [
    "help(DecisionTreeClassifier)"
   ]
  },
  {
   "cell_type": "markdown",
   "metadata": {},
   "source": [
    "### Fit Tree Model"
   ]
  },
  {
   "cell_type": "code",
   "execution_count": 31,
   "metadata": {
    "ExecuteTime": {
     "end_time": "2024-02-23T05:26:03.298515400Z",
     "start_time": "2024-02-23T05:26:03.132643600Z"
    }
   },
   "outputs": [
    {
     "data": {
      "text/plain": "DecisionTreeClassifier(criterion='entropy')",
      "text/html": "<style>#sk-container-id-1 {\n  /* Definition of color scheme common for light and dark mode */\n  --sklearn-color-text: black;\n  --sklearn-color-line: gray;\n  /* Definition of color scheme for unfitted estimators */\n  --sklearn-color-unfitted-level-0: #fff5e6;\n  --sklearn-color-unfitted-level-1: #f6e4d2;\n  --sklearn-color-unfitted-level-2: #ffe0b3;\n  --sklearn-color-unfitted-level-3: chocolate;\n  /* Definition of color scheme for fitted estimators */\n  --sklearn-color-fitted-level-0: #f0f8ff;\n  --sklearn-color-fitted-level-1: #d4ebff;\n  --sklearn-color-fitted-level-2: #b3dbfd;\n  --sklearn-color-fitted-level-3: cornflowerblue;\n\n  /* Specific color for light theme */\n  --sklearn-color-text-on-default-background: var(--sg-text-color, var(--theme-code-foreground, var(--jp-content-font-color1, black)));\n  --sklearn-color-background: var(--sg-background-color, var(--theme-background, var(--jp-layout-color0, white)));\n  --sklearn-color-border-box: var(--sg-text-color, var(--theme-code-foreground, var(--jp-content-font-color1, black)));\n  --sklearn-color-icon: #696969;\n\n  @media (prefers-color-scheme: dark) {\n    /* Redefinition of color scheme for dark theme */\n    --sklearn-color-text-on-default-background: var(--sg-text-color, var(--theme-code-foreground, var(--jp-content-font-color1, white)));\n    --sklearn-color-background: var(--sg-background-color, var(--theme-background, var(--jp-layout-color0, #111)));\n    --sklearn-color-border-box: var(--sg-text-color, var(--theme-code-foreground, var(--jp-content-font-color1, white)));\n    --sklearn-color-icon: #878787;\n  }\n}\n\n#sk-container-id-1 {\n  color: var(--sklearn-color-text);\n}\n\n#sk-container-id-1 pre {\n  padding: 0;\n}\n\n#sk-container-id-1 input.sk-hidden--visually {\n  border: 0;\n  clip: rect(1px 1px 1px 1px);\n  clip: rect(1px, 1px, 1px, 1px);\n  height: 1px;\n  margin: -1px;\n  overflow: hidden;\n  padding: 0;\n  position: absolute;\n  width: 1px;\n}\n\n#sk-container-id-1 div.sk-dashed-wrapped {\n  border: 1px dashed var(--sklearn-color-line);\n  margin: 0 0.4em 0.5em 0.4em;\n  box-sizing: border-box;\n  padding-bottom: 0.4em;\n  background-color: var(--sklearn-color-background);\n}\n\n#sk-container-id-1 div.sk-container {\n  /* jupyter's `normalize.less` sets `[hidden] { display: none; }`\n     but bootstrap.min.css set `[hidden] { display: none !important; }`\n     so we also need the `!important` here to be able to override the\n     default hidden behavior on the sphinx rendered scikit-learn.org.\n     See: https://github.com/scikit-learn/scikit-learn/issues/21755 */\n  display: inline-block !important;\n  position: relative;\n}\n\n#sk-container-id-1 div.sk-text-repr-fallback {\n  display: none;\n}\n\ndiv.sk-parallel-item,\ndiv.sk-serial,\ndiv.sk-item {\n  /* draw centered vertical line to link estimators */\n  background-image: linear-gradient(var(--sklearn-color-text-on-default-background), var(--sklearn-color-text-on-default-background));\n  background-size: 2px 100%;\n  background-repeat: no-repeat;\n  background-position: center center;\n}\n\n/* Parallel-specific style estimator block */\n\n#sk-container-id-1 div.sk-parallel-item::after {\n  content: \"\";\n  width: 100%;\n  border-bottom: 2px solid var(--sklearn-color-text-on-default-background);\n  flex-grow: 1;\n}\n\n#sk-container-id-1 div.sk-parallel {\n  display: flex;\n  align-items: stretch;\n  justify-content: center;\n  background-color: var(--sklearn-color-background);\n  position: relative;\n}\n\n#sk-container-id-1 div.sk-parallel-item {\n  display: flex;\n  flex-direction: column;\n}\n\n#sk-container-id-1 div.sk-parallel-item:first-child::after {\n  align-self: flex-end;\n  width: 50%;\n}\n\n#sk-container-id-1 div.sk-parallel-item:last-child::after {\n  align-self: flex-start;\n  width: 50%;\n}\n\n#sk-container-id-1 div.sk-parallel-item:only-child::after {\n  width: 0;\n}\n\n/* Serial-specific style estimator block */\n\n#sk-container-id-1 div.sk-serial {\n  display: flex;\n  flex-direction: column;\n  align-items: center;\n  background-color: var(--sklearn-color-background);\n  padding-right: 1em;\n  padding-left: 1em;\n}\n\n\n/* Toggleable style: style used for estimator/Pipeline/ColumnTransformer box that is\nclickable and can be expanded/collapsed.\n- Pipeline and ColumnTransformer use this feature and define the default style\n- Estimators will overwrite some part of the style using the `sk-estimator` class\n*/\n\n/* Pipeline and ColumnTransformer style (default) */\n\n#sk-container-id-1 div.sk-toggleable {\n  /* Default theme specific background. It is overwritten whether we have a\n  specific estimator or a Pipeline/ColumnTransformer */\n  background-color: var(--sklearn-color-background);\n}\n\n/* Toggleable label */\n#sk-container-id-1 label.sk-toggleable__label {\n  cursor: pointer;\n  display: block;\n  width: 100%;\n  margin-bottom: 0;\n  padding: 0.5em;\n  box-sizing: border-box;\n  text-align: center;\n}\n\n#sk-container-id-1 label.sk-toggleable__label-arrow:before {\n  /* Arrow on the left of the label */\n  content: \"▸\";\n  float: left;\n  margin-right: 0.25em;\n  color: var(--sklearn-color-icon);\n}\n\n#sk-container-id-1 label.sk-toggleable__label-arrow:hover:before {\n  color: var(--sklearn-color-text);\n}\n\n/* Toggleable content - dropdown */\n\n#sk-container-id-1 div.sk-toggleable__content {\n  max-height: 0;\n  max-width: 0;\n  overflow: hidden;\n  text-align: left;\n  /* unfitted */\n  background-color: var(--sklearn-color-unfitted-level-0);\n}\n\n#sk-container-id-1 div.sk-toggleable__content.fitted {\n  /* fitted */\n  background-color: var(--sklearn-color-fitted-level-0);\n}\n\n#sk-container-id-1 div.sk-toggleable__content pre {\n  margin: 0.2em;\n  border-radius: 0.25em;\n  color: var(--sklearn-color-text);\n  /* unfitted */\n  background-color: var(--sklearn-color-unfitted-level-0);\n}\n\n#sk-container-id-1 div.sk-toggleable__content.fitted pre {\n  /* unfitted */\n  background-color: var(--sklearn-color-fitted-level-0);\n}\n\n#sk-container-id-1 input.sk-toggleable__control:checked~div.sk-toggleable__content {\n  /* Expand drop-down */\n  max-height: 200px;\n  max-width: 100%;\n  overflow: auto;\n}\n\n#sk-container-id-1 input.sk-toggleable__control:checked~label.sk-toggleable__label-arrow:before {\n  content: \"▾\";\n}\n\n/* Pipeline/ColumnTransformer-specific style */\n\n#sk-container-id-1 div.sk-label input.sk-toggleable__control:checked~label.sk-toggleable__label {\n  color: var(--sklearn-color-text);\n  background-color: var(--sklearn-color-unfitted-level-2);\n}\n\n#sk-container-id-1 div.sk-label.fitted input.sk-toggleable__control:checked~label.sk-toggleable__label {\n  background-color: var(--sklearn-color-fitted-level-2);\n}\n\n/* Estimator-specific style */\n\n/* Colorize estimator box */\n#sk-container-id-1 div.sk-estimator input.sk-toggleable__control:checked~label.sk-toggleable__label {\n  /* unfitted */\n  background-color: var(--sklearn-color-unfitted-level-2);\n}\n\n#sk-container-id-1 div.sk-estimator.fitted input.sk-toggleable__control:checked~label.sk-toggleable__label {\n  /* fitted */\n  background-color: var(--sklearn-color-fitted-level-2);\n}\n\n#sk-container-id-1 div.sk-label label.sk-toggleable__label,\n#sk-container-id-1 div.sk-label label {\n  /* The background is the default theme color */\n  color: var(--sklearn-color-text-on-default-background);\n}\n\n/* On hover, darken the color of the background */\n#sk-container-id-1 div.sk-label:hover label.sk-toggleable__label {\n  color: var(--sklearn-color-text);\n  background-color: var(--sklearn-color-unfitted-level-2);\n}\n\n/* Label box, darken color on hover, fitted */\n#sk-container-id-1 div.sk-label.fitted:hover label.sk-toggleable__label.fitted {\n  color: var(--sklearn-color-text);\n  background-color: var(--sklearn-color-fitted-level-2);\n}\n\n/* Estimator label */\n\n#sk-container-id-1 div.sk-label label {\n  font-family: monospace;\n  font-weight: bold;\n  display: inline-block;\n  line-height: 1.2em;\n}\n\n#sk-container-id-1 div.sk-label-container {\n  text-align: center;\n}\n\n/* Estimator-specific */\n#sk-container-id-1 div.sk-estimator {\n  font-family: monospace;\n  border: 1px dotted var(--sklearn-color-border-box);\n  border-radius: 0.25em;\n  box-sizing: border-box;\n  margin-bottom: 0.5em;\n  /* unfitted */\n  background-color: var(--sklearn-color-unfitted-level-0);\n}\n\n#sk-container-id-1 div.sk-estimator.fitted {\n  /* fitted */\n  background-color: var(--sklearn-color-fitted-level-0);\n}\n\n/* on hover */\n#sk-container-id-1 div.sk-estimator:hover {\n  /* unfitted */\n  background-color: var(--sklearn-color-unfitted-level-2);\n}\n\n#sk-container-id-1 div.sk-estimator.fitted:hover {\n  /* fitted */\n  background-color: var(--sklearn-color-fitted-level-2);\n}\n\n/* Specification for estimator info (e.g. \"i\" and \"?\") */\n\n/* Common style for \"i\" and \"?\" */\n\n.sk-estimator-doc-link,\na:link.sk-estimator-doc-link,\na:visited.sk-estimator-doc-link {\n  float: right;\n  font-size: smaller;\n  line-height: 1em;\n  font-family: monospace;\n  background-color: var(--sklearn-color-background);\n  border-radius: 1em;\n  height: 1em;\n  width: 1em;\n  text-decoration: none !important;\n  margin-left: 1ex;\n  /* unfitted */\n  border: var(--sklearn-color-unfitted-level-1) 1pt solid;\n  color: var(--sklearn-color-unfitted-level-1);\n}\n\n.sk-estimator-doc-link.fitted,\na:link.sk-estimator-doc-link.fitted,\na:visited.sk-estimator-doc-link.fitted {\n  /* fitted */\n  border: var(--sklearn-color-fitted-level-1) 1pt solid;\n  color: var(--sklearn-color-fitted-level-1);\n}\n\n/* On hover */\ndiv.sk-estimator:hover .sk-estimator-doc-link:hover,\n.sk-estimator-doc-link:hover,\ndiv.sk-label-container:hover .sk-estimator-doc-link:hover,\n.sk-estimator-doc-link:hover {\n  /* unfitted */\n  background-color: var(--sklearn-color-unfitted-level-3);\n  color: var(--sklearn-color-background);\n  text-decoration: none;\n}\n\ndiv.sk-estimator.fitted:hover .sk-estimator-doc-link.fitted:hover,\n.sk-estimator-doc-link.fitted:hover,\ndiv.sk-label-container:hover .sk-estimator-doc-link.fitted:hover,\n.sk-estimator-doc-link.fitted:hover {\n  /* fitted */\n  background-color: var(--sklearn-color-fitted-level-3);\n  color: var(--sklearn-color-background);\n  text-decoration: none;\n}\n\n/* Span, style for the box shown on hovering the info icon */\n.sk-estimator-doc-link span {\n  display: none;\n  z-index: 9999;\n  position: relative;\n  font-weight: normal;\n  right: .2ex;\n  padding: .5ex;\n  margin: .5ex;\n  width: min-content;\n  min-width: 20ex;\n  max-width: 50ex;\n  color: var(--sklearn-color-text);\n  box-shadow: 2pt 2pt 4pt #999;\n  /* unfitted */\n  background: var(--sklearn-color-unfitted-level-0);\n  border: .5pt solid var(--sklearn-color-unfitted-level-3);\n}\n\n.sk-estimator-doc-link.fitted span {\n  /* fitted */\n  background: var(--sklearn-color-fitted-level-0);\n  border: var(--sklearn-color-fitted-level-3);\n}\n\n.sk-estimator-doc-link:hover span {\n  display: block;\n}\n\n/* \"?\"-specific style due to the `<a>` HTML tag */\n\n#sk-container-id-1 a.estimator_doc_link {\n  float: right;\n  font-size: 1rem;\n  line-height: 1em;\n  font-family: monospace;\n  background-color: var(--sklearn-color-background);\n  border-radius: 1rem;\n  height: 1rem;\n  width: 1rem;\n  text-decoration: none;\n  /* unfitted */\n  color: var(--sklearn-color-unfitted-level-1);\n  border: var(--sklearn-color-unfitted-level-1) 1pt solid;\n}\n\n#sk-container-id-1 a.estimator_doc_link.fitted {\n  /* fitted */\n  border: var(--sklearn-color-fitted-level-1) 1pt solid;\n  color: var(--sklearn-color-fitted-level-1);\n}\n\n/* On hover */\n#sk-container-id-1 a.estimator_doc_link:hover {\n  /* unfitted */\n  background-color: var(--sklearn-color-unfitted-level-3);\n  color: var(--sklearn-color-background);\n  text-decoration: none;\n}\n\n#sk-container-id-1 a.estimator_doc_link.fitted:hover {\n  /* fitted */\n  background-color: var(--sklearn-color-fitted-level-3);\n}\n</style><div id=\"sk-container-id-1\" class=\"sk-top-container\"><div class=\"sk-text-repr-fallback\"><pre>DecisionTreeClassifier(criterion=&#x27;entropy&#x27;)</pre><b>In a Jupyter environment, please rerun this cell to show the HTML representation or trust the notebook. <br />On GitHub, the HTML representation is unable to render, please try loading this page with nbviewer.org.</b></div><div class=\"sk-container\" hidden><div class=\"sk-item\"><div class=\"sk-estimator fitted sk-toggleable\"><input class=\"sk-toggleable__control sk-hidden--visually\" id=\"sk-estimator-id-1\" type=\"checkbox\" checked><label for=\"sk-estimator-id-1\" class=\"sk-toggleable__label fitted sk-toggleable__label-arrow fitted\">&nbsp;&nbsp;DecisionTreeClassifier<a class=\"sk-estimator-doc-link fitted\" rel=\"noreferrer\" target=\"_blank\" href=\"https://scikit-learn.org/1.4/modules/generated/sklearn.tree.DecisionTreeClassifier.html\">?<span>Documentation for DecisionTreeClassifier</span></a><span class=\"sk-estimator-doc-link fitted\">i<span>Fitted</span></span></label><div class=\"sk-toggleable__content fitted\"><pre>DecisionTreeClassifier(criterion=&#x27;entropy&#x27;)</pre></div> </div></div></div></div>"
     },
     "execution_count": 31,
     "metadata": {},
     "output_type": "execute_result"
    }
   ],
   "source": [
    "# fit the model by 70% training data\n",
    "\n",
    "fullmodel.fit(X_train, y_train)"
   ]
  },
  {
   "cell_type": "code",
   "execution_count": 32,
   "metadata": {
    "ExecuteTime": {
     "end_time": "2024-02-23T05:26:04.035190700Z",
     "start_time": "2024-02-23T05:26:03.988349200Z"
    }
   },
   "outputs": [],
   "source": [
    "# get tree object and view its structure\n",
    "\n",
    "treeObj = fullmodel.tree_"
   ]
  },
  {
   "cell_type": "code",
   "execution_count": 33,
   "metadata": {
    "ExecuteTime": {
     "end_time": "2024-02-23T05:26:04.962301300Z",
     "start_time": "2024-02-23T05:26:04.917485400Z"
    }
   },
   "outputs": [
    {
     "data": {
      "text/plain": "119"
     },
     "execution_count": 33,
     "metadata": {},
     "output_type": "execute_result"
    }
   ],
   "source": [
    "# nodes of tree\n",
    "\n",
    "treeObj.node_count"
   ]
  },
  {
   "cell_type": "code",
   "execution_count": 34,
   "metadata": {
    "ExecuteTime": {
     "end_time": "2024-02-23T05:26:06.023057900Z",
     "start_time": "2024-02-23T05:26:05.930515400Z"
    }
   },
   "outputs": [
    {
     "data": {
      "text/plain": "9"
     },
     "execution_count": 34,
     "metadata": {},
     "output_type": "execute_result"
    }
   ],
   "source": [
    "# depth of the tree\n",
    "\n",
    "treeObj.max_depth"
   ]
  },
  {
   "cell_type": "markdown",
   "metadata": {},
   "source": [
    "### Test Model Performance"
   ]
  },
  {
   "cell_type": "code",
   "execution_count": 35,
   "metadata": {
    "ExecuteTime": {
     "end_time": "2024-02-23T05:26:07.420208600Z",
     "start_time": "2024-02-23T05:26:07.298899800Z"
    }
   },
   "outputs": [
    {
     "data": {
      "text/plain": "array(['Normal', 'Normal', 'Normal', 'Normal', 'Member', 'Member',\n       'Member', 'Normal', 'Member', 'Member', 'Member', 'Member',\n       'Member', 'Normal', 'Normal', 'Member', 'Normal', 'Normal',\n       'Member', 'Member', 'Normal', 'Member', 'Member', 'Member',\n       'Normal', 'Member', 'Member', 'Member', 'Member', 'Member',\n       'Normal', 'Normal', 'Member', 'Normal', 'Member', 'Member',\n       'Member', 'Normal', 'Normal', 'Member', 'Member', 'Member',\n       'Member', 'Normal', 'Normal', 'Normal', 'Member', 'Member',\n       'Member', 'Member', 'Member', 'Member', 'Normal', 'Member',\n       'Normal', 'Normal', 'Normal', 'Normal', 'Member', 'Normal',\n       'Member', 'Normal', 'Normal', 'Normal', 'Member', 'Member',\n       'Normal', 'Member', 'Member', 'Normal', 'Member', 'Normal',\n       'Member', 'Member', 'Member', 'Member', 'Normal', 'Member',\n       'Normal', 'Member', 'Normal', 'Normal', 'Member', 'Member',\n       'Member', 'Member', 'Member', 'Normal', 'Member', 'Member',\n       'Normal', 'Normal', 'Member', 'Normal', 'Normal', 'Normal',\n       'Normal', 'Normal', 'Normal', 'Member', 'Member', 'Member',\n       'Normal', 'Normal', 'Normal', 'Normal', 'Member', 'Normal',\n       'Normal', 'Normal', 'Member', 'Normal', 'Member', 'Normal',\n       'Normal', 'Normal', 'Normal', 'Normal', 'Member', 'Normal',\n       'Member', 'Normal', 'Normal', 'Member', 'Normal', 'Normal',\n       'Member', 'Normal', 'Member', 'Normal', 'Member', 'Member',\n       'Member', 'Member', 'Member', 'Member', 'Member', 'Member',\n       'Normal', 'Member', 'Normal', 'Member', 'Member', 'Member',\n       'Member', 'Member', 'Normal', 'Normal', 'Member', 'Member',\n       'Normal', 'Member', 'Member', 'Normal', 'Normal', 'Member',\n       'Member', 'Member', 'Normal', 'Member', 'Member', 'Normal',\n       'Normal', 'Member', 'Member', 'Member', 'Normal', 'Member',\n       'Member', 'Member', 'Member', 'Member', 'Member', 'Member',\n       'Member', 'Normal', 'Normal', 'Member', 'Member', 'Normal',\n       'Member', 'Member', 'Normal', 'Member', 'Normal', 'Normal',\n       'Normal', 'Normal', 'Normal', 'Member', 'Normal', 'Member',\n       'Member', 'Member', 'Member', 'Member', 'Normal', 'Member',\n       'Normal', 'Member', 'Normal', 'Member', 'Member', 'Normal',\n       'Normal', 'Member', 'Member', 'Normal', 'Normal', 'Normal',\n       'Member', 'Normal', 'Member', 'Member', 'Member', 'Normal',\n       'Member', 'Member', 'Member', 'Member', 'Member', 'Member',\n       'Member', 'Member', 'Member', 'Normal', 'Member', 'Member',\n       'Member', 'Normal', 'Member', 'Member', 'Member', 'Member',\n       'Member', 'Member', 'Normal', 'Member', 'Member', 'Normal',\n       'Member', 'Member', 'Member', 'Normal', 'Member', 'Member',\n       'Member', 'Member', 'Member', 'Member', 'Normal', 'Normal',\n       'Normal', 'Normal', 'Normal', 'Member', 'Member', 'Member',\n       'Member', 'Member', 'Member', 'Member', 'Normal', 'Normal',\n       'Member', 'Normal', 'Normal', 'Member', 'Member', 'Normal',\n       'Member', 'Normal', 'Member', 'Normal', 'Normal', 'Member',\n       'Normal', 'Member', 'Normal', 'Normal', 'Normal', 'Member',\n       'Member', 'Normal', 'Member', 'Normal', 'Member', 'Normal',\n       'Member', 'Normal', 'Member', 'Normal', 'Member', 'Normal',\n       'Member', 'Member', 'Normal', 'Normal', 'Member', 'Normal'],\n      dtype=object)"
     },
     "execution_count": 35,
     "metadata": {},
     "output_type": "execute_result"
    }
   ],
   "source": [
    "# test model using testing data\n",
    "\n",
    "y_pred = fullmodel.predict(X_test)\n",
    "y_pred"
   ]
  },
  {
   "cell_type": "code",
   "execution_count": 36,
   "metadata": {
    "ExecuteTime": {
     "end_time": "2024-02-23T05:26:08.269005600Z",
     "start_time": "2024-02-23T05:26:08.161507200Z"
    }
   },
   "outputs": [],
   "source": [
    "# import evaluation function from sklearn\n",
    "from sklearn.metrics import accuracy_score"
   ]
  },
  {
   "cell_type": "code",
   "execution_count": 37,
   "metadata": {
    "ExecuteTime": {
     "end_time": "2024-02-23T05:26:09.770925900Z",
     "start_time": "2024-02-23T05:26:09.696262400Z"
    }
   },
   "outputs": [
    {
     "name": "stdout",
     "output_type": "stream",
     "text": [
      "Accuracy: 0.49666666666666665\n"
     ]
    }
   ],
   "source": [
    "# Accuracy result\n",
    "print(\"Accuracy:\", accuracy_score(y_test, y_pred))"
   ]
  },
  {
   "cell_type": "code",
   "execution_count": 38,
   "metadata": {
    "ExecuteTime": {
     "end_time": "2024-02-23T05:26:10.814542400Z",
     "start_time": "2024-02-23T05:26:10.695875100Z"
    }
   },
   "outputs": [],
   "source": [
    "y_pred_train = fullmodel.predict(X_train)"
   ]
  },
  {
   "cell_type": "code",
   "execution_count": 39,
   "metadata": {
    "ExecuteTime": {
     "end_time": "2024-02-23T05:26:12.060587Z",
     "start_time": "2024-02-23T05:26:12.008049100Z"
    }
   },
   "outputs": [
    {
     "name": "stdout",
     "output_type": "stream",
     "text": [
      "Accuracy: 0.62\n"
     ]
    }
   ],
   "source": [
    "print(\"Accuracy:\", accuracy_score(y_train, y_pred_train))"
   ]
  },
  {
   "cell_type": "markdown",
   "metadata": {},
   "source": [
    "### Predict the Customer Type of a New Incoming Coustomer"
   ]
  },
  {
   "cell_type": "code",
   "execution_count": 40,
   "metadata": {
    "ExecuteTime": {
     "end_time": "2024-02-23T05:26:13.569850600Z",
     "start_time": "2024-02-23T05:26:13.437034700Z"
    }
   },
   "outputs": [
    {
     "data": {
      "text/plain": "   Quantity  Female  Cash  Credit card\n0        10       1     0            1",
      "text/html": "<div>\n<style scoped>\n    .dataframe tbody tr th:only-of-type {\n        vertical-align: middle;\n    }\n\n    .dataframe tbody tr th {\n        vertical-align: top;\n    }\n\n    .dataframe thead th {\n        text-align: right;\n    }\n</style>\n<table border=\"1\" class=\"dataframe\">\n  <thead>\n    <tr style=\"text-align: right;\">\n      <th></th>\n      <th>Quantity</th>\n      <th>Female</th>\n      <th>Cash</th>\n      <th>Credit card</th>\n    </tr>\n  </thead>\n  <tbody>\n    <tr>\n      <th>0</th>\n      <td>10</td>\n      <td>1</td>\n      <td>0</td>\n      <td>1</td>\n    </tr>\n  </tbody>\n</table>\n</div>"
     },
     "execution_count": 40,
     "metadata": {},
     "output_type": "execute_result"
    }
   ],
   "source": [
    "# create a new data record with feature values\n",
    "# initialise data of lists.\n",
    "\n",
    "data = {'Quantity':[10],'Female':[1],'Cash':[0],'Credit card':[1]}\n",
    "# creates pandas DataFrame.\n",
    "X_new = pd.DataFrame(data)\n",
    "# print the data\n",
    "X_new"
   ]
  },
  {
   "cell_type": "code",
   "execution_count": 41,
   "metadata": {
    "ExecuteTime": {
     "end_time": "2024-02-23T05:26:14.842722900Z",
     "start_time": "2024-02-23T05:26:14.770089100Z"
    }
   },
   "outputs": [
    {
     "data": {
      "text/plain": "array(['Member'], dtype=object)"
     },
     "execution_count": 41,
     "metadata": {},
     "output_type": "execute_result"
    }
   ],
   "source": [
    "# predict the target variable\n",
    "\n",
    "y_new_pred = fullmodel.predict(X_new)\n",
    "y_new_pred"
   ]
  },
  {
   "cell_type": "markdown",
   "metadata": {},
   "source": [
    "## Tree Visualization"
   ]
  },
  {
   "cell_type": "code",
   "execution_count": 42,
   "metadata": {
    "ExecuteTime": {
     "end_time": "2024-02-23T05:26:16.379239700Z",
     "start_time": "2024-02-23T05:26:16.241668800Z"
    }
   },
   "outputs": [],
   "source": [
    "# import libraries for visualization\n",
    "\n",
    "from sklearn.tree import export_graphviz\n",
    "from sklearn import tree\n",
    "from IPython.display import Image\n",
    "import pydotplus\n",
    "import graphviz"
   ]
  },
  {
   "cell_type": "code",
   "execution_count": 43,
   "metadata": {
    "ExecuteTime": {
     "end_time": "2024-02-23T05:26:17.555122200Z",
     "start_time": "2024-02-23T05:26:17.507903900Z"
    }
   },
   "outputs": [
    {
     "data": {
      "text/plain": "['Member', 'Normal']"
     },
     "execution_count": 43,
     "metadata": {},
     "output_type": "execute_result"
    }
   ],
   "source": [
    "target_names = dfnew2['Customer type'].unique().tolist()\n",
    "target_names"
   ]
  },
  {
   "cell_type": "code",
   "execution_count": 44,
   "metadata": {
    "ExecuteTime": {
     "end_time": "2024-02-23T05:26:19.588240600Z",
     "start_time": "2024-02-23T05:26:18.567426300Z"
    }
   },
   "outputs": [
    {
     "data": {
      "image/svg+xml": "<?xml version=\"1.0\" encoding=\"UTF-8\" standalone=\"no\"?>\n<!DOCTYPE svg PUBLIC \"-//W3C//DTD SVG 1.1//EN\"\n \"http://www.w3.org/Graphics/SVG/1.1/DTD/svg11.dtd\">\n<!-- Generated by graphviz version 10.0.1 (20240210.2158)\n -->\n<!-- Title: Tree Pages: 1 -->\n<svg width=\"4802pt\" height=\"1221pt\"\n viewBox=\"0.00 0.00 4801.50 1220.50\" xmlns=\"http://www.w3.org/2000/svg\" xmlns:xlink=\"http://www.w3.org/1999/xlink\">\n<g id=\"graph0\" class=\"graph\" transform=\"scale(1 1) rotate(0) translate(4 1216.5)\">\n<title>Tree</title>\n<polygon fill=\"white\" stroke=\"none\" points=\"-4,4 -4,-1216.5 4797.5,-1216.5 4797.5,4 -4,4\"/>\n<!-- 0 -->\n<g id=\"node1\" class=\"node\">\n<title>0</title>\n<path fill=\"#fffefd\" stroke=\"black\" d=\"M2520.5,-1212.5C2520.5,-1212.5 2415.25,-1212.5 2415.25,-1212.5 2409.25,-1212.5 2403.25,-1206.5 2403.25,-1200.5 2403.25,-1200.5 2403.25,-1134 2403.25,-1134 2403.25,-1128 2409.25,-1122 2415.25,-1122 2415.25,-1122 2520.5,-1122 2520.5,-1122 2526.5,-1122 2532.5,-1128 2532.5,-1134 2532.5,-1134 2532.5,-1200.5 2532.5,-1200.5 2532.5,-1206.5 2526.5,-1212.5 2520.5,-1212.5\"/>\n<text text-anchor=\"start\" x=\"2415.38\" y=\"-1195.2\" font-family=\"Helvetica,sans-Serif\" font-size=\"14.00\">Credit card ≤ 0.5</text>\n<text text-anchor=\"start\" x=\"2426.25\" y=\"-1178.7\" font-family=\"Helvetica,sans-Serif\" font-size=\"14.00\">entropy = 1.0</text>\n<text text-anchor=\"start\" x=\"2420.62\" y=\"-1162.2\" font-family=\"Helvetica,sans-Serif\" font-size=\"14.00\">samples = 700</text>\n<text text-anchor=\"start\" x=\"2411.25\" y=\"-1145.7\" font-family=\"Helvetica,sans-Serif\" font-size=\"14.00\">value = [352, 348]</text>\n<text text-anchor=\"start\" x=\"2417.25\" y=\"-1129.2\" font-family=\"Helvetica,sans-Serif\" font-size=\"14.00\">class = Member</text>\n</g>\n<!-- 1 -->\n<g id=\"node2\" class=\"node\">\n<title>1</title>\n<path fill=\"#ebf5fc\" stroke=\"black\" d=\"M2325.5,-1086C2325.5,-1086 2196.25,-1086 2196.25,-1086 2190.25,-1086 2184.25,-1080 2184.25,-1074 2184.25,-1074 2184.25,-1007.5 2184.25,-1007.5 2184.25,-1001.5 2190.25,-995.5 2196.25,-995.5 2196.25,-995.5 2325.5,-995.5 2325.5,-995.5 2331.5,-995.5 2337.5,-1001.5 2337.5,-1007.5 2337.5,-1007.5 2337.5,-1074 2337.5,-1074 2337.5,-1080 2331.5,-1086 2325.5,-1086\"/>\n<text text-anchor=\"start\" x=\"2219.25\" y=\"-1068.7\" font-family=\"Helvetica,sans-Serif\" font-size=\"14.00\">Female ≤ 0.5</text>\n<text text-anchor=\"start\" x=\"2211\" y=\"-1052.2\" font-family=\"Helvetica,sans-Serif\" font-size=\"14.00\">entropy = 0.998</text>\n<text text-anchor=\"start\" x=\"2213.62\" y=\"-1035.7\" font-family=\"Helvetica,sans-Serif\" font-size=\"14.00\">samples = 473</text>\n<text text-anchor=\"start\" x=\"2192.25\" y=\"-1019.2\" font-family=\"Helvetica,sans-Serif\" font-size=\"14.00\">value = [224.0, 249.0]</text>\n<text text-anchor=\"start\" x=\"2214\" y=\"-1002.7\" font-family=\"Helvetica,sans-Serif\" font-size=\"14.00\">class = Normal</text>\n</g>\n<!-- 0&#45;&gt;1 -->\n<g id=\"edge1\" class=\"edge\">\n<title>0&#45;&gt;1</title>\n<path fill=\"none\" stroke=\"black\" d=\"M2402.95,-1127.2C2384.49,-1116.1 2364.12,-1103.84 2344.7,-1092.17\"/>\n<polygon fill=\"black\" stroke=\"black\" points=\"2346.63,-1089.24 2336.26,-1087.09 2343.02,-1095.24 2346.63,-1089.24\"/>\n<text text-anchor=\"middle\" x=\"2341\" y=\"-1105.52\" font-family=\"Helvetica,sans-Serif\" font-size=\"14.00\">True</text>\n</g>\n<!-- 80 -->\n<g id=\"node81\" class=\"node\">\n<title>80</title>\n<path fill=\"#f9e2d2\" stroke=\"black\" d=\"M3063.38,-1086C3063.38,-1086 2966.38,-1086 2966.38,-1086 2960.38,-1086 2954.38,-1080 2954.38,-1074 2954.38,-1074 2954.38,-1007.5 2954.38,-1007.5 2954.38,-1001.5 2960.38,-995.5 2966.38,-995.5 2966.38,-995.5 3063.38,-995.5 3063.38,-995.5 3069.38,-995.5 3075.38,-1001.5 3075.38,-1007.5 3075.38,-1007.5 3075.38,-1074 3075.38,-1074 3075.38,-1080 3069.38,-1086 3063.38,-1086\"/>\n<text text-anchor=\"start\" x=\"2971.75\" y=\"-1068.7\" font-family=\"Helvetica,sans-Serif\" font-size=\"14.00\">Quantity ≤ 1.5</text>\n<text text-anchor=\"start\" x=\"2965\" y=\"-1052.2\" font-family=\"Helvetica,sans-Serif\" font-size=\"14.00\">entropy = 0.988</text>\n<text text-anchor=\"start\" x=\"2967.62\" y=\"-1035.7\" font-family=\"Helvetica,sans-Serif\" font-size=\"14.00\">samples = 227</text>\n<text text-anchor=\"start\" x=\"2962.38\" y=\"-1019.2\" font-family=\"Helvetica,sans-Serif\" font-size=\"14.00\">value = [128, 99]</text>\n<text text-anchor=\"start\" x=\"2964.25\" y=\"-1002.7\" font-family=\"Helvetica,sans-Serif\" font-size=\"14.00\">class = Member</text>\n</g>\n<!-- 0&#45;&gt;80 -->\n<g id=\"edge80\" class=\"edge\">\n<title>0&#45;&gt;80</title>\n<path fill=\"none\" stroke=\"black\" d=\"M2532.77,-1151.48C2635.81,-1128.03 2836.12,-1082.44 2943.24,-1058.06\"/>\n<polygon fill=\"black\" stroke=\"black\" points=\"2943.8,-1061.52 2952.77,-1055.88 2942.25,-1054.69 2943.8,-1061.52\"/>\n<text text-anchor=\"middle\" x=\"2940.94\" y=\"-1071.66\" font-family=\"Helvetica,sans-Serif\" font-size=\"14.00\">False</text>\n</g>\n<!-- 2 -->\n<g id=\"node3\" class=\"node\">\n<title>2</title>\n<path fill=\"#d3e9f9\" stroke=\"black\" d=\"M1781.5,-959.5C1781.5,-959.5 1676.25,-959.5 1676.25,-959.5 1670.25,-959.5 1664.25,-953.5 1664.25,-947.5 1664.25,-947.5 1664.25,-881 1664.25,-881 1664.25,-875 1670.25,-869 1676.25,-869 1676.25,-869 1781.5,-869 1781.5,-869 1787.5,-869 1793.5,-875 1793.5,-881 1793.5,-881 1793.5,-947.5 1793.5,-947.5 1793.5,-953.5 1787.5,-959.5 1781.5,-959.5\"/>\n<text text-anchor=\"start\" x=\"1685.75\" y=\"-942.2\" font-family=\"Helvetica,sans-Serif\" font-size=\"14.00\">Quantity ≤ 8.5</text>\n<text text-anchor=\"start\" x=\"1679\" y=\"-925.7\" font-family=\"Helvetica,sans-Serif\" font-size=\"14.00\">entropy = 0.989</text>\n<text text-anchor=\"start\" x=\"1681.62\" y=\"-909.2\" font-family=\"Helvetica,sans-Serif\" font-size=\"14.00\">samples = 242</text>\n<text text-anchor=\"start\" x=\"1672.25\" y=\"-892.7\" font-family=\"Helvetica,sans-Serif\" font-size=\"14.00\">value = [106, 136]</text>\n<text text-anchor=\"start\" x=\"1682\" y=\"-876.2\" font-family=\"Helvetica,sans-Serif\" font-size=\"14.00\">class = Normal</text>\n</g>\n<!-- 1&#45;&gt;2 -->\n<g id=\"edge2\" class=\"edge\">\n<title>1&#45;&gt;2</title>\n<path fill=\"none\" stroke=\"black\" d=\"M2183.8,-1021.71C2082.49,-998 1905.61,-956.61 1804.85,-933.03\"/>\n<polygon fill=\"black\" stroke=\"black\" points=\"1805.86,-929.67 1795.32,-930.8 1804.26,-936.49 1805.86,-929.67\"/>\n</g>\n<!-- 41 -->\n<g id=\"node42\" class=\"node\">\n<title>41</title>\n<path fill=\"#fefaf7\" stroke=\"black\" d=\"M2313.5,-959.5C2313.5,-959.5 2208.25,-959.5 2208.25,-959.5 2202.25,-959.5 2196.25,-953.5 2196.25,-947.5 2196.25,-947.5 2196.25,-881 2196.25,-881 2196.25,-875 2202.25,-869 2208.25,-869 2208.25,-869 2313.5,-869 2313.5,-869 2319.5,-869 2325.5,-875 2325.5,-881 2325.5,-881 2325.5,-947.5 2325.5,-947.5 2325.5,-953.5 2319.5,-959.5 2313.5,-959.5\"/>\n<text text-anchor=\"start\" x=\"2217.75\" y=\"-942.2\" font-family=\"Helvetica,sans-Serif\" font-size=\"14.00\">Quantity ≤ 1.5</text>\n<text text-anchor=\"start\" x=\"2219.25\" y=\"-925.7\" font-family=\"Helvetica,sans-Serif\" font-size=\"14.00\">entropy = 1.0</text>\n<text text-anchor=\"start\" x=\"2213.62\" y=\"-909.2\" font-family=\"Helvetica,sans-Serif\" font-size=\"14.00\">samples = 231</text>\n<text text-anchor=\"start\" x=\"2204.25\" y=\"-892.7\" font-family=\"Helvetica,sans-Serif\" font-size=\"14.00\">value = [118, 113]</text>\n<text text-anchor=\"start\" x=\"2210.25\" y=\"-876.2\" font-family=\"Helvetica,sans-Serif\" font-size=\"14.00\">class = Member</text>\n</g>\n<!-- 1&#45;&gt;41 -->\n<g id=\"edge41\" class=\"edge\">\n<title>1&#45;&gt;41</title>\n<path fill=\"none\" stroke=\"black\" d=\"M2260.88,-995.15C2260.88,-987.47 2260.88,-979.39 2260.88,-971.44\"/>\n<polygon fill=\"black\" stroke=\"black\" points=\"2264.38,-971.47 2260.88,-961.47 2257.38,-971.47 2264.38,-971.47\"/>\n</g>\n<!-- 3 -->\n<g id=\"node4\" class=\"node\">\n<title>3</title>\n<path fill=\"#c4e2f7\" stroke=\"black\" d=\"M1386.38,-833C1386.38,-833 1265.38,-833 1265.38,-833 1259.38,-833 1253.38,-827 1253.38,-821 1253.38,-821 1253.38,-754.5 1253.38,-754.5 1253.38,-748.5 1259.38,-742.5 1265.38,-742.5 1265.38,-742.5 1386.38,-742.5 1386.38,-742.5 1392.38,-742.5 1398.38,-748.5 1398.38,-754.5 1398.38,-754.5 1398.38,-821 1398.38,-821 1398.38,-827 1392.38,-833 1386.38,-833\"/>\n<text text-anchor=\"start\" x=\"1282.75\" y=\"-815.7\" font-family=\"Helvetica,sans-Serif\" font-size=\"14.00\">Quantity ≤ 6.5</text>\n<text text-anchor=\"start\" x=\"1276\" y=\"-799.2\" font-family=\"Helvetica,sans-Serif\" font-size=\"14.00\">entropy = 0.978</text>\n<text text-anchor=\"start\" x=\"1278.62\" y=\"-782.7\" font-family=\"Helvetica,sans-Serif\" font-size=\"14.00\">samples = 196</text>\n<text text-anchor=\"start\" x=\"1261.38\" y=\"-766.2\" font-family=\"Helvetica,sans-Serif\" font-size=\"14.00\">value = [81.0, 115.0]</text>\n<text text-anchor=\"start\" x=\"1279\" y=\"-749.7\" font-family=\"Helvetica,sans-Serif\" font-size=\"14.00\">class = Normal</text>\n</g>\n<!-- 2&#45;&gt;3 -->\n<g id=\"edge3\" class=\"edge\">\n<title>2&#45;&gt;3</title>\n<path fill=\"none\" stroke=\"black\" d=\"M1664.13,-893.25C1594.99,-871.89 1485.19,-837.97 1409.55,-814.6\"/>\n<polygon fill=\"black\" stroke=\"black\" points=\"1410.68,-811.29 1400.09,-811.68 1408.61,-817.97 1410.68,-811.29\"/>\n</g>\n<!-- 34 -->\n<g id=\"node35\" class=\"node\">\n<title>34</title>\n<path fill=\"#fbebdf\" stroke=\"black\" d=\"M1775.5,-833C1775.5,-833 1682.25,-833 1682.25,-833 1676.25,-833 1670.25,-827 1670.25,-821 1670.25,-821 1670.25,-754.5 1670.25,-754.5 1670.25,-748.5 1676.25,-742.5 1682.25,-742.5 1682.25,-742.5 1775.5,-742.5 1775.5,-742.5 1781.5,-742.5 1787.5,-748.5 1787.5,-754.5 1787.5,-754.5 1787.5,-821 1787.5,-821 1787.5,-827 1781.5,-833 1775.5,-833\"/>\n<text text-anchor=\"start\" x=\"1685.75\" y=\"-815.7\" font-family=\"Helvetica,sans-Serif\" font-size=\"14.00\">Quantity ≤ 9.5</text>\n<text text-anchor=\"start\" x=\"1679\" y=\"-799.2\" font-family=\"Helvetica,sans-Serif\" font-size=\"14.00\">entropy = 0.995</text>\n<text text-anchor=\"start\" x=\"1685.75\" y=\"-782.7\" font-family=\"Helvetica,sans-Serif\" font-size=\"14.00\">samples = 46</text>\n<text text-anchor=\"start\" x=\"1680.5\" y=\"-766.2\" font-family=\"Helvetica,sans-Serif\" font-size=\"14.00\">value = [25, 21]</text>\n<text text-anchor=\"start\" x=\"1678.25\" y=\"-749.7\" font-family=\"Helvetica,sans-Serif\" font-size=\"14.00\">class = Member</text>\n</g>\n<!-- 2&#45;&gt;34 -->\n<g id=\"edge34\" class=\"edge\">\n<title>2&#45;&gt;34</title>\n<path fill=\"none\" stroke=\"black\" d=\"M1728.88,-868.65C1728.88,-860.97 1728.88,-852.89 1728.88,-844.94\"/>\n<polygon fill=\"black\" stroke=\"black\" points=\"1732.38,-844.97 1728.88,-834.97 1725.38,-844.97 1732.38,-844.97\"/>\n</g>\n<!-- 4 -->\n<g id=\"node5\" class=\"node\">\n<title>4</title>\n<path fill=\"#d9ecfa\" stroke=\"black\" d=\"M984.25,-706.5C984.25,-706.5 871.5,-706.5 871.5,-706.5 865.5,-706.5 859.5,-700.5 859.5,-694.5 859.5,-694.5 859.5,-628 859.5,-628 859.5,-622 865.5,-616 871.5,-616 871.5,-616 984.25,-616 984.25,-616 990.25,-616 996.25,-622 996.25,-628 996.25,-628 996.25,-694.5 996.25,-694.5 996.25,-700.5 990.25,-706.5 984.25,-706.5\"/>\n<text text-anchor=\"start\" x=\"884.75\" y=\"-689.2\" font-family=\"Helvetica,sans-Serif\" font-size=\"14.00\">Quantity ≤ 5.5</text>\n<text text-anchor=\"start\" x=\"878\" y=\"-672.7\" font-family=\"Helvetica,sans-Serif\" font-size=\"14.00\">entropy = 0.992</text>\n<text text-anchor=\"start\" x=\"880.62\" y=\"-656.2\" font-family=\"Helvetica,sans-Serif\" font-size=\"14.00\">samples = 152</text>\n<text text-anchor=\"start\" x=\"867.5\" y=\"-639.7\" font-family=\"Helvetica,sans-Serif\" font-size=\"14.00\">value = [68.0, 84.0]</text>\n<text text-anchor=\"start\" x=\"881\" y=\"-623.2\" font-family=\"Helvetica,sans-Serif\" font-size=\"14.00\">class = Normal</text>\n</g>\n<!-- 3&#45;&gt;4 -->\n<g id=\"edge4\" class=\"edge\">\n<title>3&#45;&gt;4</title>\n<path fill=\"none\" stroke=\"black\" d=\"M1252.88,-763.91C1183.29,-742.15 1078.78,-709.46 1007.18,-687.06\"/>\n<polygon fill=\"black\" stroke=\"black\" points=\"1008.45,-683.79 997.87,-684.14 1006.36,-690.47 1008.45,-683.79\"/>\n</g>\n<!-- 27 -->\n<g id=\"node28\" class=\"node\">\n<title>27</title>\n<path fill=\"#8cc6f0\" stroke=\"black\" d=\"M1371.75,-706.5C1371.75,-706.5 1280,-706.5 1280,-706.5 1274,-706.5 1268,-700.5 1268,-694.5 1268,-694.5 1268,-628 1268,-628 1268,-622 1274,-616 1280,-616 1280,-616 1371.75,-616 1371.75,-616 1377.75,-616 1383.75,-622 1383.75,-628 1383.75,-628 1383.75,-694.5 1383.75,-694.5 1383.75,-700.5 1377.75,-706.5 1371.75,-706.5\"/>\n<text text-anchor=\"start\" x=\"1282.75\" y=\"-689.2\" font-family=\"Helvetica,sans-Serif\" font-size=\"14.00\">Quantity ≤ 7.5</text>\n<text text-anchor=\"start\" x=\"1276\" y=\"-672.7\" font-family=\"Helvetica,sans-Serif\" font-size=\"14.00\">entropy = 0.876</text>\n<text text-anchor=\"start\" x=\"1282.75\" y=\"-656.2\" font-family=\"Helvetica,sans-Serif\" font-size=\"14.00\">samples = 44</text>\n<text text-anchor=\"start\" x=\"1277.5\" y=\"-639.7\" font-family=\"Helvetica,sans-Serif\" font-size=\"14.00\">value = [13, 31]</text>\n<text text-anchor=\"start\" x=\"1279\" y=\"-623.2\" font-family=\"Helvetica,sans-Serif\" font-size=\"14.00\">class = Normal</text>\n</g>\n<!-- 3&#45;&gt;27 -->\n<g id=\"edge27\" class=\"edge\">\n<title>3&#45;&gt;27</title>\n<path fill=\"none\" stroke=\"black\" d=\"M1325.88,-742.15C1325.88,-734.47 1325.88,-726.39 1325.88,-718.44\"/>\n<polygon fill=\"black\" stroke=\"black\" points=\"1329.38,-718.47 1325.88,-708.47 1322.38,-718.47 1329.38,-718.47\"/>\n</g>\n<!-- 5 -->\n<g id=\"node6\" class=\"node\">\n<title>5</title>\n<path fill=\"#e1f0fb\" stroke=\"black\" d=\"M771.75,-580C771.75,-580 680,-580 680,-580 674,-580 668,-574 668,-568 668,-568 668,-501.5 668,-501.5 668,-495.5 674,-489.5 680,-489.5 680,-489.5 771.75,-489.5 771.75,-489.5 777.75,-489.5 783.75,-495.5 783.75,-501.5 783.75,-501.5 783.75,-568 783.75,-568 783.75,-574 777.75,-580 771.75,-580\"/>\n<text text-anchor=\"start\" x=\"682.75\" y=\"-562.7\" font-family=\"Helvetica,sans-Serif\" font-size=\"14.00\">Quantity ≤ 3.5</text>\n<text text-anchor=\"start\" x=\"676\" y=\"-546.2\" font-family=\"Helvetica,sans-Serif\" font-size=\"14.00\">entropy = 0.995</text>\n<text text-anchor=\"start\" x=\"678.62\" y=\"-529.7\" font-family=\"Helvetica,sans-Serif\" font-size=\"14.00\">samples = 124</text>\n<text text-anchor=\"start\" x=\"677.5\" y=\"-513.2\" font-family=\"Helvetica,sans-Serif\" font-size=\"14.00\">value = [57, 67]</text>\n<text text-anchor=\"start\" x=\"679\" y=\"-496.7\" font-family=\"Helvetica,sans-Serif\" font-size=\"14.00\">class = Normal</text>\n</g>\n<!-- 4&#45;&gt;5 -->\n<g id=\"edge5\" class=\"edge\">\n<title>4&#45;&gt;5</title>\n<path fill=\"none\" stroke=\"black\" d=\"M859.21,-617.93C837.98,-604.84 814.62,-590.45 793.47,-577.41\"/>\n<polygon fill=\"black\" stroke=\"black\" points=\"795.56,-574.59 785.21,-572.32 791.89,-580.55 795.56,-574.59\"/>\n</g>\n<!-- 24 -->\n<g id=\"node25\" class=\"node\">\n<title>24</title>\n<path fill=\"#b9dcf6\" stroke=\"black\" d=\"M973.75,-580C973.75,-580 882,-580 882,-580 876,-580 870,-574 870,-568 870,-568 870,-501.5 870,-501.5 870,-495.5 876,-489.5 882,-489.5 882,-489.5 973.75,-489.5 973.75,-489.5 979.75,-489.5 985.75,-495.5 985.75,-501.5 985.75,-501.5 985.75,-568 985.75,-568 985.75,-574 979.75,-580 973.75,-580\"/>\n<text text-anchor=\"start\" x=\"893.75\" y=\"-562.7\" font-family=\"Helvetica,sans-Serif\" font-size=\"14.00\">Cash ≤ 0.5</text>\n<text text-anchor=\"start\" x=\"878\" y=\"-546.2\" font-family=\"Helvetica,sans-Serif\" font-size=\"14.00\">entropy = 0.967</text>\n<text text-anchor=\"start\" x=\"884.75\" y=\"-529.7\" font-family=\"Helvetica,sans-Serif\" font-size=\"14.00\">samples = 28</text>\n<text text-anchor=\"start\" x=\"879.5\" y=\"-513.2\" font-family=\"Helvetica,sans-Serif\" font-size=\"14.00\">value = [11, 17]</text>\n<text text-anchor=\"start\" x=\"881\" y=\"-496.7\" font-family=\"Helvetica,sans-Serif\" font-size=\"14.00\">class = Normal</text>\n</g>\n<!-- 4&#45;&gt;24 -->\n<g id=\"edge24\" class=\"edge\">\n<title>4&#45;&gt;24</title>\n<path fill=\"none\" stroke=\"black\" d=\"M927.88,-615.65C927.88,-607.97 927.88,-599.89 927.88,-591.94\"/>\n<polygon fill=\"black\" stroke=\"black\" points=\"931.38,-591.97 927.88,-581.97 924.38,-591.97 931.38,-591.97\"/>\n</g>\n<!-- 6 -->\n<g id=\"node7\" class=\"node\">\n<title>6</title>\n<path fill=\"#cce6f8\" stroke=\"black\" d=\"M574.25,-453.5C574.25,-453.5 461.5,-453.5 461.5,-453.5 455.5,-453.5 449.5,-447.5 449.5,-441.5 449.5,-441.5 449.5,-375 449.5,-375 449.5,-369 455.5,-363 461.5,-363 461.5,-363 574.25,-363 574.25,-363 580.25,-363 586.25,-369 586.25,-375 586.25,-375 586.25,-441.5 586.25,-441.5 586.25,-447.5 580.25,-453.5 574.25,-453.5\"/>\n<text text-anchor=\"start\" x=\"474.75\" y=\"-436.2\" font-family=\"Helvetica,sans-Serif\" font-size=\"14.00\">Quantity ≤ 2.5</text>\n<text text-anchor=\"start\" x=\"468\" y=\"-419.7\" font-family=\"Helvetica,sans-Serif\" font-size=\"14.00\">entropy = 0.984</text>\n<text text-anchor=\"start\" x=\"474.75\" y=\"-403.2\" font-family=\"Helvetica,sans-Serif\" font-size=\"14.00\">samples = 82</text>\n<text text-anchor=\"start\" x=\"457.5\" y=\"-386.7\" font-family=\"Helvetica,sans-Serif\" font-size=\"14.00\">value = [35.0, 47.0]</text>\n<text text-anchor=\"start\" x=\"471\" y=\"-370.2\" font-family=\"Helvetica,sans-Serif\" font-size=\"14.00\">class = Normal</text>\n</g>\n<!-- 5&#45;&gt;6 -->\n<g id=\"edge6\" class=\"edge\">\n<title>5&#45;&gt;6</title>\n<path fill=\"none\" stroke=\"black\" d=\"M667.66,-498.9C645.48,-485.63 619.82,-470.27 596.08,-456.06\"/>\n<polygon fill=\"black\" stroke=\"black\" points=\"598.07,-453.17 587.69,-451.04 594.47,-459.18 598.07,-453.17\"/>\n</g>\n<!-- 17 -->\n<g id=\"node18\" class=\"node\">\n<title>17</title>\n<path fill=\"#fdf4ed\" stroke=\"black\" d=\"M772.5,-453.5C772.5,-453.5 679.25,-453.5 679.25,-453.5 673.25,-453.5 667.25,-447.5 667.25,-441.5 667.25,-441.5 667.25,-375 667.25,-375 667.25,-369 673.25,-363 679.25,-363 679.25,-363 772.5,-363 772.5,-363 778.5,-363 784.5,-369 784.5,-375 784.5,-375 784.5,-441.5 784.5,-441.5 784.5,-447.5 778.5,-453.5 772.5,-453.5\"/>\n<text text-anchor=\"start\" x=\"691.75\" y=\"-436.2\" font-family=\"Helvetica,sans-Serif\" font-size=\"14.00\">Cash ≤ 0.5</text>\n<text text-anchor=\"start\" x=\"676\" y=\"-419.7\" font-family=\"Helvetica,sans-Serif\" font-size=\"14.00\">entropy = 0.998</text>\n<text text-anchor=\"start\" x=\"682.75\" y=\"-403.2\" font-family=\"Helvetica,sans-Serif\" font-size=\"14.00\">samples = 42</text>\n<text text-anchor=\"start\" x=\"677.5\" y=\"-386.7\" font-family=\"Helvetica,sans-Serif\" font-size=\"14.00\">value = [22, 20]</text>\n<text text-anchor=\"start\" x=\"675.25\" y=\"-370.2\" font-family=\"Helvetica,sans-Serif\" font-size=\"14.00\">class = Member</text>\n</g>\n<!-- 5&#45;&gt;17 -->\n<g id=\"edge17\" class=\"edge\">\n<title>5&#45;&gt;17</title>\n<path fill=\"none\" stroke=\"black\" d=\"M725.88,-489.15C725.88,-481.47 725.88,-473.39 725.88,-465.44\"/>\n<polygon fill=\"black\" stroke=\"black\" points=\"729.38,-465.47 725.88,-455.47 722.38,-465.47 729.38,-465.47\"/>\n</g>\n<!-- 7 -->\n<g id=\"node8\" class=\"node\">\n<title>7</title>\n<path fill=\"#e2f1fb\" stroke=\"black\" d=\"M368.75,-327C368.75,-327 277,-327 277,-327 271,-327 265,-321 265,-315 265,-315 265,-248.5 265,-248.5 265,-242.5 271,-236.5 277,-236.5 277,-236.5 368.75,-236.5 368.75,-236.5 374.75,-236.5 380.75,-242.5 380.75,-248.5 380.75,-248.5 380.75,-315 380.75,-315 380.75,-321 374.75,-327 368.75,-327\"/>\n<text text-anchor=\"start\" x=\"288.75\" y=\"-309.7\" font-family=\"Helvetica,sans-Serif\" font-size=\"14.00\">Cash ≤ 0.5</text>\n<text text-anchor=\"start\" x=\"273\" y=\"-293.2\" font-family=\"Helvetica,sans-Serif\" font-size=\"14.00\">entropy = 0.995</text>\n<text text-anchor=\"start\" x=\"279.75\" y=\"-276.7\" font-family=\"Helvetica,sans-Serif\" font-size=\"14.00\">samples = 63</text>\n<text text-anchor=\"start\" x=\"274.5\" y=\"-260.2\" font-family=\"Helvetica,sans-Serif\" font-size=\"14.00\">value = [29, 34]</text>\n<text text-anchor=\"start\" x=\"276\" y=\"-243.7\" font-family=\"Helvetica,sans-Serif\" font-size=\"14.00\">class = Normal</text>\n</g>\n<!-- 6&#45;&gt;7 -->\n<g id=\"edge7\" class=\"edge\">\n<title>6&#45;&gt;7</title>\n<path fill=\"none\" stroke=\"black\" d=\"M449.13,-363.36C430.08,-351.2 409.43,-338.01 390.46,-325.9\"/>\n<polygon fill=\"black\" stroke=\"black\" points=\"392.59,-323.11 382.28,-320.68 388.82,-329.01 392.59,-323.11\"/>\n</g>\n<!-- 14 -->\n<g id=\"node15\" class=\"node\">\n<title>14</title>\n<path fill=\"#94caf1\" stroke=\"black\" d=\"M560.75,-327C560.75,-327 475,-327 475,-327 469,-327 463,-321 463,-315 463,-315 463,-248.5 463,-248.5 463,-242.5 469,-236.5 475,-236.5 475,-236.5 560.75,-236.5 560.75,-236.5 566.75,-236.5 572.75,-242.5 572.75,-248.5 572.75,-248.5 572.75,-315 572.75,-315 572.75,-321 566.75,-327 560.75,-327\"/>\n<text text-anchor=\"start\" x=\"483.75\" y=\"-309.7\" font-family=\"Helvetica,sans-Serif\" font-size=\"14.00\">Cash ≤ 0.5</text>\n<text text-anchor=\"start\" x=\"476.25\" y=\"-293.2\" font-family=\"Helvetica,sans-Serif\" font-size=\"14.00\">entropy = 0.9</text>\n<text text-anchor=\"start\" x=\"474.75\" y=\"-276.7\" font-family=\"Helvetica,sans-Serif\" font-size=\"14.00\">samples = 19</text>\n<text text-anchor=\"start\" x=\"473.62\" y=\"-260.2\" font-family=\"Helvetica,sans-Serif\" font-size=\"14.00\">value = [6, 13]</text>\n<text text-anchor=\"start\" x=\"471\" y=\"-243.7\" font-family=\"Helvetica,sans-Serif\" font-size=\"14.00\">class = Normal</text>\n</g>\n<!-- 6&#45;&gt;14 -->\n<g id=\"edge14\" class=\"edge\">\n<title>6&#45;&gt;14</title>\n<path fill=\"none\" stroke=\"black\" d=\"M517.88,-362.65C517.88,-354.97 517.88,-346.89 517.88,-338.94\"/>\n<polygon fill=\"black\" stroke=\"black\" points=\"521.38,-338.97 517.88,-328.97 514.38,-338.97 521.38,-338.97\"/>\n</g>\n<!-- 8 -->\n<g id=\"node9\" class=\"node\">\n<title>8</title>\n<path fill=\"#c0e0f7\" stroke=\"black\" d=\"M233.75,-200.5C233.75,-200.5 142,-200.5 142,-200.5 136,-200.5 130,-194.5 130,-188.5 130,-188.5 130,-122 130,-122 130,-116 136,-110 142,-110 142,-110 233.75,-110 233.75,-110 239.75,-110 245.75,-116 245.75,-122 245.75,-122 245.75,-188.5 245.75,-188.5 245.75,-194.5 239.75,-200.5 233.75,-200.5\"/>\n<text text-anchor=\"start\" x=\"144.75\" y=\"-183.2\" font-family=\"Helvetica,sans-Serif\" font-size=\"14.00\">Quantity ≤ 1.5</text>\n<text text-anchor=\"start\" x=\"138\" y=\"-166.7\" font-family=\"Helvetica,sans-Serif\" font-size=\"14.00\">entropy = 0.974</text>\n<text text-anchor=\"start\" x=\"144.75\" y=\"-150.2\" font-family=\"Helvetica,sans-Serif\" font-size=\"14.00\">samples = 32</text>\n<text text-anchor=\"start\" x=\"139.5\" y=\"-133.7\" font-family=\"Helvetica,sans-Serif\" font-size=\"14.00\">value = [13, 19]</text>\n<text text-anchor=\"start\" x=\"141\" y=\"-117.2\" font-family=\"Helvetica,sans-Serif\" font-size=\"14.00\">class = Normal</text>\n</g>\n<!-- 7&#45;&gt;8 -->\n<g id=\"edge8\" class=\"edge\">\n<title>7&#45;&gt;8</title>\n<path fill=\"none\" stroke=\"black\" d=\"M274.52,-236.15C264.82,-227.21 254.56,-217.75 244.61,-208.57\"/>\n<polygon fill=\"black\" stroke=\"black\" points=\"247.18,-206.19 237.46,-201.98 242.44,-211.33 247.18,-206.19\"/>\n</g>\n<!-- 11 -->\n<g id=\"node12\" class=\"node\">\n<title>11</title>\n<path fill=\"#fdf7f3\" stroke=\"black\" d=\"M369.5,-200.5C369.5,-200.5 276.25,-200.5 276.25,-200.5 270.25,-200.5 264.25,-194.5 264.25,-188.5 264.25,-188.5 264.25,-122 264.25,-122 264.25,-116 270.25,-110 276.25,-110 276.25,-110 369.5,-110 369.5,-110 375.5,-110 381.5,-116 381.5,-122 381.5,-122 381.5,-188.5 381.5,-188.5 381.5,-194.5 375.5,-200.5 369.5,-200.5\"/>\n<text text-anchor=\"start\" x=\"279.75\" y=\"-183.2\" font-family=\"Helvetica,sans-Serif\" font-size=\"14.00\">Quantity ≤ 1.5</text>\n<text text-anchor=\"start\" x=\"273\" y=\"-166.7\" font-family=\"Helvetica,sans-Serif\" font-size=\"14.00\">entropy = 0.999</text>\n<text text-anchor=\"start\" x=\"279.75\" y=\"-150.2\" font-family=\"Helvetica,sans-Serif\" font-size=\"14.00\">samples = 31</text>\n<text text-anchor=\"start\" x=\"274.5\" y=\"-133.7\" font-family=\"Helvetica,sans-Serif\" font-size=\"14.00\">value = [16, 15]</text>\n<text text-anchor=\"start\" x=\"272.25\" y=\"-117.2\" font-family=\"Helvetica,sans-Serif\" font-size=\"14.00\">class = Member</text>\n</g>\n<!-- 7&#45;&gt;11 -->\n<g id=\"edge11\" class=\"edge\">\n<title>7&#45;&gt;11</title>\n<path fill=\"none\" stroke=\"black\" d=\"M322.88,-236.15C322.88,-228.47 322.88,-220.39 322.88,-212.44\"/>\n<polygon fill=\"black\" stroke=\"black\" points=\"326.38,-212.47 322.88,-202.47 319.38,-212.47 326.38,-212.47\"/>\n</g>\n<!-- 9 -->\n<g id=\"node10\" class=\"node\">\n<title>9</title>\n<path fill=\"#d7ebfa\" stroke=\"black\" d=\"M103.75,-74C103.75,-74 12,-74 12,-74 6,-74 0,-68 0,-62 0,-62 0,-12 0,-12 0,-6 6,0 12,0 12,0 103.75,0 103.75,0 109.75,0 115.75,-6 115.75,-12 115.75,-12 115.75,-62 115.75,-62 115.75,-68 109.75,-74 103.75,-74\"/>\n<text text-anchor=\"start\" x=\"8\" y=\"-56.7\" font-family=\"Helvetica,sans-Serif\" font-size=\"14.00\">entropy = 0.991</text>\n<text text-anchor=\"start\" x=\"14.75\" y=\"-40.2\" font-family=\"Helvetica,sans-Serif\" font-size=\"14.00\">samples = 18</text>\n<text text-anchor=\"start\" x=\"13.62\" y=\"-23.7\" font-family=\"Helvetica,sans-Serif\" font-size=\"14.00\">value = [8, 10]</text>\n<text text-anchor=\"start\" x=\"11\" y=\"-7.2\" font-family=\"Helvetica,sans-Serif\" font-size=\"14.00\">class = Normal</text>\n</g>\n<!-- 8&#45;&gt;9 -->\n<g id=\"edge9\" class=\"edge\">\n<title>8&#45;&gt;9</title>\n<path fill=\"none\" stroke=\"black\" d=\"M137.99,-109.64C127.8,-100.53 117.1,-90.96 106.95,-81.88\"/>\n<polygon fill=\"black\" stroke=\"black\" points=\"109.49,-79.46 99.7,-75.4 104.82,-84.68 109.49,-79.46\"/>\n</g>\n<!-- 10 -->\n<g id=\"node11\" class=\"node\">\n<title>10</title>\n<path fill=\"#a7d3f3\" stroke=\"black\" d=\"M231.75,-74C231.75,-74 146,-74 146,-74 140,-74 134,-68 134,-62 134,-62 134,-12 134,-12 134,-6 140,0 146,0 146,0 231.75,0 231.75,0 237.75,0 243.75,-6 243.75,-12 243.75,-12 243.75,-62 243.75,-62 243.75,-68 237.75,-74 231.75,-74\"/>\n<text text-anchor=\"start\" x=\"143.12\" y=\"-56.7\" font-family=\"Helvetica,sans-Serif\" font-size=\"14.00\">entropy = 0.94</text>\n<text text-anchor=\"start\" x=\"145.75\" y=\"-40.2\" font-family=\"Helvetica,sans-Serif\" font-size=\"14.00\">samples = 14</text>\n<text text-anchor=\"start\" x=\"148.75\" y=\"-23.7\" font-family=\"Helvetica,sans-Serif\" font-size=\"14.00\">value = [5, 9]</text>\n<text text-anchor=\"start\" x=\"142\" y=\"-7.2\" font-family=\"Helvetica,sans-Serif\" font-size=\"14.00\">class = Normal</text>\n</g>\n<!-- 8&#45;&gt;10 -->\n<g id=\"edge10\" class=\"edge\">\n<title>8&#45;&gt;10</title>\n<path fill=\"none\" stroke=\"black\" d=\"M188.26,-109.64C188.33,-101.81 188.4,-93.63 188.46,-85.72\"/>\n<polygon fill=\"black\" stroke=\"black\" points=\"191.96,-85.94 188.55,-75.91 184.96,-85.88 191.96,-85.94\"/>\n</g>\n<!-- 12 -->\n<g id=\"node13\" class=\"node\">\n<title>12</title>\n<path fill=\"#dbedfa\" stroke=\"black\" d=\"M367.75,-74C367.75,-74 276,-74 276,-74 270,-74 264,-68 264,-62 264,-62 264,-12 264,-12 264,-6 270,0 276,0 276,0 367.75,0 367.75,0 373.75,0 379.75,-6 379.75,-12 379.75,-12 379.75,-62 379.75,-62 379.75,-68 373.75,-74 367.75,-74\"/>\n<text text-anchor=\"start\" x=\"272\" y=\"-56.7\" font-family=\"Helvetica,sans-Serif\" font-size=\"14.00\">entropy = 0.993</text>\n<text text-anchor=\"start\" x=\"278.75\" y=\"-40.2\" font-family=\"Helvetica,sans-Serif\" font-size=\"14.00\">samples = 20</text>\n<text text-anchor=\"start\" x=\"277.62\" y=\"-23.7\" font-family=\"Helvetica,sans-Serif\" font-size=\"14.00\">value = [9, 11]</text>\n<text text-anchor=\"start\" x=\"275\" y=\"-7.2\" font-family=\"Helvetica,sans-Serif\" font-size=\"14.00\">class = Normal</text>\n</g>\n<!-- 11&#45;&gt;12 -->\n<g id=\"edge12\" class=\"edge\">\n<title>11&#45;&gt;12</title>\n<path fill=\"none\" stroke=\"black\" d=\"M322.49,-109.64C322.42,-101.81 322.35,-93.63 322.29,-85.72\"/>\n<polygon fill=\"black\" stroke=\"black\" points=\"325.79,-85.88 322.2,-75.91 318.79,-85.94 325.79,-85.88\"/>\n</g>\n<!-- 13 -->\n<g id=\"node14\" class=\"node\">\n<title>13</title>\n<path fill=\"#f4c9aa\" stroke=\"black\" d=\"M503.5,-74C503.5,-74 410.25,-74 410.25,-74 404.25,-74 398.25,-68 398.25,-62 398.25,-62 398.25,-12 398.25,-12 398.25,-6 404.25,0 410.25,0 410.25,0 503.5,0 503.5,0 509.5,0 515.5,-6 515.5,-12 515.5,-12 515.5,-62 515.5,-62 515.5,-68 509.5,-74 503.5,-74\"/>\n<text text-anchor=\"start\" x=\"407\" y=\"-56.7\" font-family=\"Helvetica,sans-Serif\" font-size=\"14.00\">entropy = 0.946</text>\n<text text-anchor=\"start\" x=\"413.75\" y=\"-40.2\" font-family=\"Helvetica,sans-Serif\" font-size=\"14.00\">samples = 11</text>\n<text text-anchor=\"start\" x=\"416.75\" y=\"-23.7\" font-family=\"Helvetica,sans-Serif\" font-size=\"14.00\">value = [7, 4]</text>\n<text text-anchor=\"start\" x=\"406.25\" y=\"-7.2\" font-family=\"Helvetica,sans-Serif\" font-size=\"14.00\">class = Member</text>\n</g>\n<!-- 11&#45;&gt;13 -->\n<g id=\"edge13\" class=\"edge\">\n<title>11&#45;&gt;13</title>\n<path fill=\"none\" stroke=\"black\" d=\"M374.3,-109.64C384.79,-100.53 395.83,-90.96 406.29,-81.88\"/>\n<polygon fill=\"black\" stroke=\"black\" points=\"408.52,-84.58 413.78,-75.39 403.93,-79.29 408.52,-84.58\"/>\n</g>\n<!-- 15 -->\n<g id=\"node16\" class=\"node\">\n<title>15</title>\n<path fill=\"#91c9f1\" stroke=\"black\" d=\"M497.75,-192.25C497.75,-192.25 412,-192.25 412,-192.25 406,-192.25 400,-186.25 400,-180.25 400,-180.25 400,-130.25 400,-130.25 400,-124.25 406,-118.25 412,-118.25 412,-118.25 497.75,-118.25 497.75,-118.25 503.75,-118.25 509.75,-124.25 509.75,-130.25 509.75,-130.25 509.75,-180.25 509.75,-180.25 509.75,-186.25 503.75,-192.25 497.75,-192.25\"/>\n<text text-anchor=\"start\" x=\"409.12\" y=\"-174.95\" font-family=\"Helvetica,sans-Serif\" font-size=\"14.00\">entropy = 0.89</text>\n<text text-anchor=\"start\" x=\"411.75\" y=\"-158.45\" font-family=\"Helvetica,sans-Serif\" font-size=\"14.00\">samples = 13</text>\n<text text-anchor=\"start\" x=\"414.75\" y=\"-141.95\" font-family=\"Helvetica,sans-Serif\" font-size=\"14.00\">value = [4, 9]</text>\n<text text-anchor=\"start\" x=\"408\" y=\"-125.45\" font-family=\"Helvetica,sans-Serif\" font-size=\"14.00\">class = Normal</text>\n</g>\n<!-- 14&#45;&gt;15 -->\n<g id=\"edge15\" class=\"edge\">\n<title>14&#45;&gt;15</title>\n<path fill=\"none\" stroke=\"black\" d=\"M495.31,-236.15C489.8,-225.26 483.89,-213.58 478.33,-202.61\"/>\n<polygon fill=\"black\" stroke=\"black\" points=\"481.47,-201.05 473.83,-193.71 475.22,-204.21 481.47,-201.05\"/>\n</g>\n<!-- 16 -->\n<g id=\"node17\" class=\"node\">\n<title>16</title>\n<path fill=\"#9ccef2\" stroke=\"black\" d=\"M631.75,-192.25C631.75,-192.25 540,-192.25 540,-192.25 534,-192.25 528,-186.25 528,-180.25 528,-180.25 528,-130.25 528,-130.25 528,-124.25 534,-118.25 540,-118.25 540,-118.25 631.75,-118.25 631.75,-118.25 637.75,-118.25 643.75,-124.25 643.75,-130.25 643.75,-130.25 643.75,-180.25 643.75,-180.25 643.75,-186.25 637.75,-192.25 631.75,-192.25\"/>\n<text text-anchor=\"start\" x=\"536\" y=\"-174.95\" font-family=\"Helvetica,sans-Serif\" font-size=\"14.00\">entropy = 0.918</text>\n<text text-anchor=\"start\" x=\"546.88\" y=\"-158.45\" font-family=\"Helvetica,sans-Serif\" font-size=\"14.00\">samples = 6</text>\n<text text-anchor=\"start\" x=\"545.75\" y=\"-141.95\" font-family=\"Helvetica,sans-Serif\" font-size=\"14.00\">value = [2, 4]</text>\n<text text-anchor=\"start\" x=\"539\" y=\"-125.45\" font-family=\"Helvetica,sans-Serif\" font-size=\"14.00\">class = Normal</text>\n</g>\n<!-- 14&#45;&gt;16 -->\n<g id=\"edge16\" class=\"edge\">\n<title>14&#45;&gt;16</title>\n<path fill=\"none\" stroke=\"black\" d=\"M542.23,-236.15C548.24,-225.15 554.69,-213.34 560.74,-202.27\"/>\n<polygon fill=\"black\" stroke=\"black\" points=\"563.71,-204.14 565.43,-193.68 557.56,-200.78 563.71,-204.14\"/>\n</g>\n<!-- 18 -->\n<g id=\"node19\" class=\"node\">\n<title>18</title>\n<path fill=\"#fbeade\" stroke=\"black\" d=\"M772.5,-327C772.5,-327 679.25,-327 679.25,-327 673.25,-327 667.25,-321 667.25,-315 667.25,-315 667.25,-248.5 667.25,-248.5 667.25,-242.5 673.25,-236.5 679.25,-236.5 679.25,-236.5 772.5,-236.5 772.5,-236.5 778.5,-236.5 784.5,-242.5 784.5,-248.5 784.5,-248.5 784.5,-315 784.5,-315 784.5,-321 778.5,-327 772.5,-327\"/>\n<text text-anchor=\"start\" x=\"682.75\" y=\"-309.7\" font-family=\"Helvetica,sans-Serif\" font-size=\"14.00\">Quantity ≤ 4.5</text>\n<text text-anchor=\"start\" x=\"676\" y=\"-293.2\" font-family=\"Helvetica,sans-Serif\" font-size=\"14.00\">entropy = 0.994</text>\n<text text-anchor=\"start\" x=\"682.75\" y=\"-276.7\" font-family=\"Helvetica,sans-Serif\" font-size=\"14.00\">samples = 22</text>\n<text text-anchor=\"start\" x=\"677.5\" y=\"-260.2\" font-family=\"Helvetica,sans-Serif\" font-size=\"14.00\">value = [12, 10]</text>\n<text text-anchor=\"start\" x=\"675.25\" y=\"-243.7\" font-family=\"Helvetica,sans-Serif\" font-size=\"14.00\">class = Member</text>\n</g>\n<!-- 17&#45;&gt;18 -->\n<g id=\"edge18\" class=\"edge\">\n<title>17&#45;&gt;18</title>\n<path fill=\"none\" stroke=\"black\" d=\"M725.88,-362.65C725.88,-354.97 725.88,-346.89 725.88,-338.94\"/>\n<polygon fill=\"black\" stroke=\"black\" points=\"729.38,-338.97 725.88,-328.97 722.38,-338.97 729.38,-338.97\"/>\n</g>\n<!-- 21 -->\n<g id=\"node22\" class=\"node\">\n<title>21</title>\n<path fill=\"#ffffff\" stroke=\"black\" d=\"M1037.5,-327C1037.5,-327 944.25,-327 944.25,-327 938.25,-327 932.25,-321 932.25,-315 932.25,-315 932.25,-248.5 932.25,-248.5 932.25,-242.5 938.25,-236.5 944.25,-236.5 944.25,-236.5 1037.5,-236.5 1037.5,-236.5 1043.5,-236.5 1049.5,-242.5 1049.5,-248.5 1049.5,-248.5 1049.5,-315 1049.5,-315 1049.5,-321 1043.5,-327 1037.5,-327\"/>\n<text text-anchor=\"start\" x=\"947.75\" y=\"-309.7\" font-family=\"Helvetica,sans-Serif\" font-size=\"14.00\">Quantity ≤ 4.5</text>\n<text text-anchor=\"start\" x=\"949.25\" y=\"-293.2\" font-family=\"Helvetica,sans-Serif\" font-size=\"14.00\">entropy = 1.0</text>\n<text text-anchor=\"start\" x=\"947.75\" y=\"-276.7\" font-family=\"Helvetica,sans-Serif\" font-size=\"14.00\">samples = 20</text>\n<text text-anchor=\"start\" x=\"942.5\" y=\"-260.2\" font-family=\"Helvetica,sans-Serif\" font-size=\"14.00\">value = [10, 10]</text>\n<text text-anchor=\"start\" x=\"940.25\" y=\"-243.7\" font-family=\"Helvetica,sans-Serif\" font-size=\"14.00\">class = Member</text>\n</g>\n<!-- 17&#45;&gt;21 -->\n<g id=\"edge21\" class=\"edge\">\n<title>17&#45;&gt;21</title>\n<path fill=\"none\" stroke=\"black\" d=\"M784.67,-367.5C787.42,-365.94 790.16,-364.43 792.88,-363 834.13,-341.29 882.6,-321.56 921.26,-307.09\"/>\n<polygon fill=\"black\" stroke=\"black\" points=\"922.31,-310.43 930.47,-303.68 919.88,-303.87 922.31,-310.43\"/>\n</g>\n<!-- 19 -->\n<g id=\"node20\" class=\"node\">\n<title>19</title>\n<path fill=\"#ffffff\" stroke=\"black\" d=\"M767.5,-192.25C767.5,-192.25 674.25,-192.25 674.25,-192.25 668.25,-192.25 662.25,-186.25 662.25,-180.25 662.25,-180.25 662.25,-130.25 662.25,-130.25 662.25,-124.25 668.25,-118.25 674.25,-118.25 674.25,-118.25 767.5,-118.25 767.5,-118.25 773.5,-118.25 779.5,-124.25 779.5,-130.25 779.5,-130.25 779.5,-180.25 779.5,-180.25 779.5,-186.25 773.5,-192.25 767.5,-192.25\"/>\n<text text-anchor=\"start\" x=\"679.25\" y=\"-174.95\" font-family=\"Helvetica,sans-Serif\" font-size=\"14.00\">entropy = 1.0</text>\n<text text-anchor=\"start\" x=\"677.75\" y=\"-158.45\" font-family=\"Helvetica,sans-Serif\" font-size=\"14.00\">samples = 12</text>\n<text text-anchor=\"start\" x=\"680.75\" y=\"-141.95\" font-family=\"Helvetica,sans-Serif\" font-size=\"14.00\">value = [6, 6]</text>\n<text text-anchor=\"start\" x=\"670.25\" y=\"-125.45\" font-family=\"Helvetica,sans-Serif\" font-size=\"14.00\">class = Member</text>\n</g>\n<!-- 18&#45;&gt;19 -->\n<g id=\"edge19\" class=\"edge\">\n<title>18&#45;&gt;19</title>\n<path fill=\"none\" stroke=\"black\" d=\"M724.08,-236.15C723.66,-225.6 723.21,-214.31 722.78,-203.63\"/>\n<polygon fill=\"black\" stroke=\"black\" points=\"726.28,-203.72 722.39,-193.87 719.29,-204 726.28,-203.72\"/>\n</g>\n<!-- 20 -->\n<g id=\"node21\" class=\"node\">\n<title>20</title>\n<path fill=\"#f6d5bd\" stroke=\"black\" d=\"M902.5,-192.25C902.5,-192.25 809.25,-192.25 809.25,-192.25 803.25,-192.25 797.25,-186.25 797.25,-180.25 797.25,-180.25 797.25,-130.25 797.25,-130.25 797.25,-124.25 803.25,-118.25 809.25,-118.25 809.25,-118.25 902.5,-118.25 902.5,-118.25 908.5,-118.25 914.5,-124.25 914.5,-130.25 914.5,-130.25 914.5,-180.25 914.5,-180.25 914.5,-186.25 908.5,-192.25 902.5,-192.25\"/>\n<text text-anchor=\"start\" x=\"806\" y=\"-174.95\" font-family=\"Helvetica,sans-Serif\" font-size=\"14.00\">entropy = 0.971</text>\n<text text-anchor=\"start\" x=\"812.75\" y=\"-158.45\" font-family=\"Helvetica,sans-Serif\" font-size=\"14.00\">samples = 10</text>\n<text text-anchor=\"start\" x=\"815.75\" y=\"-141.95\" font-family=\"Helvetica,sans-Serif\" font-size=\"14.00\">value = [6, 4]</text>\n<text text-anchor=\"start\" x=\"805.25\" y=\"-125.45\" font-family=\"Helvetica,sans-Serif\" font-size=\"14.00\">class = Member</text>\n</g>\n<!-- 18&#45;&gt;20 -->\n<g id=\"edge20\" class=\"edge\">\n<title>18&#45;&gt;20</title>\n<path fill=\"none\" stroke=\"black\" d=\"M772.44,-236.15C784.64,-224.48 797.77,-211.89 809.93,-200.25\"/>\n<polygon fill=\"black\" stroke=\"black\" points=\"812.28,-202.85 817.08,-193.4 807.44,-197.79 812.28,-202.85\"/>\n</g>\n<!-- 22 -->\n<g id=\"node23\" class=\"node\">\n<title>22</title>\n<path fill=\"#f8dbc6\" stroke=\"black\" d=\"M1037.5,-192.25C1037.5,-192.25 944.25,-192.25 944.25,-192.25 938.25,-192.25 932.25,-186.25 932.25,-180.25 932.25,-180.25 932.25,-130.25 932.25,-130.25 932.25,-124.25 938.25,-118.25 944.25,-118.25 944.25,-118.25 1037.5,-118.25 1037.5,-118.25 1043.5,-118.25 1049.5,-124.25 1049.5,-130.25 1049.5,-130.25 1049.5,-180.25 1049.5,-180.25 1049.5,-186.25 1043.5,-192.25 1037.5,-192.25\"/>\n<text text-anchor=\"start\" x=\"945.12\" y=\"-174.95\" font-family=\"Helvetica,sans-Serif\" font-size=\"14.00\">entropy = 0.98</text>\n<text text-anchor=\"start\" x=\"947.75\" y=\"-158.45\" font-family=\"Helvetica,sans-Serif\" font-size=\"14.00\">samples = 12</text>\n<text text-anchor=\"start\" x=\"950.75\" y=\"-141.95\" font-family=\"Helvetica,sans-Serif\" font-size=\"14.00\">value = [7, 5]</text>\n<text text-anchor=\"start\" x=\"940.25\" y=\"-125.45\" font-family=\"Helvetica,sans-Serif\" font-size=\"14.00\">class = Member</text>\n</g>\n<!-- 21&#45;&gt;22 -->\n<g id=\"edge22\" class=\"edge\">\n<title>21&#45;&gt;22</title>\n<path fill=\"none\" stroke=\"black\" d=\"M990.88,-236.15C990.88,-225.6 990.88,-214.31 990.88,-203.63\"/>\n<polygon fill=\"black\" stroke=\"black\" points=\"994.38,-203.87 990.88,-193.87 987.38,-203.87 994.38,-203.87\"/>\n</g>\n<!-- 23 -->\n<g id=\"node24\" class=\"node\">\n<title>23</title>\n<path fill=\"#b0d8f5\" stroke=\"black\" d=\"M1171.75,-192.25C1171.75,-192.25 1080,-192.25 1080,-192.25 1074,-192.25 1068,-186.25 1068,-180.25 1068,-180.25 1068,-130.25 1068,-130.25 1068,-124.25 1074,-118.25 1080,-118.25 1080,-118.25 1171.75,-118.25 1171.75,-118.25 1177.75,-118.25 1183.75,-124.25 1183.75,-130.25 1183.75,-130.25 1183.75,-180.25 1183.75,-180.25 1183.75,-186.25 1177.75,-192.25 1171.75,-192.25\"/>\n<text text-anchor=\"start\" x=\"1076\" y=\"-174.95\" font-family=\"Helvetica,sans-Serif\" font-size=\"14.00\">entropy = 0.954</text>\n<text text-anchor=\"start\" x=\"1086.88\" y=\"-158.45\" font-family=\"Helvetica,sans-Serif\" font-size=\"14.00\">samples = 8</text>\n<text text-anchor=\"start\" x=\"1085.75\" y=\"-141.95\" font-family=\"Helvetica,sans-Serif\" font-size=\"14.00\">value = [3, 5]</text>\n<text text-anchor=\"start\" x=\"1079\" y=\"-125.45\" font-family=\"Helvetica,sans-Serif\" font-size=\"14.00\">class = Normal</text>\n</g>\n<!-- 21&#45;&gt;23 -->\n<g id=\"edge23\" class=\"edge\">\n<title>21&#45;&gt;23</title>\n<path fill=\"none\" stroke=\"black\" d=\"M1039.23,-236.15C1052.02,-224.36 1065.8,-211.65 1078.53,-199.91\"/>\n<polygon fill=\"black\" stroke=\"black\" points=\"1080.63,-202.73 1085.61,-193.38 1075.89,-197.59 1080.63,-202.73\"/>\n</g>\n<!-- 25 -->\n<g id=\"node26\" class=\"node\">\n<title>25</title>\n<path fill=\"#ffffff\" stroke=\"black\" d=\"M907.5,-445.25C907.5,-445.25 814.25,-445.25 814.25,-445.25 808.25,-445.25 802.25,-439.25 802.25,-433.25 802.25,-433.25 802.25,-383.25 802.25,-383.25 802.25,-377.25 808.25,-371.25 814.25,-371.25 814.25,-371.25 907.5,-371.25 907.5,-371.25 913.5,-371.25 919.5,-377.25 919.5,-383.25 919.5,-383.25 919.5,-433.25 919.5,-433.25 919.5,-439.25 913.5,-445.25 907.5,-445.25\"/>\n<text text-anchor=\"start\" x=\"819.25\" y=\"-427.95\" font-family=\"Helvetica,sans-Serif\" font-size=\"14.00\">entropy = 1.0</text>\n<text text-anchor=\"start\" x=\"817.75\" y=\"-411.45\" font-family=\"Helvetica,sans-Serif\" font-size=\"14.00\">samples = 12</text>\n<text text-anchor=\"start\" x=\"820.75\" y=\"-394.95\" font-family=\"Helvetica,sans-Serif\" font-size=\"14.00\">value = [6, 6]</text>\n<text text-anchor=\"start\" x=\"810.25\" y=\"-378.45\" font-family=\"Helvetica,sans-Serif\" font-size=\"14.00\">class = Member</text>\n</g>\n<!-- 24&#45;&gt;25 -->\n<g id=\"edge25\" class=\"edge\">\n<title>24&#45;&gt;25</title>\n<path fill=\"none\" stroke=\"black\" d=\"M903.88,-489.15C897.95,-478.15 891.6,-466.34 885.64,-455.27\"/>\n<polygon fill=\"black\" stroke=\"black\" points=\"888.84,-453.84 881.02,-446.69 882.68,-457.15 888.84,-453.84\"/>\n</g>\n<!-- 26 -->\n<g id=\"node27\" class=\"node\">\n<title>26</title>\n<path fill=\"#93caf1\" stroke=\"black\" d=\"M1041.75,-445.25C1041.75,-445.25 950,-445.25 950,-445.25 944,-445.25 938,-439.25 938,-433.25 938,-433.25 938,-383.25 938,-383.25 938,-377.25 944,-371.25 950,-371.25 950,-371.25 1041.75,-371.25 1041.75,-371.25 1047.75,-371.25 1053.75,-377.25 1053.75,-383.25 1053.75,-383.25 1053.75,-433.25 1053.75,-433.25 1053.75,-439.25 1047.75,-445.25 1041.75,-445.25\"/>\n<text text-anchor=\"start\" x=\"946\" y=\"-427.95\" font-family=\"Helvetica,sans-Serif\" font-size=\"14.00\">entropy = 0.896</text>\n<text text-anchor=\"start\" x=\"952.75\" y=\"-411.45\" font-family=\"Helvetica,sans-Serif\" font-size=\"14.00\">samples = 16</text>\n<text text-anchor=\"start\" x=\"951.62\" y=\"-394.95\" font-family=\"Helvetica,sans-Serif\" font-size=\"14.00\">value = [5, 11]</text>\n<text text-anchor=\"start\" x=\"949\" y=\"-378.45\" font-family=\"Helvetica,sans-Serif\" font-size=\"14.00\">class = Normal</text>\n</g>\n<!-- 24&#45;&gt;26 -->\n<g id=\"edge26\" class=\"edge\">\n<title>24&#45;&gt;26</title>\n<path fill=\"none\" stroke=\"black\" d=\"M952.23,-489.15C958.24,-478.15 964.69,-466.34 970.74,-455.27\"/>\n<polygon fill=\"black\" stroke=\"black\" points=\"973.71,-457.14 975.43,-446.68 967.56,-453.78 973.71,-457.14\"/>\n</g>\n<!-- 28 -->\n<g id=\"node29\" class=\"node\">\n<title>28</title>\n<path fill=\"#72b9ec\" stroke=\"black\" d=\"M1304.75,-580C1304.75,-580 1213,-580 1213,-580 1207,-580 1201,-574 1201,-568 1201,-568 1201,-501.5 1201,-501.5 1201,-495.5 1207,-489.5 1213,-489.5 1213,-489.5 1304.75,-489.5 1304.75,-489.5 1310.75,-489.5 1316.75,-495.5 1316.75,-501.5 1316.75,-501.5 1316.75,-568 1316.75,-568 1316.75,-574 1310.75,-580 1304.75,-580\"/>\n<text text-anchor=\"start\" x=\"1224.75\" y=\"-562.7\" font-family=\"Helvetica,sans-Serif\" font-size=\"14.00\">Cash ≤ 0.5</text>\n<text text-anchor=\"start\" x=\"1209\" y=\"-546.2\" font-family=\"Helvetica,sans-Serif\" font-size=\"14.00\">entropy = 0.764</text>\n<text text-anchor=\"start\" x=\"1215.75\" y=\"-529.7\" font-family=\"Helvetica,sans-Serif\" font-size=\"14.00\">samples = 27</text>\n<text text-anchor=\"start\" x=\"1214.62\" y=\"-513.2\" font-family=\"Helvetica,sans-Serif\" font-size=\"14.00\">value = [6, 21]</text>\n<text text-anchor=\"start\" x=\"1212\" y=\"-496.7\" font-family=\"Helvetica,sans-Serif\" font-size=\"14.00\">class = Normal</text>\n</g>\n<!-- 27&#45;&gt;28 -->\n<g id=\"edge28\" class=\"edge\">\n<title>27&#45;&gt;28</title>\n<path fill=\"none\" stroke=\"black\" d=\"M1301.88,-615.65C1297.5,-607.52 1292.88,-598.95 1288.37,-590.55\"/>\n<polygon fill=\"black\" stroke=\"black\" points=\"1291.47,-588.93 1283.65,-581.79 1285.31,-592.25 1291.47,-588.93\"/>\n</g>\n<!-- 31 -->\n<g id=\"node32\" class=\"node\">\n<title>31</title>\n<path fill=\"#c4e2f7\" stroke=\"black\" d=\"M1438.75,-580C1438.75,-580 1347,-580 1347,-580 1341,-580 1335,-574 1335,-568 1335,-568 1335,-501.5 1335,-501.5 1335,-495.5 1341,-489.5 1347,-489.5 1347,-489.5 1438.75,-489.5 1438.75,-489.5 1444.75,-489.5 1450.75,-495.5 1450.75,-501.5 1450.75,-501.5 1450.75,-568 1450.75,-568 1450.75,-574 1444.75,-580 1438.75,-580\"/>\n<text text-anchor=\"start\" x=\"1358.75\" y=\"-562.7\" font-family=\"Helvetica,sans-Serif\" font-size=\"14.00\">Cash ≤ 0.5</text>\n<text text-anchor=\"start\" x=\"1343\" y=\"-546.2\" font-family=\"Helvetica,sans-Serif\" font-size=\"14.00\">entropy = 0.977</text>\n<text text-anchor=\"start\" x=\"1349.75\" y=\"-529.7\" font-family=\"Helvetica,sans-Serif\" font-size=\"14.00\">samples = 17</text>\n<text text-anchor=\"start\" x=\"1348.62\" y=\"-513.2\" font-family=\"Helvetica,sans-Serif\" font-size=\"14.00\">value = [7, 10]</text>\n<text text-anchor=\"start\" x=\"1346\" y=\"-496.7\" font-family=\"Helvetica,sans-Serif\" font-size=\"14.00\">class = Normal</text>\n</g>\n<!-- 27&#45;&gt;31 -->\n<g id=\"edge31\" class=\"edge\">\n<title>27&#45;&gt;31</title>\n<path fill=\"none\" stroke=\"black\" d=\"M1349.87,-615.65C1354.25,-607.52 1358.87,-598.95 1363.38,-590.55\"/>\n<polygon fill=\"black\" stroke=\"black\" points=\"1366.44,-592.25 1368.1,-581.79 1360.28,-588.93 1366.44,-592.25\"/>\n</g>\n<!-- 29 -->\n<g id=\"node30\" class=\"node\">\n<title>29</title>\n<path fill=\"#74baed\" stroke=\"black\" d=\"M1175.75,-445.25C1175.75,-445.25 1084,-445.25 1084,-445.25 1078,-445.25 1072,-439.25 1072,-433.25 1072,-433.25 1072,-383.25 1072,-383.25 1072,-377.25 1078,-371.25 1084,-371.25 1084,-371.25 1175.75,-371.25 1175.75,-371.25 1181.75,-371.25 1187.75,-377.25 1187.75,-383.25 1187.75,-383.25 1187.75,-433.25 1187.75,-433.25 1187.75,-439.25 1181.75,-445.25 1175.75,-445.25\"/>\n<text text-anchor=\"start\" x=\"1080\" y=\"-427.95\" font-family=\"Helvetica,sans-Serif\" font-size=\"14.00\">entropy = 0.779</text>\n<text text-anchor=\"start\" x=\"1086.75\" y=\"-411.45\" font-family=\"Helvetica,sans-Serif\" font-size=\"14.00\">samples = 13</text>\n<text text-anchor=\"start\" x=\"1085.62\" y=\"-394.95\" font-family=\"Helvetica,sans-Serif\" font-size=\"14.00\">value = [3, 10]</text>\n<text text-anchor=\"start\" x=\"1083\" y=\"-378.45\" font-family=\"Helvetica,sans-Serif\" font-size=\"14.00\">class = Normal</text>\n</g>\n<!-- 28&#45;&gt;29 -->\n<g id=\"edge29\" class=\"edge\">\n<title>28&#45;&gt;29</title>\n<path fill=\"none\" stroke=\"black\" d=\"M1212.67,-489.15C1200.57,-477.48 1187.53,-464.89 1175.46,-453.25\"/>\n<polygon fill=\"black\" stroke=\"black\" points=\"1178,-450.83 1168.38,-446.41 1173.14,-455.87 1178,-450.83\"/>\n</g>\n<!-- 30 -->\n<g id=\"node31\" class=\"node\">\n<title>30</title>\n<path fill=\"#6fb8ec\" stroke=\"black\" d=\"M1303.75,-445.25C1303.75,-445.25 1218,-445.25 1218,-445.25 1212,-445.25 1206,-439.25 1206,-433.25 1206,-433.25 1206,-383.25 1206,-383.25 1206,-377.25 1212,-371.25 1218,-371.25 1218,-371.25 1303.75,-371.25 1303.75,-371.25 1309.75,-371.25 1315.75,-377.25 1315.75,-383.25 1315.75,-383.25 1315.75,-433.25 1315.75,-433.25 1315.75,-439.25 1309.75,-445.25 1303.75,-445.25\"/>\n<text text-anchor=\"start\" x=\"1215.12\" y=\"-427.95\" font-family=\"Helvetica,sans-Serif\" font-size=\"14.00\">entropy = 0.75</text>\n<text text-anchor=\"start\" x=\"1217.75\" y=\"-411.45\" font-family=\"Helvetica,sans-Serif\" font-size=\"14.00\">samples = 14</text>\n<text text-anchor=\"start\" x=\"1216.62\" y=\"-394.95\" font-family=\"Helvetica,sans-Serif\" font-size=\"14.00\">value = [3, 11]</text>\n<text text-anchor=\"start\" x=\"1214\" y=\"-378.45\" font-family=\"Helvetica,sans-Serif\" font-size=\"14.00\">class = Normal</text>\n</g>\n<!-- 28&#45;&gt;30 -->\n<g id=\"edge30\" class=\"edge\">\n<title>28&#45;&gt;30</title>\n<path fill=\"none\" stroke=\"black\" d=\"M1259.59,-489.15C1259.76,-478.6 1259.94,-467.31 1260.11,-456.63\"/>\n<polygon fill=\"black\" stroke=\"black\" points=\"1263.61,-456.92 1260.27,-446.87 1256.61,-456.81 1263.61,-456.92\"/>\n</g>\n<!-- 32 -->\n<g id=\"node33\" class=\"node\">\n<title>32</title>\n<path fill=\"#fbeade\" stroke=\"black\" d=\"M1439.5,-445.25C1439.5,-445.25 1346.25,-445.25 1346.25,-445.25 1340.25,-445.25 1334.25,-439.25 1334.25,-433.25 1334.25,-433.25 1334.25,-383.25 1334.25,-383.25 1334.25,-377.25 1340.25,-371.25 1346.25,-371.25 1346.25,-371.25 1439.5,-371.25 1439.5,-371.25 1445.5,-371.25 1451.5,-377.25 1451.5,-383.25 1451.5,-383.25 1451.5,-433.25 1451.5,-433.25 1451.5,-439.25 1445.5,-445.25 1439.5,-445.25\"/>\n<text text-anchor=\"start\" x=\"1343\" y=\"-427.95\" font-family=\"Helvetica,sans-Serif\" font-size=\"14.00\">entropy = 0.994</text>\n<text text-anchor=\"start\" x=\"1349.75\" y=\"-411.45\" font-family=\"Helvetica,sans-Serif\" font-size=\"14.00\">samples = 11</text>\n<text text-anchor=\"start\" x=\"1352.75\" y=\"-394.95\" font-family=\"Helvetica,sans-Serif\" font-size=\"14.00\">value = [6, 5]</text>\n<text text-anchor=\"start\" x=\"1342.25\" y=\"-378.45\" font-family=\"Helvetica,sans-Serif\" font-size=\"14.00\">class = Member</text>\n</g>\n<!-- 31&#45;&gt;32 -->\n<g id=\"edge32\" class=\"edge\">\n<title>31&#45;&gt;32</title>\n<path fill=\"none\" stroke=\"black\" d=\"M1392.88,-489.15C1392.88,-478.6 1392.88,-467.31 1392.88,-456.63\"/>\n<polygon fill=\"black\" stroke=\"black\" points=\"1396.38,-456.87 1392.88,-446.87 1389.38,-456.87 1396.38,-456.87\"/>\n</g>\n<!-- 33 -->\n<g id=\"node34\" class=\"node\">\n<title>33</title>\n<path fill=\"#61b1ea\" stroke=\"black\" d=\"M1567.75,-445.25C1567.75,-445.25 1482,-445.25 1482,-445.25 1476,-445.25 1470,-439.25 1470,-433.25 1470,-433.25 1470,-383.25 1470,-383.25 1470,-377.25 1476,-371.25 1482,-371.25 1482,-371.25 1567.75,-371.25 1567.75,-371.25 1573.75,-371.25 1579.75,-377.25 1579.75,-383.25 1579.75,-383.25 1579.75,-433.25 1579.75,-433.25 1579.75,-439.25 1573.75,-445.25 1567.75,-445.25\"/>\n<text text-anchor=\"start\" x=\"1479.12\" y=\"-427.95\" font-family=\"Helvetica,sans-Serif\" font-size=\"14.00\">entropy = 0.65</text>\n<text text-anchor=\"start\" x=\"1485.88\" y=\"-411.45\" font-family=\"Helvetica,sans-Serif\" font-size=\"14.00\">samples = 6</text>\n<text text-anchor=\"start\" x=\"1484.75\" y=\"-394.95\" font-family=\"Helvetica,sans-Serif\" font-size=\"14.00\">value = [1, 5]</text>\n<text text-anchor=\"start\" x=\"1478\" y=\"-378.45\" font-family=\"Helvetica,sans-Serif\" font-size=\"14.00\">class = Normal</text>\n</g>\n<!-- 31&#45;&gt;33 -->\n<g id=\"edge33\" class=\"edge\">\n<title>31&#45;&gt;33</title>\n<path fill=\"none\" stroke=\"black\" d=\"M1440.16,-489.15C1452.54,-477.48 1465.88,-464.89 1478.23,-453.25\"/>\n<polygon fill=\"black\" stroke=\"black\" points=\"1480.62,-455.8 1485.49,-446.39 1475.82,-450.71 1480.62,-455.8\"/>\n</g>\n<!-- 35 -->\n<g id=\"node36\" class=\"node\">\n<title>35</title>\n<path fill=\"#fcf2eb\" stroke=\"black\" d=\"M1708.5,-706.5C1708.5,-706.5 1615.25,-706.5 1615.25,-706.5 1609.25,-706.5 1603.25,-700.5 1603.25,-694.5 1603.25,-694.5 1603.25,-628 1603.25,-628 1603.25,-622 1609.25,-616 1615.25,-616 1615.25,-616 1708.5,-616 1708.5,-616 1714.5,-616 1720.5,-622 1720.5,-628 1720.5,-628 1720.5,-694.5 1720.5,-694.5 1720.5,-700.5 1714.5,-706.5 1708.5,-706.5\"/>\n<text text-anchor=\"start\" x=\"1627.75\" y=\"-689.2\" font-family=\"Helvetica,sans-Serif\" font-size=\"14.00\">Cash ≤ 0.5</text>\n<text text-anchor=\"start\" x=\"1612\" y=\"-672.7\" font-family=\"Helvetica,sans-Serif\" font-size=\"14.00\">entropy = 0.998</text>\n<text text-anchor=\"start\" x=\"1618.75\" y=\"-656.2\" font-family=\"Helvetica,sans-Serif\" font-size=\"14.00\">samples = 19</text>\n<text text-anchor=\"start\" x=\"1617.62\" y=\"-639.7\" font-family=\"Helvetica,sans-Serif\" font-size=\"14.00\">value = [10, 9]</text>\n<text text-anchor=\"start\" x=\"1611.25\" y=\"-623.2\" font-family=\"Helvetica,sans-Serif\" font-size=\"14.00\">class = Member</text>\n</g>\n<!-- 34&#45;&gt;35 -->\n<g id=\"edge35\" class=\"edge\">\n<title>34&#45;&gt;35</title>\n<path fill=\"none\" stroke=\"black\" d=\"M1704.88,-742.15C1700.5,-734.02 1695.88,-725.45 1691.37,-717.05\"/>\n<polygon fill=\"black\" stroke=\"black\" points=\"1694.47,-715.43 1686.65,-708.29 1688.31,-718.75 1694.47,-715.43\"/>\n</g>\n<!-- 38 -->\n<g id=\"node39\" class=\"node\">\n<title>38</title>\n<path fill=\"#fae6d7\" stroke=\"black\" d=\"M1843.5,-706.5C1843.5,-706.5 1750.25,-706.5 1750.25,-706.5 1744.25,-706.5 1738.25,-700.5 1738.25,-694.5 1738.25,-694.5 1738.25,-628 1738.25,-628 1738.25,-622 1744.25,-616 1750.25,-616 1750.25,-616 1843.5,-616 1843.5,-616 1849.5,-616 1855.5,-622 1855.5,-628 1855.5,-628 1855.5,-694.5 1855.5,-694.5 1855.5,-700.5 1849.5,-706.5 1843.5,-706.5\"/>\n<text text-anchor=\"start\" x=\"1762.75\" y=\"-689.2\" font-family=\"Helvetica,sans-Serif\" font-size=\"14.00\">Cash ≤ 0.5</text>\n<text text-anchor=\"start\" x=\"1747\" y=\"-672.7\" font-family=\"Helvetica,sans-Serif\" font-size=\"14.00\">entropy = 0.991</text>\n<text text-anchor=\"start\" x=\"1753.75\" y=\"-656.2\" font-family=\"Helvetica,sans-Serif\" font-size=\"14.00\">samples = 27</text>\n<text text-anchor=\"start\" x=\"1748.5\" y=\"-639.7\" font-family=\"Helvetica,sans-Serif\" font-size=\"14.00\">value = [15, 12]</text>\n<text text-anchor=\"start\" x=\"1746.25\" y=\"-623.2\" font-family=\"Helvetica,sans-Serif\" font-size=\"14.00\">class = Member</text>\n</g>\n<!-- 34&#45;&gt;38 -->\n<g id=\"edge38\" class=\"edge\">\n<title>34&#45;&gt;38</title>\n<path fill=\"none\" stroke=\"black\" d=\"M1753.23,-742.15C1757.68,-734.02 1762.36,-725.45 1766.94,-717.05\"/>\n<polygon fill=\"black\" stroke=\"black\" points=\"1770.01,-718.74 1771.73,-708.28 1763.87,-715.38 1770.01,-718.74\"/>\n</g>\n<!-- 36 -->\n<g id=\"node37\" class=\"node\">\n<title>36</title>\n<path fill=\"#f2c09c\" stroke=\"black\" d=\"M1574.5,-571.75C1574.5,-571.75 1481.25,-571.75 1481.25,-571.75 1475.25,-571.75 1469.25,-565.75 1469.25,-559.75 1469.25,-559.75 1469.25,-509.75 1469.25,-509.75 1469.25,-503.75 1475.25,-497.75 1481.25,-497.75 1481.25,-497.75 1574.5,-497.75 1574.5,-497.75 1580.5,-497.75 1586.5,-503.75 1586.5,-509.75 1586.5,-509.75 1586.5,-559.75 1586.5,-559.75 1586.5,-565.75 1580.5,-571.75 1574.5,-571.75\"/>\n<text text-anchor=\"start\" x=\"1478\" y=\"-554.45\" font-family=\"Helvetica,sans-Serif\" font-size=\"14.00\">entropy = 0.918</text>\n<text text-anchor=\"start\" x=\"1484.75\" y=\"-537.95\" font-family=\"Helvetica,sans-Serif\" font-size=\"14.00\">samples = 12</text>\n<text text-anchor=\"start\" x=\"1487.75\" y=\"-521.45\" font-family=\"Helvetica,sans-Serif\" font-size=\"14.00\">value = [8, 4]</text>\n<text text-anchor=\"start\" x=\"1477.25\" y=\"-504.95\" font-family=\"Helvetica,sans-Serif\" font-size=\"14.00\">class = Member</text>\n</g>\n<!-- 35&#45;&gt;36 -->\n<g id=\"edge36\" class=\"edge\">\n<title>35&#45;&gt;36</title>\n<path fill=\"none\" stroke=\"black\" d=\"M1613.88,-615.65C1601.19,-603.86 1587.5,-591.15 1574.87,-579.41\"/>\n<polygon fill=\"black\" stroke=\"black\" points=\"1577.55,-577.13 1567.84,-572.89 1572.79,-582.26 1577.55,-577.13\"/>\n</g>\n<!-- 37 -->\n<g id=\"node38\" class=\"node\">\n<title>37</title>\n<path fill=\"#88c4ef\" stroke=\"black\" d=\"M1708.75,-571.75C1708.75,-571.75 1617,-571.75 1617,-571.75 1611,-571.75 1605,-565.75 1605,-559.75 1605,-559.75 1605,-509.75 1605,-509.75 1605,-503.75 1611,-497.75 1617,-497.75 1617,-497.75 1708.75,-497.75 1708.75,-497.75 1714.75,-497.75 1720.75,-503.75 1720.75,-509.75 1720.75,-509.75 1720.75,-559.75 1720.75,-559.75 1720.75,-565.75 1714.75,-571.75 1708.75,-571.75\"/>\n<text text-anchor=\"start\" x=\"1613\" y=\"-554.45\" font-family=\"Helvetica,sans-Serif\" font-size=\"14.00\">entropy = 0.863</text>\n<text text-anchor=\"start\" x=\"1623.88\" y=\"-537.95\" font-family=\"Helvetica,sans-Serif\" font-size=\"14.00\">samples = 7</text>\n<text text-anchor=\"start\" x=\"1622.75\" y=\"-521.45\" font-family=\"Helvetica,sans-Serif\" font-size=\"14.00\">value = [2, 5]</text>\n<text text-anchor=\"start\" x=\"1616\" y=\"-504.95\" font-family=\"Helvetica,sans-Serif\" font-size=\"14.00\">class = Normal</text>\n</g>\n<!-- 35&#45;&gt;37 -->\n<g id=\"edge37\" class=\"edge\">\n<title>35&#45;&gt;37</title>\n<path fill=\"none\" stroke=\"black\" d=\"M1662.23,-615.65C1662.32,-605.1 1662.41,-593.81 1662.49,-583.13\"/>\n<polygon fill=\"black\" stroke=\"black\" points=\"1665.99,-583.4 1662.57,-573.37 1658.99,-583.34 1665.99,-583.4\"/>\n</g>\n<!-- 39 -->\n<g id=\"node40\" class=\"node\">\n<title>39</title>\n<path fill=\"#cee6f8\" stroke=\"black\" d=\"M1842.75,-571.75C1842.75,-571.75 1751,-571.75 1751,-571.75 1745,-571.75 1739,-565.75 1739,-559.75 1739,-559.75 1739,-509.75 1739,-509.75 1739,-503.75 1745,-497.75 1751,-497.75 1751,-497.75 1842.75,-497.75 1842.75,-497.75 1848.75,-497.75 1854.75,-503.75 1854.75,-509.75 1854.75,-509.75 1854.75,-559.75 1854.75,-559.75 1854.75,-565.75 1848.75,-571.75 1842.75,-571.75\"/>\n<text text-anchor=\"start\" x=\"1747\" y=\"-554.45\" font-family=\"Helvetica,sans-Serif\" font-size=\"14.00\">entropy = 0.985</text>\n<text text-anchor=\"start\" x=\"1753.75\" y=\"-537.95\" font-family=\"Helvetica,sans-Serif\" font-size=\"14.00\">samples = 14</text>\n<text text-anchor=\"start\" x=\"1756.75\" y=\"-521.45\" font-family=\"Helvetica,sans-Serif\" font-size=\"14.00\">value = [6, 8]</text>\n<text text-anchor=\"start\" x=\"1750\" y=\"-504.95\" font-family=\"Helvetica,sans-Serif\" font-size=\"14.00\">class = Normal</text>\n</g>\n<!-- 38&#45;&gt;39 -->\n<g id=\"edge39\" class=\"edge\">\n<title>38&#45;&gt;39</title>\n<path fill=\"none\" stroke=\"black\" d=\"M1796.88,-615.65C1796.88,-605.1 1796.88,-593.81 1796.88,-583.13\"/>\n<polygon fill=\"black\" stroke=\"black\" points=\"1800.38,-583.37 1796.88,-573.37 1793.38,-583.37 1800.38,-583.37\"/>\n</g>\n<!-- 40 -->\n<g id=\"node41\" class=\"node\">\n<title>40</title>\n<path fill=\"#f1b991\" stroke=\"black\" d=\"M1978.5,-571.75C1978.5,-571.75 1885.25,-571.75 1885.25,-571.75 1879.25,-571.75 1873.25,-565.75 1873.25,-559.75 1873.25,-559.75 1873.25,-509.75 1873.25,-509.75 1873.25,-503.75 1879.25,-497.75 1885.25,-497.75 1885.25,-497.75 1978.5,-497.75 1978.5,-497.75 1984.5,-497.75 1990.5,-503.75 1990.5,-509.75 1990.5,-509.75 1990.5,-559.75 1990.5,-559.75 1990.5,-565.75 1984.5,-571.75 1978.5,-571.75\"/>\n<text text-anchor=\"start\" x=\"1886.12\" y=\"-554.45\" font-family=\"Helvetica,sans-Serif\" font-size=\"14.00\">entropy = 0.89</text>\n<text text-anchor=\"start\" x=\"1888.75\" y=\"-537.95\" font-family=\"Helvetica,sans-Serif\" font-size=\"14.00\">samples = 13</text>\n<text text-anchor=\"start\" x=\"1891.75\" y=\"-521.45\" font-family=\"Helvetica,sans-Serif\" font-size=\"14.00\">value = [9, 4]</text>\n<text text-anchor=\"start\" x=\"1881.25\" y=\"-504.95\" font-family=\"Helvetica,sans-Serif\" font-size=\"14.00\">class = Member</text>\n</g>\n<!-- 38&#45;&gt;40 -->\n<g id=\"edge40\" class=\"edge\">\n<title>38&#45;&gt;40</title>\n<path fill=\"none\" stroke=\"black\" d=\"M1845.23,-615.65C1858.02,-603.86 1871.8,-591.15 1884.53,-579.41\"/>\n<polygon fill=\"black\" stroke=\"black\" points=\"1886.63,-582.23 1891.61,-572.88 1881.89,-577.09 1886.63,-582.23\"/>\n</g>\n<!-- 42 -->\n<g id=\"node43\" class=\"node\">\n<title>42</title>\n<path fill=\"#efb185\" stroke=\"black\" d=\"M2237.5,-833C2237.5,-833 2144.25,-833 2144.25,-833 2138.25,-833 2132.25,-827 2132.25,-821 2132.25,-821 2132.25,-754.5 2132.25,-754.5 2132.25,-748.5 2138.25,-742.5 2144.25,-742.5 2144.25,-742.5 2237.5,-742.5 2237.5,-742.5 2243.5,-742.5 2249.5,-748.5 2249.5,-754.5 2249.5,-754.5 2249.5,-821 2249.5,-821 2249.5,-827 2243.5,-833 2237.5,-833\"/>\n<text text-anchor=\"start\" x=\"2156.75\" y=\"-815.7\" font-family=\"Helvetica,sans-Serif\" font-size=\"14.00\">Cash ≤ 0.5</text>\n<text text-anchor=\"start\" x=\"2141\" y=\"-799.2\" font-family=\"Helvetica,sans-Serif\" font-size=\"14.00\">entropy = 0.852</text>\n<text text-anchor=\"start\" x=\"2147.75\" y=\"-782.7\" font-family=\"Helvetica,sans-Serif\" font-size=\"14.00\">samples = 18</text>\n<text text-anchor=\"start\" x=\"2146.62\" y=\"-766.2\" font-family=\"Helvetica,sans-Serif\" font-size=\"14.00\">value = [13, 5]</text>\n<text text-anchor=\"start\" x=\"2140.25\" y=\"-749.7\" font-family=\"Helvetica,sans-Serif\" font-size=\"14.00\">class = Member</text>\n</g>\n<!-- 41&#45;&gt;42 -->\n<g id=\"edge42\" class=\"edge\">\n<title>41&#45;&gt;42</title>\n<path fill=\"none\" stroke=\"black\" d=\"M2235.8,-868.65C2231.18,-860.43 2226.3,-851.76 2221.53,-843.28\"/>\n<polygon fill=\"black\" stroke=\"black\" points=\"2224.7,-841.77 2216.75,-834.77 2218.6,-845.2 2224.7,-841.77\"/>\n</g>\n<!-- 45 -->\n<g id=\"node46\" class=\"node\">\n<title>45</title>\n<path fill=\"#fafcfe\" stroke=\"black\" d=\"M2384.5,-833C2384.5,-833 2279.25,-833 2279.25,-833 2273.25,-833 2267.25,-827 2267.25,-821 2267.25,-821 2267.25,-754.5 2267.25,-754.5 2267.25,-748.5 2273.25,-742.5 2279.25,-742.5 2279.25,-742.5 2384.5,-742.5 2384.5,-742.5 2390.5,-742.5 2396.5,-748.5 2396.5,-754.5 2396.5,-754.5 2396.5,-821 2396.5,-821 2396.5,-827 2390.5,-833 2384.5,-833\"/>\n<text text-anchor=\"start\" x=\"2288.75\" y=\"-815.7\" font-family=\"Helvetica,sans-Serif\" font-size=\"14.00\">Quantity ≤ 6.5</text>\n<text text-anchor=\"start\" x=\"2290.25\" y=\"-799.2\" font-family=\"Helvetica,sans-Serif\" font-size=\"14.00\">entropy = 1.0</text>\n<text text-anchor=\"start\" x=\"2284.62\" y=\"-782.7\" font-family=\"Helvetica,sans-Serif\" font-size=\"14.00\">samples = 213</text>\n<text text-anchor=\"start\" x=\"2275.25\" y=\"-766.2\" font-family=\"Helvetica,sans-Serif\" font-size=\"14.00\">value = [105, 108]</text>\n<text text-anchor=\"start\" x=\"2285\" y=\"-749.7\" font-family=\"Helvetica,sans-Serif\" font-size=\"14.00\">class = Normal</text>\n</g>\n<!-- 41&#45;&gt;45 -->\n<g id=\"edge45\" class=\"edge\">\n<title>41&#45;&gt;45</title>\n<path fill=\"none\" stroke=\"black\" d=\"M2286.31,-868.65C2291,-860.43 2295.94,-851.76 2300.78,-843.28\"/>\n<polygon fill=\"black\" stroke=\"black\" points=\"2303.72,-845.19 2305.63,-834.77 2297.64,-841.72 2303.72,-845.19\"/>\n</g>\n<!-- 43 -->\n<g id=\"node44\" class=\"node\">\n<title>43</title>\n<path fill=\"#eca06a\" stroke=\"black\" d=\"M2103.5,-698.25C2103.5,-698.25 2010.25,-698.25 2010.25,-698.25 2004.25,-698.25 1998.25,-692.25 1998.25,-686.25 1998.25,-686.25 1998.25,-636.25 1998.25,-636.25 1998.25,-630.25 2004.25,-624.25 2010.25,-624.25 2010.25,-624.25 2103.5,-624.25 2103.5,-624.25 2109.5,-624.25 2115.5,-630.25 2115.5,-636.25 2115.5,-636.25 2115.5,-686.25 2115.5,-686.25 2115.5,-692.25 2109.5,-698.25 2103.5,-698.25\"/>\n<text text-anchor=\"start\" x=\"2007\" y=\"-680.95\" font-family=\"Helvetica,sans-Serif\" font-size=\"14.00\">entropy = 0.722</text>\n<text text-anchor=\"start\" x=\"2017.88\" y=\"-664.45\" font-family=\"Helvetica,sans-Serif\" font-size=\"14.00\">samples = 5</text>\n<text text-anchor=\"start\" x=\"2016.75\" y=\"-647.95\" font-family=\"Helvetica,sans-Serif\" font-size=\"14.00\">value = [4, 1]</text>\n<text text-anchor=\"start\" x=\"2006.25\" y=\"-631.45\" font-family=\"Helvetica,sans-Serif\" font-size=\"14.00\">class = Member</text>\n</g>\n<!-- 42&#45;&gt;43 -->\n<g id=\"edge43\" class=\"edge\">\n<title>42&#45;&gt;43</title>\n<path fill=\"none\" stroke=\"black\" d=\"M2142.88,-742.15C2130.19,-730.36 2116.5,-717.65 2103.87,-705.91\"/>\n<polygon fill=\"black\" stroke=\"black\" points=\"2106.55,-703.63 2096.84,-699.39 2101.79,-708.76 2106.55,-703.63\"/>\n</g>\n<!-- 44 -->\n<g id=\"node45\" class=\"node\">\n<title>44</title>\n<path fill=\"#f1b991\" stroke=\"black\" d=\"M2238.5,-698.25C2238.5,-698.25 2145.25,-698.25 2145.25,-698.25 2139.25,-698.25 2133.25,-692.25 2133.25,-686.25 2133.25,-686.25 2133.25,-636.25 2133.25,-636.25 2133.25,-630.25 2139.25,-624.25 2145.25,-624.25 2145.25,-624.25 2238.5,-624.25 2238.5,-624.25 2244.5,-624.25 2250.5,-630.25 2250.5,-636.25 2250.5,-636.25 2250.5,-686.25 2250.5,-686.25 2250.5,-692.25 2244.5,-698.25 2238.5,-698.25\"/>\n<text text-anchor=\"start\" x=\"2146.12\" y=\"-680.95\" font-family=\"Helvetica,sans-Serif\" font-size=\"14.00\">entropy = 0.89</text>\n<text text-anchor=\"start\" x=\"2148.75\" y=\"-664.45\" font-family=\"Helvetica,sans-Serif\" font-size=\"14.00\">samples = 13</text>\n<text text-anchor=\"start\" x=\"2151.75\" y=\"-647.95\" font-family=\"Helvetica,sans-Serif\" font-size=\"14.00\">value = [9, 4]</text>\n<text text-anchor=\"start\" x=\"2141.25\" y=\"-631.45\" font-family=\"Helvetica,sans-Serif\" font-size=\"14.00\">class = Member</text>\n</g>\n<!-- 42&#45;&gt;44 -->\n<g id=\"edge44\" class=\"edge\">\n<title>42&#45;&gt;44</title>\n<path fill=\"none\" stroke=\"black\" d=\"M2191.23,-742.15C2191.32,-731.6 2191.41,-720.31 2191.49,-709.63\"/>\n<polygon fill=\"black\" stroke=\"black\" points=\"2194.99,-709.9 2191.57,-699.87 2187.99,-709.84 2194.99,-709.9\"/>\n</g>\n<!-- 46 -->\n<g id=\"node47\" class=\"node\">\n<title>46</title>\n<path fill=\"#ddeefb\" stroke=\"black\" d=\"M2375.75,-706.5C2375.75,-706.5 2284,-706.5 2284,-706.5 2278,-706.5 2272,-700.5 2272,-694.5 2272,-694.5 2272,-628 2272,-628 2272,-622 2278,-616 2284,-616 2284,-616 2375.75,-616 2375.75,-616 2381.75,-616 2387.75,-622 2387.75,-628 2387.75,-628 2387.75,-694.5 2387.75,-694.5 2387.75,-700.5 2381.75,-706.5 2375.75,-706.5\"/>\n<text text-anchor=\"start\" x=\"2286.75\" y=\"-689.2\" font-family=\"Helvetica,sans-Serif\" font-size=\"14.00\">Quantity ≤ 4.5</text>\n<text text-anchor=\"start\" x=\"2280\" y=\"-672.7\" font-family=\"Helvetica,sans-Serif\" font-size=\"14.00\">entropy = 0.994</text>\n<text text-anchor=\"start\" x=\"2282.62\" y=\"-656.2\" font-family=\"Helvetica,sans-Serif\" font-size=\"14.00\">samples = 119</text>\n<text text-anchor=\"start\" x=\"2281.5\" y=\"-639.7\" font-family=\"Helvetica,sans-Serif\" font-size=\"14.00\">value = [54, 65]</text>\n<text text-anchor=\"start\" x=\"2283\" y=\"-623.2\" font-family=\"Helvetica,sans-Serif\" font-size=\"14.00\">class = Normal</text>\n</g>\n<!-- 45&#45;&gt;46 -->\n<g id=\"edge46\" class=\"edge\">\n<title>45&#45;&gt;46</title>\n<path fill=\"none\" stroke=\"black\" d=\"M2331.16,-742.15C2331.04,-734.47 2330.91,-726.39 2330.78,-718.44\"/>\n<polygon fill=\"black\" stroke=\"black\" points=\"2334.28,-718.41 2330.62,-708.47 2327.28,-718.52 2334.28,-718.41\"/>\n</g>\n<!-- 65 -->\n<g id=\"node66\" class=\"node\">\n<title>65</title>\n<path fill=\"#fbebe0\" stroke=\"black\" d=\"M2659.25,-706.5C2659.25,-706.5 2546.5,-706.5 2546.5,-706.5 2540.5,-706.5 2534.5,-700.5 2534.5,-694.5 2534.5,-694.5 2534.5,-628 2534.5,-628 2534.5,-622 2540.5,-616 2546.5,-616 2546.5,-616 2659.25,-616 2659.25,-616 2665.25,-616 2671.25,-622 2671.25,-628 2671.25,-628 2671.25,-694.5 2671.25,-694.5 2671.25,-700.5 2665.25,-706.5 2659.25,-706.5\"/>\n<text text-anchor=\"start\" x=\"2559.75\" y=\"-689.2\" font-family=\"Helvetica,sans-Serif\" font-size=\"14.00\">Quantity ≤ 7.5</text>\n<text text-anchor=\"start\" x=\"2553\" y=\"-672.7\" font-family=\"Helvetica,sans-Serif\" font-size=\"14.00\">entropy = 0.995</text>\n<text text-anchor=\"start\" x=\"2559.75\" y=\"-656.2\" font-family=\"Helvetica,sans-Serif\" font-size=\"14.00\">samples = 94</text>\n<text text-anchor=\"start\" x=\"2542.5\" y=\"-639.7\" font-family=\"Helvetica,sans-Serif\" font-size=\"14.00\">value = [51.0, 43.0]</text>\n<text text-anchor=\"start\" x=\"2552.25\" y=\"-623.2\" font-family=\"Helvetica,sans-Serif\" font-size=\"14.00\">class = Member</text>\n</g>\n<!-- 45&#45;&gt;65 -->\n<g id=\"edge65\" class=\"edge\">\n<title>45&#45;&gt;65</title>\n<path fill=\"none\" stroke=\"black\" d=\"M2396.79,-756.93C2434.96,-739.39 2483.5,-717.09 2523.89,-698.54\"/>\n<polygon fill=\"black\" stroke=\"black\" points=\"2525.23,-701.77 2532.86,-694.42 2522.31,-695.41 2525.23,-701.77\"/>\n</g>\n<!-- 47 -->\n<g id=\"node48\" class=\"node\">\n<title>47</title>\n<path fill=\"#fbebdf\" stroke=\"black\" d=\"M2113.5,-580C2113.5,-580 2020.25,-580 2020.25,-580 2014.25,-580 2008.25,-574 2008.25,-568 2008.25,-568 2008.25,-501.5 2008.25,-501.5 2008.25,-495.5 2014.25,-489.5 2020.25,-489.5 2020.25,-489.5 2113.5,-489.5 2113.5,-489.5 2119.5,-489.5 2125.5,-495.5 2125.5,-501.5 2125.5,-501.5 2125.5,-568 2125.5,-568 2125.5,-574 2119.5,-580 2113.5,-580\"/>\n<text text-anchor=\"start\" x=\"2023.75\" y=\"-562.7\" font-family=\"Helvetica,sans-Serif\" font-size=\"14.00\">Quantity ≤ 2.5</text>\n<text text-anchor=\"start\" x=\"2017\" y=\"-546.2\" font-family=\"Helvetica,sans-Serif\" font-size=\"14.00\">entropy = 0.994</text>\n<text text-anchor=\"start\" x=\"2023.75\" y=\"-529.7\" font-family=\"Helvetica,sans-Serif\" font-size=\"14.00\">samples = 68</text>\n<text text-anchor=\"start\" x=\"2018.5\" y=\"-513.2\" font-family=\"Helvetica,sans-Serif\" font-size=\"14.00\">value = [37, 31]</text>\n<text text-anchor=\"start\" x=\"2016.25\" y=\"-496.7\" font-family=\"Helvetica,sans-Serif\" font-size=\"14.00\">class = Member</text>\n</g>\n<!-- 46&#45;&gt;47 -->\n<g id=\"edge47\" class=\"edge\">\n<title>46&#45;&gt;47</title>\n<path fill=\"none\" stroke=\"black\" d=\"M2271.87,-622.55C2267.85,-620.26 2263.83,-618.05 2259.88,-616 2219.99,-595.29 2173.52,-575.83 2136.17,-561.27\"/>\n<polygon fill=\"black\" stroke=\"black\" points=\"2137.9,-558.18 2127.31,-557.84 2135.37,-564.71 2137.9,-558.18\"/>\n</g>\n<!-- 58 -->\n<g id=\"node59\" class=\"node\">\n<title>58</title>\n<path fill=\"#9ccef2\" stroke=\"black\" d=\"M2375.75,-580C2375.75,-580 2284,-580 2284,-580 2278,-580 2272,-574 2272,-568 2272,-568 2272,-501.5 2272,-501.5 2272,-495.5 2278,-489.5 2284,-489.5 2284,-489.5 2375.75,-489.5 2375.75,-489.5 2381.75,-489.5 2387.75,-495.5 2387.75,-501.5 2387.75,-501.5 2387.75,-568 2387.75,-568 2387.75,-574 2381.75,-580 2375.75,-580\"/>\n<text text-anchor=\"start\" x=\"2286.75\" y=\"-562.7\" font-family=\"Helvetica,sans-Serif\" font-size=\"14.00\">Quantity ≤ 5.5</text>\n<text text-anchor=\"start\" x=\"2280\" y=\"-546.2\" font-family=\"Helvetica,sans-Serif\" font-size=\"14.00\">entropy = 0.918</text>\n<text text-anchor=\"start\" x=\"2286.75\" y=\"-529.7\" font-family=\"Helvetica,sans-Serif\" font-size=\"14.00\">samples = 51</text>\n<text text-anchor=\"start\" x=\"2281.5\" y=\"-513.2\" font-family=\"Helvetica,sans-Serif\" font-size=\"14.00\">value = [17, 34]</text>\n<text text-anchor=\"start\" x=\"2283\" y=\"-496.7\" font-family=\"Helvetica,sans-Serif\" font-size=\"14.00\">class = Normal</text>\n</g>\n<!-- 46&#45;&gt;58 -->\n<g id=\"edge58\" class=\"edge\">\n<title>46&#45;&gt;58</title>\n<path fill=\"none\" stroke=\"black\" d=\"M2329.88,-615.65C2329.88,-607.97 2329.88,-599.89 2329.88,-591.94\"/>\n<polygon fill=\"black\" stroke=\"black\" points=\"2333.38,-591.97 2329.88,-581.97 2326.38,-591.97 2333.38,-591.97\"/>\n</g>\n<!-- 48 -->\n<g id=\"node49\" class=\"node\">\n<title>48</title>\n<path fill=\"#d7ebfa\" stroke=\"black\" d=\"M1771.75,-453.5C1771.75,-453.5 1680,-453.5 1680,-453.5 1674,-453.5 1668,-447.5 1668,-441.5 1668,-441.5 1668,-375 1668,-375 1668,-369 1674,-363 1680,-363 1680,-363 1771.75,-363 1771.75,-363 1777.75,-363 1783.75,-369 1783.75,-375 1783.75,-375 1783.75,-441.5 1783.75,-441.5 1783.75,-447.5 1777.75,-453.5 1771.75,-453.5\"/>\n<text text-anchor=\"start\" x=\"1691.75\" y=\"-436.2\" font-family=\"Helvetica,sans-Serif\" font-size=\"14.00\">Cash ≤ 0.5</text>\n<text text-anchor=\"start\" x=\"1676\" y=\"-419.7\" font-family=\"Helvetica,sans-Serif\" font-size=\"14.00\">entropy = 0.991</text>\n<text text-anchor=\"start\" x=\"1682.75\" y=\"-403.2\" font-family=\"Helvetica,sans-Serif\" font-size=\"14.00\">samples = 18</text>\n<text text-anchor=\"start\" x=\"1681.62\" y=\"-386.7\" font-family=\"Helvetica,sans-Serif\" font-size=\"14.00\">value = [8, 10]</text>\n<text text-anchor=\"start\" x=\"1679\" y=\"-370.2\" font-family=\"Helvetica,sans-Serif\" font-size=\"14.00\">class = Normal</text>\n</g>\n<!-- 47&#45;&gt;48 -->\n<g id=\"edge48\" class=\"edge\">\n<title>47&#45;&gt;48</title>\n<path fill=\"none\" stroke=\"black\" d=\"M2007.87,-493.46C2005.2,-492.06 2002.53,-490.73 1999.88,-489.5 1933.16,-458.56 1851.75,-436.53 1795.08,-423.47\"/>\n<polygon fill=\"black\" stroke=\"black\" points=\"1796.09,-420.11 1785.57,-421.31 1794.54,-426.94 1796.09,-420.11\"/>\n</g>\n<!-- 51 -->\n<g id=\"node52\" class=\"node\">\n<title>51</title>\n<path fill=\"#f8dcc8\" stroke=\"black\" d=\"M2052.25,-453.5C2052.25,-453.5 1939.5,-453.5 1939.5,-453.5 1933.5,-453.5 1927.5,-447.5 1927.5,-441.5 1927.5,-441.5 1927.5,-375 1927.5,-375 1927.5,-369 1933.5,-363 1939.5,-363 1939.5,-363 2052.25,-363 2052.25,-363 2058.25,-363 2064.25,-369 2064.25,-375 2064.25,-375 2064.25,-441.5 2064.25,-441.5 2064.25,-447.5 2058.25,-453.5 2052.25,-453.5\"/>\n<text text-anchor=\"start\" x=\"1952.75\" y=\"-436.2\" font-family=\"Helvetica,sans-Serif\" font-size=\"14.00\">Quantity ≤ 3.5</text>\n<text text-anchor=\"start\" x=\"1946\" y=\"-419.7\" font-family=\"Helvetica,sans-Serif\" font-size=\"14.00\">entropy = 0.981</text>\n<text text-anchor=\"start\" x=\"1952.75\" y=\"-403.2\" font-family=\"Helvetica,sans-Serif\" font-size=\"14.00\">samples = 50</text>\n<text text-anchor=\"start\" x=\"1935.5\" y=\"-386.7\" font-family=\"Helvetica,sans-Serif\" font-size=\"14.00\">value = [29.0, 21.0]</text>\n<text text-anchor=\"start\" x=\"1945.25\" y=\"-370.2\" font-family=\"Helvetica,sans-Serif\" font-size=\"14.00\">class = Member</text>\n</g>\n<!-- 47&#45;&gt;51 -->\n<g id=\"edge51\" class=\"edge\">\n<title>47&#45;&gt;51</title>\n<path fill=\"none\" stroke=\"black\" d=\"M2041.44,-489.15C2036.75,-480.93 2031.81,-472.26 2026.97,-463.78\"/>\n<polygon fill=\"black\" stroke=\"black\" points=\"2030.11,-462.22 2022.12,-455.27 2024.03,-465.69 2030.11,-462.22\"/>\n</g>\n<!-- 49 -->\n<g id=\"node50\" class=\"node\">\n<title>49</title>\n<path fill=\"#ffffff\" stroke=\"black\" d=\"M1637.5,-318.75C1637.5,-318.75 1544.25,-318.75 1544.25,-318.75 1538.25,-318.75 1532.25,-312.75 1532.25,-306.75 1532.25,-306.75 1532.25,-256.75 1532.25,-256.75 1532.25,-250.75 1538.25,-244.75 1544.25,-244.75 1544.25,-244.75 1637.5,-244.75 1637.5,-244.75 1643.5,-244.75 1649.5,-250.75 1649.5,-256.75 1649.5,-256.75 1649.5,-306.75 1649.5,-306.75 1649.5,-312.75 1643.5,-318.75 1637.5,-318.75\"/>\n<text text-anchor=\"start\" x=\"1549.25\" y=\"-301.45\" font-family=\"Helvetica,sans-Serif\" font-size=\"14.00\">entropy = 1.0</text>\n<text text-anchor=\"start\" x=\"1547.75\" y=\"-284.95\" font-family=\"Helvetica,sans-Serif\" font-size=\"14.00\">samples = 10</text>\n<text text-anchor=\"start\" x=\"1550.75\" y=\"-268.45\" font-family=\"Helvetica,sans-Serif\" font-size=\"14.00\">value = [5, 5]</text>\n<text text-anchor=\"start\" x=\"1540.25\" y=\"-251.95\" font-family=\"Helvetica,sans-Serif\" font-size=\"14.00\">class = Member</text>\n</g>\n<!-- 48&#45;&gt;49 -->\n<g id=\"edge49\" class=\"edge\">\n<title>48&#45;&gt;49</title>\n<path fill=\"none\" stroke=\"black\" d=\"M1677.52,-362.65C1664.73,-350.86 1650.95,-338.15 1638.22,-326.41\"/>\n<polygon fill=\"black\" stroke=\"black\" points=\"1640.86,-324.09 1631.14,-319.88 1636.12,-329.23 1640.86,-324.09\"/>\n</g>\n<!-- 50 -->\n<g id=\"node51\" class=\"node\">\n<title>50</title>\n<path fill=\"#b0d8f5\" stroke=\"black\" d=\"M1771.75,-318.75C1771.75,-318.75 1680,-318.75 1680,-318.75 1674,-318.75 1668,-312.75 1668,-306.75 1668,-306.75 1668,-256.75 1668,-256.75 1668,-250.75 1674,-244.75 1680,-244.75 1680,-244.75 1771.75,-244.75 1771.75,-244.75 1777.75,-244.75 1783.75,-250.75 1783.75,-256.75 1783.75,-256.75 1783.75,-306.75 1783.75,-306.75 1783.75,-312.75 1777.75,-318.75 1771.75,-318.75\"/>\n<text text-anchor=\"start\" x=\"1676\" y=\"-301.45\" font-family=\"Helvetica,sans-Serif\" font-size=\"14.00\">entropy = 0.954</text>\n<text text-anchor=\"start\" x=\"1686.88\" y=\"-284.95\" font-family=\"Helvetica,sans-Serif\" font-size=\"14.00\">samples = 8</text>\n<text text-anchor=\"start\" x=\"1685.75\" y=\"-268.45\" font-family=\"Helvetica,sans-Serif\" font-size=\"14.00\">value = [3, 5]</text>\n<text text-anchor=\"start\" x=\"1679\" y=\"-251.95\" font-family=\"Helvetica,sans-Serif\" font-size=\"14.00\">class = Normal</text>\n</g>\n<!-- 48&#45;&gt;50 -->\n<g id=\"edge50\" class=\"edge\">\n<title>48&#45;&gt;50</title>\n<path fill=\"none\" stroke=\"black\" d=\"M1725.88,-362.65C1725.88,-352.1 1725.88,-340.81 1725.88,-330.13\"/>\n<polygon fill=\"black\" stroke=\"black\" points=\"1729.38,-330.37 1725.88,-320.37 1722.38,-330.37 1729.38,-330.37\"/>\n</g>\n<!-- 52 -->\n<g id=\"node53\" class=\"node\">\n<title>52</title>\n<path fill=\"#f3c4a3\" stroke=\"black\" d=\"M1907.5,-327C1907.5,-327 1814.25,-327 1814.25,-327 1808.25,-327 1802.25,-321 1802.25,-315 1802.25,-315 1802.25,-248.5 1802.25,-248.5 1802.25,-242.5 1808.25,-236.5 1814.25,-236.5 1814.25,-236.5 1907.5,-236.5 1907.5,-236.5 1913.5,-236.5 1919.5,-242.5 1919.5,-248.5 1919.5,-248.5 1919.5,-315 1919.5,-315 1919.5,-321 1913.5,-327 1907.5,-327\"/>\n<text text-anchor=\"start\" x=\"1826.75\" y=\"-309.7\" font-family=\"Helvetica,sans-Serif\" font-size=\"14.00\">Cash ≤ 0.5</text>\n<text text-anchor=\"start\" x=\"1811\" y=\"-293.2\" font-family=\"Helvetica,sans-Serif\" font-size=\"14.00\">entropy = 0.932</text>\n<text text-anchor=\"start\" x=\"1817.75\" y=\"-276.7\" font-family=\"Helvetica,sans-Serif\" font-size=\"14.00\">samples = 23</text>\n<text text-anchor=\"start\" x=\"1816.62\" y=\"-260.2\" font-family=\"Helvetica,sans-Serif\" font-size=\"14.00\">value = [15, 8]</text>\n<text text-anchor=\"start\" x=\"1810.25\" y=\"-243.7\" font-family=\"Helvetica,sans-Serif\" font-size=\"14.00\">class = Member</text>\n</g>\n<!-- 51&#45;&gt;52 -->\n<g id=\"edge52\" class=\"edge\">\n<title>51&#45;&gt;52</title>\n<path fill=\"none\" stroke=\"black\" d=\"M1947.52,-362.65C1937.82,-353.71 1927.56,-344.25 1917.61,-335.07\"/>\n<polygon fill=\"black\" stroke=\"black\" points=\"1920.18,-332.69 1910.46,-328.48 1915.44,-337.83 1920.18,-332.69\"/>\n</g>\n<!-- 55 -->\n<g id=\"node56\" class=\"node\">\n<title>55</title>\n<path fill=\"#fdf6f1\" stroke=\"black\" d=\"M2042.5,-327C2042.5,-327 1949.25,-327 1949.25,-327 1943.25,-327 1937.25,-321 1937.25,-315 1937.25,-315 1937.25,-248.5 1937.25,-248.5 1937.25,-242.5 1943.25,-236.5 1949.25,-236.5 1949.25,-236.5 2042.5,-236.5 2042.5,-236.5 2048.5,-236.5 2054.5,-242.5 2054.5,-248.5 2054.5,-248.5 2054.5,-315 2054.5,-315 2054.5,-321 2048.5,-327 2042.5,-327\"/>\n<text text-anchor=\"start\" x=\"1961.75\" y=\"-309.7\" font-family=\"Helvetica,sans-Serif\" font-size=\"14.00\">Cash ≤ 0.5</text>\n<text text-anchor=\"start\" x=\"1946\" y=\"-293.2\" font-family=\"Helvetica,sans-Serif\" font-size=\"14.00\">entropy = 0.999</text>\n<text text-anchor=\"start\" x=\"1952.75\" y=\"-276.7\" font-family=\"Helvetica,sans-Serif\" font-size=\"14.00\">samples = 27</text>\n<text text-anchor=\"start\" x=\"1947.5\" y=\"-260.2\" font-family=\"Helvetica,sans-Serif\" font-size=\"14.00\">value = [14, 13]</text>\n<text text-anchor=\"start\" x=\"1945.25\" y=\"-243.7\" font-family=\"Helvetica,sans-Serif\" font-size=\"14.00\">class = Member</text>\n</g>\n<!-- 51&#45;&gt;55 -->\n<g id=\"edge55\" class=\"edge\">\n<title>51&#45;&gt;55</title>\n<path fill=\"none\" stroke=\"black\" d=\"M1995.88,-362.65C1995.88,-354.97 1995.88,-346.89 1995.88,-338.94\"/>\n<polygon fill=\"black\" stroke=\"black\" points=\"1999.38,-338.97 1995.88,-328.97 1992.38,-338.97 1999.38,-338.97\"/>\n</g>\n<!-- 53 -->\n<g id=\"node54\" class=\"node\">\n<title>53</title>\n<path fill=\"#efb083\" stroke=\"black\" d=\"M1772.5,-192.25C1772.5,-192.25 1679.25,-192.25 1679.25,-192.25 1673.25,-192.25 1667.25,-186.25 1667.25,-180.25 1667.25,-180.25 1667.25,-130.25 1667.25,-130.25 1667.25,-124.25 1673.25,-118.25 1679.25,-118.25 1679.25,-118.25 1772.5,-118.25 1772.5,-118.25 1778.5,-118.25 1784.5,-124.25 1784.5,-130.25 1784.5,-130.25 1784.5,-180.25 1784.5,-180.25 1784.5,-186.25 1778.5,-192.25 1772.5,-192.25\"/>\n<text text-anchor=\"start\" x=\"1676\" y=\"-174.95\" font-family=\"Helvetica,sans-Serif\" font-size=\"14.00\">entropy = 0.845</text>\n<text text-anchor=\"start\" x=\"1682.75\" y=\"-158.45\" font-family=\"Helvetica,sans-Serif\" font-size=\"14.00\">samples = 11</text>\n<text text-anchor=\"start\" x=\"1685.75\" y=\"-141.95\" font-family=\"Helvetica,sans-Serif\" font-size=\"14.00\">value = [8, 3]</text>\n<text text-anchor=\"start\" x=\"1675.25\" y=\"-125.45\" font-family=\"Helvetica,sans-Serif\" font-size=\"14.00\">class = Member</text>\n</g>\n<!-- 52&#45;&gt;53 -->\n<g id=\"edge53\" class=\"edge\">\n<title>52&#45;&gt;53</title>\n<path fill=\"none\" stroke=\"black\" d=\"M1812.52,-236.15C1799.73,-224.36 1785.95,-211.65 1773.22,-199.91\"/>\n<polygon fill=\"black\" stroke=\"black\" points=\"1775.86,-197.59 1766.14,-193.38 1771.12,-202.73 1775.86,-197.59\"/>\n</g>\n<!-- 54 -->\n<g id=\"node55\" class=\"node\">\n<title>54</title>\n<path fill=\"#f8dbc6\" stroke=\"black\" d=\"M1907.5,-192.25C1907.5,-192.25 1814.25,-192.25 1814.25,-192.25 1808.25,-192.25 1802.25,-186.25 1802.25,-180.25 1802.25,-180.25 1802.25,-130.25 1802.25,-130.25 1802.25,-124.25 1808.25,-118.25 1814.25,-118.25 1814.25,-118.25 1907.5,-118.25 1907.5,-118.25 1913.5,-118.25 1919.5,-124.25 1919.5,-130.25 1919.5,-130.25 1919.5,-180.25 1919.5,-180.25 1919.5,-186.25 1913.5,-192.25 1907.5,-192.25\"/>\n<text text-anchor=\"start\" x=\"1815.12\" y=\"-174.95\" font-family=\"Helvetica,sans-Serif\" font-size=\"14.00\">entropy = 0.98</text>\n<text text-anchor=\"start\" x=\"1817.75\" y=\"-158.45\" font-family=\"Helvetica,sans-Serif\" font-size=\"14.00\">samples = 12</text>\n<text text-anchor=\"start\" x=\"1820.75\" y=\"-141.95\" font-family=\"Helvetica,sans-Serif\" font-size=\"14.00\">value = [7, 5]</text>\n<text text-anchor=\"start\" x=\"1810.25\" y=\"-125.45\" font-family=\"Helvetica,sans-Serif\" font-size=\"14.00\">class = Member</text>\n</g>\n<!-- 52&#45;&gt;54 -->\n<g id=\"edge54\" class=\"edge\">\n<title>52&#45;&gt;54</title>\n<path fill=\"none\" stroke=\"black\" d=\"M1860.88,-236.15C1860.88,-225.6 1860.88,-214.31 1860.88,-203.63\"/>\n<polygon fill=\"black\" stroke=\"black\" points=\"1864.38,-203.87 1860.88,-193.87 1857.38,-203.87 1864.38,-203.87\"/>\n</g>\n<!-- 56 -->\n<g id=\"node57\" class=\"node\">\n<title>56</title>\n<path fill=\"#fbeade\" stroke=\"black\" d=\"M2042.5,-192.25C2042.5,-192.25 1949.25,-192.25 1949.25,-192.25 1943.25,-192.25 1937.25,-186.25 1937.25,-180.25 1937.25,-180.25 1937.25,-130.25 1937.25,-130.25 1937.25,-124.25 1943.25,-118.25 1949.25,-118.25 1949.25,-118.25 2042.5,-118.25 2042.5,-118.25 2048.5,-118.25 2054.5,-124.25 2054.5,-130.25 2054.5,-130.25 2054.5,-180.25 2054.5,-180.25 2054.5,-186.25 2048.5,-192.25 2042.5,-192.25\"/>\n<text text-anchor=\"start\" x=\"1946\" y=\"-174.95\" font-family=\"Helvetica,sans-Serif\" font-size=\"14.00\">entropy = 0.994</text>\n<text text-anchor=\"start\" x=\"1952.75\" y=\"-158.45\" font-family=\"Helvetica,sans-Serif\" font-size=\"14.00\">samples = 11</text>\n<text text-anchor=\"start\" x=\"1955.75\" y=\"-141.95\" font-family=\"Helvetica,sans-Serif\" font-size=\"14.00\">value = [6, 5]</text>\n<text text-anchor=\"start\" x=\"1945.25\" y=\"-125.45\" font-family=\"Helvetica,sans-Serif\" font-size=\"14.00\">class = Member</text>\n</g>\n<!-- 55&#45;&gt;56 -->\n<g id=\"edge56\" class=\"edge\">\n<title>55&#45;&gt;56</title>\n<path fill=\"none\" stroke=\"black\" d=\"M1995.88,-236.15C1995.88,-225.6 1995.88,-214.31 1995.88,-203.63\"/>\n<polygon fill=\"black\" stroke=\"black\" points=\"1999.38,-203.87 1995.88,-193.87 1992.38,-203.87 1999.38,-203.87\"/>\n</g>\n<!-- 57 -->\n<g id=\"node58\" class=\"node\">\n<title>57</title>\n<path fill=\"#ffffff\" stroke=\"black\" d=\"M2177.5,-192.25C2177.5,-192.25 2084.25,-192.25 2084.25,-192.25 2078.25,-192.25 2072.25,-186.25 2072.25,-180.25 2072.25,-180.25 2072.25,-130.25 2072.25,-130.25 2072.25,-124.25 2078.25,-118.25 2084.25,-118.25 2084.25,-118.25 2177.5,-118.25 2177.5,-118.25 2183.5,-118.25 2189.5,-124.25 2189.5,-130.25 2189.5,-130.25 2189.5,-180.25 2189.5,-180.25 2189.5,-186.25 2183.5,-192.25 2177.5,-192.25\"/>\n<text text-anchor=\"start\" x=\"2089.25\" y=\"-174.95\" font-family=\"Helvetica,sans-Serif\" font-size=\"14.00\">entropy = 1.0</text>\n<text text-anchor=\"start\" x=\"2087.75\" y=\"-158.45\" font-family=\"Helvetica,sans-Serif\" font-size=\"14.00\">samples = 16</text>\n<text text-anchor=\"start\" x=\"2090.75\" y=\"-141.95\" font-family=\"Helvetica,sans-Serif\" font-size=\"14.00\">value = [8, 8]</text>\n<text text-anchor=\"start\" x=\"2080.25\" y=\"-125.45\" font-family=\"Helvetica,sans-Serif\" font-size=\"14.00\">class = Member</text>\n</g>\n<!-- 55&#45;&gt;57 -->\n<g id=\"edge57\" class=\"edge\">\n<title>55&#45;&gt;57</title>\n<path fill=\"none\" stroke=\"black\" d=\"M2044.23,-236.15C2057.02,-224.36 2070.8,-211.65 2083.53,-199.91\"/>\n<polygon fill=\"black\" stroke=\"black\" points=\"2085.63,-202.73 2090.61,-193.38 2080.89,-197.59 2085.63,-202.73\"/>\n</g>\n<!-- 59 -->\n<g id=\"node60\" class=\"node\">\n<title>59</title>\n<path fill=\"#86c3ef\" stroke=\"black\" d=\"M2312.12,-453.5C2312.12,-453.5 2207.62,-453.5 2207.62,-453.5 2201.62,-453.5 2195.62,-447.5 2195.62,-441.5 2195.62,-441.5 2195.62,-375 2195.62,-375 2195.62,-369 2201.62,-363 2207.62,-363 2207.62,-363 2312.12,-363 2312.12,-363 2318.12,-363 2324.12,-369 2324.12,-375 2324.12,-375 2324.12,-441.5 2324.12,-441.5 2324.12,-447.5 2318.12,-453.5 2312.12,-453.5\"/>\n<text text-anchor=\"start\" x=\"2225.75\" y=\"-436.2\" font-family=\"Helvetica,sans-Serif\" font-size=\"14.00\">Cash ≤ 0.5</text>\n<text text-anchor=\"start\" x=\"2210\" y=\"-419.7\" font-family=\"Helvetica,sans-Serif\" font-size=\"14.00\">entropy = 0.855</text>\n<text text-anchor=\"start\" x=\"2216.75\" y=\"-403.2\" font-family=\"Helvetica,sans-Serif\" font-size=\"14.00\">samples = 25</text>\n<text text-anchor=\"start\" x=\"2203.62\" y=\"-386.7\" font-family=\"Helvetica,sans-Serif\" font-size=\"14.00\">value = [7.0, 18.0]</text>\n<text text-anchor=\"start\" x=\"2213\" y=\"-370.2\" font-family=\"Helvetica,sans-Serif\" font-size=\"14.00\">class = Normal</text>\n</g>\n<!-- 58&#45;&gt;59 -->\n<g id=\"edge59\" class=\"edge\">\n<title>58&#45;&gt;59</title>\n<path fill=\"none\" stroke=\"black\" d=\"M2304.8,-489.15C2300.18,-480.93 2295.3,-472.26 2290.53,-463.78\"/>\n<polygon fill=\"black\" stroke=\"black\" points=\"2293.7,-462.27 2285.75,-455.27 2287.6,-465.7 2293.7,-462.27\"/>\n</g>\n<!-- 62 -->\n<g id=\"node63\" class=\"node\">\n<title>62</title>\n<path fill=\"#b5daf5\" stroke=\"black\" d=\"M2445.75,-453.5C2445.75,-453.5 2354,-453.5 2354,-453.5 2348,-453.5 2342,-447.5 2342,-441.5 2342,-441.5 2342,-375 2342,-375 2342,-369 2348,-363 2354,-363 2354,-363 2445.75,-363 2445.75,-363 2451.75,-363 2457.75,-369 2457.75,-375 2457.75,-375 2457.75,-441.5 2457.75,-441.5 2457.75,-447.5 2451.75,-453.5 2445.75,-453.5\"/>\n<text text-anchor=\"start\" x=\"2365.75\" y=\"-436.2\" font-family=\"Helvetica,sans-Serif\" font-size=\"14.00\">Cash ≤ 0.5</text>\n<text text-anchor=\"start\" x=\"2350\" y=\"-419.7\" font-family=\"Helvetica,sans-Serif\" font-size=\"14.00\">entropy = 0.961</text>\n<text text-anchor=\"start\" x=\"2356.75\" y=\"-403.2\" font-family=\"Helvetica,sans-Serif\" font-size=\"14.00\">samples = 26</text>\n<text text-anchor=\"start\" x=\"2351.5\" y=\"-386.7\" font-family=\"Helvetica,sans-Serif\" font-size=\"14.00\">value = [10, 16]</text>\n<text text-anchor=\"start\" x=\"2353\" y=\"-370.2\" font-family=\"Helvetica,sans-Serif\" font-size=\"14.00\">class = Normal</text>\n</g>\n<!-- 58&#45;&gt;62 -->\n<g id=\"edge62\" class=\"edge\">\n<title>58&#45;&gt;62</title>\n<path fill=\"none\" stroke=\"black\" d=\"M2354.95,-489.15C2359.57,-480.93 2364.45,-472.26 2369.22,-463.78\"/>\n<polygon fill=\"black\" stroke=\"black\" points=\"2372.15,-465.7 2374,-455.27 2366.05,-462.27 2372.15,-465.7\"/>\n</g>\n<!-- 60 -->\n<g id=\"node61\" class=\"node\">\n<title>60</title>\n<path fill=\"#4da7e8\" stroke=\"black\" d=\"M2176.75,-318.75C2176.75,-318.75 2085,-318.75 2085,-318.75 2079,-318.75 2073,-312.75 2073,-306.75 2073,-306.75 2073,-256.75 2073,-256.75 2073,-250.75 2079,-244.75 2085,-244.75 2085,-244.75 2176.75,-244.75 2176.75,-244.75 2182.75,-244.75 2188.75,-250.75 2188.75,-256.75 2188.75,-256.75 2188.75,-306.75 2188.75,-306.75 2188.75,-312.75 2182.75,-318.75 2176.75,-318.75\"/>\n<text text-anchor=\"start\" x=\"2081\" y=\"-301.45\" font-family=\"Helvetica,sans-Serif\" font-size=\"14.00\">entropy = 0.439</text>\n<text text-anchor=\"start\" x=\"2087.75\" y=\"-284.95\" font-family=\"Helvetica,sans-Serif\" font-size=\"14.00\">samples = 11</text>\n<text text-anchor=\"start\" x=\"2086.62\" y=\"-268.45\" font-family=\"Helvetica,sans-Serif\" font-size=\"14.00\">value = [1, 10]</text>\n<text text-anchor=\"start\" x=\"2084\" y=\"-251.95\" font-family=\"Helvetica,sans-Serif\" font-size=\"14.00\">class = Normal</text>\n</g>\n<!-- 59&#45;&gt;60 -->\n<g id=\"edge60\" class=\"edge\">\n<title>59&#45;&gt;60</title>\n<path fill=\"none\" stroke=\"black\" d=\"M2213.67,-362.65C2201.57,-350.98 2188.53,-338.39 2176.46,-326.75\"/>\n<polygon fill=\"black\" stroke=\"black\" points=\"2179,-324.33 2169.38,-319.91 2174.14,-329.37 2179,-324.33\"/>\n</g>\n<!-- 61 -->\n<g id=\"node62\" class=\"node\">\n<title>61</title>\n<path fill=\"#cee6f8\" stroke=\"black\" d=\"M2310.75,-318.75C2310.75,-318.75 2219,-318.75 2219,-318.75 2213,-318.75 2207,-312.75 2207,-306.75 2207,-306.75 2207,-256.75 2207,-256.75 2207,-250.75 2213,-244.75 2219,-244.75 2219,-244.75 2310.75,-244.75 2310.75,-244.75 2316.75,-244.75 2322.75,-250.75 2322.75,-256.75 2322.75,-256.75 2322.75,-306.75 2322.75,-306.75 2322.75,-312.75 2316.75,-318.75 2310.75,-318.75\"/>\n<text text-anchor=\"start\" x=\"2215\" y=\"-301.45\" font-family=\"Helvetica,sans-Serif\" font-size=\"14.00\">entropy = 0.985</text>\n<text text-anchor=\"start\" x=\"2221.75\" y=\"-284.95\" font-family=\"Helvetica,sans-Serif\" font-size=\"14.00\">samples = 14</text>\n<text text-anchor=\"start\" x=\"2224.75\" y=\"-268.45\" font-family=\"Helvetica,sans-Serif\" font-size=\"14.00\">value = [6, 8]</text>\n<text text-anchor=\"start\" x=\"2218\" y=\"-251.95\" font-family=\"Helvetica,sans-Serif\" font-size=\"14.00\">class = Normal</text>\n</g>\n<!-- 59&#45;&gt;61 -->\n<g id=\"edge61\" class=\"edge\">\n<title>59&#45;&gt;61</title>\n<path fill=\"none\" stroke=\"black\" d=\"M2261.67,-362.65C2262.09,-352.1 2262.54,-340.81 2262.97,-330.13\"/>\n<polygon fill=\"black\" stroke=\"black\" points=\"2266.46,-330.5 2263.36,-320.37 2259.47,-330.22 2266.46,-330.5\"/>\n</g>\n<!-- 63 -->\n<g id=\"node64\" class=\"node\">\n<title>63</title>\n<path fill=\"#fae6d7\" stroke=\"black\" d=\"M2446.5,-318.75C2446.5,-318.75 2353.25,-318.75 2353.25,-318.75 2347.25,-318.75 2341.25,-312.75 2341.25,-306.75 2341.25,-306.75 2341.25,-256.75 2341.25,-256.75 2341.25,-250.75 2347.25,-244.75 2353.25,-244.75 2353.25,-244.75 2446.5,-244.75 2446.5,-244.75 2452.5,-244.75 2458.5,-250.75 2458.5,-256.75 2458.5,-256.75 2458.5,-306.75 2458.5,-306.75 2458.5,-312.75 2452.5,-318.75 2446.5,-318.75\"/>\n<text text-anchor=\"start\" x=\"2350\" y=\"-301.45\" font-family=\"Helvetica,sans-Serif\" font-size=\"14.00\">entropy = 0.991</text>\n<text text-anchor=\"start\" x=\"2360.88\" y=\"-284.95\" font-family=\"Helvetica,sans-Serif\" font-size=\"14.00\">samples = 9</text>\n<text text-anchor=\"start\" x=\"2359.75\" y=\"-268.45\" font-family=\"Helvetica,sans-Serif\" font-size=\"14.00\">value = [5, 4]</text>\n<text text-anchor=\"start\" x=\"2349.25\" y=\"-251.95\" font-family=\"Helvetica,sans-Serif\" font-size=\"14.00\">class = Member</text>\n</g>\n<!-- 62&#45;&gt;63 -->\n<g id=\"edge63\" class=\"edge\">\n<title>62&#45;&gt;63</title>\n<path fill=\"none\" stroke=\"black\" d=\"M2399.88,-362.65C2399.88,-352.1 2399.88,-340.81 2399.88,-330.13\"/>\n<polygon fill=\"black\" stroke=\"black\" points=\"2403.38,-330.37 2399.88,-320.37 2396.38,-330.37 2403.38,-330.37\"/>\n</g>\n<!-- 64 -->\n<g id=\"node65\" class=\"node\">\n<title>64</title>\n<path fill=\"#8bc6f0\" stroke=\"black\" d=\"M2580.75,-318.75C2580.75,-318.75 2489,-318.75 2489,-318.75 2483,-318.75 2477,-312.75 2477,-306.75 2477,-306.75 2477,-256.75 2477,-256.75 2477,-250.75 2483,-244.75 2489,-244.75 2489,-244.75 2580.75,-244.75 2580.75,-244.75 2586.75,-244.75 2592.75,-250.75 2592.75,-256.75 2592.75,-256.75 2592.75,-306.75 2592.75,-306.75 2592.75,-312.75 2586.75,-318.75 2580.75,-318.75\"/>\n<text text-anchor=\"start\" x=\"2485\" y=\"-301.45\" font-family=\"Helvetica,sans-Serif\" font-size=\"14.00\">entropy = 0.874</text>\n<text text-anchor=\"start\" x=\"2491.75\" y=\"-284.95\" font-family=\"Helvetica,sans-Serif\" font-size=\"14.00\">samples = 17</text>\n<text text-anchor=\"start\" x=\"2490.62\" y=\"-268.45\" font-family=\"Helvetica,sans-Serif\" font-size=\"14.00\">value = [5, 12]</text>\n<text text-anchor=\"start\" x=\"2488\" y=\"-251.95\" font-family=\"Helvetica,sans-Serif\" font-size=\"14.00\">class = Normal</text>\n</g>\n<!-- 62&#45;&gt;64 -->\n<g id=\"edge64\" class=\"edge\">\n<title>62&#45;&gt;64</title>\n<path fill=\"none\" stroke=\"black\" d=\"M2448.23,-362.65C2461.02,-350.86 2474.8,-338.15 2487.53,-326.41\"/>\n<polygon fill=\"black\" stroke=\"black\" points=\"2489.63,-329.23 2494.61,-319.88 2484.89,-324.09 2489.63,-329.23\"/>\n</g>\n<!-- 66 -->\n<g id=\"node67\" class=\"node\">\n<title>66</title>\n<path fill=\"#f1bb94\" stroke=\"black\" d=\"M2649.5,-580C2649.5,-580 2556.25,-580 2556.25,-580 2550.25,-580 2544.25,-574 2544.25,-568 2544.25,-568 2544.25,-501.5 2544.25,-501.5 2544.25,-495.5 2550.25,-489.5 2556.25,-489.5 2556.25,-489.5 2649.5,-489.5 2649.5,-489.5 2655.5,-489.5 2661.5,-495.5 2661.5,-501.5 2661.5,-501.5 2661.5,-568 2661.5,-568 2661.5,-574 2655.5,-580 2649.5,-580\"/>\n<text text-anchor=\"start\" x=\"2568.75\" y=\"-562.7\" font-family=\"Helvetica,sans-Serif\" font-size=\"14.00\">Cash ≤ 0.5</text>\n<text text-anchor=\"start\" x=\"2561.25\" y=\"-546.2\" font-family=\"Helvetica,sans-Serif\" font-size=\"14.00\">entropy = 0.9</text>\n<text text-anchor=\"start\" x=\"2559.75\" y=\"-529.7\" font-family=\"Helvetica,sans-Serif\" font-size=\"14.00\">samples = 19</text>\n<text text-anchor=\"start\" x=\"2558.62\" y=\"-513.2\" font-family=\"Helvetica,sans-Serif\" font-size=\"14.00\">value = [13, 6]</text>\n<text text-anchor=\"start\" x=\"2552.25\" y=\"-496.7\" font-family=\"Helvetica,sans-Serif\" font-size=\"14.00\">class = Member</text>\n</g>\n<!-- 65&#45;&gt;66 -->\n<g id=\"edge66\" class=\"edge\">\n<title>65&#45;&gt;66</title>\n<path fill=\"none\" stroke=\"black\" d=\"M2602.88,-615.65C2602.88,-607.97 2602.88,-599.89 2602.88,-591.94\"/>\n<polygon fill=\"black\" stroke=\"black\" points=\"2606.38,-591.97 2602.88,-581.97 2599.38,-591.97 2606.38,-591.97\"/>\n</g>\n<!-- 69 -->\n<g id=\"node70\" class=\"node\">\n<title>69</title>\n<path fill=\"#fefcfa\" stroke=\"black\" d=\"M2851.5,-580C2851.5,-580 2758.25,-580 2758.25,-580 2752.25,-580 2746.25,-574 2746.25,-568 2746.25,-568 2746.25,-501.5 2746.25,-501.5 2746.25,-495.5 2752.25,-489.5 2758.25,-489.5 2758.25,-489.5 2851.5,-489.5 2851.5,-489.5 2857.5,-489.5 2863.5,-495.5 2863.5,-501.5 2863.5,-501.5 2863.5,-568 2863.5,-568 2863.5,-574 2857.5,-580 2851.5,-580\"/>\n<text text-anchor=\"start\" x=\"2770.75\" y=\"-562.7\" font-family=\"Helvetica,sans-Serif\" font-size=\"14.00\">Cash ≤ 0.5</text>\n<text text-anchor=\"start\" x=\"2763.25\" y=\"-546.2\" font-family=\"Helvetica,sans-Serif\" font-size=\"14.00\">entropy = 1.0</text>\n<text text-anchor=\"start\" x=\"2761.75\" y=\"-529.7\" font-family=\"Helvetica,sans-Serif\" font-size=\"14.00\">samples = 75</text>\n<text text-anchor=\"start\" x=\"2756.5\" y=\"-513.2\" font-family=\"Helvetica,sans-Serif\" font-size=\"14.00\">value = [38, 37]</text>\n<text text-anchor=\"start\" x=\"2754.25\" y=\"-496.7\" font-family=\"Helvetica,sans-Serif\" font-size=\"14.00\">class = Member</text>\n</g>\n<!-- 65&#45;&gt;69 -->\n<g id=\"edge69\" class=\"edge\">\n<title>65&#45;&gt;69</title>\n<path fill=\"none\" stroke=\"black\" d=\"M2671.54,-617.93C2692.38,-605.09 2715.26,-590.98 2736.1,-578.14\"/>\n<polygon fill=\"black\" stroke=\"black\" points=\"2737.87,-581.16 2744.55,-572.93 2734.2,-575.2 2737.87,-581.16\"/>\n</g>\n<!-- 67 -->\n<g id=\"node68\" class=\"node\">\n<title>67</title>\n<path fill=\"#e99355\" stroke=\"black\" d=\"M2581.5,-445.25C2581.5,-445.25 2488.25,-445.25 2488.25,-445.25 2482.25,-445.25 2476.25,-439.25 2476.25,-433.25 2476.25,-433.25 2476.25,-383.25 2476.25,-383.25 2476.25,-377.25 2482.25,-371.25 2488.25,-371.25 2488.25,-371.25 2581.5,-371.25 2581.5,-371.25 2587.5,-371.25 2593.5,-377.25 2593.5,-383.25 2593.5,-383.25 2593.5,-433.25 2593.5,-433.25 2593.5,-439.25 2587.5,-445.25 2581.5,-445.25\"/>\n<text text-anchor=\"start\" x=\"2485\" y=\"-427.95\" font-family=\"Helvetica,sans-Serif\" font-size=\"14.00\">entropy = 0.544</text>\n<text text-anchor=\"start\" x=\"2495.88\" y=\"-411.45\" font-family=\"Helvetica,sans-Serif\" font-size=\"14.00\">samples = 8</text>\n<text text-anchor=\"start\" x=\"2494.75\" y=\"-394.95\" font-family=\"Helvetica,sans-Serif\" font-size=\"14.00\">value = [7, 1]</text>\n<text text-anchor=\"start\" x=\"2484.25\" y=\"-378.45\" font-family=\"Helvetica,sans-Serif\" font-size=\"14.00\">class = Member</text>\n</g>\n<!-- 66&#45;&gt;67 -->\n<g id=\"edge67\" class=\"edge\">\n<title>66&#45;&gt;67</title>\n<path fill=\"none\" stroke=\"black\" d=\"M2578.52,-489.15C2572.51,-478.15 2566.06,-466.34 2560.01,-455.27\"/>\n<polygon fill=\"black\" stroke=\"black\" points=\"2563.19,-453.78 2555.32,-446.68 2557.04,-457.14 2563.19,-453.78\"/>\n</g>\n<!-- 68 -->\n<g id=\"node69\" class=\"node\">\n<title>68</title>\n<path fill=\"#fbeade\" stroke=\"black\" d=\"M2716.5,-445.25C2716.5,-445.25 2623.25,-445.25 2623.25,-445.25 2617.25,-445.25 2611.25,-439.25 2611.25,-433.25 2611.25,-433.25 2611.25,-383.25 2611.25,-383.25 2611.25,-377.25 2617.25,-371.25 2623.25,-371.25 2623.25,-371.25 2716.5,-371.25 2716.5,-371.25 2722.5,-371.25 2728.5,-377.25 2728.5,-383.25 2728.5,-383.25 2728.5,-433.25 2728.5,-433.25 2728.5,-439.25 2722.5,-445.25 2716.5,-445.25\"/>\n<text text-anchor=\"start\" x=\"2620\" y=\"-427.95\" font-family=\"Helvetica,sans-Serif\" font-size=\"14.00\">entropy = 0.994</text>\n<text text-anchor=\"start\" x=\"2626.75\" y=\"-411.45\" font-family=\"Helvetica,sans-Serif\" font-size=\"14.00\">samples = 11</text>\n<text text-anchor=\"start\" x=\"2629.75\" y=\"-394.95\" font-family=\"Helvetica,sans-Serif\" font-size=\"14.00\">value = [6, 5]</text>\n<text text-anchor=\"start\" x=\"2619.25\" y=\"-378.45\" font-family=\"Helvetica,sans-Serif\" font-size=\"14.00\">class = Member</text>\n</g>\n<!-- 66&#45;&gt;68 -->\n<g id=\"edge68\" class=\"edge\">\n<title>66&#45;&gt;68</title>\n<path fill=\"none\" stroke=\"black\" d=\"M2626.87,-489.15C2632.8,-478.15 2639.15,-466.34 2645.11,-455.27\"/>\n<polygon fill=\"black\" stroke=\"black\" points=\"2648.07,-457.15 2649.73,-446.69 2641.91,-453.84 2648.07,-457.15\"/>\n</g>\n<!-- 70 -->\n<g id=\"node71\" class=\"node\">\n<title>70</title>\n<path fill=\"#fbece1\" stroke=\"black\" d=\"M2851.5,-453.5C2851.5,-453.5 2758.25,-453.5 2758.25,-453.5 2752.25,-453.5 2746.25,-447.5 2746.25,-441.5 2746.25,-441.5 2746.25,-375 2746.25,-375 2746.25,-369 2752.25,-363 2758.25,-363 2758.25,-363 2851.5,-363 2851.5,-363 2857.5,-363 2863.5,-369 2863.5,-375 2863.5,-375 2863.5,-441.5 2863.5,-441.5 2863.5,-447.5 2857.5,-453.5 2851.5,-453.5\"/>\n<text text-anchor=\"start\" x=\"2761.75\" y=\"-436.2\" font-family=\"Helvetica,sans-Serif\" font-size=\"14.00\">Quantity ≤ 8.5</text>\n<text text-anchor=\"start\" x=\"2755\" y=\"-419.7\" font-family=\"Helvetica,sans-Serif\" font-size=\"14.00\">entropy = 0.995</text>\n<text text-anchor=\"start\" x=\"2761.75\" y=\"-403.2\" font-family=\"Helvetica,sans-Serif\" font-size=\"14.00\">samples = 37</text>\n<text text-anchor=\"start\" x=\"2756.5\" y=\"-386.7\" font-family=\"Helvetica,sans-Serif\" font-size=\"14.00\">value = [20, 17]</text>\n<text text-anchor=\"start\" x=\"2754.25\" y=\"-370.2\" font-family=\"Helvetica,sans-Serif\" font-size=\"14.00\">class = Member</text>\n</g>\n<!-- 69&#45;&gt;70 -->\n<g id=\"edge70\" class=\"edge\">\n<title>69&#45;&gt;70</title>\n<path fill=\"none\" stroke=\"black\" d=\"M2804.88,-489.15C2804.88,-481.47 2804.88,-473.39 2804.88,-465.44\"/>\n<polygon fill=\"black\" stroke=\"black\" points=\"2808.38,-465.47 2804.88,-455.47 2801.38,-465.47 2808.38,-465.47\"/>\n</g>\n<!-- 75 -->\n<g id=\"node76\" class=\"node\">\n<title>75</title>\n<path fill=\"#ebf5fc\" stroke=\"black\" d=\"M2995.75,-453.5C2995.75,-453.5 2904,-453.5 2904,-453.5 2898,-453.5 2892,-447.5 2892,-441.5 2892,-441.5 2892,-375 2892,-375 2892,-369 2898,-363 2904,-363 2904,-363 2995.75,-363 2995.75,-363 3001.75,-363 3007.75,-369 3007.75,-375 3007.75,-375 3007.75,-441.5 3007.75,-441.5 3007.75,-447.5 3001.75,-453.5 2995.75,-453.5\"/>\n<text text-anchor=\"start\" x=\"2906.75\" y=\"-436.2\" font-family=\"Helvetica,sans-Serif\" font-size=\"14.00\">Quantity ≤ 9.5</text>\n<text text-anchor=\"start\" x=\"2900\" y=\"-419.7\" font-family=\"Helvetica,sans-Serif\" font-size=\"14.00\">entropy = 0.998</text>\n<text text-anchor=\"start\" x=\"2906.75\" y=\"-403.2\" font-family=\"Helvetica,sans-Serif\" font-size=\"14.00\">samples = 38</text>\n<text text-anchor=\"start\" x=\"2901.5\" y=\"-386.7\" font-family=\"Helvetica,sans-Serif\" font-size=\"14.00\">value = [18, 20]</text>\n<text text-anchor=\"start\" x=\"2903\" y=\"-370.2\" font-family=\"Helvetica,sans-Serif\" font-size=\"14.00\">class = Normal</text>\n</g>\n<!-- 69&#45;&gt;75 -->\n<g id=\"edge75\" class=\"edge\">\n<title>69&#45;&gt;75</title>\n<path fill=\"none\" stroke=\"black\" d=\"M2856.81,-489.15C2867.33,-480.13 2878.47,-470.56 2889.26,-461.3\"/>\n<polygon fill=\"black\" stroke=\"black\" points=\"2891.36,-464.11 2896.66,-454.94 2886.8,-458.8 2891.36,-464.11\"/>\n</g>\n<!-- 71 -->\n<g id=\"node72\" class=\"node\">\n<title>71</title>\n<path fill=\"#f4c9aa\" stroke=\"black\" d=\"M2716.5,-318.75C2716.5,-318.75 2623.25,-318.75 2623.25,-318.75 2617.25,-318.75 2611.25,-312.75 2611.25,-306.75 2611.25,-306.75 2611.25,-256.75 2611.25,-256.75 2611.25,-250.75 2617.25,-244.75 2623.25,-244.75 2623.25,-244.75 2716.5,-244.75 2716.5,-244.75 2722.5,-244.75 2728.5,-250.75 2728.5,-256.75 2728.5,-256.75 2728.5,-306.75 2728.5,-306.75 2728.5,-312.75 2722.5,-318.75 2716.5,-318.75\"/>\n<text text-anchor=\"start\" x=\"2620\" y=\"-301.45\" font-family=\"Helvetica,sans-Serif\" font-size=\"14.00\">entropy = 0.946</text>\n<text text-anchor=\"start\" x=\"2626.75\" y=\"-284.95\" font-family=\"Helvetica,sans-Serif\" font-size=\"14.00\">samples = 11</text>\n<text text-anchor=\"start\" x=\"2629.75\" y=\"-268.45\" font-family=\"Helvetica,sans-Serif\" font-size=\"14.00\">value = [7, 4]</text>\n<text text-anchor=\"start\" x=\"2619.25\" y=\"-251.95\" font-family=\"Helvetica,sans-Serif\" font-size=\"14.00\">class = Member</text>\n</g>\n<!-- 70&#45;&gt;71 -->\n<g id=\"edge71\" class=\"edge\">\n<title>70&#45;&gt;71</title>\n<path fill=\"none\" stroke=\"black\" d=\"M2756.52,-362.65C2743.73,-350.86 2729.95,-338.15 2717.22,-326.41\"/>\n<polygon fill=\"black\" stroke=\"black\" points=\"2719.86,-324.09 2710.14,-319.88 2715.12,-329.23 2719.86,-324.09\"/>\n</g>\n<!-- 72 -->\n<g id=\"node73\" class=\"node\">\n<title>72</title>\n<path fill=\"#ffffff\" stroke=\"black\" d=\"M2851.5,-327C2851.5,-327 2758.25,-327 2758.25,-327 2752.25,-327 2746.25,-321 2746.25,-315 2746.25,-315 2746.25,-248.5 2746.25,-248.5 2746.25,-242.5 2752.25,-236.5 2758.25,-236.5 2758.25,-236.5 2851.5,-236.5 2851.5,-236.5 2857.5,-236.5 2863.5,-242.5 2863.5,-248.5 2863.5,-248.5 2863.5,-315 2863.5,-315 2863.5,-321 2857.5,-327 2851.5,-327\"/>\n<text text-anchor=\"start\" x=\"2761.75\" y=\"-309.7\" font-family=\"Helvetica,sans-Serif\" font-size=\"14.00\">Quantity ≤ 9.5</text>\n<text text-anchor=\"start\" x=\"2763.25\" y=\"-293.2\" font-family=\"Helvetica,sans-Serif\" font-size=\"14.00\">entropy = 1.0</text>\n<text text-anchor=\"start\" x=\"2761.75\" y=\"-276.7\" font-family=\"Helvetica,sans-Serif\" font-size=\"14.00\">samples = 26</text>\n<text text-anchor=\"start\" x=\"2756.5\" y=\"-260.2\" font-family=\"Helvetica,sans-Serif\" font-size=\"14.00\">value = [13, 13]</text>\n<text text-anchor=\"start\" x=\"2754.25\" y=\"-243.7\" font-family=\"Helvetica,sans-Serif\" font-size=\"14.00\">class = Member</text>\n</g>\n<!-- 70&#45;&gt;72 -->\n<g id=\"edge72\" class=\"edge\">\n<title>70&#45;&gt;72</title>\n<path fill=\"none\" stroke=\"black\" d=\"M2804.88,-362.65C2804.88,-354.97 2804.88,-346.89 2804.88,-338.94\"/>\n<polygon fill=\"black\" stroke=\"black\" points=\"2808.38,-338.97 2804.88,-328.97 2801.38,-338.97 2808.38,-338.97\"/>\n</g>\n<!-- 73 -->\n<g id=\"node74\" class=\"node\">\n<title>73</title>\n<path fill=\"#deeffb\" stroke=\"black\" d=\"M2720.75,-192.25C2720.75,-192.25 2629,-192.25 2629,-192.25 2623,-192.25 2617,-186.25 2617,-180.25 2617,-180.25 2617,-130.25 2617,-130.25 2617,-124.25 2623,-118.25 2629,-118.25 2629,-118.25 2720.75,-118.25 2720.75,-118.25 2726.75,-118.25 2732.75,-124.25 2732.75,-130.25 2732.75,-130.25 2732.75,-180.25 2732.75,-180.25 2732.75,-186.25 2726.75,-192.25 2720.75,-192.25\"/>\n<text text-anchor=\"start\" x=\"2625\" y=\"-174.95\" font-family=\"Helvetica,sans-Serif\" font-size=\"14.00\">entropy = 0.994</text>\n<text text-anchor=\"start\" x=\"2631.75\" y=\"-158.45\" font-family=\"Helvetica,sans-Serif\" font-size=\"14.00\">samples = 11</text>\n<text text-anchor=\"start\" x=\"2634.75\" y=\"-141.95\" font-family=\"Helvetica,sans-Serif\" font-size=\"14.00\">value = [5, 6]</text>\n<text text-anchor=\"start\" x=\"2628\" y=\"-125.45\" font-family=\"Helvetica,sans-Serif\" font-size=\"14.00\">class = Normal</text>\n</g>\n<!-- 72&#45;&gt;73 -->\n<g id=\"edge73\" class=\"edge\">\n<title>72&#45;&gt;73</title>\n<path fill=\"none\" stroke=\"black\" d=\"M2758.31,-236.15C2746.11,-224.48 2732.98,-211.89 2720.82,-200.25\"/>\n<polygon fill=\"black\" stroke=\"black\" points=\"2723.31,-197.79 2713.67,-193.4 2718.47,-202.85 2723.31,-197.79\"/>\n</g>\n<!-- 74 -->\n<g id=\"node75\" class=\"node\">\n<title>74</title>\n<path fill=\"#fcefe6\" stroke=\"black\" d=\"M2856.5,-192.25C2856.5,-192.25 2763.25,-192.25 2763.25,-192.25 2757.25,-192.25 2751.25,-186.25 2751.25,-180.25 2751.25,-180.25 2751.25,-130.25 2751.25,-130.25 2751.25,-124.25 2757.25,-118.25 2763.25,-118.25 2763.25,-118.25 2856.5,-118.25 2856.5,-118.25 2862.5,-118.25 2868.5,-124.25 2868.5,-130.25 2868.5,-130.25 2868.5,-180.25 2868.5,-180.25 2868.5,-186.25 2862.5,-192.25 2856.5,-192.25\"/>\n<text text-anchor=\"start\" x=\"2760\" y=\"-174.95\" font-family=\"Helvetica,sans-Serif\" font-size=\"14.00\">entropy = 0.997</text>\n<text text-anchor=\"start\" x=\"2766.75\" y=\"-158.45\" font-family=\"Helvetica,sans-Serif\" font-size=\"14.00\">samples = 15</text>\n<text text-anchor=\"start\" x=\"2769.75\" y=\"-141.95\" font-family=\"Helvetica,sans-Serif\" font-size=\"14.00\">value = [8, 7]</text>\n<text text-anchor=\"start\" x=\"2759.25\" y=\"-125.45\" font-family=\"Helvetica,sans-Serif\" font-size=\"14.00\">class = Member</text>\n</g>\n<!-- 72&#45;&gt;74 -->\n<g id=\"edge74\" class=\"edge\">\n<title>72&#45;&gt;74</title>\n<path fill=\"none\" stroke=\"black\" d=\"M2806.67,-236.15C2807.09,-225.6 2807.54,-214.31 2807.97,-203.63\"/>\n<polygon fill=\"black\" stroke=\"black\" points=\"2811.46,-204 2808.36,-193.87 2804.47,-203.72 2811.46,-204\"/>\n</g>\n<!-- 76 -->\n<g id=\"node77\" class=\"node\">\n<title>76</title>\n<path fill=\"#d5eaf9\" stroke=\"black\" d=\"M3006.25,-327C3006.25,-327 2893.5,-327 2893.5,-327 2887.5,-327 2881.5,-321 2881.5,-315 2881.5,-315 2881.5,-248.5 2881.5,-248.5 2881.5,-242.5 2887.5,-236.5 2893.5,-236.5 2893.5,-236.5 3006.25,-236.5 3006.25,-236.5 3012.25,-236.5 3018.25,-242.5 3018.25,-248.5 3018.25,-248.5 3018.25,-315 3018.25,-315 3018.25,-321 3012.25,-327 3006.25,-327\"/>\n<text text-anchor=\"start\" x=\"2906.75\" y=\"-309.7\" font-family=\"Helvetica,sans-Serif\" font-size=\"14.00\">Quantity ≤ 8.5</text>\n<text text-anchor=\"start\" x=\"2904.12\" y=\"-293.2\" font-family=\"Helvetica,sans-Serif\" font-size=\"14.00\">entropy = 0.99</text>\n<text text-anchor=\"start\" x=\"2906.75\" y=\"-276.7\" font-family=\"Helvetica,sans-Serif\" font-size=\"14.00\">samples = 25</text>\n<text text-anchor=\"start\" x=\"2889.5\" y=\"-260.2\" font-family=\"Helvetica,sans-Serif\" font-size=\"14.00\">value = [11.0, 14.0]</text>\n<text text-anchor=\"start\" x=\"2903\" y=\"-243.7\" font-family=\"Helvetica,sans-Serif\" font-size=\"14.00\">class = Normal</text>\n</g>\n<!-- 75&#45;&gt;76 -->\n<g id=\"edge76\" class=\"edge\">\n<title>75&#45;&gt;76</title>\n<path fill=\"none\" stroke=\"black\" d=\"M2949.88,-362.65C2949.88,-354.97 2949.88,-346.89 2949.88,-338.94\"/>\n<polygon fill=\"black\" stroke=\"black\" points=\"2953.38,-338.97 2949.88,-328.97 2946.38,-338.97 2953.38,-338.97\"/>\n</g>\n<!-- 79 -->\n<g id=\"node80\" class=\"node\">\n<title>79</title>\n<path fill=\"#fbede3\" stroke=\"black\" d=\"M3141.5,-318.75C3141.5,-318.75 3048.25,-318.75 3048.25,-318.75 3042.25,-318.75 3036.25,-312.75 3036.25,-306.75 3036.25,-306.75 3036.25,-256.75 3036.25,-256.75 3036.25,-250.75 3042.25,-244.75 3048.25,-244.75 3048.25,-244.75 3141.5,-244.75 3141.5,-244.75 3147.5,-244.75 3153.5,-250.75 3153.5,-256.75 3153.5,-256.75 3153.5,-306.75 3153.5,-306.75 3153.5,-312.75 3147.5,-318.75 3141.5,-318.75\"/>\n<text text-anchor=\"start\" x=\"3045\" y=\"-301.45\" font-family=\"Helvetica,sans-Serif\" font-size=\"14.00\">entropy = 0.996</text>\n<text text-anchor=\"start\" x=\"3051.75\" y=\"-284.95\" font-family=\"Helvetica,sans-Serif\" font-size=\"14.00\">samples = 13</text>\n<text text-anchor=\"start\" x=\"3054.75\" y=\"-268.45\" font-family=\"Helvetica,sans-Serif\" font-size=\"14.00\">value = [7, 6]</text>\n<text text-anchor=\"start\" x=\"3044.25\" y=\"-251.95\" font-family=\"Helvetica,sans-Serif\" font-size=\"14.00\">class = Member</text>\n</g>\n<!-- 75&#45;&gt;79 -->\n<g id=\"edge79\" class=\"edge\">\n<title>75&#45;&gt;79</title>\n<path fill=\"none\" stroke=\"black\" d=\"M3001.81,-362.65C3015.68,-350.75 3030.63,-337.91 3044.41,-326.08\"/>\n<polygon fill=\"black\" stroke=\"black\" points=\"3046.37,-329.01 3051.68,-319.84 3041.81,-323.7 3046.37,-329.01\"/>\n</g>\n<!-- 77 -->\n<g id=\"node78\" class=\"node\">\n<title>77</title>\n<path fill=\"#d7ebfa\" stroke=\"black\" d=\"M2992.75,-192.25C2992.75,-192.25 2901,-192.25 2901,-192.25 2895,-192.25 2889,-186.25 2889,-180.25 2889,-180.25 2889,-130.25 2889,-130.25 2889,-124.25 2895,-118.25 2901,-118.25 2901,-118.25 2992.75,-118.25 2992.75,-118.25 2998.75,-118.25 3004.75,-124.25 3004.75,-130.25 3004.75,-130.25 3004.75,-180.25 3004.75,-180.25 3004.75,-186.25 2998.75,-192.25 2992.75,-192.25\"/>\n<text text-anchor=\"start\" x=\"2897\" y=\"-174.95\" font-family=\"Helvetica,sans-Serif\" font-size=\"14.00\">entropy = 0.991</text>\n<text text-anchor=\"start\" x=\"2907.88\" y=\"-158.45\" font-family=\"Helvetica,sans-Serif\" font-size=\"14.00\">samples = 9</text>\n<text text-anchor=\"start\" x=\"2906.75\" y=\"-141.95\" font-family=\"Helvetica,sans-Serif\" font-size=\"14.00\">value = [4, 5]</text>\n<text text-anchor=\"start\" x=\"2900\" y=\"-125.45\" font-family=\"Helvetica,sans-Serif\" font-size=\"14.00\">class = Normal</text>\n</g>\n<!-- 76&#45;&gt;77 -->\n<g id=\"edge77\" class=\"edge\">\n<title>76&#45;&gt;77</title>\n<path fill=\"none\" stroke=\"black\" d=\"M2948.8,-236.15C2948.55,-225.6 2948.27,-214.31 2948.02,-203.63\"/>\n<polygon fill=\"black\" stroke=\"black\" points=\"2951.52,-203.78 2947.78,-193.87 2944.52,-203.95 2951.52,-203.78\"/>\n</g>\n<!-- 78 -->\n<g id=\"node79\" class=\"node\">\n<title>78</title>\n<path fill=\"#d3e9f9\" stroke=\"black\" d=\"M3126.75,-192.25C3126.75,-192.25 3035,-192.25 3035,-192.25 3029,-192.25 3023,-186.25 3023,-180.25 3023,-180.25 3023,-130.25 3023,-130.25 3023,-124.25 3029,-118.25 3035,-118.25 3035,-118.25 3126.75,-118.25 3126.75,-118.25 3132.75,-118.25 3138.75,-124.25 3138.75,-130.25 3138.75,-130.25 3138.75,-180.25 3138.75,-180.25 3138.75,-186.25 3132.75,-192.25 3126.75,-192.25\"/>\n<text text-anchor=\"start\" x=\"3031\" y=\"-174.95\" font-family=\"Helvetica,sans-Serif\" font-size=\"14.00\">entropy = 0.989</text>\n<text text-anchor=\"start\" x=\"3037.75\" y=\"-158.45\" font-family=\"Helvetica,sans-Serif\" font-size=\"14.00\">samples = 16</text>\n<text text-anchor=\"start\" x=\"3040.75\" y=\"-141.95\" font-family=\"Helvetica,sans-Serif\" font-size=\"14.00\">value = [7, 9]</text>\n<text text-anchor=\"start\" x=\"3034\" y=\"-125.45\" font-family=\"Helvetica,sans-Serif\" font-size=\"14.00\">class = Normal</text>\n</g>\n<!-- 76&#45;&gt;78 -->\n<g id=\"edge78\" class=\"edge\">\n<title>76&#45;&gt;78</title>\n<path fill=\"none\" stroke=\"black\" d=\"M2996.8,-236.15C3009.09,-224.48 3022.33,-211.89 3034.58,-200.25\"/>\n<polygon fill=\"black\" stroke=\"black\" points=\"3036.95,-202.82 3041.79,-193.4 3032.13,-197.75 3036.95,-202.82\"/>\n</g>\n<!-- 81 -->\n<g id=\"node82\" class=\"node\">\n<title>81</title>\n<path fill=\"#8ec7f0\" stroke=\"black\" d=\"M3060.75,-959.5C3060.75,-959.5 2969,-959.5 2969,-959.5 2963,-959.5 2957,-953.5 2957,-947.5 2957,-947.5 2957,-881 2957,-881 2957,-875 2963,-869 2969,-869 2969,-869 3060.75,-869 3060.75,-869 3066.75,-869 3072.75,-875 3072.75,-881 3072.75,-881 3072.75,-947.5 3072.75,-947.5 3072.75,-953.5 3066.75,-959.5 3060.75,-959.5\"/>\n<text text-anchor=\"start\" x=\"2973.25\" y=\"-942.2\" font-family=\"Helvetica,sans-Serif\" font-size=\"14.00\">Female ≤ 0.5</text>\n<text text-anchor=\"start\" x=\"2965\" y=\"-925.7\" font-family=\"Helvetica,sans-Serif\" font-size=\"14.00\">entropy = 0.881</text>\n<text text-anchor=\"start\" x=\"2971.75\" y=\"-909.2\" font-family=\"Helvetica,sans-Serif\" font-size=\"14.00\">samples = 20</text>\n<text text-anchor=\"start\" x=\"2970.62\" y=\"-892.7\" font-family=\"Helvetica,sans-Serif\" font-size=\"14.00\">value = [6, 14]</text>\n<text text-anchor=\"start\" x=\"2968\" y=\"-876.2\" font-family=\"Helvetica,sans-Serif\" font-size=\"14.00\">class = Normal</text>\n</g>\n<!-- 80&#45;&gt;81 -->\n<g id=\"edge81\" class=\"edge\">\n<title>80&#45;&gt;81</title>\n<path fill=\"none\" stroke=\"black\" d=\"M3014.88,-995.15C3014.88,-987.47 3014.88,-979.39 3014.88,-971.44\"/>\n<polygon fill=\"black\" stroke=\"black\" points=\"3018.38,-971.47 3014.88,-961.47 3011.38,-971.47 3018.38,-971.47\"/>\n</g>\n<!-- 84 -->\n<g id=\"node85\" class=\"node\">\n<title>84</title>\n<path fill=\"#f7d9c3\" stroke=\"black\" d=\"M3597.38,-959.5C3597.38,-959.5 3476.38,-959.5 3476.38,-959.5 3470.38,-959.5 3464.38,-953.5 3464.38,-947.5 3464.38,-947.5 3464.38,-881 3464.38,-881 3464.38,-875 3470.38,-869 3476.38,-869 3476.38,-869 3597.38,-869 3597.38,-869 3603.38,-869 3609.38,-875 3609.38,-881 3609.38,-881 3609.38,-947.5 3609.38,-947.5 3609.38,-953.5 3603.38,-959.5 3597.38,-959.5\"/>\n<text text-anchor=\"start\" x=\"3493.75\" y=\"-942.2\" font-family=\"Helvetica,sans-Serif\" font-size=\"14.00\">Quantity ≤ 7.5</text>\n<text text-anchor=\"start\" x=\"3487\" y=\"-925.7\" font-family=\"Helvetica,sans-Serif\" font-size=\"14.00\">entropy = 0.977</text>\n<text text-anchor=\"start\" x=\"3489.62\" y=\"-909.2\" font-family=\"Helvetica,sans-Serif\" font-size=\"14.00\">samples = 207</text>\n<text text-anchor=\"start\" x=\"3472.38\" y=\"-892.7\" font-family=\"Helvetica,sans-Serif\" font-size=\"14.00\">value = [122.0, 85.0]</text>\n<text text-anchor=\"start\" x=\"3486.25\" y=\"-876.2\" font-family=\"Helvetica,sans-Serif\" font-size=\"14.00\">class = Member</text>\n</g>\n<!-- 80&#45;&gt;84 -->\n<g id=\"edge84\" class=\"edge\">\n<title>80&#45;&gt;84</title>\n<path fill=\"none\" stroke=\"black\" d=\"M3075.78,-1025.22C3169.16,-1002.95 3347.94,-960.31 3453.35,-935.17\"/>\n<polygon fill=\"black\" stroke=\"black\" points=\"3453.87,-938.65 3462.78,-932.92 3452.24,-931.84 3453.87,-938.65\"/>\n</g>\n<!-- 82 -->\n<g id=\"node83\" class=\"node\">\n<title>82</title>\n<path fill=\"#ffffff\" stroke=\"black\" d=\"M2995.5,-824.75C2995.5,-824.75 2902.25,-824.75 2902.25,-824.75 2896.25,-824.75 2890.25,-818.75 2890.25,-812.75 2890.25,-812.75 2890.25,-762.75 2890.25,-762.75 2890.25,-756.75 2896.25,-750.75 2902.25,-750.75 2902.25,-750.75 2995.5,-750.75 2995.5,-750.75 3001.5,-750.75 3007.5,-756.75 3007.5,-762.75 3007.5,-762.75 3007.5,-812.75 3007.5,-812.75 3007.5,-818.75 3001.5,-824.75 2995.5,-824.75\"/>\n<text text-anchor=\"start\" x=\"2907.25\" y=\"-807.45\" font-family=\"Helvetica,sans-Serif\" font-size=\"14.00\">entropy = 1.0</text>\n<text text-anchor=\"start\" x=\"2905.75\" y=\"-790.95\" font-family=\"Helvetica,sans-Serif\" font-size=\"14.00\">samples = 12</text>\n<text text-anchor=\"start\" x=\"2908.75\" y=\"-774.45\" font-family=\"Helvetica,sans-Serif\" font-size=\"14.00\">value = [6, 6]</text>\n<text text-anchor=\"start\" x=\"2898.25\" y=\"-757.95\" font-family=\"Helvetica,sans-Serif\" font-size=\"14.00\">class = Member</text>\n</g>\n<!-- 81&#45;&gt;82 -->\n<g id=\"edge82\" class=\"edge\">\n<title>81&#45;&gt;82</title>\n<path fill=\"none\" stroke=\"black\" d=\"M2991.23,-868.65C2985.4,-857.65 2979.14,-845.84 2973.27,-834.77\"/>\n<polygon fill=\"black\" stroke=\"black\" points=\"2976.5,-833.39 2968.72,-826.19 2970.32,-836.67 2976.5,-833.39\"/>\n</g>\n<!-- 83 -->\n<g id=\"node84\" class=\"node\">\n<title>83</title>\n<path fill=\"#399de5\" stroke=\"black\" d=\"M3123.75,-824.75C3123.75,-824.75 3038,-824.75 3038,-824.75 3032,-824.75 3026,-818.75 3026,-812.75 3026,-812.75 3026,-762.75 3026,-762.75 3026,-756.75 3032,-750.75 3038,-750.75 3038,-750.75 3123.75,-750.75 3123.75,-750.75 3129.75,-750.75 3135.75,-756.75 3135.75,-762.75 3135.75,-762.75 3135.75,-812.75 3135.75,-812.75 3135.75,-818.75 3129.75,-824.75 3123.75,-824.75\"/>\n<text text-anchor=\"start\" x=\"3039.25\" y=\"-807.45\" font-family=\"Helvetica,sans-Serif\" font-size=\"14.00\">entropy = 0.0</text>\n<text text-anchor=\"start\" x=\"3041.88\" y=\"-790.95\" font-family=\"Helvetica,sans-Serif\" font-size=\"14.00\">samples = 8</text>\n<text text-anchor=\"start\" x=\"3040.75\" y=\"-774.45\" font-family=\"Helvetica,sans-Serif\" font-size=\"14.00\">value = [0, 8]</text>\n<text text-anchor=\"start\" x=\"3034\" y=\"-757.95\" font-family=\"Helvetica,sans-Serif\" font-size=\"14.00\">class = Normal</text>\n</g>\n<!-- 81&#45;&gt;83 -->\n<g id=\"edge83\" class=\"edge\">\n<title>81&#45;&gt;83</title>\n<path fill=\"none\" stroke=\"black\" d=\"M3038.52,-868.65C3044.35,-857.65 3050.61,-845.84 3056.48,-834.77\"/>\n<polygon fill=\"black\" stroke=\"black\" points=\"3059.43,-836.67 3061.03,-826.19 3053.25,-833.39 3059.43,-836.67\"/>\n</g>\n<!-- 85 -->\n<g id=\"node86\" class=\"node\">\n<title>85</title>\n<path fill=\"#fbebdf\" stroke=\"black\" d=\"M3583.5,-833C3583.5,-833 3490.25,-833 3490.25,-833 3484.25,-833 3478.25,-827 3478.25,-821 3478.25,-821 3478.25,-754.5 3478.25,-754.5 3478.25,-748.5 3484.25,-742.5 3490.25,-742.5 3490.25,-742.5 3583.5,-742.5 3583.5,-742.5 3589.5,-742.5 3595.5,-748.5 3595.5,-754.5 3595.5,-754.5 3595.5,-821 3595.5,-821 3595.5,-827 3589.5,-833 3583.5,-833\"/>\n<text text-anchor=\"start\" x=\"3495.25\" y=\"-815.7\" font-family=\"Helvetica,sans-Serif\" font-size=\"14.00\">Female ≤ 0.5</text>\n<text text-anchor=\"start\" x=\"3487\" y=\"-799.2\" font-family=\"Helvetica,sans-Serif\" font-size=\"14.00\">entropy = 0.994</text>\n<text text-anchor=\"start\" x=\"3489.62\" y=\"-782.7\" font-family=\"Helvetica,sans-Serif\" font-size=\"14.00\">samples = 136</text>\n<text text-anchor=\"start\" x=\"3488.5\" y=\"-766.2\" font-family=\"Helvetica,sans-Serif\" font-size=\"14.00\">value = [74, 62]</text>\n<text text-anchor=\"start\" x=\"3486.25\" y=\"-749.7\" font-family=\"Helvetica,sans-Serif\" font-size=\"14.00\">class = Member</text>\n</g>\n<!-- 84&#45;&gt;85 -->\n<g id=\"edge85\" class=\"edge\">\n<title>84&#45;&gt;85</title>\n<path fill=\"none\" stroke=\"black\" d=\"M3536.88,-868.65C3536.88,-860.97 3536.88,-852.89 3536.88,-844.94\"/>\n<polygon fill=\"black\" stroke=\"black\" points=\"3540.38,-844.97 3536.88,-834.97 3533.38,-844.97 3540.38,-844.97\"/>\n</g>\n<!-- 108 -->\n<g id=\"node109\" class=\"node\">\n<title>108</title>\n<path fill=\"#f1bd98\" stroke=\"black\" d=\"M4444.5,-833C4444.5,-833 4351.25,-833 4351.25,-833 4345.25,-833 4339.25,-827 4339.25,-821 4339.25,-821 4339.25,-754.5 4339.25,-754.5 4339.25,-748.5 4345.25,-742.5 4351.25,-742.5 4351.25,-742.5 4444.5,-742.5 4444.5,-742.5 4450.5,-742.5 4456.5,-748.5 4456.5,-754.5 4456.5,-754.5 4456.5,-821 4456.5,-821 4456.5,-827 4450.5,-833 4444.5,-833\"/>\n<text text-anchor=\"start\" x=\"4354.75\" y=\"-815.7\" font-family=\"Helvetica,sans-Serif\" font-size=\"14.00\">Quantity ≤ 9.5</text>\n<text text-anchor=\"start\" x=\"4348\" y=\"-799.2\" font-family=\"Helvetica,sans-Serif\" font-size=\"14.00\">entropy = 0.909</text>\n<text text-anchor=\"start\" x=\"4354.75\" y=\"-782.7\" font-family=\"Helvetica,sans-Serif\" font-size=\"14.00\">samples = 71</text>\n<text text-anchor=\"start\" x=\"4349.5\" y=\"-766.2\" font-family=\"Helvetica,sans-Serif\" font-size=\"14.00\">value = [48, 23]</text>\n<text text-anchor=\"start\" x=\"4347.25\" y=\"-749.7\" font-family=\"Helvetica,sans-Serif\" font-size=\"14.00\">class = Member</text>\n</g>\n<!-- 84&#45;&gt;108 -->\n<g id=\"edge108\" class=\"edge\">\n<title>84&#45;&gt;108</title>\n<path fill=\"none\" stroke=\"black\" d=\"M3609.54,-902.74C3772.76,-879.14 4166.71,-822.18 4327.62,-798.91\"/>\n<polygon fill=\"black\" stroke=\"black\" points=\"4327.9,-802.4 4337.3,-797.51 4326.9,-795.48 4327.9,-802.4\"/>\n</g>\n<!-- 86 -->\n<g id=\"node87\" class=\"node\">\n<title>86</title>\n<path fill=\"#fefbf9\" stroke=\"black\" d=\"M3483.5,-706.5C3483.5,-706.5 3390.25,-706.5 3390.25,-706.5 3384.25,-706.5 3378.25,-700.5 3378.25,-694.5 3378.25,-694.5 3378.25,-628 3378.25,-628 3378.25,-622 3384.25,-616 3390.25,-616 3390.25,-616 3483.5,-616 3483.5,-616 3489.5,-616 3495.5,-622 3495.5,-628 3495.5,-628 3495.5,-694.5 3495.5,-694.5 3495.5,-700.5 3489.5,-706.5 3483.5,-706.5\"/>\n<text text-anchor=\"start\" x=\"3393.75\" y=\"-689.2\" font-family=\"Helvetica,sans-Serif\" font-size=\"14.00\">Quantity ≤ 3.5</text>\n<text text-anchor=\"start\" x=\"3395.25\" y=\"-672.7\" font-family=\"Helvetica,sans-Serif\" font-size=\"14.00\">entropy = 1.0</text>\n<text text-anchor=\"start\" x=\"3393.75\" y=\"-656.2\" font-family=\"Helvetica,sans-Serif\" font-size=\"14.00\">samples = 65</text>\n<text text-anchor=\"start\" x=\"3388.5\" y=\"-639.7\" font-family=\"Helvetica,sans-Serif\" font-size=\"14.00\">value = [33, 32]</text>\n<text text-anchor=\"start\" x=\"3386.25\" y=\"-623.2\" font-family=\"Helvetica,sans-Serif\" font-size=\"14.00\">class = Member</text>\n</g>\n<!-- 85&#45;&gt;86 -->\n<g id=\"edge86\" class=\"edge\">\n<title>85&#45;&gt;86</title>\n<path fill=\"none\" stroke=\"black\" d=\"M3501.06,-742.15C3494.16,-733.57 3486.88,-724.5 3479.79,-715.67\"/>\n<polygon fill=\"black\" stroke=\"black\" points=\"3482.72,-713.74 3473.73,-708.13 3477.26,-718.12 3482.72,-713.74\"/>\n</g>\n<!-- 97 -->\n<g id=\"node98\" class=\"node\">\n<title>97</title>\n<path fill=\"#f8ddca\" stroke=\"black\" d=\"M3754.5,-706.5C3754.5,-706.5 3661.25,-706.5 3661.25,-706.5 3655.25,-706.5 3649.25,-700.5 3649.25,-694.5 3649.25,-694.5 3649.25,-628 3649.25,-628 3649.25,-622 3655.25,-616 3661.25,-616 3661.25,-616 3754.5,-616 3754.5,-616 3760.5,-616 3766.5,-622 3766.5,-628 3766.5,-628 3766.5,-694.5 3766.5,-694.5 3766.5,-700.5 3760.5,-706.5 3754.5,-706.5\"/>\n<text text-anchor=\"start\" x=\"3664.75\" y=\"-689.2\" font-family=\"Helvetica,sans-Serif\" font-size=\"14.00\">Quantity ≤ 5.5</text>\n<text text-anchor=\"start\" x=\"3658\" y=\"-672.7\" font-family=\"Helvetica,sans-Serif\" font-size=\"14.00\">entropy = 0.983</text>\n<text text-anchor=\"start\" x=\"3664.75\" y=\"-656.2\" font-family=\"Helvetica,sans-Serif\" font-size=\"14.00\">samples = 71</text>\n<text text-anchor=\"start\" x=\"3659.5\" y=\"-639.7\" font-family=\"Helvetica,sans-Serif\" font-size=\"14.00\">value = [41, 30]</text>\n<text text-anchor=\"start\" x=\"3657.25\" y=\"-623.2\" font-family=\"Helvetica,sans-Serif\" font-size=\"14.00\">class = Member</text>\n</g>\n<!-- 85&#45;&gt;97 -->\n<g id=\"edge97\" class=\"edge\">\n<title>85&#45;&gt;97</title>\n<path fill=\"none\" stroke=\"black\" d=\"M3595.72,-743.9C3609.96,-733.54 3625.3,-722.37 3639.92,-711.72\"/>\n<polygon fill=\"black\" stroke=\"black\" points=\"3641.67,-714.78 3647.69,-706.07 3637.55,-709.12 3641.67,-714.78\"/>\n</g>\n<!-- 87 -->\n<g id=\"node88\" class=\"node\">\n<title>87</title>\n<path fill=\"#deeffb\" stroke=\"black\" d=\"M3275.75,-580C3275.75,-580 3184,-580 3184,-580 3178,-580 3172,-574 3172,-568 3172,-568 3172,-501.5 3172,-501.5 3172,-495.5 3178,-489.5 3184,-489.5 3184,-489.5 3275.75,-489.5 3275.75,-489.5 3281.75,-489.5 3287.75,-495.5 3287.75,-501.5 3287.75,-501.5 3287.75,-568 3287.75,-568 3287.75,-574 3281.75,-580 3275.75,-580\"/>\n<text text-anchor=\"start\" x=\"3186.75\" y=\"-562.7\" font-family=\"Helvetica,sans-Serif\" font-size=\"14.00\">Quantity ≤ 2.5</text>\n<text text-anchor=\"start\" x=\"3180\" y=\"-546.2\" font-family=\"Helvetica,sans-Serif\" font-size=\"14.00\">entropy = 0.994</text>\n<text text-anchor=\"start\" x=\"3186.75\" y=\"-529.7\" font-family=\"Helvetica,sans-Serif\" font-size=\"14.00\">samples = 22</text>\n<text text-anchor=\"start\" x=\"3181.5\" y=\"-513.2\" font-family=\"Helvetica,sans-Serif\" font-size=\"14.00\">value = [10, 12]</text>\n<text text-anchor=\"start\" x=\"3183\" y=\"-496.7\" font-family=\"Helvetica,sans-Serif\" font-size=\"14.00\">class = Normal</text>\n</g>\n<!-- 86&#45;&gt;87 -->\n<g id=\"edge87\" class=\"edge\">\n<title>86&#45;&gt;87</title>\n<path fill=\"none\" stroke=\"black\" d=\"M3377.83,-624.74C3352.83,-609.7 3323.54,-592.09 3297.66,-576.52\"/>\n<polygon fill=\"black\" stroke=\"black\" points=\"3299.59,-573.6 3289.22,-571.44 3295.98,-579.6 3299.59,-573.6\"/>\n</g>\n<!-- 90 -->\n<g id=\"node91\" class=\"node\">\n<title>90</title>\n<path fill=\"#fcefe5\" stroke=\"black\" d=\"M3493.25,-580C3493.25,-580 3380.5,-580 3380.5,-580 3374.5,-580 3368.5,-574 3368.5,-568 3368.5,-568 3368.5,-501.5 3368.5,-501.5 3368.5,-495.5 3374.5,-489.5 3380.5,-489.5 3380.5,-489.5 3493.25,-489.5 3493.25,-489.5 3499.25,-489.5 3505.25,-495.5 3505.25,-501.5 3505.25,-501.5 3505.25,-568 3505.25,-568 3505.25,-574 3499.25,-580 3493.25,-580\"/>\n<text text-anchor=\"start\" x=\"3393.75\" y=\"-562.7\" font-family=\"Helvetica,sans-Serif\" font-size=\"14.00\">Quantity ≤ 5.5</text>\n<text text-anchor=\"start\" x=\"3387\" y=\"-546.2\" font-family=\"Helvetica,sans-Serif\" font-size=\"14.00\">entropy = 0.996</text>\n<text text-anchor=\"start\" x=\"3393.75\" y=\"-529.7\" font-family=\"Helvetica,sans-Serif\" font-size=\"14.00\">samples = 43</text>\n<text text-anchor=\"start\" x=\"3376.5\" y=\"-513.2\" font-family=\"Helvetica,sans-Serif\" font-size=\"14.00\">value = [23.0, 20.0]</text>\n<text text-anchor=\"start\" x=\"3386.25\" y=\"-496.7\" font-family=\"Helvetica,sans-Serif\" font-size=\"14.00\">class = Member</text>\n</g>\n<!-- 86&#45;&gt;90 -->\n<g id=\"edge90\" class=\"edge\">\n<title>86&#45;&gt;90</title>\n<path fill=\"none\" stroke=\"black\" d=\"M3436.88,-615.65C3436.88,-607.97 3436.88,-599.89 3436.88,-591.94\"/>\n<polygon fill=\"black\" stroke=\"black\" points=\"3440.38,-591.97 3436.88,-581.97 3433.38,-591.97 3440.38,-591.97\"/>\n</g>\n<!-- 88 -->\n<g id=\"node89\" class=\"node\">\n<title>88</title>\n<path fill=\"#ffffff\" stroke=\"black\" d=\"M3141.5,-445.25C3141.5,-445.25 3048.25,-445.25 3048.25,-445.25 3042.25,-445.25 3036.25,-439.25 3036.25,-433.25 3036.25,-433.25 3036.25,-383.25 3036.25,-383.25 3036.25,-377.25 3042.25,-371.25 3048.25,-371.25 3048.25,-371.25 3141.5,-371.25 3141.5,-371.25 3147.5,-371.25 3153.5,-377.25 3153.5,-383.25 3153.5,-383.25 3153.5,-433.25 3153.5,-433.25 3153.5,-439.25 3147.5,-445.25 3141.5,-445.25\"/>\n<text text-anchor=\"start\" x=\"3053.25\" y=\"-427.95\" font-family=\"Helvetica,sans-Serif\" font-size=\"14.00\">entropy = 1.0</text>\n<text text-anchor=\"start\" x=\"3055.88\" y=\"-411.45\" font-family=\"Helvetica,sans-Serif\" font-size=\"14.00\">samples = 8</text>\n<text text-anchor=\"start\" x=\"3054.75\" y=\"-394.95\" font-family=\"Helvetica,sans-Serif\" font-size=\"14.00\">value = [4, 4]</text>\n<text text-anchor=\"start\" x=\"3044.25\" y=\"-378.45\" font-family=\"Helvetica,sans-Serif\" font-size=\"14.00\">class = Member</text>\n</g>\n<!-- 87&#45;&gt;88 -->\n<g id=\"edge88\" class=\"edge\">\n<title>87&#45;&gt;88</title>\n<path fill=\"none\" stroke=\"black\" d=\"M3181.52,-489.15C3168.73,-477.36 3154.95,-464.65 3142.22,-452.91\"/>\n<polygon fill=\"black\" stroke=\"black\" points=\"3144.86,-450.59 3135.14,-446.38 3140.12,-455.73 3144.86,-450.59\"/>\n</g>\n<!-- 89 -->\n<g id=\"node90\" class=\"node\">\n<title>89</title>\n<path fill=\"#cee6f8\" stroke=\"black\" d=\"M3275.75,-445.25C3275.75,-445.25 3184,-445.25 3184,-445.25 3178,-445.25 3172,-439.25 3172,-433.25 3172,-433.25 3172,-383.25 3172,-383.25 3172,-377.25 3178,-371.25 3184,-371.25 3184,-371.25 3275.75,-371.25 3275.75,-371.25 3281.75,-371.25 3287.75,-377.25 3287.75,-383.25 3287.75,-383.25 3287.75,-433.25 3287.75,-433.25 3287.75,-439.25 3281.75,-445.25 3275.75,-445.25\"/>\n<text text-anchor=\"start\" x=\"3180\" y=\"-427.95\" font-family=\"Helvetica,sans-Serif\" font-size=\"14.00\">entropy = 0.985</text>\n<text text-anchor=\"start\" x=\"3186.75\" y=\"-411.45\" font-family=\"Helvetica,sans-Serif\" font-size=\"14.00\">samples = 14</text>\n<text text-anchor=\"start\" x=\"3189.75\" y=\"-394.95\" font-family=\"Helvetica,sans-Serif\" font-size=\"14.00\">value = [6, 8]</text>\n<text text-anchor=\"start\" x=\"3183\" y=\"-378.45\" font-family=\"Helvetica,sans-Serif\" font-size=\"14.00\">class = Normal</text>\n</g>\n<!-- 87&#45;&gt;89 -->\n<g id=\"edge89\" class=\"edge\">\n<title>87&#45;&gt;89</title>\n<path fill=\"none\" stroke=\"black\" d=\"M3229.88,-489.15C3229.88,-478.6 3229.88,-467.31 3229.88,-456.63\"/>\n<polygon fill=\"black\" stroke=\"black\" points=\"3233.38,-456.87 3229.88,-446.87 3226.38,-456.87 3233.38,-456.87\"/>\n</g>\n<!-- 91 -->\n<g id=\"node92\" class=\"node\">\n<title>91</title>\n<path fill=\"#f7d8c2\" stroke=\"black\" d=\"M3411.5,-453.5C3411.5,-453.5 3318.25,-453.5 3318.25,-453.5 3312.25,-453.5 3306.25,-447.5 3306.25,-441.5 3306.25,-441.5 3306.25,-375 3306.25,-375 3306.25,-369 3312.25,-363 3318.25,-363 3318.25,-363 3411.5,-363 3411.5,-363 3417.5,-363 3423.5,-369 3423.5,-375 3423.5,-375 3423.5,-441.5 3423.5,-441.5 3423.5,-447.5 3417.5,-453.5 3411.5,-453.5\"/>\n<text text-anchor=\"start\" x=\"3321.75\" y=\"-436.2\" font-family=\"Helvetica,sans-Serif\" font-size=\"14.00\">Quantity ≤ 4.5</text>\n<text text-anchor=\"start\" x=\"3315\" y=\"-419.7\" font-family=\"Helvetica,sans-Serif\" font-size=\"14.00\">entropy = 0.976</text>\n<text text-anchor=\"start\" x=\"3321.75\" y=\"-403.2\" font-family=\"Helvetica,sans-Serif\" font-size=\"14.00\">samples = 22</text>\n<text text-anchor=\"start\" x=\"3320.62\" y=\"-386.7\" font-family=\"Helvetica,sans-Serif\" font-size=\"14.00\">value = [13, 9]</text>\n<text text-anchor=\"start\" x=\"3314.25\" y=\"-370.2\" font-family=\"Helvetica,sans-Serif\" font-size=\"14.00\">class = Member</text>\n</g>\n<!-- 90&#45;&gt;91 -->\n<g id=\"edge91\" class=\"edge\">\n<title>90&#45;&gt;91</title>\n<path fill=\"none\" stroke=\"black\" d=\"M3411.08,-489.15C3406.33,-480.93 3401.31,-472.26 3396.41,-463.78\"/>\n<polygon fill=\"black\" stroke=\"black\" points=\"3399.52,-462.17 3391.48,-455.26 3393.46,-465.67 3399.52,-462.17\"/>\n</g>\n<!-- 94 -->\n<g id=\"node95\" class=\"node\">\n<title>94</title>\n<path fill=\"#edf6fd\" stroke=\"black\" d=\"M3545.75,-453.5C3545.75,-453.5 3454,-453.5 3454,-453.5 3448,-453.5 3442,-447.5 3442,-441.5 3442,-441.5 3442,-375 3442,-375 3442,-369 3448,-363 3454,-363 3454,-363 3545.75,-363 3545.75,-363 3551.75,-363 3557.75,-369 3557.75,-375 3557.75,-375 3557.75,-441.5 3557.75,-441.5 3557.75,-447.5 3551.75,-453.5 3545.75,-453.5\"/>\n<text text-anchor=\"start\" x=\"3456.75\" y=\"-436.2\" font-family=\"Helvetica,sans-Serif\" font-size=\"14.00\">Quantity ≤ 6.5</text>\n<text text-anchor=\"start\" x=\"3450\" y=\"-419.7\" font-family=\"Helvetica,sans-Serif\" font-size=\"14.00\">entropy = 0.998</text>\n<text text-anchor=\"start\" x=\"3456.75\" y=\"-403.2\" font-family=\"Helvetica,sans-Serif\" font-size=\"14.00\">samples = 21</text>\n<text text-anchor=\"start\" x=\"3451.5\" y=\"-386.7\" font-family=\"Helvetica,sans-Serif\" font-size=\"14.00\">value = [10, 11]</text>\n<text text-anchor=\"start\" x=\"3453\" y=\"-370.2\" font-family=\"Helvetica,sans-Serif\" font-size=\"14.00\">class = Normal</text>\n</g>\n<!-- 90&#45;&gt;94 -->\n<g id=\"edge94\" class=\"edge\">\n<title>90&#45;&gt;94</title>\n<path fill=\"none\" stroke=\"black\" d=\"M3459.44,-489.15C3463.56,-481.02 3467.9,-472.45 3472.14,-464.05\"/>\n<polygon fill=\"black\" stroke=\"black\" points=\"3475.18,-465.81 3476.57,-455.3 3468.93,-462.65 3475.18,-465.81\"/>\n</g>\n<!-- 92 -->\n<g id=\"node93\" class=\"node\">\n<title>92</title>\n<path fill=\"#f6d5bd\" stroke=\"black\" d=\"M3276.5,-318.75C3276.5,-318.75 3183.25,-318.75 3183.25,-318.75 3177.25,-318.75 3171.25,-312.75 3171.25,-306.75 3171.25,-306.75 3171.25,-256.75 3171.25,-256.75 3171.25,-250.75 3177.25,-244.75 3183.25,-244.75 3183.25,-244.75 3276.5,-244.75 3276.5,-244.75 3282.5,-244.75 3288.5,-250.75 3288.5,-256.75 3288.5,-256.75 3288.5,-306.75 3288.5,-306.75 3288.5,-312.75 3282.5,-318.75 3276.5,-318.75\"/>\n<text text-anchor=\"start\" x=\"3180\" y=\"-301.45\" font-family=\"Helvetica,sans-Serif\" font-size=\"14.00\">entropy = 0.971</text>\n<text text-anchor=\"start\" x=\"3186.75\" y=\"-284.95\" font-family=\"Helvetica,sans-Serif\" font-size=\"14.00\">samples = 15</text>\n<text text-anchor=\"start\" x=\"3189.75\" y=\"-268.45\" font-family=\"Helvetica,sans-Serif\" font-size=\"14.00\">value = [9, 6]</text>\n<text text-anchor=\"start\" x=\"3179.25\" y=\"-251.95\" font-family=\"Helvetica,sans-Serif\" font-size=\"14.00\">class = Member</text>\n</g>\n<!-- 91&#45;&gt;92 -->\n<g id=\"edge92\" class=\"edge\">\n<title>91&#45;&gt;92</title>\n<path fill=\"none\" stroke=\"black\" d=\"M3316.52,-362.65C3303.73,-350.86 3289.95,-338.15 3277.22,-326.41\"/>\n<polygon fill=\"black\" stroke=\"black\" points=\"3279.86,-324.09 3270.14,-319.88 3275.12,-329.23 3279.86,-324.09\"/>\n</g>\n<!-- 93 -->\n<g id=\"node94\" class=\"node\">\n<title>93</title>\n<path fill=\"#f8e0ce\" stroke=\"black\" d=\"M3411.5,-318.75C3411.5,-318.75 3318.25,-318.75 3318.25,-318.75 3312.25,-318.75 3306.25,-312.75 3306.25,-306.75 3306.25,-306.75 3306.25,-256.75 3306.25,-256.75 3306.25,-250.75 3312.25,-244.75 3318.25,-244.75 3318.25,-244.75 3411.5,-244.75 3411.5,-244.75 3417.5,-244.75 3423.5,-250.75 3423.5,-256.75 3423.5,-256.75 3423.5,-306.75 3423.5,-306.75 3423.5,-312.75 3417.5,-318.75 3411.5,-318.75\"/>\n<text text-anchor=\"start\" x=\"3315\" y=\"-301.45\" font-family=\"Helvetica,sans-Serif\" font-size=\"14.00\">entropy = 0.985</text>\n<text text-anchor=\"start\" x=\"3325.88\" y=\"-284.95\" font-family=\"Helvetica,sans-Serif\" font-size=\"14.00\">samples = 7</text>\n<text text-anchor=\"start\" x=\"3324.75\" y=\"-268.45\" font-family=\"Helvetica,sans-Serif\" font-size=\"14.00\">value = [4, 3]</text>\n<text text-anchor=\"start\" x=\"3314.25\" y=\"-251.95\" font-family=\"Helvetica,sans-Serif\" font-size=\"14.00\">class = Member</text>\n</g>\n<!-- 91&#45;&gt;93 -->\n<g id=\"edge93\" class=\"edge\">\n<title>91&#45;&gt;93</title>\n<path fill=\"none\" stroke=\"black\" d=\"M3364.88,-362.65C3364.88,-352.1 3364.88,-340.81 3364.88,-330.13\"/>\n<polygon fill=\"black\" stroke=\"black\" points=\"3368.38,-330.37 3364.88,-320.37 3361.38,-330.37 3368.38,-330.37\"/>\n</g>\n<!-- 95 -->\n<g id=\"node96\" class=\"node\">\n<title>95</title>\n<path fill=\"#d7ebfa\" stroke=\"black\" d=\"M3545.75,-318.75C3545.75,-318.75 3454,-318.75 3454,-318.75 3448,-318.75 3442,-312.75 3442,-306.75 3442,-306.75 3442,-256.75 3442,-256.75 3442,-250.75 3448,-244.75 3454,-244.75 3454,-244.75 3545.75,-244.75 3545.75,-244.75 3551.75,-244.75 3557.75,-250.75 3557.75,-256.75 3557.75,-256.75 3557.75,-306.75 3557.75,-306.75 3557.75,-312.75 3551.75,-318.75 3545.75,-318.75\"/>\n<text text-anchor=\"start\" x=\"3450\" y=\"-301.45\" font-family=\"Helvetica,sans-Serif\" font-size=\"14.00\">entropy = 0.991</text>\n<text text-anchor=\"start\" x=\"3460.88\" y=\"-284.95\" font-family=\"Helvetica,sans-Serif\" font-size=\"14.00\">samples = 9</text>\n<text text-anchor=\"start\" x=\"3459.75\" y=\"-268.45\" font-family=\"Helvetica,sans-Serif\" font-size=\"14.00\">value = [4, 5]</text>\n<text text-anchor=\"start\" x=\"3453\" y=\"-251.95\" font-family=\"Helvetica,sans-Serif\" font-size=\"14.00\">class = Normal</text>\n</g>\n<!-- 94&#45;&gt;95 -->\n<g id=\"edge95\" class=\"edge\">\n<title>94&#45;&gt;95</title>\n<path fill=\"none\" stroke=\"black\" d=\"M3499.88,-362.65C3499.88,-352.1 3499.88,-340.81 3499.88,-330.13\"/>\n<polygon fill=\"black\" stroke=\"black\" points=\"3503.38,-330.37 3499.88,-320.37 3496.38,-330.37 3503.38,-330.37\"/>\n</g>\n<!-- 96 -->\n<g id=\"node97\" class=\"node\">\n<title>96</title>\n<path fill=\"#ffffff\" stroke=\"black\" d=\"M3681.5,-318.75C3681.5,-318.75 3588.25,-318.75 3588.25,-318.75 3582.25,-318.75 3576.25,-312.75 3576.25,-306.75 3576.25,-306.75 3576.25,-256.75 3576.25,-256.75 3576.25,-250.75 3582.25,-244.75 3588.25,-244.75 3588.25,-244.75 3681.5,-244.75 3681.5,-244.75 3687.5,-244.75 3693.5,-250.75 3693.5,-256.75 3693.5,-256.75 3693.5,-306.75 3693.5,-306.75 3693.5,-312.75 3687.5,-318.75 3681.5,-318.75\"/>\n<text text-anchor=\"start\" x=\"3593.25\" y=\"-301.45\" font-family=\"Helvetica,sans-Serif\" font-size=\"14.00\">entropy = 1.0</text>\n<text text-anchor=\"start\" x=\"3591.75\" y=\"-284.95\" font-family=\"Helvetica,sans-Serif\" font-size=\"14.00\">samples = 12</text>\n<text text-anchor=\"start\" x=\"3594.75\" y=\"-268.45\" font-family=\"Helvetica,sans-Serif\" font-size=\"14.00\">value = [6, 6]</text>\n<text text-anchor=\"start\" x=\"3584.25\" y=\"-251.95\" font-family=\"Helvetica,sans-Serif\" font-size=\"14.00\">class = Member</text>\n</g>\n<!-- 94&#45;&gt;96 -->\n<g id=\"edge96\" class=\"edge\">\n<title>94&#45;&gt;96</title>\n<path fill=\"none\" stroke=\"black\" d=\"M3548.23,-362.65C3561.02,-350.86 3574.8,-338.15 3587.53,-326.41\"/>\n<polygon fill=\"black\" stroke=\"black\" points=\"3589.63,-329.23 3594.61,-319.88 3584.89,-324.09 3589.63,-329.23\"/>\n</g>\n<!-- 98 -->\n<g id=\"node99\" class=\"node\">\n<title>98</title>\n<path fill=\"#fae5d6\" stroke=\"black\" d=\"M3754.5,-580C3754.5,-580 3661.25,-580 3661.25,-580 3655.25,-580 3649.25,-574 3649.25,-568 3649.25,-568 3649.25,-501.5 3649.25,-501.5 3649.25,-495.5 3655.25,-489.5 3661.25,-489.5 3661.25,-489.5 3754.5,-489.5 3754.5,-489.5 3760.5,-489.5 3766.5,-495.5 3766.5,-501.5 3766.5,-501.5 3766.5,-568 3766.5,-568 3766.5,-574 3760.5,-580 3754.5,-580\"/>\n<text text-anchor=\"start\" x=\"3664.75\" y=\"-562.7\" font-family=\"Helvetica,sans-Serif\" font-size=\"14.00\">Quantity ≤ 2.5</text>\n<text text-anchor=\"start\" x=\"3662.12\" y=\"-546.2\" font-family=\"Helvetica,sans-Serif\" font-size=\"14.00\">entropy = 0.99</text>\n<text text-anchor=\"start\" x=\"3664.75\" y=\"-529.7\" font-family=\"Helvetica,sans-Serif\" font-size=\"14.00\">samples = 52</text>\n<text text-anchor=\"start\" x=\"3659.5\" y=\"-513.2\" font-family=\"Helvetica,sans-Serif\" font-size=\"14.00\">value = [29, 23]</text>\n<text text-anchor=\"start\" x=\"3657.25\" y=\"-496.7\" font-family=\"Helvetica,sans-Serif\" font-size=\"14.00\">class = Member</text>\n</g>\n<!-- 97&#45;&gt;98 -->\n<g id=\"edge98\" class=\"edge\">\n<title>97&#45;&gt;98</title>\n<path fill=\"none\" stroke=\"black\" d=\"M3707.88,-615.65C3707.88,-607.97 3707.88,-599.89 3707.88,-591.94\"/>\n<polygon fill=\"black\" stroke=\"black\" points=\"3711.38,-591.97 3707.88,-581.97 3704.38,-591.97 3711.38,-591.97\"/>\n</g>\n<!-- 105 -->\n<g id=\"node106\" class=\"node\">\n<title>105</title>\n<path fill=\"#f4caac\" stroke=\"black\" d=\"M3971.5,-580C3971.5,-580 3878.25,-580 3878.25,-580 3872.25,-580 3866.25,-574 3866.25,-568 3866.25,-568 3866.25,-501.5 3866.25,-501.5 3866.25,-495.5 3872.25,-489.5 3878.25,-489.5 3878.25,-489.5 3971.5,-489.5 3971.5,-489.5 3977.5,-489.5 3983.5,-495.5 3983.5,-501.5 3983.5,-501.5 3983.5,-568 3983.5,-568 3983.5,-574 3977.5,-580 3971.5,-580\"/>\n<text text-anchor=\"start\" x=\"3881.75\" y=\"-562.7\" font-family=\"Helvetica,sans-Serif\" font-size=\"14.00\">Quantity ≤ 6.5</text>\n<text text-anchor=\"start\" x=\"3875\" y=\"-546.2\" font-family=\"Helvetica,sans-Serif\" font-size=\"14.00\">entropy = 0.949</text>\n<text text-anchor=\"start\" x=\"3881.75\" y=\"-529.7\" font-family=\"Helvetica,sans-Serif\" font-size=\"14.00\">samples = 19</text>\n<text text-anchor=\"start\" x=\"3880.62\" y=\"-513.2\" font-family=\"Helvetica,sans-Serif\" font-size=\"14.00\">value = [12, 7]</text>\n<text text-anchor=\"start\" x=\"3874.25\" y=\"-496.7\" font-family=\"Helvetica,sans-Serif\" font-size=\"14.00\">class = Member</text>\n</g>\n<!-- 97&#45;&gt;105 -->\n<g id=\"edge105\" class=\"edge\">\n<title>97&#45;&gt;105</title>\n<path fill=\"none\" stroke=\"black\" d=\"M3766.88,-626.39C3794.39,-610.61 3827.3,-591.73 3855.94,-575.3\"/>\n<polygon fill=\"black\" stroke=\"black\" points=\"3857.63,-578.36 3864.56,-570.35 3854.15,-572.29 3857.63,-578.36\"/>\n</g>\n<!-- 99 -->\n<g id=\"node100\" class=\"node\">\n<title>99</title>\n<path fill=\"#f6d5bd\" stroke=\"black\" d=\"M3681.5,-445.25C3681.5,-445.25 3588.25,-445.25 3588.25,-445.25 3582.25,-445.25 3576.25,-439.25 3576.25,-433.25 3576.25,-433.25 3576.25,-383.25 3576.25,-383.25 3576.25,-377.25 3582.25,-371.25 3588.25,-371.25 3588.25,-371.25 3681.5,-371.25 3681.5,-371.25 3687.5,-371.25 3693.5,-377.25 3693.5,-383.25 3693.5,-383.25 3693.5,-433.25 3693.5,-433.25 3693.5,-439.25 3687.5,-445.25 3681.5,-445.25\"/>\n<text text-anchor=\"start\" x=\"3585\" y=\"-427.95\" font-family=\"Helvetica,sans-Serif\" font-size=\"14.00\">entropy = 0.971</text>\n<text text-anchor=\"start\" x=\"3591.75\" y=\"-411.45\" font-family=\"Helvetica,sans-Serif\" font-size=\"14.00\">samples = 10</text>\n<text text-anchor=\"start\" x=\"3594.75\" y=\"-394.95\" font-family=\"Helvetica,sans-Serif\" font-size=\"14.00\">value = [6, 4]</text>\n<text text-anchor=\"start\" x=\"3584.25\" y=\"-378.45\" font-family=\"Helvetica,sans-Serif\" font-size=\"14.00\">class = Member</text>\n</g>\n<!-- 98&#45;&gt;99 -->\n<g id=\"edge99\" class=\"edge\">\n<title>98&#45;&gt;99</title>\n<path fill=\"none\" stroke=\"black\" d=\"M3681.73,-489.15C3675.27,-478.15 3668.35,-466.34 3661.86,-455.27\"/>\n<polygon fill=\"black\" stroke=\"black\" points=\"3664.89,-453.52 3656.81,-446.66 3658.85,-457.06 3664.89,-453.52\"/>\n</g>\n<!-- 100 -->\n<g id=\"node101\" class=\"node\">\n<title>100</title>\n<path fill=\"#fae9dd\" stroke=\"black\" d=\"M3836.25,-453.5C3836.25,-453.5 3723.5,-453.5 3723.5,-453.5 3717.5,-453.5 3711.5,-447.5 3711.5,-441.5 3711.5,-441.5 3711.5,-375 3711.5,-375 3711.5,-369 3717.5,-363 3723.5,-363 3723.5,-363 3836.25,-363 3836.25,-363 3842.25,-363 3848.25,-369 3848.25,-375 3848.25,-375 3848.25,-441.5 3848.25,-441.5 3848.25,-447.5 3842.25,-453.5 3836.25,-453.5\"/>\n<text text-anchor=\"start\" x=\"3736.75\" y=\"-436.2\" font-family=\"Helvetica,sans-Serif\" font-size=\"14.00\">Quantity ≤ 3.5</text>\n<text text-anchor=\"start\" x=\"3730\" y=\"-419.7\" font-family=\"Helvetica,sans-Serif\" font-size=\"14.00\">entropy = 0.993</text>\n<text text-anchor=\"start\" x=\"3736.75\" y=\"-403.2\" font-family=\"Helvetica,sans-Serif\" font-size=\"14.00\">samples = 42</text>\n<text text-anchor=\"start\" x=\"3719.5\" y=\"-386.7\" font-family=\"Helvetica,sans-Serif\" font-size=\"14.00\">value = [23.0, 19.0]</text>\n<text text-anchor=\"start\" x=\"3729.25\" y=\"-370.2\" font-family=\"Helvetica,sans-Serif\" font-size=\"14.00\">class = Member</text>\n</g>\n<!-- 98&#45;&gt;100 -->\n<g id=\"edge100\" class=\"edge\">\n<title>98&#45;&gt;100</title>\n<path fill=\"none\" stroke=\"black\" d=\"M3733.67,-489.15C3738.42,-480.93 3743.44,-472.26 3748.34,-463.78\"/>\n<polygon fill=\"black\" stroke=\"black\" points=\"3751.29,-465.67 3753.27,-455.26 3745.23,-462.17 3751.29,-465.67\"/>\n</g>\n<!-- 101 -->\n<g id=\"node102\" class=\"node\">\n<title>101</title>\n<path fill=\"#ffffff\" stroke=\"black\" d=\"M3821.5,-318.75C3821.5,-318.75 3728.25,-318.75 3728.25,-318.75 3722.25,-318.75 3716.25,-312.75 3716.25,-306.75 3716.25,-306.75 3716.25,-256.75 3716.25,-256.75 3716.25,-250.75 3722.25,-244.75 3728.25,-244.75 3728.25,-244.75 3821.5,-244.75 3821.5,-244.75 3827.5,-244.75 3833.5,-250.75 3833.5,-256.75 3833.5,-256.75 3833.5,-306.75 3833.5,-306.75 3833.5,-312.75 3827.5,-318.75 3821.5,-318.75\"/>\n<text text-anchor=\"start\" x=\"3733.25\" y=\"-301.45\" font-family=\"Helvetica,sans-Serif\" font-size=\"14.00\">entropy = 1.0</text>\n<text text-anchor=\"start\" x=\"3731.75\" y=\"-284.95\" font-family=\"Helvetica,sans-Serif\" font-size=\"14.00\">samples = 12</text>\n<text text-anchor=\"start\" x=\"3734.75\" y=\"-268.45\" font-family=\"Helvetica,sans-Serif\" font-size=\"14.00\">value = [6, 6]</text>\n<text text-anchor=\"start\" x=\"3724.25\" y=\"-251.95\" font-family=\"Helvetica,sans-Serif\" font-size=\"14.00\">class = Member</text>\n</g>\n<!-- 100&#45;&gt;101 -->\n<g id=\"edge101\" class=\"edge\">\n<title>100&#45;&gt;101</title>\n<path fill=\"none\" stroke=\"black\" d=\"M3778.08,-362.65C3777.66,-352.1 3777.21,-340.81 3776.78,-330.13\"/>\n<polygon fill=\"black\" stroke=\"black\" points=\"3780.28,-330.22 3776.39,-320.37 3773.29,-330.5 3780.28,-330.22\"/>\n</g>\n<!-- 102 -->\n<g id=\"node103\" class=\"node\">\n<title>102</title>\n<path fill=\"#f9e1d0\" stroke=\"black\" d=\"M3956.5,-327C3956.5,-327 3863.25,-327 3863.25,-327 3857.25,-327 3851.25,-321 3851.25,-315 3851.25,-315 3851.25,-248.5 3851.25,-248.5 3851.25,-242.5 3857.25,-236.5 3863.25,-236.5 3863.25,-236.5 3956.5,-236.5 3956.5,-236.5 3962.5,-236.5 3968.5,-242.5 3968.5,-248.5 3968.5,-248.5 3968.5,-315 3968.5,-315 3968.5,-321 3962.5,-327 3956.5,-327\"/>\n<text text-anchor=\"start\" x=\"3866.75\" y=\"-309.7\" font-family=\"Helvetica,sans-Serif\" font-size=\"14.00\">Quantity ≤ 4.5</text>\n<text text-anchor=\"start\" x=\"3860\" y=\"-293.2\" font-family=\"Helvetica,sans-Serif\" font-size=\"14.00\">entropy = 0.987</text>\n<text text-anchor=\"start\" x=\"3866.75\" y=\"-276.7\" font-family=\"Helvetica,sans-Serif\" font-size=\"14.00\">samples = 30</text>\n<text text-anchor=\"start\" x=\"3861.5\" y=\"-260.2\" font-family=\"Helvetica,sans-Serif\" font-size=\"14.00\">value = [17, 13]</text>\n<text text-anchor=\"start\" x=\"3859.25\" y=\"-243.7\" font-family=\"Helvetica,sans-Serif\" font-size=\"14.00\">class = Member</text>\n</g>\n<!-- 100&#45;&gt;102 -->\n<g id=\"edge102\" class=\"edge\">\n<title>100&#45;&gt;102</title>\n<path fill=\"none\" stroke=\"black\" d=\"M3826.44,-362.65C3835.68,-353.8 3845.47,-344.43 3854.95,-335.35\"/>\n<polygon fill=\"black\" stroke=\"black\" points=\"3857.3,-337.94 3862.1,-328.5 3852.46,-332.89 3857.3,-337.94\"/>\n</g>\n<!-- 103 -->\n<g id=\"node104\" class=\"node\">\n<title>103</title>\n<path fill=\"#f5d0b5\" stroke=\"black\" d=\"M3888.5,-192.25C3888.5,-192.25 3795.25,-192.25 3795.25,-192.25 3789.25,-192.25 3783.25,-186.25 3783.25,-180.25 3783.25,-180.25 3783.25,-130.25 3783.25,-130.25 3783.25,-124.25 3789.25,-118.25 3795.25,-118.25 3795.25,-118.25 3888.5,-118.25 3888.5,-118.25 3894.5,-118.25 3900.5,-124.25 3900.5,-130.25 3900.5,-130.25 3900.5,-180.25 3900.5,-180.25 3900.5,-186.25 3894.5,-192.25 3888.5,-192.25\"/>\n<text text-anchor=\"start\" x=\"3792\" y=\"-174.95\" font-family=\"Helvetica,sans-Serif\" font-size=\"14.00\">entropy = 0.961</text>\n<text text-anchor=\"start\" x=\"3798.75\" y=\"-158.45\" font-family=\"Helvetica,sans-Serif\" font-size=\"14.00\">samples = 13</text>\n<text text-anchor=\"start\" x=\"3801.75\" y=\"-141.95\" font-family=\"Helvetica,sans-Serif\" font-size=\"14.00\">value = [8, 5]</text>\n<text text-anchor=\"start\" x=\"3791.25\" y=\"-125.45\" font-family=\"Helvetica,sans-Serif\" font-size=\"14.00\">class = Member</text>\n</g>\n<!-- 102&#45;&gt;103 -->\n<g id=\"edge103\" class=\"edge\">\n<title>102&#45;&gt;103</title>\n<path fill=\"none\" stroke=\"black\" d=\"M3885.52,-236.15C3879.51,-225.15 3873.06,-213.34 3867.01,-202.27\"/>\n<polygon fill=\"black\" stroke=\"black\" points=\"3870.19,-200.78 3862.32,-193.68 3864.04,-204.14 3870.19,-200.78\"/>\n</g>\n<!-- 104 -->\n<g id=\"node105\" class=\"node\">\n<title>104</title>\n<path fill=\"#fcf1e9\" stroke=\"black\" d=\"M4023.5,-192.25C4023.5,-192.25 3930.25,-192.25 3930.25,-192.25 3924.25,-192.25 3918.25,-186.25 3918.25,-180.25 3918.25,-180.25 3918.25,-130.25 3918.25,-130.25 3918.25,-124.25 3924.25,-118.25 3930.25,-118.25 3930.25,-118.25 4023.5,-118.25 4023.5,-118.25 4029.5,-118.25 4035.5,-124.25 4035.5,-130.25 4035.5,-130.25 4035.5,-180.25 4035.5,-180.25 4035.5,-186.25 4029.5,-192.25 4023.5,-192.25\"/>\n<text text-anchor=\"start\" x=\"3927\" y=\"-174.95\" font-family=\"Helvetica,sans-Serif\" font-size=\"14.00\">entropy = 0.998</text>\n<text text-anchor=\"start\" x=\"3933.75\" y=\"-158.45\" font-family=\"Helvetica,sans-Serif\" font-size=\"14.00\">samples = 17</text>\n<text text-anchor=\"start\" x=\"3936.75\" y=\"-141.95\" font-family=\"Helvetica,sans-Serif\" font-size=\"14.00\">value = [9, 8]</text>\n<text text-anchor=\"start\" x=\"3926.25\" y=\"-125.45\" font-family=\"Helvetica,sans-Serif\" font-size=\"14.00\">class = Member</text>\n</g>\n<!-- 102&#45;&gt;104 -->\n<g id=\"edge104\" class=\"edge\">\n<title>102&#45;&gt;104</title>\n<path fill=\"none\" stroke=\"black\" d=\"M3933.87,-236.15C3939.8,-225.15 3946.15,-213.34 3952.11,-202.27\"/>\n<polygon fill=\"black\" stroke=\"black\" points=\"3955.07,-204.15 3956.73,-193.69 3948.91,-200.84 3955.07,-204.15\"/>\n</g>\n<!-- 106 -->\n<g id=\"node107\" class=\"node\">\n<title>106</title>\n<path fill=\"#efb388\" stroke=\"black\" d=\"M3971.5,-445.25C3971.5,-445.25 3878.25,-445.25 3878.25,-445.25 3872.25,-445.25 3866.25,-439.25 3866.25,-433.25 3866.25,-433.25 3866.25,-383.25 3866.25,-383.25 3866.25,-377.25 3872.25,-371.25 3878.25,-371.25 3878.25,-371.25 3971.5,-371.25 3971.5,-371.25 3977.5,-371.25 3983.5,-377.25 3983.5,-383.25 3983.5,-383.25 3983.5,-433.25 3983.5,-433.25 3983.5,-439.25 3977.5,-445.25 3971.5,-445.25\"/>\n<text text-anchor=\"start\" x=\"3875\" y=\"-427.95\" font-family=\"Helvetica,sans-Serif\" font-size=\"14.00\">entropy = 0.863</text>\n<text text-anchor=\"start\" x=\"3885.88\" y=\"-411.45\" font-family=\"Helvetica,sans-Serif\" font-size=\"14.00\">samples = 7</text>\n<text text-anchor=\"start\" x=\"3884.75\" y=\"-394.95\" font-family=\"Helvetica,sans-Serif\" font-size=\"14.00\">value = [5, 2]</text>\n<text text-anchor=\"start\" x=\"3874.25\" y=\"-378.45\" font-family=\"Helvetica,sans-Serif\" font-size=\"14.00\">class = Member</text>\n</g>\n<!-- 105&#45;&gt;106 -->\n<g id=\"edge106\" class=\"edge\">\n<title>105&#45;&gt;106</title>\n<path fill=\"none\" stroke=\"black\" d=\"M3924.88,-489.15C3924.88,-478.6 3924.88,-467.31 3924.88,-456.63\"/>\n<polygon fill=\"black\" stroke=\"black\" points=\"3928.38,-456.87 3924.88,-446.87 3921.38,-456.87 3928.38,-456.87\"/>\n</g>\n<!-- 107 -->\n<g id=\"node108\" class=\"node\">\n<title>107</title>\n<path fill=\"#f8dbc6\" stroke=\"black\" d=\"M4106.5,-445.25C4106.5,-445.25 4013.25,-445.25 4013.25,-445.25 4007.25,-445.25 4001.25,-439.25 4001.25,-433.25 4001.25,-433.25 4001.25,-383.25 4001.25,-383.25 4001.25,-377.25 4007.25,-371.25 4013.25,-371.25 4013.25,-371.25 4106.5,-371.25 4106.5,-371.25 4112.5,-371.25 4118.5,-377.25 4118.5,-383.25 4118.5,-383.25 4118.5,-433.25 4118.5,-433.25 4118.5,-439.25 4112.5,-445.25 4106.5,-445.25\"/>\n<text text-anchor=\"start\" x=\"4014.12\" y=\"-427.95\" font-family=\"Helvetica,sans-Serif\" font-size=\"14.00\">entropy = 0.98</text>\n<text text-anchor=\"start\" x=\"4016.75\" y=\"-411.45\" font-family=\"Helvetica,sans-Serif\" font-size=\"14.00\">samples = 12</text>\n<text text-anchor=\"start\" x=\"4019.75\" y=\"-394.95\" font-family=\"Helvetica,sans-Serif\" font-size=\"14.00\">value = [7, 5]</text>\n<text text-anchor=\"start\" x=\"4009.25\" y=\"-378.45\" font-family=\"Helvetica,sans-Serif\" font-size=\"14.00\">class = Member</text>\n</g>\n<!-- 105&#45;&gt;107 -->\n<g id=\"edge107\" class=\"edge\">\n<title>105&#45;&gt;107</title>\n<path fill=\"none\" stroke=\"black\" d=\"M3973.23,-489.15C3986.02,-477.36 3999.8,-464.65 4012.53,-452.91\"/>\n<polygon fill=\"black\" stroke=\"black\" points=\"4014.63,-455.73 4019.61,-446.38 4009.89,-450.59 4014.63,-455.73\"/>\n</g>\n<!-- 109 -->\n<g id=\"node110\" class=\"node\">\n<title>109</title>\n<path fill=\"#efb082\" stroke=\"black\" d=\"M4444.5,-706.5C4444.5,-706.5 4351.25,-706.5 4351.25,-706.5 4345.25,-706.5 4339.25,-700.5 4339.25,-694.5 4339.25,-694.5 4339.25,-628 4339.25,-628 4339.25,-622 4345.25,-616 4351.25,-616 4351.25,-616 4444.5,-616 4444.5,-616 4450.5,-616 4456.5,-622 4456.5,-628 4456.5,-628 4456.5,-694.5 4456.5,-694.5 4456.5,-700.5 4450.5,-706.5 4444.5,-706.5\"/>\n<text text-anchor=\"start\" x=\"4354.75\" y=\"-689.2\" font-family=\"Helvetica,sans-Serif\" font-size=\"14.00\">Quantity ≤ 8.5</text>\n<text text-anchor=\"start\" x=\"4348\" y=\"-672.7\" font-family=\"Helvetica,sans-Serif\" font-size=\"14.00\">entropy = 0.842</text>\n<text text-anchor=\"start\" x=\"4354.75\" y=\"-656.2\" font-family=\"Helvetica,sans-Serif\" font-size=\"14.00\">samples = 37</text>\n<text text-anchor=\"start\" x=\"4349.5\" y=\"-639.7\" font-family=\"Helvetica,sans-Serif\" font-size=\"14.00\">value = [27, 10]</text>\n<text text-anchor=\"start\" x=\"4347.25\" y=\"-623.2\" font-family=\"Helvetica,sans-Serif\" font-size=\"14.00\">class = Member</text>\n</g>\n<!-- 108&#45;&gt;109 -->\n<g id=\"edge109\" class=\"edge\">\n<title>108&#45;&gt;109</title>\n<path fill=\"none\" stroke=\"black\" d=\"M4397.88,-742.15C4397.88,-734.47 4397.88,-726.39 4397.88,-718.44\"/>\n<polygon fill=\"black\" stroke=\"black\" points=\"4401.38,-718.47 4397.88,-708.47 4394.38,-718.47 4401.38,-718.47\"/>\n</g>\n<!-- 116 -->\n<g id=\"node117\" class=\"node\">\n<title>116</title>\n<path fill=\"#f5cfb4\" stroke=\"black\" d=\"M4646.5,-706.5C4646.5,-706.5 4553.25,-706.5 4553.25,-706.5 4547.25,-706.5 4541.25,-700.5 4541.25,-694.5 4541.25,-694.5 4541.25,-628 4541.25,-628 4541.25,-622 4547.25,-616 4553.25,-616 4553.25,-616 4646.5,-616 4646.5,-616 4652.5,-616 4658.5,-622 4658.5,-628 4658.5,-628 4658.5,-694.5 4658.5,-694.5 4658.5,-700.5 4652.5,-706.5 4646.5,-706.5\"/>\n<text text-anchor=\"start\" x=\"4558.25\" y=\"-689.2\" font-family=\"Helvetica,sans-Serif\" font-size=\"14.00\">Female ≤ 0.5</text>\n<text text-anchor=\"start\" x=\"4554.12\" y=\"-672.7\" font-family=\"Helvetica,sans-Serif\" font-size=\"14.00\">entropy = 0.96</text>\n<text text-anchor=\"start\" x=\"4556.75\" y=\"-656.2\" font-family=\"Helvetica,sans-Serif\" font-size=\"14.00\">samples = 34</text>\n<text text-anchor=\"start\" x=\"4551.5\" y=\"-639.7\" font-family=\"Helvetica,sans-Serif\" font-size=\"14.00\">value = [21, 13]</text>\n<text text-anchor=\"start\" x=\"4549.25\" y=\"-623.2\" font-family=\"Helvetica,sans-Serif\" font-size=\"14.00\">class = Member</text>\n</g>\n<!-- 108&#45;&gt;116 -->\n<g id=\"edge116\" class=\"edge\">\n<title>108&#45;&gt;116</title>\n<path fill=\"none\" stroke=\"black\" d=\"M4456.84,-750.4C4480.08,-736.09 4506.92,-719.54 4531.04,-704.68\"/>\n<polygon fill=\"black\" stroke=\"black\" points=\"4532.87,-707.66 4539.54,-699.43 4529.19,-701.7 4532.87,-707.66\"/>\n</g>\n<!-- 110 -->\n<g id=\"node111\" class=\"node\">\n<title>110</title>\n<path fill=\"#f3c6a5\" stroke=\"black\" d=\"M4376.5,-580C4376.5,-580 4283.25,-580 4283.25,-580 4277.25,-580 4271.25,-574 4271.25,-568 4271.25,-568 4271.25,-501.5 4271.25,-501.5 4271.25,-495.5 4277.25,-489.5 4283.25,-489.5 4283.25,-489.5 4376.5,-489.5 4376.5,-489.5 4382.5,-489.5 4388.5,-495.5 4388.5,-501.5 4388.5,-501.5 4388.5,-568 4388.5,-568 4388.5,-574 4382.5,-580 4376.5,-580\"/>\n<text text-anchor=\"start\" x=\"4288.25\" y=\"-562.7\" font-family=\"Helvetica,sans-Serif\" font-size=\"14.00\">Female ≤ 0.5</text>\n<text text-anchor=\"start\" x=\"4280\" y=\"-546.2\" font-family=\"Helvetica,sans-Serif\" font-size=\"14.00\">entropy = 0.937</text>\n<text text-anchor=\"start\" x=\"4286.75\" y=\"-529.7\" font-family=\"Helvetica,sans-Serif\" font-size=\"14.00\">samples = 17</text>\n<text text-anchor=\"start\" x=\"4285.62\" y=\"-513.2\" font-family=\"Helvetica,sans-Serif\" font-size=\"14.00\">value = [11, 6]</text>\n<text text-anchor=\"start\" x=\"4279.25\" y=\"-496.7\" font-family=\"Helvetica,sans-Serif\" font-size=\"14.00\">class = Member</text>\n</g>\n<!-- 109&#45;&gt;110 -->\n<g id=\"edge110\" class=\"edge\">\n<title>109&#45;&gt;110</title>\n<path fill=\"none\" stroke=\"black\" d=\"M4373.52,-615.65C4369.07,-607.52 4364.39,-598.95 4359.81,-590.55\"/>\n<polygon fill=\"black\" stroke=\"black\" points=\"4362.88,-588.88 4355.02,-581.78 4356.74,-592.24 4362.88,-588.88\"/>\n</g>\n<!-- 113 -->\n<g id=\"node114\" class=\"node\">\n<title>113</title>\n<path fill=\"#eca06a\" stroke=\"black\" d=\"M4511.5,-580C4511.5,-580 4418.25,-580 4418.25,-580 4412.25,-580 4406.25,-574 4406.25,-568 4406.25,-568 4406.25,-501.5 4406.25,-501.5 4406.25,-495.5 4412.25,-489.5 4418.25,-489.5 4418.25,-489.5 4511.5,-489.5 4511.5,-489.5 4517.5,-489.5 4523.5,-495.5 4523.5,-501.5 4523.5,-501.5 4523.5,-568 4523.5,-568 4523.5,-574 4517.5,-580 4511.5,-580\"/>\n<text text-anchor=\"start\" x=\"4423.25\" y=\"-562.7\" font-family=\"Helvetica,sans-Serif\" font-size=\"14.00\">Female ≤ 0.5</text>\n<text text-anchor=\"start\" x=\"4415\" y=\"-546.2\" font-family=\"Helvetica,sans-Serif\" font-size=\"14.00\">entropy = 0.722</text>\n<text text-anchor=\"start\" x=\"4421.75\" y=\"-529.7\" font-family=\"Helvetica,sans-Serif\" font-size=\"14.00\">samples = 20</text>\n<text text-anchor=\"start\" x=\"4420.62\" y=\"-513.2\" font-family=\"Helvetica,sans-Serif\" font-size=\"14.00\">value = [16, 4]</text>\n<text text-anchor=\"start\" x=\"4414.25\" y=\"-496.7\" font-family=\"Helvetica,sans-Serif\" font-size=\"14.00\">class = Member</text>\n</g>\n<!-- 109&#45;&gt;113 -->\n<g id=\"edge113\" class=\"edge\">\n<title>109&#45;&gt;113</title>\n<path fill=\"none\" stroke=\"black\" d=\"M4421.87,-615.65C4426.25,-607.52 4430.87,-598.95 4435.38,-590.55\"/>\n<polygon fill=\"black\" stroke=\"black\" points=\"4438.44,-592.25 4440.1,-581.79 4432.28,-588.93 4438.44,-592.25\"/>\n</g>\n<!-- 111 -->\n<g id=\"node112\" class=\"node\">\n<title>111</title>\n<path fill=\"#eca572\" stroke=\"black\" d=\"M4241.5,-445.25C4241.5,-445.25 4148.25,-445.25 4148.25,-445.25 4142.25,-445.25 4136.25,-439.25 4136.25,-433.25 4136.25,-433.25 4136.25,-383.25 4136.25,-383.25 4136.25,-377.25 4142.25,-371.25 4148.25,-371.25 4148.25,-371.25 4241.5,-371.25 4241.5,-371.25 4247.5,-371.25 4253.5,-377.25 4253.5,-383.25 4253.5,-383.25 4253.5,-433.25 4253.5,-433.25 4253.5,-439.25 4247.5,-445.25 4241.5,-445.25\"/>\n<text text-anchor=\"start\" x=\"4145\" y=\"-427.95\" font-family=\"Helvetica,sans-Serif\" font-size=\"14.00\">entropy = 0.764</text>\n<text text-anchor=\"start\" x=\"4155.88\" y=\"-411.45\" font-family=\"Helvetica,sans-Serif\" font-size=\"14.00\">samples = 9</text>\n<text text-anchor=\"start\" x=\"4154.75\" y=\"-394.95\" font-family=\"Helvetica,sans-Serif\" font-size=\"14.00\">value = [7, 2]</text>\n<text text-anchor=\"start\" x=\"4144.25\" y=\"-378.45\" font-family=\"Helvetica,sans-Serif\" font-size=\"14.00\">class = Member</text>\n</g>\n<!-- 110&#45;&gt;111 -->\n<g id=\"edge111\" class=\"edge\">\n<title>110&#45;&gt;111</title>\n<path fill=\"none\" stroke=\"black\" d=\"M4281.52,-489.15C4268.73,-477.36 4254.95,-464.65 4242.22,-452.91\"/>\n<polygon fill=\"black\" stroke=\"black\" points=\"4244.86,-450.59 4235.14,-446.38 4240.12,-455.73 4244.86,-450.59\"/>\n</g>\n<!-- 112 -->\n<g id=\"node113\" class=\"node\">\n<title>112</title>\n<path fill=\"#ffffff\" stroke=\"black\" d=\"M4376.5,-445.25C4376.5,-445.25 4283.25,-445.25 4283.25,-445.25 4277.25,-445.25 4271.25,-439.25 4271.25,-433.25 4271.25,-433.25 4271.25,-383.25 4271.25,-383.25 4271.25,-377.25 4277.25,-371.25 4283.25,-371.25 4283.25,-371.25 4376.5,-371.25 4376.5,-371.25 4382.5,-371.25 4388.5,-377.25 4388.5,-383.25 4388.5,-383.25 4388.5,-433.25 4388.5,-433.25 4388.5,-439.25 4382.5,-445.25 4376.5,-445.25\"/>\n<text text-anchor=\"start\" x=\"4288.25\" y=\"-427.95\" font-family=\"Helvetica,sans-Serif\" font-size=\"14.00\">entropy = 1.0</text>\n<text text-anchor=\"start\" x=\"4290.88\" y=\"-411.45\" font-family=\"Helvetica,sans-Serif\" font-size=\"14.00\">samples = 8</text>\n<text text-anchor=\"start\" x=\"4289.75\" y=\"-394.95\" font-family=\"Helvetica,sans-Serif\" font-size=\"14.00\">value = [4, 4]</text>\n<text text-anchor=\"start\" x=\"4279.25\" y=\"-378.45\" font-family=\"Helvetica,sans-Serif\" font-size=\"14.00\">class = Member</text>\n</g>\n<!-- 110&#45;&gt;112 -->\n<g id=\"edge112\" class=\"edge\">\n<title>110&#45;&gt;112</title>\n<path fill=\"none\" stroke=\"black\" d=\"M4329.88,-489.15C4329.88,-478.6 4329.88,-467.31 4329.88,-456.63\"/>\n<polygon fill=\"black\" stroke=\"black\" points=\"4333.38,-456.87 4329.88,-446.87 4326.38,-456.87 4333.38,-456.87\"/>\n</g>\n<!-- 114 -->\n<g id=\"node115\" class=\"node\">\n<title>114</title>\n<path fill=\"#e9965a\" stroke=\"black\" d=\"M4511.5,-445.25C4511.5,-445.25 4418.25,-445.25 4418.25,-445.25 4412.25,-445.25 4406.25,-439.25 4406.25,-433.25 4406.25,-433.25 4406.25,-383.25 4406.25,-383.25 4406.25,-377.25 4412.25,-371.25 4418.25,-371.25 4418.25,-371.25 4511.5,-371.25 4511.5,-371.25 4517.5,-371.25 4523.5,-377.25 4523.5,-383.25 4523.5,-383.25 4523.5,-433.25 4523.5,-433.25 4523.5,-439.25 4517.5,-445.25 4511.5,-445.25\"/>\n<text text-anchor=\"start\" x=\"4415\" y=\"-427.95\" font-family=\"Helvetica,sans-Serif\" font-size=\"14.00\">entropy = 0.592</text>\n<text text-anchor=\"start\" x=\"4425.88\" y=\"-411.45\" font-family=\"Helvetica,sans-Serif\" font-size=\"14.00\">samples = 7</text>\n<text text-anchor=\"start\" x=\"4424.75\" y=\"-394.95\" font-family=\"Helvetica,sans-Serif\" font-size=\"14.00\">value = [6, 1]</text>\n<text text-anchor=\"start\" x=\"4414.25\" y=\"-378.45\" font-family=\"Helvetica,sans-Serif\" font-size=\"14.00\">class = Member</text>\n</g>\n<!-- 113&#45;&gt;114 -->\n<g id=\"edge114\" class=\"edge\">\n<title>113&#45;&gt;114</title>\n<path fill=\"none\" stroke=\"black\" d=\"M4464.88,-489.15C4464.88,-478.6 4464.88,-467.31 4464.88,-456.63\"/>\n<polygon fill=\"black\" stroke=\"black\" points=\"4468.38,-456.87 4464.88,-446.87 4461.38,-456.87 4468.38,-456.87\"/>\n</g>\n<!-- 115 -->\n<g id=\"node116\" class=\"node\">\n<title>115</title>\n<path fill=\"#eda774\" stroke=\"black\" d=\"M4646.5,-445.25C4646.5,-445.25 4553.25,-445.25 4553.25,-445.25 4547.25,-445.25 4541.25,-439.25 4541.25,-433.25 4541.25,-433.25 4541.25,-383.25 4541.25,-383.25 4541.25,-377.25 4547.25,-371.25 4553.25,-371.25 4553.25,-371.25 4646.5,-371.25 4646.5,-371.25 4652.5,-371.25 4658.5,-377.25 4658.5,-383.25 4658.5,-383.25 4658.5,-433.25 4658.5,-433.25 4658.5,-439.25 4652.5,-445.25 4646.5,-445.25\"/>\n<text text-anchor=\"start\" x=\"4550\" y=\"-427.95\" font-family=\"Helvetica,sans-Serif\" font-size=\"14.00\">entropy = 0.779</text>\n<text text-anchor=\"start\" x=\"4556.75\" y=\"-411.45\" font-family=\"Helvetica,sans-Serif\" font-size=\"14.00\">samples = 13</text>\n<text text-anchor=\"start\" x=\"4555.62\" y=\"-394.95\" font-family=\"Helvetica,sans-Serif\" font-size=\"14.00\">value = [10, 3]</text>\n<text text-anchor=\"start\" x=\"4549.25\" y=\"-378.45\" font-family=\"Helvetica,sans-Serif\" font-size=\"14.00\">class = Member</text>\n</g>\n<!-- 113&#45;&gt;115 -->\n<g id=\"edge115\" class=\"edge\">\n<title>113&#45;&gt;115</title>\n<path fill=\"none\" stroke=\"black\" d=\"M4513.23,-489.15C4526.02,-477.36 4539.8,-464.65 4552.53,-452.91\"/>\n<polygon fill=\"black\" stroke=\"black\" points=\"4554.63,-455.73 4559.61,-446.38 4549.89,-450.59 4554.63,-455.73\"/>\n</g>\n<!-- 117 -->\n<g id=\"node118\" class=\"node\">\n<title>117</title>\n<path fill=\"#fcefe6\" stroke=\"black\" d=\"M4646.5,-571.75C4646.5,-571.75 4553.25,-571.75 4553.25,-571.75 4547.25,-571.75 4541.25,-565.75 4541.25,-559.75 4541.25,-559.75 4541.25,-509.75 4541.25,-509.75 4541.25,-503.75 4547.25,-497.75 4553.25,-497.75 4553.25,-497.75 4646.5,-497.75 4646.5,-497.75 4652.5,-497.75 4658.5,-503.75 4658.5,-509.75 4658.5,-509.75 4658.5,-559.75 4658.5,-559.75 4658.5,-565.75 4652.5,-571.75 4646.5,-571.75\"/>\n<text text-anchor=\"start\" x=\"4550\" y=\"-554.45\" font-family=\"Helvetica,sans-Serif\" font-size=\"14.00\">entropy = 0.997</text>\n<text text-anchor=\"start\" x=\"4556.75\" y=\"-537.95\" font-family=\"Helvetica,sans-Serif\" font-size=\"14.00\">samples = 15</text>\n<text text-anchor=\"start\" x=\"4559.75\" y=\"-521.45\" font-family=\"Helvetica,sans-Serif\" font-size=\"14.00\">value = [8, 7]</text>\n<text text-anchor=\"start\" x=\"4549.25\" y=\"-504.95\" font-family=\"Helvetica,sans-Serif\" font-size=\"14.00\">class = Member</text>\n</g>\n<!-- 116&#45;&gt;117 -->\n<g id=\"edge117\" class=\"edge\">\n<title>116&#45;&gt;117</title>\n<path fill=\"none\" stroke=\"black\" d=\"M4599.88,-615.65C4599.88,-605.1 4599.88,-593.81 4599.88,-583.13\"/>\n<polygon fill=\"black\" stroke=\"black\" points=\"4603.38,-583.37 4599.88,-573.37 4596.38,-583.37 4603.38,-583.37\"/>\n</g>\n<!-- 118 -->\n<g id=\"node119\" class=\"node\">\n<title>118</title>\n<path fill=\"#f1bb94\" stroke=\"black\" d=\"M4781.5,-571.75C4781.5,-571.75 4688.25,-571.75 4688.25,-571.75 4682.25,-571.75 4676.25,-565.75 4676.25,-559.75 4676.25,-559.75 4676.25,-509.75 4676.25,-509.75 4676.25,-503.75 4682.25,-497.75 4688.25,-497.75 4688.25,-497.75 4781.5,-497.75 4781.5,-497.75 4787.5,-497.75 4793.5,-503.75 4793.5,-509.75 4793.5,-509.75 4793.5,-559.75 4793.5,-559.75 4793.5,-565.75 4787.5,-571.75 4781.5,-571.75\"/>\n<text text-anchor=\"start\" x=\"4693.25\" y=\"-554.45\" font-family=\"Helvetica,sans-Serif\" font-size=\"14.00\">entropy = 0.9</text>\n<text text-anchor=\"start\" x=\"4691.75\" y=\"-537.95\" font-family=\"Helvetica,sans-Serif\" font-size=\"14.00\">samples = 19</text>\n<text text-anchor=\"start\" x=\"4690.62\" y=\"-521.45\" font-family=\"Helvetica,sans-Serif\" font-size=\"14.00\">value = [13, 6]</text>\n<text text-anchor=\"start\" x=\"4684.25\" y=\"-504.95\" font-family=\"Helvetica,sans-Serif\" font-size=\"14.00\">class = Member</text>\n</g>\n<!-- 116&#45;&gt;118 -->\n<g id=\"edge118\" class=\"edge\">\n<title>116&#45;&gt;118</title>\n<path fill=\"none\" stroke=\"black\" d=\"M4648.23,-615.65C4661.02,-603.86 4674.8,-591.15 4687.53,-579.41\"/>\n<polygon fill=\"black\" stroke=\"black\" points=\"4689.63,-582.23 4694.61,-572.88 4684.89,-577.09 4689.63,-582.23\"/>\n</g>\n</g>\n</svg>\n",
      "text/plain": "<graphviz.sources.Source at 0x29063a818b0>"
     },
     "execution_count": 44,
     "metadata": {},
     "output_type": "execute_result"
    }
   ],
   "source": [
    "# Create dot file\n",
    "dot_data = tree.export_graphviz(fullmodel, feature_names=features, class_names\n",
    "=target_names,filled = True, rounded=True, special_characters=True)\n",
    "\n",
    "# Transform dot file to graph\n",
    "graph = graphviz.Source(dot_data)\n",
    "graph"
   ]
  },
  {
   "cell_type": "code",
   "execution_count": 45,
   "metadata": {
    "ExecuteTime": {
     "end_time": "2024-02-23T05:26:19.610627200Z",
     "start_time": "2024-02-23T05:26:19.558711500Z"
    }
   },
   "outputs": [
    {
     "name": "stdout",
     "output_type": "stream",
     "text": [
      "Help on function export_graphviz in module sklearn.tree._export:\n",
      "\n",
      "export_graphviz(decision_tree, out_file=None, *, max_depth=None, feature_names=None, class_names=None, label='all', filled=False, leaves_parallel=False, impurity=True, node_ids=False, proportion=False, rotate=False, rounded=False, special_characters=False, precision=3, fontname='helvetica')\n",
      "    Export a decision tree in DOT format.\n",
      "    \n",
      "    This function generates a GraphViz representation of the decision tree,\n",
      "    which is then written into `out_file`. Once exported, graphical renderings\n",
      "    can be generated using, for example::\n",
      "    \n",
      "        $ dot -Tps tree.dot -o tree.ps      (PostScript format)\n",
      "        $ dot -Tpng tree.dot -o tree.png    (PNG format)\n",
      "    \n",
      "    The sample counts that are shown are weighted with any sample_weights that\n",
      "    might be present.\n",
      "    \n",
      "    Read more in the :ref:`User Guide <tree>`.\n",
      "    \n",
      "    Parameters\n",
      "    ----------\n",
      "    decision_tree : object\n",
      "        The decision tree estimator to be exported to GraphViz.\n",
      "    \n",
      "    out_file : object or str, default=None\n",
      "        Handle or name of the output file. If ``None``, the result is\n",
      "        returned as a string.\n",
      "    \n",
      "        .. versionchanged:: 0.20\n",
      "            Default of out_file changed from \"tree.dot\" to None.\n",
      "    \n",
      "    max_depth : int, default=None\n",
      "        The maximum depth of the representation. If None, the tree is fully\n",
      "        generated.\n",
      "    \n",
      "    feature_names : array-like of shape (n_features,), default=None\n",
      "        An array containing the feature names.\n",
      "        If None, generic names will be used (\"x[0]\", \"x[1]\", ...).\n",
      "    \n",
      "    class_names : array-like of shape (n_classes,) or bool, default=None\n",
      "        Names of each of the target classes in ascending numerical order.\n",
      "        Only relevant for classification and not supported for multi-output.\n",
      "        If ``True``, shows a symbolic representation of the class name.\n",
      "    \n",
      "    label : {'all', 'root', 'none'}, default='all'\n",
      "        Whether to show informative labels for impurity, etc.\n",
      "        Options include 'all' to show at every node, 'root' to show only at\n",
      "        the top root node, or 'none' to not show at any node.\n",
      "    \n",
      "    filled : bool, default=False\n",
      "        When set to ``True``, paint nodes to indicate majority class for\n",
      "        classification, extremity of values for regression, or purity of node\n",
      "        for multi-output.\n",
      "    \n",
      "    leaves_parallel : bool, default=False\n",
      "        When set to ``True``, draw all leaf nodes at the bottom of the tree.\n",
      "    \n",
      "    impurity : bool, default=True\n",
      "        When set to ``True``, show the impurity at each node.\n",
      "    \n",
      "    node_ids : bool, default=False\n",
      "        When set to ``True``, show the ID number on each node.\n",
      "    \n",
      "    proportion : bool, default=False\n",
      "        When set to ``True``, change the display of 'values' and/or 'samples'\n",
      "        to be proportions and percentages respectively.\n",
      "    \n",
      "    rotate : bool, default=False\n",
      "        When set to ``True``, orient tree left to right rather than top-down.\n",
      "    \n",
      "    rounded : bool, default=False\n",
      "        When set to ``True``, draw node boxes with rounded corners.\n",
      "    \n",
      "    special_characters : bool, default=False\n",
      "        When set to ``False``, ignore special characters for PostScript\n",
      "        compatibility.\n",
      "    \n",
      "    precision : int, default=3\n",
      "        Number of digits of precision for floating point in the values of\n",
      "        impurity, threshold and value attributes of each node.\n",
      "    \n",
      "    fontname : str, default='helvetica'\n",
      "        Name of font used to render text.\n",
      "    \n",
      "    Returns\n",
      "    -------\n",
      "    dot_data : str\n",
      "        String representation of the input tree in GraphViz dot format.\n",
      "        Only returned if ``out_file`` is None.\n",
      "    \n",
      "        .. versionadded:: 0.18\n",
      "    \n",
      "    Examples\n",
      "    --------\n",
      "    >>> from sklearn.datasets import load_iris\n",
      "    >>> from sklearn import tree\n",
      "    \n",
      "    >>> clf = tree.DecisionTreeClassifier()\n",
      "    >>> iris = load_iris()\n",
      "    \n",
      "    >>> clf = clf.fit(iris.data, iris.target)\n",
      "    >>> tree.export_graphviz(clf)\n",
      "    'digraph Tree {...\n"
     ]
    }
   ],
   "source": [
    "help(export_graphviz)"
   ]
  },
  {
   "cell_type": "code",
   "execution_count": 46,
   "metadata": {
    "ExecuteTime": {
     "end_time": "2024-02-23T05:26:35.226113400Z",
     "start_time": "2024-02-23T05:26:34.921017200Z"
    }
   },
   "outputs": [
    {
     "data": {
      "text/plain": "'fulltree.pdf'"
     },
     "execution_count": 46,
     "metadata": {},
     "output_type": "execute_result"
    }
   ],
   "source": [
    "graph.render(\"fulltree\")"
   ]
  },
  {
   "cell_type": "markdown",
   "metadata": {},
   "source": [
    "## Decision Tree Regression"
   ]
  },
  {
   "cell_type": "markdown",
   "metadata": {},
   "source": [
    "### Define Target and Features"
   ]
  },
  {
   "cell_type": "code",
   "execution_count": 63,
   "metadata": {
    "ExecuteTime": {
     "end_time": "2024-02-23T05:51:23.476777600Z",
     "start_time": "2024-02-23T05:51:23.398899700Z"
    }
   },
   "outputs": [],
   "source": [
    "# Target is continuous variable\n",
    "# Define independent variables / attirbutes / features\n",
    "\n",
    "features2 = ['Unit price','Quantity','Female', 'Cash','Credit card'] "
   ]
  },
  {
   "cell_type": "code",
   "execution_count": 64,
   "metadata": {
    "ExecuteTime": {
     "end_time": "2024-02-23T05:51:24.823844400Z",
     "start_time": "2024-02-23T05:51:24.776999700Z"
    }
   },
   "outputs": [],
   "source": [
    "# Define the target variable\n",
    "\n",
    "target2 = ['gross income']"
   ]
  },
  {
   "cell_type": "code",
   "execution_count": 65,
   "metadata": {
    "ExecuteTime": {
     "end_time": "2024-02-23T05:51:25.502132500Z",
     "start_time": "2024-02-23T05:51:25.450089400Z"
    }
   },
   "outputs": [],
   "source": [
    "# Get defined dataset\n",
    "\n",
    "X2 = dfnew2 [features2]\n",
    "y2 = dfnew2 [target2]"
   ]
  },
  {
   "cell_type": "markdown",
   "metadata": {},
   "source": [
    "### Split Data into Training and Testing Sets"
   ]
  },
  {
   "cell_type": "code",
   "execution_count": 66,
   "metadata": {
    "ExecuteTime": {
     "end_time": "2024-02-23T05:51:27.413588100Z",
     "start_time": "2024-02-23T05:51:27.254640900Z"
    }
   },
   "outputs": [],
   "source": [
    "# from sklearn.model_selection import train_test_split\n",
    "# split data into 70% and 30%, put 30% in testing\n",
    "\n",
    "X_train2, X_test2, y_train2, y_test2 = train_test_split(X2, y2, test_size=0.3, random_state = 10)"
   ]
  },
  {
   "cell_type": "code",
   "execution_count": 115,
   "metadata": {
    "ExecuteTime": {
     "end_time": "2024-02-23T05:56:50.379724900Z",
     "start_time": "2024-02-23T05:56:50.258378100Z"
    }
   },
   "outputs": [],
   "source": [
    "# import DecisionTreeRegressor and define full-grown tree model\n",
    "# import the regressor\n",
    "\n",
    "from sklearn.tree import DecisionTreeRegressor\n",
    "fullmodel2 = DecisionTreeRegressor(criterion='squared_error', min_impurity_decrease=0.005)"
   ]
  },
  {
   "cell_type": "code",
   "execution_count": 116,
   "metadata": {
    "ExecuteTime": {
     "end_time": "2024-02-23T05:56:52.114156800Z",
     "start_time": "2024-02-23T05:56:52.052374500Z"
    }
   },
   "outputs": [
    {
     "name": "stdout",
     "output_type": "stream",
     "text": [
      "Help on class DecisionTreeRegressor in module sklearn.tree._classes:\n",
      "\n",
      "class DecisionTreeRegressor(sklearn.base.RegressorMixin, BaseDecisionTree)\n",
      " |  DecisionTreeRegressor(*, criterion='squared_error', splitter='best', max_depth=None, min_samples_split=2, min_samples_leaf=1, min_weight_fraction_leaf=0.0, max_features=None, random_state=None, max_leaf_nodes=None, min_impurity_decrease=0.0, ccp_alpha=0.0, monotonic_cst=None)\n",
      " |  \n",
      " |  A decision tree regressor.\n",
      " |  \n",
      " |  Read more in the :ref:`User Guide <tree>`.\n",
      " |  \n",
      " |  Parameters\n",
      " |  ----------\n",
      " |  criterion : {\"squared_error\", \"friedman_mse\", \"absolute_error\",             \"poisson\"}, default=\"squared_error\"\n",
      " |      The function to measure the quality of a split. Supported criteria\n",
      " |      are \"squared_error\" for the mean squared error, which is equal to\n",
      " |      variance reduction as feature selection criterion and minimizes the L2\n",
      " |      loss using the mean of each terminal node, \"friedman_mse\", which uses\n",
      " |      mean squared error with Friedman's improvement score for potential\n",
      " |      splits, \"absolute_error\" for the mean absolute error, which minimizes\n",
      " |      the L1 loss using the median of each terminal node, and \"poisson\" which\n",
      " |      uses reduction in Poisson deviance to find splits.\n",
      " |  \n",
      " |      .. versionadded:: 0.18\n",
      " |         Mean Absolute Error (MAE) criterion.\n",
      " |  \n",
      " |      .. versionadded:: 0.24\n",
      " |          Poisson deviance criterion.\n",
      " |  \n",
      " |  splitter : {\"best\", \"random\"}, default=\"best\"\n",
      " |      The strategy used to choose the split at each node. Supported\n",
      " |      strategies are \"best\" to choose the best split and \"random\" to choose\n",
      " |      the best random split.\n",
      " |  \n",
      " |  max_depth : int, default=None\n",
      " |      The maximum depth of the tree. If None, then nodes are expanded until\n",
      " |      all leaves are pure or until all leaves contain less than\n",
      " |      min_samples_split samples.\n",
      " |  \n",
      " |  min_samples_split : int or float, default=2\n",
      " |      The minimum number of samples required to split an internal node:\n",
      " |  \n",
      " |      - If int, then consider `min_samples_split` as the minimum number.\n",
      " |      - If float, then `min_samples_split` is a fraction and\n",
      " |        `ceil(min_samples_split * n_samples)` are the minimum\n",
      " |        number of samples for each split.\n",
      " |  \n",
      " |      .. versionchanged:: 0.18\n",
      " |         Added float values for fractions.\n",
      " |  \n",
      " |  min_samples_leaf : int or float, default=1\n",
      " |      The minimum number of samples required to be at a leaf node.\n",
      " |      A split point at any depth will only be considered if it leaves at\n",
      " |      least ``min_samples_leaf`` training samples in each of the left and\n",
      " |      right branches.  This may have the effect of smoothing the model,\n",
      " |      especially in regression.\n",
      " |  \n",
      " |      - If int, then consider `min_samples_leaf` as the minimum number.\n",
      " |      - If float, then `min_samples_leaf` is a fraction and\n",
      " |        `ceil(min_samples_leaf * n_samples)` are the minimum\n",
      " |        number of samples for each node.\n",
      " |  \n",
      " |      .. versionchanged:: 0.18\n",
      " |         Added float values for fractions.\n",
      " |  \n",
      " |  min_weight_fraction_leaf : float, default=0.0\n",
      " |      The minimum weighted fraction of the sum total of weights (of all\n",
      " |      the input samples) required to be at a leaf node. Samples have\n",
      " |      equal weight when sample_weight is not provided.\n",
      " |  \n",
      " |  max_features : int, float or {\"sqrt\", \"log2\"}, default=None\n",
      " |      The number of features to consider when looking for the best split:\n",
      " |  \n",
      " |      - If int, then consider `max_features` features at each split.\n",
      " |      - If float, then `max_features` is a fraction and\n",
      " |        `max(1, int(max_features * n_features_in_))` features are considered at each\n",
      " |        split.\n",
      " |      - If \"sqrt\", then `max_features=sqrt(n_features)`.\n",
      " |      - If \"log2\", then `max_features=log2(n_features)`.\n",
      " |      - If None, then `max_features=n_features`.\n",
      " |  \n",
      " |      Note: the search for a split does not stop until at least one\n",
      " |      valid partition of the node samples is found, even if it requires to\n",
      " |      effectively inspect more than ``max_features`` features.\n",
      " |  \n",
      " |  random_state : int, RandomState instance or None, default=None\n",
      " |      Controls the randomness of the estimator. The features are always\n",
      " |      randomly permuted at each split, even if ``splitter`` is set to\n",
      " |      ``\"best\"``. When ``max_features < n_features``, the algorithm will\n",
      " |      select ``max_features`` at random at each split before finding the best\n",
      " |      split among them. But the best found split may vary across different\n",
      " |      runs, even if ``max_features=n_features``. That is the case, if the\n",
      " |      improvement of the criterion is identical for several splits and one\n",
      " |      split has to be selected at random. To obtain a deterministic behaviour\n",
      " |      during fitting, ``random_state`` has to be fixed to an integer.\n",
      " |      See :term:`Glossary <random_state>` for details.\n",
      " |  \n",
      " |  max_leaf_nodes : int, default=None\n",
      " |      Grow a tree with ``max_leaf_nodes`` in best-first fashion.\n",
      " |      Best nodes are defined as relative reduction in impurity.\n",
      " |      If None then unlimited number of leaf nodes.\n",
      " |  \n",
      " |  min_impurity_decrease : float, default=0.0\n",
      " |      A node will be split if this split induces a decrease of the impurity\n",
      " |      greater than or equal to this value.\n",
      " |  \n",
      " |      The weighted impurity decrease equation is the following::\n",
      " |  \n",
      " |          N_t / N * (impurity - N_t_R / N_t * right_impurity\n",
      " |                              - N_t_L / N_t * left_impurity)\n",
      " |  \n",
      " |      where ``N`` is the total number of samples, ``N_t`` is the number of\n",
      " |      samples at the current node, ``N_t_L`` is the number of samples in the\n",
      " |      left child, and ``N_t_R`` is the number of samples in the right child.\n",
      " |  \n",
      " |      ``N``, ``N_t``, ``N_t_R`` and ``N_t_L`` all refer to the weighted sum,\n",
      " |      if ``sample_weight`` is passed.\n",
      " |  \n",
      " |      .. versionadded:: 0.19\n",
      " |  \n",
      " |  ccp_alpha : non-negative float, default=0.0\n",
      " |      Complexity parameter used for Minimal Cost-Complexity Pruning. The\n",
      " |      subtree with the largest cost complexity that is smaller than\n",
      " |      ``ccp_alpha`` will be chosen. By default, no pruning is performed. See\n",
      " |      :ref:`minimal_cost_complexity_pruning` for details.\n",
      " |  \n",
      " |      .. versionadded:: 0.22\n",
      " |  \n",
      " |  monotonic_cst : array-like of int of shape (n_features), default=None\n",
      " |      Indicates the monotonicity constraint to enforce on each feature.\n",
      " |        - 1: monotonic increase\n",
      " |        - 0: no constraint\n",
      " |        - -1: monotonic decrease\n",
      " |  \n",
      " |      If monotonic_cst is None, no constraints are applied.\n",
      " |  \n",
      " |      Monotonicity constraints are not supported for:\n",
      " |        - multioutput regressions (i.e. when `n_outputs_ > 1`),\n",
      " |        - regressions trained on data with missing values.\n",
      " |  \n",
      " |      Read more in the :ref:`User Guide <monotonic_cst_gbdt>`.\n",
      " |  \n",
      " |      .. versionadded:: 1.4\n",
      " |  \n",
      " |  Attributes\n",
      " |  ----------\n",
      " |  feature_importances_ : ndarray of shape (n_features,)\n",
      " |      The feature importances.\n",
      " |      The higher, the more important the feature.\n",
      " |      The importance of a feature is computed as the\n",
      " |      (normalized) total reduction of the criterion brought\n",
      " |      by that feature. It is also known as the Gini importance [4]_.\n",
      " |  \n",
      " |      Warning: impurity-based feature importances can be misleading for\n",
      " |      high cardinality features (many unique values). See\n",
      " |      :func:`sklearn.inspection.permutation_importance` as an alternative.\n",
      " |  \n",
      " |  max_features_ : int\n",
      " |      The inferred value of max_features.\n",
      " |  \n",
      " |  n_features_in_ : int\n",
      " |      Number of features seen during :term:`fit`.\n",
      " |  \n",
      " |      .. versionadded:: 0.24\n",
      " |  \n",
      " |  feature_names_in_ : ndarray of shape (`n_features_in_`,)\n",
      " |      Names of features seen during :term:`fit`. Defined only when `X`\n",
      " |      has feature names that are all strings.\n",
      " |  \n",
      " |      .. versionadded:: 1.0\n",
      " |  \n",
      " |  n_outputs_ : int\n",
      " |      The number of outputs when ``fit`` is performed.\n",
      " |  \n",
      " |  tree_ : Tree instance\n",
      " |      The underlying Tree object. Please refer to\n",
      " |      ``help(sklearn.tree._tree.Tree)`` for attributes of Tree object and\n",
      " |      :ref:`sphx_glr_auto_examples_tree_plot_unveil_tree_structure.py`\n",
      " |      for basic usage of these attributes.\n",
      " |  \n",
      " |  See Also\n",
      " |  --------\n",
      " |  DecisionTreeClassifier : A decision tree classifier.\n",
      " |  \n",
      " |  Notes\n",
      " |  -----\n",
      " |  The default values for the parameters controlling the size of the trees\n",
      " |  (e.g. ``max_depth``, ``min_samples_leaf``, etc.) lead to fully grown and\n",
      " |  unpruned trees which can potentially be very large on some data sets. To\n",
      " |  reduce memory consumption, the complexity and size of the trees should be\n",
      " |  controlled by setting those parameter values.\n",
      " |  \n",
      " |  References\n",
      " |  ----------\n",
      " |  \n",
      " |  .. [1] https://en.wikipedia.org/wiki/Decision_tree_learning\n",
      " |  \n",
      " |  .. [2] L. Breiman, J. Friedman, R. Olshen, and C. Stone, \"Classification\n",
      " |         and Regression Trees\", Wadsworth, Belmont, CA, 1984.\n",
      " |  \n",
      " |  .. [3] T. Hastie, R. Tibshirani and J. Friedman. \"Elements of Statistical\n",
      " |         Learning\", Springer, 2009.\n",
      " |  \n",
      " |  .. [4] L. Breiman, and A. Cutler, \"Random Forests\",\n",
      " |         https://www.stat.berkeley.edu/~breiman/RandomForests/cc_home.htm\n",
      " |  \n",
      " |  Examples\n",
      " |  --------\n",
      " |  >>> from sklearn.datasets import load_diabetes\n",
      " |  >>> from sklearn.model_selection import cross_val_score\n",
      " |  >>> from sklearn.tree import DecisionTreeRegressor\n",
      " |  >>> X, y = load_diabetes(return_X_y=True)\n",
      " |  >>> regressor = DecisionTreeRegressor(random_state=0)\n",
      " |  >>> cross_val_score(regressor, X, y, cv=10)\n",
      " |  ...                    # doctest: +SKIP\n",
      " |  ...\n",
      " |  array([-0.39..., -0.46...,  0.02...,  0.06..., -0.50...,\n",
      " |         0.16...,  0.11..., -0.73..., -0.30..., -0.00...])\n",
      " |  \n",
      " |  Method resolution order:\n",
      " |      DecisionTreeRegressor\n",
      " |      sklearn.base.RegressorMixin\n",
      " |      BaseDecisionTree\n",
      " |      sklearn.base.MultiOutputMixin\n",
      " |      sklearn.base.BaseEstimator\n",
      " |      sklearn.utils._estimator_html_repr._HTMLDocumentationLinkMixin\n",
      " |      sklearn.utils._metadata_requests._MetadataRequester\n",
      " |      builtins.object\n",
      " |  \n",
      " |  Methods defined here:\n",
      " |  \n",
      " |  __init__(self, *, criterion='squared_error', splitter='best', max_depth=None, min_samples_split=2, min_samples_leaf=1, min_weight_fraction_leaf=0.0, max_features=None, random_state=None, max_leaf_nodes=None, min_impurity_decrease=0.0, ccp_alpha=0.0, monotonic_cst=None)\n",
      " |      Initialize self.  See help(type(self)) for accurate signature.\n",
      " |  \n",
      " |  fit(self, X, y, sample_weight=None, check_input=True)\n",
      " |      Build a decision tree regressor from the training set (X, y).\n",
      " |      \n",
      " |      Parameters\n",
      " |      ----------\n",
      " |      X : {array-like, sparse matrix} of shape (n_samples, n_features)\n",
      " |          The training input samples. Internally, it will be converted to\n",
      " |          ``dtype=np.float32`` and if a sparse matrix is provided\n",
      " |          to a sparse ``csc_matrix``.\n",
      " |      \n",
      " |      y : array-like of shape (n_samples,) or (n_samples, n_outputs)\n",
      " |          The target values (real numbers). Use ``dtype=np.float64`` and\n",
      " |          ``order='C'`` for maximum efficiency.\n",
      " |      \n",
      " |      sample_weight : array-like of shape (n_samples,), default=None\n",
      " |          Sample weights. If None, then samples are equally weighted. Splits\n",
      " |          that would create child nodes with net zero or negative weight are\n",
      " |          ignored while searching for a split in each node.\n",
      " |      \n",
      " |      check_input : bool, default=True\n",
      " |          Allow to bypass several input checking.\n",
      " |          Don't use this parameter unless you know what you're doing.\n",
      " |      \n",
      " |      Returns\n",
      " |      -------\n",
      " |      self : DecisionTreeRegressor\n",
      " |          Fitted estimator.\n",
      " |  \n",
      " |  set_fit_request(self: sklearn.tree._classes.DecisionTreeRegressor, *, check_input: Union[bool, NoneType, str] = '$UNCHANGED$', sample_weight: Union[bool, NoneType, str] = '$UNCHANGED$') -> sklearn.tree._classes.DecisionTreeRegressor\n",
      " |      Request metadata passed to the ``fit`` method.\n",
      " |      \n",
      " |      Note that this method is only relevant if\n",
      " |      ``enable_metadata_routing=True`` (see :func:`sklearn.set_config`).\n",
      " |      Please see :ref:`User Guide <metadata_routing>` on how the routing\n",
      " |      mechanism works.\n",
      " |      \n",
      " |      The options for each parameter are:\n",
      " |      \n",
      " |      - ``True``: metadata is requested, and passed to ``fit`` if provided. The request is ignored if metadata is not provided.\n",
      " |      \n",
      " |      - ``False``: metadata is not requested and the meta-estimator will not pass it to ``fit``.\n",
      " |      \n",
      " |      - ``None``: metadata is not requested, and the meta-estimator will raise an error if the user provides it.\n",
      " |      \n",
      " |      - ``str``: metadata should be passed to the meta-estimator with this given alias instead of the original name.\n",
      " |      \n",
      " |      The default (``sklearn.utils.metadata_routing.UNCHANGED``) retains the\n",
      " |      existing request. This allows you to change the request for some\n",
      " |      parameters and not others.\n",
      " |      \n",
      " |      .. versionadded:: 1.3\n",
      " |      \n",
      " |      .. note::\n",
      " |          This method is only relevant if this estimator is used as a\n",
      " |          sub-estimator of a meta-estimator, e.g. used inside a\n",
      " |          :class:`~sklearn.pipeline.Pipeline`. Otherwise it has no effect.\n",
      " |      \n",
      " |      Parameters\n",
      " |      ----------\n",
      " |      check_input : str, True, False, or None,                     default=sklearn.utils.metadata_routing.UNCHANGED\n",
      " |          Metadata routing for ``check_input`` parameter in ``fit``.\n",
      " |      \n",
      " |      sample_weight : str, True, False, or None,                     default=sklearn.utils.metadata_routing.UNCHANGED\n",
      " |          Metadata routing for ``sample_weight`` parameter in ``fit``.\n",
      " |      \n",
      " |      Returns\n",
      " |      -------\n",
      " |      self : object\n",
      " |          The updated object.\n",
      " |  \n",
      " |  set_predict_request(self: sklearn.tree._classes.DecisionTreeRegressor, *, check_input: Union[bool, NoneType, str] = '$UNCHANGED$') -> sklearn.tree._classes.DecisionTreeRegressor\n",
      " |      Request metadata passed to the ``predict`` method.\n",
      " |      \n",
      " |      Note that this method is only relevant if\n",
      " |      ``enable_metadata_routing=True`` (see :func:`sklearn.set_config`).\n",
      " |      Please see :ref:`User Guide <metadata_routing>` on how the routing\n",
      " |      mechanism works.\n",
      " |      \n",
      " |      The options for each parameter are:\n",
      " |      \n",
      " |      - ``True``: metadata is requested, and passed to ``predict`` if provided. The request is ignored if metadata is not provided.\n",
      " |      \n",
      " |      - ``False``: metadata is not requested and the meta-estimator will not pass it to ``predict``.\n",
      " |      \n",
      " |      - ``None``: metadata is not requested, and the meta-estimator will raise an error if the user provides it.\n",
      " |      \n",
      " |      - ``str``: metadata should be passed to the meta-estimator with this given alias instead of the original name.\n",
      " |      \n",
      " |      The default (``sklearn.utils.metadata_routing.UNCHANGED``) retains the\n",
      " |      existing request. This allows you to change the request for some\n",
      " |      parameters and not others.\n",
      " |      \n",
      " |      .. versionadded:: 1.3\n",
      " |      \n",
      " |      .. note::\n",
      " |          This method is only relevant if this estimator is used as a\n",
      " |          sub-estimator of a meta-estimator, e.g. used inside a\n",
      " |          :class:`~sklearn.pipeline.Pipeline`. Otherwise it has no effect.\n",
      " |      \n",
      " |      Parameters\n",
      " |      ----------\n",
      " |      check_input : str, True, False, or None,                     default=sklearn.utils.metadata_routing.UNCHANGED\n",
      " |          Metadata routing for ``check_input`` parameter in ``predict``.\n",
      " |      \n",
      " |      Returns\n",
      " |      -------\n",
      " |      self : object\n",
      " |          The updated object.\n",
      " |  \n",
      " |  set_score_request(self: sklearn.tree._classes.DecisionTreeRegressor, *, sample_weight: Union[bool, NoneType, str] = '$UNCHANGED$') -> sklearn.tree._classes.DecisionTreeRegressor\n",
      " |      Request metadata passed to the ``score`` method.\n",
      " |      \n",
      " |      Note that this method is only relevant if\n",
      " |      ``enable_metadata_routing=True`` (see :func:`sklearn.set_config`).\n",
      " |      Please see :ref:`User Guide <metadata_routing>` on how the routing\n",
      " |      mechanism works.\n",
      " |      \n",
      " |      The options for each parameter are:\n",
      " |      \n",
      " |      - ``True``: metadata is requested, and passed to ``score`` if provided. The request is ignored if metadata is not provided.\n",
      " |      \n",
      " |      - ``False``: metadata is not requested and the meta-estimator will not pass it to ``score``.\n",
      " |      \n",
      " |      - ``None``: metadata is not requested, and the meta-estimator will raise an error if the user provides it.\n",
      " |      \n",
      " |      - ``str``: metadata should be passed to the meta-estimator with this given alias instead of the original name.\n",
      " |      \n",
      " |      The default (``sklearn.utils.metadata_routing.UNCHANGED``) retains the\n",
      " |      existing request. This allows you to change the request for some\n",
      " |      parameters and not others.\n",
      " |      \n",
      " |      .. versionadded:: 1.3\n",
      " |      \n",
      " |      .. note::\n",
      " |          This method is only relevant if this estimator is used as a\n",
      " |          sub-estimator of a meta-estimator, e.g. used inside a\n",
      " |          :class:`~sklearn.pipeline.Pipeline`. Otherwise it has no effect.\n",
      " |      \n",
      " |      Parameters\n",
      " |      ----------\n",
      " |      sample_weight : str, True, False, or None,                     default=sklearn.utils.metadata_routing.UNCHANGED\n",
      " |          Metadata routing for ``sample_weight`` parameter in ``score``.\n",
      " |      \n",
      " |      Returns\n",
      " |      -------\n",
      " |      self : object\n",
      " |          The updated object.\n",
      " |  \n",
      " |  ----------------------------------------------------------------------\n",
      " |  Data and other attributes defined here:\n",
      " |  \n",
      " |  __abstractmethods__ = frozenset()\n",
      " |  \n",
      " |  __annotations__ = {'_parameter_constraints': <class 'dict'>}\n",
      " |  \n",
      " |  ----------------------------------------------------------------------\n",
      " |  Methods inherited from sklearn.base.RegressorMixin:\n",
      " |  \n",
      " |  score(self, X, y, sample_weight=None)\n",
      " |      Return the coefficient of determination of the prediction.\n",
      " |      \n",
      " |      The coefficient of determination :math:`R^2` is defined as\n",
      " |      :math:`(1 - \\frac{u}{v})`, where :math:`u` is the residual\n",
      " |      sum of squares ``((y_true - y_pred)** 2).sum()`` and :math:`v`\n",
      " |      is the total sum of squares ``((y_true - y_true.mean()) ** 2).sum()``.\n",
      " |      The best possible score is 1.0 and it can be negative (because the\n",
      " |      model can be arbitrarily worse). A constant model that always predicts\n",
      " |      the expected value of `y`, disregarding the input features, would get\n",
      " |      a :math:`R^2` score of 0.0.\n",
      " |      \n",
      " |      Parameters\n",
      " |      ----------\n",
      " |      X : array-like of shape (n_samples, n_features)\n",
      " |          Test samples. For some estimators this may be a precomputed\n",
      " |          kernel matrix or a list of generic objects instead with shape\n",
      " |          ``(n_samples, n_samples_fitted)``, where ``n_samples_fitted``\n",
      " |          is the number of samples used in the fitting for the estimator.\n",
      " |      \n",
      " |      y : array-like of shape (n_samples,) or (n_samples, n_outputs)\n",
      " |          True values for `X`.\n",
      " |      \n",
      " |      sample_weight : array-like of shape (n_samples,), default=None\n",
      " |          Sample weights.\n",
      " |      \n",
      " |      Returns\n",
      " |      -------\n",
      " |      score : float\n",
      " |          :math:`R^2` of ``self.predict(X)`` w.r.t. `y`.\n",
      " |      \n",
      " |      Notes\n",
      " |      -----\n",
      " |      The :math:`R^2` score used when calling ``score`` on a regressor uses\n",
      " |      ``multioutput='uniform_average'`` from version 0.23 to keep consistent\n",
      " |      with default value of :func:`~sklearn.metrics.r2_score`.\n",
      " |      This influences the ``score`` method of all the multioutput\n",
      " |      regressors (except for\n",
      " |      :class:`~sklearn.multioutput.MultiOutputRegressor`).\n",
      " |  \n",
      " |  ----------------------------------------------------------------------\n",
      " |  Data descriptors inherited from sklearn.base.RegressorMixin:\n",
      " |  \n",
      " |  __dict__\n",
      " |      dictionary for instance variables (if defined)\n",
      " |  \n",
      " |  __weakref__\n",
      " |      list of weak references to the object (if defined)\n",
      " |  \n",
      " |  ----------------------------------------------------------------------\n",
      " |  Methods inherited from BaseDecisionTree:\n",
      " |  \n",
      " |  apply(self, X, check_input=True)\n",
      " |      Return the index of the leaf that each sample is predicted as.\n",
      " |      \n",
      " |      .. versionadded:: 0.17\n",
      " |      \n",
      " |      Parameters\n",
      " |      ----------\n",
      " |      X : {array-like, sparse matrix} of shape (n_samples, n_features)\n",
      " |          The input samples. Internally, it will be converted to\n",
      " |          ``dtype=np.float32`` and if a sparse matrix is provided\n",
      " |          to a sparse ``csr_matrix``.\n",
      " |      \n",
      " |      check_input : bool, default=True\n",
      " |          Allow to bypass several input checking.\n",
      " |          Don't use this parameter unless you know what you're doing.\n",
      " |      \n",
      " |      Returns\n",
      " |      -------\n",
      " |      X_leaves : array-like of shape (n_samples,)\n",
      " |          For each datapoint x in X, return the index of the leaf x\n",
      " |          ends up in. Leaves are numbered within\n",
      " |          ``[0; self.tree_.node_count)``, possibly with gaps in the\n",
      " |          numbering.\n",
      " |  \n",
      " |  cost_complexity_pruning_path(self, X, y, sample_weight=None)\n",
      " |      Compute the pruning path during Minimal Cost-Complexity Pruning.\n",
      " |      \n",
      " |      See :ref:`minimal_cost_complexity_pruning` for details on the pruning\n",
      " |      process.\n",
      " |      \n",
      " |      Parameters\n",
      " |      ----------\n",
      " |      X : {array-like, sparse matrix} of shape (n_samples, n_features)\n",
      " |          The training input samples. Internally, it will be converted to\n",
      " |          ``dtype=np.float32`` and if a sparse matrix is provided\n",
      " |          to a sparse ``csc_matrix``.\n",
      " |      \n",
      " |      y : array-like of shape (n_samples,) or (n_samples, n_outputs)\n",
      " |          The target values (class labels) as integers or strings.\n",
      " |      \n",
      " |      sample_weight : array-like of shape (n_samples,), default=None\n",
      " |          Sample weights. If None, then samples are equally weighted. Splits\n",
      " |          that would create child nodes with net zero or negative weight are\n",
      " |          ignored while searching for a split in each node. Splits are also\n",
      " |          ignored if they would result in any single class carrying a\n",
      " |          negative weight in either child node.\n",
      " |      \n",
      " |      Returns\n",
      " |      -------\n",
      " |      ccp_path : :class:`~sklearn.utils.Bunch`\n",
      " |          Dictionary-like object, with the following attributes.\n",
      " |      \n",
      " |          ccp_alphas : ndarray\n",
      " |              Effective alphas of subtree during pruning.\n",
      " |      \n",
      " |          impurities : ndarray\n",
      " |              Sum of the impurities of the subtree leaves for the\n",
      " |              corresponding alpha value in ``ccp_alphas``.\n",
      " |  \n",
      " |  decision_path(self, X, check_input=True)\n",
      " |      Return the decision path in the tree.\n",
      " |      \n",
      " |      .. versionadded:: 0.18\n",
      " |      \n",
      " |      Parameters\n",
      " |      ----------\n",
      " |      X : {array-like, sparse matrix} of shape (n_samples, n_features)\n",
      " |          The input samples. Internally, it will be converted to\n",
      " |          ``dtype=np.float32`` and if a sparse matrix is provided\n",
      " |          to a sparse ``csr_matrix``.\n",
      " |      \n",
      " |      check_input : bool, default=True\n",
      " |          Allow to bypass several input checking.\n",
      " |          Don't use this parameter unless you know what you're doing.\n",
      " |      \n",
      " |      Returns\n",
      " |      -------\n",
      " |      indicator : sparse matrix of shape (n_samples, n_nodes)\n",
      " |          Return a node indicator CSR matrix where non zero elements\n",
      " |          indicates that the samples goes through the nodes.\n",
      " |  \n",
      " |  get_depth(self)\n",
      " |      Return the depth of the decision tree.\n",
      " |      \n",
      " |      The depth of a tree is the maximum distance between the root\n",
      " |      and any leaf.\n",
      " |      \n",
      " |      Returns\n",
      " |      -------\n",
      " |      self.tree_.max_depth : int\n",
      " |          The maximum depth of the tree.\n",
      " |  \n",
      " |  get_n_leaves(self)\n",
      " |      Return the number of leaves of the decision tree.\n",
      " |      \n",
      " |      Returns\n",
      " |      -------\n",
      " |      self.tree_.n_leaves : int\n",
      " |          Number of leaves.\n",
      " |  \n",
      " |  predict(self, X, check_input=True)\n",
      " |      Predict class or regression value for X.\n",
      " |      \n",
      " |      For a classification model, the predicted class for each sample in X is\n",
      " |      returned. For a regression model, the predicted value based on X is\n",
      " |      returned.\n",
      " |      \n",
      " |      Parameters\n",
      " |      ----------\n",
      " |      X : {array-like, sparse matrix} of shape (n_samples, n_features)\n",
      " |          The input samples. Internally, it will be converted to\n",
      " |          ``dtype=np.float32`` and if a sparse matrix is provided\n",
      " |          to a sparse ``csr_matrix``.\n",
      " |      \n",
      " |      check_input : bool, default=True\n",
      " |          Allow to bypass several input checking.\n",
      " |          Don't use this parameter unless you know what you're doing.\n",
      " |      \n",
      " |      Returns\n",
      " |      -------\n",
      " |      y : array-like of shape (n_samples,) or (n_samples, n_outputs)\n",
      " |          The predicted classes, or the predict values.\n",
      " |  \n",
      " |  ----------------------------------------------------------------------\n",
      " |  Readonly properties inherited from BaseDecisionTree:\n",
      " |  \n",
      " |  feature_importances_\n",
      " |      Return the feature importances.\n",
      " |      \n",
      " |      The importance of a feature is computed as the (normalized) total\n",
      " |      reduction of the criterion brought by that feature.\n",
      " |      It is also known as the Gini importance.\n",
      " |      \n",
      " |      Warning: impurity-based feature importances can be misleading for\n",
      " |      high cardinality features (many unique values). See\n",
      " |      :func:`sklearn.inspection.permutation_importance` as an alternative.\n",
      " |      \n",
      " |      Returns\n",
      " |      -------\n",
      " |      feature_importances_ : ndarray of shape (n_features,)\n",
      " |          Normalized total reduction of criteria by feature\n",
      " |          (Gini importance).\n",
      " |  \n",
      " |  ----------------------------------------------------------------------\n",
      " |  Methods inherited from sklearn.base.BaseEstimator:\n",
      " |  \n",
      " |  __getstate__(self)\n",
      " |  \n",
      " |  __repr__(self, N_CHAR_MAX=700)\n",
      " |      Return repr(self).\n",
      " |  \n",
      " |  __setstate__(self, state)\n",
      " |  \n",
      " |  __sklearn_clone__(self)\n",
      " |  \n",
      " |  get_params(self, deep=True)\n",
      " |      Get parameters for this estimator.\n",
      " |      \n",
      " |      Parameters\n",
      " |      ----------\n",
      " |      deep : bool, default=True\n",
      " |          If True, will return the parameters for this estimator and\n",
      " |          contained subobjects that are estimators.\n",
      " |      \n",
      " |      Returns\n",
      " |      -------\n",
      " |      params : dict\n",
      " |          Parameter names mapped to their values.\n",
      " |  \n",
      " |  set_params(self, **params)\n",
      " |      Set the parameters of this estimator.\n",
      " |      \n",
      " |      The method works on simple estimators as well as on nested objects\n",
      " |      (such as :class:`~sklearn.pipeline.Pipeline`). The latter have\n",
      " |      parameters of the form ``<component>__<parameter>`` so that it's\n",
      " |      possible to update each component of a nested object.\n",
      " |      \n",
      " |      Parameters\n",
      " |      ----------\n",
      " |      **params : dict\n",
      " |          Estimator parameters.\n",
      " |      \n",
      " |      Returns\n",
      " |      -------\n",
      " |      self : estimator instance\n",
      " |          Estimator instance.\n",
      " |  \n",
      " |  ----------------------------------------------------------------------\n",
      " |  Methods inherited from sklearn.utils._metadata_requests._MetadataRequester:\n",
      " |  \n",
      " |  get_metadata_routing(self)\n",
      " |      Get metadata routing of this object.\n",
      " |      \n",
      " |      Please check :ref:`User Guide <metadata_routing>` on how the routing\n",
      " |      mechanism works.\n",
      " |      \n",
      " |      Returns\n",
      " |      -------\n",
      " |      routing : MetadataRequest\n",
      " |          A :class:`~sklearn.utils.metadata_routing.MetadataRequest` encapsulating\n",
      " |          routing information.\n",
      " |  \n",
      " |  ----------------------------------------------------------------------\n",
      " |  Class methods inherited from sklearn.utils._metadata_requests._MetadataRequester:\n",
      " |  \n",
      " |  __init_subclass__(**kwargs) from abc.ABCMeta\n",
      " |      Set the ``set_{method}_request`` methods.\n",
      " |      \n",
      " |      This uses PEP-487 [1]_ to set the ``set_{method}_request`` methods. It\n",
      " |      looks for the information available in the set default values which are\n",
      " |      set using ``__metadata_request__*`` class attributes, or inferred\n",
      " |      from method signatures.\n",
      " |      \n",
      " |      The ``__metadata_request__*`` class attributes are used when a method\n",
      " |      does not explicitly accept a metadata through its arguments or if the\n",
      " |      developer would like to specify a request value for those metadata\n",
      " |      which are different from the default ``None``.\n",
      " |      \n",
      " |      References\n",
      " |      ----------\n",
      " |      .. [1] https://www.python.org/dev/peps/pep-0487\n"
     ]
    }
   ],
   "source": [
    "help(DecisionTreeRegressor)"
   ]
  },
  {
   "cell_type": "markdown",
   "metadata": {},
   "source": [
    "### Fit Tree Model"
   ]
  },
  {
   "cell_type": "code",
   "execution_count": 117,
   "metadata": {
    "ExecuteTime": {
     "end_time": "2024-02-23T05:56:53.410927700Z",
     "start_time": "2024-02-23T05:56:53.259539500Z"
    }
   },
   "outputs": [
    {
     "data": {
      "text/plain": "DecisionTreeRegressor(min_impurity_decrease=0.005)",
      "text/html": "<style>#sk-container-id-10 {\n  /* Definition of color scheme common for light and dark mode */\n  --sklearn-color-text: black;\n  --sklearn-color-line: gray;\n  /* Definition of color scheme for unfitted estimators */\n  --sklearn-color-unfitted-level-0: #fff5e6;\n  --sklearn-color-unfitted-level-1: #f6e4d2;\n  --sklearn-color-unfitted-level-2: #ffe0b3;\n  --sklearn-color-unfitted-level-3: chocolate;\n  /* Definition of color scheme for fitted estimators */\n  --sklearn-color-fitted-level-0: #f0f8ff;\n  --sklearn-color-fitted-level-1: #d4ebff;\n  --sklearn-color-fitted-level-2: #b3dbfd;\n  --sklearn-color-fitted-level-3: cornflowerblue;\n\n  /* Specific color for light theme */\n  --sklearn-color-text-on-default-background: var(--sg-text-color, var(--theme-code-foreground, var(--jp-content-font-color1, black)));\n  --sklearn-color-background: var(--sg-background-color, var(--theme-background, var(--jp-layout-color0, white)));\n  --sklearn-color-border-box: var(--sg-text-color, var(--theme-code-foreground, var(--jp-content-font-color1, black)));\n  --sklearn-color-icon: #696969;\n\n  @media (prefers-color-scheme: dark) {\n    /* Redefinition of color scheme for dark theme */\n    --sklearn-color-text-on-default-background: var(--sg-text-color, var(--theme-code-foreground, var(--jp-content-font-color1, white)));\n    --sklearn-color-background: var(--sg-background-color, var(--theme-background, var(--jp-layout-color0, #111)));\n    --sklearn-color-border-box: var(--sg-text-color, var(--theme-code-foreground, var(--jp-content-font-color1, white)));\n    --sklearn-color-icon: #878787;\n  }\n}\n\n#sk-container-id-10 {\n  color: var(--sklearn-color-text);\n}\n\n#sk-container-id-10 pre {\n  padding: 0;\n}\n\n#sk-container-id-10 input.sk-hidden--visually {\n  border: 0;\n  clip: rect(1px 1px 1px 1px);\n  clip: rect(1px, 1px, 1px, 1px);\n  height: 1px;\n  margin: -1px;\n  overflow: hidden;\n  padding: 0;\n  position: absolute;\n  width: 1px;\n}\n\n#sk-container-id-10 div.sk-dashed-wrapped {\n  border: 1px dashed var(--sklearn-color-line);\n  margin: 0 0.4em 0.5em 0.4em;\n  box-sizing: border-box;\n  padding-bottom: 0.4em;\n  background-color: var(--sklearn-color-background);\n}\n\n#sk-container-id-10 div.sk-container {\n  /* jupyter's `normalize.less` sets `[hidden] { display: none; }`\n     but bootstrap.min.css set `[hidden] { display: none !important; }`\n     so we also need the `!important` here to be able to override the\n     default hidden behavior on the sphinx rendered scikit-learn.org.\n     See: https://github.com/scikit-learn/scikit-learn/issues/21755 */\n  display: inline-block !important;\n  position: relative;\n}\n\n#sk-container-id-10 div.sk-text-repr-fallback {\n  display: none;\n}\n\ndiv.sk-parallel-item,\ndiv.sk-serial,\ndiv.sk-item {\n  /* draw centered vertical line to link estimators */\n  background-image: linear-gradient(var(--sklearn-color-text-on-default-background), var(--sklearn-color-text-on-default-background));\n  background-size: 2px 100%;\n  background-repeat: no-repeat;\n  background-position: center center;\n}\n\n/* Parallel-specific style estimator block */\n\n#sk-container-id-10 div.sk-parallel-item::after {\n  content: \"\";\n  width: 100%;\n  border-bottom: 2px solid var(--sklearn-color-text-on-default-background);\n  flex-grow: 1;\n}\n\n#sk-container-id-10 div.sk-parallel {\n  display: flex;\n  align-items: stretch;\n  justify-content: center;\n  background-color: var(--sklearn-color-background);\n  position: relative;\n}\n\n#sk-container-id-10 div.sk-parallel-item {\n  display: flex;\n  flex-direction: column;\n}\n\n#sk-container-id-10 div.sk-parallel-item:first-child::after {\n  align-self: flex-end;\n  width: 50%;\n}\n\n#sk-container-id-10 div.sk-parallel-item:last-child::after {\n  align-self: flex-start;\n  width: 50%;\n}\n\n#sk-container-id-10 div.sk-parallel-item:only-child::after {\n  width: 0;\n}\n\n/* Serial-specific style estimator block */\n\n#sk-container-id-10 div.sk-serial {\n  display: flex;\n  flex-direction: column;\n  align-items: center;\n  background-color: var(--sklearn-color-background);\n  padding-right: 1em;\n  padding-left: 1em;\n}\n\n\n/* Toggleable style: style used for estimator/Pipeline/ColumnTransformer box that is\nclickable and can be expanded/collapsed.\n- Pipeline and ColumnTransformer use this feature and define the default style\n- Estimators will overwrite some part of the style using the `sk-estimator` class\n*/\n\n/* Pipeline and ColumnTransformer style (default) */\n\n#sk-container-id-10 div.sk-toggleable {\n  /* Default theme specific background. It is overwritten whether we have a\n  specific estimator or a Pipeline/ColumnTransformer */\n  background-color: var(--sklearn-color-background);\n}\n\n/* Toggleable label */\n#sk-container-id-10 label.sk-toggleable__label {\n  cursor: pointer;\n  display: block;\n  width: 100%;\n  margin-bottom: 0;\n  padding: 0.5em;\n  box-sizing: border-box;\n  text-align: center;\n}\n\n#sk-container-id-10 label.sk-toggleable__label-arrow:before {\n  /* Arrow on the left of the label */\n  content: \"▸\";\n  float: left;\n  margin-right: 0.25em;\n  color: var(--sklearn-color-icon);\n}\n\n#sk-container-id-10 label.sk-toggleable__label-arrow:hover:before {\n  color: var(--sklearn-color-text);\n}\n\n/* Toggleable content - dropdown */\n\n#sk-container-id-10 div.sk-toggleable__content {\n  max-height: 0;\n  max-width: 0;\n  overflow: hidden;\n  text-align: left;\n  /* unfitted */\n  background-color: var(--sklearn-color-unfitted-level-0);\n}\n\n#sk-container-id-10 div.sk-toggleable__content.fitted {\n  /* fitted */\n  background-color: var(--sklearn-color-fitted-level-0);\n}\n\n#sk-container-id-10 div.sk-toggleable__content pre {\n  margin: 0.2em;\n  border-radius: 0.25em;\n  color: var(--sklearn-color-text);\n  /* unfitted */\n  background-color: var(--sklearn-color-unfitted-level-0);\n}\n\n#sk-container-id-10 div.sk-toggleable__content.fitted pre {\n  /* unfitted */\n  background-color: var(--sklearn-color-fitted-level-0);\n}\n\n#sk-container-id-10 input.sk-toggleable__control:checked~div.sk-toggleable__content {\n  /* Expand drop-down */\n  max-height: 200px;\n  max-width: 100%;\n  overflow: auto;\n}\n\n#sk-container-id-10 input.sk-toggleable__control:checked~label.sk-toggleable__label-arrow:before {\n  content: \"▾\";\n}\n\n/* Pipeline/ColumnTransformer-specific style */\n\n#sk-container-id-10 div.sk-label input.sk-toggleable__control:checked~label.sk-toggleable__label {\n  color: var(--sklearn-color-text);\n  background-color: var(--sklearn-color-unfitted-level-2);\n}\n\n#sk-container-id-10 div.sk-label.fitted input.sk-toggleable__control:checked~label.sk-toggleable__label {\n  background-color: var(--sklearn-color-fitted-level-2);\n}\n\n/* Estimator-specific style */\n\n/* Colorize estimator box */\n#sk-container-id-10 div.sk-estimator input.sk-toggleable__control:checked~label.sk-toggleable__label {\n  /* unfitted */\n  background-color: var(--sklearn-color-unfitted-level-2);\n}\n\n#sk-container-id-10 div.sk-estimator.fitted input.sk-toggleable__control:checked~label.sk-toggleable__label {\n  /* fitted */\n  background-color: var(--sklearn-color-fitted-level-2);\n}\n\n#sk-container-id-10 div.sk-label label.sk-toggleable__label,\n#sk-container-id-10 div.sk-label label {\n  /* The background is the default theme color */\n  color: var(--sklearn-color-text-on-default-background);\n}\n\n/* On hover, darken the color of the background */\n#sk-container-id-10 div.sk-label:hover label.sk-toggleable__label {\n  color: var(--sklearn-color-text);\n  background-color: var(--sklearn-color-unfitted-level-2);\n}\n\n/* Label box, darken color on hover, fitted */\n#sk-container-id-10 div.sk-label.fitted:hover label.sk-toggleable__label.fitted {\n  color: var(--sklearn-color-text);\n  background-color: var(--sklearn-color-fitted-level-2);\n}\n\n/* Estimator label */\n\n#sk-container-id-10 div.sk-label label {\n  font-family: monospace;\n  font-weight: bold;\n  display: inline-block;\n  line-height: 1.2em;\n}\n\n#sk-container-id-10 div.sk-label-container {\n  text-align: center;\n}\n\n/* Estimator-specific */\n#sk-container-id-10 div.sk-estimator {\n  font-family: monospace;\n  border: 1px dotted var(--sklearn-color-border-box);\n  border-radius: 0.25em;\n  box-sizing: border-box;\n  margin-bottom: 0.5em;\n  /* unfitted */\n  background-color: var(--sklearn-color-unfitted-level-0);\n}\n\n#sk-container-id-10 div.sk-estimator.fitted {\n  /* fitted */\n  background-color: var(--sklearn-color-fitted-level-0);\n}\n\n/* on hover */\n#sk-container-id-10 div.sk-estimator:hover {\n  /* unfitted */\n  background-color: var(--sklearn-color-unfitted-level-2);\n}\n\n#sk-container-id-10 div.sk-estimator.fitted:hover {\n  /* fitted */\n  background-color: var(--sklearn-color-fitted-level-2);\n}\n\n/* Specification for estimator info (e.g. \"i\" and \"?\") */\n\n/* Common style for \"i\" and \"?\" */\n\n.sk-estimator-doc-link,\na:link.sk-estimator-doc-link,\na:visited.sk-estimator-doc-link {\n  float: right;\n  font-size: smaller;\n  line-height: 1em;\n  font-family: monospace;\n  background-color: var(--sklearn-color-background);\n  border-radius: 1em;\n  height: 1em;\n  width: 1em;\n  text-decoration: none !important;\n  margin-left: 1ex;\n  /* unfitted */\n  border: var(--sklearn-color-unfitted-level-1) 1pt solid;\n  color: var(--sklearn-color-unfitted-level-1);\n}\n\n.sk-estimator-doc-link.fitted,\na:link.sk-estimator-doc-link.fitted,\na:visited.sk-estimator-doc-link.fitted {\n  /* fitted */\n  border: var(--sklearn-color-fitted-level-1) 1pt solid;\n  color: var(--sklearn-color-fitted-level-1);\n}\n\n/* On hover */\ndiv.sk-estimator:hover .sk-estimator-doc-link:hover,\n.sk-estimator-doc-link:hover,\ndiv.sk-label-container:hover .sk-estimator-doc-link:hover,\n.sk-estimator-doc-link:hover {\n  /* unfitted */\n  background-color: var(--sklearn-color-unfitted-level-3);\n  color: var(--sklearn-color-background);\n  text-decoration: none;\n}\n\ndiv.sk-estimator.fitted:hover .sk-estimator-doc-link.fitted:hover,\n.sk-estimator-doc-link.fitted:hover,\ndiv.sk-label-container:hover .sk-estimator-doc-link.fitted:hover,\n.sk-estimator-doc-link.fitted:hover {\n  /* fitted */\n  background-color: var(--sklearn-color-fitted-level-3);\n  color: var(--sklearn-color-background);\n  text-decoration: none;\n}\n\n/* Span, style for the box shown on hovering the info icon */\n.sk-estimator-doc-link span {\n  display: none;\n  z-index: 9999;\n  position: relative;\n  font-weight: normal;\n  right: .2ex;\n  padding: .5ex;\n  margin: .5ex;\n  width: min-content;\n  min-width: 20ex;\n  max-width: 50ex;\n  color: var(--sklearn-color-text);\n  box-shadow: 2pt 2pt 4pt #999;\n  /* unfitted */\n  background: var(--sklearn-color-unfitted-level-0);\n  border: .5pt solid var(--sklearn-color-unfitted-level-3);\n}\n\n.sk-estimator-doc-link.fitted span {\n  /* fitted */\n  background: var(--sklearn-color-fitted-level-0);\n  border: var(--sklearn-color-fitted-level-3);\n}\n\n.sk-estimator-doc-link:hover span {\n  display: block;\n}\n\n/* \"?\"-specific style due to the `<a>` HTML tag */\n\n#sk-container-id-10 a.estimator_doc_link {\n  float: right;\n  font-size: 1rem;\n  line-height: 1em;\n  font-family: monospace;\n  background-color: var(--sklearn-color-background);\n  border-radius: 1rem;\n  height: 1rem;\n  width: 1rem;\n  text-decoration: none;\n  /* unfitted */\n  color: var(--sklearn-color-unfitted-level-1);\n  border: var(--sklearn-color-unfitted-level-1) 1pt solid;\n}\n\n#sk-container-id-10 a.estimator_doc_link.fitted {\n  /* fitted */\n  border: var(--sklearn-color-fitted-level-1) 1pt solid;\n  color: var(--sklearn-color-fitted-level-1);\n}\n\n/* On hover */\n#sk-container-id-10 a.estimator_doc_link:hover {\n  /* unfitted */\n  background-color: var(--sklearn-color-unfitted-level-3);\n  color: var(--sklearn-color-background);\n  text-decoration: none;\n}\n\n#sk-container-id-10 a.estimator_doc_link.fitted:hover {\n  /* fitted */\n  background-color: var(--sklearn-color-fitted-level-3);\n}\n</style><div id=\"sk-container-id-10\" class=\"sk-top-container\"><div class=\"sk-text-repr-fallback\"><pre>DecisionTreeRegressor(min_impurity_decrease=0.005)</pre><b>In a Jupyter environment, please rerun this cell to show the HTML representation or trust the notebook. <br />On GitHub, the HTML representation is unable to render, please try loading this page with nbviewer.org.</b></div><div class=\"sk-container\" hidden><div class=\"sk-item\"><div class=\"sk-estimator fitted sk-toggleable\"><input class=\"sk-toggleable__control sk-hidden--visually\" id=\"sk-estimator-id-10\" type=\"checkbox\" checked><label for=\"sk-estimator-id-10\" class=\"sk-toggleable__label fitted sk-toggleable__label-arrow fitted\">&nbsp;&nbsp;DecisionTreeRegressor<a class=\"sk-estimator-doc-link fitted\" rel=\"noreferrer\" target=\"_blank\" href=\"https://scikit-learn.org/1.4/modules/generated/sklearn.tree.DecisionTreeRegressor.html\">?<span>Documentation for DecisionTreeRegressor</span></a><span class=\"sk-estimator-doc-link fitted\">i<span>Fitted</span></span></label><div class=\"sk-toggleable__content fitted\"><pre>DecisionTreeRegressor(min_impurity_decrease=0.005)</pre></div> </div></div></div></div>"
     },
     "execution_count": 117,
     "metadata": {},
     "output_type": "execute_result"
    }
   ],
   "source": [
    "# fit the model by 70% training data\n",
    "\n",
    "fullmodel2.fit(X_train2, y_train2)"
   ]
  },
  {
   "cell_type": "code",
   "execution_count": 118,
   "metadata": {
    "ExecuteTime": {
     "end_time": "2024-02-23T05:56:54.281509800Z",
     "start_time": "2024-02-23T05:56:54.188003800Z"
    }
   },
   "outputs": [
    {
     "data": {
      "text/plain": "array([ 3.50058824, 22.04775   ,  3.50058824, 17.4315    , 11.4744    ,\n       16.90245   , 19.208     ,  8.32575   ,  6.62088889, 39.35333333,\n        3.50058824,  9.51665   ,  7.06685714,  4.23104545,  3.50058824,\n        3.50058824, 13.278     , 16.90245   , 25.412     , 17.4025    ,\n       44.5335    , 18.79275   , 27.826     , 37.522     ,  2.20997727,\n       25.412     ,  1.00765   ,  1.78481818, 19.51464286,  6.024     ,\n        1.78481818,  7.06685714,  7.6726    ,  1.00765   ,  6.024     ,\n        9.858625  ,  2.72503333,  1.00765   ,  9.20833333, 12.888     ,\n        5.8837    , 31.8875    , 20.34      ,  8.55825   ,  1.00765   ,\n       19.51464286, 15.11333333, 10.69275   , 27.228     ,  4.54028125,\n        8.32575   , 15.11333333, 25.412     , 40.165875  ,  9.51665   ,\n       27.228     , 10.6074    , 10.69275   , 19.208     ,  3.71233333,\n       10.91083333, 44.5335    , 41.30375   , 13.278     , 44.572     ,\n       27.78883333, 23.848125  , 10.91083333, 15.11333333,  4.60102941,\n       16.989     , 23.848125  ,  9.20833333,  6.62088889, 19.208     ,\n       15.11333333,  7.51245   , 11.4744    ,  1.00765   , 16.90245   ,\n        2.72503333,  1.78481818, 33.952     , 27.085     , 18.79275   ,\n        1.00765   , 27.826     , 11.9655    , 23.703     ,  4.54028125,\n       44.5335    ,  3.71233333, 18.79275   , 13.278     ,  8.32575   ,\n       14.0446    ,  2.72503333,  1.78481818,  4.23104545, 25.412     ,\n       34.87      , 41.30375   ,  4.27      , 30.58941667,  8.55825   ,\n       31.8875    , 20.908     , 27.826     ,  4.54028125,  2.20997727,\n        4.54028125, 19.208     , 20.908     , 34.8024375 ,  3.50058824,\n       23.848125  ,  4.27      , 18.04783333, 34.8024375 , 39.35333333,\n       11.4744    ,  1.78481818, 37.522     ,  9.51665   , 14.00785714,\n       44.5335    , 38.87916667, 40.165875  ,  9.76276923, 14.00785714,\n        3.50058824, 15.11333333,  3.50058824, 14.0446    , 23.848125  ,\n       21.27475   , 31.8875    ,  2.20997727,  4.23104545,  9.51665   ,\n        3.50058824, 12.687625  ,  5.8837    ,  4.693     ,  8.1558    ,\n       17.4315    , 13.278     ,  9.858625  ,  5.64535   , 27.826     ,\n       11.38666667,  6.62088889, 33.222     , 34.8024375 , 11.38666667,\n        9.76276923, 15.11333333, 27.78883333,  1.00765   , 20.34      ,\n        2.72503333, 23.848125  ,  9.51665   , 11.4744    ,  9.20833333,\n        5.64535   , 34.55083333, 20.908     , 14.00785714, 29.4954    ,\n        6.024     , 27.78883333, 22.04775   , 18.79275   , 23.703     ,\n       15.8755    , 44.5335    ,  9.51665   , 27.228     ,  1.78481818,\n        4.54028125, 18.79275   , 38.87916667,  4.60102941, 17.4025    ,\n        2.72503333, 34.8024375 ,  1.00765   , 20.908     ,  9.69422222,\n        4.60102941, 11.38666667, 18.79275   , 11.4744    ,  9.51665   ,\n       29.4954    , 40.165875  , 12.317     , 22.0092    ,  6.3103125 ,\n        3.50058824,  6.62088889,  8.32575   ,  4.27      , 17.4025    ,\n       37.522     , 28.76083333, 15.8755    , 15.432     , 11.38666667,\n       37.522     ,  6.3103125 ,  3.50058824, 15.11333333, 16.90245   ,\n        4.60102941, 35.9832    , 22.551375  ,  9.69422222, 11.9655    ,\n       17.4315    ,  9.69422222, 11.858375  , 13.278     ,  9.51665   ,\n       14.00785714, 14.00785714, 11.9655    , 16.989     ,  1.00765   ,\n        6.69      , 21.858     , 27.085     , 44.572     ,  1.78481818,\n       16.989     , 14.242     , 14.0446    , 28.76083333,  6.3103125 ,\n        2.20997727, 17.4025    ,  4.60102941,  8.8845    , 35.9832    ,\n        6.69      , 14.71285714, 38.87916667, 20.908     ,  1.00765   ,\n        8.32575   ,  6.024     ,  4.54028125,  3.50058824,  3.50058824,\n       25.412     , 37.8405    ,  4.693     ,  9.69422222, 10.6074    ,\n        4.54028125, 30.58941667,  4.23104545,  2.20997727,  6.024     ,\n       22.04775   , 35.9832    , 22.81833333, 48.64375   , 10.69275   ,\n       23.848125  , 34.8024375 , 44.572     , 28.76083333,  2.20997727,\n       21.27475   , 16.90245   , 29.4954    , 19.208     , 11.38666667,\n       17.4315    ,  7.06685714,  9.76276923, 20.34      ,  9.69422222,\n        8.55825   , 11.38666667, 14.0446    , 31.8875    , 14.00785714,\n       21.858     , 11.9655    , 19.51464286,  4.60102941,  3.50058824,\n       11.858375  , 25.412     ,  3.71233333, 16.90245   , 34.8024375 ])"
     },
     "execution_count": 118,
     "metadata": {},
     "output_type": "execute_result"
    }
   ],
   "source": [
    "y_pred2 = fullmodel2.predict(X_test2)\n",
    "y_pred2"
   ]
  },
  {
   "cell_type": "code",
   "execution_count": 119,
   "metadata": {
    "ExecuteTime": {
     "end_time": "2024-02-23T05:56:55.865644200Z",
     "start_time": "2024-02-23T05:56:55.766423100Z"
    }
   },
   "outputs": [],
   "source": [
    "# get tree object and view its structure\n",
    "\n",
    "treeObj2 = fullmodel2.tree_"
   ]
  },
  {
   "cell_type": "code",
   "execution_count": 120,
   "metadata": {
    "ExecuteTime": {
     "end_time": "2024-02-23T05:56:56.852020500Z",
     "start_time": "2024-02-23T05:56:56.778311300Z"
    }
   },
   "outputs": [
    {
     "data": {
      "text/plain": "221"
     },
     "execution_count": 120,
     "metadata": {},
     "output_type": "execute_result"
    }
   ],
   "source": [
    "# nodes of tree\n",
    "\n",
    "treeObj2.node_count"
   ]
  },
  {
   "cell_type": "code",
   "execution_count": 121,
   "metadata": {
    "ExecuteTime": {
     "end_time": "2024-02-23T05:56:57.822675300Z",
     "start_time": "2024-02-23T05:56:57.774579100Z"
    }
   },
   "outputs": [
    {
     "data": {
      "text/plain": "9"
     },
     "execution_count": 121,
     "metadata": {},
     "output_type": "execute_result"
    }
   ],
   "source": [
    "# depth of the tree\n",
    "\n",
    "treeObj2.max_depth"
   ]
  },
  {
   "cell_type": "markdown",
   "metadata": {},
   "source": [
    "### Test Model Performance"
   ]
  },
  {
   "cell_type": "code",
   "execution_count": 62,
   "metadata": {
    "ExecuteTime": {
     "end_time": "2024-02-23T05:37:05.100800800Z",
     "start_time": "2024-02-23T05:37:05.057490Z"
    }
   },
   "outputs": [
    {
     "data": {
      "text/plain": "0.9975430741172738"
     },
     "execution_count": 62,
     "metadata": {},
     "output_type": "execute_result"
    }
   ],
   "source": [
    "fullmodel2.score(X_test2, y_test2, sample_weight=None)"
   ]
  },
  {
   "cell_type": "code",
   "execution_count": null,
   "metadata": {},
   "outputs": [],
   "source": []
  }
 ],
 "metadata": {
  "kernelspec": {
   "display_name": "Python 3",
   "language": "python",
   "name": "python3"
  },
  "language_info": {
   "codemirror_mode": {
    "name": "ipython",
    "version": 3
   },
   "file_extension": ".py",
   "mimetype": "text/x-python",
   "name": "python",
   "nbconvert_exporter": "python",
   "pygments_lexer": "ipython3",
   "version": "3.8.3"
  }
 },
 "nbformat": 4,
 "nbformat_minor": 4
}
