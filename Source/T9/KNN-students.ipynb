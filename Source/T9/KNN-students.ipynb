{
 "cells": [
  {
   "cell_type": "markdown",
   "id": "61a870db",
   "metadata": {},
   "source": [
    "# K-Nearest Neighbor (KNN)"
   ]
  },
  {
   "cell_type": "markdown",
   "id": "b7b0f54d",
   "metadata": {},
   "source": [
    "Handwritten digit recognition\n",
    "- Each data is a 8X8 (pixel) image of a digit (=64 features)\n",
    "- Feature values: 0->16 (white -> black)\n",
    "- There are 10 classes: 0, 1, 2, 3, 4, …, 8, 9 shown in the last column (target variable)\n",
    "- There are 1,797 examples in total"
   ]
  },
  {
   "cell_type": "code",
   "execution_count": 1,
   "id": "57f765dc",
   "metadata": {},
   "outputs": [],
   "source": [
    "# import library for data management\n",
    "import pandas as pd\n",
    "import numpy as np"
   ]
  },
  {
   "cell_type": "code",
   "execution_count": 2,
   "id": "b63c69ab",
   "metadata": {},
   "outputs": [],
   "source": [
    "# load dataset 'digits.csv'\n",
    "data = pd.read_csv('digits.csv', header=None)"
   ]
  },
  {
   "cell_type": "code",
   "execution_count": 3,
   "id": "0b221e7c",
   "metadata": {},
   "outputs": [
    {
     "data": {
      "text/html": [
       "<div>\n",
       "<style scoped>\n",
       "    .dataframe tbody tr th:only-of-type {\n",
       "        vertical-align: middle;\n",
       "    }\n",
       "\n",
       "    .dataframe tbody tr th {\n",
       "        vertical-align: top;\n",
       "    }\n",
       "\n",
       "    .dataframe thead th {\n",
       "        text-align: right;\n",
       "    }\n",
       "</style>\n",
       "<table border=\"1\" class=\"dataframe\">\n",
       "  <thead>\n",
       "    <tr style=\"text-align: right;\">\n",
       "      <th></th>\n",
       "      <th>0</th>\n",
       "      <th>1</th>\n",
       "      <th>2</th>\n",
       "      <th>3</th>\n",
       "      <th>4</th>\n",
       "      <th>5</th>\n",
       "      <th>6</th>\n",
       "      <th>7</th>\n",
       "      <th>8</th>\n",
       "      <th>9</th>\n",
       "      <th>...</th>\n",
       "      <th>55</th>\n",
       "      <th>56</th>\n",
       "      <th>57</th>\n",
       "      <th>58</th>\n",
       "      <th>59</th>\n",
       "      <th>60</th>\n",
       "      <th>61</th>\n",
       "      <th>62</th>\n",
       "      <th>63</th>\n",
       "      <th>64</th>\n",
       "    </tr>\n",
       "  </thead>\n",
       "  <tbody>\n",
       "    <tr>\n",
       "      <th>0</th>\n",
       "      <td>0</td>\n",
       "      <td>0</td>\n",
       "      <td>5</td>\n",
       "      <td>13</td>\n",
       "      <td>9</td>\n",
       "      <td>1</td>\n",
       "      <td>0</td>\n",
       "      <td>0</td>\n",
       "      <td>0</td>\n",
       "      <td>0</td>\n",
       "      <td>...</td>\n",
       "      <td>0</td>\n",
       "      <td>0</td>\n",
       "      <td>0</td>\n",
       "      <td>6</td>\n",
       "      <td>13</td>\n",
       "      <td>10</td>\n",
       "      <td>0</td>\n",
       "      <td>0</td>\n",
       "      <td>0</td>\n",
       "      <td>0</td>\n",
       "    </tr>\n",
       "    <tr>\n",
       "      <th>1</th>\n",
       "      <td>0</td>\n",
       "      <td>0</td>\n",
       "      <td>0</td>\n",
       "      <td>12</td>\n",
       "      <td>13</td>\n",
       "      <td>5</td>\n",
       "      <td>0</td>\n",
       "      <td>0</td>\n",
       "      <td>0</td>\n",
       "      <td>0</td>\n",
       "      <td>...</td>\n",
       "      <td>0</td>\n",
       "      <td>0</td>\n",
       "      <td>0</td>\n",
       "      <td>0</td>\n",
       "      <td>11</td>\n",
       "      <td>16</td>\n",
       "      <td>10</td>\n",
       "      <td>0</td>\n",
       "      <td>0</td>\n",
       "      <td>1</td>\n",
       "    </tr>\n",
       "    <tr>\n",
       "      <th>2</th>\n",
       "      <td>0</td>\n",
       "      <td>0</td>\n",
       "      <td>0</td>\n",
       "      <td>4</td>\n",
       "      <td>15</td>\n",
       "      <td>12</td>\n",
       "      <td>0</td>\n",
       "      <td>0</td>\n",
       "      <td>0</td>\n",
       "      <td>0</td>\n",
       "      <td>...</td>\n",
       "      <td>0</td>\n",
       "      <td>0</td>\n",
       "      <td>0</td>\n",
       "      <td>0</td>\n",
       "      <td>3</td>\n",
       "      <td>11</td>\n",
       "      <td>16</td>\n",
       "      <td>9</td>\n",
       "      <td>0</td>\n",
       "      <td>2</td>\n",
       "    </tr>\n",
       "    <tr>\n",
       "      <th>3</th>\n",
       "      <td>0</td>\n",
       "      <td>0</td>\n",
       "      <td>7</td>\n",
       "      <td>15</td>\n",
       "      <td>13</td>\n",
       "      <td>1</td>\n",
       "      <td>0</td>\n",
       "      <td>0</td>\n",
       "      <td>0</td>\n",
       "      <td>8</td>\n",
       "      <td>...</td>\n",
       "      <td>0</td>\n",
       "      <td>0</td>\n",
       "      <td>0</td>\n",
       "      <td>7</td>\n",
       "      <td>13</td>\n",
       "      <td>13</td>\n",
       "      <td>9</td>\n",
       "      <td>0</td>\n",
       "      <td>0</td>\n",
       "      <td>3</td>\n",
       "    </tr>\n",
       "    <tr>\n",
       "      <th>4</th>\n",
       "      <td>0</td>\n",
       "      <td>0</td>\n",
       "      <td>0</td>\n",
       "      <td>1</td>\n",
       "      <td>11</td>\n",
       "      <td>0</td>\n",
       "      <td>0</td>\n",
       "      <td>0</td>\n",
       "      <td>0</td>\n",
       "      <td>0</td>\n",
       "      <td>...</td>\n",
       "      <td>0</td>\n",
       "      <td>0</td>\n",
       "      <td>0</td>\n",
       "      <td>0</td>\n",
       "      <td>2</td>\n",
       "      <td>16</td>\n",
       "      <td>4</td>\n",
       "      <td>0</td>\n",
       "      <td>0</td>\n",
       "      <td>4</td>\n",
       "    </tr>\n",
       "  </tbody>\n",
       "</table>\n",
       "<p>5 rows × 65 columns</p>\n",
       "</div>"
      ],
      "text/plain": [
       "   0   1   2   3   4   5   6   7   8   9   ...  55  56  57  58  59  60  61  \\\n",
       "0   0   0   5  13   9   1   0   0   0   0  ...   0   0   0   6  13  10   0   \n",
       "1   0   0   0  12  13   5   0   0   0   0  ...   0   0   0   0  11  16  10   \n",
       "2   0   0   0   4  15  12   0   0   0   0  ...   0   0   0   0   3  11  16   \n",
       "3   0   0   7  15  13   1   0   0   0   8  ...   0   0   0   7  13  13   9   \n",
       "4   0   0   0   1  11   0   0   0   0   0  ...   0   0   0   0   2  16   4   \n",
       "\n",
       "   62  63  64  \n",
       "0   0   0   0  \n",
       "1   0   0   1  \n",
       "2   9   0   2  \n",
       "3   0   0   3  \n",
       "4   0   0   4  \n",
       "\n",
       "[5 rows x 65 columns]"
      ]
     },
     "execution_count": 3,
     "metadata": {},
     "output_type": "execute_result"
    }
   ],
   "source": [
    "data.head()"
   ]
  },
  {
   "cell_type": "code",
   "execution_count": 4,
   "id": "37efb0c1",
   "metadata": {},
   "outputs": [
    {
     "data": {
      "text/plain": [
       "array([0, 1, 2, 3, 4, 5, 6, 7, 8, 9])"
      ]
     },
     "execution_count": 4,
     "metadata": {},
     "output_type": "execute_result"
    }
   ],
   "source": [
    "data[64].unique()"
   ]
  },
  {
   "cell_type": "markdown",
   "id": "1c768138",
   "metadata": {},
   "source": [
    "- Please note that column 0-63 presents the black-and-white value of each pixel. \n",
    "- And column 64 is the target variable, which is a digit from 0-9."
   ]
  },
  {
   "cell_type": "code",
   "execution_count": 5,
   "id": "2e976559",
   "metadata": {},
   "outputs": [],
   "source": [
    "# use the 0-63 columns to be X (features) and the 64th column to be y (target variable)\n",
    "X = data.iloc[:,0:64]\n",
    "y = data.iloc[:,64]"
   ]
  },
  {
   "cell_type": "code",
   "execution_count": 6,
   "id": "92bb55a0",
   "metadata": {},
   "outputs": [],
   "source": [
    "# import KNeighborsClassifier model from sklearn\n",
    "# https://scikit-learn.org/stable/modules/generated/sklearn.neighbors.\n",
    "#KNeighborsClassifier.html\n",
    "from sklearn.neighbors import KNeighborsClassifier"
   ]
  },
  {
   "cell_type": "code",
   "execution_count": 7,
   "id": "a50012e7",
   "metadata": {},
   "outputs": [],
   "source": [
    "# import functions for cross validation\n",
    "from sklearn.model_selection import cross_val_score, cross_val_predict"
   ]
  },
  {
   "cell_type": "code",
   "execution_count": 8,
   "id": "e3ab97aa",
   "metadata": {},
   "outputs": [
    {
     "name": "stdout",
     "output_type": "stream",
     "text": [
      "When k=1, accuracy=0.975\n",
      "When k=2, accuracy=0.974\n",
      "When k=3, accuracy=0.977\n",
      "When k=4, accuracy=0.972\n",
      "When k=5, accuracy=0.971\n",
      "When k=6, accuracy=0.968\n",
      "When k=7, accuracy=0.968\n",
      "When k=8, accuracy=0.965\n",
      "When k=9, accuracy=0.965\n",
      "When k=10, accuracy=0.962\n",
      "When k=11, accuracy=0.964\n",
      "When k=12, accuracy=0.964\n",
      "When k=13, accuracy=0.963\n"
     ]
    }
   ],
   "source": [
    "# try all the values of 'k' from 1 to 13, train the k-Nearest Neighbor classifier \n",
    "    # with the each value of 'k'\n",
    "for k in range(1, 14):\n",
    "    #default weight = \"uniform\"\n",
    "    model = KNeighborsClassifier(n_neighbors=k) \n",
    "    model.fit(X, y)\n",
    "    accuracy = cross_val_score(model,X,y,cv=10).mean()\n",
    "    print(\"When k=%d, accuracy=%.3f\" % (k, accuracy))"
   ]
  },
  {
   "cell_type": "code",
   "execution_count": 9,
   "id": "c9ae0f3b",
   "metadata": {},
   "outputs": [
    {
     "name": "stdout",
     "output_type": "stream",
     "text": [
      "When k=1, accuracy=0.975\n",
      "When k=2, accuracy=0.975\n",
      "When k=3, accuracy=0.977\n",
      "When k=4, accuracy=0.977\n",
      "When k=5, accuracy=0.971\n",
      "When k=6, accuracy=0.974\n",
      "When k=7, accuracy=0.968\n",
      "When k=8, accuracy=0.967\n",
      "When k=9, accuracy=0.968\n",
      "When k=10, accuracy=0.967\n",
      "When k=11, accuracy=0.967\n",
      "When k=12, accuracy=0.967\n",
      "When k=13, accuracy=0.964\n",
      "When k=14, accuracy=0.965\n",
      "When k=15, accuracy=0.964\n",
      "When k=16, accuracy=0.965\n",
      "When k=17, accuracy=0.963\n",
      "When k=18, accuracy=0.964\n",
      "When k=19, accuracy=0.963\n",
      "When k=20, accuracy=0.962\n",
      "When k=21, accuracy=0.962\n",
      "When k=22, accuracy=0.962\n",
      "When k=23, accuracy=0.962\n",
      "When k=24, accuracy=0.960\n",
      "When k=25, accuracy=0.958\n",
      "When k=26, accuracy=0.959\n",
      "When k=27, accuracy=0.959\n",
      "When k=28, accuracy=0.958\n",
      "When k=29, accuracy=0.957\n"
     ]
    }
   ],
   "source": [
    "# use KNeighborsClassifier(n_neighbors=k, weights='distance') \n",
    "    # to see what results you can obtain\n",
    "for k in range(1, 30):\n",
    "    model = KNeighborsClassifier(n_neighbors=k, weights='distance')\n",
    "    model.fit(X, y)\n",
    "    accuracy = cross_val_score(model,X,y,cv=10).mean()\n",
    "    print(\"When k=%d, accuracy=%.3f\" % (k, accuracy))"
   ]
  },
  {
   "cell_type": "markdown",
   "id": "b46d8add",
   "metadata": {},
   "source": [
    "From the above results, using k = 3 or 4 with distance weight generates the highest accuracy.    "
   ]
  },
  {
   "cell_type": "code",
   "execution_count": 10,
   "id": "a5c99212",
   "metadata": {},
   "outputs": [],
   "source": [
    "model_best = KNeighborsClassifier(n_neighbors=4,weights='distance')"
   ]
  },
  {
   "cell_type": "code",
   "execution_count": 11,
   "id": "cece1138",
   "metadata": {},
   "outputs": [
    {
     "data": {
      "text/html": [
       "<style>#sk-container-id-1 {color: black;background-color: white;}#sk-container-id-1 pre{padding: 0;}#sk-container-id-1 div.sk-toggleable {background-color: white;}#sk-container-id-1 label.sk-toggleable__label {cursor: pointer;display: block;width: 100%;margin-bottom: 0;padding: 0.3em;box-sizing: border-box;text-align: center;}#sk-container-id-1 label.sk-toggleable__label-arrow:before {content: \"▸\";float: left;margin-right: 0.25em;color: #696969;}#sk-container-id-1 label.sk-toggleable__label-arrow:hover:before {color: black;}#sk-container-id-1 div.sk-estimator:hover label.sk-toggleable__label-arrow:before {color: black;}#sk-container-id-1 div.sk-toggleable__content {max-height: 0;max-width: 0;overflow: hidden;text-align: left;background-color: #f0f8ff;}#sk-container-id-1 div.sk-toggleable__content pre {margin: 0.2em;color: black;border-radius: 0.25em;background-color: #f0f8ff;}#sk-container-id-1 input.sk-toggleable__control:checked~div.sk-toggleable__content {max-height: 200px;max-width: 100%;overflow: auto;}#sk-container-id-1 input.sk-toggleable__control:checked~label.sk-toggleable__label-arrow:before {content: \"▾\";}#sk-container-id-1 div.sk-estimator input.sk-toggleable__control:checked~label.sk-toggleable__label {background-color: #d4ebff;}#sk-container-id-1 div.sk-label input.sk-toggleable__control:checked~label.sk-toggleable__label {background-color: #d4ebff;}#sk-container-id-1 input.sk-hidden--visually {border: 0;clip: rect(1px 1px 1px 1px);clip: rect(1px, 1px, 1px, 1px);height: 1px;margin: -1px;overflow: hidden;padding: 0;position: absolute;width: 1px;}#sk-container-id-1 div.sk-estimator {font-family: monospace;background-color: #f0f8ff;border: 1px dotted black;border-radius: 0.25em;box-sizing: border-box;margin-bottom: 0.5em;}#sk-container-id-1 div.sk-estimator:hover {background-color: #d4ebff;}#sk-container-id-1 div.sk-parallel-item::after {content: \"\";width: 100%;border-bottom: 1px solid gray;flex-grow: 1;}#sk-container-id-1 div.sk-label:hover label.sk-toggleable__label {background-color: #d4ebff;}#sk-container-id-1 div.sk-serial::before {content: \"\";position: absolute;border-left: 1px solid gray;box-sizing: border-box;top: 0;bottom: 0;left: 50%;z-index: 0;}#sk-container-id-1 div.sk-serial {display: flex;flex-direction: column;align-items: center;background-color: white;padding-right: 0.2em;padding-left: 0.2em;position: relative;}#sk-container-id-1 div.sk-item {position: relative;z-index: 1;}#sk-container-id-1 div.sk-parallel {display: flex;align-items: stretch;justify-content: center;background-color: white;position: relative;}#sk-container-id-1 div.sk-item::before, #sk-container-id-1 div.sk-parallel-item::before {content: \"\";position: absolute;border-left: 1px solid gray;box-sizing: border-box;top: 0;bottom: 0;left: 50%;z-index: -1;}#sk-container-id-1 div.sk-parallel-item {display: flex;flex-direction: column;z-index: 1;position: relative;background-color: white;}#sk-container-id-1 div.sk-parallel-item:first-child::after {align-self: flex-end;width: 50%;}#sk-container-id-1 div.sk-parallel-item:last-child::after {align-self: flex-start;width: 50%;}#sk-container-id-1 div.sk-parallel-item:only-child::after {width: 0;}#sk-container-id-1 div.sk-dashed-wrapped {border: 1px dashed gray;margin: 0 0.4em 0.5em 0.4em;box-sizing: border-box;padding-bottom: 0.4em;background-color: white;}#sk-container-id-1 div.sk-label label {font-family: monospace;font-weight: bold;display: inline-block;line-height: 1.2em;}#sk-container-id-1 div.sk-label-container {text-align: center;}#sk-container-id-1 div.sk-container {/* jupyter's `normalize.less` sets `[hidden] { display: none; }` but bootstrap.min.css set `[hidden] { display: none !important; }` so we also need the `!important` here to be able to override the default hidden behavior on the sphinx rendered scikit-learn.org. See: https://github.com/scikit-learn/scikit-learn/issues/21755 */display: inline-block !important;position: relative;}#sk-container-id-1 div.sk-text-repr-fallback {display: none;}</style><div id=\"sk-container-id-1\" class=\"sk-top-container\"><div class=\"sk-text-repr-fallback\"><pre>KNeighborsClassifier(n_neighbors=4, weights=&#x27;distance&#x27;)</pre><b>In a Jupyter environment, please rerun this cell to show the HTML representation or trust the notebook. <br />On GitHub, the HTML representation is unable to render, please try loading this page with nbviewer.org.</b></div><div class=\"sk-container\" hidden><div class=\"sk-item\"><div class=\"sk-estimator sk-toggleable\"><input class=\"sk-toggleable__control sk-hidden--visually\" id=\"sk-estimator-id-1\" type=\"checkbox\" checked><label for=\"sk-estimator-id-1\" class=\"sk-toggleable__label sk-toggleable__label-arrow\">KNeighborsClassifier</label><div class=\"sk-toggleable__content\"><pre>KNeighborsClassifier(n_neighbors=4, weights=&#x27;distance&#x27;)</pre></div></div></div></div></div>"
      ],
      "text/plain": [
       "KNeighborsClassifier(n_neighbors=4, weights='distance')"
      ]
     },
     "execution_count": 11,
     "metadata": {},
     "output_type": "execute_result"
    }
   ],
   "source": [
    "model_best.fit(X,y)"
   ]
  },
  {
   "cell_type": "code",
   "execution_count": 12,
   "id": "98e61bd1",
   "metadata": {},
   "outputs": [],
   "source": [
    "# model evaluation1: cross validation \n",
    "\n",
    "y_pred = cross_val_predict(model_best,X,y,cv=10)"
   ]
  },
  {
   "cell_type": "code",
   "execution_count": 13,
   "id": "04cf1a8d",
   "metadata": {},
   "outputs": [
    {
     "data": {
      "text/plain": [
       "array([0, 1, 8, ..., 8, 9, 8])"
      ]
     },
     "execution_count": 13,
     "metadata": {},
     "output_type": "execute_result"
    }
   ],
   "source": [
    "y_pred"
   ]
  },
  {
   "cell_type": "code",
   "execution_count": 14,
   "id": "ae3c3ecc",
   "metadata": {},
   "outputs": [
    {
     "data": {
      "text/plain": [
       "(1797,)"
      ]
     },
     "execution_count": 14,
     "metadata": {},
     "output_type": "execute_result"
    }
   ],
   "source": [
    "y_pred.shape"
   ]
  },
  {
   "cell_type": "markdown",
   "id": "b356b272",
   "metadata": {},
   "source": [
    "### Show performance report"
   ]
  },
  {
   "cell_type": "code",
   "execution_count": 15,
   "id": "3adeb53d",
   "metadata": {},
   "outputs": [
    {
     "name": "stdout",
     "output_type": "stream",
     "text": [
      "Accuracy: 0.977191185599007\n",
      "Classification Report:\n",
      "               precision    recall  f1-score   support\n",
      "\n",
      "           0       1.00      0.99      1.00       179\n",
      "           1       0.99      0.94      0.96       192\n",
      "           2       0.97      0.99      0.98       173\n",
      "           3       0.96      0.97      0.97       181\n",
      "           4       0.98      0.99      0.99       179\n",
      "           5       0.98      0.99      0.98       180\n",
      "           6       0.99      0.98      0.98       183\n",
      "           7       0.99      0.99      0.99       180\n",
      "           8       0.96      0.97      0.96       173\n",
      "           9       0.95      0.97      0.96       177\n",
      "\n",
      "    accuracy                           0.98      1797\n",
      "   macro avg       0.98      0.98      0.98      1797\n",
      "weighted avg       0.98      0.98      0.98      1797\n",
      "\n",
      "Confusion Matrix:\n",
      " [[178   0   0   0   0   0   1   0   0   0]\n",
      " [  0 180   3   0   1   0   1   0   6   1]\n",
      " [  0   1 171   1   0   0   0   0   0   0]\n",
      " [  0   0   1 176   0   0   0   0   0   4]\n",
      " [  0   0   0   0 178   0   0   0   0   1]\n",
      " [  0   0   0   1   0 178   0   0   0   1]\n",
      " [  0   1   0   0   1   1 179   0   1   0]\n",
      " [  0   0   0   2   0   0   0 178   0   0]\n",
      " [  0   0   2   2   0   0   0   0 167   2]\n",
      " [  0   0   0   1   1   3   0   1   0 171]]\n"
     ]
    }
   ],
   "source": [
    "# show a classification report demonstrating the accuracy of the classifier for each digit\n",
    "from sklearn.metrics import classification_report\n",
    "from sklearn.metrics import confusion_matrix\n",
    "# evaluate result\n",
    "# https://scikit-learn.org/stable/modules/generated/sklearn.metrics.accuracy_score.html\n",
    "print(\"Accuracy:\",cross_val_score(model_best,X,y,cv=10).mean())\n",
    "# https://scikit-learn.org/stable/modules/generated/sklearn.metrics.classification_report\n",
    "print(\"Classification Report:\\n\",classification_report(y_pred, y))\n",
    "# https://scikit-learn.org/stable/modules/generated/sklearn.metrics.confusion_matrix.html\n",
    "print(\"Confusion Matrix:\\n\", confusion_matrix(y_pred, y))"
   ]
  },
  {
   "cell_type": "code",
   "execution_count": 16,
   "id": "e5114bb0",
   "metadata": {},
   "outputs": [],
   "source": [
    "##  model evaluation2: train test split\n",
    "\n",
    "\n",
    "# from sklearn.model_selection import train_test_split\n",
    "# import sklearn.metrics as metrics\n",
    "\n",
    "# X_train, X_test, y_train, y_test = train_test_split(X, y, random_state=1)\n",
    "# knn = KNeighborsClassifier(n_neighbors=3)\n",
    "# knn.fit(X_train, y_train)\n",
    "# y_pred = knn.predict(X_test)\n",
    "# metrics.accuracy_score(y_test, y_pred)"
   ]
  },
  {
   "cell_type": "markdown",
   "id": "b0fed910",
   "metadata": {},
   "source": [
    "### In the next, we show the image of the digit and the prediction."
   ]
  },
  {
   "cell_type": "code",
   "execution_count": 17,
   "id": "8c6b99b5",
   "metadata": {},
   "outputs": [],
   "source": [
    "# we use the iloc function to choose the 23th example\n",
    "image = X.iloc[22,:]"
   ]
  },
  {
   "cell_type": "code",
   "execution_count": 18,
   "id": "eaab3f81",
   "metadata": {},
   "outputs": [],
   "source": [
    "prediction = model_best.predict([image])[0]"
   ]
  },
  {
   "cell_type": "code",
   "execution_count": 19,
   "id": "0533160b",
   "metadata": {},
   "outputs": [
    {
     "data": {
      "text/plain": [
       "<matplotlib.image.AxesImage at 0x7f705d5fc190>"
      ]
     },
     "execution_count": 19,
     "metadata": {},
     "output_type": "execute_result"
    },
    {
     "data": {
      "image/png": "[encoded data removed]",
      "text/plain": [
       "<Figure size 432x288 with 1 Axes>"
      ]
     },
     "metadata": {
      "needs_background": "light"
     },
     "output_type": "display_data"
    }
   ],
   "source": [
    "import matplotlib.pyplot as plt\n",
    "%matplotlib inline\n",
    "imgdata = np.array(image, dtype='float')\n",
    "# convert the image for a 64-dim array to an 8 x 8 image\n",
    "pixels = imgdata.reshape((8,8))\n",
    "plt.imshow(pixels,cmap='binary')"
   ]
  },
  {
   "cell_type": "code",
   "execution_count": 20,
   "id": "0cc3d5cd",
   "metadata": {
    "scrolled": true
   },
   "outputs": [
    {
     "name": "stdout",
     "output_type": "stream",
     "text": [
      "KNN thinks tha digit is: 2\n"
     ]
    }
   ],
   "source": [
    "print(\"KNN thinks tha digit is:\", prediction)"
   ]
  },
  {
   "cell_type": "markdown",
   "id": "953162e0",
   "metadata": {},
   "source": [
    "**Task: change the command to select the 200th example from the data, reexcecute the commands to show the prediction and the image.**"
   ]
  },
  {
   "cell_type": "code",
   "execution_count": null,
   "id": "fc9800b6-ff1d-453d-926c-989d36d42b61",
   "metadata": {},
   "outputs": [],
   "source": []
  }
 ],
 "metadata": {
  "kernelspec": {
   "display_name": "Python 3 (ipykernel)",
   "language": "python",
   "name": "python3"
  },
  "language_info": {
   "codemirror_mode": {
    "name": "ipython",
    "version": 3
   },
   "file_extension": ".py",
   "mimetype": "text/x-python",
   "name": "python",
   "nbconvert_exporter": "python",
   "pygments_lexer": "ipython3",
   "version": "3.9.10"
  }
 },
 "nbformat": 4,
 "nbformat_minor": 5
}
