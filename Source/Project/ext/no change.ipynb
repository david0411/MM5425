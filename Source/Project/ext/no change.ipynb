{
 "cells": [
  {
   "cell_type": "code",
   "execution_count": 1,
   "id": "125aa854-f57d-4bcd-a919-18e52b460eae",
   "metadata": {},
   "outputs": [],
   "source": [
    "import pandas as pd"
   ]
  },
  {
   "cell_type": "code",
   "execution_count": 2,
   "id": "e1d3e047-16b6-4734-8458-4cd14cdd62d3",
   "metadata": {},
   "outputs": [],
   "source": [
    "train=pd.read_csv('train.csv')\n",
    "test=pd.read_csv('test.csv')"
   ]
  },
  {
   "cell_type": "code",
   "execution_count": 3,
   "id": "1a923d72-1342-4f07-b4f2-b5d854482ac5",
   "metadata": {},
   "outputs": [],
   "source": [
    "# combine test dataset and train dataset\n",
    "df =pd.concat([train, test], axis=0)\n",
    "#df"
   ]
  },
  {
   "cell_type": "code",
   "execution_count": 4,
   "id": "2db35311-1e53-4375-bf15-94a975c73f85",
   "metadata": {},
   "outputs": [
    {
     "name": "stdout",
     "output_type": "stream",
     "text": [
      "\n",
      "描述变量有：\n",
      "job\n",
      "marital\n",
      "education\n",
      "default\n",
      "housing\n",
      "loan\n",
      "contact\n",
      "month\n",
      "day_of_week\n",
      "poutcome\n",
      "subscribe\n"
     ]
    }
   ],
   "source": [
    "# 描述性变量转换为数值型\n",
    "cat_vars=[]\n",
    "print('\\n描述变量有：')\n",
    "cols = df.columns.tolist()\n",
    "for col in cols:\n",
    "    if df[col].dtype == 'object':\n",
    "        print(col)\n",
    "        cat_vars.append(col)"
   ]
  },
  {
   "cell_type": "code",
   "execution_count": 5,
   "id": "b52887bf-0fea-45ad-9d6c-231b9447dd5d",
   "metadata": {},
   "outputs": [
    {
     "data": {
      "text/plain": [
       "1     7383\n",
       "2     6506\n",
       "10    4731\n",
       "8     2834\n",
       "5     2164\n",
       "6     1335\n",
       "3     1158\n",
       "7     1123\n",
       "4      848\n",
       "11     844\n",
       "9      716\n",
       "0      358\n",
       "Name: job, dtype: int64"
      ]
     },
     "execution_count": 5,
     "metadata": {},
     "output_type": "execute_result"
    }
   ],
   "source": [
    "# 处理有序变量\n",
    "from sklearn.preprocessing import LabelEncoder\n",
    "\n",
    "job_le = LabelEncoder()\n",
    "df['job'] =df['job'].map({'unknown': 0, 'admin.': 1, 'blue-collar': 2, 'entrepreneur': 3,'housemaid':4,'management':5,'retired':6,'self-employed':7,'services':8,'student':9,'technician':10,'unemployed':11})\n",
    "df['job'].value_counts()"
   ]
  },
  {
   "cell_type": "code",
   "execution_count": 6,
   "id": "06953d83-dcb5-450e-bb80-e2b943720c56",
   "metadata": {},
   "outputs": [
    {
     "data": {
      "text/plain": [
       "2    17604\n",
       "1     8417\n",
       "3     3528\n",
       "0      451\n",
       "Name: marital, dtype: int64"
      ]
     },
     "execution_count": 6,
     "metadata": {},
     "output_type": "execute_result"
    }
   ],
   "source": [
    "df['marital'].value_counts()\n",
    "df['marital'] = df['marital'].map({'unknown': 0, 'single': 1, 'married': 2, 'divorced': 3})\n",
    "df['marital'].value_counts()"
   ]
  },
  {
   "cell_type": "code",
   "execution_count": 7,
   "id": "383b9725-4081-4dc2-b9b7-15f8adddc880",
   "metadata": {},
   "outputs": [
    {
     "data": {
      "text/plain": [
       "university.degree      8709\n",
       "high.school            6774\n",
       "basic.9y               4320\n",
       "professional.course    3786\n",
       "basic.4y               3071\n",
       "basic.6y               1794\n",
       "unknown                1330\n",
       "illiterate              216\n",
       "Name: education, dtype: int64"
      ]
     },
     "execution_count": 7,
     "metadata": {},
     "output_type": "execute_result"
    }
   ],
   "source": [
    "df['education'].value_counts()"
   ]
  },
  {
   "cell_type": "code",
   "execution_count": 8,
   "id": "d2cba381-090a-47bc-b5cd-21dca126cfd0",
   "metadata": {},
   "outputs": [
    {
     "data": {
      "text/plain": [
       "6    8709\n",
       "5    6774\n",
       "4    4320\n",
       "7    3786\n",
       "2    3071\n",
       "3    1794\n",
       "0    1330\n",
       "1     216\n",
       "Name: education, dtype: int64"
      ]
     },
     "execution_count": 8,
     "metadata": {},
     "output_type": "execute_result"
    }
   ],
   "source": [
    "df['education'].value_counts()\n",
    "df['education'] = df['education'].map({'unknown': 0, 'illiterate': 1, 'basic.4y': 2, 'basic.6y': 3,\n",
    "                                       'basic.9y': 4, 'high.school': 5, 'university.degree': 6, 'professional.course': 7})\n",
    "df['education'].value_counts()"
   ]
  },
  {
   "cell_type": "code",
   "execution_count": 9,
   "id": "1e16fd17-bcc8-481e-8928-9f373994eb10",
   "metadata": {},
   "outputs": [
    {
     "data": {
      "text/plain": [
       "2    15449\n",
       "1    13365\n",
       "0     1186\n",
       "Name: housing, dtype: int64"
      ]
     },
     "execution_count": 9,
     "metadata": {},
     "output_type": "execute_result"
    }
   ],
   "source": [
    "#housing\tloan\tcontact\tmonth\tday_of_week\tpoutcome\n",
    "df['housing'].value_counts()\n",
    "df['housing'] = df['housing'].map({'unknown': 0, 'no': 1, 'yes': 2})\n",
    "df['housing'].value_counts()"
   ]
  },
  {
   "cell_type": "code",
   "execution_count": 10,
   "id": "210212e9-76c8-4ffb-ac0d-1a13b7bc0f0c",
   "metadata": {},
   "outputs": [
    {
     "data": {
      "text/plain": [
       "1    23988\n",
       "2     4817\n",
       "0     1195\n",
       "Name: loan, dtype: int64"
      ]
     },
     "execution_count": 10,
     "metadata": {},
     "output_type": "execute_result"
    }
   ],
   "source": [
    "df['loan'] = df['loan'].map({'unknown': 0, 'no': 1, 'yes': 2})\n",
    "df['loan'].value_counts()"
   ]
  },
  {
   "cell_type": "code",
   "execution_count": 11,
   "id": "9a429f0e-92bf-4b4c-9ef1-b802ff0916ca",
   "metadata": {},
   "outputs": [
    {
     "data": {
      "text/plain": [
       "0    18876\n",
       "1    11124\n",
       "Name: contact, dtype: int64"
      ]
     },
     "execution_count": 11,
     "metadata": {},
     "output_type": "execute_result"
    }
   ],
   "source": [
    "df['contact'] = df['contact'].map({'cellular': 0, 'telephone': 1})\n",
    "df['contact'].value_counts()"
   ]
  },
  {
   "cell_type": "code",
   "execution_count": 12,
   "id": "e719e74e-1f4f-4a04-9b6f-e72676244900",
   "metadata": {},
   "outputs": [
    {
     "data": {
      "text/plain": [
       "4    6315\n",
       "1    6133\n",
       "3    5983\n",
       "2    5891\n",
       "5    5678\n",
       "Name: day_of_week, dtype: int64"
      ]
     },
     "execution_count": 12,
     "metadata": {},
     "output_type": "execute_result"
    }
   ],
   "source": [
    "# mon: 0, tue: 1, wed: 2, thu: 3, fri: 4\n",
    "df['day_of_week'].value_counts()\n",
    "df['day_of_week'] = df['day_of_week'].map({'mon': 1, 'tue': 2, 'wed': 3, 'thu': 4, 'fri': 5})\n",
    "df['day_of_week'].value_counts()"
   ]
  },
  {
   "cell_type": "code",
   "execution_count": 13,
   "id": "a4854f3a-ab5b-403a-b9a5-d19d4cd20233",
   "metadata": {},
   "outputs": [
    {
     "data": {
      "text/plain": [
       "0    19467\n",
       "1     5924\n",
       "2     4609\n",
       "Name: poutcome, dtype: int64"
      ]
     },
     "execution_count": 13,
     "metadata": {},
     "output_type": "execute_result"
    }
   ],
   "source": [
    "df['poutcome'] = df['poutcome'].map({'nonexistent': 0, 'failure': 1, 'success': 2})\n",
    "df['poutcome'].value_counts()"
   ]
  },
  {
   "cell_type": "code",
   "execution_count": 14,
   "id": "39949ead-0960-4b4b-bdb3-b1cc50aebbc2",
   "metadata": {},
   "outputs": [
    {
     "data": {
      "text/plain": [
       "1    23015\n",
       "0     6457\n",
       "2      528\n",
       "Name: default, dtype: int64"
      ]
     },
     "execution_count": 14,
     "metadata": {},
     "output_type": "execute_result"
    }
   ],
   "source": [
    "df['default'].value_counts()\n",
    "df['default'] = df['default'].map({'unknown': 0, 'no': 1, 'yes': 2})\n",
    "df['default'].value_counts()"
   ]
  },
  {
   "cell_type": "code",
   "execution_count": 15,
   "id": "32be7d3f-11f3-4049-8848-6143b086d907",
   "metadata": {},
   "outputs": [
    {
     "data": {
      "text/plain": [
       "5     9648\n",
       "7     5060\n",
       "8     4449\n",
       "6     3857\n",
       "11    2998\n",
       "4     2005\n",
       "10     641\n",
       "3      545\n",
       "9      528\n",
       "12     269\n",
       "Name: month, dtype: int64"
      ]
     },
     "execution_count": 15,
     "metadata": {},
     "output_type": "execute_result"
    }
   ],
   "source": [
    "#df[cat_columns]\n",
    "df['month'] = df['month'].map({'mar': 3, 'apr': 4, 'may': 5, 'jun': 6, 'jul': 7, 'aug': 8,\n",
    "                               'sep': 9, 'oct': 10, 'nov': 11, 'dec': 12})\n",
    "df['month'].value_counts()"
   ]
  },
  {
   "cell_type": "code",
   "execution_count": 16,
   "id": "7818626a-2e62-4268-a545-500904447592",
   "metadata": {},
   "outputs": [
    {
     "data": {
      "text/plain": [
       "0.0    19548\n",
       "1.0     2952\n",
       "Name: subscribe, dtype: int64"
      ]
     },
     "execution_count": 16,
     "metadata": {},
     "output_type": "execute_result"
    }
   ],
   "source": [
    "df['subscribe'] = df['subscribe'].map({'no': 0, 'yes': 1})\n",
    "df['subscribe'].value_counts()"
   ]
  },
  {
   "cell_type": "code",
   "execution_count": 17,
   "id": "a3d75699-dcfb-4552-8917-5230489a3f35",
   "metadata": {},
   "outputs": [],
   "source": [
    "# 3. 划分数据集\n",
    "# 设置测试集的大小（数据集的最后7500行）\n",
    "test_size = 7500\n",
    "\n",
    "# 使用iloc根据行数分割数据集\n",
    "train_nochange = df.iloc[:-test_size]  # 训练集：除去最后7500行的所有行\n",
    "# 测试集：最后7500行，并删除'subscribe'列\n",
    "test_nochange = df.iloc[-test_size:].drop('subscribe', axis=1)\n",
    "\n"
   ]
  },
  {
   "cell_type": "code",
   "execution_count": 18,
   "id": "f29a9857-5da7-4cf0-95e0-c541fce5fe76",
   "metadata": {},
   "outputs": [],
   "source": [
    "# 导出到CSV文件\n",
    "train_nochange.to_csv('train_nochange.csv', index=False)\n",
    "test_nochange.to_csv('test_nochange.csv', index=False)"
   ]
  },
  {
   "cell_type": "code",
   "execution_count": null,
   "id": "76a16247-a65e-4d33-9752-066591fb7cfa",
   "metadata": {},
   "outputs": [],
   "source": []
  },
  {
   "cell_type": "code",
   "execution_count": null,
   "id": "ad82f1b0-2ca8-48ba-af6c-935d20216ebc",
   "metadata": {},
   "outputs": [],
   "source": []
  }
 ],
 "metadata": {
  "kernelspec": {
   "display_name": "Python 3 (ipykernel)",
   "language": "python",
   "name": "python3"
  },
  "language_info": {
   "codemirror_mode": {
    "name": "ipython",
    "version": 3
   },
   "file_extension": ".py",
   "mimetype": "text/x-python",
   "name": "python",
   "nbconvert_exporter": "python",
   "pygments_lexer": "ipython3",
   "version": "3.9.10"
  }
 },
 "nbformat": 4,
 "nbformat_minor": 5
}
