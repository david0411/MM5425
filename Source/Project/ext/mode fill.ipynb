{
 "cells": [
  {
   "cell_type": "code",
   "execution_count": 1,
   "id": "125aa854-f57d-4bcd-a919-18e52b460eae",
   "metadata": {
    "ExecuteTime": {
     "end_time": "2024-03-27T04:33:30.184515Z",
     "start_time": "2024-03-27T04:33:29.573513Z"
    }
   },
   "outputs": [],
   "source": [
    "import pandas as pd\n",
    "import numpy as np\n",
    "import matplotlib.pyplot as plt\n"
   ]
  },
  {
   "cell_type": "code",
   "execution_count": 4,
   "id": "e1d3e047-16b6-4734-8458-4cd14cdd62d3",
   "metadata": {
    "ExecuteTime": {
     "end_time": "2024-03-27T04:34:17.637445Z",
     "start_time": "2024-03-27T04:34:17.540768Z"
    }
   },
   "outputs": [],
   "source": [
    "train=pd.read_csv('../data/train.csv')\n",
    "test=pd.read_csv('../data/test.csv')"
   ]
  },
  {
   "cell_type": "code",
   "execution_count": 7,
   "id": "1a923d72-1342-4f07-b4f2-b5d854482ac5",
   "metadata": {
    "ExecuteTime": {
     "end_time": "2024-03-27T04:34:25.748491Z",
     "start_time": "2024-03-27T04:34:25.738525Z"
    }
   },
   "outputs": [],
   "source": [
    "# combine test dataset and train dataset\n",
    "df =pd.concat([train, test], axis=0)\n",
    "#df"
   ]
  },
  {
   "cell_type": "code",
   "execution_count": 8,
   "id": "ea1a9c2f-9de9-4b43-acaf-6256a286789b",
   "metadata": {
    "ExecuteTime": {
     "end_time": "2024-03-27T04:34:28.757740Z",
     "start_time": "2024-03-27T04:34:28.748770Z"
    }
   },
   "outputs": [],
   "source": [
    "#描述性统计\n",
    "#df.describe()"
   ]
  },
  {
   "cell_type": "code",
   "execution_count": 9,
   "id": "d1917425-5823-4408-894d-c6105605ca85",
   "metadata": {
    "ExecuteTime": {
     "end_time": "2024-03-27T04:34:37.942373Z",
     "start_time": "2024-03-27T04:34:37.932406Z"
    }
   },
   "outputs": [],
   "source": [
    "# 直方图\n",
    "#df.hist(bins=20, figsize=(20, 15))\n",
    "#plt.show()\n",
    "\n",
    "# 箱线图\n",
    "#df.plot(kind='box', subplots=True, layout=(3, 4), sharex=False, sharey=False)\n",
    "#plt.show()"
   ]
  },
  {
   "cell_type": "code",
   "execution_count": 10,
   "id": "47658b94-a6eb-4e53-8f1c-1ce8034fda98",
   "metadata": {
    "ExecuteTime": {
     "end_time": "2024-03-27T04:34:41.122033Z",
     "start_time": "2024-03-27T04:34:41.106085Z"
    }
   },
   "outputs": [
    {
     "name": "stdout",
     "output_type": "stream",
     "text": [
      "id                  0\n",
      "age                 0\n",
      "job                 0\n",
      "marital             0\n",
      "education           0\n",
      "default             0\n",
      "housing             0\n",
      "loan                0\n",
      "contact             0\n",
      "month               0\n",
      "day_of_week         0\n",
      "duration            0\n",
      "campaign            0\n",
      "pdays               0\n",
      "previous            0\n",
      "poutcome            0\n",
      "emp_var_rate        0\n",
      "cons_price_index    0\n",
      "cons_conf_index     0\n",
      "lending_rate3m      0\n",
      "nr_employed         0\n",
      "dtype: int64\n",
      "id                  0\n",
      "age                 0\n",
      "job                 0\n",
      "marital             0\n",
      "education           0\n",
      "default             0\n",
      "housing             0\n",
      "loan                0\n",
      "contact             0\n",
      "month               0\n",
      "day_of_week         0\n",
      "duration            0\n",
      "campaign            0\n",
      "pdays               0\n",
      "previous            0\n",
      "poutcome            0\n",
      "emp_var_rate        0\n",
      "cons_price_index    0\n",
      "cons_conf_index     0\n",
      "lending_rate3m      0\n",
      "nr_employed         0\n",
      "subscribe           0\n",
      "dtype: int64\n"
     ]
    }
   ],
   "source": [
    "#查询缺失值\n",
    "print(test.isnull().sum())\n",
    "print(train.isnull().sum())"
   ]
  },
  {
   "cell_type": "code",
   "execution_count": 11,
   "id": "be7ae6fd-dcba-4b64-9a6c-be0ff2a7a0b1",
   "metadata": {
    "ExecuteTime": {
     "end_time": "2024-03-27T04:34:53.228775Z",
     "start_time": "2024-03-27T04:34:53.178941Z"
    }
   },
   "outputs": [
    {
     "name": "stdout",
     "output_type": "stream",
     "text": [
      "每列缺失值的数量（标记为'unknown'）：\n",
      "id                     0\n",
      "age                    0\n",
      "job                  358\n",
      "marital              451\n",
      "education           1330\n",
      "default             6457\n",
      "housing             1186\n",
      "loan                1195\n",
      "contact                0\n",
      "month                  0\n",
      "day_of_week            0\n",
      "duration               0\n",
      "campaign               0\n",
      "pdays                  0\n",
      "previous               0\n",
      "poutcome               0\n",
      "emp_var_rate           0\n",
      "cons_price_index       0\n",
      "cons_conf_index        0\n",
      "lending_rate3m         0\n",
      "nr_employed            0\n",
      "subscribe              0\n",
      "dtype: int64\n",
      "存在缺失值的列： ['job', 'marital', 'education', 'default', 'housing', 'loan']\n",
      "id的缺失比例是0.00%\n",
      "age的缺失比例是0.00%\n",
      "job的缺失比例是1.19%\n",
      "marital的缺失比例是1.50%\n",
      "education的缺失比例是4.43%\n",
      "default的缺失比例是21.52%\n",
      "housing的缺失比例是3.95%\n",
      "loan的缺失比例是3.98%\n",
      "contact的缺失比例是0.00%\n",
      "month的缺失比例是0.00%\n",
      "day_of_week的缺失比例是0.00%\n",
      "duration的缺失比例是0.00%\n",
      "campaign的缺失比例是0.00%\n",
      "pdays的缺失比例是0.00%\n",
      "previous的缺失比例是0.00%\n",
      "poutcome的缺失比例是0.00%\n",
      "emp_var_rate的缺失比例是0.00%\n",
      "cons_price_index的缺失比例是0.00%\n",
      "cons_conf_index的缺失比例是0.00%\n",
      "lending_rate3m的缺失比例是0.00%\n",
      "nr_employed的缺失比例是0.00%\n",
      "subscribe的缺失比例是0.00%\n",
      "每个变量的缺失值占比（标记为'unknown'）：\n",
      "id: 0.00%\n",
      "age: 0.00%\n",
      "job: 1.19%\n",
      "marital: 1.50%\n",
      "education: 4.43%\n",
      "default: 21.52%\n",
      "housing: 3.95%\n",
      "loan: 3.98%\n",
      "contact: 0.00%\n",
      "month: 0.00%\n",
      "day_of_week: 0.00%\n",
      "duration: 0.00%\n",
      "campaign: 0.00%\n",
      "pdays: 0.00%\n",
      "previous: 0.00%\n",
      "poutcome: 0.00%\n",
      "emp_var_rate: 0.00%\n",
      "cons_price_index: 0.00%\n",
      "cons_conf_index: 0.00%\n",
      "lending_rate3m: 0.00%\n",
      "nr_employed: 0.00%\n",
      "subscribe: 0.00%\n"
     ]
    }
   ],
   "source": [
    "print(\"每列缺失值的数量（标记为unknown）：\")\n",
    "# 使用str.contains来检查每列中'unknown'的出现次数\n",
    "missing_counts = df.apply(lambda x: (x == 'unknown').sum())\n",
    "print(missing_counts)\n",
    "\n",
    "# 找出存在缺失值（标记为unknown）的列\n",
    "missing_col = missing_counts[missing_counts > 0].index.tolist()\n",
    "print(\"存在缺失值的列：\", missing_col)\n",
    "\n",
    "# 统计每个变量的缺失值占比（标记为unknown）\n",
    "def CountUnknown(df):\n",
    "    cols = df.columns.tolist()  # cols为data的所有列名\n",
    "    n_df = len(df)  # n_df为数据的行数\n",
    "    missing_percentages = {}  # 存储每个变量的缺失比例\n",
    "\n",
    "    for col in cols:\n",
    "        # 计算col列中unknown的个数\n",
    "        missing = (df[col] == 'unknown').sum()\n",
    "        # 计算缺失比例\n",
    "        mis_perc = (missing / n_df) * 100\n",
    "        missing_percentages[col] = mis_perc  # 存储缺失比例\n",
    "        print(f\"{col}的缺失比例是{mis_perc:.2f}%\")\n",
    "\n",
    "    return missing_percentages\n",
    "\n",
    "# 调用函数并打印结果\n",
    "missing_percentages = CountUnknown(df)\n",
    "print(\"每个变量的缺失值占比（标记为unknown）：\")\n",
    "for col, mis_perc in missing_percentages.items():\n",
    "    print(f\"{col}: {mis_perc:.2f}%\")"
   ]
  },
  {
   "cell_type": "code",
   "execution_count": 12,
   "id": "e06203b4-73df-4af5-b7ad-5f7a6c6964c1",
   "metadata": {
    "ExecuteTime": {
     "end_time": "2024-03-27T04:35:58.028698Z",
     "start_time": "2024-03-27T04:35:57.990825Z"
    }
   },
   "outputs": [
    {
     "name": "stdout",
     "output_type": "stream",
     "text": [
      "每列缺失值的数量（标记为'unknown'）：\n",
      "id                     0\n",
      "age                    0\n",
      "job                   84\n",
      "marital              131\n",
      "education            336\n",
      "default             1597\n",
      "housing              300\n",
      "loan                 306\n",
      "contact                0\n",
      "month                  0\n",
      "day_of_week            0\n",
      "duration               0\n",
      "campaign               0\n",
      "pdays                  0\n",
      "previous               0\n",
      "poutcome               0\n",
      "emp_var_rate           0\n",
      "cons_price_index       0\n",
      "cons_conf_index        0\n",
      "lending_rate3m         0\n",
      "nr_employed            0\n",
      "dtype: int64\n",
      "存在缺失值的列： ['job', 'marital', 'education', 'default', 'housing', 'loan']\n",
      "id的缺失比例是0.00%\n",
      "age的缺失比例是0.00%\n",
      "job的缺失比例是1.19%\n",
      "marital的缺失比例是1.50%\n",
      "education的缺失比例是4.43%\n",
      "default的缺失比例是21.52%\n",
      "housing的缺失比例是3.95%\n",
      "loan的缺失比例是3.98%\n",
      "contact的缺失比例是0.00%\n",
      "month的缺失比例是0.00%\n",
      "day_of_week的缺失比例是0.00%\n",
      "duration的缺失比例是0.00%\n",
      "campaign的缺失比例是0.00%\n",
      "pdays的缺失比例是0.00%\n",
      "previous的缺失比例是0.00%\n",
      "poutcome的缺失比例是0.00%\n",
      "emp_var_rate的缺失比例是0.00%\n",
      "cons_price_index的缺失比例是0.00%\n",
      "cons_conf_index的缺失比例是0.00%\n",
      "lending_rate3m的缺失比例是0.00%\n",
      "nr_employed的缺失比例是0.00%\n",
      "subscribe的缺失比例是0.00%\n",
      "每个变量的缺失值占比（标记为'unknown'）：\n",
      "id: 0.00%\n",
      "age: 0.00%\n",
      "job: 1.19%\n",
      "marital: 1.50%\n",
      "education: 4.43%\n",
      "default: 21.52%\n",
      "housing: 3.95%\n",
      "loan: 3.98%\n",
      "contact: 0.00%\n",
      "month: 0.00%\n",
      "day_of_week: 0.00%\n",
      "duration: 0.00%\n",
      "campaign: 0.00%\n",
      "pdays: 0.00%\n",
      "previous: 0.00%\n",
      "poutcome: 0.00%\n",
      "emp_var_rate: 0.00%\n",
      "cons_price_index: 0.00%\n",
      "cons_conf_index: 0.00%\n",
      "lending_rate3m: 0.00%\n",
      "nr_employed: 0.00%\n",
      "subscribe: 0.00%\n"
     ]
    }
   ],
   "source": [
    "print(\"每列缺失值的数量（标记为unknown）：\")\n",
    "# 使用str.contains来检查每列中'unknown'的出现次数\n",
    "missing_counts = test.apply(lambda x: (x == 'unknown').sum())\n",
    "print(missing_counts)\n",
    "\n",
    "# 找出存在缺失值（标记为unknown）的列\n",
    "missing_col = missing_counts[missing_counts > 0].index.tolist()\n",
    "print(\"存在缺失值的列：\", missing_col)\n",
    "\n",
    "# 统计每个变量的缺失值占比（标记为unknown）\n",
    "def CountUnknown(test):\n",
    "    cols = test.columns.tolist()  # cols为data的所有列名\n",
    "    n_test = len(test)  # n_df为数据的行数\n",
    "    missing_percentages = {}  # 存储每个变量的缺失比例\n",
    "\n",
    "    for col in cols:\n",
    "        # 计算col列中unknown的个数\n",
    "        missing = (test[col] == 'unknown').sum()\n",
    "        # 计算缺失比例\n",
    "        mis_perc = (missing / n_test) * 100\n",
    "        missing_percentages[col] = mis_perc  # 存储缺失比例\n",
    "        print(f\"{col}的缺失比例是{mis_perc:.2f}%\")\n",
    "\n",
    "    return missing_percentages\n",
    "\n",
    "# 调用函数并打印结果\n",
    "missing_percentages = CountUnknown(df)\n",
    "print(\"每个变量的缺失值占比（标记为unknown）：\")\n",
    "for col, mis_perc in missing_percentages.items():\n",
    "    print(f\"{col}: {mis_perc:.2f}%\")"
   ]
  },
  {
   "cell_type": "code",
   "execution_count": 13,
   "id": "a734d20e-e970-4446-b6c4-020e166a3359",
   "metadata": {
    "ExecuteTime": {
     "end_time": "2024-03-27T04:36:03.793651Z",
     "start_time": "2024-03-27T04:36:03.745811Z"
    }
   },
   "outputs": [
    {
     "name": "stdout",
     "output_type": "stream",
     "text": [
      "每列缺失值的数量（标记为'unknown'）：\n",
      "id                     0\n",
      "age                    0\n",
      "job                  274\n",
      "marital              320\n",
      "education            994\n",
      "default             4860\n",
      "housing              886\n",
      "loan                 889\n",
      "contact                0\n",
      "month                  0\n",
      "day_of_week            0\n",
      "duration               0\n",
      "campaign               0\n",
      "pdays                  0\n",
      "previous               0\n",
      "poutcome               0\n",
      "emp_var_rate           0\n",
      "cons_price_index       0\n",
      "cons_conf_index        0\n",
      "lending_rate3m         0\n",
      "nr_employed            0\n",
      "subscribe              0\n",
      "dtype: int64\n",
      "存在缺失值的列： ['job', 'marital', 'education', 'default', 'housing', 'loan']\n",
      "id的缺失比例是0.00%\n",
      "age的缺失比例是0.00%\n",
      "job的缺失比例是1.19%\n",
      "marital的缺失比例是1.50%\n",
      "education的缺失比例是4.43%\n",
      "default的缺失比例是21.52%\n",
      "housing的缺失比例是3.95%\n",
      "loan的缺失比例是3.98%\n",
      "contact的缺失比例是0.00%\n",
      "month的缺失比例是0.00%\n",
      "day_of_week的缺失比例是0.00%\n",
      "duration的缺失比例是0.00%\n",
      "campaign的缺失比例是0.00%\n",
      "pdays的缺失比例是0.00%\n",
      "previous的缺失比例是0.00%\n",
      "poutcome的缺失比例是0.00%\n",
      "emp_var_rate的缺失比例是0.00%\n",
      "cons_price_index的缺失比例是0.00%\n",
      "cons_conf_index的缺失比例是0.00%\n",
      "lending_rate3m的缺失比例是0.00%\n",
      "nr_employed的缺失比例是0.00%\n",
      "subscribe的缺失比例是0.00%\n",
      "每个变量的缺失值占比（标记为'unknown'）：\n",
      "id: 0.00%\n",
      "age: 0.00%\n",
      "job: 1.19%\n",
      "marital: 1.50%\n",
      "education: 4.43%\n",
      "default: 21.52%\n",
      "housing: 3.95%\n",
      "loan: 3.98%\n",
      "contact: 0.00%\n",
      "month: 0.00%\n",
      "day_of_week: 0.00%\n",
      "duration: 0.00%\n",
      "campaign: 0.00%\n",
      "pdays: 0.00%\n",
      "previous: 0.00%\n",
      "poutcome: 0.00%\n",
      "emp_var_rate: 0.00%\n",
      "cons_price_index: 0.00%\n",
      "cons_conf_index: 0.00%\n",
      "lending_rate3m: 0.00%\n",
      "nr_employed: 0.00%\n",
      "subscribe: 0.00%\n"
     ]
    }
   ],
   "source": [
    "print(\"每列缺失值的数量（标记为unknown）：\")\n",
    "# 使用str.contains来检查每列中'unknown'的出现次数\n",
    "missing_counts = train.apply(lambda x: (x == 'unknown').sum())\n",
    "print(missing_counts)\n",
    "\n",
    "# 找出存在缺失值（标记为unknown）的列\n",
    "missing_col = missing_counts[missing_counts > 0].index.tolist()\n",
    "print(\"存在缺失值的列：\", missing_col)\n",
    "\n",
    "# 统计每个变量的缺失值占比（标记为unknown）\n",
    "def CountUnknown(train):\n",
    "    cols = train.columns.tolist()  # cols为data的所有列名\n",
    "    n_train = len(train)  # n_df为数据的行数\n",
    "    missing_percentages = {}  # 存储每个变量的缺失比例\n",
    "\n",
    "    for col in cols:\n",
    "        # 计算col列中unknown的个数\n",
    "        missing = (train[col] == 'unknown').sum()\n",
    "        # 计算缺失比例\n",
    "        mis_perc = (missing / n_train) * 100\n",
    "        missing_percentages[col] = mis_perc  # 存储缺失比例\n",
    "        print(f\"{col}的缺失比例是{mis_perc:.2f}%\")\n",
    "\n",
    "    return missing_percentages\n",
    "\n",
    "# 调用函数并打印结果\n",
    "missing_percentages = CountUnknown(df)\n",
    "print(\"每个变量的缺失值占比（标记为unknown）：\")\n",
    "for col, mis_perc in missing_percentages.items():\n",
    "    print(f\"{col}: {mis_perc:.2f}%\")"
   ]
  },
  {
   "cell_type": "code",
   "execution_count": 14,
   "id": "af99bce3-fcca-448a-9a2b-b4f2130eb76a",
   "metadata": {
    "ExecuteTime": {
     "end_time": "2024-03-27T04:36:19.835509Z",
     "start_time": "2024-03-27T04:36:19.755776Z"
    }
   },
   "outputs": [
    {
     "name": "stdout",
     "output_type": "stream",
     "text": [
      "包含'unknown'值的行数: 10977\n"
     ]
    }
   ],
   "source": [
    "# 找出包含\"unknown\"值的行数，只对字符串类型的列进行操作\n",
    "count_unknown_rows = 0\n",
    "for column in df.columns:\n",
    "    if df[column].dtype == object or df[column].dtype == 'object':  # 检查列是否为字符串类型\n",
    "        contains_unknown = df[column].str.contains('unknown')\n",
    "        count_unknown_rows += contains_unknown.sum()\n",
    "\n",
    "print(f\"包含unknown值的行数: {count_unknown_rows}\")"
   ]
  },
  {
   "cell_type": "code",
   "execution_count": 15,
   "id": "889dd1b0-87d7-4cbe-8de9-7661042919cc",
   "metadata": {
    "ExecuteTime": {
     "end_time": "2024-03-27T04:37:33.356438Z",
     "start_time": "2024-03-27T04:37:33.313581Z"
    }
   },
   "outputs": [
    {
     "name": "stdout",
     "output_type": "stream",
     "text": [
      "列 'job' 的众数是: admin.\n",
      "列 'marital' 的众数是: married\n",
      "列 'education' 的众数是: university.degree\n",
      "列 'default' 的众数是: no\n",
      "列 'housing' 的众数是: yes\n",
      "列 'loan' 的众数是: no\n",
      "所有'unknown'值已使用相应列的众数填充完成。\n"
     ]
    }
   ],
   "source": [
    "# 定义一个函数来替换unknown值为众数\n",
    "def replace_unknown_with_mode(df, col):\n",
    "    # 获取列的众数，参数dropna=False表示不忽略缺失值\n",
    "    mode_value = df[col].mode(dropna=False)[0]\n",
    "    # 替换unknown为众数，然后返回修改后的Series\n",
    "    return df[col].replace('unknown', mode_value)\n",
    "\n",
    "# 指定要找出众数的列\n",
    "columns_to_check = ['job', 'marital', 'education', 'default', 'housing', 'loan']\n",
    "\n",
    "# 遍历列名列表\n",
    "for column in columns_to_check:\n",
    "    # 检查该列是否包含unknown值\n",
    "    if 'unknown' in df[column].values:\n",
    "        # 打印该列的众数值\n",
    "        mode_value = df[column].mode(dropna=False)[0]\n",
    "        print(f\"列 '{column}' 的众数是: {mode_value}\")\n",
    "        # 使用定义的函数替换unknown值为众数\n",
    "        df[column] = replace_unknown_with_mode(df, column)\n",
    "\n",
    "# 打印替换结果\n",
    "print(\"所有unknown值已使用相应列的众数填充完成。\")"
   ]
  },
  {
   "cell_type": "code",
   "execution_count": 16,
   "id": "2db35311-1e53-4375-bf15-94a975c73f85",
   "metadata": {
    "ExecuteTime": {
     "end_time": "2024-03-27T04:38:02.015341Z",
     "start_time": "2024-03-27T04:38:02.006371Z"
    }
   },
   "outputs": [
    {
     "name": "stdout",
     "output_type": "stream",
     "text": [
      "\n",
      "描述变量有：\n",
      "job\n",
      "marital\n",
      "education\n",
      "default\n",
      "housing\n",
      "loan\n",
      "contact\n",
      "month\n",
      "day_of_week\n",
      "poutcome\n",
      "subscribe\n"
     ]
    }
   ],
   "source": [
    "# 描述性变量转换为数值型\n",
    "cat_vars=[]\n",
    "print('\\n描述变量有：')\n",
    "cols = df.columns.tolist()\n",
    "for col in cols:\n",
    "    if df[col].dtype == 'object':\n",
    "        print(col)\n",
    "        cat_vars.append(col)"
   ]
  },
  {
   "cell_type": "code",
   "execution_count": 17,
   "id": "b52887bf-0fea-45ad-9d6c-231b9447dd5d",
   "metadata": {
    "ExecuteTime": {
     "end_time": "2024-03-27T04:38:17.778568Z",
     "start_time": "2024-03-27T04:38:16.895476Z"
    }
   },
   "outputs": [
    {
     "data": {
      "text/plain": "job\n1     7741\n2     6506\n10    4731\n8     2834\n5     2164\n6     1335\n3     1158\n7     1123\n4      848\n11     844\n9      716\nName: count, dtype: int64"
     },
     "execution_count": 17,
     "metadata": {},
     "output_type": "execute_result"
    }
   ],
   "source": [
    "# 处理有序变量\n",
    "from sklearn.preprocessing import LabelEncoder\n",
    "\n",
    "job_le = LabelEncoder()\n",
    "df['job'] =df['job'].map({'unknown': 0, 'admin.': 1, 'blue-collar': 2, 'entrepreneur': 3,'housemaid':4,'management':5,'retired':6,'self-employed':7,'services':8,'student':9,'technician':10,'unemployed':11})\n",
    "df['job'].value_counts()"
   ]
  },
  {
   "cell_type": "code",
   "execution_count": 18,
   "id": "06953d83-dcb5-450e-bb80-e2b943720c56",
   "metadata": {
    "ExecuteTime": {
     "end_time": "2024-03-27T04:38:23.889540Z",
     "start_time": "2024-03-27T04:38:23.866616Z"
    }
   },
   "outputs": [
    {
     "data": {
      "text/plain": "marital\n2    18055\n1     8417\n3     3528\nName: count, dtype: int64"
     },
     "execution_count": 18,
     "metadata": {},
     "output_type": "execute_result"
    }
   ],
   "source": [
    "df['marital'].value_counts()\n",
    "df['marital'] = df['marital'].map({'unknown': 0, 'single': 1, 'married': 2, 'divorced': 3})\n",
    "df['marital'].value_counts()"
   ]
  },
  {
   "cell_type": "code",
   "execution_count": 19,
   "id": "383b9725-4081-4dc2-b9b7-15f8adddc880",
   "metadata": {
    "ExecuteTime": {
     "end_time": "2024-03-27T04:38:29.759193Z",
     "start_time": "2024-03-27T04:38:29.747234Z"
    }
   },
   "outputs": [
    {
     "data": {
      "text/plain": "education\nuniversity.degree      10039\nhigh.school             6774\nbasic.9y                4320\nprofessional.course     3786\nbasic.4y                3071\nbasic.6y                1794\nilliterate               216\nName: count, dtype: int64"
     },
     "execution_count": 19,
     "metadata": {},
     "output_type": "execute_result"
    }
   ],
   "source": [
    "df['education'].value_counts()"
   ]
  },
  {
   "cell_type": "code",
   "execution_count": 20,
   "id": "d2cba381-090a-47bc-b5cd-21dca126cfd0",
   "metadata": {
    "ExecuteTime": {
     "end_time": "2024-03-27T04:38:36.495045Z",
     "start_time": "2024-03-27T04:38:36.472122Z"
    }
   },
   "outputs": [
    {
     "data": {
      "text/plain": "education\n6    10039\n5     6774\n4     4320\n7     3786\n2     3071\n3     1794\n1      216\nName: count, dtype: int64"
     },
     "execution_count": 20,
     "metadata": {},
     "output_type": "execute_result"
    }
   ],
   "source": [
    "df['education'].value_counts()\n",
    "df['education'] = df['education'].map({'unknown': 0, 'illiterate': 1, 'basic.4y': 2, 'basic.6y': 3,\n",
    "                                       'basic.9y': 4, 'high.school': 5, 'university.degree': 6, 'professional.course': 7})\n",
    "df['education'].value_counts()"
   ]
  },
  {
   "cell_type": "code",
   "execution_count": 21,
   "id": "1e16fd17-bcc8-481e-8928-9f373994eb10",
   "metadata": {
    "ExecuteTime": {
     "end_time": "2024-03-27T04:38:45.451292Z",
     "start_time": "2024-03-27T04:38:45.435345Z"
    }
   },
   "outputs": [
    {
     "data": {
      "text/plain": "housing\n2    16635\n1    13365\nName: count, dtype: int64"
     },
     "execution_count": 21,
     "metadata": {},
     "output_type": "execute_result"
    }
   ],
   "source": [
    "#housing\tloan\tcontact\tmonth\tday_of_week\tpoutcome\n",
    "df['housing'].value_counts()\n",
    "df['housing'] = df['housing'].map({'unknown': 0, 'no': 1, 'yes': 2})\n",
    "df['housing'].value_counts()"
   ]
  },
  {
   "cell_type": "code",
   "execution_count": 22,
   "id": "210212e9-76c8-4ffb-ac0d-1a13b7bc0f0c",
   "metadata": {
    "ExecuteTime": {
     "end_time": "2024-03-27T04:38:47.877578Z",
     "start_time": "2024-03-27T04:38:47.859639Z"
    }
   },
   "outputs": [
    {
     "data": {
      "text/plain": "loan\n1    25183\n2     4817\nName: count, dtype: int64"
     },
     "execution_count": 22,
     "metadata": {},
     "output_type": "execute_result"
    }
   ],
   "source": [
    "df['loan'] = df['loan'].map({'unknown': 0, 'no': 1, 'yes': 2})\n",
    "df['loan'].value_counts()"
   ]
  },
  {
   "cell_type": "code",
   "execution_count": 23,
   "id": "9a429f0e-92bf-4b4c-9ef1-b802ff0916ca",
   "metadata": {
    "ExecuteTime": {
     "end_time": "2024-03-27T04:38:52.755603Z",
     "start_time": "2024-03-27T04:38:52.739657Z"
    }
   },
   "outputs": [
    {
     "data": {
      "text/plain": "contact\n0    18876\n1    11124\nName: count, dtype: int64"
     },
     "execution_count": 23,
     "metadata": {},
     "output_type": "execute_result"
    }
   ],
   "source": [
    "df['contact'] = df['contact'].map({'cellular': 0, 'telephone': 1})\n",
    "df['contact'].value_counts()"
   ]
  },
  {
   "cell_type": "code",
   "execution_count": 24,
   "id": "e719e74e-1f4f-4a04-9b6f-e72676244900",
   "metadata": {
    "ExecuteTime": {
     "end_time": "2024-03-27T04:39:00.742518Z",
     "start_time": "2024-03-27T04:39:00.727568Z"
    }
   },
   "outputs": [
    {
     "data": {
      "text/plain": "day_of_week\n4    6315\n1    6133\n3    5983\n2    5891\n5    5678\nName: count, dtype: int64"
     },
     "execution_count": 24,
     "metadata": {},
     "output_type": "execute_result"
    }
   ],
   "source": [
    "# mon: 0, tue: 1, wed: 2, thu: 3, fri: 4\n",
    "df['day_of_week'].value_counts()\n",
    "df['day_of_week'] = df['day_of_week'].map({'mon': 1, 'tue': 2, 'wed': 3, 'thu': 4, 'fri': 5})\n",
    "df['day_of_week'].value_counts()"
   ]
  },
  {
   "cell_type": "code",
   "execution_count": 25,
   "id": "a4854f3a-ab5b-403a-b9a5-d19d4cd20233",
   "metadata": {
    "ExecuteTime": {
     "end_time": "2024-03-27T04:39:09.935317Z",
     "start_time": "2024-03-27T04:39:09.920368Z"
    }
   },
   "outputs": [
    {
     "data": {
      "text/plain": "poutcome\n0    19467\n1     5924\n2     4609\nName: count, dtype: int64"
     },
     "execution_count": 25,
     "metadata": {},
     "output_type": "execute_result"
    }
   ],
   "source": [
    "df['poutcome'] = df['poutcome'].map({'nonexistent': 0, 'failure': 1, 'success': 2})\n",
    "df['poutcome'].value_counts()"
   ]
  },
  {
   "cell_type": "code",
   "execution_count": 26,
   "id": "39949ead-0960-4b4b-bdb3-b1cc50aebbc2",
   "metadata": {
    "ExecuteTime": {
     "end_time": "2024-03-27T04:39:14.354191Z",
     "start_time": "2024-03-27T04:39:14.331268Z"
    }
   },
   "outputs": [
    {
     "data": {
      "text/plain": "default\n1    29472\n2      528\nName: count, dtype: int64"
     },
     "execution_count": 26,
     "metadata": {},
     "output_type": "execute_result"
    }
   ],
   "source": [
    "df['default'].value_counts()\n",
    "df['default'] = df['default'].map({'unknown': 0, 'no': 1, 'yes': 2})\n",
    "df['default'].value_counts()"
   ]
  },
  {
   "cell_type": "code",
   "execution_count": 27,
   "id": "32be7d3f-11f3-4049-8848-6143b086d907",
   "metadata": {
    "ExecuteTime": {
     "end_time": "2024-03-27T04:39:21.128446Z",
     "start_time": "2024-03-27T04:39:21.115489Z"
    }
   },
   "outputs": [
    {
     "data": {
      "text/plain": "month\n5     9648\n7     5060\n8     4449\n6     3857\n11    2998\n4     2005\n10     641\n3      545\n9      528\n12     269\nName: count, dtype: int64"
     },
     "execution_count": 27,
     "metadata": {},
     "output_type": "execute_result"
    }
   ],
   "source": [
    "#df[cat_columns]\n",
    "df['month'] = df['month'].map({'mar': 3, 'apr': 4, 'may': 5, 'jun': 6, 'jul': 7, 'aug': 8,\n",
    "                               'sep': 9, 'oct': 10, 'nov': 11, 'dec': 12})\n",
    "df['month'].value_counts()"
   ]
  },
  {
   "cell_type": "code",
   "execution_count": 28,
   "id": "7818626a-2e62-4268-a545-500904447592",
   "metadata": {
    "ExecuteTime": {
     "end_time": "2024-03-27T04:39:24.822830Z",
     "start_time": "2024-03-27T04:39:24.803894Z"
    }
   },
   "outputs": [
    {
     "data": {
      "text/plain": "subscribe\n0.0    19548\n1.0     2952\nName: count, dtype: int64"
     },
     "execution_count": 28,
     "metadata": {},
     "output_type": "execute_result"
    }
   ],
   "source": [
    "df['subscribe'] = df['subscribe'].map({'no': 0, 'yes': 1})\n",
    "df['subscribe'].value_counts()"
   ]
  },
  {
   "cell_type": "code",
   "execution_count": 29,
   "id": "a3d75699-dcfb-4552-8917-5230489a3f35",
   "metadata": {
    "ExecuteTime": {
     "end_time": "2024-03-27T04:39:52.731248Z",
     "start_time": "2024-03-27T04:39:52.715301Z"
    }
   },
   "outputs": [],
   "source": [
    "# 3. 划分数据集\n",
    "# 设置测试集的大小（数据集的最后7500行）\n",
    "test_size = 7500\n",
    "\n",
    "# 使用iloc根据行数分割数据集\n",
    "train_mode = df.iloc[:-test_size]  # 训练集：除去最后7500行的所有行\n",
    "# 测试集：最后7500行，并删除subscribe列\n",
    "test_mode = df.iloc[-test_size:].drop('subscribe', axis=1)"
   ]
  },
  {
   "cell_type": "code",
   "execution_count": 30,
   "id": "f29a9857-5da7-4cf0-95e0-c541fce5fe76",
   "metadata": {
    "ExecuteTime": {
     "end_time": "2024-03-27T04:39:53.857339Z",
     "start_time": "2024-03-27T04:39:53.682923Z"
    }
   },
   "outputs": [],
   "source": [
    "# 导出到CSV文件\n",
    "train_mode.to_csv('train_mode.csv', index=False)\n",
    "test_mode.to_csv('test_mode.csv', index=False)"
   ]
  }
 ],
 "metadata": {
  "kernelspec": {
   "display_name": "Python 3 (ipykernel)",
   "language": "python",
   "name": "python3"
  },
  "language_info": {
   "codemirror_mode": {
    "name": "ipython",
    "version": 3
   },
   "file_extension": ".py",
   "mimetype": "text/x-python",
   "name": "python",
   "nbconvert_exporter": "python",
   "pygments_lexer": "ipython3",
   "version": "3.9.10"
  }
 },
 "nbformat": 4,
 "nbformat_minor": 5
}
