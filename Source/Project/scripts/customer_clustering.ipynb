{
 "cells": [
  {
   "cell_type": "code",
   "id": "initial_id",
   "metadata": {
    "collapsed": true
   },
   "source": [
    "import pandas as pd\n",
    "import numpy as np\n",
    "from imblearn.pipeline import Pipeline\n",
    "from imblearn.over_sampling import SMOTE\n",
    "from sklearn.preprocessing import OneHotEncoder\n",
    "from sklearn.cluster import KMeans\n",
    "from sklearn.neighbors import KNeighborsClassifier\n",
    "from sklearn.model_selection import cross_val_score, cross_val_predict\n",
    "import matplotlib.pylab as plt\n",
    "import seaborn as sns"
   ],
   "outputs": [],
   "execution_count": null
  },
  {
   "metadata": {},
   "cell_type": "code",
   "source": "df=pd.read_csv('../data/processed_train_filled.csv')",
   "id": "a484d0afa4a1a46c",
   "outputs": [],
   "execution_count": null
  },
  {
   "metadata": {},
   "cell_type": "code",
   "source": [
    "# filter subscribed\n",
    "# df_prev_success = df_no_unknown[df_no_unknown['poutcome'] == 'success']\n",
    "# df_prev_success = df[df['subscribe'] == 'yes']"
   ],
   "id": "3a06ceea6165b8e8",
   "outputs": [],
   "execution_count": null
  },
  {
   "metadata": {},
   "cell_type": "code",
   "source": "sns.displot(df['duration'])",
   "id": "e0ee196cfceb8a0c",
   "outputs": [],
   "execution_count": null
  },
  {
   "metadata": {},
   "cell_type": "code",
   "source": "sns.displot(df['campaign'])",
   "id": "57715f4776f709a9",
   "outputs": [],
   "execution_count": null
  },
  {
   "metadata": {},
   "cell_type": "code",
   "source": "sns.displot(df['pdays'])",
   "id": "2c390e547c89654b",
   "outputs": [],
   "execution_count": null
  },
  {
   "metadata": {},
   "cell_type": "code",
   "source": "sns.displot(df['previous'])",
   "id": "7fc05512e0c0a982",
   "outputs": [],
   "execution_count": null
  },
  {
   "metadata": {},
   "cell_type": "code",
   "source": [
    "# Group the duration by duration <= 1000 and duration > 1000\n",
    "# Group the campaign by campaign <= 10 and campaign > 10\n",
    "# Group the pdays by pdays > 900 and pdays <= 900"
   ],
   "id": "dd5b0156cd884e3d",
   "outputs": [],
   "execution_count": null
  },
  {
   "metadata": {},
   "cell_type": "code",
   "source": [
    "cust_features_transform = ['job', 'education', 'marital', 'contact']\n",
    "cust_features_map = ['default', 'housing', 'loan', 'subscribe']"
   ],
   "id": "33aaf029f3503896",
   "outputs": [],
   "execution_count": null
  },
  {
   "metadata": {},
   "cell_type": "code",
   "source": [
    "df['duration_gp'] = df['duration'].apply(lambda x: 1 if x <= 1000 else 0)\n",
    "df['campaign_gp'] = df['campaign'].apply(lambda x: 1 if x <= 10 else 0)\n",
    "df['pdays_gp'] = df['pdays'].apply(lambda x: 1 if x > 900 else 0)\n",
    "for feature in cust_features_transform:\n",
    "    encoder = OneHotEncoder(sparse_output=False)\n",
    "    feature_df = pd.DataFrame(encoder.fit_transform(df[[feature]]),\n",
    "                              columns=encoder.get_feature_names_out([feature])).reset_index(drop=True)\n",
    "    df = pd.concat([df, feature_df], axis=1)\n",
    "for feature in cust_features_map:\n",
    "    feature_df = df[feature].map({'yes':1, 'no':0})\n",
    "    df = pd.concat([df, feature_df], axis=1)"
   ],
   "id": "eab56d94630a174e",
   "outputs": [],
   "execution_count": null
  },
  {
   "metadata": {},
   "cell_type": "code",
   "source": [
    "X = df.iloc[:,22:-1]\n",
    "y = df.iloc[:,-1]\n",
    "print(X)\n",
    "print(y)"
   ],
   "id": "d035da03b6d80d88",
   "outputs": [],
   "execution_count": null
  },
  {
   "metadata": {},
   "cell_type": "code",
   "source": [
    "for k in range(31, 60):\n",
    "    # model = KNeighborsClassifier(n_neighbors=k, weights='distance')\n",
    "    # model.fit(X, y)\n",
    "    # accuracy = cross_val_score(model,X,y,cv=10).mean()\n",
    "    steps = [('smote', SMOTE(random_state=99)), ('knn', KNeighborsClassifier(n_neighbors=k, weights='distance'))]\n",
    "    pipeline = Pipeline(steps)\n",
    "    scores = cross_val_score(pipeline, X, y, cv=10, scoring='f1_macro').mean()\n",
    "    print(\"When k=%d, accuracy=%.5f\" % (k, scores))"
   ],
   "id": "bf4d0c8dbaa7287a",
   "outputs": [],
   "execution_count": null
  },
  {
   "metadata": {
    "ExecuteTime": {
     "end_time": "2024-04-12T11:13:48.697620Z",
     "start_time": "2024-04-12T11:13:37.875905Z"
    }
   },
   "cell_type": "code",
   "source": [
    "model_best = KNeighborsClassifier(n_neighbors=26,weights='distance')\n",
    "model_best.fit(X,y)\n",
    "y_pred_knn = cross_val_predict(model_best,X,y,cv=10)\n",
    "\n",
    "steps = [('smote', SMOTE(random_state=99)), ('knn', KNeighborsClassifier(n_neighbors=39, weights='distance'))]\n",
    "pipeline = Pipeline(steps)\n",
    "pipeline.fit(X, y)\n",
    "y_pred_smote = cross_val_predict(pipeline, X, y, cv=10)\n",
    "\n",
    "# show a classification report demonstrating the accuracy of the classifier for each digit\n",
    "from sklearn.metrics import classification_report\n",
    "from sklearn.metrics import confusion_matrix\n",
    "# evaluate result\n",
    "print(\"Accuracy:\",cross_val_score(model_best,X,y,cv=10).mean())\n",
    "print(\"Confusion Matrix:\\n\", confusion_matrix(y_pred_knn, y))\n",
    "print(\"Accuracy:\",cross_val_score(pipeline,X,y,cv=10).mean())\n",
    "print(\"Confusion Matrix:\\n\", confusion_matrix(y_pred_smote, y))"
   ],
   "id": "ea657b49bf03a916",
   "outputs": [
    {
     "name": "stdout",
     "output_type": "stream",
     "text": [
      "Accuracy: 0.8630222222222222\n",
      "Confusion Matrix:\n",
      " [[19249  2783]\n",
      " [  299   169]]\n",
      "Accuracy: 0.7999555555555555\n",
      "Confusion Matrix:\n",
      " [[17005  1958]\n",
      " [ 2543   994]]\n"
     ]
    }
   ],
   "execution_count": 98
  },
  {
   "metadata": {},
   "cell_type": "code",
   "source": [
    "inertia = []\n",
    "for nc in range(1,11):\n",
    "    kmeans = KMeans(n_clusters=nc, random_state=0).fit(one_hot_df)\n",
    "    inertia.append(kmeans.inertia_)\n",
    "interias = pd.DataFrame({'n_clusters': range(1, 11), 'inertia': inertia})\n",
    "\n",
    "plot = interias.plot(x='n_clusters', y='inertia')\n",
    "plt.xlabel('Number of clusters (k)')\n",
    "plt.ylabel('Sum of Squared Distances')\n",
    "plot.legend().set_visible(False)\n",
    "plt.show()"
   ],
   "id": "b74407634ced5ec8",
   "outputs": [],
   "execution_count": null
  },
  {
   "metadata": {},
   "cell_type": "code",
   "source": [
    "kmeans = KMeans(n_clusters=3, random_state=0).fit(one_hot_df)\n",
    "memb = pd.DataFrame(kmeans.labels_, one_hot_df.index, columns=['Cluster'])\n",
    "utilities_memb = pd.concat([one_hot_df, memb], axis=1)\n",
    "utilities_memb"
   ],
   "id": "5a8904a983e8c498",
   "outputs": [],
   "execution_count": null
  },
  {
   "metadata": {},
   "cell_type": "code",
   "source": [
    "# show cluster centroids\n",
    "centroids = pd.DataFrame(kmeans.cluster_centers_,\n",
    "                         columns=one_hot_df.columns)\n",
    "centroids"
   ],
   "id": "2e5b52188239c4c5",
   "outputs": [],
   "execution_count": null
  },
  {
   "metadata": {},
   "cell_type": "code",
   "source": "",
   "id": "38754af3b77a70a",
   "outputs": [],
   "execution_count": null
  }
 ],
 "metadata": {
  "kernelspec": {
   "display_name": "Python 3",
   "language": "python",
   "name": "python3"
  },
  "language_info": {
   "codemirror_mode": {
    "name": "ipython",
    "version": 2
   },
   "file_extension": ".py",
   "mimetype": "text/x-python",
   "name": "python",
   "nbconvert_exporter": "python",
   "pygments_lexer": "ipython2",
   "version": "2.7.6"
  }
 },
 "nbformat": 4,
 "nbformat_minor": 5
}
