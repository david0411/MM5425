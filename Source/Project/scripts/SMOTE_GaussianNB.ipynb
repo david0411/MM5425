{
 "cells": [
  {
   "cell_type": "markdown",
   "id": "187c1b32",
   "metadata": {},
   "source": [
    "# Naive Bayes Classifier - Gaussian Naive Bayes"
   ]
  },
  {
   "cell_type": "markdown",
   "id": "56559989",
   "metadata": {},
   "source": [
    "# Bank Marketing Dataset Plus\n",
    "- age\t年龄\n",
    "- job\t职业：admin, unknown, unemployed, management…\n",
    "- marital\t婚姻：married, divorced, single\n",
    "- default\t信用卡是否有违约: yes or no\n",
    "- housing\t是否有房贷: yes or no\n",
    "- contact\t联系方式：unknown, telephone, cellular\n",
    "- month\t上一次联系的月份：jan, feb, mar, …\n",
    "- day_of_week\t上一次联系的星期几：mon, tue, wed, thu, fri\n",
    "- duration\t上一次联系的时长（秒）\n",
    "- campaign\t活动期间联系客户的次数\n",
    "- pdays\t上一次与客户联系后的间隔天数\n",
    "- previous\t在本次营销活动前，与客户联系的次数\n",
    "- poutcome\t之前营销活动的结果：unknown, other, failure, success\n",
    "- emp_var_rate\t就业变动率（季度指标）\n",
    "- cons_price_index\t消费者价格指数（月度指标）\n",
    "- cons_conf_index\t消费者信心指数（月度指标）\n",
    "- lending_rate3m\t银行同业拆借率 3个月利率（每日指标）\n",
    "- nr_employed\t雇员人数（季度指标）\n",
    "- subscribe\t客户是否进行购买：yes 或 no"
   ]
  },
  {
   "cell_type": "code",
   "execution_count": 1,
   "id": "910da10a",
   "metadata": {},
   "outputs": [],
   "source": [
    "# Import libararies for data management\n",
    "import numpy as np\n",
    "import pandas as pd\n"
   ]
  },
  {
   "cell_type": "code",
   "execution_count": 2,
   "id": "defeeda7",
   "metadata": {},
   "outputs": [],
   "source": [
    "# Load dataset\n",
    "data = pd.read_csv('processed_train_filled.csv')"
   ]
  },
  {
   "cell_type": "code",
   "execution_count": 3,
   "id": "b5b96b9d",
   "metadata": {},
   "outputs": [
    {
     "data": {
      "text/html": [
       "<div>\n",
       "<style scoped>\n",
       "    .dataframe tbody tr th:only-of-type {\n",
       "        vertical-align: middle;\n",
       "    }\n",
       "\n",
       "    .dataframe tbody tr th {\n",
       "        vertical-align: top;\n",
       "    }\n",
       "\n",
       "    .dataframe thead th {\n",
       "        text-align: right;\n",
       "    }\n",
       "</style>\n",
       "<table border=\"1\" class=\"dataframe\">\n",
       "  <thead>\n",
       "    <tr style=\"text-align: right;\">\n",
       "      <th></th>\n",
       "      <th>id</th>\n",
       "      <th>age</th>\n",
       "      <th>job</th>\n",
       "      <th>marital</th>\n",
       "      <th>education</th>\n",
       "      <th>default</th>\n",
       "      <th>housing</th>\n",
       "      <th>loan</th>\n",
       "      <th>contact</th>\n",
       "      <th>month</th>\n",
       "      <th>...</th>\n",
       "      <th>campaign</th>\n",
       "      <th>pdays</th>\n",
       "      <th>previous</th>\n",
       "      <th>poutcome</th>\n",
       "      <th>emp_var_rate</th>\n",
       "      <th>cons_price_index</th>\n",
       "      <th>cons_conf_index</th>\n",
       "      <th>lending_rate3m</th>\n",
       "      <th>nr_employed</th>\n",
       "      <th>subscribe</th>\n",
       "    </tr>\n",
       "  </thead>\n",
       "  <tbody>\n",
       "    <tr>\n",
       "      <th>0</th>\n",
       "      <td>1</td>\n",
       "      <td>51</td>\n",
       "      <td>admin.</td>\n",
       "      <td>divorced</td>\n",
       "      <td>professional.course</td>\n",
       "      <td>no</td>\n",
       "      <td>yes</td>\n",
       "      <td>yes</td>\n",
       "      <td>cellular</td>\n",
       "      <td>aug</td>\n",
       "      <td>...</td>\n",
       "      <td>1</td>\n",
       "      <td>112</td>\n",
       "      <td>2</td>\n",
       "      <td>failure</td>\n",
       "      <td>1.4</td>\n",
       "      <td>90.81</td>\n",
       "      <td>-35.53</td>\n",
       "      <td>0.69</td>\n",
       "      <td>5219.74</td>\n",
       "      <td>no</td>\n",
       "    </tr>\n",
       "    <tr>\n",
       "      <th>1</th>\n",
       "      <td>2</td>\n",
       "      <td>50</td>\n",
       "      <td>services</td>\n",
       "      <td>married</td>\n",
       "      <td>high.school</td>\n",
       "      <td>no</td>\n",
       "      <td>yes</td>\n",
       "      <td>no</td>\n",
       "      <td>cellular</td>\n",
       "      <td>may</td>\n",
       "      <td>...</td>\n",
       "      <td>1</td>\n",
       "      <td>412</td>\n",
       "      <td>2</td>\n",
       "      <td>nonexistent</td>\n",
       "      <td>-1.8</td>\n",
       "      <td>96.33</td>\n",
       "      <td>-40.58</td>\n",
       "      <td>4.05</td>\n",
       "      <td>4974.79</td>\n",
       "      <td>yes</td>\n",
       "    </tr>\n",
       "    <tr>\n",
       "      <th>2</th>\n",
       "      <td>3</td>\n",
       "      <td>48</td>\n",
       "      <td>blue-collar</td>\n",
       "      <td>divorced</td>\n",
       "      <td>basic.9y</td>\n",
       "      <td>no</td>\n",
       "      <td>no</td>\n",
       "      <td>no</td>\n",
       "      <td>cellular</td>\n",
       "      <td>apr</td>\n",
       "      <td>...</td>\n",
       "      <td>0</td>\n",
       "      <td>1027</td>\n",
       "      <td>1</td>\n",
       "      <td>failure</td>\n",
       "      <td>-1.8</td>\n",
       "      <td>96.33</td>\n",
       "      <td>-44.74</td>\n",
       "      <td>1.50</td>\n",
       "      <td>5022.61</td>\n",
       "      <td>no</td>\n",
       "    </tr>\n",
       "    <tr>\n",
       "      <th>3</th>\n",
       "      <td>4</td>\n",
       "      <td>26</td>\n",
       "      <td>entrepreneur</td>\n",
       "      <td>single</td>\n",
       "      <td>high.school</td>\n",
       "      <td>yes</td>\n",
       "      <td>yes</td>\n",
       "      <td>yes</td>\n",
       "      <td>cellular</td>\n",
       "      <td>aug</td>\n",
       "      <td>...</td>\n",
       "      <td>26</td>\n",
       "      <td>998</td>\n",
       "      <td>0</td>\n",
       "      <td>nonexistent</td>\n",
       "      <td>1.4</td>\n",
       "      <td>97.08</td>\n",
       "      <td>-35.55</td>\n",
       "      <td>5.11</td>\n",
       "      <td>5222.87</td>\n",
       "      <td>yes</td>\n",
       "    </tr>\n",
       "    <tr>\n",
       "      <th>4</th>\n",
       "      <td>5</td>\n",
       "      <td>45</td>\n",
       "      <td>admin.</td>\n",
       "      <td>single</td>\n",
       "      <td>university.degree</td>\n",
       "      <td>no</td>\n",
       "      <td>no</td>\n",
       "      <td>no</td>\n",
       "      <td>cellular</td>\n",
       "      <td>nov</td>\n",
       "      <td>...</td>\n",
       "      <td>1</td>\n",
       "      <td>240</td>\n",
       "      <td>4</td>\n",
       "      <td>success</td>\n",
       "      <td>-3.4</td>\n",
       "      <td>89.82</td>\n",
       "      <td>-33.83</td>\n",
       "      <td>1.17</td>\n",
       "      <td>4884.70</td>\n",
       "      <td>no</td>\n",
       "    </tr>\n",
       "  </tbody>\n",
       "</table>\n",
       "<p>5 rows × 22 columns</p>\n",
       "</div>"
      ],
      "text/plain": [
       "   id  age           job   marital            education default housing loan  \\\n",
       "0   1   51        admin.  divorced  professional.course      no     yes  yes   \n",
       "1   2   50      services   married          high.school      no     yes   no   \n",
       "2   3   48   blue-collar  divorced             basic.9y      no      no   no   \n",
       "3   4   26  entrepreneur    single          high.school     yes     yes  yes   \n",
       "4   5   45        admin.    single    university.degree      no      no   no   \n",
       "\n",
       "    contact month  ... campaign  pdays  previous     poutcome  emp_var_rate  \\\n",
       "0  cellular   aug  ...        1    112         2      failure           1.4   \n",
       "1  cellular   may  ...        1    412         2  nonexistent          -1.8   \n",
       "2  cellular   apr  ...        0   1027         1      failure          -1.8   \n",
       "3  cellular   aug  ...       26    998         0  nonexistent           1.4   \n",
       "4  cellular   nov  ...        1    240         4      success          -3.4   \n",
       "\n",
       "  cons_price_index  cons_conf_index  lending_rate3m  nr_employed  subscribe  \n",
       "0            90.81           -35.53            0.69      5219.74         no  \n",
       "1            96.33           -40.58            4.05      4974.79        yes  \n",
       "2            96.33           -44.74            1.50      5022.61         no  \n",
       "3            97.08           -35.55            5.11      5222.87        yes  \n",
       "4            89.82           -33.83            1.17      4884.70         no  \n",
       "\n",
       "[5 rows x 22 columns]"
      ]
     },
     "execution_count": 3,
     "metadata": {},
     "output_type": "execute_result"
    }
   ],
   "source": [
    "data.head()"
   ]
  },
  {
   "cell_type": "code",
   "execution_count": 4,
   "id": "6d157f8b-e45d-434d-b280-fd7fe9231a1f",
   "metadata": {},
   "outputs": [],
   "source": [
    "data = data.drop(['emp_var_rate', 'cons_price_index', 'cons_conf_index', 'lending_rate3m', 'nr_employed'], axis=1)\n"
   ]
  },
  {
   "cell_type": "code",
   "execution_count": 5,
   "id": "1603c3a9",
   "metadata": {},
   "outputs": [
    {
     "name": "stdout",
     "output_type": "stream",
     "text": [
      "<class 'pandas.core.frame.DataFrame'>\n",
      "RangeIndex: 22500 entries, 0 to 22499\n",
      "Data columns (total 17 columns):\n",
      " #   Column       Non-Null Count  Dtype \n",
      "---  ------       --------------  ----- \n",
      " 0   id           22500 non-null  int64 \n",
      " 1   age          22500 non-null  int64 \n",
      " 2   job          22500 non-null  object\n",
      " 3   marital      22500 non-null  object\n",
      " 4   education    22500 non-null  object\n",
      " 5   default      22500 non-null  object\n",
      " 6   housing      22500 non-null  object\n",
      " 7   loan         22500 non-null  object\n",
      " 8   contact      22500 non-null  object\n",
      " 9   month        22500 non-null  object\n",
      " 10  day_of_week  22500 non-null  object\n",
      " 11  duration     22500 non-null  int64 \n",
      " 12  campaign     22500 non-null  int64 \n",
      " 13  pdays        22500 non-null  int64 \n",
      " 14  previous     22500 non-null  int64 \n",
      " 15  poutcome     22500 non-null  object\n",
      " 16  subscribe    22500 non-null  object\n",
      "dtypes: int64(6), object(11)\n",
      "memory usage: 2.9+ MB\n"
     ]
    }
   ],
   "source": [
    "data.info()"
   ]
  },
  {
   "cell_type": "code",
   "execution_count": 6,
   "id": "6014bded",
   "metadata": {},
   "outputs": [
    {
     "data": {
      "text/plain": [
       "(22500, 17)"
      ]
     },
     "execution_count": 6,
     "metadata": {},
     "output_type": "execute_result"
    }
   ],
   "source": [
    "data.shape"
   ]
  },
  {
   "cell_type": "markdown",
   "id": "c315e571",
   "metadata": {},
   "source": [
    "# Data Pre-processing"
   ]
  },
  {
   "cell_type": "code",
   "execution_count": 16,
   "id": "04fd08fb-7995-4ccf-b0c1-82c7f377a10a",
   "metadata": {},
   "outputs": [],
   "source": [
    "#准备对数值型自变量进行标准化\n",
    "numeric_X = data[['age','duration','campaign','pdays','previous']]\n",
    "category_X_y = data[['job', 'marital', 'education', 'housing', 'loan', 'default', 'contact', 'month', 'day_of_week', 'poutcome', 'subscribe']]\n",
    "\n",
    "from sklearn import preprocessing\n",
    "norm_X = numeric_X.apply(preprocessing.scale, axis=0)"
   ]
  },
  {
   "cell_type": "code",
   "execution_count": 18,
   "id": "7e2c9b72-3785-44a1-bd60-d865de3b6122",
   "metadata": {},
   "outputs": [
    {
     "data": {
      "text/html": [
       "<div>\n",
       "<style scoped>\n",
       "    .dataframe tbody tr th:only-of-type {\n",
       "        vertical-align: middle;\n",
       "    }\n",
       "\n",
       "    .dataframe tbody tr th {\n",
       "        vertical-align: top;\n",
       "    }\n",
       "\n",
       "    .dataframe thead th {\n",
       "        text-align: right;\n",
       "    }\n",
       "</style>\n",
       "<table border=\"1\" class=\"dataframe\">\n",
       "  <thead>\n",
       "    <tr style=\"text-align: right;\">\n",
       "      <th></th>\n",
       "      <th>age</th>\n",
       "      <th>duration</th>\n",
       "      <th>campaign</th>\n",
       "      <th>pdays</th>\n",
       "      <th>previous</th>\n",
       "      <th>job</th>\n",
       "      <th>marital</th>\n",
       "      <th>education</th>\n",
       "      <th>housing</th>\n",
       "      <th>loan</th>\n",
       "      <th>default</th>\n",
       "      <th>contact</th>\n",
       "      <th>month</th>\n",
       "      <th>day_of_week</th>\n",
       "      <th>poutcome</th>\n",
       "      <th>subscribe</th>\n",
       "    </tr>\n",
       "  </thead>\n",
       "  <tbody>\n",
       "    <tr>\n",
       "      <th>0</th>\n",
       "      <td>0.876440</td>\n",
       "      <td>2.425786</td>\n",
       "      <td>-0.327368</td>\n",
       "      <td>-2.024892</td>\n",
       "      <td>0.356261</td>\n",
       "      <td>admin.</td>\n",
       "      <td>divorced</td>\n",
       "      <td>professional.course</td>\n",
       "      <td>yes</td>\n",
       "      <td>yes</td>\n",
       "      <td>no</td>\n",
       "      <td>cellular</td>\n",
       "      <td>aug</td>\n",
       "      <td>mon</td>\n",
       "      <td>failure</td>\n",
       "      <td>no</td>\n",
       "    </tr>\n",
       "    <tr>\n",
       "      <th>1</th>\n",
       "      <td>0.793699</td>\n",
       "      <td>2.491410</td>\n",
       "      <td>-0.327368</td>\n",
       "      <td>-1.107256</td>\n",
       "      <td>0.356261</td>\n",
       "      <td>services</td>\n",
       "      <td>married</td>\n",
       "      <td>high.school</td>\n",
       "      <td>yes</td>\n",
       "      <td>no</td>\n",
       "      <td>no</td>\n",
       "      <td>cellular</td>\n",
       "      <td>may</td>\n",
       "      <td>mon</td>\n",
       "      <td>nonexistent</td>\n",
       "      <td>yes</td>\n",
       "    </tr>\n",
       "    <tr>\n",
       "      <th>2</th>\n",
       "      <td>0.628215</td>\n",
       "      <td>-0.680888</td>\n",
       "      <td>-0.465802</td>\n",
       "      <td>0.773898</td>\n",
       "      <td>-0.164927</td>\n",
       "      <td>blue-collar</td>\n",
       "      <td>divorced</td>\n",
       "      <td>basic.9y</td>\n",
       "      <td>no</td>\n",
       "      <td>no</td>\n",
       "      <td>no</td>\n",
       "      <td>cellular</td>\n",
       "      <td>apr</td>\n",
       "      <td>wed</td>\n",
       "      <td>failure</td>\n",
       "      <td>no</td>\n",
       "    </tr>\n",
       "    <tr>\n",
       "      <th>3</th>\n",
       "      <td>-1.192102</td>\n",
       "      <td>-0.549639</td>\n",
       "      <td>3.133474</td>\n",
       "      <td>0.685193</td>\n",
       "      <td>-0.686116</td>\n",
       "      <td>entrepreneur</td>\n",
       "      <td>single</td>\n",
       "      <td>high.school</td>\n",
       "      <td>yes</td>\n",
       "      <td>yes</td>\n",
       "      <td>yes</td>\n",
       "      <td>cellular</td>\n",
       "      <td>aug</td>\n",
       "      <td>fri</td>\n",
       "      <td>nonexistent</td>\n",
       "      <td>yes</td>\n",
       "    </tr>\n",
       "    <tr>\n",
       "      <th>4</th>\n",
       "      <td>0.379990</td>\n",
       "      <td>1.418386</td>\n",
       "      <td>-0.327368</td>\n",
       "      <td>-1.633367</td>\n",
       "      <td>1.398639</td>\n",
       "      <td>admin.</td>\n",
       "      <td>single</td>\n",
       "      <td>university.degree</td>\n",
       "      <td>no</td>\n",
       "      <td>no</td>\n",
       "      <td>no</td>\n",
       "      <td>cellular</td>\n",
       "      <td>nov</td>\n",
       "      <td>tue</td>\n",
       "      <td>success</td>\n",
       "      <td>no</td>\n",
       "    </tr>\n",
       "  </tbody>\n",
       "</table>\n",
       "</div>"
      ],
      "text/plain": [
       "        age  duration  campaign     pdays  previous           job   marital  \\\n",
       "0  0.876440  2.425786 -0.327368 -2.024892  0.356261        admin.  divorced   \n",
       "1  0.793699  2.491410 -0.327368 -1.107256  0.356261      services   married   \n",
       "2  0.628215 -0.680888 -0.465802  0.773898 -0.164927   blue-collar  divorced   \n",
       "3 -1.192102 -0.549639  3.133474  0.685193 -0.686116  entrepreneur    single   \n",
       "4  0.379990  1.418386 -0.327368 -1.633367  1.398639        admin.    single   \n",
       "\n",
       "             education housing loan default   contact month day_of_week  \\\n",
       "0  professional.course     yes  yes      no  cellular   aug         mon   \n",
       "1          high.school     yes   no      no  cellular   may         mon   \n",
       "2             basic.9y      no   no      no  cellular   apr         wed   \n",
       "3          high.school     yes  yes     yes  cellular   aug         fri   \n",
       "4    university.degree      no   no      no  cellular   nov         tue   \n",
       "\n",
       "      poutcome subscribe  \n",
       "0      failure        no  \n",
       "1  nonexistent       yes  \n",
       "2      failure        no  \n",
       "3  nonexistent       yes  \n",
       "4      success        no  "
      ]
     },
     "execution_count": 18,
     "metadata": {},
     "output_type": "execute_result"
    }
   ],
   "source": [
    "# 把标准化完的变量重新组合回来\n",
    "\n",
    "data = pd.concat([norm_X, category_X_y], axis=1)\n",
    "data.head()"
   ]
  },
  {
   "cell_type": "code",
   "execution_count": 19,
   "id": "49abd0f0",
   "metadata": {},
   "outputs": [
    {
     "data": {
      "text/html": [
       "<div>\n",
       "<style scoped>\n",
       "    .dataframe tbody tr th:only-of-type {\n",
       "        vertical-align: middle;\n",
       "    }\n",
       "\n",
       "    .dataframe tbody tr th {\n",
       "        vertical-align: top;\n",
       "    }\n",
       "\n",
       "    .dataframe thead th {\n",
       "        text-align: right;\n",
       "    }\n",
       "</style>\n",
       "<table border=\"1\" class=\"dataframe\">\n",
       "  <thead>\n",
       "    <tr style=\"text-align: right;\">\n",
       "      <th></th>\n",
       "      <th>age</th>\n",
       "      <th>duration</th>\n",
       "      <th>campaign</th>\n",
       "      <th>pdays</th>\n",
       "      <th>previous</th>\n",
       "      <th>job_admin.</th>\n",
       "      <th>job_blue-collar</th>\n",
       "      <th>job_entrepreneur</th>\n",
       "      <th>job_housemaid</th>\n",
       "      <th>job_management</th>\n",
       "      <th>...</th>\n",
       "      <th>day_of_week_fri</th>\n",
       "      <th>day_of_week_mon</th>\n",
       "      <th>day_of_week_thu</th>\n",
       "      <th>day_of_week_tue</th>\n",
       "      <th>day_of_week_wed</th>\n",
       "      <th>poutcome_failure</th>\n",
       "      <th>poutcome_nonexistent</th>\n",
       "      <th>poutcome_success</th>\n",
       "      <th>subscribe_no</th>\n",
       "      <th>subscribe_yes</th>\n",
       "    </tr>\n",
       "  </thead>\n",
       "  <tbody>\n",
       "    <tr>\n",
       "      <th>0</th>\n",
       "      <td>0.876440</td>\n",
       "      <td>2.425786</td>\n",
       "      <td>-0.327368</td>\n",
       "      <td>-2.024892</td>\n",
       "      <td>0.356261</td>\n",
       "      <td>1</td>\n",
       "      <td>0</td>\n",
       "      <td>0</td>\n",
       "      <td>0</td>\n",
       "      <td>0</td>\n",
       "      <td>...</td>\n",
       "      <td>0</td>\n",
       "      <td>1</td>\n",
       "      <td>0</td>\n",
       "      <td>0</td>\n",
       "      <td>0</td>\n",
       "      <td>1</td>\n",
       "      <td>0</td>\n",
       "      <td>0</td>\n",
       "      <td>1</td>\n",
       "      <td>0</td>\n",
       "    </tr>\n",
       "    <tr>\n",
       "      <th>1</th>\n",
       "      <td>0.793699</td>\n",
       "      <td>2.491410</td>\n",
       "      <td>-0.327368</td>\n",
       "      <td>-1.107256</td>\n",
       "      <td>0.356261</td>\n",
       "      <td>0</td>\n",
       "      <td>0</td>\n",
       "      <td>0</td>\n",
       "      <td>0</td>\n",
       "      <td>0</td>\n",
       "      <td>...</td>\n",
       "      <td>0</td>\n",
       "      <td>1</td>\n",
       "      <td>0</td>\n",
       "      <td>0</td>\n",
       "      <td>0</td>\n",
       "      <td>0</td>\n",
       "      <td>1</td>\n",
       "      <td>0</td>\n",
       "      <td>0</td>\n",
       "      <td>1</td>\n",
       "    </tr>\n",
       "    <tr>\n",
       "      <th>2</th>\n",
       "      <td>0.628215</td>\n",
       "      <td>-0.680888</td>\n",
       "      <td>-0.465802</td>\n",
       "      <td>0.773898</td>\n",
       "      <td>-0.164927</td>\n",
       "      <td>0</td>\n",
       "      <td>1</td>\n",
       "      <td>0</td>\n",
       "      <td>0</td>\n",
       "      <td>0</td>\n",
       "      <td>...</td>\n",
       "      <td>0</td>\n",
       "      <td>0</td>\n",
       "      <td>0</td>\n",
       "      <td>0</td>\n",
       "      <td>1</td>\n",
       "      <td>1</td>\n",
       "      <td>0</td>\n",
       "      <td>0</td>\n",
       "      <td>1</td>\n",
       "      <td>0</td>\n",
       "    </tr>\n",
       "    <tr>\n",
       "      <th>3</th>\n",
       "      <td>-1.192102</td>\n",
       "      <td>-0.549639</td>\n",
       "      <td>3.133474</td>\n",
       "      <td>0.685193</td>\n",
       "      <td>-0.686116</td>\n",
       "      <td>0</td>\n",
       "      <td>0</td>\n",
       "      <td>1</td>\n",
       "      <td>0</td>\n",
       "      <td>0</td>\n",
       "      <td>...</td>\n",
       "      <td>1</td>\n",
       "      <td>0</td>\n",
       "      <td>0</td>\n",
       "      <td>0</td>\n",
       "      <td>0</td>\n",
       "      <td>0</td>\n",
       "      <td>1</td>\n",
       "      <td>0</td>\n",
       "      <td>0</td>\n",
       "      <td>1</td>\n",
       "    </tr>\n",
       "    <tr>\n",
       "      <th>4</th>\n",
       "      <td>0.379990</td>\n",
       "      <td>1.418386</td>\n",
       "      <td>-0.327368</td>\n",
       "      <td>-1.633367</td>\n",
       "      <td>1.398639</td>\n",
       "      <td>1</td>\n",
       "      <td>0</td>\n",
       "      <td>0</td>\n",
       "      <td>0</td>\n",
       "      <td>0</td>\n",
       "      <td>...</td>\n",
       "      <td>0</td>\n",
       "      <td>0</td>\n",
       "      <td>0</td>\n",
       "      <td>1</td>\n",
       "      <td>0</td>\n",
       "      <td>0</td>\n",
       "      <td>0</td>\n",
       "      <td>1</td>\n",
       "      <td>1</td>\n",
       "      <td>0</td>\n",
       "    </tr>\n",
       "  </tbody>\n",
       "</table>\n",
       "<p>5 rows × 54 columns</p>\n",
       "</div>"
      ],
      "text/plain": [
       "        age  duration  campaign     pdays  previous  job_admin.  \\\n",
       "0  0.876440  2.425786 -0.327368 -2.024892  0.356261           1   \n",
       "1  0.793699  2.491410 -0.327368 -1.107256  0.356261           0   \n",
       "2  0.628215 -0.680888 -0.465802  0.773898 -0.164927           0   \n",
       "3 -1.192102 -0.549639  3.133474  0.685193 -0.686116           0   \n",
       "4  0.379990  1.418386 -0.327368 -1.633367  1.398639           1   \n",
       "\n",
       "   job_blue-collar  job_entrepreneur  job_housemaid  job_management  ...  \\\n",
       "0                0                 0              0               0  ...   \n",
       "1                0                 0              0               0  ...   \n",
       "2                1                 0              0               0  ...   \n",
       "3                0                 1              0               0  ...   \n",
       "4                0                 0              0               0  ...   \n",
       "\n",
       "   day_of_week_fri  day_of_week_mon  day_of_week_thu  day_of_week_tue  \\\n",
       "0                0                1                0                0   \n",
       "1                0                1                0                0   \n",
       "2                0                0                0                0   \n",
       "3                1                0                0                0   \n",
       "4                0                0                0                1   \n",
       "\n",
       "   day_of_week_wed  poutcome_failure  poutcome_nonexistent  poutcome_success  \\\n",
       "0                0                 1                     0                 0   \n",
       "1                0                 0                     1                 0   \n",
       "2                1                 1                     0                 0   \n",
       "3                0                 0                     1                 0   \n",
       "4                0                 0                     0                 1   \n",
       "\n",
       "   subscribe_no  subscribe_yes  \n",
       "0             1              0  \n",
       "1             0              1  \n",
       "2             1              0  \n",
       "3             0              1  \n",
       "4             1              0  \n",
       "\n",
       "[5 rows x 54 columns]"
      ]
     },
     "execution_count": 19,
     "metadata": {},
     "output_type": "execute_result"
    }
   ],
   "source": [
    "datanew = pd.get_dummies(data, columns=['job', 'marital', 'education', 'housing', 'loan', 'default', 'contact', 'month', 'day_of_week', 'poutcome', 'subscribe'])\n",
    "datanew.head()"
   ]
  },
  {
   "cell_type": "code",
   "execution_count": 20,
   "id": "9aae3def",
   "metadata": {},
   "outputs": [
    {
     "name": "stdout",
     "output_type": "stream",
     "text": [
      "<class 'pandas.core.frame.DataFrame'>\n",
      "RangeIndex: 22500 entries, 0 to 22499\n",
      "Data columns (total 54 columns):\n",
      " #   Column                         Non-Null Count  Dtype  \n",
      "---  ------                         --------------  -----  \n",
      " 0   age                            22500 non-null  float64\n",
      " 1   duration                       22500 non-null  float64\n",
      " 2   campaign                       22500 non-null  float64\n",
      " 3   pdays                          22500 non-null  float64\n",
      " 4   previous                       22500 non-null  float64\n",
      " 5   job_admin.                     22500 non-null  uint8  \n",
      " 6   job_blue-collar                22500 non-null  uint8  \n",
      " 7   job_entrepreneur               22500 non-null  uint8  \n",
      " 8   job_housemaid                  22500 non-null  uint8  \n",
      " 9   job_management                 22500 non-null  uint8  \n",
      " 10  job_retired                    22500 non-null  uint8  \n",
      " 11  job_self-employed              22500 non-null  uint8  \n",
      " 12  job_services                   22500 non-null  uint8  \n",
      " 13  job_student                    22500 non-null  uint8  \n",
      " 14  job_technician                 22500 non-null  uint8  \n",
      " 15  job_unemployed                 22500 non-null  uint8  \n",
      " 16  marital_divorced               22500 non-null  uint8  \n",
      " 17  marital_married                22500 non-null  uint8  \n",
      " 18  marital_single                 22500 non-null  uint8  \n",
      " 19  education_basic.4y             22500 non-null  uint8  \n",
      " 20  education_basic.6y             22500 non-null  uint8  \n",
      " 21  education_basic.9y             22500 non-null  uint8  \n",
      " 22  education_high.school          22500 non-null  uint8  \n",
      " 23  education_illiterate           22500 non-null  uint8  \n",
      " 24  education_professional.course  22500 non-null  uint8  \n",
      " 25  education_university.degree    22500 non-null  uint8  \n",
      " 26  housing_no                     22500 non-null  uint8  \n",
      " 27  housing_yes                    22500 non-null  uint8  \n",
      " 28  loan_no                        22500 non-null  uint8  \n",
      " 29  loan_yes                       22500 non-null  uint8  \n",
      " 30  default_no                     22500 non-null  uint8  \n",
      " 31  default_yes                    22500 non-null  uint8  \n",
      " 32  contact_cellular               22500 non-null  uint8  \n",
      " 33  contact_telephone              22500 non-null  uint8  \n",
      " 34  month_apr                      22500 non-null  uint8  \n",
      " 35  month_aug                      22500 non-null  uint8  \n",
      " 36  month_dec                      22500 non-null  uint8  \n",
      " 37  month_jul                      22500 non-null  uint8  \n",
      " 38  month_jun                      22500 non-null  uint8  \n",
      " 39  month_mar                      22500 non-null  uint8  \n",
      " 40  month_may                      22500 non-null  uint8  \n",
      " 41  month_nov                      22500 non-null  uint8  \n",
      " 42  month_oct                      22500 non-null  uint8  \n",
      " 43  month_sep                      22500 non-null  uint8  \n",
      " 44  day_of_week_fri                22500 non-null  uint8  \n",
      " 45  day_of_week_mon                22500 non-null  uint8  \n",
      " 46  day_of_week_thu                22500 non-null  uint8  \n",
      " 47  day_of_week_tue                22500 non-null  uint8  \n",
      " 48  day_of_week_wed                22500 non-null  uint8  \n",
      " 49  poutcome_failure               22500 non-null  uint8  \n",
      " 50  poutcome_nonexistent           22500 non-null  uint8  \n",
      " 51  poutcome_success               22500 non-null  uint8  \n",
      " 52  subscribe_no                   22500 non-null  uint8  \n",
      " 53  subscribe_yes                  22500 non-null  uint8  \n",
      "dtypes: float64(5), uint8(49)\n",
      "memory usage: 1.9 MB\n"
     ]
    }
   ],
   "source": [
    "datanew.info()"
   ]
  },
  {
   "cell_type": "code",
   "execution_count": 21,
   "id": "f9fde807",
   "metadata": {},
   "outputs": [
    {
     "data": {
      "text/plain": [
       "Index(['age', 'duration', 'campaign', 'pdays', 'previous', 'job_admin.',\n",
       "       'job_blue-collar', 'job_entrepreneur', 'job_housemaid',\n",
       "       'job_management', 'job_retired', 'job_self-employed', 'job_services',\n",
       "       'job_student', 'job_technician', 'job_unemployed', 'marital_divorced',\n",
       "       'marital_married', 'marital_single', 'education_basic.4y',\n",
       "       'education_basic.6y', 'education_basic.9y', 'education_high.school',\n",
       "       'education_illiterate', 'education_professional.course',\n",
       "       'education_university.degree', 'housing_no', 'housing_yes', 'loan_no',\n",
       "       'loan_yes', 'default_no', 'default_yes', 'contact_cellular',\n",
       "       'contact_telephone', 'month_apr', 'month_aug', 'month_dec', 'month_jul',\n",
       "       'month_jun', 'month_mar', 'month_may', 'month_nov', 'month_oct',\n",
       "       'month_sep', 'day_of_week_fri', 'day_of_week_mon', 'day_of_week_thu',\n",
       "       'day_of_week_tue', 'day_of_week_wed', 'poutcome_failure',\n",
       "       'poutcome_nonexistent', 'poutcome_success', 'subscribe_no',\n",
       "       'subscribe_yes'],\n",
       "      dtype='object')"
      ]
     },
     "execution_count": 21,
     "metadata": {},
     "output_type": "execute_result"
    }
   ],
   "source": [
    "datanew.columns"
   ]
  },
  {
   "cell_type": "code",
   "execution_count": 24,
   "id": "44f214e1",
   "metadata": {},
   "outputs": [
    {
     "data": {
      "text/html": [
       "<div>\n",
       "<style scoped>\n",
       "    .dataframe tbody tr th:only-of-type {\n",
       "        vertical-align: middle;\n",
       "    }\n",
       "\n",
       "    .dataframe tbody tr th {\n",
       "        vertical-align: top;\n",
       "    }\n",
       "\n",
       "    .dataframe thead th {\n",
       "        text-align: right;\n",
       "    }\n",
       "</style>\n",
       "<table border=\"1\" class=\"dataframe\">\n",
       "  <thead>\n",
       "    <tr style=\"text-align: right;\">\n",
       "      <th></th>\n",
       "      <th>age</th>\n",
       "      <th>duration</th>\n",
       "      <th>campaign</th>\n",
       "      <th>pdays</th>\n",
       "      <th>previous</th>\n",
       "      <th>job_admin.</th>\n",
       "      <th>job_blue-collar</th>\n",
       "      <th>job_entrepreneur</th>\n",
       "      <th>job_housemaid</th>\n",
       "      <th>job_management</th>\n",
       "      <th>...</th>\n",
       "      <th>month_oct</th>\n",
       "      <th>month_sep</th>\n",
       "      <th>day_of_week_fri</th>\n",
       "      <th>day_of_week_mon</th>\n",
       "      <th>day_of_week_thu</th>\n",
       "      <th>day_of_week_tue</th>\n",
       "      <th>day_of_week_wed</th>\n",
       "      <th>poutcome_failure</th>\n",
       "      <th>poutcome_nonexistent</th>\n",
       "      <th>poutcome_success</th>\n",
       "    </tr>\n",
       "  </thead>\n",
       "  <tbody>\n",
       "    <tr>\n",
       "      <th>0</th>\n",
       "      <td>0.876440</td>\n",
       "      <td>2.425786</td>\n",
       "      <td>-0.327368</td>\n",
       "      <td>-2.024892</td>\n",
       "      <td>0.356261</td>\n",
       "      <td>1</td>\n",
       "      <td>0</td>\n",
       "      <td>0</td>\n",
       "      <td>0</td>\n",
       "      <td>0</td>\n",
       "      <td>...</td>\n",
       "      <td>0</td>\n",
       "      <td>0</td>\n",
       "      <td>0</td>\n",
       "      <td>1</td>\n",
       "      <td>0</td>\n",
       "      <td>0</td>\n",
       "      <td>0</td>\n",
       "      <td>1</td>\n",
       "      <td>0</td>\n",
       "      <td>0</td>\n",
       "    </tr>\n",
       "    <tr>\n",
       "      <th>1</th>\n",
       "      <td>0.793699</td>\n",
       "      <td>2.491410</td>\n",
       "      <td>-0.327368</td>\n",
       "      <td>-1.107256</td>\n",
       "      <td>0.356261</td>\n",
       "      <td>0</td>\n",
       "      <td>0</td>\n",
       "      <td>0</td>\n",
       "      <td>0</td>\n",
       "      <td>0</td>\n",
       "      <td>...</td>\n",
       "      <td>0</td>\n",
       "      <td>0</td>\n",
       "      <td>0</td>\n",
       "      <td>1</td>\n",
       "      <td>0</td>\n",
       "      <td>0</td>\n",
       "      <td>0</td>\n",
       "      <td>0</td>\n",
       "      <td>1</td>\n",
       "      <td>0</td>\n",
       "    </tr>\n",
       "    <tr>\n",
       "      <th>2</th>\n",
       "      <td>0.628215</td>\n",
       "      <td>-0.680888</td>\n",
       "      <td>-0.465802</td>\n",
       "      <td>0.773898</td>\n",
       "      <td>-0.164927</td>\n",
       "      <td>0</td>\n",
       "      <td>1</td>\n",
       "      <td>0</td>\n",
       "      <td>0</td>\n",
       "      <td>0</td>\n",
       "      <td>...</td>\n",
       "      <td>0</td>\n",
       "      <td>0</td>\n",
       "      <td>0</td>\n",
       "      <td>0</td>\n",
       "      <td>0</td>\n",
       "      <td>0</td>\n",
       "      <td>1</td>\n",
       "      <td>1</td>\n",
       "      <td>0</td>\n",
       "      <td>0</td>\n",
       "    </tr>\n",
       "    <tr>\n",
       "      <th>3</th>\n",
       "      <td>-1.192102</td>\n",
       "      <td>-0.549639</td>\n",
       "      <td>3.133474</td>\n",
       "      <td>0.685193</td>\n",
       "      <td>-0.686116</td>\n",
       "      <td>0</td>\n",
       "      <td>0</td>\n",
       "      <td>1</td>\n",
       "      <td>0</td>\n",
       "      <td>0</td>\n",
       "      <td>...</td>\n",
       "      <td>0</td>\n",
       "      <td>0</td>\n",
       "      <td>1</td>\n",
       "      <td>0</td>\n",
       "      <td>0</td>\n",
       "      <td>0</td>\n",
       "      <td>0</td>\n",
       "      <td>0</td>\n",
       "      <td>1</td>\n",
       "      <td>0</td>\n",
       "    </tr>\n",
       "    <tr>\n",
       "      <th>4</th>\n",
       "      <td>0.379990</td>\n",
       "      <td>1.418386</td>\n",
       "      <td>-0.327368</td>\n",
       "      <td>-1.633367</td>\n",
       "      <td>1.398639</td>\n",
       "      <td>1</td>\n",
       "      <td>0</td>\n",
       "      <td>0</td>\n",
       "      <td>0</td>\n",
       "      <td>0</td>\n",
       "      <td>...</td>\n",
       "      <td>0</td>\n",
       "      <td>0</td>\n",
       "      <td>0</td>\n",
       "      <td>0</td>\n",
       "      <td>0</td>\n",
       "      <td>1</td>\n",
       "      <td>0</td>\n",
       "      <td>0</td>\n",
       "      <td>0</td>\n",
       "      <td>1</td>\n",
       "    </tr>\n",
       "    <tr>\n",
       "      <th>...</th>\n",
       "      <td>...</td>\n",
       "      <td>...</td>\n",
       "      <td>...</td>\n",
       "      <td>...</td>\n",
       "      <td>...</td>\n",
       "      <td>...</td>\n",
       "      <td>...</td>\n",
       "      <td>...</td>\n",
       "      <td>...</td>\n",
       "      <td>...</td>\n",
       "      <td>...</td>\n",
       "      <td>...</td>\n",
       "      <td>...</td>\n",
       "      <td>...</td>\n",
       "      <td>...</td>\n",
       "      <td>...</td>\n",
       "      <td>...</td>\n",
       "      <td>...</td>\n",
       "      <td>...</td>\n",
       "      <td>...</td>\n",
       "      <td>...</td>\n",
       "    </tr>\n",
       "    <tr>\n",
       "      <th>22495</th>\n",
       "      <td>-0.612910</td>\n",
       "      <td>2.013890</td>\n",
       "      <td>-0.050501</td>\n",
       "      <td>0.461901</td>\n",
       "      <td>0.877450</td>\n",
       "      <td>1</td>\n",
       "      <td>0</td>\n",
       "      <td>0</td>\n",
       "      <td>0</td>\n",
       "      <td>0</td>\n",
       "      <td>...</td>\n",
       "      <td>0</td>\n",
       "      <td>0</td>\n",
       "      <td>1</td>\n",
       "      <td>0</td>\n",
       "      <td>0</td>\n",
       "      <td>0</td>\n",
       "      <td>0</td>\n",
       "      <td>1</td>\n",
       "      <td>0</td>\n",
       "      <td>0</td>\n",
       "    </tr>\n",
       "    <tr>\n",
       "      <th>22496</th>\n",
       "      <td>-0.530168</td>\n",
       "      <td>1.423273</td>\n",
       "      <td>1.472270</td>\n",
       "      <td>-0.737143</td>\n",
       "      <td>0.877450</td>\n",
       "      <td>1</td>\n",
       "      <td>0</td>\n",
       "      <td>0</td>\n",
       "      <td>0</td>\n",
       "      <td>0</td>\n",
       "      <td>...</td>\n",
       "      <td>0</td>\n",
       "      <td>0</td>\n",
       "      <td>1</td>\n",
       "      <td>0</td>\n",
       "      <td>0</td>\n",
       "      <td>0</td>\n",
       "      <td>0</td>\n",
       "      <td>1</td>\n",
       "      <td>0</td>\n",
       "      <td>0</td>\n",
       "    </tr>\n",
       "    <tr>\n",
       "      <th>22497</th>\n",
       "      <td>-1.274843</td>\n",
       "      <td>0.849411</td>\n",
       "      <td>-0.465802</td>\n",
       "      <td>0.055083</td>\n",
       "      <td>1.919828</td>\n",
       "      <td>1</td>\n",
       "      <td>0</td>\n",
       "      <td>0</td>\n",
       "      <td>0</td>\n",
       "      <td>0</td>\n",
       "      <td>...</td>\n",
       "      <td>0</td>\n",
       "      <td>0</td>\n",
       "      <td>0</td>\n",
       "      <td>0</td>\n",
       "      <td>1</td>\n",
       "      <td>0</td>\n",
       "      <td>0</td>\n",
       "      <td>0</td>\n",
       "      <td>0</td>\n",
       "      <td>1</td>\n",
       "    </tr>\n",
       "    <tr>\n",
       "      <th>22498</th>\n",
       "      <td>1.372890</td>\n",
       "      <td>-0.398146</td>\n",
       "      <td>0.226367</td>\n",
       "      <td>0.657664</td>\n",
       "      <td>-0.686116</td>\n",
       "      <td>0</td>\n",
       "      <td>0</td>\n",
       "      <td>0</td>\n",
       "      <td>0</td>\n",
       "      <td>0</td>\n",
       "      <td>...</td>\n",
       "      <td>0</td>\n",
       "      <td>0</td>\n",
       "      <td>0</td>\n",
       "      <td>0</td>\n",
       "      <td>0</td>\n",
       "      <td>1</td>\n",
       "      <td>0</td>\n",
       "      <td>0</td>\n",
       "      <td>1</td>\n",
       "      <td>0</td>\n",
       "    </tr>\n",
       "    <tr>\n",
       "      <th>22499</th>\n",
       "      <td>0.297249</td>\n",
       "      <td>-0.416995</td>\n",
       "      <td>-0.465802</td>\n",
       "      <td>0.694369</td>\n",
       "      <td>-0.164927</td>\n",
       "      <td>0</td>\n",
       "      <td>1</td>\n",
       "      <td>0</td>\n",
       "      <td>0</td>\n",
       "      <td>0</td>\n",
       "      <td>...</td>\n",
       "      <td>0</td>\n",
       "      <td>0</td>\n",
       "      <td>1</td>\n",
       "      <td>0</td>\n",
       "      <td>0</td>\n",
       "      <td>0</td>\n",
       "      <td>0</td>\n",
       "      <td>1</td>\n",
       "      <td>0</td>\n",
       "      <td>0</td>\n",
       "    </tr>\n",
       "  </tbody>\n",
       "</table>\n",
       "<p>22500 rows × 52 columns</p>\n",
       "</div>"
      ],
      "text/plain": [
       "            age  duration  campaign     pdays  previous  job_admin.  \\\n",
       "0      0.876440  2.425786 -0.327368 -2.024892  0.356261           1   \n",
       "1      0.793699  2.491410 -0.327368 -1.107256  0.356261           0   \n",
       "2      0.628215 -0.680888 -0.465802  0.773898 -0.164927           0   \n",
       "3     -1.192102 -0.549639  3.133474  0.685193 -0.686116           0   \n",
       "4      0.379990  1.418386 -0.327368 -1.633367  1.398639           1   \n",
       "...         ...       ...       ...       ...       ...         ...   \n",
       "22495 -0.612910  2.013890 -0.050501  0.461901  0.877450           1   \n",
       "22496 -0.530168  1.423273  1.472270 -0.737143  0.877450           1   \n",
       "22497 -1.274843  0.849411 -0.465802  0.055083  1.919828           1   \n",
       "22498  1.372890 -0.398146  0.226367  0.657664 -0.686116           0   \n",
       "22499  0.297249 -0.416995 -0.465802  0.694369 -0.164927           0   \n",
       "\n",
       "       job_blue-collar  job_entrepreneur  job_housemaid  job_management  ...  \\\n",
       "0                    0                 0              0               0  ...   \n",
       "1                    0                 0              0               0  ...   \n",
       "2                    1                 0              0               0  ...   \n",
       "3                    0                 1              0               0  ...   \n",
       "4                    0                 0              0               0  ...   \n",
       "...                ...               ...            ...             ...  ...   \n",
       "22495                0                 0              0               0  ...   \n",
       "22496                0                 0              0               0  ...   \n",
       "22497                0                 0              0               0  ...   \n",
       "22498                0                 0              0               0  ...   \n",
       "22499                1                 0              0               0  ...   \n",
       "\n",
       "       month_oct  month_sep  day_of_week_fri  day_of_week_mon  \\\n",
       "0              0          0                0                1   \n",
       "1              0          0                0                1   \n",
       "2              0          0                0                0   \n",
       "3              0          0                1                0   \n",
       "4              0          0                0                0   \n",
       "...          ...        ...              ...              ...   \n",
       "22495          0          0                1                0   \n",
       "22496          0          0                1                0   \n",
       "22497          0          0                0                0   \n",
       "22498          0          0                0                0   \n",
       "22499          0          0                1                0   \n",
       "\n",
       "       day_of_week_thu  day_of_week_tue  day_of_week_wed  poutcome_failure  \\\n",
       "0                    0                0                0                 1   \n",
       "1                    0                0                0                 0   \n",
       "2                    0                0                1                 1   \n",
       "3                    0                0                0                 0   \n",
       "4                    0                1                0                 0   \n",
       "...                ...              ...              ...               ...   \n",
       "22495                0                0                0                 1   \n",
       "22496                0                0                0                 1   \n",
       "22497                1                0                0                 0   \n",
       "22498                0                1                0                 0   \n",
       "22499                0                0                0                 1   \n",
       "\n",
       "       poutcome_nonexistent  poutcome_success  \n",
       "0                         0                 0  \n",
       "1                         1                 0  \n",
       "2                         0                 0  \n",
       "3                         1                 0  \n",
       "4                         0                 1  \n",
       "...                     ...               ...  \n",
       "22495                     0                 0  \n",
       "22496                     0                 0  \n",
       "22497                     0                 1  \n",
       "22498                     1                 0  \n",
       "22499                     0                 0  \n",
       "\n",
       "[22500 rows x 52 columns]"
      ]
     },
     "execution_count": 24,
     "metadata": {},
     "output_type": "execute_result"
    }
   ],
   "source": [
    "# define features \n",
    "features = ['age', 'duration', 'campaign', 'pdays', 'previous', 'job_admin.',\n",
    "       'job_blue-collar', 'job_entrepreneur', 'job_housemaid',\n",
    "       'job_management', 'job_retired', 'job_self-employed', 'job_services',\n",
    "       'job_student', 'job_technician', 'job_unemployed', 'marital_divorced',\n",
    "       'marital_married', 'marital_single', 'education_basic.4y',\n",
    "       'education_basic.6y', 'education_basic.9y', 'education_high.school',\n",
    "       'education_illiterate', 'education_professional.course',\n",
    "       'education_university.degree', 'housing_no', 'housing_yes', 'loan_no',\n",
    "       'loan_yes', 'default_no', 'default_yes', 'contact_cellular',\n",
    "       'contact_telephone', 'month_apr', 'month_aug', 'month_dec', 'month_jul',\n",
    "       'month_jun', 'month_mar', 'month_may', 'month_nov', 'month_oct',\n",
    "       'month_sep', 'day_of_week_fri', 'day_of_week_mon', 'day_of_week_thu',\n",
    "       'day_of_week_tue', 'day_of_week_wed', 'poutcome_failure',\n",
    "       'poutcome_nonexistent', 'poutcome_success']\n",
    "X = datanew[features]\n",
    "X"
   ]
  },
  {
   "cell_type": "code",
   "execution_count": 25,
   "id": "c665ae28-d93a-4986-948e-ed58aed86f62",
   "metadata": {},
   "outputs": [
    {
     "data": {
      "text/html": [
       "<div>\n",
       "<style scoped>\n",
       "    .dataframe tbody tr th:only-of-type {\n",
       "        vertical-align: middle;\n",
       "    }\n",
       "\n",
       "    .dataframe tbody tr th {\n",
       "        vertical-align: top;\n",
       "    }\n",
       "\n",
       "    .dataframe thead th {\n",
       "        text-align: right;\n",
       "    }\n",
       "</style>\n",
       "<table border=\"1\" class=\"dataframe\">\n",
       "  <thead>\n",
       "    <tr style=\"text-align: right;\">\n",
       "      <th></th>\n",
       "      <th>age</th>\n",
       "      <th>job_admin.</th>\n",
       "      <th>job_blue-collar</th>\n",
       "      <th>job_entrepreneur</th>\n",
       "      <th>job_housemaid</th>\n",
       "      <th>job_management</th>\n",
       "      <th>job_retired</th>\n",
       "      <th>job_self-employed</th>\n",
       "      <th>job_services</th>\n",
       "      <th>job_student</th>\n",
       "      <th>...</th>\n",
       "      <th>education_professional.course</th>\n",
       "      <th>education_university.degree</th>\n",
       "      <th>housing_no</th>\n",
       "      <th>housing_yes</th>\n",
       "      <th>loan_no</th>\n",
       "      <th>loan_yes</th>\n",
       "      <th>default_no</th>\n",
       "      <th>default_yes</th>\n",
       "      <th>contact_cellular</th>\n",
       "      <th>contact_telephone</th>\n",
       "    </tr>\n",
       "  </thead>\n",
       "  <tbody>\n",
       "    <tr>\n",
       "      <th>0</th>\n",
       "      <td>0.876440</td>\n",
       "      <td>1</td>\n",
       "      <td>0</td>\n",
       "      <td>0</td>\n",
       "      <td>0</td>\n",
       "      <td>0</td>\n",
       "      <td>0</td>\n",
       "      <td>0</td>\n",
       "      <td>0</td>\n",
       "      <td>0</td>\n",
       "      <td>...</td>\n",
       "      <td>1</td>\n",
       "      <td>0</td>\n",
       "      <td>0</td>\n",
       "      <td>1</td>\n",
       "      <td>0</td>\n",
       "      <td>1</td>\n",
       "      <td>1</td>\n",
       "      <td>0</td>\n",
       "      <td>1</td>\n",
       "      <td>0</td>\n",
       "    </tr>\n",
       "    <tr>\n",
       "      <th>1</th>\n",
       "      <td>0.793699</td>\n",
       "      <td>0</td>\n",
       "      <td>0</td>\n",
       "      <td>0</td>\n",
       "      <td>0</td>\n",
       "      <td>0</td>\n",
       "      <td>0</td>\n",
       "      <td>0</td>\n",
       "      <td>1</td>\n",
       "      <td>0</td>\n",
       "      <td>...</td>\n",
       "      <td>0</td>\n",
       "      <td>0</td>\n",
       "      <td>0</td>\n",
       "      <td>1</td>\n",
       "      <td>1</td>\n",
       "      <td>0</td>\n",
       "      <td>1</td>\n",
       "      <td>0</td>\n",
       "      <td>1</td>\n",
       "      <td>0</td>\n",
       "    </tr>\n",
       "    <tr>\n",
       "      <th>2</th>\n",
       "      <td>0.628215</td>\n",
       "      <td>0</td>\n",
       "      <td>1</td>\n",
       "      <td>0</td>\n",
       "      <td>0</td>\n",
       "      <td>0</td>\n",
       "      <td>0</td>\n",
       "      <td>0</td>\n",
       "      <td>0</td>\n",
       "      <td>0</td>\n",
       "      <td>...</td>\n",
       "      <td>0</td>\n",
       "      <td>0</td>\n",
       "      <td>1</td>\n",
       "      <td>0</td>\n",
       "      <td>1</td>\n",
       "      <td>0</td>\n",
       "      <td>1</td>\n",
       "      <td>0</td>\n",
       "      <td>1</td>\n",
       "      <td>0</td>\n",
       "    </tr>\n",
       "    <tr>\n",
       "      <th>3</th>\n",
       "      <td>-1.192102</td>\n",
       "      <td>0</td>\n",
       "      <td>0</td>\n",
       "      <td>1</td>\n",
       "      <td>0</td>\n",
       "      <td>0</td>\n",
       "      <td>0</td>\n",
       "      <td>0</td>\n",
       "      <td>0</td>\n",
       "      <td>0</td>\n",
       "      <td>...</td>\n",
       "      <td>0</td>\n",
       "      <td>0</td>\n",
       "      <td>0</td>\n",
       "      <td>1</td>\n",
       "      <td>0</td>\n",
       "      <td>1</td>\n",
       "      <td>0</td>\n",
       "      <td>1</td>\n",
       "      <td>1</td>\n",
       "      <td>0</td>\n",
       "    </tr>\n",
       "    <tr>\n",
       "      <th>4</th>\n",
       "      <td>0.379990</td>\n",
       "      <td>1</td>\n",
       "      <td>0</td>\n",
       "      <td>0</td>\n",
       "      <td>0</td>\n",
       "      <td>0</td>\n",
       "      <td>0</td>\n",
       "      <td>0</td>\n",
       "      <td>0</td>\n",
       "      <td>0</td>\n",
       "      <td>...</td>\n",
       "      <td>0</td>\n",
       "      <td>1</td>\n",
       "      <td>1</td>\n",
       "      <td>0</td>\n",
       "      <td>1</td>\n",
       "      <td>0</td>\n",
       "      <td>1</td>\n",
       "      <td>0</td>\n",
       "      <td>1</td>\n",
       "      <td>0</td>\n",
       "    </tr>\n",
       "    <tr>\n",
       "      <th>...</th>\n",
       "      <td>...</td>\n",
       "      <td>...</td>\n",
       "      <td>...</td>\n",
       "      <td>...</td>\n",
       "      <td>...</td>\n",
       "      <td>...</td>\n",
       "      <td>...</td>\n",
       "      <td>...</td>\n",
       "      <td>...</td>\n",
       "      <td>...</td>\n",
       "      <td>...</td>\n",
       "      <td>...</td>\n",
       "      <td>...</td>\n",
       "      <td>...</td>\n",
       "      <td>...</td>\n",
       "      <td>...</td>\n",
       "      <td>...</td>\n",
       "      <td>...</td>\n",
       "      <td>...</td>\n",
       "      <td>...</td>\n",
       "      <td>...</td>\n",
       "    </tr>\n",
       "    <tr>\n",
       "      <th>22495</th>\n",
       "      <td>-0.612910</td>\n",
       "      <td>1</td>\n",
       "      <td>0</td>\n",
       "      <td>0</td>\n",
       "      <td>0</td>\n",
       "      <td>0</td>\n",
       "      <td>0</td>\n",
       "      <td>0</td>\n",
       "      <td>0</td>\n",
       "      <td>0</td>\n",
       "      <td>...</td>\n",
       "      <td>0</td>\n",
       "      <td>0</td>\n",
       "      <td>1</td>\n",
       "      <td>0</td>\n",
       "      <td>1</td>\n",
       "      <td>0</td>\n",
       "      <td>1</td>\n",
       "      <td>0</td>\n",
       "      <td>1</td>\n",
       "      <td>0</td>\n",
       "    </tr>\n",
       "    <tr>\n",
       "      <th>22496</th>\n",
       "      <td>-0.530168</td>\n",
       "      <td>1</td>\n",
       "      <td>0</td>\n",
       "      <td>0</td>\n",
       "      <td>0</td>\n",
       "      <td>0</td>\n",
       "      <td>0</td>\n",
       "      <td>0</td>\n",
       "      <td>0</td>\n",
       "      <td>0</td>\n",
       "      <td>...</td>\n",
       "      <td>0</td>\n",
       "      <td>0</td>\n",
       "      <td>0</td>\n",
       "      <td>1</td>\n",
       "      <td>1</td>\n",
       "      <td>0</td>\n",
       "      <td>1</td>\n",
       "      <td>0</td>\n",
       "      <td>1</td>\n",
       "      <td>0</td>\n",
       "    </tr>\n",
       "    <tr>\n",
       "      <th>22497</th>\n",
       "      <td>-1.274843</td>\n",
       "      <td>1</td>\n",
       "      <td>0</td>\n",
       "      <td>0</td>\n",
       "      <td>0</td>\n",
       "      <td>0</td>\n",
       "      <td>0</td>\n",
       "      <td>0</td>\n",
       "      <td>0</td>\n",
       "      <td>0</td>\n",
       "      <td>...</td>\n",
       "      <td>1</td>\n",
       "      <td>0</td>\n",
       "      <td>0</td>\n",
       "      <td>1</td>\n",
       "      <td>1</td>\n",
       "      <td>0</td>\n",
       "      <td>1</td>\n",
       "      <td>0</td>\n",
       "      <td>1</td>\n",
       "      <td>0</td>\n",
       "    </tr>\n",
       "    <tr>\n",
       "      <th>22498</th>\n",
       "      <td>1.372890</td>\n",
       "      <td>0</td>\n",
       "      <td>0</td>\n",
       "      <td>0</td>\n",
       "      <td>0</td>\n",
       "      <td>0</td>\n",
       "      <td>1</td>\n",
       "      <td>0</td>\n",
       "      <td>0</td>\n",
       "      <td>0</td>\n",
       "      <td>...</td>\n",
       "      <td>0</td>\n",
       "      <td>0</td>\n",
       "      <td>0</td>\n",
       "      <td>1</td>\n",
       "      <td>1</td>\n",
       "      <td>0</td>\n",
       "      <td>1</td>\n",
       "      <td>0</td>\n",
       "      <td>0</td>\n",
       "      <td>1</td>\n",
       "    </tr>\n",
       "    <tr>\n",
       "      <th>22499</th>\n",
       "      <td>0.297249</td>\n",
       "      <td>0</td>\n",
       "      <td>1</td>\n",
       "      <td>0</td>\n",
       "      <td>0</td>\n",
       "      <td>0</td>\n",
       "      <td>0</td>\n",
       "      <td>0</td>\n",
       "      <td>0</td>\n",
       "      <td>0</td>\n",
       "      <td>...</td>\n",
       "      <td>0</td>\n",
       "      <td>0</td>\n",
       "      <td>0</td>\n",
       "      <td>1</td>\n",
       "      <td>1</td>\n",
       "      <td>0</td>\n",
       "      <td>1</td>\n",
       "      <td>0</td>\n",
       "      <td>1</td>\n",
       "      <td>0</td>\n",
       "    </tr>\n",
       "  </tbody>\n",
       "</table>\n",
       "<p>22500 rows × 30 columns</p>\n",
       "</div>"
      ],
      "text/plain": [
       "            age  job_admin.  job_blue-collar  job_entrepreneur  job_housemaid  \\\n",
       "0      0.876440           1                0                 0              0   \n",
       "1      0.793699           0                0                 0              0   \n",
       "2      0.628215           0                1                 0              0   \n",
       "3     -1.192102           0                0                 1              0   \n",
       "4      0.379990           1                0                 0              0   \n",
       "...         ...         ...              ...               ...            ...   \n",
       "22495 -0.612910           1                0                 0              0   \n",
       "22496 -0.530168           1                0                 0              0   \n",
       "22497 -1.274843           1                0                 0              0   \n",
       "22498  1.372890           0                0                 0              0   \n",
       "22499  0.297249           0                1                 0              0   \n",
       "\n",
       "       job_management  job_retired  job_self-employed  job_services  \\\n",
       "0                   0            0                  0             0   \n",
       "1                   0            0                  0             1   \n",
       "2                   0            0                  0             0   \n",
       "3                   0            0                  0             0   \n",
       "4                   0            0                  0             0   \n",
       "...               ...          ...                ...           ...   \n",
       "22495               0            0                  0             0   \n",
       "22496               0            0                  0             0   \n",
       "22497               0            0                  0             0   \n",
       "22498               0            1                  0             0   \n",
       "22499               0            0                  0             0   \n",
       "\n",
       "       job_student  ...  education_professional.course  \\\n",
       "0                0  ...                              1   \n",
       "1                0  ...                              0   \n",
       "2                0  ...                              0   \n",
       "3                0  ...                              0   \n",
       "4                0  ...                              0   \n",
       "...            ...  ...                            ...   \n",
       "22495            0  ...                              0   \n",
       "22496            0  ...                              0   \n",
       "22497            0  ...                              1   \n",
       "22498            0  ...                              0   \n",
       "22499            0  ...                              0   \n",
       "\n",
       "       education_university.degree  housing_no  housing_yes  loan_no  \\\n",
       "0                                0           0            1        0   \n",
       "1                                0           0            1        1   \n",
       "2                                0           1            0        1   \n",
       "3                                0           0            1        0   \n",
       "4                                1           1            0        1   \n",
       "...                            ...         ...          ...      ...   \n",
       "22495                            0           1            0        1   \n",
       "22496                            0           0            1        1   \n",
       "22497                            0           0            1        1   \n",
       "22498                            0           0            1        1   \n",
       "22499                            0           0            1        1   \n",
       "\n",
       "       loan_yes  default_no  default_yes  contact_cellular  contact_telephone  \n",
       "0             1           1            0                 1                  0  \n",
       "1             0           1            0                 1                  0  \n",
       "2             0           1            0                 1                  0  \n",
       "3             1           0            1                 1                  0  \n",
       "4             0           1            0                 1                  0  \n",
       "...         ...         ...          ...               ...                ...  \n",
       "22495         0           1            0                 1                  0  \n",
       "22496         0           1            0                 1                  0  \n",
       "22497         0           1            0                 1                  0  \n",
       "22498         0           1            0                 0                  1  \n",
       "22499         0           1            0                 1                  0  \n",
       "\n",
       "[22500 rows x 30 columns]"
      ]
     },
     "execution_count": 25,
     "metadata": {},
     "output_type": "execute_result"
    }
   ],
   "source": [
    "#users profile only as X2\n",
    "features2 = ['age', 'job_admin.',\n",
    "       'job_blue-collar', 'job_entrepreneur', 'job_housemaid',\n",
    "       'job_management', 'job_retired', 'job_self-employed', 'job_services',\n",
    "       'job_student', 'job_technician', 'job_unemployed', 'marital_divorced',\n",
    "       'marital_married', 'marital_single', 'education_basic.4y',\n",
    "       'education_basic.6y', 'education_basic.9y', 'education_high.school',\n",
    "       'education_illiterate', 'education_professional.course',\n",
    "       'education_university.degree', 'housing_no', 'housing_yes', 'loan_no',\n",
    "       'loan_yes', 'default_no', 'default_yes', 'contact_cellular',\n",
    "       'contact_telephone']\n",
    "X2 = datanew[features2]\n",
    "X2"
   ]
  },
  {
   "cell_type": "code",
   "execution_count": 27,
   "id": "3d3a3736-3eb1-4191-9f54-2d8cc2032248",
   "metadata": {},
   "outputs": [
    {
     "data": {
      "text/html": [
       "<div>\n",
       "<style scoped>\n",
       "    .dataframe tbody tr th:only-of-type {\n",
       "        vertical-align: middle;\n",
       "    }\n",
       "\n",
       "    .dataframe tbody tr th {\n",
       "        vertical-align: top;\n",
       "    }\n",
       "\n",
       "    .dataframe thead th {\n",
       "        text-align: right;\n",
       "    }\n",
       "</style>\n",
       "<table border=\"1\" class=\"dataframe\">\n",
       "  <thead>\n",
       "    <tr style=\"text-align: right;\">\n",
       "      <th></th>\n",
       "      <th>contact_cellular</th>\n",
       "      <th>contact_telephone</th>\n",
       "      <th>month_apr</th>\n",
       "      <th>month_aug</th>\n",
       "      <th>month_dec</th>\n",
       "      <th>month_jul</th>\n",
       "      <th>month_jun</th>\n",
       "      <th>month_mar</th>\n",
       "      <th>month_may</th>\n",
       "      <th>month_nov</th>\n",
       "      <th>...</th>\n",
       "      <th>day_of_week_thu</th>\n",
       "      <th>day_of_week_tue</th>\n",
       "      <th>day_of_week_wed</th>\n",
       "      <th>duration</th>\n",
       "      <th>campaign</th>\n",
       "      <th>pdays</th>\n",
       "      <th>previous</th>\n",
       "      <th>poutcome_failure</th>\n",
       "      <th>poutcome_nonexistent</th>\n",
       "      <th>poutcome_success</th>\n",
       "    </tr>\n",
       "  </thead>\n",
       "  <tbody>\n",
       "    <tr>\n",
       "      <th>0</th>\n",
       "      <td>1</td>\n",
       "      <td>0</td>\n",
       "      <td>0</td>\n",
       "      <td>1</td>\n",
       "      <td>0</td>\n",
       "      <td>0</td>\n",
       "      <td>0</td>\n",
       "      <td>0</td>\n",
       "      <td>0</td>\n",
       "      <td>0</td>\n",
       "      <td>...</td>\n",
       "      <td>0</td>\n",
       "      <td>0</td>\n",
       "      <td>0</td>\n",
       "      <td>2.425786</td>\n",
       "      <td>-0.327368</td>\n",
       "      <td>-2.024892</td>\n",
       "      <td>0.356261</td>\n",
       "      <td>1</td>\n",
       "      <td>0</td>\n",
       "      <td>0</td>\n",
       "    </tr>\n",
       "    <tr>\n",
       "      <th>1</th>\n",
       "      <td>1</td>\n",
       "      <td>0</td>\n",
       "      <td>0</td>\n",
       "      <td>0</td>\n",
       "      <td>0</td>\n",
       "      <td>0</td>\n",
       "      <td>0</td>\n",
       "      <td>0</td>\n",
       "      <td>1</td>\n",
       "      <td>0</td>\n",
       "      <td>...</td>\n",
       "      <td>0</td>\n",
       "      <td>0</td>\n",
       "      <td>0</td>\n",
       "      <td>2.491410</td>\n",
       "      <td>-0.327368</td>\n",
       "      <td>-1.107256</td>\n",
       "      <td>0.356261</td>\n",
       "      <td>0</td>\n",
       "      <td>1</td>\n",
       "      <td>0</td>\n",
       "    </tr>\n",
       "    <tr>\n",
       "      <th>2</th>\n",
       "      <td>1</td>\n",
       "      <td>0</td>\n",
       "      <td>1</td>\n",
       "      <td>0</td>\n",
       "      <td>0</td>\n",
       "      <td>0</td>\n",
       "      <td>0</td>\n",
       "      <td>0</td>\n",
       "      <td>0</td>\n",
       "      <td>0</td>\n",
       "      <td>...</td>\n",
       "      <td>0</td>\n",
       "      <td>0</td>\n",
       "      <td>1</td>\n",
       "      <td>-0.680888</td>\n",
       "      <td>-0.465802</td>\n",
       "      <td>0.773898</td>\n",
       "      <td>-0.164927</td>\n",
       "      <td>1</td>\n",
       "      <td>0</td>\n",
       "      <td>0</td>\n",
       "    </tr>\n",
       "    <tr>\n",
       "      <th>3</th>\n",
       "      <td>1</td>\n",
       "      <td>0</td>\n",
       "      <td>0</td>\n",
       "      <td>1</td>\n",
       "      <td>0</td>\n",
       "      <td>0</td>\n",
       "      <td>0</td>\n",
       "      <td>0</td>\n",
       "      <td>0</td>\n",
       "      <td>0</td>\n",
       "      <td>...</td>\n",
       "      <td>0</td>\n",
       "      <td>0</td>\n",
       "      <td>0</td>\n",
       "      <td>-0.549639</td>\n",
       "      <td>3.133474</td>\n",
       "      <td>0.685193</td>\n",
       "      <td>-0.686116</td>\n",
       "      <td>0</td>\n",
       "      <td>1</td>\n",
       "      <td>0</td>\n",
       "    </tr>\n",
       "    <tr>\n",
       "      <th>4</th>\n",
       "      <td>1</td>\n",
       "      <td>0</td>\n",
       "      <td>0</td>\n",
       "      <td>0</td>\n",
       "      <td>0</td>\n",
       "      <td>0</td>\n",
       "      <td>0</td>\n",
       "      <td>0</td>\n",
       "      <td>0</td>\n",
       "      <td>1</td>\n",
       "      <td>...</td>\n",
       "      <td>0</td>\n",
       "      <td>1</td>\n",
       "      <td>0</td>\n",
       "      <td>1.418386</td>\n",
       "      <td>-0.327368</td>\n",
       "      <td>-1.633367</td>\n",
       "      <td>1.398639</td>\n",
       "      <td>0</td>\n",
       "      <td>0</td>\n",
       "      <td>1</td>\n",
       "    </tr>\n",
       "    <tr>\n",
       "      <th>...</th>\n",
       "      <td>...</td>\n",
       "      <td>...</td>\n",
       "      <td>...</td>\n",
       "      <td>...</td>\n",
       "      <td>...</td>\n",
       "      <td>...</td>\n",
       "      <td>...</td>\n",
       "      <td>...</td>\n",
       "      <td>...</td>\n",
       "      <td>...</td>\n",
       "      <td>...</td>\n",
       "      <td>...</td>\n",
       "      <td>...</td>\n",
       "      <td>...</td>\n",
       "      <td>...</td>\n",
       "      <td>...</td>\n",
       "      <td>...</td>\n",
       "      <td>...</td>\n",
       "      <td>...</td>\n",
       "      <td>...</td>\n",
       "      <td>...</td>\n",
       "    </tr>\n",
       "    <tr>\n",
       "      <th>22495</th>\n",
       "      <td>1</td>\n",
       "      <td>0</td>\n",
       "      <td>0</td>\n",
       "      <td>1</td>\n",
       "      <td>0</td>\n",
       "      <td>0</td>\n",
       "      <td>0</td>\n",
       "      <td>0</td>\n",
       "      <td>0</td>\n",
       "      <td>0</td>\n",
       "      <td>...</td>\n",
       "      <td>0</td>\n",
       "      <td>0</td>\n",
       "      <td>0</td>\n",
       "      <td>2.013890</td>\n",
       "      <td>-0.050501</td>\n",
       "      <td>0.461901</td>\n",
       "      <td>0.877450</td>\n",
       "      <td>1</td>\n",
       "      <td>0</td>\n",
       "      <td>0</td>\n",
       "    </tr>\n",
       "    <tr>\n",
       "      <th>22496</th>\n",
       "      <td>1</td>\n",
       "      <td>0</td>\n",
       "      <td>0</td>\n",
       "      <td>1</td>\n",
       "      <td>0</td>\n",
       "      <td>0</td>\n",
       "      <td>0</td>\n",
       "      <td>0</td>\n",
       "      <td>0</td>\n",
       "      <td>0</td>\n",
       "      <td>...</td>\n",
       "      <td>0</td>\n",
       "      <td>0</td>\n",
       "      <td>0</td>\n",
       "      <td>1.423273</td>\n",
       "      <td>1.472270</td>\n",
       "      <td>-0.737143</td>\n",
       "      <td>0.877450</td>\n",
       "      <td>1</td>\n",
       "      <td>0</td>\n",
       "      <td>0</td>\n",
       "    </tr>\n",
       "    <tr>\n",
       "      <th>22497</th>\n",
       "      <td>1</td>\n",
       "      <td>0</td>\n",
       "      <td>0</td>\n",
       "      <td>0</td>\n",
       "      <td>0</td>\n",
       "      <td>0</td>\n",
       "      <td>0</td>\n",
       "      <td>0</td>\n",
       "      <td>1</td>\n",
       "      <td>0</td>\n",
       "      <td>...</td>\n",
       "      <td>1</td>\n",
       "      <td>0</td>\n",
       "      <td>0</td>\n",
       "      <td>0.849411</td>\n",
       "      <td>-0.465802</td>\n",
       "      <td>0.055083</td>\n",
       "      <td>1.919828</td>\n",
       "      <td>0</td>\n",
       "      <td>0</td>\n",
       "      <td>1</td>\n",
       "    </tr>\n",
       "    <tr>\n",
       "      <th>22498</th>\n",
       "      <td>0</td>\n",
       "      <td>1</td>\n",
       "      <td>0</td>\n",
       "      <td>0</td>\n",
       "      <td>0</td>\n",
       "      <td>0</td>\n",
       "      <td>0</td>\n",
       "      <td>0</td>\n",
       "      <td>1</td>\n",
       "      <td>0</td>\n",
       "      <td>...</td>\n",
       "      <td>0</td>\n",
       "      <td>1</td>\n",
       "      <td>0</td>\n",
       "      <td>-0.398146</td>\n",
       "      <td>0.226367</td>\n",
       "      <td>0.657664</td>\n",
       "      <td>-0.686116</td>\n",
       "      <td>0</td>\n",
       "      <td>1</td>\n",
       "      <td>0</td>\n",
       "    </tr>\n",
       "    <tr>\n",
       "      <th>22499</th>\n",
       "      <td>1</td>\n",
       "      <td>0</td>\n",
       "      <td>1</td>\n",
       "      <td>0</td>\n",
       "      <td>0</td>\n",
       "      <td>0</td>\n",
       "      <td>0</td>\n",
       "      <td>0</td>\n",
       "      <td>0</td>\n",
       "      <td>0</td>\n",
       "      <td>...</td>\n",
       "      <td>0</td>\n",
       "      <td>0</td>\n",
       "      <td>0</td>\n",
       "      <td>-0.416995</td>\n",
       "      <td>-0.465802</td>\n",
       "      <td>0.694369</td>\n",
       "      <td>-0.164927</td>\n",
       "      <td>1</td>\n",
       "      <td>0</td>\n",
       "      <td>0</td>\n",
       "    </tr>\n",
       "  </tbody>\n",
       "</table>\n",
       "<p>22500 rows × 24 columns</p>\n",
       "</div>"
      ],
      "text/plain": [
       "       contact_cellular  contact_telephone  month_apr  month_aug  month_dec  \\\n",
       "0                     1                  0          0          1          0   \n",
       "1                     1                  0          0          0          0   \n",
       "2                     1                  0          1          0          0   \n",
       "3                     1                  0          0          1          0   \n",
       "4                     1                  0          0          0          0   \n",
       "...                 ...                ...        ...        ...        ...   \n",
       "22495                 1                  0          0          1          0   \n",
       "22496                 1                  0          0          1          0   \n",
       "22497                 1                  0          0          0          0   \n",
       "22498                 0                  1          0          0          0   \n",
       "22499                 1                  0          1          0          0   \n",
       "\n",
       "       month_jul  month_jun  month_mar  month_may  month_nov  ...  \\\n",
       "0              0          0          0          0          0  ...   \n",
       "1              0          0          0          1          0  ...   \n",
       "2              0          0          0          0          0  ...   \n",
       "3              0          0          0          0          0  ...   \n",
       "4              0          0          0          0          1  ...   \n",
       "...          ...        ...        ...        ...        ...  ...   \n",
       "22495          0          0          0          0          0  ...   \n",
       "22496          0          0          0          0          0  ...   \n",
       "22497          0          0          0          1          0  ...   \n",
       "22498          0          0          0          1          0  ...   \n",
       "22499          0          0          0          0          0  ...   \n",
       "\n",
       "       day_of_week_thu  day_of_week_tue  day_of_week_wed  duration  campaign  \\\n",
       "0                    0                0                0  2.425786 -0.327368   \n",
       "1                    0                0                0  2.491410 -0.327368   \n",
       "2                    0                0                1 -0.680888 -0.465802   \n",
       "3                    0                0                0 -0.549639  3.133474   \n",
       "4                    0                1                0  1.418386 -0.327368   \n",
       "...                ...              ...              ...       ...       ...   \n",
       "22495                0                0                0  2.013890 -0.050501   \n",
       "22496                0                0                0  1.423273  1.472270   \n",
       "22497                1                0                0  0.849411 -0.465802   \n",
       "22498                0                1                0 -0.398146  0.226367   \n",
       "22499                0                0                0 -0.416995 -0.465802   \n",
       "\n",
       "          pdays  previous  poutcome_failure  poutcome_nonexistent  \\\n",
       "0     -2.024892  0.356261                 1                     0   \n",
       "1     -1.107256  0.356261                 0                     1   \n",
       "2      0.773898 -0.164927                 1                     0   \n",
       "3      0.685193 -0.686116                 0                     1   \n",
       "4     -1.633367  1.398639                 0                     0   \n",
       "...         ...       ...               ...                   ...   \n",
       "22495  0.461901  0.877450                 1                     0   \n",
       "22496 -0.737143  0.877450                 1                     0   \n",
       "22497  0.055083  1.919828                 0                     0   \n",
       "22498  0.657664 -0.686116                 0                     1   \n",
       "22499  0.694369 -0.164927                 1                     0   \n",
       "\n",
       "       poutcome_success  \n",
       "0                     0  \n",
       "1                     0  \n",
       "2                     0  \n",
       "3                     0  \n",
       "4                     1  \n",
       "...                 ...  \n",
       "22495                 0  \n",
       "22496                 0  \n",
       "22497                 1  \n",
       "22498                 0  \n",
       "22499                 0  \n",
       "\n",
       "[22500 rows x 24 columns]"
      ]
     },
     "execution_count": 27,
     "metadata": {},
     "output_type": "execute_result"
    }
   ],
   "source": [
    "#previous campaign details only as X3\n",
    "features3 = ['contact_cellular',\n",
    "       'contact_telephone', 'month_apr', 'month_aug', 'month_dec', 'month_jul',\n",
    "       'month_jun', 'month_mar', 'month_may', 'month_nov', 'month_oct',\n",
    "       'month_sep', 'day_of_week_fri', 'day_of_week_mon', 'day_of_week_thu',\n",
    "       'day_of_week_tue', 'day_of_week_wed', 'duration', 'campaign',\n",
    "       'pdays', 'previous', 'poutcome_failure',\n",
    "       'poutcome_nonexistent', 'poutcome_success']\n",
    "X3 = datanew[features3]\n",
    "X3"
   ]
  },
  {
   "cell_type": "code",
   "execution_count": 83,
   "id": "be138dfa",
   "metadata": {},
   "outputs": [],
   "source": [
    "# define target\n",
    "y = datanew['subscribe_yes']"
   ]
  },
  {
   "cell_type": "code",
   "execution_count": 84,
   "id": "1395b7c6",
   "metadata": {},
   "outputs": [
    {
     "data": {
      "text/plain": [
       "0    19548\n",
       "1     2952\n",
       "Name: subscribe_yes, dtype: int64"
      ]
     },
     "execution_count": 84,
     "metadata": {},
     "output_type": "execute_result"
    }
   ],
   "source": [
    "y.value_counts()"
   ]
  },
  {
   "cell_type": "code",
   "execution_count": 85,
   "id": "3cac8fcb",
   "metadata": {},
   "outputs": [],
   "source": [
    "# ! pip install imblearn scikit-learn==1.1.0"
   ]
  },
  {
   "cell_type": "code",
   "execution_count": 86,
   "id": "86a3c2c9",
   "metadata": {},
   "outputs": [],
   "source": [
    "# ! pip install imblearn"
   ]
  },
  {
   "cell_type": "code",
   "execution_count": 87,
   "id": "da4d3d58",
   "metadata": {},
   "outputs": [],
   "source": [
    "from imblearn.over_sampling import SMOTE"
   ]
  },
  {
   "cell_type": "code",
   "execution_count": 88,
   "id": "c9d1ce98",
   "metadata": {},
   "outputs": [],
   "source": [
    "# transform the datas into balanced data\n",
    "oversample = SMOTE(random_state=123)\n",
    "X_new, y_new = oversample.fit_resample(X, y)\n",
    "X2_new, y2_new = oversample.fit_resample(X2, y)\n",
    "X3_new, y3_new = oversample.fit_resample(X3, y)"
   ]
  },
  {
   "cell_type": "code",
   "execution_count": 89,
   "id": "7836de9c",
   "metadata": {},
   "outputs": [
    {
     "data": {
      "text/plain": [
       "0    19548\n",
       "1    19548\n",
       "Name: subscribe_yes, dtype: int64"
      ]
     },
     "execution_count": 89,
     "metadata": {},
     "output_type": "execute_result"
    }
   ],
   "source": [
    "y_new.value_counts()"
   ]
  },
  {
   "cell_type": "code",
   "execution_count": 90,
   "id": "ea00a3ea-c05a-44dc-9a23-178f351aea77",
   "metadata": {},
   "outputs": [
    {
     "data": {
      "text/plain": [
       "0    19548\n",
       "1    19548\n",
       "Name: subscribe_yes, dtype: int64"
      ]
     },
     "execution_count": 90,
     "metadata": {},
     "output_type": "execute_result"
    }
   ],
   "source": [
    "y2_new.value_counts()"
   ]
  },
  {
   "cell_type": "code",
   "execution_count": 91,
   "id": "c5e8f5f9-8e95-4954-9532-12c9d9e265d8",
   "metadata": {},
   "outputs": [
    {
     "data": {
      "text/plain": [
       "0    19548\n",
       "1    19548\n",
       "Name: subscribe_yes, dtype: int64"
      ]
     },
     "execution_count": 91,
     "metadata": {},
     "output_type": "execute_result"
    }
   ],
   "source": [
    "y3_new.value_counts()"
   ]
  },
  {
   "cell_type": "code",
   "execution_count": 92,
   "id": "bb295fd1",
   "metadata": {},
   "outputs": [],
   "source": [
    "# import multinomial naive bayes model from sklearn\n",
    "# https://scikit-learn.org/stable/modules/generated/sklearn.naive_bayes.MultinomialNB.html\n",
    "\n",
    "from sklearn.naive_bayes import GaussianNB"
   ]
  },
  {
   "cell_type": "code",
   "execution_count": 93,
   "id": "f033cd89",
   "metadata": {},
   "outputs": [],
   "source": [
    "# define a Gaussian bayes classifier\n",
    "# alpha:smoothing parameter, by default=1.0\n",
    "GNB = GaussianNB()"
   ]
  },
  {
   "cell_type": "code",
   "execution_count": 94,
   "id": "098f4a51",
   "metadata": {},
   "outputs": [],
   "source": [
    "# import cross validation\n",
    "from sklearn.model_selection import cross_val_score, cross_val_predict"
   ]
  },
  {
   "cell_type": "code",
   "execution_count": 95,
   "id": "125b4afd",
   "metadata": {},
   "outputs": [
    {
     "data": {
      "text/plain": [
       "array([0, 0, 0, ..., 0, 1, 1], dtype=uint8)"
      ]
     },
     "execution_count": 95,
     "metadata": {},
     "output_type": "execute_result"
    }
   ],
   "source": [
    "#predict target based on cross validation\n",
    "y_pred_cv = cross_val_predict(GNB,X_new,y_new,cv=10)\n",
    "y_pred_cv"
   ]
  },
  {
   "cell_type": "code",
   "execution_count": 96,
   "id": "18bd2951",
   "metadata": {},
   "outputs": [
    {
     "data": {
      "text/plain": [
       "0.7165702598567539"
      ]
     },
     "execution_count": 96,
     "metadata": {},
     "output_type": "execute_result"
    }
   ],
   "source": [
    "Accuracy = cross_val_score(GNB,X_new,y_new,cv=10).mean()\n",
    "Accuracy"
   ]
  },
  {
   "cell_type": "code",
   "execution_count": 97,
   "id": "4d77051b-cb40-4d0d-9269-ff1dbe14580d",
   "metadata": {},
   "outputs": [
    {
     "data": {
      "text/plain": [
       "array([0, 0, 0, ..., 0, 1, 1], dtype=uint8)"
      ]
     },
     "execution_count": 97,
     "metadata": {},
     "output_type": "execute_result"
    }
   ],
   "source": [
    "#prediction based on user profiles \n",
    "y2_pred_cv = cross_val_predict(GNB,X2_new,y2_new,cv=10)\n",
    "y2_pred_cv"
   ]
  },
  {
   "cell_type": "code",
   "execution_count": 98,
   "id": "89d8d22f-1c82-4949-8500-e97f244dcfa8",
   "metadata": {},
   "outputs": [
    {
     "data": {
      "text/plain": [
       "0.6004193549020261"
      ]
     },
     "execution_count": 98,
     "metadata": {},
     "output_type": "execute_result"
    }
   ],
   "source": [
    "Accuracy2 = cross_val_score(GNB,X2_new,y2_new,cv=10).mean()\n",
    "Accuracy2"
   ]
  },
  {
   "cell_type": "code",
   "execution_count": 99,
   "id": "ad6c2a92-3b4c-4d38-bc35-47140e3bea38",
   "metadata": {},
   "outputs": [
    {
     "data": {
      "text/plain": [
       "array([0, 0, 1, ..., 0, 0, 1], dtype=uint8)"
      ]
     },
     "execution_count": 99,
     "metadata": {},
     "output_type": "execute_result"
    }
   ],
   "source": [
    "#prediction based on previous campaign info\n",
    "y3_pred_cv = cross_val_predict(GNB,X3_new,y3_new,cv=10)\n",
    "y3_pred_cv"
   ]
  },
  {
   "cell_type": "code",
   "execution_count": 100,
   "id": "b544d855-cc13-4b9c-bfd6-f3209b7904e1",
   "metadata": {},
   "outputs": [
    {
     "data": {
      "text/plain": [
       "0.6220062037962104"
      ]
     },
     "execution_count": 100,
     "metadata": {},
     "output_type": "execute_result"
    }
   ],
   "source": [
    "Accuracy3 = cross_val_score(GNB,X3_new,y3_new,cv=10).mean()\n",
    "Accuracy3"
   ]
  },
  {
   "cell_type": "code",
   "execution_count": 101,
   "id": "89c066b1-5ece-4d94-913f-c5c4e9d3c479",
   "metadata": {},
   "outputs": [],
   "source": [
    "# 使用isotonic和sigmoid两种校准方式提高GaussianNB的预测准确率\n",
    "from sklearn.calibration import CalibratedClassifierCV, CalibrationDisplay\n"
   ]
  },
  {
   "cell_type": "code",
   "execution_count": 102,
   "id": "efd558a4-5fd5-45e7-a129-046747ff8329",
   "metadata": {},
   "outputs": [],
   "source": [
    "GNB_isotonic = CalibratedClassifierCV(GNB, cv=10, method='isotonic')\n",
    "GNB_sigmoid = CalibratedClassifierCV(GNB, cv=10, method='sigmoid')"
   ]
  },
  {
   "cell_type": "code",
   "execution_count": 103,
   "id": "3073a8c4-01bd-49e5-bb85-0866803825a2",
   "metadata": {},
   "outputs": [],
   "source": [
    "GNB_list = [\n",
    "(GNB, 'Naive Bayes'),\n",
    "(GNB_isotonic, 'Naive Bayes + Isotonic'),\n",
    "(GNB_sigmoid, 'Naive Bayes + Sigmoid'),\n",
    "]"
   ]
  },
  {
   "cell_type": "code",
   "execution_count": 104,
   "id": "faca678f-b3c2-4ee2-8766-09ffb574855f",
   "metadata": {},
   "outputs": [
    {
     "data": {
      "text/plain": [
       "array([0, 0, 0, ..., 1, 1, 1], dtype=uint8)"
      ]
     },
     "execution_count": 104,
     "metadata": {},
     "output_type": "execute_result"
    }
   ],
   "source": [
    "y_pred2_cv = cross_val_predict(GNB_isotonic,X_new,y_new,cv=10)\n",
    "y_pred2_cv"
   ]
  },
  {
   "cell_type": "code",
   "execution_count": 105,
   "id": "844ade89-6b5c-46e2-b4a2-4c99c5db0c42",
   "metadata": {},
   "outputs": [
    {
     "data": {
      "text/plain": [
       "0.7557055493290781"
      ]
     },
     "execution_count": 105,
     "metadata": {},
     "output_type": "execute_result"
    }
   ],
   "source": [
    "Accuracy1_2 = cross_val_score(GNB_isotonic,X_new,y_new,cv=10).mean()\n",
    "Accuracy1_2"
   ]
  },
  {
   "cell_type": "code",
   "execution_count": 106,
   "id": "dcac5a41-864b-4f97-9ff9-9bfab4591d42",
   "metadata": {},
   "outputs": [
    {
     "data": {
      "text/plain": [
       "array([1, 0, 0, ..., 1, 1, 1], dtype=uint8)"
      ]
     },
     "execution_count": 106,
     "metadata": {},
     "output_type": "execute_result"
    }
   ],
   "source": [
    "y2_pred2_cv = cross_val_predict(GNB_isotonic,X2_new,y2_new,cv=10)\n",
    "y2_pred2_cv"
   ]
  },
  {
   "cell_type": "code",
   "execution_count": 107,
   "id": "16f1bb3a-5123-42de-a0c1-929b71a1e051",
   "metadata": {},
   "outputs": [
    {
     "data": {
      "text/plain": [
       "0.6519595608272338"
      ]
     },
     "execution_count": 107,
     "metadata": {},
     "output_type": "execute_result"
    }
   ],
   "source": [
    "Accuracy2_2 = cross_val_score(GNB_isotonic,X2_new,y2_new,cv=10).mean()\n",
    "Accuracy2_2"
   ]
  },
  {
   "cell_type": "code",
   "execution_count": 108,
   "id": "4494b20c-5577-40a4-90f6-a494295cc778",
   "metadata": {},
   "outputs": [
    {
     "data": {
      "text/plain": [
       "array([1, 0, 1, ..., 1, 1, 1], dtype=uint8)"
      ]
     },
     "execution_count": 108,
     "metadata": {},
     "output_type": "execute_result"
    }
   ],
   "source": [
    "y3_pred2_cv = cross_val_predict(GNB_isotonic,X3_new,y3_new,cv=10)\n",
    "y3_pred2_cv"
   ]
  },
  {
   "cell_type": "code",
   "execution_count": 109,
   "id": "7475e956-687e-4ddb-afb7-2e04f4519ad1",
   "metadata": {},
   "outputs": [
    {
     "data": {
      "text/plain": [
       "0.6867194336108096"
      ]
     },
     "execution_count": 109,
     "metadata": {},
     "output_type": "execute_result"
    }
   ],
   "source": [
    "Accuracy3_2 = cross_val_score(GNB_isotonic,X3_new,y3_new,cv=10).mean()\n",
    "Accuracy3_2"
   ]
  },
  {
   "cell_type": "code",
   "execution_count": 110,
   "id": "60e0db36-65ee-4980-bbb2-4013015a1edd",
   "metadata": {},
   "outputs": [
    {
     "data": {
      "text/plain": [
       "array([0, 0, 0, ..., 1, 1, 1], dtype=uint8)"
      ]
     },
     "execution_count": 110,
     "metadata": {},
     "output_type": "execute_result"
    }
   ],
   "source": [
    "y_pred3_cv = cross_val_predict(GNB_sigmoid,X_new,y_new,cv=10)\n",
    "y_pred3_cv"
   ]
  },
  {
   "cell_type": "code",
   "execution_count": 111,
   "id": "1314b6e4-7dc4-4aeb-81b2-94f1c006ec6a",
   "metadata": {},
   "outputs": [
    {
     "data": {
      "text/plain": [
       "0.7325058377316692"
      ]
     },
     "execution_count": 111,
     "metadata": {},
     "output_type": "execute_result"
    }
   ],
   "source": [
    "Accuracy1_3 = cross_val_score(GNB_sigmoid,X_new,y_new,cv=10).mean()\n",
    "Accuracy1_3"
   ]
  },
  {
   "cell_type": "code",
   "execution_count": 112,
   "id": "5e06ca56-c7a7-4717-9a52-4a929765379e",
   "metadata": {},
   "outputs": [
    {
     "data": {
      "text/plain": [
       "array([1, 0, 0, ..., 1, 1, 1], dtype=uint8)"
      ]
     },
     "execution_count": 112,
     "metadata": {},
     "output_type": "execute_result"
    }
   ],
   "source": [
    "y2_pred3_cv = cross_val_predict(GNB_sigmoid,X2_new,y2_new,cv=10)\n",
    "y2_pred3_cv"
   ]
  },
  {
   "cell_type": "code",
   "execution_count": 113,
   "id": "6733b961-1873-4cc3-b5e3-3c1d9ba51c35",
   "metadata": {},
   "outputs": [
    {
     "data": {
      "text/plain": [
       "0.6337733566515464"
      ]
     },
     "execution_count": 113,
     "metadata": {},
     "output_type": "execute_result"
    }
   ],
   "source": [
    "Accuracy2_3 = cross_val_score(GNB_sigmoid,X2_new,y2_new,cv=10).mean()\n",
    "Accuracy2_3"
   ]
  },
  {
   "cell_type": "code",
   "execution_count": 114,
   "id": "c5983f3b-0f35-4b8e-99d2-de2fe9ce6860",
   "metadata": {},
   "outputs": [
    {
     "data": {
      "text/plain": [
       "array([0, 0, 1, ..., 0, 1, 1], dtype=uint8)"
      ]
     },
     "execution_count": 114,
     "metadata": {},
     "output_type": "execute_result"
    }
   ],
   "source": [
    "y3_pred3_cv = cross_val_predict(GNB_sigmoid,X3_new,y3_new,cv=10)\n",
    "y3_pred3_cv"
   ]
  },
  {
   "cell_type": "code",
   "execution_count": 115,
   "id": "e431bf46-d1aa-408f-8a18-5bf0f18d0b28",
   "metadata": {},
   "outputs": [
    {
     "data": {
      "text/plain": [
       "0.6562815628436967"
      ]
     },
     "execution_count": 115,
     "metadata": {},
     "output_type": "execute_result"
    }
   ],
   "source": [
    "Accuracy3_3 = cross_val_score(GNB_sigmoid,X3_new,y3_new,cv=10).mean()\n",
    "Accuracy3_3"
   ]
  },
  {
   "cell_type": "markdown",
   "id": "34302fa9",
   "metadata": {},
   "source": [
    "# ROC Curve & Calibration Curve"
   ]
  },
  {
   "cell_type": "code",
   "execution_count": 116,
   "id": "46b7ba78",
   "metadata": {},
   "outputs": [],
   "source": [
    "# probablities for each prediction\n",
    "proba_y = cross_val_predict(GNB, X_new, y_new, cv=10, method='predict_proba')"
   ]
  },
  {
   "cell_type": "code",
   "execution_count": 117,
   "id": "35729404",
   "metadata": {},
   "outputs": [
    {
     "data": {
      "text/plain": [
       "array([[9.98089502e-01, 1.91049834e-03],\n",
       "       [9.99999331e-01, 6.69153878e-07],\n",
       "       [9.99978830e-01, 2.11699634e-05],\n",
       "       ...,\n",
       "       [5.79034477e-01, 4.20965523e-01],\n",
       "       [1.30382091e-03, 9.98696179e-01],\n",
       "       [7.74029663e-67, 1.00000000e+00]])"
      ]
     },
     "execution_count": 117,
     "metadata": {},
     "output_type": "execute_result"
    }
   ],
   "source": [
    "proba_y"
   ]
  },
  {
   "cell_type": "code",
   "execution_count": 118,
   "id": "6c4604f3",
   "metadata": {},
   "outputs": [
    {
     "data": {
      "text/plain": [
       "array([1.91049834e-03, 6.69153878e-07, 2.11699634e-05, ...,\n",
       "       4.20965523e-01, 9.98696179e-01, 1.00000000e+00])"
      ]
     },
     "execution_count": 118,
     "metadata": {},
     "output_type": "execute_result"
    }
   ],
   "source": [
    "# get the column of probabilities being 1\n",
    "proba_y_1 = proba_y[:,1]\n",
    "proba_y_1"
   ]
  },
  {
   "cell_type": "code",
   "execution_count": 119,
   "id": "a32de97c",
   "metadata": {},
   "outputs": [],
   "source": [
    "from sklearn.metrics import roc_curve, auc\n",
    "from sklearn import metrics\n",
    "# get fpr, tpr and thresholds\n",
    "\n",
    "fpr, tpr, thresholds = metrics.roc_curve(y_new, proba_y_1, pos_label=1)"
   ]
  },
  {
   "cell_type": "code",
   "execution_count": 120,
   "id": "b2b59b9a",
   "metadata": {},
   "outputs": [],
   "source": [
    "# help(roc_curve)"
   ]
  },
  {
   "cell_type": "code",
   "execution_count": 121,
   "id": "c332c67e",
   "metadata": {},
   "outputs": [
    {
     "data": {
      "text/plain": [
       "array([0.        , 0.12297933, 0.1231328 , ..., 0.99994884, 1.        ,\n",
       "       1.        ])"
      ]
     },
     "execution_count": 121,
     "metadata": {},
     "output_type": "execute_result"
    }
   ],
   "source": [
    "tpr"
   ]
  },
  {
   "cell_type": "code",
   "execution_count": 122,
   "id": "74672220",
   "metadata": {},
   "outputs": [
    {
     "data": {
      "text/plain": [
       "array([0.        , 0.02429916, 0.02429916, ..., 0.99994884, 0.99994884,\n",
       "       1.        ])"
      ]
     },
     "execution_count": 122,
     "metadata": {},
     "output_type": "execute_result"
    }
   ],
   "source": [
    "fpr"
   ]
  },
  {
   "cell_type": "code",
   "execution_count": 123,
   "id": "f93abd06",
   "metadata": {},
   "outputs": [
    {
     "data": {
      "text/plain": [
       "array([2.00000000e+00, 1.00000000e+00, 1.00000000e+00, ...,\n",
       "       4.98793926e-25, 2.81867113e-26, 8.86955652e-27])"
      ]
     },
     "execution_count": 123,
     "metadata": {},
     "output_type": "execute_result"
    }
   ],
   "source": [
    "thresholds"
   ]
  },
  {
   "cell_type": "code",
   "execution_count": 124,
   "id": "671fba09",
   "metadata": {},
   "outputs": [],
   "source": [
    "# plot roc curve\n",
    "import matplotlib as mpl\n",
    "import matplotlib.pyplot as plt"
   ]
  },
  {
   "cell_type": "code",
   "execution_count": 125,
   "id": "7e204dbc",
   "metadata": {},
   "outputs": [
    {
     "data": {
      "image/png": "[encoded data removed]",
      "text/plain": [
       "<Figure size 432x288 with 1 Axes>"
      ]
     },
     "metadata": {
      "needs_background": "light"
     },
     "output_type": "display_data"
    }
   ],
   "source": [
    "plt.plot(fpr,tpr)\n",
    "plt.show()"
   ]
  },
  {
   "cell_type": "code",
   "execution_count": 126,
   "id": "0a701f3d",
   "metadata": {},
   "outputs": [
    {
     "data": {
      "text/plain": [
       "0.8078639994068527"
      ]
     },
     "execution_count": 126,
     "metadata": {},
     "output_type": "execute_result"
    }
   ],
   "source": [
    "# auc (area under ROC curve)\n",
    "metrics.auc(fpr, tpr)"
   ]
  },
  {
   "cell_type": "code",
   "execution_count": 127,
   "id": "fe2c7d02",
   "metadata": {},
   "outputs": [],
   "source": [
    "# Calibration Curve概率校准曲线绘制\n",
    "from sklearn.calibration import calibration_curve"
   ]
  },
  {
   "cell_type": "code",
   "execution_count": 128,
   "id": "39200a51-f13c-4559-bc5e-d235bf6f5fd9",
   "metadata": {},
   "outputs": [],
   "source": [
    "fraction_of_positives, mean_predicted_value = calibration_curve(y_new, proba_y_1, n_bins=10)"
   ]
  },
  {
   "cell_type": "code",
   "execution_count": 129,
   "id": "60dbd065-5f1f-43aa-8482-ba1db3ef7404",
   "metadata": {},
   "outputs": [
    {
     "data": {
      "text/plain": [
       "array([0.28275923, 0.61630695, 0.67581301, 0.72268908, 0.74769797,\n",
       "       0.79824561, 0.83404255, 0.82578875, 0.86991063, 0.83354063])"
      ]
     },
     "execution_count": 129,
     "metadata": {},
     "output_type": "execute_result"
    }
   ],
   "source": [
    "fraction_of_positives"
   ]
  },
  {
   "cell_type": "code",
   "execution_count": 130,
   "id": "5b9235bd-099f-43d6-a2ad-d4d20b607cff",
   "metadata": {},
   "outputs": [
    {
     "data": {
      "text/plain": [
       "array([0.00873983, 0.14523675, 0.24652908, 0.34714955, 0.45076705,\n",
       "       0.55171448, 0.64924334, 0.75353086, 0.85374212, 0.99036416])"
      ]
     },
     "execution_count": 130,
     "metadata": {},
     "output_type": "execute_result"
    }
   ],
   "source": [
    "mean_predicted_value"
   ]
  },
  {
   "cell_type": "code",
   "execution_count": 131,
   "id": "51c071e7-6fa0-4fba-919a-ea3ce3d20fa0",
   "metadata": {},
   "outputs": [
    {
     "data": {
      "image/png": "[encoded data removed]",
      "text/plain": [
       "<Figure size 432x288 with 1 Axes>"
      ]
     },
     "metadata": {
      "needs_background": "light"
     },
     "output_type": "display_data"
    }
   ],
   "source": [
    "plt.plot(mean_predicted_value, fraction_of_positives, \"s-\", label=\"GaussianNB\")\n",
    "plt.plot([0, 1], [0, 1], \"k--\", label=\"Perfectly calibrated\")\n",
    "plt.xlabel(\"Mean predicted value\")\n",
    "plt.ylabel(\"Fraction of positives\")\n",
    "plt.title('Calibration Curve')\n",
    "plt.legend()\n",
    "plt.show()"
   ]
  },
  {
   "cell_type": "code",
   "execution_count": 132,
   "id": "456b52bc-25d7-4887-a36e-494d7ccff765",
   "metadata": {},
   "outputs": [
    {
     "data": {
      "image/png": "[encoded data removed]",
      "text/plain": [
       "<Figure size 720x720 with 4 Axes>"
      ]
     },
     "metadata": {
      "needs_background": "light"
     },
     "output_type": "display_data"
    }
   ],
   "source": [
    "# 加入isotonic和sigmoid绘制曲线\n",
    "from matplotlib.gridspec import GridSpec\n",
    "\n",
    "fig = plt.figure(figsize=(10,10))\n",
    "gs = GridSpec(4,2)\n",
    "colors = plt.get_cmap('Dark2')\n",
    "\n",
    "ax_calibration_curve = fig.add_subplot(gs[:2, :2])\n",
    "calibration_displays = {}\n",
    "for i, (gnb, name) in enumerate(GNB_list):\n",
    "    gnb.fit(X_new, y_new)\n",
    "    display = CalibrationDisplay.from_estimator(\n",
    "        gnb, \n",
    "        X_new, \n",
    "        y_new, \n",
    "        n_bins=10, \n",
    "        name=name, \n",
    "        ax=ax_calibration_curve, \n",
    "        color=colors(i)\n",
    "    )\n",
    "    calibration_displays[name] = display\n",
    "    \n",
    "ax_calibration_curve.grid()\n",
    "ax_calibration_curve.set_title(\"Calibration plots (Naive Bayes)\")\n",
    "\n",
    "#Add histogram\n",
    "grid_positions = [(2,0), (2,1), (3,0)]\n",
    "for i, (_, name) in enumerate(GNB_list):\n",
    "    row, col = grid_positions[i]\n",
    "    ax = fig.add_subplot(gs[row, col])\n",
    "    \n",
    "    ax.hist(\n",
    "        calibration_displays[name].y_prob,\n",
    "        range=(0,1),\n",
    "        bins=10,\n",
    "        label=name,\n",
    "        color=colors(i),\n",
    "    )\n",
    "    ax.set(title=name, xlabel='Mean predicted probability', ylabel='Count')\n",
    "    \n",
    "plt.tight_layout()\n",
    "plt.show()"
   ]
  },
  {
   "cell_type": "code",
   "execution_count": 133,
   "id": "f9e9fda7-5d86-49b6-a859-75787b38ab78",
   "metadata": {},
   "outputs": [
    {
     "data": {
      "text/html": [
       "<div>\n",
       "<style scoped>\n",
       "    .dataframe tbody tr th:only-of-type {\n",
       "        vertical-align: middle;\n",
       "    }\n",
       "\n",
       "    .dataframe tbody tr th {\n",
       "        vertical-align: top;\n",
       "    }\n",
       "\n",
       "    .dataframe thead th {\n",
       "        text-align: right;\n",
       "    }\n",
       "</style>\n",
       "<table border=\"1\" class=\"dataframe\">\n",
       "  <thead>\n",
       "    <tr style=\"text-align: right;\">\n",
       "      <th></th>\n",
       "      <th>Brier  loss</th>\n",
       "      <th>Log loss</th>\n",
       "      <th>Roc auc</th>\n",
       "      <th>Precision</th>\n",
       "      <th>Recall</th>\n",
       "      <th>F1</th>\n",
       "    </tr>\n",
       "    <tr>\n",
       "      <th>Classifier</th>\n",
       "      <th></th>\n",
       "      <th></th>\n",
       "      <th></th>\n",
       "      <th></th>\n",
       "      <th></th>\n",
       "      <th></th>\n",
       "    </tr>\n",
       "  </thead>\n",
       "  <tbody>\n",
       "    <tr>\n",
       "      <th>Naive Bayes</th>\n",
       "      <td>0.246428</td>\n",
       "      <td>2.304917</td>\n",
       "      <td>0.811282</td>\n",
       "      <td>0.838596</td>\n",
       "      <td>0.547524</td>\n",
       "      <td>0.662499</td>\n",
       "    </tr>\n",
       "    <tr>\n",
       "      <th>Naive Bayes + Isotonic</th>\n",
       "      <td>0.171571</td>\n",
       "      <td>0.522382</td>\n",
       "      <td>0.813786</td>\n",
       "      <td>0.763947</td>\n",
       "      <td>0.745345</td>\n",
       "      <td>0.754531</td>\n",
       "    </tr>\n",
       "    <tr>\n",
       "      <th>Naive Bayes + Sigmoid</th>\n",
       "      <td>0.185600</td>\n",
       "      <td>0.556246</td>\n",
       "      <td>0.812158</td>\n",
       "      <td>0.828531</td>\n",
       "      <td>0.594230</td>\n",
       "      <td>0.692088</td>\n",
       "    </tr>\n",
       "  </tbody>\n",
       "</table>\n",
       "</div>"
      ],
      "text/plain": [
       "                        Brier  loss  Log loss  Roc auc   Precision    Recall   \\\n",
       "Classifier                                                                      \n",
       "Naive Bayes                0.246428  2.304917  0.811282    0.838596  0.547524   \n",
       "Naive Bayes + Isotonic     0.171571  0.522382  0.813786    0.763947  0.745345   \n",
       "Naive Bayes + Sigmoid      0.185600  0.556246  0.812158    0.828531  0.594230   \n",
       "\n",
       "                             F1   \n",
       "Classifier                        \n",
       "Naive Bayes             0.662499  \n",
       "Naive Bayes + Isotonic  0.754531  \n",
       "Naive Bayes + Sigmoid   0.692088  "
      ]
     },
     "execution_count": 133,
     "metadata": {},
     "output_type": "execute_result"
    }
   ],
   "source": [
    "from collections import defaultdict\n",
    "\n",
    "\n",
    "from sklearn.metrics import (\n",
    "    brier_score_loss,\n",
    "    f1_score,\n",
    "    log_loss,\n",
    "    precision_score,\n",
    "    recall_score,\n",
    "    roc_auc_score,\n",
    ")\n",
    "\n",
    "scores = defaultdict(list)\n",
    "for i, (gnb, name) in enumerate(GNB_list):\n",
    "    gnb.fit(X_new, y_new)\n",
    "    y_prob = gnb.predict_proba(X_new)\n",
    "    y_pred = gnb.predict(X_new)\n",
    "    scores[\"Classifier\"].append(name)\n",
    "\n",
    "    for metric in [brier_score_loss, log_loss, roc_auc_score]:\n",
    "        score_name = metric.__name__.replace(\"_\", \" \").replace(\"score\", \"\").capitalize()\n",
    "        scores[score_name].append(metric(y_new, y_prob[:, 1]))\n",
    "\n",
    "    for metric in [precision_score, recall_score, f1_score]:\n",
    "        score_name = metric.__name__.replace(\"_\", \" \").replace(\"score\", \"\").capitalize()\n",
    "        scores[score_name].append(metric(y_new, y_pred))\n",
    "\n",
    "    score_df = pd.DataFrame(scores).set_index(\"Classifier\")\n",
    "    score_df.round(decimals=3)\n",
    "\n",
    "score_df"
   ]
  },
  {
   "cell_type": "code",
   "execution_count": null,
   "id": "32f596c2-d946-4cb3-879b-1f6a25e1376a",
   "metadata": {},
   "outputs": [],
   "source": []
  }
 ],
 "metadata": {
  "kernelspec": {
   "display_name": "Python 3 (ipykernel)",
   "language": "python",
   "name": "python3"
  },
  "language_info": {
   "codemirror_mode": {
    "name": "ipython",
    "version": 3
   },
   "file_extension": ".py",
   "mimetype": "text/x-python",
   "name": "python",
   "nbconvert_exporter": "python",
   "pygments_lexer": "ipython3",
   "version": "3.9.10"
  }
 },
 "nbformat": 4,
 "nbformat_minor": 5
}
