{
 "cells": [
  {
   "cell_type": "markdown",
   "id": "187c1b32",
   "metadata": {},
   "source": [
    "# Naive Bayes Classifier - Gaussian Naive Bayes"
   ]
  },
  {
   "cell_type": "markdown",
   "id": "56559989",
   "metadata": {},
   "source": [
    "# Bank Marketing Dataset Plus\n",
    "- age\t年龄\n",
    "- job\t职业：admin, unknown, unemployed, management…\n",
    "- marital\t婚姻：married, divorced, single\n",
    "- default\t信用卡是否有违约: yes or no\n",
    "- housing\t是否有房贷: yes or no\n",
    "- contact\t联系方式：unknown, telephone, cellular\n",
    "- month\t上一次联系的月份：jan, feb, mar, …\n",
    "- day_of_week\t上一次联系的星期几：mon, tue, wed, thu, fri\n",
    "- duration\t上一次联系的时长（秒）\n",
    "- campaign\t活动期间联系客户的次数\n",
    "- pdays\t上一次与客户联系后的间隔天数\n",
    "- previous\t在本次营销活动前，与客户联系的次数\n",
    "- poutcome\t之前营销活动的结果：unknown, other, failure, success\n",
    "- emp_var_rate\t就业变动率（季度指标）\n",
    "- cons_price_index\t消费者价格指数（月度指标）\n",
    "- cons_conf_index\t消费者信心指数（月度指标）\n",
    "- lending_rate3m\t银行同业拆借率 3个月利率（每日指标）\n",
    "- nr_employed\t雇员人数（季度指标）\n",
    "- subscribe\t客户是否进行购买：yes 或 no"
   ]
  },
  {
   "cell_type": "code",
   "id": "910da10a",
   "metadata": {
    "ExecuteTime": {
     "end_time": "2024-04-18T16:51:16.105594Z",
     "start_time": "2024-04-18T16:51:16.091774Z"
    }
   },
   "source": [
    "# Import libararies for data management\n",
    "import numpy as np\n",
    "import pandas as pd\n"
   ],
   "outputs": [],
   "execution_count": 1
  },
  {
   "cell_type": "code",
   "id": "defeeda7",
   "metadata": {
    "ExecuteTime": {
     "end_time": "2024-04-18T16:51:16.153003Z",
     "start_time": "2024-04-18T16:51:16.106594Z"
    }
   },
   "source": [
    "# Load dataset\n",
    "data = pd.read_csv('../data/processed_train_filled.csv')"
   ],
   "outputs": [],
   "execution_count": 2
  },
  {
   "cell_type": "code",
   "id": "6d157f8b-e45d-434d-b280-fd7fe9231a1f",
   "metadata": {
    "ExecuteTime": {
     "end_time": "2024-04-18T16:51:16.169004Z",
     "start_time": "2024-04-18T16:51:16.154004Z"
    }
   },
   "source": "data = data.drop(['emp_var_rate', 'cons_price_index', 'cons_conf_index', 'lending_rate3m', 'nr_employed'], axis=1)",
   "outputs": [],
   "execution_count": 3
  },
  {
   "cell_type": "markdown",
   "id": "c315e571",
   "metadata": {},
   "source": [
    "# Data Pre-processing"
   ]
  },
  {
   "cell_type": "code",
   "id": "04fd08fb-7995-4ccf-b0c1-82c7f377a10a",
   "metadata": {
    "ExecuteTime": {
     "end_time": "2024-04-18T16:51:16.278349Z",
     "start_time": "2024-04-18T16:51:16.169004Z"
    }
   },
   "source": [
    "numeric_X = data[['age','duration','campaign','pdays','previous']]\n",
    "category_X_y = data[['job', 'marital', 'education', 'housing', 'loan', 'default', 'contact', 'month', 'day_of_week', 'poutcome', 'subscribe']]\n",
    "\n",
    "from sklearn import preprocessing\n",
    "norm_X = numeric_X.apply(preprocessing.scale, axis=0)\n",
    "data = pd.concat([norm_X, category_X_y], axis=1)"
   ],
   "outputs": [],
   "execution_count": 4
  },
  {
   "cell_type": "code",
   "id": "49abd0f0",
   "metadata": {
    "ExecuteTime": {
     "end_time": "2024-04-18T16:51:16.310202Z",
     "start_time": "2024-04-18T16:51:16.279350Z"
    }
   },
   "source": "datanew = pd.get_dummies(data, columns=['job', 'marital', 'education', 'housing', 'loan', 'default', 'contact', 'month', 'day_of_week', 'poutcome', 'subscribe'])",
   "outputs": [],
   "execution_count": 5
  },
  {
   "cell_type": "code",
   "id": "44f214e1",
   "metadata": {
    "ExecuteTime": {
     "end_time": "2024-04-18T16:51:16.326080Z",
     "start_time": "2024-04-18T16:51:16.311202Z"
    }
   },
   "source": [
    "# define features \n",
    "features = ['age', 'duration', 'campaign', 'pdays', 'previous', 'job_admin.',\n",
    "       'job_blue-collar', 'job_entrepreneur', 'job_housemaid',\n",
    "       'job_management', 'job_retired', 'job_self-employed', 'job_services',\n",
    "       'job_student', 'job_technician', 'job_unemployed', 'marital_divorced',\n",
    "       'marital_married', 'marital_single', 'education_basic.4y',\n",
    "       'education_basic.6y', 'education_basic.9y', 'education_high.school',\n",
    "       'education_illiterate', 'education_professional.course',\n",
    "       'education_university.degree', 'housing_no', 'housing_yes', 'loan_no',\n",
    "       'loan_yes', 'default_no', 'default_yes', 'contact_cellular',\n",
    "       'contact_telephone', 'month_apr', 'month_aug', 'month_dec', 'month_jul',\n",
    "       'month_jun', 'month_mar', 'month_may', 'month_nov', 'month_oct',\n",
    "       'month_sep', 'day_of_week_fri', 'day_of_week_mon', 'day_of_week_thu',\n",
    "       'day_of_week_tue', 'day_of_week_wed', 'poutcome_failure',\n",
    "       'poutcome_nonexistent', 'poutcome_success']\n",
    "X = datanew[features]"
   ],
   "outputs": [],
   "execution_count": 6
  },
  {
   "cell_type": "code",
   "id": "c665ae28-d93a-4986-948e-ed58aed86f62",
   "metadata": {
    "ExecuteTime": {
     "end_time": "2024-04-18T16:51:16.341778Z",
     "start_time": "2024-04-18T16:51:16.327081Z"
    }
   },
   "source": [
    "#users profile only as X2\n",
    "features2 = ['age', 'job_admin.',\n",
    "       'job_blue-collar', 'job_entrepreneur', 'job_housemaid',\n",
    "       'job_management', 'job_retired', 'job_self-employed', 'job_services',\n",
    "       'job_student', 'job_technician', 'job_unemployed', 'marital_divorced',\n",
    "       'marital_married', 'marital_single', 'education_basic.4y',\n",
    "       'education_basic.6y', 'education_basic.9y', 'education_high.school',\n",
    "       'education_illiterate', 'education_professional.course',\n",
    "       'education_university.degree', 'housing_no', 'housing_yes', 'loan_no',\n",
    "       'loan_yes', 'default_no', 'default_yes', 'contact_cellular',\n",
    "       'contact_telephone']\n",
    "X2 = datanew[features2]"
   ],
   "outputs": [],
   "execution_count": 7
  },
  {
   "cell_type": "code",
   "id": "3d3a3736-3eb1-4191-9f54-2d8cc2032248",
   "metadata": {
    "ExecuteTime": {
     "end_time": "2024-04-18T16:51:16.357577Z",
     "start_time": "2024-04-18T16:51:16.342778Z"
    }
   },
   "source": [
    "#previous campaign details only as X3\n",
    "features3 = ['contact_cellular',\n",
    "       'contact_telephone', 'month_apr', 'month_aug', 'month_dec', 'month_jul',\n",
    "       'month_jun', 'month_mar', 'month_may', 'month_nov', 'month_oct',\n",
    "       'month_sep', 'day_of_week_fri', 'day_of_week_mon', 'day_of_week_thu',\n",
    "       'day_of_week_tue', 'day_of_week_wed', 'duration', 'campaign',\n",
    "       'pdays', 'previous', 'poutcome_failure',\n",
    "       'poutcome_nonexistent', 'poutcome_success']\n",
    "X3 = datanew[features3]"
   ],
   "outputs": [],
   "execution_count": 8
  },
  {
   "cell_type": "code",
   "id": "be138dfa",
   "metadata": {
    "ExecuteTime": {
     "end_time": "2024-04-18T16:51:16.373001Z",
     "start_time": "2024-04-18T16:51:16.358577Z"
    }
   },
   "source": [
    "# define target\n",
    "y = datanew['subscribe_yes']"
   ],
   "outputs": [],
   "execution_count": 9
  },
  {
   "cell_type": "code",
   "id": "1395b7c6",
   "metadata": {
    "ExecuteTime": {
     "end_time": "2024-04-18T16:51:16.388001Z",
     "start_time": "2024-04-18T16:51:16.374002Z"
    }
   },
   "source": [
    "y.value_counts()"
   ],
   "outputs": [
    {
     "data": {
      "text/plain": [
       "subscribe_yes\n",
       "False    19548\n",
       "True      2952\n",
       "Name: count, dtype: int64"
      ]
     },
     "execution_count": 10,
     "metadata": {},
     "output_type": "execute_result"
    }
   ],
   "execution_count": 10
  },
  {
   "cell_type": "code",
   "id": "bb295fd1",
   "metadata": {
    "ExecuteTime": {
     "end_time": "2024-04-18T16:51:16.495844Z",
     "start_time": "2024-04-18T16:51:16.390002Z"
    }
   },
   "source": [
    "from sklearn.naive_bayes import GaussianNB\n",
    "from sklearn.model_selection import cross_val_score, cross_val_predict"
   ],
   "outputs": [],
   "execution_count": 11
  },
  {
   "cell_type": "code",
   "id": "f033cd89",
   "metadata": {
    "ExecuteTime": {
     "end_time": "2024-04-18T16:51:16.527728Z",
     "start_time": "2024-04-18T16:51:16.495844Z"
    }
   },
   "source": [
    "# define a Gaussian bayes classifier\n",
    "# alpha:smoothing parameter, by default=1.0\n",
    "GNB = GaussianNB()\n",
    "GNB.fit(X, y)"
   ],
   "outputs": [
    {
     "data": {
      "text/plain": [
       "GaussianNB()"
      ],
      "text/html": [
       "<style>#sk-container-id-1 {\n",
       "  /* Definition of color scheme common for light and dark mode */\n",
       "  --sklearn-color-text: black;\n",
       "  --sklearn-color-line: gray;\n",
       "  /* Definition of color scheme for unfitted estimators */\n",
       "  --sklearn-color-unfitted-level-0: #fff5e6;\n",
       "  --sklearn-color-unfitted-level-1: #f6e4d2;\n",
       "  --sklearn-color-unfitted-level-2: #ffe0b3;\n",
       "  --sklearn-color-unfitted-level-3: chocolate;\n",
       "  /* Definition of color scheme for fitted estimators */\n",
       "  --sklearn-color-fitted-level-0: #f0f8ff;\n",
       "  --sklearn-color-fitted-level-1: #d4ebff;\n",
       "  --sklearn-color-fitted-level-2: #b3dbfd;\n",
       "  --sklearn-color-fitted-level-3: cornflowerblue;\n",
       "\n",
       "  /* Specific color for light theme */\n",
       "  --sklearn-color-text-on-default-background: var(--sg-text-color, var(--theme-code-foreground, var(--jp-content-font-color1, black)));\n",
       "  --sklearn-color-background: var(--sg-background-color, var(--theme-background, var(--jp-layout-color0, white)));\n",
       "  --sklearn-color-border-box: var(--sg-text-color, var(--theme-code-foreground, var(--jp-content-font-color1, black)));\n",
       "  --sklearn-color-icon: #696969;\n",
       "\n",
       "  @media (prefers-color-scheme: dark) {\n",
       "    /* Redefinition of color scheme for dark theme */\n",
       "    --sklearn-color-text-on-default-background: var(--sg-text-color, var(--theme-code-foreground, var(--jp-content-font-color1, white)));\n",
       "    --sklearn-color-background: var(--sg-background-color, var(--theme-background, var(--jp-layout-color0, #111)));\n",
       "    --sklearn-color-border-box: var(--sg-text-color, var(--theme-code-foreground, var(--jp-content-font-color1, white)));\n",
       "    --sklearn-color-icon: #878787;\n",
       "  }\n",
       "}\n",
       "\n",
       "#sk-container-id-1 {\n",
       "  color: var(--sklearn-color-text);\n",
       "}\n",
       "\n",
       "#sk-container-id-1 pre {\n",
       "  padding: 0;\n",
       "}\n",
       "\n",
       "#sk-container-id-1 input.sk-hidden--visually {\n",
       "  border: 0;\n",
       "  clip: rect(1px 1px 1px 1px);\n",
       "  clip: rect(1px, 1px, 1px, 1px);\n",
       "  height: 1px;\n",
       "  margin: -1px;\n",
       "  overflow: hidden;\n",
       "  padding: 0;\n",
       "  position: absolute;\n",
       "  width: 1px;\n",
       "}\n",
       "\n",
       "#sk-container-id-1 div.sk-dashed-wrapped {\n",
       "  border: 1px dashed var(--sklearn-color-line);\n",
       "  margin: 0 0.4em 0.5em 0.4em;\n",
       "  box-sizing: border-box;\n",
       "  padding-bottom: 0.4em;\n",
       "  background-color: var(--sklearn-color-background);\n",
       "}\n",
       "\n",
       "#sk-container-id-1 div.sk-container {\n",
       "  /* jupyter's `normalize.less` sets `[hidden] { display: none; }`\n",
       "     but bootstrap.min.css set `[hidden] { display: none !important; }`\n",
       "     so we also need the `!important` here to be able to override the\n",
       "     default hidden behavior on the sphinx rendered scikit-learn.org.\n",
       "     See: https://github.com/scikit-learn/scikit-learn/issues/21755 */\n",
       "  display: inline-block !important;\n",
       "  position: relative;\n",
       "}\n",
       "\n",
       "#sk-container-id-1 div.sk-text-repr-fallback {\n",
       "  display: none;\n",
       "}\n",
       "\n",
       "div.sk-parallel-item,\n",
       "div.sk-serial,\n",
       "div.sk-item {\n",
       "  /* draw centered vertical line to link estimators */\n",
       "  background-image: linear-gradient(var(--sklearn-color-text-on-default-background), var(--sklearn-color-text-on-default-background));\n",
       "  background-size: 2px 100%;\n",
       "  background-repeat: no-repeat;\n",
       "  background-position: center center;\n",
       "}\n",
       "\n",
       "/* Parallel-specific style estimator block */\n",
       "\n",
       "#sk-container-id-1 div.sk-parallel-item::after {\n",
       "  content: \"\";\n",
       "  width: 100%;\n",
       "  border-bottom: 2px solid var(--sklearn-color-text-on-default-background);\n",
       "  flex-grow: 1;\n",
       "}\n",
       "\n",
       "#sk-container-id-1 div.sk-parallel {\n",
       "  display: flex;\n",
       "  align-items: stretch;\n",
       "  justify-content: center;\n",
       "  background-color: var(--sklearn-color-background);\n",
       "  position: relative;\n",
       "}\n",
       "\n",
       "#sk-container-id-1 div.sk-parallel-item {\n",
       "  display: flex;\n",
       "  flex-direction: column;\n",
       "}\n",
       "\n",
       "#sk-container-id-1 div.sk-parallel-item:first-child::after {\n",
       "  align-self: flex-end;\n",
       "  width: 50%;\n",
       "}\n",
       "\n",
       "#sk-container-id-1 div.sk-parallel-item:last-child::after {\n",
       "  align-self: flex-start;\n",
       "  width: 50%;\n",
       "}\n",
       "\n",
       "#sk-container-id-1 div.sk-parallel-item:only-child::after {\n",
       "  width: 0;\n",
       "}\n",
       "\n",
       "/* Serial-specific style estimator block */\n",
       "\n",
       "#sk-container-id-1 div.sk-serial {\n",
       "  display: flex;\n",
       "  flex-direction: column;\n",
       "  align-items: center;\n",
       "  background-color: var(--sklearn-color-background);\n",
       "  padding-right: 1em;\n",
       "  padding-left: 1em;\n",
       "}\n",
       "\n",
       "\n",
       "/* Toggleable style: style used for estimator/Pipeline/ColumnTransformer box that is\n",
       "clickable and can be expanded/collapsed.\n",
       "- Pipeline and ColumnTransformer use this feature and define the default style\n",
       "- Estimators will overwrite some part of the style using the `sk-estimator` class\n",
       "*/\n",
       "\n",
       "/* Pipeline and ColumnTransformer style (default) */\n",
       "\n",
       "#sk-container-id-1 div.sk-toggleable {\n",
       "  /* Default theme specific background. It is overwritten whether we have a\n",
       "  specific estimator or a Pipeline/ColumnTransformer */\n",
       "  background-color: var(--sklearn-color-background);\n",
       "}\n",
       "\n",
       "/* Toggleable label */\n",
       "#sk-container-id-1 label.sk-toggleable__label {\n",
       "  cursor: pointer;\n",
       "  display: block;\n",
       "  width: 100%;\n",
       "  margin-bottom: 0;\n",
       "  padding: 0.5em;\n",
       "  box-sizing: border-box;\n",
       "  text-align: center;\n",
       "}\n",
       "\n",
       "#sk-container-id-1 label.sk-toggleable__label-arrow:before {\n",
       "  /* Arrow on the left of the label */\n",
       "  content: \"▸\";\n",
       "  float: left;\n",
       "  margin-right: 0.25em;\n",
       "  color: var(--sklearn-color-icon);\n",
       "}\n",
       "\n",
       "#sk-container-id-1 label.sk-toggleable__label-arrow:hover:before {\n",
       "  color: var(--sklearn-color-text);\n",
       "}\n",
       "\n",
       "/* Toggleable content - dropdown */\n",
       "\n",
       "#sk-container-id-1 div.sk-toggleable__content {\n",
       "  max-height: 0;\n",
       "  max-width: 0;\n",
       "  overflow: hidden;\n",
       "  text-align: left;\n",
       "  /* unfitted */\n",
       "  background-color: var(--sklearn-color-unfitted-level-0);\n",
       "}\n",
       "\n",
       "#sk-container-id-1 div.sk-toggleable__content.fitted {\n",
       "  /* fitted */\n",
       "  background-color: var(--sklearn-color-fitted-level-0);\n",
       "}\n",
       "\n",
       "#sk-container-id-1 div.sk-toggleable__content pre {\n",
       "  margin: 0.2em;\n",
       "  border-radius: 0.25em;\n",
       "  color: var(--sklearn-color-text);\n",
       "  /* unfitted */\n",
       "  background-color: var(--sklearn-color-unfitted-level-0);\n",
       "}\n",
       "\n",
       "#sk-container-id-1 div.sk-toggleable__content.fitted pre {\n",
       "  /* unfitted */\n",
       "  background-color: var(--sklearn-color-fitted-level-0);\n",
       "}\n",
       "\n",
       "#sk-container-id-1 input.sk-toggleable__control:checked~div.sk-toggleable__content {\n",
       "  /* Expand drop-down */\n",
       "  max-height: 200px;\n",
       "  max-width: 100%;\n",
       "  overflow: auto;\n",
       "}\n",
       "\n",
       "#sk-container-id-1 input.sk-toggleable__control:checked~label.sk-toggleable__label-arrow:before {\n",
       "  content: \"▾\";\n",
       "}\n",
       "\n",
       "/* Pipeline/ColumnTransformer-specific style */\n",
       "\n",
       "#sk-container-id-1 div.sk-label input.sk-toggleable__control:checked~label.sk-toggleable__label {\n",
       "  color: var(--sklearn-color-text);\n",
       "  background-color: var(--sklearn-color-unfitted-level-2);\n",
       "}\n",
       "\n",
       "#sk-container-id-1 div.sk-label.fitted input.sk-toggleable__control:checked~label.sk-toggleable__label {\n",
       "  background-color: var(--sklearn-color-fitted-level-2);\n",
       "}\n",
       "\n",
       "/* Estimator-specific style */\n",
       "\n",
       "/* Colorize estimator box */\n",
       "#sk-container-id-1 div.sk-estimator input.sk-toggleable__control:checked~label.sk-toggleable__label {\n",
       "  /* unfitted */\n",
       "  background-color: var(--sklearn-color-unfitted-level-2);\n",
       "}\n",
       "\n",
       "#sk-container-id-1 div.sk-estimator.fitted input.sk-toggleable__control:checked~label.sk-toggleable__label {\n",
       "  /* fitted */\n",
       "  background-color: var(--sklearn-color-fitted-level-2);\n",
       "}\n",
       "\n",
       "#sk-container-id-1 div.sk-label label.sk-toggleable__label,\n",
       "#sk-container-id-1 div.sk-label label {\n",
       "  /* The background is the default theme color */\n",
       "  color: var(--sklearn-color-text-on-default-background);\n",
       "}\n",
       "\n",
       "/* On hover, darken the color of the background */\n",
       "#sk-container-id-1 div.sk-label:hover label.sk-toggleable__label {\n",
       "  color: var(--sklearn-color-text);\n",
       "  background-color: var(--sklearn-color-unfitted-level-2);\n",
       "}\n",
       "\n",
       "/* Label box, darken color on hover, fitted */\n",
       "#sk-container-id-1 div.sk-label.fitted:hover label.sk-toggleable__label.fitted {\n",
       "  color: var(--sklearn-color-text);\n",
       "  background-color: var(--sklearn-color-fitted-level-2);\n",
       "}\n",
       "\n",
       "/* Estimator label */\n",
       "\n",
       "#sk-container-id-1 div.sk-label label {\n",
       "  font-family: monospace;\n",
       "  font-weight: bold;\n",
       "  display: inline-block;\n",
       "  line-height: 1.2em;\n",
       "}\n",
       "\n",
       "#sk-container-id-1 div.sk-label-container {\n",
       "  text-align: center;\n",
       "}\n",
       "\n",
       "/* Estimator-specific */\n",
       "#sk-container-id-1 div.sk-estimator {\n",
       "  font-family: monospace;\n",
       "  border: 1px dotted var(--sklearn-color-border-box);\n",
       "  border-radius: 0.25em;\n",
       "  box-sizing: border-box;\n",
       "  margin-bottom: 0.5em;\n",
       "  /* unfitted */\n",
       "  background-color: var(--sklearn-color-unfitted-level-0);\n",
       "}\n",
       "\n",
       "#sk-container-id-1 div.sk-estimator.fitted {\n",
       "  /* fitted */\n",
       "  background-color: var(--sklearn-color-fitted-level-0);\n",
       "}\n",
       "\n",
       "/* on hover */\n",
       "#sk-container-id-1 div.sk-estimator:hover {\n",
       "  /* unfitted */\n",
       "  background-color: var(--sklearn-color-unfitted-level-2);\n",
       "}\n",
       "\n",
       "#sk-container-id-1 div.sk-estimator.fitted:hover {\n",
       "  /* fitted */\n",
       "  background-color: var(--sklearn-color-fitted-level-2);\n",
       "}\n",
       "\n",
       "/* Specification for estimator info (e.g. \"i\" and \"?\") */\n",
       "\n",
       "/* Common style for \"i\" and \"?\" */\n",
       "\n",
       ".sk-estimator-doc-link,\n",
       "a:link.sk-estimator-doc-link,\n",
       "a:visited.sk-estimator-doc-link {\n",
       "  float: right;\n",
       "  font-size: smaller;\n",
       "  line-height: 1em;\n",
       "  font-family: monospace;\n",
       "  background-color: var(--sklearn-color-background);\n",
       "  border-radius: 1em;\n",
       "  height: 1em;\n",
       "  width: 1em;\n",
       "  text-decoration: none !important;\n",
       "  margin-left: 1ex;\n",
       "  /* unfitted */\n",
       "  border: var(--sklearn-color-unfitted-level-1) 1pt solid;\n",
       "  color: var(--sklearn-color-unfitted-level-1);\n",
       "}\n",
       "\n",
       ".sk-estimator-doc-link.fitted,\n",
       "a:link.sk-estimator-doc-link.fitted,\n",
       "a:visited.sk-estimator-doc-link.fitted {\n",
       "  /* fitted */\n",
       "  border: var(--sklearn-color-fitted-level-1) 1pt solid;\n",
       "  color: var(--sklearn-color-fitted-level-1);\n",
       "}\n",
       "\n",
       "/* On hover */\n",
       "div.sk-estimator:hover .sk-estimator-doc-link:hover,\n",
       ".sk-estimator-doc-link:hover,\n",
       "div.sk-label-container:hover .sk-estimator-doc-link:hover,\n",
       ".sk-estimator-doc-link:hover {\n",
       "  /* unfitted */\n",
       "  background-color: var(--sklearn-color-unfitted-level-3);\n",
       "  color: var(--sklearn-color-background);\n",
       "  text-decoration: none;\n",
       "}\n",
       "\n",
       "div.sk-estimator.fitted:hover .sk-estimator-doc-link.fitted:hover,\n",
       ".sk-estimator-doc-link.fitted:hover,\n",
       "div.sk-label-container:hover .sk-estimator-doc-link.fitted:hover,\n",
       ".sk-estimator-doc-link.fitted:hover {\n",
       "  /* fitted */\n",
       "  background-color: var(--sklearn-color-fitted-level-3);\n",
       "  color: var(--sklearn-color-background);\n",
       "  text-decoration: none;\n",
       "}\n",
       "\n",
       "/* Span, style for the box shown on hovering the info icon */\n",
       ".sk-estimator-doc-link span {\n",
       "  display: none;\n",
       "  z-index: 9999;\n",
       "  position: relative;\n",
       "  font-weight: normal;\n",
       "  right: .2ex;\n",
       "  padding: .5ex;\n",
       "  margin: .5ex;\n",
       "  width: min-content;\n",
       "  min-width: 20ex;\n",
       "  max-width: 50ex;\n",
       "  color: var(--sklearn-color-text);\n",
       "  box-shadow: 2pt 2pt 4pt #999;\n",
       "  /* unfitted */\n",
       "  background: var(--sklearn-color-unfitted-level-0);\n",
       "  border: .5pt solid var(--sklearn-color-unfitted-level-3);\n",
       "}\n",
       "\n",
       ".sk-estimator-doc-link.fitted span {\n",
       "  /* fitted */\n",
       "  background: var(--sklearn-color-fitted-level-0);\n",
       "  border: var(--sklearn-color-fitted-level-3);\n",
       "}\n",
       "\n",
       ".sk-estimator-doc-link:hover span {\n",
       "  display: block;\n",
       "}\n",
       "\n",
       "/* \"?\"-specific style due to the `<a>` HTML tag */\n",
       "\n",
       "#sk-container-id-1 a.estimator_doc_link {\n",
       "  float: right;\n",
       "  font-size: 1rem;\n",
       "  line-height: 1em;\n",
       "  font-family: monospace;\n",
       "  background-color: var(--sklearn-color-background);\n",
       "  border-radius: 1rem;\n",
       "  height: 1rem;\n",
       "  width: 1rem;\n",
       "  text-decoration: none;\n",
       "  /* unfitted */\n",
       "  color: var(--sklearn-color-unfitted-level-1);\n",
       "  border: var(--sklearn-color-unfitted-level-1) 1pt solid;\n",
       "}\n",
       "\n",
       "#sk-container-id-1 a.estimator_doc_link.fitted {\n",
       "  /* fitted */\n",
       "  border: var(--sklearn-color-fitted-level-1) 1pt solid;\n",
       "  color: var(--sklearn-color-fitted-level-1);\n",
       "}\n",
       "\n",
       "/* On hover */\n",
       "#sk-container-id-1 a.estimator_doc_link:hover {\n",
       "  /* unfitted */\n",
       "  background-color: var(--sklearn-color-unfitted-level-3);\n",
       "  color: var(--sklearn-color-background);\n",
       "  text-decoration: none;\n",
       "}\n",
       "\n",
       "#sk-container-id-1 a.estimator_doc_link.fitted:hover {\n",
       "  /* fitted */\n",
       "  background-color: var(--sklearn-color-fitted-level-3);\n",
       "}\n",
       "</style><div id=\"sk-container-id-1\" class=\"sk-top-container\"><div class=\"sk-text-repr-fallback\"><pre>GaussianNB()</pre><b>In a Jupyter environment, please rerun this cell to show the HTML representation or trust the notebook. <br />On GitHub, the HTML representation is unable to render, please try loading this page with nbviewer.org.</b></div><div class=\"sk-container\" hidden><div class=\"sk-item\"><div class=\"sk-estimator fitted sk-toggleable\"><input class=\"sk-toggleable__control sk-hidden--visually\" id=\"sk-estimator-id-1\" type=\"checkbox\" checked><label for=\"sk-estimator-id-1\" class=\"sk-toggleable__label fitted sk-toggleable__label-arrow fitted\">&nbsp;&nbsp;GaussianNB<a class=\"sk-estimator-doc-link fitted\" rel=\"noreferrer\" target=\"_blank\" href=\"https://scikit-learn.org/1.4/modules/generated/sklearn.naive_bayes.GaussianNB.html\">?<span>Documentation for GaussianNB</span></a><span class=\"sk-estimator-doc-link fitted\">i<span>Fitted</span></span></label><div class=\"sk-toggleable__content fitted\"><pre>GaussianNB()</pre></div> </div></div></div></div>"
      ]
     },
     "execution_count": 12,
     "metadata": {},
     "output_type": "execute_result"
    }
   ],
   "execution_count": 12
  },
  {
   "cell_type": "code",
   "id": "125b4afd",
   "metadata": {
    "ExecuteTime": {
     "end_time": "2024-04-18T16:51:16.746062Z",
     "start_time": "2024-04-18T16:51:16.528728Z"
    }
   },
   "source": [
    "#predict target based on cross validation\n",
    "y_pred_cv = cross_val_predict(GNB,X,y,cv=10)"
   ],
   "outputs": [],
   "execution_count": 13
  },
  {
   "cell_type": "code",
   "id": "18bd2951",
   "metadata": {
    "ExecuteTime": {
     "end_time": "2024-04-18T16:51:16.995876Z",
     "start_time": "2024-04-18T16:51:16.747063Z"
    }
   },
   "source": "Accuracy = cross_val_score(GNB,X,y,cv=10).mean()",
   "outputs": [],
   "execution_count": 14
  },
  {
   "cell_type": "code",
   "id": "4d77051b-cb40-4d0d-9269-ff1dbe14580d",
   "metadata": {
    "ExecuteTime": {
     "end_time": "2024-04-18T16:51:17.135781Z",
     "start_time": "2024-04-18T16:51:16.996876Z"
    }
   },
   "source": [
    "#prediction based on user profiles \n",
    "y2_pred_cv = cross_val_predict(GNB,X2,y,cv=10)"
   ],
   "outputs": [],
   "execution_count": 15
  },
  {
   "cell_type": "code",
   "id": "89d8d22f-1c82-4949-8500-e97f244dcfa8",
   "metadata": {
    "ExecuteTime": {
     "end_time": "2024-04-18T16:51:17.276853Z",
     "start_time": "2024-04-18T16:51:17.136781Z"
    }
   },
   "source": "Accuracy2 = cross_val_score(GNB,X2,y,cv=10).mean()",
   "outputs": [],
   "execution_count": 16
  },
  {
   "cell_type": "code",
   "id": "ad6c2a92-3b4c-4d38-bc35-47140e3bea38",
   "metadata": {
    "ExecuteTime": {
     "end_time": "2024-04-18T16:51:17.383839Z",
     "start_time": "2024-04-18T16:51:17.277853Z"
    }
   },
   "source": [
    "#prediction based on previous campaign info\n",
    "y3_pred_cv = cross_val_predict(GNB,X3,y,cv=10)"
   ],
   "outputs": [],
   "execution_count": 17
  },
  {
   "cell_type": "code",
   "id": "b544d855-cc13-4b9c-bfd6-f3209b7904e1",
   "metadata": {
    "ExecuteTime": {
     "end_time": "2024-04-18T16:51:17.508036Z",
     "start_time": "2024-04-18T16:51:17.384814Z"
    }
   },
   "source": "Accuracy3 = cross_val_score(GNB,X3,y,cv=10).mean()",
   "outputs": [],
   "execution_count": 18
  },
  {
   "cell_type": "code",
   "id": "89c066b1-5ece-4d94-913f-c5c4e9d3c479",
   "metadata": {
    "ExecuteTime": {
     "end_time": "2024-04-18T16:51:17.600151Z",
     "start_time": "2024-04-18T16:51:17.509036Z"
    }
   },
   "source": [
    "# 使用isotonic和sigmoid两种校准方式提高GaussianNB的预测准确率\n",
    "from sklearn.calibration import CalibratedClassifierCV, CalibrationDisplay"
   ],
   "outputs": [],
   "execution_count": 19
  },
  {
   "cell_type": "code",
   "id": "efd558a4-5fd5-45e7-a129-046747ff8329",
   "metadata": {
    "ExecuteTime": {
     "end_time": "2024-04-18T16:51:17.616256Z",
     "start_time": "2024-04-18T16:51:17.601151Z"
    }
   },
   "source": [
    "GNB_isotonic = CalibratedClassifierCV(GNB, cv=10, method='isotonic')\n",
    "GNB_sigmoid = CalibratedClassifierCV(GNB, cv=10, method='sigmoid')"
   ],
   "outputs": [],
   "execution_count": 20
  },
  {
   "cell_type": "code",
   "id": "3073a8c4-01bd-49e5-bb85-0866803825a2",
   "metadata": {
    "ExecuteTime": {
     "end_time": "2024-04-18T16:51:17.631785Z",
     "start_time": "2024-04-18T16:51:17.617256Z"
    }
   },
   "source": [
    "GNB_list = [\n",
    "(GNB, 'Naive Bayes'),\n",
    "(GNB_isotonic, 'Naive Bayes + Isotonic'),\n",
    "(GNB_sigmoid, 'Naive Bayes + Sigmoid'),\n",
    "]"
   ],
   "outputs": [],
   "execution_count": 21
  },
  {
   "cell_type": "code",
   "id": "faca678f-b3c2-4ee2-8766-09ffb574855f",
   "metadata": {
    "ExecuteTime": {
     "end_time": "2024-04-18T16:51:19.644558Z",
     "start_time": "2024-04-18T16:51:17.632785Z"
    }
   },
   "source": "y_pred2_cv = cross_val_predict(GNB_isotonic,X,y,cv=10)",
   "outputs": [],
   "execution_count": 22
  },
  {
   "cell_type": "code",
   "id": "844ade89-6b5c-46e2-b4a2-4c99c5db0c42",
   "metadata": {
    "ExecuteTime": {
     "end_time": "2024-04-18T16:51:21.625290Z",
     "start_time": "2024-04-18T16:51:19.644558Z"
    }
   },
   "source": "Accuracy1_2 = cross_val_score(GNB_isotonic,X,y,cv=10).mean()",
   "outputs": [],
   "execution_count": 23
  },
  {
   "cell_type": "code",
   "id": "dcac5a41-864b-4f97-9ff9-9bfab4591d42",
   "metadata": {
    "ExecuteTime": {
     "end_time": "2024-04-18T16:51:22.871638Z",
     "start_time": "2024-04-18T16:51:21.625290Z"
    }
   },
   "source": "y2_pred2_cv = cross_val_predict(GNB_isotonic,X2,y,cv=10)",
   "outputs": [],
   "execution_count": 24
  },
  {
   "cell_type": "code",
   "id": "16f1bb3a-5123-42de-a0c1-929b71a1e051",
   "metadata": {
    "ExecuteTime": {
     "end_time": "2024-04-18T16:51:24.117954Z",
     "start_time": "2024-04-18T16:51:22.871638Z"
    }
   },
   "source": "Accuracy2_2 = cross_val_score(GNB_isotonic,X2,y,cv=10).mean()",
   "outputs": [],
   "execution_count": 25
  },
  {
   "cell_type": "code",
   "id": "4494b20c-5577-40a4-90f6-a494295cc778",
   "metadata": {
    "ExecuteTime": {
     "end_time": "2024-04-18T16:51:25.209718Z",
     "start_time": "2024-04-18T16:51:24.118954Z"
    }
   },
   "source": "y3_pred2_cv = cross_val_predict(GNB_isotonic,X3,y,cv=10)",
   "outputs": [],
   "execution_count": 26
  },
  {
   "cell_type": "code",
   "id": "7475e956-687e-4ddb-afb7-2e04f4519ad1",
   "metadata": {
    "ExecuteTime": {
     "end_time": "2024-04-18T16:51:26.290096Z",
     "start_time": "2024-04-18T16:51:25.209718Z"
    }
   },
   "source": "Accuracy3_2 = cross_val_score(GNB_isotonic,X3,y,cv=10).mean()",
   "outputs": [],
   "execution_count": 27
  },
  {
   "cell_type": "code",
   "id": "60e0db36-65ee-4980-bbb2-4013015a1edd",
   "metadata": {
    "ExecuteTime": {
     "end_time": "2024-04-18T16:51:28.533012Z",
     "start_time": "2024-04-18T16:51:26.290096Z"
    }
   },
   "source": "y_pred3_cv = cross_val_predict(GNB_sigmoid,X,y,cv=10)",
   "outputs": [],
   "execution_count": 28
  },
  {
   "cell_type": "code",
   "id": "1314b6e4-7dc4-4aeb-81b2-94f1c006ec6a",
   "metadata": {
    "ExecuteTime": {
     "end_time": "2024-04-18T16:51:30.466109Z",
     "start_time": "2024-04-18T16:51:28.533012Z"
    }
   },
   "source": "Accuracy1_3 = cross_val_score(GNB_sigmoid,X,y,cv=10).mean()",
   "outputs": [],
   "execution_count": 29
  },
  {
   "cell_type": "code",
   "id": "5e06ca56-c7a7-4717-9a52-4a929765379e",
   "metadata": {
    "ExecuteTime": {
     "end_time": "2024-04-18T16:51:31.777792Z",
     "start_time": "2024-04-18T16:51:30.467112Z"
    }
   },
   "source": "y2_pred3_cv = cross_val_predict(GNB_sigmoid,X2,y,cv=10)",
   "outputs": [],
   "execution_count": 30
  },
  {
   "cell_type": "code",
   "id": "6733b961-1873-4cc3-b5e3-3c1d9ba51c35",
   "metadata": {
    "ExecuteTime": {
     "end_time": "2024-04-18T16:51:33.074069Z",
     "start_time": "2024-04-18T16:51:31.777792Z"
    }
   },
   "source": "Accuracy2_3 = cross_val_score(GNB_sigmoid,X2,y,cv=10).mean()",
   "outputs": [],
   "execution_count": 31
  },
  {
   "cell_type": "code",
   "id": "c5983f3b-0f35-4b8e-99d2-de2fe9ce6860",
   "metadata": {
    "ExecuteTime": {
     "end_time": "2024-04-18T16:51:34.458033Z",
     "start_time": "2024-04-18T16:51:33.075032Z"
    }
   },
   "source": "y3_pred3_cv = cross_val_predict(GNB_sigmoid,X3,y,cv=10)",
   "outputs": [],
   "execution_count": 32
  },
  {
   "cell_type": "code",
   "id": "e431bf46-d1aa-408f-8a18-5bf0f18d0b28",
   "metadata": {
    "ExecuteTime": {
     "end_time": "2024-04-18T16:51:35.629894Z",
     "start_time": "2024-04-18T16:51:34.459047Z"
    }
   },
   "source": "Accuracy3_3 = cross_val_score(GNB_sigmoid,X3,y,cv=10).mean()",
   "outputs": [],
   "execution_count": 33
  },
  {
   "cell_type": "markdown",
   "id": "34302fa9",
   "metadata": {},
   "source": [
    "# ROC Curve & Calibration Curve"
   ]
  },
  {
   "cell_type": "code",
   "id": "46b7ba78",
   "metadata": {
    "ExecuteTime": {
     "end_time": "2024-04-18T16:51:35.818099Z",
     "start_time": "2024-04-18T16:51:35.630895Z"
    }
   },
   "source": [
    "# probablities for each prediction\n",
    "proba_y = cross_val_predict(GNB, X, y, cv=10, method='predict_proba')"
   ],
   "outputs": [],
   "execution_count": 34
  },
  {
   "cell_type": "code",
   "id": "6c4604f3",
   "metadata": {
    "ExecuteTime": {
     "end_time": "2024-04-18T16:51:35.834065Z",
     "start_time": "2024-04-18T16:51:35.820424Z"
    }
   },
   "source": [
    "# get the column of probabilities being 1\n",
    "proba_y_1 = proba_y[:,1]"
   ],
   "outputs": [],
   "execution_count": 35
  },
  {
   "cell_type": "code",
   "id": "a32de97c",
   "metadata": {
    "ExecuteTime": {
     "end_time": "2024-04-18T16:51:35.849068Z",
     "start_time": "2024-04-18T16:51:35.835065Z"
    }
   },
   "source": [
    "from sklearn.metrics import roc_curve, auc\n",
    "from sklearn import metrics\n",
    "# get fpr, tpr and thresholds\n",
    "\n",
    "fpr, tpr, thresholds = metrics.roc_curve(y, proba_y_1, pos_label=1)"
   ],
   "outputs": [],
   "execution_count": 36
  },
  {
   "cell_type": "code",
   "id": "671fba09",
   "metadata": {
    "ExecuteTime": {
     "end_time": "2024-04-18T16:51:35.864076Z",
     "start_time": "2024-04-18T16:51:35.850068Z"
    }
   },
   "source": [
    "# plot roc curve\n",
    "import matplotlib as mpl\n",
    "import matplotlib.pyplot as plt"
   ],
   "outputs": [],
   "execution_count": 37
  },
  {
   "cell_type": "code",
   "id": "7e204dbc",
   "metadata": {
    "ExecuteTime": {
     "end_time": "2024-04-18T16:51:35.988521Z",
     "start_time": "2024-04-18T16:51:35.865076Z"
    }
   },
   "source": [
    "plt.plot(fpr,tpr)\n",
    "plt.show()"
   ],
   "outputs": [
    {
     "data": {
      "text/plain": [
       "<Figure size 640x480 with 1 Axes>"
      ],
      "image/png": "[encoded data removed]"
     },
     "metadata": {},
     "output_type": "display_data"
    }
   ],
   "execution_count": 38
  },
  {
   "cell_type": "code",
   "id": "0a701f3d",
   "metadata": {
    "ExecuteTime": {
     "end_time": "2024-04-18T16:51:36.003972Z",
     "start_time": "2024-04-18T16:51:35.989521Z"
    }
   },
   "source": [
    "# auc (area under ROC curve)\n",
    "metrics.auc(fpr, tpr)"
   ],
   "outputs": [
    {
     "data": {
      "text/plain": [
       "0.7447471389999352"
      ]
     },
     "execution_count": 39,
     "metadata": {},
     "output_type": "execute_result"
    }
   ],
   "execution_count": 39
  },
  {
   "cell_type": "code",
   "id": "fe2c7d02",
   "metadata": {
    "ExecuteTime": {
     "end_time": "2024-04-18T16:51:36.018891Z",
     "start_time": "2024-04-18T16:51:36.004972Z"
    }
   },
   "source": [
    "# Calibration Curve概率校准曲线绘制\n",
    "from sklearn.calibration import calibration_curve"
   ],
   "outputs": [],
   "execution_count": 40
  },
  {
   "cell_type": "code",
   "id": "39200a51-f13c-4559-bc5e-d235bf6f5fd9",
   "metadata": {
    "ExecuteTime": {
     "end_time": "2024-04-18T16:51:36.034891Z",
     "start_time": "2024-04-18T16:51:36.019891Z"
    }
   },
   "source": [
    "fraction_of_positives, mean_predicted_value = calibration_curve(y, proba_y_1, n_bins=10)"
   ],
   "outputs": [],
   "execution_count": 41
  },
  {
   "cell_type": "code",
   "id": "51c071e7-6fa0-4fba-919a-ea3ce3d20fa0",
   "metadata": {
    "ExecuteTime": {
     "end_time": "2024-04-18T16:51:36.159215Z",
     "start_time": "2024-04-18T16:51:36.035891Z"
    }
   },
   "source": [
    "plt.plot(mean_predicted_value, fraction_of_positives, \"s-\", label=\"GaussianNB\")\n",
    "plt.plot([0, 1], [0, 1], \"k--\", label=\"Perfectly calibrated\")\n",
    "plt.xlabel(\"Mean predicted value\")\n",
    "plt.ylabel(\"Fraction of positives\")\n",
    "plt.title('Calibration Curve')\n",
    "plt.legend()\n",
    "plt.show()"
   ],
   "outputs": [
    {
     "data": {
      "text/plain": [
       "<Figure size 640x480 with 1 Axes>"
      ],
      "image/png": "[encoded data removed]"
     },
     "metadata": {},
     "output_type": "display_data"
    }
   ],
   "execution_count": 42
  },
  {
   "cell_type": "code",
   "id": "456b52bc-25d7-4887-a36e-494d7ccff765",
   "metadata": {
    "ExecuteTime": {
     "end_time": "2024-04-18T16:51:37.458515Z",
     "start_time": "2024-04-18T16:51:36.160215Z"
    }
   },
   "source": [
    "# 加入isotonic和sigmoid绘制曲线\n",
    "from matplotlib.gridspec import GridSpec\n",
    "\n",
    "fig = plt.figure(figsize=(10,10))\n",
    "gs = GridSpec(4,2)\n",
    "colors = plt.get_cmap('Dark2')\n",
    "\n",
    "ax_calibration_curve = fig.add_subplot(gs[:2, :2])\n",
    "calibration_displays = {}\n",
    "for i, (gnb, name) in enumerate(GNB_list):\n",
    "    gnb.fit(X, y)\n",
    "    display = CalibrationDisplay.from_estimator(\n",
    "        gnb, \n",
    "        X, \n",
    "        y, \n",
    "        n_bins=10, \n",
    "        name=name, \n",
    "        ax=ax_calibration_curve, \n",
    "        color=colors(i)\n",
    "    )\n",
    "    calibration_displays[name] = display\n",
    "    \n",
    "ax_calibration_curve.grid()\n",
    "ax_calibration_curve.set_title(\"Calibration plots (Naive Bayes)\")\n",
    "\n",
    "#Add histogram\n",
    "grid_positions = [(2,0), (2,1), (3,0)]\n",
    "for i, (_, name) in enumerate(GNB_list):\n",
    "    row, col = grid_positions[i]\n",
    "    ax = fig.add_subplot(gs[row, col])\n",
    "    \n",
    "    ax.hist(\n",
    "        calibration_displays[name].y_prob,\n",
    "        range=(0,1),\n",
    "        bins=10,\n",
    "        label=name,\n",
    "        color=colors(i),\n",
    "    )\n",
    "    ax.set(title=name, xlabel='Mean predicted probability', ylabel='Count')\n",
    "    \n",
    "plt.tight_layout()\n",
    "plt.show()"
   ],
   "outputs": [
    {
     "data": {
      "text/plain": [
       "<Figure size 1000x1000 with 4 Axes>"
      ],
      "image/png": "[encoded data removed]"
     },
     "metadata": {},
     "output_type": "display_data"
    }
   ],
   "execution_count": 43
  },
  {
   "cell_type": "code",
   "id": "f9e9fda7-5d86-49b6-a859-75787b38ab78",
   "metadata": {
    "ExecuteTime": {
     "end_time": "2024-04-18T17:48:37.540005Z",
     "start_time": "2024-04-18T17:48:36.116002Z"
    }
   },
   "source": [
    "from collections import defaultdict\n",
    "from sklearn.metrics import confusion_matrix\n",
    "from sklearn.metrics import (\n",
    "    brier_score_loss,\n",
    "    f1_score,\n",
    "    log_loss,\n",
    "    precision_score,\n",
    "    recall_score,\n",
    "    roc_auc_score,\n",
    ")\n",
    "\n",
    "scores = defaultdict(list)\n",
    "for i, (gnb, name) in enumerate(GNB_list):\n",
    "    gnb.fit(X, y)\n",
    "    y_prob = gnb.predict_proba(X)\n",
    "    y_pred = gnb.predict(X)\n",
    "    scores[\"Classifier\"].append(name)\n",
    "\n",
    "    for metric in [brier_score_loss, log_loss, roc_auc_score]:\n",
    "        score_name = metric.__name__.replace(\"_\", \" \").replace(\"score\", \"\").capitalize()\n",
    "        scores[score_name].append(metric(y, y_prob[:, 1]))\n",
    "\n",
    "    for metric in [precision_score, recall_score, f1_score]:\n",
    "        score_name = metric.__name__.replace(\"_\", \" \").replace(\"score\", \"\").capitalize()\n",
    "        scores[score_name].append(metric(y, y_pred))\n",
    "\n",
    "    score_df = pd.DataFrame(scores).set_index(\"Classifier\")\n",
    "    score_df.round(decimals=3)\n",
    "\n",
    "    print(confusion_matrix(y, y_pred))\n",
    "\n",
    "score_df"
   ],
   "outputs": [
    {
     "name": "stdout",
     "output_type": "stream",
     "text": [
      "[[18067  1481]\n",
      " [ 1752  1200]]\n",
      "[[18950   598]\n",
      " [ 2373   579]]\n",
      "[[19548     0]\n",
      " [ 2952     0]]\n"
     ]
    },
    {
     "name": "stderr",
     "output_type": "stream",
     "text": [
      "C:\\Users\\CA.CA-PC\\IdeaProjects\\JAPJC_Export\\MM5425\\lib\\site-packages\\sklearn\\metrics\\_classification.py:1509: UndefinedMetricWarning: Precision is ill-defined and being set to 0.0 due to no predicted samples. Use `zero_division` parameter to control this behavior.\n",
      "  _warn_prf(average, modifier, f\"{metric.capitalize()} is\", len(result))\n"
     ]
    },
    {
     "data": {
      "text/plain": [
       "                        Brier  loss  Log loss  Roc auc   Precision    Recall   \\\n",
       "Classifier                                                                      \n",
       "Naive Bayes                0.140502  2.285872  0.747655    0.447594  0.406504   \n",
       "Naive Bayes + Isotonic     0.098313  0.334300  0.748716    0.491929  0.196138   \n",
       "Naive Bayes + Sigmoid      0.100195  0.343904  0.747587    0.000000  0.000000   \n",
       "\n",
       "                             F1   \n",
       "Classifier                        \n",
       "Naive Bayes             0.426061  \n",
       "Naive Bayes + Isotonic  0.280455  \n",
       "Naive Bayes + Sigmoid   0.000000  "
      ],
      "text/html": [
       "<div>\n",
       "<style scoped>\n",
       "    .dataframe tbody tr th:only-of-type {\n",
       "        vertical-align: middle;\n",
       "    }\n",
       "\n",
       "    .dataframe tbody tr th {\n",
       "        vertical-align: top;\n",
       "    }\n",
       "\n",
       "    .dataframe thead th {\n",
       "        text-align: right;\n",
       "    }\n",
       "</style>\n",
       "<table border=\"1\" class=\"dataframe\">\n",
       "  <thead>\n",
       "    <tr style=\"text-align: right;\">\n",
       "      <th></th>\n",
       "      <th>Brier  loss</th>\n",
       "      <th>Log loss</th>\n",
       "      <th>Roc auc</th>\n",
       "      <th>Precision</th>\n",
       "      <th>Recall</th>\n",
       "      <th>F1</th>\n",
       "    </tr>\n",
       "    <tr>\n",
       "      <th>Classifier</th>\n",
       "      <th></th>\n",
       "      <th></th>\n",
       "      <th></th>\n",
       "      <th></th>\n",
       "      <th></th>\n",
       "      <th></th>\n",
       "    </tr>\n",
       "  </thead>\n",
       "  <tbody>\n",
       "    <tr>\n",
       "      <th>Naive Bayes</th>\n",
       "      <td>0.140502</td>\n",
       "      <td>2.285872</td>\n",
       "      <td>0.747655</td>\n",
       "      <td>0.447594</td>\n",
       "      <td>0.406504</td>\n",
       "      <td>0.426061</td>\n",
       "    </tr>\n",
       "    <tr>\n",
       "      <th>Naive Bayes + Isotonic</th>\n",
       "      <td>0.098313</td>\n",
       "      <td>0.334300</td>\n",
       "      <td>0.748716</td>\n",
       "      <td>0.491929</td>\n",
       "      <td>0.196138</td>\n",
       "      <td>0.280455</td>\n",
       "    </tr>\n",
       "    <tr>\n",
       "      <th>Naive Bayes + Sigmoid</th>\n",
       "      <td>0.100195</td>\n",
       "      <td>0.343904</td>\n",
       "      <td>0.747587</td>\n",
       "      <td>0.000000</td>\n",
       "      <td>0.000000</td>\n",
       "      <td>0.000000</td>\n",
       "    </tr>\n",
       "  </tbody>\n",
       "</table>\n",
       "</div>"
      ]
     },
     "execution_count": 46,
     "metadata": {},
     "output_type": "execute_result"
    }
   ],
   "execution_count": 46
  },
  {
   "metadata": {},
   "cell_type": "code",
   "outputs": [],
   "execution_count": null,
   "source": "",
   "id": "ef8deb374330e310"
  }
 ],
 "metadata": {
  "kernelspec": {
   "display_name": "Python 3 (ipykernel)",
   "language": "python",
   "name": "python3"
  },
  "language_info": {
   "codemirror_mode": {
    "name": "ipython",
    "version": 3
   },
   "file_extension": ".py",
   "mimetype": "text/x-python",
   "name": "python",
   "nbconvert_exporter": "python",
   "pygments_lexer": "ipython3",
   "version": "3.9.10"
  }
 },
 "nbformat": 4,
 "nbformat_minor": 5
}
