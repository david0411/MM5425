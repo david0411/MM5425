{
 "cells": [
  {
   "cell_type": "code",
   "id": "initial_id",
   "metadata": {
    "collapsed": true,
    "ExecuteTime": {
     "end_time": "2024-04-15T13:40:35.569984Z",
     "start_time": "2024-04-15T13:40:35.564896Z"
    }
   },
   "source": [
    "import pandas as pd\n",
    "import numpy as np\n",
    "from imblearn.pipeline import Pipeline\n",
    "from imblearn.over_sampling import SMOTE\n",
    "from sklearn.neighbors import KNeighborsClassifier\n",
    "from sklearn.model_selection import cross_val_score, cross_val_predict\n",
    "import seaborn as sns"
   ],
   "outputs": [],
   "execution_count": 55
  },
  {
   "metadata": {
    "ExecuteTime": {
     "end_time": "2024-04-15T13:40:36.539181Z",
     "start_time": "2024-04-15T13:40:36.204702Z"
    }
   },
   "cell_type": "code",
   "source": "df=pd.read_csv('../data/processed_train_filled.csv')",
   "id": "a484d0afa4a1a46c",
   "outputs": [],
   "execution_count": 56
  },
  {
   "metadata": {
    "ExecuteTime": {
     "end_time": "2024-04-15T13:40:37.040070Z",
     "start_time": "2024-04-15T13:40:37.034799Z"
    }
   },
   "cell_type": "code",
   "source": [
    "# Group the duration by duration <= 1000 and duration > 1000\n",
    "# Group the campaign by campaign <= 10 and campaign > 10\n",
    "# Group the pdays by pdays > 900 and pdays <= 900\n",
    "# Group the age by <35, 35-55, 56-80, >81"
   ],
   "id": "dd5b0156cd884e3d",
   "outputs": [],
   "execution_count": 57
  },
  {
   "metadata": {
    "ExecuteTime": {
     "end_time": "2024-04-15T13:40:37.655813Z",
     "start_time": "2024-04-15T13:40:37.649370Z"
    }
   },
   "cell_type": "code",
   "source": [
    "def categorize_age(age):\n",
    "    if age < 35:\n",
    "        return 0\n",
    "    elif 35 <= age <= 55:\n",
    "        return 1\n",
    "    elif 56 <= age <= 80:\n",
    "        return 2\n",
    "    else:\n",
    "        return 3"
   ],
   "id": "77d5f7cfee65936f",
   "outputs": [],
   "execution_count": 58
  },
  {
   "metadata": {
    "ExecuteTime": {
     "end_time": "2024-04-15T13:40:38.991637Z",
     "start_time": "2024-04-15T13:40:38.491937Z"
    }
   },
   "cell_type": "code",
   "source": [
    "age_gp = df['age'].apply(categorize_age)\n",
    "job_gp = pd.get_dummies(df['job'], dtype=float)\n",
    "education_gp = pd.get_dummies(df['education'], dtype=float)\n",
    "marital_gp = pd.get_dummies(df['marital'], dtype=float)\n",
    "default_gp = df['default'].map({'yes':1, 'no':0})\n",
    "housing_gp = df['housing'].map({'yes':1, 'no':0})\n",
    "loan_gp = df['loan'].map({'yes':1, 'no':0})\n",
    "contact_gp = pd.get_dummies(df['contact'], dtype=float)\n",
    "month_gp = pd.get_dummies(df['month'], dtype=float)\n",
    "day_of_week_gp = pd.get_dummies(df['day_of_week'], dtype=float)\n",
    "duration_gp = df['duration'].apply(lambda x: 1 if x <= 1000 else 0)\n",
    "campaign_gp = df['campaign'].apply(lambda x: 1 if x <= 10 else 0)\n",
    "pdays_gp = df['pdays'].apply(lambda x: 1 if x > 900 else 0)\n",
    "previous_gp = df['previous']\n",
    "poutcome_gp = pd.get_dummies(df['poutcome'], dtype=float)\n",
    "subscribe_gp = df['subscribe'].map({'yes':1, 'no':0})\n",
    "\n",
    "training_df = pd.concat([age_gp, job_gp, education_gp, marital_gp, default_gp, housing_gp, loan_gp, contact_gp, \n",
    "                         month_gp, day_of_week_gp, duration_gp, campaign_gp, pdays_gp, previous_gp, poutcome_gp\n",
    "                         ], axis=1)"
   ],
   "id": "eab56d94630a174e",
   "outputs": [
    {
     "name": "stdout",
     "output_type": "stream",
     "text": [
      "['age', 'admin.', 'blue-collar', 'entrepreneur', 'housemaid', 'management', 'retired', 'self-employed', 'services', 'student', 'technician', 'unemployed', 'basic.4y', 'basic.6y', 'basic.9y', 'high.school', 'illiterate', 'professional.course', 'university.degree', 'divorced', 'married', 'single', 'default', 'housing', 'loan', 'cellular', 'telephone', 'apr', 'aug', 'dec', 'jul', 'jun', 'mar', 'may', 'nov', 'oct', 'sep', 'fri', 'mon', 'thu', 'tue', 'wed', 'duration', 'campaign', 'pdays', 'previous', 'failure', 'nonexistent', 'success']\n"
     ]
    }
   ],
   "execution_count": 59
  },
  {
   "metadata": {
    "ExecuteTime": {
     "end_time": "2024-04-15T13:40:47.350390Z",
     "start_time": "2024-04-15T13:40:47.319099Z"
    }
   },
   "cell_type": "code",
   "source": [
    "X = training_df\n",
    "y = subscribe_gp"
   ],
   "id": "d035da03b6d80d88",
   "outputs": [
    {
     "name": "stdout",
     "output_type": "stream",
     "text": [
      "       age  admin.  blue-collar  entrepreneur  housemaid  management  retired  \\\n",
      "0        1     1.0          0.0           0.0        0.0         0.0      0.0   \n",
      "1        1     0.0          0.0           0.0        0.0         0.0      0.0   \n",
      "2        1     0.0          1.0           0.0        0.0         0.0      0.0   \n",
      "3        0     0.0          0.0           1.0        0.0         0.0      0.0   \n",
      "4        1     1.0          0.0           0.0        0.0         0.0      0.0   \n",
      "...    ...     ...          ...           ...        ...         ...      ...   \n",
      "22495    0     1.0          0.0           0.0        0.0         0.0      0.0   \n",
      "22496    0     1.0          0.0           0.0        0.0         0.0      0.0   \n",
      "22497    0     1.0          0.0           0.0        0.0         0.0      0.0   \n",
      "22498    2     0.0          0.0           0.0        0.0         0.0      1.0   \n",
      "22499    1     0.0          1.0           0.0        0.0         0.0      0.0   \n",
      "\n",
      "       self-employed  services  student  ...  thu  tue  wed  duration  \\\n",
      "0                0.0       0.0      0.0  ...  0.0  0.0  0.0         0   \n",
      "1                0.0       1.0      0.0  ...  0.0  0.0  0.0         0   \n",
      "2                0.0       0.0      0.0  ...  0.0  0.0  1.0         1   \n",
      "3                0.0       0.0      0.0  ...  0.0  0.0  0.0         1   \n",
      "4                0.0       0.0      0.0  ...  0.0  1.0  0.0         0   \n",
      "...              ...       ...      ...  ...  ...  ...  ...       ...   \n",
      "22495            0.0       0.0      0.0  ...  0.0  0.0  0.0         0   \n",
      "22496            0.0       0.0      0.0  ...  0.0  0.0  0.0         0   \n",
      "22497            0.0       0.0      0.0  ...  1.0  0.0  0.0         0   \n",
      "22498            0.0       0.0      0.0  ...  0.0  1.0  0.0         1   \n",
      "22499            0.0       0.0      0.0  ...  0.0  0.0  0.0         1   \n",
      "\n",
      "       campaign  pdays  previous  failure  nonexistent  success  \n",
      "0             1      0         2      1.0          0.0      0.0  \n",
      "1             1      0         2      0.0          1.0      0.0  \n",
      "2             1      1         1      1.0          0.0      0.0  \n",
      "3             0      1         0      0.0          1.0      0.0  \n",
      "4             1      0         4      0.0          0.0      1.0  \n",
      "...         ...    ...       ...      ...          ...      ...  \n",
      "22495         1      1         3      1.0          0.0      0.0  \n",
      "22496         0      0         3      1.0          0.0      0.0  \n",
      "22497         1      0         5      0.0          0.0      1.0  \n",
      "22498         1      1         0      0.0          1.0      0.0  \n",
      "22499         1      1         1      1.0          0.0      0.0  \n",
      "\n",
      "[22500 rows x 49 columns]\n",
      "0        0\n",
      "1        1\n",
      "2        0\n",
      "3        1\n",
      "4        0\n",
      "        ..\n",
      "22495    1\n",
      "22496    0\n",
      "22497    0\n",
      "22498    0\n",
      "22499    1\n",
      "Name: subscribe, Length: 22500, dtype: int64\n"
     ]
    }
   ],
   "execution_count": 60
  },
  {
   "metadata": {
    "ExecuteTime": {
     "end_time": "2024-04-15T14:10:20.037050Z",
     "start_time": "2024-04-15T14:09:06.668663Z"
    }
   },
   "cell_type": "code",
   "source": [
    "for k in range(1, 20):\n",
    "    steps = [('smote', SMOTE(random_state=99)), ('knn', KNeighborsClassifier(n_neighbors=k, weights='distance'))]\n",
    "    pipeline = Pipeline(steps)\n",
    "    scores = cross_val_score(pipeline, X, y, cv=10, scoring='f1_macro').mean()\n",
    "    print(\"When k=%d, F1 Score=%.5f\" % (k, scores))"
   ],
   "id": "bf4d0c8dbaa7287a",
   "outputs": [
    {
     "name": "stdout",
     "output_type": "stream",
     "text": [
      "When k=1, F1 Score=0.58810\n",
      "When k=2, F1 Score=0.59069\n",
      "When k=3, F1 Score=0.58945\n",
      "When k=4, F1 Score=0.59118\n",
      "When k=5, F1 Score=0.58720\n",
      "When k=6, F1 Score=0.59147\n",
      "When k=7, F1 Score=0.59164\n",
      "When k=8, F1 Score=0.59571\n",
      "When k=9, F1 Score=0.59253\n",
      "When k=10, F1 Score=0.59295\n",
      "When k=11, F1 Score=0.58808\n",
      "When k=12, F1 Score=0.58873\n",
      "When k=13, F1 Score=0.58816\n",
      "When k=14, F1 Score=0.58923\n",
      "When k=15, F1 Score=0.58664\n",
      "When k=16, F1 Score=0.58580\n",
      "When k=17, F1 Score=0.58668\n",
      "When k=18, F1 Score=0.58745\n",
      "When k=19, F1 Score=0.58812\n"
     ]
    }
   ],
   "execution_count": 64
  },
  {
   "metadata": {
    "ExecuteTime": {
     "end_time": "2024-04-15T14:11:11.756608Z",
     "start_time": "2024-04-15T14:10:54.004373Z"
    }
   },
   "cell_type": "code",
   "source": [
    "model_best = KNeighborsClassifier(n_neighbors=8,weights='distance')\n",
    "model_best.fit(X,y)\n",
    "y_pred_knn = cross_val_predict(model_best,X,y,cv=10)\n",
    "\n",
    "steps = [('smote', SMOTE(random_state=99)), ('knn', KNeighborsClassifier(n_neighbors=8, weights='distance'))]\n",
    "pipeline = Pipeline(steps)\n",
    "pipeline.fit(X, y)\n",
    "y_pred_smote = cross_val_predict(pipeline, X, y, cv=10)\n",
    "\n",
    "# show a classification report demonstrating the accuracy of the classifier for each digit\n",
    "from sklearn.metrics import classification_report\n",
    "from sklearn.metrics import confusion_matrix\n",
    "# evaluate result\n",
    "print(\"Accuracy:\",cross_val_score(model_best,X,y,cv=10).mean())\n",
    "print(\"F1 Score=%.5f\", cross_val_score(model_best, X, y, cv=10, scoring='f1_macro').mean())\n",
    "print(\"Confusion Matrix:\\n\", confusion_matrix(y_pred_knn, y))\n",
    "print(\"Accuracy:\",cross_val_score(pipeline,X,y,cv=10).mean())\n",
    "print(\"F1 Score=%.5f\", cross_val_score(pipeline, X, y, cv=10, scoring='f1_macro').mean())\n",
    "print(\"Confusion Matrix:\\n\", confusion_matrix(y_pred_smote, y))"
   ],
   "id": "ea657b49bf03a916",
   "outputs": [
    {
     "name": "stdout",
     "output_type": "stream",
     "text": [
      "Accuracy: 0.8657333333333334\n",
      "F1 Score=%.5f 0.5530078325109871\n",
      "Confusion Matrix:\n",
      " [[19149  2622]\n",
      " [  399   330]]\n",
      "Accuracy: 0.7467555555555556\n",
      "F1 Score=%.5f 0.5957077439900955\n",
      "Confusion Matrix:\n",
      " [[15277  1427]\n",
      " [ 4271  1525]]\n"
     ]
    }
   ],
   "execution_count": 66
  },
  {
   "metadata": {},
   "cell_type": "code",
   "outputs": [],
   "execution_count": null,
   "source": "",
   "id": "29f327bfbd2c0140"
  }
 ],
 "metadata": {
  "kernelspec": {
   "display_name": "Python 3",
   "language": "python",
   "name": "python3"
  },
  "language_info": {
   "codemirror_mode": {
    "name": "ipython",
    "version": 2
   },
   "file_extension": ".py",
   "mimetype": "text/x-python",
   "name": "python",
   "nbconvert_exporter": "python",
   "pygments_lexer": "ipython2",
   "version": "2.7.6"
  }
 },
 "nbformat": 4,
 "nbformat_minor": 5
}
