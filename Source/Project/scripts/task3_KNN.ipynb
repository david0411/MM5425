{
 "cells": [
  {
   "cell_type": "code",
   "id": "initial_id",
   "metadata": {
    "collapsed": true,
    "ExecuteTime": {
     "end_time": "2024-04-16T17:05:30.069456Z",
     "start_time": "2024-04-16T17:05:30.053525Z"
    }
   },
   "source": [
    "import pandas as pd\n",
    "import numpy as np\n",
    "from imblearn.pipeline import Pipeline\n",
    "from imblearn.over_sampling import SMOTE\n",
    "from sklearn.neighbors import KNeighborsClassifier\n",
    "from sklearn.model_selection import cross_val_score, cross_val_predict\n",
    "import seaborn as sns"
   ],
   "outputs": [],
   "execution_count": 9
  },
  {
   "metadata": {
    "ExecuteTime": {
     "end_time": "2024-04-16T17:05:30.120526Z",
     "start_time": "2024-04-16T17:05:30.070456Z"
    }
   },
   "cell_type": "code",
   "source": "df=pd.read_csv('../data/processed_train_filled.csv')",
   "id": "a484d0afa4a1a46c",
   "outputs": [],
   "execution_count": 10
  },
  {
   "metadata": {
    "ExecuteTime": {
     "end_time": "2024-04-16T17:05:30.131526Z",
     "start_time": "2024-04-16T17:05:30.123526Z"
    }
   },
   "cell_type": "code",
   "source": [
    "# Group the duration by duration <= 1000 and duration > 1000\n",
    "# Group the campaign by campaign <= 10 and campaign > 10\n",
    "# Group the pdays by pdays > 900 and pdays <= 900\n",
    "# Group the age by <35, 35-55, 56-80, >81"
   ],
   "id": "dd5b0156cd884e3d",
   "outputs": [],
   "execution_count": 11
  },
  {
   "metadata": {
    "ExecuteTime": {
     "end_time": "2024-04-16T17:05:30.146573Z",
     "start_time": "2024-04-16T17:05:30.132526Z"
    }
   },
   "cell_type": "code",
   "source": [
    "def categorize_age(age):\n",
    "    if age < 35:\n",
    "        return 0\n",
    "    elif 35 <= age <= 55:\n",
    "        return 1\n",
    "    elif 56 <= age <= 80:\n",
    "        return 2\n",
    "    else:\n",
    "        return 3"
   ],
   "id": "77d5f7cfee65936f",
   "outputs": [],
   "execution_count": 12
  },
  {
   "metadata": {
    "ExecuteTime": {
     "end_time": "2024-04-16T17:05:30.237456Z",
     "start_time": "2024-04-16T17:05:30.147529Z"
    }
   },
   "cell_type": "code",
   "source": [
    "age_gp = df['age'].apply(categorize_age)\n",
    "job_gp = pd.get_dummies(df['job'], dtype=float)\n",
    "education_gp = pd.get_dummies(df['education'], dtype=float)\n",
    "marital_gp = pd.get_dummies(df['marital'], dtype=float)\n",
    "default_gp = df['default'].map({'yes':1, 'no':0})\n",
    "housing_gp = df['housing'].map({'yes':1, 'no':0})\n",
    "loan_gp = df['loan'].map({'yes':1, 'no':0})\n",
    "contact_gp = pd.get_dummies(df['contact'], dtype=float)\n",
    "month_gp = pd.get_dummies(df['month'], dtype=float)\n",
    "day_of_week_gp = pd.get_dummies(df['day_of_week'], dtype=float)\n",
    "duration_gp = df['duration'].apply(lambda x: 1 if x <= 1000 else 0)\n",
    "campaign_gp = df['campaign'].apply(lambda x: 1 if x <= 10 else 0)\n",
    "pdays_gp = df['pdays'].apply(lambda x: 1 if x > 900 else 0)\n",
    "previous_gp = df['previous']\n",
    "poutcome_gp = pd.get_dummies(df['poutcome'], dtype=float)\n",
    "subscribe_gp = df['subscribe'].map({'yes':1, 'no':0})\n",
    "\n",
    "training_df = pd.concat([age_gp, job_gp, education_gp, marital_gp, default_gp, housing_gp, loan_gp, contact_gp, \n",
    "                         month_gp, day_of_week_gp, duration_gp, campaign_gp, pdays_gp, previous_gp, poutcome_gp\n",
    "                         ], axis=1)"
   ],
   "id": "eab56d94630a174e",
   "outputs": [],
   "execution_count": 13
  },
  {
   "metadata": {
    "ExecuteTime": {
     "end_time": "2024-04-16T17:05:30.252456Z",
     "start_time": "2024-04-16T17:05:30.238457Z"
    }
   },
   "cell_type": "code",
   "source": [
    "X = training_df\n",
    "y = subscribe_gp"
   ],
   "id": "d035da03b6d80d88",
   "outputs": [],
   "execution_count": 14
  },
  {
   "metadata": {
    "ExecuteTime": {
     "end_time": "2024-04-16T17:05:58.745209Z",
     "start_time": "2024-04-16T17:05:30.253456Z"
    }
   },
   "cell_type": "code",
   "source": [
    "for k in range(1, 20):\n",
    "    steps = [('smote', SMOTE(random_state=99)), ('knn', KNeighborsClassifier(n_neighbors=k, weights='distance'))]\n",
    "    pipeline = Pipeline(steps)\n",
    "    scores = cross_val_score(pipeline, X, y, cv=10, scoring='f1_macro').mean()\n",
    "    print(\"When k=%d, F1 Score=%.5f\" % (k, scores))"
   ],
   "id": "bf4d0c8dbaa7287a",
   "outputs": [
    {
     "name": "stdout",
     "output_type": "stream",
     "text": [
      "When k=1, F1 Score=0.58652\n",
      "When k=2, F1 Score=0.59006\n",
      "When k=3, F1 Score=0.59056\n",
      "When k=4, F1 Score=0.59343\n",
      "When k=5, F1 Score=0.58921\n",
      "When k=6, F1 Score=0.59370\n",
      "When k=7, F1 Score=0.58975\n",
      "When k=8, F1 Score=0.59502\n",
      "When k=9, F1 Score=0.58885\n",
      "When k=10, F1 Score=0.59326\n",
      "When k=11, F1 Score=0.58581\n",
      "When k=12, F1 Score=0.58837\n",
      "When k=13, F1 Score=0.58767\n",
      "When k=14, F1 Score=0.58891\n",
      "When k=15, F1 Score=0.58517\n",
      "When k=16, F1 Score=0.58671\n",
      "When k=17, F1 Score=0.58859\n",
      "When k=18, F1 Score=0.58844\n",
      "When k=19, F1 Score=0.58785\n"
     ]
    }
   ],
   "execution_count": 15
  },
  {
   "metadata": {
    "ExecuteTime": {
     "end_time": "2024-04-16T17:06:05.176447Z",
     "start_time": "2024-04-16T17:05:58.746209Z"
    }
   },
   "cell_type": "code",
   "source": [
    "model_best = KNeighborsClassifier(n_neighbors=8,weights='distance')\n",
    "model_best.fit(X,y)\n",
    "y_pred_knn = cross_val_predict(model_best,X,y,cv=10)\n",
    "\n",
    "steps = [('smote', SMOTE(random_state=99)), ('knn', KNeighborsClassifier(n_neighbors=8, weights='distance'))]\n",
    "pipeline = Pipeline(steps)\n",
    "pipeline.fit(X, y)\n",
    "y_pred_smote = cross_val_predict(pipeline, X, y, cv=10)\n",
    "\n",
    "# show a classification report demonstrating the accuracy of the classifier for each digit\n",
    "from sklearn.metrics import classification_report\n",
    "from sklearn.metrics import confusion_matrix\n",
    "# evaluate result\n",
    "print(\"Accuracy: %.5f\" % (cross_val_score(model_best,X,y,cv=10).mean()))\n",
    "print(\"F1 Score: %.5f\" % (cross_val_score(model_best, X, y, cv=10, scoring='f1_macro').mean()))\n",
    "print(\"Confusion Matrix:\\n\", confusion_matrix(y, y_pred_knn))\n",
    "print(\"Accuracy: %.5f\" % (cross_val_score(pipeline,X,y,cv=10).mean()))\n",
    "print(\"F1 Score: %.5f\" % (cross_val_score(pipeline, X, y, cv=10, scoring='f1_macro').mean()))\n",
    "print(\"Confusion Matrix:\\n\", confusion_matrix(y, y_pred_smote))"
   ],
   "id": "ea657b49bf03a916",
   "outputs": [
    {
     "name": "stdout",
     "output_type": "stream",
     "text": [
      "Accuracy: 0.86511\n",
      "F1 Score: 0.55130\n",
      "Confusion Matrix:\n",
      " [[19140   408]\n",
      " [ 2627   325]]\n",
      "Accuracy: 0.74591\n",
      "F1 Score: 0.59502\n",
      "Confusion Matrix:\n",
      " [[15258  4290]\n",
      " [ 1427  1525]]\n"
     ]
    }
   ],
   "execution_count": 16
  },
  {
   "metadata": {
    "ExecuteTime": {
     "end_time": "2024-04-16T17:06:05.192325Z",
     "start_time": "2024-04-16T17:06:05.177446Z"
    }
   },
   "cell_type": "code",
   "source": "",
   "id": "29f327bfbd2c0140",
   "outputs": [],
   "execution_count": 16
  }
 ],
 "metadata": {
  "kernelspec": {
   "display_name": "Python 3",
   "language": "python",
   "name": "python3"
  },
  "language_info": {
   "codemirror_mode": {
    "name": "ipython",
    "version": 2
   },
   "file_extension": ".py",
   "mimetype": "text/x-python",
   "name": "python",
   "nbconvert_exporter": "python",
   "pygments_lexer": "ipython2",
   "version": "2.7.6"
  }
 },
 "nbformat": 4,
 "nbformat_minor": 5
}
