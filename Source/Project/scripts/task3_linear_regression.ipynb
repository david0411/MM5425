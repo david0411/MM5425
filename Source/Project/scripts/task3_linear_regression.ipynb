{
 "cells": [
  {
   "metadata": {
    "ExecuteTime": {
     "end_time": "2024-04-15T08:56:51.411977Z",
     "start_time": "2024-04-15T08:56:51.399029Z"
    }
   },
   "cell_type": "code",
   "source": [
    "import pandas as pd\n",
    "import numpy as np"
   ],
   "id": "9170aabd5c1bfa4a",
   "outputs": [],
   "execution_count": 73
  },
  {
   "metadata": {
    "ExecuteTime": {
     "end_time": "2024-04-15T08:56:51.505223Z",
     "start_time": "2024-04-15T08:56:51.414416Z"
    }
   },
   "cell_type": "code",
   "source": "df=pd.read_csv('../data/processed_train_filled.csv')",
   "id": "35f9ab30b59c5596",
   "outputs": [],
   "execution_count": 74
  },
  {
   "metadata": {
    "ExecuteTime": {
     "end_time": "2024-04-15T08:56:51.551559Z",
     "start_time": "2024-04-15T08:56:51.510747Z"
    }
   },
   "cell_type": "code",
   "source": [
    "edu_df = df['education'].map({'illiterate':0,'basic.4y':1,'basic.6y':2,'basic.9y':3,\n",
    "                                  'high.school':4,'professional.course':5,'university.degree':6})\n",
    "job_df = df['job'].map({'unemployed': 0,'student': 0,'retired': 0,'housemaid': 0,'entrepreneur': 1,\n",
    "                              'self-employed': 1,'blue-collar': 2,'services': 3,'technician': 4,'admin.': 5,'management': 5})\n",
    "def_df = df['default'].map({'yes':1,'no':0})\n",
    "housing_df = df['housing'].map({'yes':1,'no':0})\n",
    "loan_df = df['loan'].map({'yes':1,'no':0})\n",
    "debt_df = pd.DataFrame(columns=['debt'])\n",
    "debt_df['debt'] = def_df + housing_df + loan_df\n",
    "train_df = pd.concat([edu_df, job_df, debt_df, df[['age', 'campaign', 'pdays', 'previous', 'duration']]], axis=1)\n",
    "train_df"
   ],
   "id": "53f77bfcc2142db",
   "outputs": [
    {
     "data": {
      "text/plain": [
       "       education  job  debt  age  campaign  pdays  previous  duration\n",
       "0              5    5     2   51         1    112         2      4621\n",
       "1              4    3     1   50         1    412         2      4715\n",
       "2              3    2     0   48         0   1027         1       171\n",
       "3              4    1     3   26        26    998         0       359\n",
       "4              6    5     0   45         1    240         4      3178\n",
       "...          ...  ...   ...  ...       ...    ...       ...       ...\n",
       "22495          4    5     0   33         3    925         3      4031\n",
       "22496          4    5     1   34        14    533         3      3185\n",
       "22497          5    5     1   25         0    792         5      2363\n",
       "22498          4    0     1   57         5    989         0       576\n",
       "22499          3    2     1   44         0   1001         1       549\n",
       "\n",
       "[22500 rows x 8 columns]"
      ],
      "text/html": [
       "<div>\n",
       "<style scoped>\n",
       "    .dataframe tbody tr th:only-of-type {\n",
       "        vertical-align: middle;\n",
       "    }\n",
       "\n",
       "    .dataframe tbody tr th {\n",
       "        vertical-align: top;\n",
       "    }\n",
       "\n",
       "    .dataframe thead th {\n",
       "        text-align: right;\n",
       "    }\n",
       "</style>\n",
       "<table border=\"1\" class=\"dataframe\">\n",
       "  <thead>\n",
       "    <tr style=\"text-align: right;\">\n",
       "      <th></th>\n",
       "      <th>education</th>\n",
       "      <th>job</th>\n",
       "      <th>debt</th>\n",
       "      <th>age</th>\n",
       "      <th>campaign</th>\n",
       "      <th>pdays</th>\n",
       "      <th>previous</th>\n",
       "      <th>duration</th>\n",
       "    </tr>\n",
       "  </thead>\n",
       "  <tbody>\n",
       "    <tr>\n",
       "      <th>0</th>\n",
       "      <td>5</td>\n",
       "      <td>5</td>\n",
       "      <td>2</td>\n",
       "      <td>51</td>\n",
       "      <td>1</td>\n",
       "      <td>112</td>\n",
       "      <td>2</td>\n",
       "      <td>4621</td>\n",
       "    </tr>\n",
       "    <tr>\n",
       "      <th>1</th>\n",
       "      <td>4</td>\n",
       "      <td>3</td>\n",
       "      <td>1</td>\n",
       "      <td>50</td>\n",
       "      <td>1</td>\n",
       "      <td>412</td>\n",
       "      <td>2</td>\n",
       "      <td>4715</td>\n",
       "    </tr>\n",
       "    <tr>\n",
       "      <th>2</th>\n",
       "      <td>3</td>\n",
       "      <td>2</td>\n",
       "      <td>0</td>\n",
       "      <td>48</td>\n",
       "      <td>0</td>\n",
       "      <td>1027</td>\n",
       "      <td>1</td>\n",
       "      <td>171</td>\n",
       "    </tr>\n",
       "    <tr>\n",
       "      <th>3</th>\n",
       "      <td>4</td>\n",
       "      <td>1</td>\n",
       "      <td>3</td>\n",
       "      <td>26</td>\n",
       "      <td>26</td>\n",
       "      <td>998</td>\n",
       "      <td>0</td>\n",
       "      <td>359</td>\n",
       "    </tr>\n",
       "    <tr>\n",
       "      <th>4</th>\n",
       "      <td>6</td>\n",
       "      <td>5</td>\n",
       "      <td>0</td>\n",
       "      <td>45</td>\n",
       "      <td>1</td>\n",
       "      <td>240</td>\n",
       "      <td>4</td>\n",
       "      <td>3178</td>\n",
       "    </tr>\n",
       "    <tr>\n",
       "      <th>...</th>\n",
       "      <td>...</td>\n",
       "      <td>...</td>\n",
       "      <td>...</td>\n",
       "      <td>...</td>\n",
       "      <td>...</td>\n",
       "      <td>...</td>\n",
       "      <td>...</td>\n",
       "      <td>...</td>\n",
       "    </tr>\n",
       "    <tr>\n",
       "      <th>22495</th>\n",
       "      <td>4</td>\n",
       "      <td>5</td>\n",
       "      <td>0</td>\n",
       "      <td>33</td>\n",
       "      <td>3</td>\n",
       "      <td>925</td>\n",
       "      <td>3</td>\n",
       "      <td>4031</td>\n",
       "    </tr>\n",
       "    <tr>\n",
       "      <th>22496</th>\n",
       "      <td>4</td>\n",
       "      <td>5</td>\n",
       "      <td>1</td>\n",
       "      <td>34</td>\n",
       "      <td>14</td>\n",
       "      <td>533</td>\n",
       "      <td>3</td>\n",
       "      <td>3185</td>\n",
       "    </tr>\n",
       "    <tr>\n",
       "      <th>22497</th>\n",
       "      <td>5</td>\n",
       "      <td>5</td>\n",
       "      <td>1</td>\n",
       "      <td>25</td>\n",
       "      <td>0</td>\n",
       "      <td>792</td>\n",
       "      <td>5</td>\n",
       "      <td>2363</td>\n",
       "    </tr>\n",
       "    <tr>\n",
       "      <th>22498</th>\n",
       "      <td>4</td>\n",
       "      <td>0</td>\n",
       "      <td>1</td>\n",
       "      <td>57</td>\n",
       "      <td>5</td>\n",
       "      <td>989</td>\n",
       "      <td>0</td>\n",
       "      <td>576</td>\n",
       "    </tr>\n",
       "    <tr>\n",
       "      <th>22499</th>\n",
       "      <td>3</td>\n",
       "      <td>2</td>\n",
       "      <td>1</td>\n",
       "      <td>44</td>\n",
       "      <td>0</td>\n",
       "      <td>1001</td>\n",
       "      <td>1</td>\n",
       "      <td>549</td>\n",
       "    </tr>\n",
       "  </tbody>\n",
       "</table>\n",
       "<p>22500 rows × 8 columns</p>\n",
       "</div>"
      ]
     },
     "execution_count": 75,
     "metadata": {},
     "output_type": "execute_result"
    }
   ],
   "execution_count": 75
  },
  {
   "metadata": {
    "ExecuteTime": {
     "end_time": "2024-04-15T08:56:51.583514Z",
     "start_time": "2024-04-15T08:56:51.553507Z"
    }
   },
   "cell_type": "code",
   "source": [
    "mon_df = df['month'].map({'mar':3, 'apr':4, 'may':5, 'jun':6, 'jul':7, 'aug':8, 'sep':9, 'oct':10, 'nov':11, 'dec':12})\n",
    "day_df = df['day_of_week'].map({'mon':1, 'tue':2, 'wed':3, 'thu':4, 'fri':5})\n",
    "train_df = pd.concat([train_df, mon_df, day_df], axis=1)"
   ],
   "id": "cfe14b5d159b2611",
   "outputs": [],
   "execution_count": 76
  },
  {
   "metadata": {
    "ExecuteTime": {
     "end_time": "2024-04-15T08:56:51.614657Z",
     "start_time": "2024-04-15T08:56:51.586502Z"
    }
   },
   "cell_type": "code",
   "source": [
    "from sklearn import preprocessing\n",
    "scaler = preprocessing.StandardScaler()\n",
    "numeric_X = pd.DataFrame(scaler.fit_transform(train_df), columns = train_df.columns)"
   ],
   "id": "896aba359e79a6c9",
   "outputs": [],
   "execution_count": 77
  },
  {
   "metadata": {
    "ExecuteTime": {
     "end_time": "2024-04-15T08:56:51.629608Z",
     "start_time": "2024-04-15T08:56:51.616686Z"
    }
   },
   "cell_type": "code",
   "source": "y = df['subscribe'].map({'yes':1,'no':0})",
   "id": "d33de58f43e1221a",
   "outputs": [],
   "execution_count": 78
  },
  {
   "metadata": {
    "ExecuteTime": {
     "end_time": "2024-04-15T08:56:51.645009Z",
     "start_time": "2024-04-15T08:56:51.631327Z"
    }
   },
   "cell_type": "code",
   "source": [
    "# import train_test split\n",
    "from sklearn.model_selection import train_test_split\n",
    "# split data into train and test, 80% in training and 20% in testing\n",
    "X_train, X_test, y_train, y_test = train_test_split(numeric_X, y, test_size=0.2,\n",
    "                                                    random_state = 99)"
   ],
   "id": "1e952de2564c33d3",
   "outputs": [],
   "execution_count": 79
  },
  {
   "metadata": {
    "ExecuteTime": {
     "end_time": "2024-04-15T08:56:51.691049Z",
     "start_time": "2024-04-15T08:56:51.646063Z"
    }
   },
   "cell_type": "code",
   "source": [
    "from sklearn.linear_model import LinearRegression\n",
    "import statsmodels.api as sm\n",
    "\n",
    "lin_reg = LinearRegression()\n",
    "lin_reg.fit(X_train, y_train)\n",
    "\n",
    "X_with_intercept = sm.add_constant(X_train)\n",
    "stats_model = sm.OLS(y_train, X_with_intercept)\n",
    "results = stats_model.fit()\n",
    "\n",
    "print(\"P-values:\")\n",
    "print(results.pvalues)\n"
   ],
   "id": "c37e91c5ba3487b9",
   "outputs": [
    {
     "name": "stdout",
     "output_type": "stream",
     "text": [
      "P-values:\n",
      "const          0.000000e+00\n",
      "education      7.398865e-15\n",
      "job            4.736404e-10\n",
      "debt           2.535996e-04\n",
      "age            1.603796e-12\n",
      "campaign       4.565386e-74\n",
      "pdays          9.350059e-35\n",
      "previous       1.233935e-02\n",
      "duration       2.032486e-01\n",
      "month          4.585310e-07\n",
      "day_of_week    1.024654e-01\n",
      "dtype: float64\n"
     ]
    }
   ],
   "execution_count": 80
  },
  {
   "metadata": {
    "ExecuteTime": {
     "end_time": "2024-04-15T08:56:51.706636Z",
     "start_time": "2024-04-15T08:56:51.692872Z"
    }
   },
   "cell_type": "code",
   "source": [
    "coeff_df = pd.DataFrame(lin_reg.coef_, numeric_X.columns, columns=['Coefficient'])\n",
    "coeff_df"
   ],
   "id": "fdd82511b1a73d7",
   "outputs": [
    {
     "data": {
      "text/plain": [
       "             Coefficient\n",
       "education       0.021136\n",
       "job            -0.016847\n",
       "debt            0.009251\n",
       "age             0.018316\n",
       "campaign        0.047631\n",
       "pdays          -0.039107\n",
       "previous       -0.007994\n",
       "duration       -0.003957\n",
       "month           0.012616\n",
       "day_of_week     0.004034"
      ],
      "text/html": [
       "<div>\n",
       "<style scoped>\n",
       "    .dataframe tbody tr th:only-of-type {\n",
       "        vertical-align: middle;\n",
       "    }\n",
       "\n",
       "    .dataframe tbody tr th {\n",
       "        vertical-align: top;\n",
       "    }\n",
       "\n",
       "    .dataframe thead th {\n",
       "        text-align: right;\n",
       "    }\n",
       "</style>\n",
       "<table border=\"1\" class=\"dataframe\">\n",
       "  <thead>\n",
       "    <tr style=\"text-align: right;\">\n",
       "      <th></th>\n",
       "      <th>Coefficient</th>\n",
       "    </tr>\n",
       "  </thead>\n",
       "  <tbody>\n",
       "    <tr>\n",
       "      <th>education</th>\n",
       "      <td>0.021136</td>\n",
       "    </tr>\n",
       "    <tr>\n",
       "      <th>job</th>\n",
       "      <td>-0.016847</td>\n",
       "    </tr>\n",
       "    <tr>\n",
       "      <th>debt</th>\n",
       "      <td>0.009251</td>\n",
       "    </tr>\n",
       "    <tr>\n",
       "      <th>age</th>\n",
       "      <td>0.018316</td>\n",
       "    </tr>\n",
       "    <tr>\n",
       "      <th>campaign</th>\n",
       "      <td>0.047631</td>\n",
       "    </tr>\n",
       "    <tr>\n",
       "      <th>pdays</th>\n",
       "      <td>-0.039107</td>\n",
       "    </tr>\n",
       "    <tr>\n",
       "      <th>previous</th>\n",
       "      <td>-0.007994</td>\n",
       "    </tr>\n",
       "    <tr>\n",
       "      <th>duration</th>\n",
       "      <td>-0.003957</td>\n",
       "    </tr>\n",
       "    <tr>\n",
       "      <th>month</th>\n",
       "      <td>0.012616</td>\n",
       "    </tr>\n",
       "    <tr>\n",
       "      <th>day_of_week</th>\n",
       "      <td>0.004034</td>\n",
       "    </tr>\n",
       "  </tbody>\n",
       "</table>\n",
       "</div>"
      ]
     },
     "execution_count": 81,
     "metadata": {},
     "output_type": "execute_result"
    }
   ],
   "execution_count": 81
  },
  {
   "metadata": {
    "ExecuteTime": {
     "end_time": "2024-04-15T08:56:51.722184Z",
     "start_time": "2024-04-15T08:56:51.710233Z"
    }
   },
   "cell_type": "code",
   "source": "",
   "id": "16dfd494aa25cbd2",
   "outputs": [],
   "execution_count": 81
  }
 ],
 "metadata": {
  "kernelspec": {
   "display_name": "Python 3",
   "language": "python",
   "name": "python3"
  },
  "language_info": {
   "codemirror_mode": {
    "name": "ipython",
    "version": 2
   },
   "file_extension": ".py",
   "mimetype": "text/x-python",
   "name": "python",
   "nbconvert_exporter": "python",
   "pygments_lexer": "ipython2",
   "version": "2.7.6"
  }
 },
 "nbformat": 4,
 "nbformat_minor": 5
}
