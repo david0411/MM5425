{
 "cells": [
  {
   "metadata": {
    "ExecuteTime": {
     "end_time": "2024-04-16T03:40:57.330280Z",
     "start_time": "2024-04-16T03:40:57.312280Z"
    }
   },
   "cell_type": "code",
   "source": [
    "import pandas as pd\n",
    "import numpy as np"
   ],
   "id": "9170aabd5c1bfa4a",
   "outputs": [],
   "execution_count": 23
  },
  {
   "metadata": {
    "ExecuteTime": {
     "end_time": "2024-04-16T03:40:57.377280Z",
     "start_time": "2024-04-16T03:40:57.331281Z"
    }
   },
   "cell_type": "code",
   "source": "df=pd.read_csv('../data/processed_train_filled.csv')",
   "id": "35f9ab30b59c5596",
   "outputs": [],
   "execution_count": 24
  },
  {
   "metadata": {
    "ExecuteTime": {
     "end_time": "2024-04-16T03:40:57.409280Z",
     "start_time": "2024-04-16T03:40:57.378280Z"
    }
   },
   "cell_type": "code",
   "source": [
    "edu_df = df['education'].map({'illiterate':0,'basic.4y':1,'basic.6y':2,'basic.9y':3,\n",
    "                                  'high.school':4,'professional.course':5,'university.degree':6})\n",
    "job_df = df['job'].map({'unemployed': 0,'student': 0,'retired': 0,'housemaid': 0,'entrepreneur': 1,\n",
    "                              'self-employed': 1,'blue-collar': 2,'services': 3,'technician': 4,'admin.': 5,'management': 5})\n",
    "def_df = df['default'].map({'yes':1,'no':0})\n",
    "housing_df = df['housing'].map({'yes':1,'no':0})\n",
    "loan_df = df['loan'].map({'yes':1,'no':0})\n",
    "debt_df = pd.DataFrame(columns=['debt'])\n",
    "debt_df['debt'] = def_df + housing_df + loan_df\n",
    "train_df = pd.concat([edu_df, job_df, debt_df], axis=1)"
   ],
   "id": "53f77bfcc2142db",
   "outputs": [],
   "execution_count": 25
  },
  {
   "metadata": {
    "ExecuteTime": {
     "end_time": "2024-04-16T03:40:57.425280Z",
     "start_time": "2024-04-16T03:40:57.412281Z"
    }
   },
   "cell_type": "code",
   "source": [
    "mon_df = df['month'].map({'mar':3, 'apr':4, 'may':5, 'jun':6, 'jul':7, 'aug':8, 'sep':9, 'oct':10, 'nov':11, 'dec':12})\n",
    "day_df = df['day_of_week'].map({'mon':1, 'tue':2, 'wed':3, 'thu':4, 'fri':5})\n",
    "train_df = pd.concat([train_df, mon_df, day_df], axis=1)"
   ],
   "id": "cfe14b5d159b2611",
   "outputs": [],
   "execution_count": 26
  },
  {
   "metadata": {
    "ExecuteTime": {
     "end_time": "2024-04-16T03:40:57.441280Z",
     "start_time": "2024-04-16T03:40:57.428280Z"
    }
   },
   "cell_type": "code",
   "source": [
    "from sklearn import preprocessing\n",
    "scaler = preprocessing.StandardScaler()\n",
    "numeric_X = df[['age', 'campaign', 'pdays', 'previous', 'duration']]\n",
    "train_df = pd.concat([train_df, pd.DataFrame(scaler.fit_transform(numeric_X), columns = numeric_X.columns)], axis=1)\n",
    "train_df"
   ],
   "id": "896aba359e79a6c9",
   "outputs": [
    {
     "data": {
      "text/plain": [
       "       education  job  debt  month  day_of_week       age  campaign     pdays  \\\n",
       "0              5    5     2      8            1  0.876440 -0.327368 -2.024892   \n",
       "1              4    3     1      5            1  0.793699 -0.327368 -1.107256   \n",
       "2              3    2     0      4            3  0.628215 -0.465802  0.773898   \n",
       "3              4    1     3      8            5 -1.192102  3.133474  0.685193   \n",
       "4              6    5     0     11            2  0.379990 -0.327368 -1.633367   \n",
       "...          ...  ...   ...    ...          ...       ...       ...       ...   \n",
       "22495          4    5     0      8            5 -0.612910 -0.050501  0.461901   \n",
       "22496          4    5     1      8            5 -0.530168  1.472270 -0.737143   \n",
       "22497          5    5     1      5            4 -1.274843 -0.465802  0.055083   \n",
       "22498          4    0     1      5            2  1.372890  0.226367  0.657664   \n",
       "22499          3    2     1      4            5  0.297249 -0.465802  0.694369   \n",
       "\n",
       "       previous  duration  \n",
       "0      0.356261  2.425786  \n",
       "1      0.356261  2.491410  \n",
       "2     -0.164927 -0.680888  \n",
       "3     -0.686116 -0.549639  \n",
       "4      1.398639  1.418386  \n",
       "...         ...       ...  \n",
       "22495  0.877450  2.013890  \n",
       "22496  0.877450  1.423273  \n",
       "22497  1.919828  0.849411  \n",
       "22498 -0.686116 -0.398146  \n",
       "22499 -0.164927 -0.416995  \n",
       "\n",
       "[22500 rows x 10 columns]"
      ],
      "text/html": [
       "<div>\n",
       "<style scoped>\n",
       "    .dataframe tbody tr th:only-of-type {\n",
       "        vertical-align: middle;\n",
       "    }\n",
       "\n",
       "    .dataframe tbody tr th {\n",
       "        vertical-align: top;\n",
       "    }\n",
       "\n",
       "    .dataframe thead th {\n",
       "        text-align: right;\n",
       "    }\n",
       "</style>\n",
       "<table border=\"1\" class=\"dataframe\">\n",
       "  <thead>\n",
       "    <tr style=\"text-align: right;\">\n",
       "      <th></th>\n",
       "      <th>education</th>\n",
       "      <th>job</th>\n",
       "      <th>debt</th>\n",
       "      <th>month</th>\n",
       "      <th>day_of_week</th>\n",
       "      <th>age</th>\n",
       "      <th>campaign</th>\n",
       "      <th>pdays</th>\n",
       "      <th>previous</th>\n",
       "      <th>duration</th>\n",
       "    </tr>\n",
       "  </thead>\n",
       "  <tbody>\n",
       "    <tr>\n",
       "      <th>0</th>\n",
       "      <td>5</td>\n",
       "      <td>5</td>\n",
       "      <td>2</td>\n",
       "      <td>8</td>\n",
       "      <td>1</td>\n",
       "      <td>0.876440</td>\n",
       "      <td>-0.327368</td>\n",
       "      <td>-2.024892</td>\n",
       "      <td>0.356261</td>\n",
       "      <td>2.425786</td>\n",
       "    </tr>\n",
       "    <tr>\n",
       "      <th>1</th>\n",
       "      <td>4</td>\n",
       "      <td>3</td>\n",
       "      <td>1</td>\n",
       "      <td>5</td>\n",
       "      <td>1</td>\n",
       "      <td>0.793699</td>\n",
       "      <td>-0.327368</td>\n",
       "      <td>-1.107256</td>\n",
       "      <td>0.356261</td>\n",
       "      <td>2.491410</td>\n",
       "    </tr>\n",
       "    <tr>\n",
       "      <th>2</th>\n",
       "      <td>3</td>\n",
       "      <td>2</td>\n",
       "      <td>0</td>\n",
       "      <td>4</td>\n",
       "      <td>3</td>\n",
       "      <td>0.628215</td>\n",
       "      <td>-0.465802</td>\n",
       "      <td>0.773898</td>\n",
       "      <td>-0.164927</td>\n",
       "      <td>-0.680888</td>\n",
       "    </tr>\n",
       "    <tr>\n",
       "      <th>3</th>\n",
       "      <td>4</td>\n",
       "      <td>1</td>\n",
       "      <td>3</td>\n",
       "      <td>8</td>\n",
       "      <td>5</td>\n",
       "      <td>-1.192102</td>\n",
       "      <td>3.133474</td>\n",
       "      <td>0.685193</td>\n",
       "      <td>-0.686116</td>\n",
       "      <td>-0.549639</td>\n",
       "    </tr>\n",
       "    <tr>\n",
       "      <th>4</th>\n",
       "      <td>6</td>\n",
       "      <td>5</td>\n",
       "      <td>0</td>\n",
       "      <td>11</td>\n",
       "      <td>2</td>\n",
       "      <td>0.379990</td>\n",
       "      <td>-0.327368</td>\n",
       "      <td>-1.633367</td>\n",
       "      <td>1.398639</td>\n",
       "      <td>1.418386</td>\n",
       "    </tr>\n",
       "    <tr>\n",
       "      <th>...</th>\n",
       "      <td>...</td>\n",
       "      <td>...</td>\n",
       "      <td>...</td>\n",
       "      <td>...</td>\n",
       "      <td>...</td>\n",
       "      <td>...</td>\n",
       "      <td>...</td>\n",
       "      <td>...</td>\n",
       "      <td>...</td>\n",
       "      <td>...</td>\n",
       "    </tr>\n",
       "    <tr>\n",
       "      <th>22495</th>\n",
       "      <td>4</td>\n",
       "      <td>5</td>\n",
       "      <td>0</td>\n",
       "      <td>8</td>\n",
       "      <td>5</td>\n",
       "      <td>-0.612910</td>\n",
       "      <td>-0.050501</td>\n",
       "      <td>0.461901</td>\n",
       "      <td>0.877450</td>\n",
       "      <td>2.013890</td>\n",
       "    </tr>\n",
       "    <tr>\n",
       "      <th>22496</th>\n",
       "      <td>4</td>\n",
       "      <td>5</td>\n",
       "      <td>1</td>\n",
       "      <td>8</td>\n",
       "      <td>5</td>\n",
       "      <td>-0.530168</td>\n",
       "      <td>1.472270</td>\n",
       "      <td>-0.737143</td>\n",
       "      <td>0.877450</td>\n",
       "      <td>1.423273</td>\n",
       "    </tr>\n",
       "    <tr>\n",
       "      <th>22497</th>\n",
       "      <td>5</td>\n",
       "      <td>5</td>\n",
       "      <td>1</td>\n",
       "      <td>5</td>\n",
       "      <td>4</td>\n",
       "      <td>-1.274843</td>\n",
       "      <td>-0.465802</td>\n",
       "      <td>0.055083</td>\n",
       "      <td>1.919828</td>\n",
       "      <td>0.849411</td>\n",
       "    </tr>\n",
       "    <tr>\n",
       "      <th>22498</th>\n",
       "      <td>4</td>\n",
       "      <td>0</td>\n",
       "      <td>1</td>\n",
       "      <td>5</td>\n",
       "      <td>2</td>\n",
       "      <td>1.372890</td>\n",
       "      <td>0.226367</td>\n",
       "      <td>0.657664</td>\n",
       "      <td>-0.686116</td>\n",
       "      <td>-0.398146</td>\n",
       "    </tr>\n",
       "    <tr>\n",
       "      <th>22499</th>\n",
       "      <td>3</td>\n",
       "      <td>2</td>\n",
       "      <td>1</td>\n",
       "      <td>4</td>\n",
       "      <td>5</td>\n",
       "      <td>0.297249</td>\n",
       "      <td>-0.465802</td>\n",
       "      <td>0.694369</td>\n",
       "      <td>-0.164927</td>\n",
       "      <td>-0.416995</td>\n",
       "    </tr>\n",
       "  </tbody>\n",
       "</table>\n",
       "<p>22500 rows × 10 columns</p>\n",
       "</div>"
      ]
     },
     "execution_count": 27,
     "metadata": {},
     "output_type": "execute_result"
    }
   ],
   "execution_count": 27
  },
  {
   "metadata": {
    "ExecuteTime": {
     "end_time": "2024-04-16T03:40:57.457280Z",
     "start_time": "2024-04-16T03:40:57.442281Z"
    }
   },
   "cell_type": "code",
   "source": "y = df['subscribe'].map({'yes':1,'no':0})",
   "id": "d33de58f43e1221a",
   "outputs": [],
   "execution_count": 28
  },
  {
   "metadata": {
    "ExecuteTime": {
     "end_time": "2024-04-16T03:40:57.473280Z",
     "start_time": "2024-04-16T03:40:57.458280Z"
    }
   },
   "cell_type": "code",
   "source": [
    "# import train_test split\n",
    "from sklearn.model_selection import train_test_split\n",
    "# split data into train and test, 80% in training and 20% in testing\n",
    "X_train, X_test, y_train, y_test = train_test_split(train_df, y, test_size=0.2,\n",
    "                                                    random_state = 99)"
   ],
   "id": "1e952de2564c33d3",
   "outputs": [],
   "execution_count": 29
  },
  {
   "metadata": {
    "ExecuteTime": {
     "end_time": "2024-04-16T03:40:57.489280Z",
     "start_time": "2024-04-16T03:40:57.474280Z"
    }
   },
   "cell_type": "code",
   "source": [
    "from sklearn.linear_model import LinearRegression\n",
    "import statsmodels.api as sm\n",
    "\n",
    "lin_reg = LinearRegression()\n",
    "lin_reg.fit(X_train, y_train)\n",
    "\n",
    "X_with_intercept = sm.add_constant(X_train)\n",
    "stats_model = sm.OLS(y_train, X_with_intercept)\n",
    "results = stats_model.fit()\n",
    "\n",
    "print(\"P-values:\")\n",
    "print(results.pvalues)\n"
   ],
   "id": "c37e91c5ba3487b9",
   "outputs": [
    {
     "name": "stdout",
     "output_type": "stream",
     "text": [
      "P-values:\n",
      "const          1.374752e-05\n",
      "education      7.398865e-15\n",
      "job            4.736404e-10\n",
      "debt           2.535996e-04\n",
      "month          4.585310e-07\n",
      "day_of_week    1.024654e-01\n",
      "age            1.603796e-12\n",
      "campaign       4.565386e-74\n",
      "pdays          9.350059e-35\n",
      "previous       1.233935e-02\n",
      "duration       2.032486e-01\n",
      "dtype: float64\n"
     ]
    }
   ],
   "execution_count": 30
  },
  {
   "metadata": {
    "ExecuteTime": {
     "end_time": "2024-04-16T03:40:57.505280Z",
     "start_time": "2024-04-16T03:40:57.490280Z"
    }
   },
   "cell_type": "code",
   "source": [
    "coeff_df = pd.DataFrame(lin_reg.coef_, train_df.columns, columns=['Coefficient'])\n",
    "coeff_df"
   ],
   "id": "fdd82511b1a73d7",
   "outputs": [
    {
     "data": {
      "text/plain": [
       "             Coefficient\n",
       "education       0.012509\n",
       "job            -0.009499\n",
       "debt            0.013943\n",
       "month           0.005996\n",
       "day_of_week     0.002861\n",
       "age             0.018316\n",
       "campaign        0.047631\n",
       "pdays          -0.039107\n",
       "previous       -0.007994\n",
       "duration       -0.003957"
      ],
      "text/html": [
       "<div>\n",
       "<style scoped>\n",
       "    .dataframe tbody tr th:only-of-type {\n",
       "        vertical-align: middle;\n",
       "    }\n",
       "\n",
       "    .dataframe tbody tr th {\n",
       "        vertical-align: top;\n",
       "    }\n",
       "\n",
       "    .dataframe thead th {\n",
       "        text-align: right;\n",
       "    }\n",
       "</style>\n",
       "<table border=\"1\" class=\"dataframe\">\n",
       "  <thead>\n",
       "    <tr style=\"text-align: right;\">\n",
       "      <th></th>\n",
       "      <th>Coefficient</th>\n",
       "    </tr>\n",
       "  </thead>\n",
       "  <tbody>\n",
       "    <tr>\n",
       "      <th>education</th>\n",
       "      <td>0.012509</td>\n",
       "    </tr>\n",
       "    <tr>\n",
       "      <th>job</th>\n",
       "      <td>-0.009499</td>\n",
       "    </tr>\n",
       "    <tr>\n",
       "      <th>debt</th>\n",
       "      <td>0.013943</td>\n",
       "    </tr>\n",
       "    <tr>\n",
       "      <th>month</th>\n",
       "      <td>0.005996</td>\n",
       "    </tr>\n",
       "    <tr>\n",
       "      <th>day_of_week</th>\n",
       "      <td>0.002861</td>\n",
       "    </tr>\n",
       "    <tr>\n",
       "      <th>age</th>\n",
       "      <td>0.018316</td>\n",
       "    </tr>\n",
       "    <tr>\n",
       "      <th>campaign</th>\n",
       "      <td>0.047631</td>\n",
       "    </tr>\n",
       "    <tr>\n",
       "      <th>pdays</th>\n",
       "      <td>-0.039107</td>\n",
       "    </tr>\n",
       "    <tr>\n",
       "      <th>previous</th>\n",
       "      <td>-0.007994</td>\n",
       "    </tr>\n",
       "    <tr>\n",
       "      <th>duration</th>\n",
       "      <td>-0.003957</td>\n",
       "    </tr>\n",
       "  </tbody>\n",
       "</table>\n",
       "</div>"
      ]
     },
     "execution_count": 31,
     "metadata": {},
     "output_type": "execute_result"
    }
   ],
   "execution_count": 31
  },
  {
   "metadata": {
    "ExecuteTime": {
     "end_time": "2024-04-16T03:40:57.521280Z",
     "start_time": "2024-04-16T03:40:57.506280Z"
    }
   },
   "cell_type": "code",
   "source": "",
   "id": "16dfd494aa25cbd2",
   "outputs": [],
   "execution_count": 31
  }
 ],
 "metadata": {
  "kernelspec": {
   "display_name": "Python 3",
   "language": "python",
   "name": "python3"
  },
  "language_info": {
   "codemirror_mode": {
    "name": "ipython",
    "version": 2
   },
   "file_extension": ".py",
   "mimetype": "text/x-python",
   "name": "python",
   "nbconvert_exporter": "python",
   "pygments_lexer": "ipython2",
   "version": "2.7.6"
  }
 },
 "nbformat": 4,
 "nbformat_minor": 5
}
