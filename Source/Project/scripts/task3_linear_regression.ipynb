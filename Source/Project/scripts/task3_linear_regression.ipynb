{
 "cells": [
  {
   "metadata": {},
   "cell_type": "code",
   "source": [
    "import pandas as pd\n",
    "import numpy as np"
   ],
   "id": "9170aabd5c1bfa4a",
   "outputs": [],
   "execution_count": null
  },
  {
   "metadata": {},
   "cell_type": "code",
   "source": "df=pd.read_csv('../data/processed_train_filled.csv')",
   "id": "35f9ab30b59c5596",
   "outputs": [],
   "execution_count": null
  },
  {
   "metadata": {},
   "cell_type": "code",
   "source": [
    "edu_df = df['education'].map({'illiterate':0,'basic.4y':1,'basic.6y':2,'basic.9y':3,\n",
    "                                  'high.school':4,'professional.course':5,'university.degree':6})\n",
    "job_df = df['job'].map({'unemployed': 0,'student': 0,'retired': 0,'housemaid': 0,'entrepreneur': 1,\n",
    "                              'self-employed': 1,'blue-collar': 2,'services': 3,'technician': 4,'admin.': 5,'management': 5})\n",
    "def_df = df['default'].map({'yes':1,'no':0})\n",
    "housing_df = df['housing'].map({'yes':1,'no':0})\n",
    "loan_df = df['loan'].map({'yes':1,'no':0})\n",
    "debt_df = pd.DataFrame(columns=['debt'])\n",
    "debt_df['debt'] = def_df + housing_df + loan_df\n",
    "train_df = pd.concat([edu_df, job_df, debt_df], axis=1)"
   ],
   "id": "53f77bfcc2142db",
   "outputs": [],
   "execution_count": null
  },
  {
   "metadata": {},
   "cell_type": "code",
   "source": [
    "mon_df = df['month'].map({'mar':3, 'apr':4, 'may':5, 'jun':6, 'jul':7, 'aug':8, 'sep':9, 'oct':10, 'nov':11, 'dec':12})\n",
    "day_df = df['day_of_week'].map({'mon':1, 'tue':2, 'wed':3, 'thu':4, 'fri':5})\n",
    "train_df = pd.concat([train_df, mon_df, day_df], axis=1)"
   ],
   "id": "cfe14b5d159b2611",
   "outputs": [],
   "execution_count": null
  },
  {
   "metadata": {},
   "cell_type": "code",
   "source": [
    "from sklearn import preprocessing\n",
    "scaler = preprocessing.StandardScaler()\n",
    "numeric_X = df[['age', 'campaign', 'pdays', 'previous', 'duration']]\n",
    "train_df = pd.concat([train_df, pd.DataFrame(scaler.fit_transform(numeric_X), columns = numeric_X.columns)], axis=1)\n",
    "train_df"
   ],
   "id": "896aba359e79a6c9",
   "outputs": [],
   "execution_count": null
  },
  {
   "metadata": {},
   "cell_type": "code",
   "source": "y = df['subscribe'].map({'yes':1,'no':0})",
   "id": "d33de58f43e1221a",
   "outputs": [],
   "execution_count": null
  },
  {
   "metadata": {},
   "cell_type": "code",
   "source": [
    "# import train_test split\n",
    "from sklearn.model_selection import train_test_split\n",
    "# split data into train and test, 80% in training and 20% in testing\n",
    "X_train, X_test, y_train, y_test = train_test_split(train_df, y, test_size=0.2,\n",
    "                                                    random_state = 99)"
   ],
   "id": "1e952de2564c33d3",
   "outputs": [],
   "execution_count": null
  },
  {
   "metadata": {},
   "cell_type": "code",
   "source": [
    "from sklearn.linear_model import LinearRegression\n",
    "import statsmodels.api as sm\n",
    "\n",
    "lin_reg = LinearRegression()\n",
    "lin_reg.fit(X_train, y_train)\n",
    "\n",
    "X_with_intercept = sm.add_constant(X_train)\n",
    "stats_model = sm.OLS(y_train, X_with_intercept)\n",
    "results = stats_model.fit()\n",
    "\n",
    "print(\"P-values:\")\n",
    "print(results.pvalues)\n"
   ],
   "id": "c37e91c5ba3487b9",
   "outputs": [],
   "execution_count": null
  },
  {
   "metadata": {},
   "cell_type": "code",
   "source": [
    "coeff_df = pd.DataFrame(lin_reg.coef_, train_df.columns, columns=['Coefficient'])\n",
    "coeff_df"
   ],
   "id": "fdd82511b1a73d7",
   "outputs": [],
   "execution_count": null
  },
  {
   "metadata": {},
   "cell_type": "code",
   "source": "",
   "id": "16dfd494aa25cbd2",
   "outputs": [],
   "execution_count": null
  }
 ],
 "metadata": {
  "kernelspec": {
   "display_name": "Python 3",
   "language": "python",
   "name": "python3"
  },
  "language_info": {
   "codemirror_mode": {
    "name": "ipython",
    "version": 2
   },
   "file_extension": ".py",
   "mimetype": "text/x-python",
   "name": "python",
   "nbconvert_exporter": "python",
   "pygments_lexer": "ipython2",
   "version": "2.7.6"
  }
 },
 "nbformat": 4,
 "nbformat_minor": 5
}
